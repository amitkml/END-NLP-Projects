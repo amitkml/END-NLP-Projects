{
  "nbformat": 4,
  "nbformat_minor": 0,
  "metadata": {
    "colab": {
      "name": "tokenizer_summary.ipynb",
      "provenance": []
    }
  },
  "cells": [
    {
      "cell_type": "code",
      "metadata": {
        "id": "FNb3OeWSEoJn"
      },
      "source": [
        "# Transformers installation\n",
        "! pip install transformers\n",
        "# To install from source instead of the last release, comment the command above and uncomment the following one.\n",
        "# ! pip install git+https://github.com/huggingface/transformers.git\n"
      ],
      "execution_count": null,
      "outputs": []
    },
    {
      "cell_type": "markdown",
      "metadata": {
        "id": "4vwpD39HEoJt"
      },
      "source": [
        "# Summary of the tokenizers"
      ]
    },
    {
      "cell_type": "markdown",
      "metadata": {
        "id": "PX5cCq85EoJx"
      },
      "source": [
        "On this page, we will have a closer look at tokenization. As we saw in [the preprocessing tutorial](https://huggingface.co/transformers/preprocessing.html), tokenizing a text is splitting it into words or subwords, which then are converted to ids through a\n",
        "look-up table. Converting words or subwords to ids is straightforward, so in this summary, we will focus on splitting a\n",
        "text into words or subwords (i.e. tokenizing a text). More specifically, we will look at the three main types of\n",
        "tokenizers used in 🤗 Transformers: [Byte-Pair Encoding (BPE)](#byte-pair-encoding), [WordPiece](#wordpiece),\n",
        "and [SentencePiece](#sentencepiece), and show examples of which tokenizer type is used by which model.\n",
        "\n",
        "Note that on each model page, you can look at the documentation of the associated tokenizer to know which tokenizer\n",
        "type was used by the pretrained model. For instance, if we look at `BertTokenizer`, we can see\n",
        "that the model uses [WordPiece](#wordpiece)."
      ]
    },
    {
      "cell_type": "markdown",
      "metadata": {
        "id": "nRKzHsdXEoJz"
      },
      "source": [
        "## Introduction"
      ]
    },
    {
      "cell_type": "markdown",
      "metadata": {
        "id": "7WeSdK8UEoJz"
      },
      "source": [
        "Splitting a text into smaller chunks is a task that is harder than it looks, and there are multiple ways of doing so.\n",
        "For instance, let's look at the sentence `\"Don't you love 🤗 Transformers? We sure do.\"` A simple way of tokenizing\n",
        "this text is to split it by spaces, which would give:"
      ]
    },
    {
      "cell_type": "code",
      "metadata": {
        "id": "zuPEn8OUEoJ0"
      },
      "source": [
        "[\"Don't\", \"you\", \"love\", \"🤗\", \"Transformers?\", \"We\", \"sure\", \"do.\"]"
      ],
      "execution_count": null,
      "outputs": []
    },
    {
      "cell_type": "markdown",
      "metadata": {
        "id": "vjYkArStEoJ0"
      },
      "source": [
        "This is a sensible first step, but if we look at the tokens `\"Transformers?\"` and `\"do.\"`, we notice that the\n",
        "punctuation is attached to the words `\"Transformer\"` and `\"do\"`, which is suboptimal. We should take the\n",
        "punctuation into account so that a model does not have to learn a different representation of a word and every possible\n",
        "punctuation symbol that could follow it, which would explode the number of representations the model has to learn.\n",
        "Taking punctuation into account, tokenizing our exemplary text would give:"
      ]
    },
    {
      "cell_type": "code",
      "metadata": {
        "id": "B0EaO8rPEoJ0"
      },
      "source": [
        "[\"Don\", \"'\", \"t\", \"you\", \"love\", \"🤗\", \"Transformers\", \"?\", \"We\", \"sure\", \"do\", \".\"]"
      ],
      "execution_count": null,
      "outputs": []
    },
    {
      "cell_type": "markdown",
      "metadata": {
        "id": "URjlIJ1EEoJ0"
      },
      "source": [
        "Better. However, it is disadvantageous, how the tokenization dealt with the word `\"Don't\"`. `\"Don't\"` stands for\n",
        "`\"do not\"`, so it would be better tokenized as `[\"Do\", \"n't\"]`. This is where things start getting complicated, and\n",
        "part of the reason each model has its own tokenizer type. Depending on the rules we apply for tokenizing a text, a\n",
        "different tokenized output is generated for the same text. A pretrained model only performs properly if you feed it an\n",
        "input that was tokenized with the same rules that were used to tokenize its training data.\n",
        "\n",
        "[spaCy](https://spacy.io/) and [Moses](http://www.statmt.org/moses/?n=Development.GetStarted) are two popular\n",
        "rule-based tokenizers. Applying them on our example, **spaCy** and **Moses** would output something like:"
      ]
    },
    {
      "cell_type": "code",
      "metadata": {
        "id": "pkb1PTabEoJ1"
      },
      "source": [
        "[\"Do\", \"n't\", \"you\", \"love\", \"🤗\", \"Transformers\", \"?\", \"We\", \"sure\", \"do\", \".\"]"
      ],
      "execution_count": null,
      "outputs": []
    },
    {
      "cell_type": "markdown",
      "metadata": {
        "id": "vs_OdWDxEoJ1"
      },
      "source": [
        "As can be seen space and punctuation tokenization, as well as rule-based tokenization, is used here. Space and\n",
        "punctuation tokenization and rule-based tokenization are both examples of word tokenization, which is loosely defined\n",
        "as splitting sentences into words. While it's the most intuitive way to split texts into smaller chunks, this\n",
        "tokenization method can lead to problems for massive text corpora. In this case, space and punctuation tokenization\n",
        "usually generates a very big vocabulary (the set of all unique words and tokens used). **E.g.**, [Transformer XL](https://huggingface.co/transformers/model_doc/transformerxl.html) uses space and punctuation tokenization, resulting in a vocabulary size of 267,735!\n",
        "\n",
        "Such a big vocabulary size forces the model to have an enormous embedding matrix as the input and output layer, which\n",
        "causes both an increased memory and time complexity. In general, transformers models rarely have a vocabulary size\n",
        "greater than 50,000, especially if they are pretrained only on a single language.\n",
        "\n",
        "So if simple space and punctuation tokenization is unsatisfactory, why not simply tokenize on characters? While\n",
        "character tokenization is very simple and would greatly reduce memory and time complexity it makes it much harder for\n",
        "the model to learn meaningful input representations. **E.g.** learning a meaningful context-independent representation\n",
        "for the letter `\"t\"` is much harder than learning a context-independent representation for the word `\"today\"`.\n",
        "Therefore, character tokenization is often accompanied by a loss of performance. So to get the best of both worlds,\n",
        "transformers models use a hybrid between word-level and character-level tokenization called ***subword*** tokenization."
      ]
    },
    {
      "cell_type": "markdown",
      "metadata": {
        "id": "CGAc1l0fEoJ2"
      },
      "source": [
        "### Subword tokenization"
      ]
    },
    {
      "cell_type": "markdown",
      "metadata": {
        "id": "WfyCQMDQEoJ2"
      },
      "source": [
        "Subword tokenization algorithms rely on the principle that frequently used words should not be split into smaller\n",
        "subwords, but rare words should be decomposed into meaningful subwords. For instance `\"annoyingly\"` might be\n",
        "considered a rare word and could be decomposed into `\"annoying\"` and `\"ly\"`. Both `\"annoying\"` and `\"ly\"` as\n",
        "stand-alone subwords would appear more frequently while at the same time the meaning of `\"annoyingly\"` is kept by the\n",
        "composite meaning of `\"annoying\"` and `\"ly\"`. This is especially useful in agglutinative languages such as Turkish,\n",
        "where you can form (almost) arbitrarily long complex words by stringing together subwords.\n",
        "\n",
        "Subword tokenization allows the model to have a reasonable vocabulary size while being able to learn meaningful\n",
        "context-independent representations. In addition, subword tokenization enables the model to process words it has never\n",
        "seen before, by decomposing them into known subwords. For instance, the `BertTokenizer` tokenizes\n",
        "`\"I have a new GPU!\"` as follows:"
      ]
    },
    {
      "cell_type": "code",
      "metadata": {
        "id": "FLjFDJzLEoJ2",
        "outputId": "77fe7749-44fe-434a-bf40-2454dbcce62a"
      },
      "source": [
        "from transformers import BertTokenizer\n",
        "tokenizer = BertTokenizer.from_pretrained(\"bert-base-uncased\")\n",
        "tokenizer.tokenize(\"I have a new GPU!\")"
      ],
      "execution_count": null,
      "outputs": [
        {
          "output_type": "execute_result",
          "data": {
            "text/plain": [
              "[\"i\", \"have\", \"a\", \"new\", \"gp\", \"##u\", \"!\"]"
            ]
          },
          "metadata": {
            "tags": []
          },
          "execution_count": 0
        }
      ]
    },
    {
      "cell_type": "markdown",
      "metadata": {
        "id": "0RiTfeUmEoJ4"
      },
      "source": [
        "Because we are considering the uncased model, the sentence was lowercased first. We can see that the words `[\"i\",\n",
        "\"have\", \"a\", \"new\"]` are present in the tokenizer's vocabulary, but the word `\"gpu\"` is not. Consequently, the\n",
        "tokenizer splits `\"gpu\"` into known subwords: `[\"gp\" and \"##u\"]`. `\"##\"` means that the rest of the token should\n",
        "be attached to the previous one, without space (for decoding or reversal of the tokenization).\n",
        "\n",
        "As another example, `XLNetTokenizer` tokenizes our previously exemplary text as follows:"
      ]
    },
    {
      "cell_type": "code",
      "metadata": {
        "id": "g6bN1x1eEoJ4",
        "outputId": "f7018c82-38be-45fb-b0ec-062ec2a7d810"
      },
      "source": [
        "from transformers import XLNetTokenizer\n",
        "tokenizer = XLNetTokenizer.from_pretrained(\"xlnet-base-cased\")\n",
        "tokenizer.tokenize(\"Don't you love 🤗 Transformers? We sure do.\")"
      ],
      "execution_count": null,
      "outputs": [
        {
          "output_type": "execute_result",
          "data": {
            "text/plain": [
              "[\"▁Don\", \"'\", \"t\", \"▁you\", \"▁love\", \"▁\", \"🤗\", \"▁\", \"Transform\", \"ers\", \"?\", \"▁We\", \"▁sure\", \"▁do\", \".\"]"
            ]
          },
          "metadata": {
            "tags": []
          },
          "execution_count": 0
        }
      ]
    },
    {
      "cell_type": "markdown",
      "metadata": {
        "id": "ptaPtlZYEoJ4"
      },
      "source": [
        "We'll get back to the meaning of those `\"▁\"` when we look at [SentencePiece](#sentencepiece). As one can see,\n",
        "the rare word `\"Transformers\"` has been split into the more frequent subwords `\"Transform\"` and `\"ers\"`.\n",
        "\n",
        "Let's now look at how the different subword tokenization algorithms work. Note that all of those tokenization\n",
        "algorithms rely on some form of training which is usually done on the corpus the corresponding model will be trained\n",
        "on."
      ]
    },
    {
      "cell_type": "markdown",
      "metadata": {
        "id": "tZXJgfeMEoJ5"
      },
      "source": [
        "<a id='byte-pair-encoding'></a>"
      ]
    },
    {
      "cell_type": "markdown",
      "metadata": {
        "id": "4oAJGKeDEoJ5"
      },
      "source": [
        "## Byte-Pair Encoding (BPE)"
      ]
    },
    {
      "cell_type": "markdown",
      "metadata": {
        "id": "C8W-uHGNEoJ5"
      },
      "source": [
        "Byte-Pair Encoding (BPE) was introduced in [Neural Machine Translation of Rare Words with Subword Units (Sennrich et\n",
        "al., 2015)](https://arxiv.org/abs/1508.07909). BPE relies on a pre-tokenizer that splits the training data into\n",
        "words. Pretokenization can be as simple as space tokenization, e.g. [GPT-2](https://huggingface.co/transformers/model_doc/gpt2.html), [Roberta](https://huggingface.co/transformers/model_doc/roberta.html). More advanced pre-tokenization include rule-based tokenization, e.g. [XLM](https://huggingface.co/transformers/model_doc/xlm.html),\n",
        "[FlauBERT](https://huggingface.co/transformers/model_doc/flaubert.html) which uses Moses for most languages, or [GPT](https://huggingface.co/transformers/model_doc/gpt.html) which uses\n",
        "Spacy and ftfy, to count the frequency of each word in the training corpus.\n",
        "\n",
        "After pre-tokenization, a set of unique words has been created and the frequency of each word it occurred in the\n",
        "training data has been determined. Next, BPE creates a base vocabulary consisting of all symbols that occur in the set\n",
        "of unique words and learns merge rules to form a new symbol from two symbols of the base vocabulary. It does so until\n",
        "the vocabulary has attained the desired vocabulary size. Note that the desired vocabulary size is a hyperparameter to\n",
        "define before training the tokenizer.\n",
        "\n",
        "As an example, let's assume that after pre-tokenization, the following set of words including their frequency has been\n",
        "determined:"
      ]
    },
    {
      "cell_type": "code",
      "metadata": {
        "id": "7bEZvIkCEoJ5"
      },
      "source": [
        "(\"hug\", 10), (\"pug\", 5), (\"pun\", 12), (\"bun\", 4), (\"hugs\", 5)"
      ],
      "execution_count": null,
      "outputs": []
    },
    {
      "cell_type": "markdown",
      "metadata": {
        "id": "Q-3sENOpEoJ5"
      },
      "source": [
        "Consequently, the base vocabulary is `[\"b\", \"g\", \"h\", \"n\", \"p\", \"s\", \"u\"]`. Splitting all words into symbols of the\n",
        "base vocabulary, we obtain:"
      ]
    },
    {
      "cell_type": "code",
      "metadata": {
        "id": "Sr2ClBdcEoJ6"
      },
      "source": [
        "(\"h\" \"u\" \"g\", 10), (\"p\" \"u\" \"g\", 5), (\"p\" \"u\" \"n\", 12), (\"b\" \"u\" \"n\", 4), (\"h\" \"u\" \"g\" \"s\", 5)"
      ],
      "execution_count": null,
      "outputs": []
    },
    {
      "cell_type": "markdown",
      "metadata": {
        "id": "8k3JFRaLEoJ6"
      },
      "source": [
        "BPE then counts the frequency of each possible symbol pair and picks the symbol pair that occurs most frequently. In\n",
        "the example above `\"h\"` followed by `\"u\"` is present *10 + 5 = 15* times (10 times in the 10 occurrences of\n",
        "`\"hug\"`, 5 times in the 5 occurrences of \"hugs\"). However, the most frequent symbol pair is `\"u\"` followed by \"g\",\n",
        "occurring *10 + 5 + 5 = 20* times in total. Thus, the first merge rule the tokenizer learns is to group all `\"u\"`\n",
        "symbols followed by a `\"g\"` symbol together. Next, \"ug\" is added to the vocabulary. The set of words then becomes"
      ]
    },
    {
      "cell_type": "code",
      "metadata": {
        "id": "Gcsj5JcVEoJ6"
      },
      "source": [
        "(\"h\" \"ug\", 10), (\"p\" \"ug\", 5), (\"p\" \"u\" \"n\", 12), (\"b\" \"u\" \"n\", 4), (\"h\" \"ug\" \"s\", 5)"
      ],
      "execution_count": null,
      "outputs": []
    },
    {
      "cell_type": "markdown",
      "metadata": {
        "id": "fhoJJArkEoJ6"
      },
      "source": [
        "BPE then identifies the next most common symbol pair. It's `\"u\"` followed by `\"n\"`, which occurs 16 times. `\"u\"`,\n",
        "`\"n\"` is merged to `\"un\"` and added to the vocabulary. The next most frequent symbol pair is `\"h\"` followed by\n",
        "`\"ug\"`, occurring 15 times. Again the pair is merged and `\"hug\"` can be added to the vocabulary.\n",
        "\n",
        "At this stage, the vocabulary is `[\"b\", \"g\", \"h\", \"n\", \"p\", \"s\", \"u\", \"ug\", \"un\", \"hug\"]` and our set of unique words\n",
        "is represented as"
      ]
    },
    {
      "cell_type": "code",
      "metadata": {
        "id": "x0bQRcKfEoJ7"
      },
      "source": [
        "(\"hug\", 10), (\"p\" \"ug\", 5), (\"p\" \"un\", 12), (\"b\" \"un\", 4), (\"hug\" \"s\", 5)"
      ],
      "execution_count": null,
      "outputs": []
    },
    {
      "cell_type": "markdown",
      "metadata": {
        "id": "sBFoKtigEoJ7"
      },
      "source": [
        "Assuming, that the Byte-Pair Encoding training would stop at this point, the learned merge rules would then be applied\n",
        "to new words (as long as those new words do not include symbols that were not in the base vocabulary). For instance,\n",
        "the word `\"bug\"` would be tokenized to `[\"b\", \"ug\"]` but `\"mug\"` would be tokenized as `[\"<unk>\", \"ug\"]` since\n",
        "the symbol `\"m\"` is not in the base vocabulary. In general, single letters such as `\"m\"` are not replaced by the\n",
        "`\"<unk>\"` symbol because the training data usually includes at least one occurrence of each letter, but it is likely\n",
        "to happen for very special characters like emojis.\n",
        "\n",
        "As mentioned earlier, the vocabulary size, **i.e.** the base vocabulary size + the number of merges, is a hyperparameter\n",
        "to choose. For instance [GPT](https://huggingface.co/transformers/model_doc/gpt.html) has a vocabulary size of 40,478 since they have 478 base characters\n",
        "and chose to stop training after 40,000 merges."
      ]
    },
    {
      "cell_type": "markdown",
      "metadata": {
        "id": "K7WxVrUEEoJ7"
      },
      "source": [
        "### Byte-level BPE"
      ]
    },
    {
      "cell_type": "markdown",
      "metadata": {
        "id": "NJcQQtOpEoJ8"
      },
      "source": [
        "A base vocabulary that includes all possible base characters can be quite large if **e.g.** all unicode characters are\n",
        "considered as base characters. To have a better base vocabulary, [GPT-2](https://cdn.openai.com/better-language-models/language_models_are_unsupervised_multitask_learners.pdf) uses bytes\n",
        "as the base vocabulary, which is a clever trick to force the base vocabulary to be of size 256 while ensuring that\n",
        "every base character is included in the vocabulary. With some additional rules to deal with punctuation, the GPT2's\n",
        "tokenizer can tokenize every text without the need for the <unk> symbol. [GPT-2](https://huggingface.co/transformers/model_doc/gpt.html) has a vocabulary\n",
        "size of 50,257, which corresponds to the 256 bytes base tokens, a special end-of-text token and the symbols learned\n",
        "with 50,000 merges."
      ]
    },
    {
      "cell_type": "markdown",
      "metadata": {
        "id": "eW2wjOACEoJ8"
      },
      "source": [
        "<a id='wordpiece'></a>"
      ]
    },
    {
      "cell_type": "markdown",
      "metadata": {
        "id": "mLB-xfPXEoJ8"
      },
      "source": [
        "#### WordPiece"
      ]
    },
    {
      "cell_type": "markdown",
      "metadata": {
        "id": "d4tfllKyEoJ8"
      },
      "source": [
        "WordPiece is the subword tokenization algorithm used for [BERT](https://huggingface.co/transformers/model_doc/bert.html), [DistilBERT](https://huggingface.co/transformers/model_doc/distilbert.html), and [Electra](https://huggingface.co/transformers/model_doc/electra.html). The algorithm was outlined in [Japanese and Korean\n",
        "Voice Search (Schuster et al., 2012)](https://static.googleusercontent.com/media/research.google.com/ja//pubs/archive/37842.pdf) and is very similar to\n",
        "BPE. WordPiece first initializes the vocabulary to include every character present in the training data and\n",
        "progressively learns a given number of merge rules. In contrast to BPE, WordPiece does not choose the most frequent\n",
        "symbol pair, but the one that maximizes the likelihood of the training data once added to the vocabulary.\n",
        "\n",
        "So what does this mean exactly? Referring to the previous example, maximizing the likelihood of the training data is\n",
        "equivalent to finding the symbol pair, whose probability divided by the probabilities of its first symbol followed by\n",
        "its second symbol is the greatest among all symbol pairs. **E.g.** `\"u\"`, followed by `\"g\"` would have only been\n",
        "merged if the probability of `\"ug\"` divided by `\"u\"`, `\"g\"` would have been greater than for any other symbol\n",
        "pair. Intuitively, WordPiece is slightly different to BPE in that it evaluates what it *loses* by merging two symbols\n",
        "to make ensure it's *worth it*."
      ]
    },
    {
      "cell_type": "markdown",
      "metadata": {
        "id": "wVU6w8jgEoJ9"
      },
      "source": [
        "<a id='unigram'></a>"
      ]
    },
    {
      "cell_type": "markdown",
      "metadata": {
        "id": "E0avPybdEoJ9"
      },
      "source": [
        "#### Unigram"
      ]
    },
    {
      "cell_type": "markdown",
      "metadata": {
        "id": "q9H_aPoCEoJ9"
      },
      "source": [
        "Unigram is a subword tokenization algorithm introduced in [Subword Regularization: Improving Neural Network Translation\n",
        "Models with Multiple Subword Candidates (Kudo, 2018)](https://arxiv.org/pdf/1804.10959.pdf). In contrast to BPE or\n",
        "WordPiece, Unigram initializes its base vocabulary to a large number of symbols and progressively trims down each\n",
        "symbol to obtain a smaller vocabulary. The base vocabulary could for instance correspond to all pre-tokenized words and\n",
        "the most common substrings. Unigram is not used directly for any of the models in the transformers, but it's used in\n",
        "conjunction with [SentencePiece](#sentencepiece).\n",
        "\n",
        "At each training step, the Unigram algorithm defines a loss (often defined as the log-likelihood) over the training\n",
        "data given the current vocabulary and a unigram language model. Then, for each symbol in the vocabulary, the algorithm\n",
        "computes how much the overall loss would increase if the symbol was to be removed from the vocabulary. Unigram then\n",
        "removes p (with p usually being 10% or 20%) percent of the symbols whose loss increase is the lowest, **i.e.** those\n",
        "symbols that least affect the overall loss over the training data. This process is repeated until the vocabulary has\n",
        "reached the desired size. The Unigram algorithm always keeps the base characters so that any word can be tokenized.\n",
        "\n",
        "Because Unigram is not based on merge rules (in contrast to BPE and WordPiece), the algorithm has several ways of\n",
        "tokenizing new text after training. As an example, if a trained Unigram tokenizer exhibits the vocabulary:"
      ]
    },
    {
      "cell_type": "code",
      "metadata": {
        "id": "STxGEf82EoJ9"
      },
      "source": [
        "[\"b\", \"g\", \"h\", \"n\", \"p\", \"s\", \"u\", \"ug\", \"un\", \"hug\"],"
      ],
      "execution_count": null,
      "outputs": []
    },
    {
      "cell_type": "markdown",
      "metadata": {
        "id": "vdtlBH0sEoJ9"
      },
      "source": [
        "`\"hugs\"` could be tokenized both as `[\"hug\", \"s\"]`, `[\"h\", \"ug\", \"s\"]` or `[\"h\", \"u\", \"g\", \"s\"]`. So which one\n",
        "to choose? Unigram saves the probability of each token in the training corpus on top of saving the vocabulary so that\n",
        "the probability of each possible tokenization can be computed after training. The algorithm simply picks the most\n",
        "likely tokenization in practice, but also offers the possibility to sample a possible tokenization according to their\n",
        "probabilities.\n",
        "\n",
        "Those probabilities are defined by the loss the tokenizer is trained on. Assuming that the training data consists of\n",
        "the words $x_{1}, \\dots, x_{N}$ and that the set of all possible tokenizations for a word $x_{i}$ is\n",
        "defined as $S(x_{i})$, then the overall loss is defined as"
      ]
    },
    {
      "cell_type": "markdown",
      "metadata": {
        "id": "qR6Nj5RZEoJ9"
      },
      "source": [
        "$$\\mathcal{L} = -\\sum_{i=1}^{N} \\log \\left ( \\sum_{x \\in S(x_{i})} p(x) \\right )$$"
      ]
    },
    {
      "cell_type": "markdown",
      "metadata": {
        "id": "YZBLppqUEoJ-"
      },
      "source": [
        "<a id='sentencepiece'></a>"
      ]
    },
    {
      "cell_type": "markdown",
      "metadata": {
        "id": "yH4ylKVkEoJ-"
      },
      "source": [
        "#### SentencePiece"
      ]
    },
    {
      "cell_type": "markdown",
      "metadata": {
        "id": "HLxQA9cjEoJ-"
      },
      "source": [
        "All tokenization algorithms described so far have the same problem: It is assumed that the input text uses spaces to\n",
        "separate words. However, not all languages use spaces to separate words. One possible solution is to use language\n",
        "specific pre-tokenizers, **e.g.** [XLM](https://huggingface.co/transformers/model_doc/xlm.html) uses a specific Chinese, Japanese, and Thai pre-tokenizer).\n",
        "To solve this problem more generally, [SentencePiece: A simple and language independent subword tokenizer and\n",
        "detokenizer for Neural Text Processing (Kudo et al., 2018)](https://arxiv.org/pdf/1808.06226.pdf) treats the input\n",
        "as a raw input stream, thus including the space in the set of characters to use. It then uses the BPE or unigram\n",
        "algorithm to construct the appropriate vocabulary.\n",
        "\n",
        "The `XLNetTokenizer` uses SentencePiece for example, which is also why in the example earlier the\n",
        "`\"▁\"` character was included in the vocabulary. Decoding with SentencePiece is very easy since all tokens can just be\n",
        "concatenated and `\"▁\"` is replaced by a space.\n",
        "\n",
        "All transformers models in the library that use SentencePiece use it in combination with unigram. Examples of models\n",
        "using SentencePiece are [ALBERT](https://huggingface.co/transformers/model_doc/albert.html), [XLNet](https://huggingface.co/transformers/model_doc/xlnet.html), [Marian](https://huggingface.co/transformers/model_doc/marian.html), and [T5](https://huggingface.co/transformers/model_doc/t5.html)."
      ]
    }
  ]
}