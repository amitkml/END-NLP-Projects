{
  "nbformat": 4,
  "nbformat_minor": 0,
  "metadata": {
    "colab": {
      "name": "Language Models and Ecco -- PyData Khobar.ipynb",
      "provenance": [],
      "collapsed_sections": []
    },
    "kernelspec": {
      "name": "python3",
      "display_name": "Python 3"
    }
  },
  "cells": [
    {
      "cell_type": "markdown",
      "metadata": {
        "id": "tUdlUusx7U-n"
      },
      "source": [
        "## Intro to Ecco -- Making Language Models More Transparent\n",
        "This notebook is an intro to [Ecco](https://www.eccox.io) and is the companion to the video: [Take A Look Inside Language Models With Ecco | PyData Khobar](https://www.youtube.com/watch?v=rHrItfNeuh0). \n",
        " "
      ]
    },
    {
      "cell_type": "code",
      "metadata": {
        "id": "Ii6Crs6VpXBM"
      },
      "source": [
        "# Install Ecco. This assumes you have pytorch installed.\n",
        "!pip install ecco\n",
        "import warnings\n",
        "warnings.filterwarnings('ignore')"
      ],
      "execution_count": null,
      "outputs": []
    },
    {
      "cell_type": "code",
      "metadata": {
        "id": "S1tPxd2fpdYo"
      },
      "source": [
        "import ecco\n",
        "\n",
        "# Load pre-trained language model. Setting 'activations' to True tells Ecco to capture neuron activations.\n",
        "# distillgpt is a distilled GPT2 model. You can also try 'gpt2' \n",
        "lm = ecco.from_pretrained('distilgpt2', activations=True)"
      ],
      "execution_count": null,
      "outputs": []
    },
    {
      "cell_type": "markdown",
      "metadata": {
        "id": "t91NoD-AwQFA"
      },
      "source": [
        "## Overview\n",
        "\n",
        "Complete the sentence:\n",
        "`It was a matter of ____`"
      ]
    },
    {
      "cell_type": "code",
      "metadata": {
        "colab": {
          "base_uri": "https://localhost:8080/",
          "height": 49
        },
        "id": "Ixn-FHcdYL_M",
        "outputId": "21f706c7-2229-4c4d-c616-5c75a3e269c9"
      },
      "source": [
        "text = \" it was a matter of\"\n",
        "\n",
        "# Generate one token\n",
        "output_1 = lm.generate(text, generate=1, do_sample=False)"
      ],
      "execution_count": null,
      "outputs": [
        {
          "output_type": "display_data",
          "data": {
            "text/html": [
              "<html lang=\"en\">\n",
              "<script src=\"https://requirejs.org/docs/release/2.3.6/minified/require.js\"></script>\n",
              "<script>\n",
              "    var ecco_url = 'https://storage.googleapis.com/ml-intro/ecco/'\n",
              "    // var ecco_url = 'http://localhost:8000/ecco/'\n",
              "\n",
              "    if (window.ecco === undefined) window.ecco = {}\n",
              "\n",
              "    requirejs.config({\n",
              "        urlArgs: \"bust=\" + (new Date()).getTime(),\n",
              "        nodeRequire: require,\n",
              "        paths: {\n",
              "            d3: \"https://d3js.org/d3.v5.min\",\n",
              "            \"d3-array\": \"https://d3js.org/d3-array.v2.min\",\n",
              "            jquery: \"https://code.jquery.com/jquery-3.5.1.min\",\n",
              "            // oldEcco: ecco_url + 'ecco',\n",
              "            ecco: ecco_url + 'js/0.0.4/ecco-bundle.min',\n",
              "            xregexp: 'https://cdnjs.cloudflare.com/ajax/libs/xregexp/3.2.0/xregexp-all.min'\n",
              "        }\n",
              "    });\n",
              "    requirejs(['d3'],\n",
              "        function (d3) {\n",
              "            d3.select('#css').attr('href', ecco_url + 'html/styles.css')\n",
              "        })\n",
              "\n",
              "    console.log('Ecco initialize.')\n",
              "</script>\n",
              "\n",
              "<head>\n",
              "    <link id='css' rel=\"stylesheet\" type=\"text/css\">\n",
              "</head>\n"
            ],
            "text/plain": [
              "<IPython.core.display.HTML object>"
            ]
          },
          "metadata": {
            "tags": []
          }
        },
        {
          "output_type": "display_data",
          "data": {
            "text/html": [
              "<script>\n",
              "    // console.log('defining basic')\n",
              "    define('basic', ['d3'],\n",
              "        function (d3) {\n",
              "            return {\n",
              "                init: function (viz_id = null) {\n",
              "\n",
              "                    // console.log('basic init')\n",
              "                    if (viz_id == null){\n",
              "                        viz_id = \"viz_\" + Math.round(Math.random() * 10000000)\n",
              "                    }\n",
              "                    const div = d3.select('#basic').attr('id', viz_id),\n",
              "                        div_parent = d3.select('#' + viz_id).node().parentNode\n",
              "\n",
              "                    // Link to CSS file\n",
              "                    d3.select(div_parent).insert('link')\n",
              "                        .attr('rel', 'stylesheet')\n",
              "                        .attr('type', 'text/css')\n",
              "                        .attr('href', ecco_url + 'html/styles.css')\n",
              "\n",
              "                    return viz_id\n",
              "                }\n",
              "            }\n",
              "        }, function (err) {console.log(err);}\n",
              "    )\n",
              "    // console.log('after defining basic')\n",
              "\n",
              "</script>\n",
              "<div id=\"basic\"></div>\n"
            ],
            "text/plain": [
              "<IPython.core.display.HTML object>"
            ]
          },
          "metadata": {
            "tags": []
          }
        },
        {
          "output_type": "display_data",
          "data": {
            "application/javascript": [
              "\n",
              "\n",
              "         requirejs( ['basic', 'ecco'], function(basic, ecco){\n",
              "            basic.init('viz_742630')\n",
              "\n",
              "            window.ecco['viz_742630'] = ecco.renderOutputSequence('viz_742630', {'tokens': [{'token': ' it', 'position': 0, 'token_id': 340, 'type': 'input'}, {'token': ' was', 'position': 1, 'token_id': 373, 'type': 'input'}, {'token': ' a', 'position': 2, 'token_id': 257, 'type': 'input'}, {'token': ' matter', 'position': 3, 'token_id': 2300, 'type': 'input'}, {'token': ' of', 'position': 4, 'token_id': 286, 'type': 'input'}]})\n",
              "         }, function (err) {\n",
              "            console.log(err);\n",
              "        })\n"
            ],
            "text/plain": [
              "<IPython.core.display.Javascript object>"
            ]
          },
          "metadata": {
            "tags": []
          }
        },
        {
          "output_type": "display_data",
          "data": {
            "application/javascript": [
              "\n",
              "        // We don't really need these require scripts. But this is to avert\n",
              "        //this code from running before display_input_sequence which DOES require external files\n",
              "        requirejs(['basic', 'ecco'], function(basic, ecco){\n",
              "                console.log('addToken viz_id', 'viz_742630');\n",
              "                window.ecco['viz_742630'].addToken({\"token\": \" time\", \"token_id\": 640, \"position\": 5, \"type\": \"output\"})\n",
              "                window.ecco['viz_742630'].redraw()\n",
              "        })\n",
              "        "
            ],
            "text/plain": [
              "<IPython.core.display.Javascript object>"
            ]
          },
          "metadata": {
            "tags": []
          }
        }
      ]
    },
    {
      "cell_type": "code",
      "metadata": {
        "colab": {
          "base_uri": "https://localhost:8080/",
          "height": 187
        },
        "id": "JzA265wyYL4K",
        "outputId": "54f3826b-3e9c-438e-db7c-9a635c1cc4f6"
      },
      "source": [
        "# Show the top 10 candidate output tokens for position #5. \n",
        "# Layer 5 is the last layer in the model.\n",
        "output_1.layer_predictions(position=5, layer=5, topk=10)"
      ],
      "execution_count": null,
      "outputs": [
        {
          "output_type": "stream",
          "text": [
            "Predictions for position 5\n"
          ],
          "name": "stdout"
        },
        {
          "output_type": "display_data",
          "data": {
            "text/html": [
              "<html lang=\"en\">\n",
              "<script src=\"https://requirejs.org/docs/release/2.3.6/minified/require.js\"></script>\n",
              "<script>\n",
              "    var ecco_url = 'https://storage.googleapis.com/ml-intro/ecco/'\n",
              "    // var ecco_url = 'http://localhost:8000/ecco/'\n",
              "\n",
              "    if (window.ecco === undefined) window.ecco = {}\n",
              "\n",
              "    requirejs.config({\n",
              "        urlArgs: \"bust=\" + (new Date()).getTime(),\n",
              "        nodeRequire: require,\n",
              "        paths: {\n",
              "            d3: \"https://d3js.org/d3.v5.min\",\n",
              "            \"d3-array\": \"https://d3js.org/d3-array.v2.min\",\n",
              "            jquery: \"https://code.jquery.com/jquery-3.5.1.min\",\n",
              "            // oldEcco: ecco_url + 'ecco',\n",
              "            ecco: ecco_url + 'js/0.0.4/ecco-bundle.min',\n",
              "            xregexp: 'https://cdnjs.cloudflare.com/ajax/libs/xregexp/3.2.0/xregexp-all.min'\n",
              "        }\n",
              "    });\n",
              "    requirejs(['d3'],\n",
              "        function (d3) {\n",
              "            d3.select('#css').attr('href', ecco_url + 'html/styles.css')\n",
              "        })\n",
              "\n",
              "    console.log('Ecco initialize.')\n",
              "</script>\n",
              "\n",
              "<head>\n",
              "    <link id='css' rel=\"stylesheet\" type=\"text/css\">\n",
              "</head>\n"
            ],
            "text/plain": [
              "<IPython.core.display.HTML object>"
            ]
          },
          "metadata": {
            "tags": []
          }
        },
        {
          "output_type": "display_data",
          "data": {
            "text/html": [
              "<script>\n",
              "    // console.log('defining basic')\n",
              "    define('basic', ['d3'],\n",
              "        function (d3) {\n",
              "            return {\n",
              "                init: function (viz_id = null) {\n",
              "\n",
              "                    // console.log('basic init')\n",
              "                    if (viz_id == null){\n",
              "                        viz_id = \"viz_\" + Math.round(Math.random() * 10000000)\n",
              "                    }\n",
              "                    const div = d3.select('#basic').attr('id', viz_id),\n",
              "                        div_parent = d3.select('#' + viz_id).node().parentNode\n",
              "\n",
              "                    // Link to CSS file\n",
              "                    d3.select(div_parent).insert('link')\n",
              "                        .attr('rel', 'stylesheet')\n",
              "                        .attr('type', 'text/css')\n",
              "                        .attr('href', ecco_url + 'html/styles.css')\n",
              "\n",
              "                    return viz_id\n",
              "                }\n",
              "            }\n",
              "        }, function (err) {console.log(err);}\n",
              "    )\n",
              "    // console.log('after defining basic')\n",
              "\n",
              "</script>\n",
              "<div id=\"basic\"></div>\n"
            ],
            "text/plain": [
              "<IPython.core.display.HTML object>"
            ]
          },
          "metadata": {
            "tags": []
          }
        },
        {
          "output_type": "display_data",
          "data": {
            "application/javascript": [
              "\n",
              "         requirejs(['basic', 'ecco'], function(basic, ecco){\n",
              "            const viz_id = basic.init()\n",
              "\n",
              "\n",
              "            let pred = new ecco.LayerPredictions({\n",
              "                parentDiv: viz_id,\n",
              "                data:[[{\"token\": \" time\", \"prob\": \"0.1609947\", \"ranking\": 1, \"layer\": 5}, {\"token\": \" the\", \"prob\": \"0.023776313\", \"ranking\": 2, \"layer\": 5}, {\"token\": \" fact\", \"prob\": \"0.016822413\", \"ranking\": 3, \"layer\": 5}, {\"token\": \" a\", \"prob\": \"0.015250747\", \"ranking\": 4, \"layer\": 5}, {\"token\": \" course\", \"prob\": \"0.011499535\", \"ranking\": 5, \"layer\": 5}, {\"token\": \" faith\", \"prob\": \"0.009632221\", \"ranking\": 6, \"layer\": 5}, {\"token\": \" principle\", \"prob\": \"0.009305256\", \"ranking\": 7, \"layer\": 5}, {\"token\": \" personal\", \"prob\": \"0.009230307\", \"ranking\": 8, \"layer\": 5}, {\"token\": \" great\", \"prob\": \"0.008408523\", \"ranking\": 9, \"layer\": 5}, {\"token\": \" public\", \"prob\": \"0.00818359\", \"ranking\": 10, \"layer\": 5}]]\n",
              "            })\n",
              "            pred.init()\n",
              "         }, function (err) {\n",
              "            console.log(viz_id, err);\n",
              "        })"
            ],
            "text/plain": [
              "<IPython.core.display.Javascript object>"
            ]
          },
          "metadata": {
            "tags": []
          }
        }
      ]
    },
    {
      "cell_type": "markdown",
      "metadata": {
        "id": "z1dCPYSL9zUu"
      },
      "source": [
        "This view shows the top 10 candidate tokens, their probability, and their rankings.\n",
        "\n",
        "### Comparing two token candidates for a single position"
      ]
    },
    {
      "cell_type": "code",
      "metadata": {
        "id": "PSQpCZb9YLlw",
        "colab": {
          "base_uri": "https://localhost:8080/"
        },
        "outputId": "e6c12993-6630-4f1e-c921-8ab93a5c7961"
      },
      "source": [
        "# What are the token IDs of the two words?\n",
        "lm.tokenizer(\" principle principal\")"
      ],
      "execution_count": null,
      "outputs": [
        {
          "output_type": "execute_result",
          "data": {
            "text/plain": [
              "{'input_ids': [7989, 10033], 'attention_mask': [1, 1]}"
            ]
          },
          "metadata": {
            "tags": []
          },
          "execution_count": 61
        }
      ]
    },
    {
      "cell_type": "code",
      "metadata": {
        "colab": {
          "base_uri": "https://localhost:8080/",
          "height": 378
        },
        "id": "RdC5MO1yvTvC",
        "outputId": "86193189-42d6-4d77-a28e-e8f665c2c83e"
      },
      "source": [
        "# Compare the rankings of \"Principle\" and \"Principal\" across layers\n",
        "output_1.rankings_watch(watch=[7989, 10033], position=5)"
      ],
      "execution_count": null,
      "outputs": [
        {
          "output_type": "display_data",
          "data": {
            "image/png": "[encoded data removed]",
            "text/plain": [
              "<Figure size 201.6x244.8 with 3 Axes>"
            ]
          },
          "metadata": {
            "tags": []
          }
        }
      ]
    },
    {
      "cell_type": "markdown",
      "metadata": {
        "id": "T96DI4wF73fk"
      },
      "source": [
        "## Exploring World Knowledge And Layer Analysis\n",
        "Does the model \"know\" where Heathrow airport is located? To probe the model, we let's try the input sentence: \n",
        "\n",
        "`Heathrow airport is located in ____`"
      ]
    },
    {
      "cell_type": "code",
      "metadata": {
        "id": "e2V8ARTEsF6B",
        "colab": {
          "base_uri": "https://localhost:8080/",
          "height": 49
        },
        "outputId": "d5ac06ef-8157-4b89-debe-6d3400b5f848"
      },
      "source": [
        "text = \" Heathrow airport is located in\"\n",
        "output_2 = lm.generate(text, generate=5, do_sample=False)"
      ],
      "execution_count": null,
      "outputs": [
        {
          "output_type": "display_data",
          "data": {
            "text/html": [
              "<html lang=\"en\">\n",
              "<script src=\"https://requirejs.org/docs/release/2.3.6/minified/require.js\"></script>\n",
              "<script>\n",
              "    var ecco_url = 'https://storage.googleapis.com/ml-intro/ecco/'\n",
              "    // var ecco_url = 'http://localhost:8000/ecco/'\n",
              "\n",
              "    if (window.ecco === undefined) window.ecco = {}\n",
              "\n",
              "    requirejs.config({\n",
              "        urlArgs: \"bust=\" + (new Date()).getTime(),\n",
              "        nodeRequire: require,\n",
              "        paths: {\n",
              "            d3: \"https://d3js.org/d3.v5.min\",\n",
              "            \"d3-array\": \"https://d3js.org/d3-array.v2.min\",\n",
              "            jquery: \"https://code.jquery.com/jquery-3.5.1.min\",\n",
              "            // oldEcco: ecco_url + 'ecco',\n",
              "            ecco: ecco_url + 'js/0.0.4/ecco-bundle.min',\n",
              "            xregexp: 'https://cdnjs.cloudflare.com/ajax/libs/xregexp/3.2.0/xregexp-all.min'\n",
              "        }\n",
              "    });\n",
              "    requirejs(['d3'],\n",
              "        function (d3) {\n",
              "            d3.select('#css').attr('href', ecco_url + 'html/styles.css')\n",
              "        })\n",
              "\n",
              "    console.log('Ecco initialize.')\n",
              "</script>\n",
              "\n",
              "<head>\n",
              "    <link id='css' rel=\"stylesheet\" type=\"text/css\">\n",
              "</head>\n"
            ],
            "text/plain": [
              "<IPython.core.display.HTML object>"
            ]
          },
          "metadata": {
            "tags": []
          }
        },
        {
          "output_type": "display_data",
          "data": {
            "text/html": [
              "<script>\n",
              "    // console.log('defining basic')\n",
              "    define('basic', ['d3'],\n",
              "        function (d3) {\n",
              "            return {\n",
              "                init: function (viz_id = null) {\n",
              "\n",
              "                    // console.log('basic init')\n",
              "                    if (viz_id == null){\n",
              "                        viz_id = \"viz_\" + Math.round(Math.random() * 10000000)\n",
              "                    }\n",
              "                    const div = d3.select('#basic').attr('id', viz_id),\n",
              "                        div_parent = d3.select('#' + viz_id).node().parentNode\n",
              "\n",
              "                    // Link to CSS file\n",
              "                    d3.select(div_parent).insert('link')\n",
              "                        .attr('rel', 'stylesheet')\n",
              "                        .attr('type', 'text/css')\n",
              "                        .attr('href', ecco_url + 'html/styles.css')\n",
              "\n",
              "                    return viz_id\n",
              "                }\n",
              "            }\n",
              "        }, function (err) {console.log(err);}\n",
              "    )\n",
              "    // console.log('after defining basic')\n",
              "\n",
              "</script>\n",
              "<div id=\"basic\"></div>\n"
            ],
            "text/plain": [
              "<IPython.core.display.HTML object>"
            ]
          },
          "metadata": {
            "tags": []
          }
        },
        {
          "output_type": "display_data",
          "data": {
            "application/javascript": [
              "\n",
              "\n",
              "         requirejs( ['basic', 'ecco'], function(basic, ecco){\n",
              "            basic.init('viz_936303')\n",
              "\n",
              "            window.ecco['viz_936303'] = ecco.renderOutputSequence('viz_936303', {'tokens': [{'token': ' Heath', 'position': 0, 'token_id': 25846, 'type': 'input'}, {'token': 'row', 'position': 1, 'token_id': 808, 'type': 'input'}, {'token': ' airport', 'position': 2, 'token_id': 9003, 'type': 'input'}, {'token': ' is', 'position': 3, 'token_id': 318, 'type': 'input'}, {'token': ' located', 'position': 4, 'token_id': 5140, 'type': 'input'}, {'token': ' in', 'position': 5, 'token_id': 287, 'type': 'input'}]})\n",
              "         }, function (err) {\n",
              "            console.log(err);\n",
              "        })\n"
            ],
            "text/plain": [
              "<IPython.core.display.Javascript object>"
            ]
          },
          "metadata": {
            "tags": []
          }
        },
        {
          "output_type": "display_data",
          "data": {
            "application/javascript": [
              "\n",
              "        // We don't really need these require scripts. But this is to avert\n",
              "        //this code from running before display_input_sequence which DOES require external files\n",
              "        requirejs(['basic', 'ecco'], function(basic, ecco){\n",
              "                console.log('addToken viz_id', 'viz_936303');\n",
              "                window.ecco['viz_936303'].addToken({\"token\": \" the\", \"token_id\": 262, \"position\": 6, \"type\": \"output\"})\n",
              "                window.ecco['viz_936303'].redraw()\n",
              "        })\n",
              "        "
            ],
            "text/plain": [
              "<IPython.core.display.Javascript object>"
            ]
          },
          "metadata": {
            "tags": []
          }
        },
        {
          "output_type": "display_data",
          "data": {
            "application/javascript": [
              "\n",
              "        // We don't really need these require scripts. But this is to avert\n",
              "        //this code from running before display_input_sequence which DOES require external files\n",
              "        requirejs(['basic', 'ecco'], function(basic, ecco){\n",
              "                console.log('addToken viz_id', 'viz_936303');\n",
              "                window.ecco['viz_936303'].addToken({\"token\": \" heart\", \"token_id\": 2612, \"position\": 7, \"type\": \"output\"})\n",
              "                window.ecco['viz_936303'].redraw()\n",
              "        })\n",
              "        "
            ],
            "text/plain": [
              "<IPython.core.display.Javascript object>"
            ]
          },
          "metadata": {
            "tags": []
          }
        },
        {
          "output_type": "display_data",
          "data": {
            "application/javascript": [
              "\n",
              "        // We don't really need these require scripts. But this is to avert\n",
              "        //this code from running before display_input_sequence which DOES require external files\n",
              "        requirejs(['basic', 'ecco'], function(basic, ecco){\n",
              "                console.log('addToken viz_id', 'viz_936303');\n",
              "                window.ecco['viz_936303'].addToken({\"token\": \" of\", \"token_id\": 286, \"position\": 8, \"type\": \"output\"})\n",
              "                window.ecco['viz_936303'].redraw()\n",
              "        })\n",
              "        "
            ],
            "text/plain": [
              "<IPython.core.display.Javascript object>"
            ]
          },
          "metadata": {
            "tags": []
          }
        },
        {
          "output_type": "display_data",
          "data": {
            "application/javascript": [
              "\n",
              "        // We don't really need these require scripts. But this is to avert\n",
              "        //this code from running before display_input_sequence which DOES require external files\n",
              "        requirejs(['basic', 'ecco'], function(basic, ecco){\n",
              "                console.log('addToken viz_id', 'viz_936303');\n",
              "                window.ecco['viz_936303'].addToken({\"token\": \" the\", \"token_id\": 262, \"position\": 9, \"type\": \"output\"})\n",
              "                window.ecco['viz_936303'].redraw()\n",
              "        })\n",
              "        "
            ],
            "text/plain": [
              "<IPython.core.display.Javascript object>"
            ]
          },
          "metadata": {
            "tags": []
          }
        },
        {
          "output_type": "display_data",
          "data": {
            "application/javascript": [
              "\n",
              "        // We don't really need these require scripts. But this is to avert\n",
              "        //this code from running before display_input_sequence which DOES require external files\n",
              "        requirejs(['basic', 'ecco'], function(basic, ecco){\n",
              "                console.log('addToken viz_id', 'viz_936303');\n",
              "                window.ecco['viz_936303'].addToken({\"token\": \" city\", \"token_id\": 1748, \"position\": 10, \"type\": \"output\"})\n",
              "                window.ecco['viz_936303'].redraw()\n",
              "        })\n",
              "        "
            ],
            "text/plain": [
              "<IPython.core.display.Javascript object>"
            ]
          },
          "metadata": {
            "tags": []
          }
        }
      ]
    },
    {
      "cell_type": "markdown",
      "metadata": {
        "id": "Qgy6fqtB_tBJ"
      },
      "source": [
        "While the output is not incorrect, it doesn't really anwer the question we are after. Let's slightly change the input sentence:"
      ]
    },
    {
      "cell_type": "code",
      "metadata": {
        "colab": {
          "base_uri": "https://localhost:8080/",
          "height": 49
        },
        "id": "2E-8avmf8OWc",
        "outputId": "df611a7f-5ad4-4f8e-8bcf-8df553245d5a"
      },
      "source": [
        "text = \" Heathrow airport is located in the city of\"\n",
        "output_2 = lm.generate(text, generate=1, do_sample=False)"
      ],
      "execution_count": null,
      "outputs": [
        {
          "output_type": "display_data",
          "data": {
            "text/html": [
              "<html lang=\"en\">\n",
              "<script src=\"https://requirejs.org/docs/release/2.3.6/minified/require.js\"></script>\n",
              "<script>\n",
              "    var ecco_url = 'https://storage.googleapis.com/ml-intro/ecco/'\n",
              "    // var ecco_url = 'http://localhost:8000/ecco/'\n",
              "\n",
              "    if (window.ecco === undefined) window.ecco = {}\n",
              "\n",
              "    requirejs.config({\n",
              "        urlArgs: \"bust=\" + (new Date()).getTime(),\n",
              "        nodeRequire: require,\n",
              "        paths: {\n",
              "            d3: \"https://d3js.org/d3.v5.min\",\n",
              "            \"d3-array\": \"https://d3js.org/d3-array.v2.min\",\n",
              "            jquery: \"https://code.jquery.com/jquery-3.5.1.min\",\n",
              "            // oldEcco: ecco_url + 'ecco',\n",
              "            ecco: ecco_url + 'js/0.0.4/ecco-bundle.min',\n",
              "            xregexp: 'https://cdnjs.cloudflare.com/ajax/libs/xregexp/3.2.0/xregexp-all.min'\n",
              "        }\n",
              "    });\n",
              "    requirejs(['d3'],\n",
              "        function (d3) {\n",
              "            d3.select('#css').attr('href', ecco_url + 'html/styles.css')\n",
              "        })\n",
              "\n",
              "    console.log('Ecco initialize.')\n",
              "</script>\n",
              "\n",
              "<head>\n",
              "    <link id='css' rel=\"stylesheet\" type=\"text/css\">\n",
              "</head>\n"
            ],
            "text/plain": [
              "<IPython.core.display.HTML object>"
            ]
          },
          "metadata": {
            "tags": []
          }
        },
        {
          "output_type": "display_data",
          "data": {
            "text/html": [
              "<script>\n",
              "    // console.log('defining basic')\n",
              "    define('basic', ['d3'],\n",
              "        function (d3) {\n",
              "            return {\n",
              "                init: function (viz_id = null) {\n",
              "\n",
              "                    // console.log('basic init')\n",
              "                    if (viz_id == null){\n",
              "                        viz_id = \"viz_\" + Math.round(Math.random() * 10000000)\n",
              "                    }\n",
              "                    const div = d3.select('#basic').attr('id', viz_id),\n",
              "                        div_parent = d3.select('#' + viz_id).node().parentNode\n",
              "\n",
              "                    // Link to CSS file\n",
              "                    d3.select(div_parent).insert('link')\n",
              "                        .attr('rel', 'stylesheet')\n",
              "                        .attr('type', 'text/css')\n",
              "                        .attr('href', ecco_url + 'html/styles.css')\n",
              "\n",
              "                    return viz_id\n",
              "                }\n",
              "            }\n",
              "        }, function (err) {console.log(err);}\n",
              "    )\n",
              "    // console.log('after defining basic')\n",
              "\n",
              "</script>\n",
              "<div id=\"basic\"></div>\n"
            ],
            "text/plain": [
              "<IPython.core.display.HTML object>"
            ]
          },
          "metadata": {
            "tags": []
          }
        },
        {
          "output_type": "display_data",
          "data": {
            "application/javascript": [
              "\n",
              "\n",
              "         requirejs( ['basic', 'ecco'], function(basic, ecco){\n",
              "            basic.init('viz_878900')\n",
              "\n",
              "            window.ecco['viz_878900'] = ecco.renderOutputSequence('viz_878900', {'tokens': [{'token': ' Heath', 'position': 0, 'token_id': 25846, 'type': 'input'}, {'token': 'row', 'position': 1, 'token_id': 808, 'type': 'input'}, {'token': ' airport', 'position': 2, 'token_id': 9003, 'type': 'input'}, {'token': ' is', 'position': 3, 'token_id': 318, 'type': 'input'}, {'token': ' located', 'position': 4, 'token_id': 5140, 'type': 'input'}, {'token': ' in', 'position': 5, 'token_id': 287, 'type': 'input'}, {'token': ' the', 'position': 6, 'token_id': 262, 'type': 'input'}, {'token': ' city', 'position': 7, 'token_id': 1748, 'type': 'input'}, {'token': ' of', 'position': 8, 'token_id': 286, 'type': 'input'}]})\n",
              "         }, function (err) {\n",
              "            console.log(err);\n",
              "        })\n"
            ],
            "text/plain": [
              "<IPython.core.display.Javascript object>"
            ]
          },
          "metadata": {
            "tags": []
          }
        },
        {
          "output_type": "display_data",
          "data": {
            "application/javascript": [
              "\n",
              "        // We don't really need these require scripts. But this is to avert\n",
              "        //this code from running before display_input_sequence which DOES require external files\n",
              "        requirejs(['basic', 'ecco'], function(basic, ecco){\n",
              "                console.log('addToken viz_id', 'viz_878900');\n",
              "                window.ecco['viz_878900'].addToken({\"token\": \" London\", \"token_id\": 3576, \"position\": 9, \"type\": \"output\"})\n",
              "                window.ecco['viz_878900'].redraw()\n",
              "        })\n",
              "        "
            ],
            "text/plain": [
              "<IPython.core.display.Javascript object>"
            ]
          },
          "metadata": {
            "tags": []
          }
        }
      ]
    },
    {
      "cell_type": "code",
      "metadata": {
        "colab": {
          "base_uri": "https://localhost:8080/",
          "height": 265
        },
        "id": "Ws7tKJ_K8Wcg",
        "outputId": "f045a616-d379-4eff-ab35-818b5bc7fd57"
      },
      "source": [
        "# What other tokens were possible to output in place of \"London\"?\n",
        "output_2.layer_predictions(position=9, layer=5, topk=30)"
      ],
      "execution_count": null,
      "outputs": [
        {
          "output_type": "stream",
          "text": [
            "Predictions for position 9\n"
          ],
          "name": "stdout"
        },
        {
          "output_type": "display_data",
          "data": {
            "text/html": [
              "<html lang=\"en\">\n",
              "<script src=\"https://requirejs.org/docs/release/2.3.6/minified/require.js\"></script>\n",
              "<script>\n",
              "    var ecco_url = 'https://storage.googleapis.com/ml-intro/ecco/'\n",
              "    // var ecco_url = 'http://localhost:8000/ecco/'\n",
              "\n",
              "    if (window.ecco === undefined) window.ecco = {}\n",
              "\n",
              "    requirejs.config({\n",
              "        urlArgs: \"bust=\" + (new Date()).getTime(),\n",
              "        nodeRequire: require,\n",
              "        paths: {\n",
              "            d3: \"https://d3js.org/d3.v5.min\",\n",
              "            \"d3-array\": \"https://d3js.org/d3-array.v2.min\",\n",
              "            jquery: \"https://code.jquery.com/jquery-3.5.1.min\",\n",
              "            // oldEcco: ecco_url + 'ecco',\n",
              "            ecco: ecco_url + 'js/0.0.4/ecco-bundle.min',\n",
              "            xregexp: 'https://cdnjs.cloudflare.com/ajax/libs/xregexp/3.2.0/xregexp-all.min'\n",
              "        }\n",
              "    });\n",
              "    requirejs(['d3'],\n",
              "        function (d3) {\n",
              "            d3.select('#css').attr('href', ecco_url + 'html/styles.css')\n",
              "        })\n",
              "\n",
              "    console.log('Ecco initialize.')\n",
              "</script>\n",
              "\n",
              "<head>\n",
              "    <link id='css' rel=\"stylesheet\" type=\"text/css\">\n",
              "</head>\n"
            ],
            "text/plain": [
              "<IPython.core.display.HTML object>"
            ]
          },
          "metadata": {
            "tags": []
          }
        },
        {
          "output_type": "display_data",
          "data": {
            "text/html": [
              "<script>\n",
              "    // console.log('defining basic')\n",
              "    define('basic', ['d3'],\n",
              "        function (d3) {\n",
              "            return {\n",
              "                init: function (viz_id = null) {\n",
              "\n",
              "                    // console.log('basic init')\n",
              "                    if (viz_id == null){\n",
              "                        viz_id = \"viz_\" + Math.round(Math.random() * 10000000)\n",
              "                    }\n",
              "                    const div = d3.select('#basic').attr('id', viz_id),\n",
              "                        div_parent = d3.select('#' + viz_id).node().parentNode\n",
              "\n",
              "                    // Link to CSS file\n",
              "                    d3.select(div_parent).insert('link')\n",
              "                        .attr('rel', 'stylesheet')\n",
              "                        .attr('type', 'text/css')\n",
              "                        .attr('href', ecco_url + 'html/styles.css')\n",
              "\n",
              "                    return viz_id\n",
              "                }\n",
              "            }\n",
              "        }, function (err) {console.log(err);}\n",
              "    )\n",
              "    // console.log('after defining basic')\n",
              "\n",
              "</script>\n",
              "<div id=\"basic\"></div>\n"
            ],
            "text/plain": [
              "<IPython.core.display.HTML object>"
            ]
          },
          "metadata": {
            "tags": []
          }
        },
        {
          "output_type": "display_data",
          "data": {
            "application/javascript": [
              "\n",
              "         requirejs(['basic', 'ecco'], function(basic, ecco){\n",
              "            const viz_id = basic.init()\n",
              "\n",
              "\n",
              "            let pred = new ecco.LayerPredictions({\n",
              "                parentDiv: viz_id,\n",
              "                data:[[{\"token\": \" London\", \"prob\": \"0.13281083\", \"ranking\": 1, \"layer\": 5}, {\"token\": \" Birmingham\", \"prob\": \"0.06064123\", \"ranking\": 2, \"layer\": 5}, {\"token\": \" Manchester\", \"prob\": \"0.036828216\", \"ranking\": 3, \"layer\": 5}, {\"token\": \" Glasgow\", \"prob\": \"0.0156107135\", \"ranking\": 4, \"layer\": 5}, {\"token\": \" Edinburgh\", \"prob\": \"0.012735456\", \"ranking\": 5, \"layer\": 5}, {\"token\": \" Liverpool\", \"prob\": \"0.011518745\", \"ranking\": 6, \"layer\": 5}, {\"token\": \" Bristol\", \"prob\": \"0.011411636\", \"ranking\": 7, \"layer\": 5}, {\"token\": \" Leeds\", \"prob\": \"0.011315532\", \"ranking\": 8, \"layer\": 5}, {\"token\": \" Belfast\", \"prob\": \"0.011035166\", \"ranking\": 9, \"layer\": 5}, {\"token\": \" Brighton\", \"prob\": \"0.010986359\", \"ranking\": 10, \"layer\": 5}, {\"token\": \" Sheffield\", \"prob\": \"0.009908097\", \"ranking\": 11, \"layer\": 5}, {\"token\": \" Dublin\", \"prob\": \"0.009576625\", \"ranking\": 12, \"layer\": 5}, {\"token\": \" Cov\", \"prob\": \"0.009328982\", \"ranking\": 13, \"layer\": 5}, {\"token\": \" D\", \"prob\": \"0.00873773\", \"ranking\": 14, \"layer\": 5}, {\"token\": \" Dund\", \"prob\": \"0.008347085\", \"ranking\": 15, \"layer\": 5}, {\"token\": \" St\", \"prob\": \"0.008127824\", \"ranking\": 16, \"layer\": 5}, {\"token\": \" Cambridge\", \"prob\": \"0.0077230306\", \"ranking\": 17, \"layer\": 5}, {\"token\": \" Toronto\", \"prob\": \"0.00713806\", \"ranking\": 18, \"layer\": 5}, {\"token\": \" Chelsea\", \"prob\": \"0.006981064\", \"ranking\": 19, \"layer\": 5}, {\"token\": \" W\", \"prob\": \"0.006370264\", \"ranking\": 20, \"layer\": 5}, {\"token\": \" Newcastle\", \"prob\": \"0.0063533247\", \"ranking\": 21, \"layer\": 5}, {\"token\": \" Nottingham\", \"prob\": \"0.00617757\", \"ranking\": 22, \"layer\": 5}, {\"token\": \" G\", \"prob\": \"0.005884209\", \"ranking\": 23, \"layer\": 5}, {\"token\": \" T\", \"prob\": \"0.005857759\", \"ranking\": 24, \"layer\": 5}, {\"token\": \" Westminster\", \"prob\": \"0.0056814784\", \"ranking\": 25, \"layer\": 5}, {\"token\": \" B\", \"prob\": \"0.0056101703\", \"ranking\": 26, \"layer\": 5}, {\"token\": \" Surrey\", \"prob\": \"0.0055002114\", \"ranking\": 27, \"layer\": 5}, {\"token\": \" C\", \"prob\": \"0.0052068\", \"ranking\": 28, \"layer\": 5}, {\"token\": \" New\", \"prob\": \"0.004981762\", \"ranking\": 29, \"layer\": 5}, {\"token\": \" L\", \"prob\": \"0.0048823133\", \"ranking\": 30, \"layer\": 5}]]\n",
              "            })\n",
              "            pred.init()\n",
              "         }, function (err) {\n",
              "            console.log(viz_id, err);\n",
              "        })"
            ],
            "text/plain": [
              "<IPython.core.display.Javascript object>"
            ]
          },
          "metadata": {
            "tags": []
          }
        }
      ]
    },
    {
      "cell_type": "code",
      "metadata": {
        "colab": {
          "base_uri": "https://localhost:8080/",
          "height": 326
        },
        "id": "HrkMe1rI8kCF",
        "outputId": "60d9d4f8-7aef-4fa7-edee-d42aa5994db9"
      },
      "source": [
        "# Now that the model has selcted the tokens \"London . \\n\"\n",
        "# How did each layer rank these tokens during processing?\n",
        "output_2.rankings()"
      ],
      "execution_count": null,
      "outputs": [
        {
          "output_type": "display_data",
          "data": {
            "image/png": "[encoded data removed]",
            "text/plain": [
              "<Figure size 136.8x244.8 with 3 Axes>"
            ]
          },
          "metadata": {
            "tags": []
          }
        }
      ]
    },
    {
      "cell_type": "markdown",
      "metadata": {
        "id": "1Qelsn_jZlIE"
      },
      "source": [
        "This visualization is based on the great visual treatment by nostalgebraist in [Interpreting GPT: the logit lens](https://www.lesswrong.com/posts/AcKRB8wDpdaN6v6ru/interpreting-gpt-the-logit-lens)."
      ]
    },
    {
      "cell_type": "markdown",
      "metadata": {
        "id": "UcD1w1HP9hWO"
      },
      "source": [
        "### Probing the model's world knowledge \n",
        "\n",
        "What happens if we present the following input sentence to the model:\n",
        "\n",
        "`The countries of the European Union are:\\n1. Austria\\n2. Belgium\\n3. Bulgaria\\n4. ___________`\n",
        "\n",
        "Namely, we have these questions:\n",
        "* Q. Will the model continue the numbering correctly?\n",
        "* Q. Will it succeed in following the formatting?\n",
        "* Q. Will it succeed in naming countries? European ones?\n",
        "* Q. Will the model \"notice\" the alphabetical order of the list? Will it follow it?\n"
      ]
    },
    {
      "cell_type": "code",
      "metadata": {
        "colab": {
          "base_uri": "https://localhost:8080/",
          "height": 302
        },
        "id": "X72IPVlJ8_8r",
        "outputId": "dba57cae-c14a-4270-bcbe-1fa06bda06a9"
      },
      "source": [
        "text= \"The countries of the European Union are:\\n1. Austria\\n2. Belgium\\n3. Bulgaria\\n4.\"\n",
        "\n",
        "output_3 = lm.generate(text, generate=20, do_sample=True)"
      ],
      "execution_count": null,
      "outputs": [
        {
          "output_type": "display_data",
          "data": {
            "text/html": [
              "<html lang=\"en\">\n",
              "<script src=\"https://requirejs.org/docs/release/2.3.6/minified/require.js\"></script>\n",
              "<script>\n",
              "    var ecco_url = 'https://storage.googleapis.com/ml-intro/ecco/'\n",
              "    // var ecco_url = 'http://localhost:8000/ecco/'\n",
              "\n",
              "    if (window.ecco === undefined) window.ecco = {}\n",
              "\n",
              "    requirejs.config({\n",
              "        urlArgs: \"bust=\" + (new Date()).getTime(),\n",
              "        nodeRequire: require,\n",
              "        paths: {\n",
              "            d3: \"https://d3js.org/d3.v5.min\",\n",
              "            \"d3-array\": \"https://d3js.org/d3-array.v2.min\",\n",
              "            jquery: \"https://code.jquery.com/jquery-3.5.1.min\",\n",
              "            // oldEcco: ecco_url + 'ecco',\n",
              "            ecco: ecco_url + 'js/0.0.4/ecco-bundle.min',\n",
              "            xregexp: 'https://cdnjs.cloudflare.com/ajax/libs/xregexp/3.2.0/xregexp-all.min'\n",
              "        }\n",
              "    });\n",
              "    requirejs(['d3'],\n",
              "        function (d3) {\n",
              "            d3.select('#css').attr('href', ecco_url + 'html/styles.css')\n",
              "        })\n",
              "\n",
              "    console.log('Ecco initialize.')\n",
              "</script>\n",
              "\n",
              "<head>\n",
              "    <link id='css' rel=\"stylesheet\" type=\"text/css\">\n",
              "</head>\n"
            ],
            "text/plain": [
              "<IPython.core.display.HTML object>"
            ]
          },
          "metadata": {
            "tags": []
          }
        },
        {
          "output_type": "display_data",
          "data": {
            "text/html": [
              "<script>\n",
              "    // console.log('defining basic')\n",
              "    define('basic', ['d3'],\n",
              "        function (d3) {\n",
              "            return {\n",
              "                init: function (viz_id = null) {\n",
              "\n",
              "                    // console.log('basic init')\n",
              "                    if (viz_id == null){\n",
              "                        viz_id = \"viz_\" + Math.round(Math.random() * 10000000)\n",
              "                    }\n",
              "                    const div = d3.select('#basic').attr('id', viz_id),\n",
              "                        div_parent = d3.select('#' + viz_id).node().parentNode\n",
              "\n",
              "                    // Link to CSS file\n",
              "                    d3.select(div_parent).insert('link')\n",
              "                        .attr('rel', 'stylesheet')\n",
              "                        .attr('type', 'text/css')\n",
              "                        .attr('href', ecco_url + 'html/styles.css')\n",
              "\n",
              "                    return viz_id\n",
              "                }\n",
              "            }\n",
              "        }, function (err) {console.log(err);}\n",
              "    )\n",
              "    // console.log('after defining basic')\n",
              "\n",
              "</script>\n",
              "<div id=\"basic\"></div>\n"
            ],
            "text/plain": [
              "<IPython.core.display.HTML object>"
            ]
          },
          "metadata": {
            "tags": []
          }
        },
        {
          "output_type": "display_data",
          "data": {
            "application/javascript": [
              "\n",
              "\n",
              "         requirejs( ['basic', 'ecco'], function(basic, ecco){\n",
              "            basic.init('viz_297367')\n",
              "\n",
              "            window.ecco['viz_297367'] = ecco.renderOutputSequence('viz_297367', {'tokens': [{'token': 'The', 'position': 0, 'token_id': 464, 'type': 'input'}, {'token': ' countries', 'position': 1, 'token_id': 2678, 'type': 'input'}, {'token': ' of', 'position': 2, 'token_id': 286, 'type': 'input'}, {'token': ' the', 'position': 3, 'token_id': 262, 'type': 'input'}, {'token': ' European', 'position': 4, 'token_id': 3427, 'type': 'input'}, {'token': ' Union', 'position': 5, 'token_id': 4479, 'type': 'input'}, {'token': ' are', 'position': 6, 'token_id': 389, 'type': 'input'}, {'token': ':', 'position': 7, 'token_id': 25, 'type': 'input'}, {'token': '\\n', 'position': 8, 'token_id': 198, 'type': 'input'}, {'token': '1', 'position': 9, 'token_id': 16, 'type': 'input'}, {'token': '.', 'position': 10, 'token_id': 13, 'type': 'input'}, {'token': ' Austria', 'position': 11, 'token_id': 17322, 'type': 'input'}, {'token': '\\n', 'position': 12, 'token_id': 198, 'type': 'input'}, {'token': '2', 'position': 13, 'token_id': 17, 'type': 'input'}, {'token': '.', 'position': 14, 'token_id': 13, 'type': 'input'}, {'token': ' Belgium', 'position': 15, 'token_id': 15664, 'type': 'input'}, {'token': '\\n', 'position': 16, 'token_id': 198, 'type': 'input'}, {'token': '3', 'position': 17, 'token_id': 18, 'type': 'input'}, {'token': '.', 'position': 18, 'token_id': 13, 'type': 'input'}, {'token': ' Bulgaria', 'position': 19, 'token_id': 27902, 'type': 'input'}, {'token': '\\n', 'position': 20, 'token_id': 198, 'type': 'input'}, {'token': '4', 'position': 21, 'token_id': 19, 'type': 'input'}, {'token': '.', 'position': 22, 'token_id': 13, 'type': 'input'}]})\n",
              "         }, function (err) {\n",
              "            console.log(err);\n",
              "        })\n"
            ],
            "text/plain": [
              "<IPython.core.display.Javascript object>"
            ]
          },
          "metadata": {
            "tags": []
          }
        },
        {
          "output_type": "display_data",
          "data": {
            "application/javascript": [
              "\n",
              "        // We don't really need these require scripts. But this is to avert\n",
              "        //this code from running before display_input_sequence which DOES require external files\n",
              "        requirejs(['basic', 'ecco'], function(basic, ecco){\n",
              "                console.log('addToken viz_id', 'viz_297367');\n",
              "                window.ecco['viz_297367'].addToken({\"token\": \" Canada\", \"token_id\": 3340, \"position\": 23, \"type\": \"output\"})\n",
              "                window.ecco['viz_297367'].redraw()\n",
              "        })\n",
              "        "
            ],
            "text/plain": [
              "<IPython.core.display.Javascript object>"
            ]
          },
          "metadata": {
            "tags": []
          }
        },
        {
          "output_type": "display_data",
          "data": {
            "application/javascript": [
              "\n",
              "        // We don't really need these require scripts. But this is to avert\n",
              "        //this code from running before display_input_sequence which DOES require external files\n",
              "        requirejs(['basic', 'ecco'], function(basic, ecco){\n",
              "                console.log('addToken viz_id', 'viz_297367');\n",
              "                window.ecco['viz_297367'].addToken({\"token\": \"\\n\", \"token_id\": 198, \"position\": 24, \"type\": \"output\"})\n",
              "                window.ecco['viz_297367'].redraw()\n",
              "        })\n",
              "        "
            ],
            "text/plain": [
              "<IPython.core.display.Javascript object>"
            ]
          },
          "metadata": {
            "tags": []
          }
        },
        {
          "output_type": "display_data",
          "data": {
            "application/javascript": [
              "\n",
              "        // We don't really need these require scripts. But this is to avert\n",
              "        //this code from running before display_input_sequence which DOES require external files\n",
              "        requirejs(['basic', 'ecco'], function(basic, ecco){\n",
              "                console.log('addToken viz_id', 'viz_297367');\n",
              "                window.ecco['viz_297367'].addToken({\"token\": \"5\", \"token_id\": 20, \"position\": 25, \"type\": \"output\"})\n",
              "                window.ecco['viz_297367'].redraw()\n",
              "        })\n",
              "        "
            ],
            "text/plain": [
              "<IPython.core.display.Javascript object>"
            ]
          },
          "metadata": {
            "tags": []
          }
        },
        {
          "output_type": "display_data",
          "data": {
            "application/javascript": [
              "\n",
              "        // We don't really need these require scripts. But this is to avert\n",
              "        //this code from running before display_input_sequence which DOES require external files\n",
              "        requirejs(['basic', 'ecco'], function(basic, ecco){\n",
              "                console.log('addToken viz_id', 'viz_297367');\n",
              "                window.ecco['viz_297367'].addToken({\"token\": \".\", \"token_id\": 13, \"position\": 26, \"type\": \"output\"})\n",
              "                window.ecco['viz_297367'].redraw()\n",
              "        })\n",
              "        "
            ],
            "text/plain": [
              "<IPython.core.display.Javascript object>"
            ]
          },
          "metadata": {
            "tags": []
          }
        },
        {
          "output_type": "display_data",
          "data": {
            "application/javascript": [
              "\n",
              "        // We don't really need these require scripts. But this is to avert\n",
              "        //this code from running before display_input_sequence which DOES require external files\n",
              "        requirejs(['basic', 'ecco'], function(basic, ecco){\n",
              "                console.log('addToken viz_id', 'viz_297367');\n",
              "                window.ecco['viz_297367'].addToken({\"token\": \" Czech\", \"token_id\": 16639, \"position\": 27, \"type\": \"output\"})\n",
              "                window.ecco['viz_297367'].redraw()\n",
              "        })\n",
              "        "
            ],
            "text/plain": [
              "<IPython.core.display.Javascript object>"
            ]
          },
          "metadata": {
            "tags": []
          }
        },
        {
          "output_type": "display_data",
          "data": {
            "application/javascript": [
              "\n",
              "        // We don't really need these require scripts. But this is to avert\n",
              "        //this code from running before display_input_sequence which DOES require external files\n",
              "        requirejs(['basic', 'ecco'], function(basic, ecco){\n",
              "                console.log('addToken viz_id', 'viz_297367');\n",
              "                window.ecco['viz_297367'].addToken({\"token\": \" Republic\", \"token_id\": 2066, \"position\": 28, \"type\": \"output\"})\n",
              "                window.ecco['viz_297367'].redraw()\n",
              "        })\n",
              "        "
            ],
            "text/plain": [
              "<IPython.core.display.Javascript object>"
            ]
          },
          "metadata": {
            "tags": []
          }
        },
        {
          "output_type": "display_data",
          "data": {
            "application/javascript": [
              "\n",
              "        // We don't really need these require scripts. But this is to avert\n",
              "        //this code from running before display_input_sequence which DOES require external files\n",
              "        requirejs(['basic', 'ecco'], function(basic, ecco){\n",
              "                console.log('addToken viz_id', 'viz_297367');\n",
              "                window.ecco['viz_297367'].addToken({\"token\": \"\\n\", \"token_id\": 198, \"position\": 29, \"type\": \"output\"})\n",
              "                window.ecco['viz_297367'].redraw()\n",
              "        })\n",
              "        "
            ],
            "text/plain": [
              "<IPython.core.display.Javascript object>"
            ]
          },
          "metadata": {
            "tags": []
          }
        },
        {
          "output_type": "display_data",
          "data": {
            "application/javascript": [
              "\n",
              "        // We don't really need these require scripts. But this is to avert\n",
              "        //this code from running before display_input_sequence which DOES require external files\n",
              "        requirejs(['basic', 'ecco'], function(basic, ecco){\n",
              "                console.log('addToken viz_id', 'viz_297367');\n",
              "                window.ecco['viz_297367'].addToken({\"token\": \"6\", \"token_id\": 21, \"position\": 30, \"type\": \"output\"})\n",
              "                window.ecco['viz_297367'].redraw()\n",
              "        })\n",
              "        "
            ],
            "text/plain": [
              "<IPython.core.display.Javascript object>"
            ]
          },
          "metadata": {
            "tags": []
          }
        },
        {
          "output_type": "display_data",
          "data": {
            "application/javascript": [
              "\n",
              "        // We don't really need these require scripts. But this is to avert\n",
              "        //this code from running before display_input_sequence which DOES require external files\n",
              "        requirejs(['basic', 'ecco'], function(basic, ecco){\n",
              "                console.log('addToken viz_id', 'viz_297367');\n",
              "                window.ecco['viz_297367'].addToken({\"token\": \".\", \"token_id\": 13, \"position\": 31, \"type\": \"output\"})\n",
              "                window.ecco['viz_297367'].redraw()\n",
              "        })\n",
              "        "
            ],
            "text/plain": [
              "<IPython.core.display.Javascript object>"
            ]
          },
          "metadata": {
            "tags": []
          }
        },
        {
          "output_type": "display_data",
          "data": {
            "application/javascript": [
              "\n",
              "        // We don't really need these require scripts. But this is to avert\n",
              "        //this code from running before display_input_sequence which DOES require external files\n",
              "        requirejs(['basic', 'ecco'], function(basic, ecco){\n",
              "                console.log('addToken viz_id', 'viz_297367');\n",
              "                window.ecco['viz_297367'].addToken({\"token\": \" Croatia\", \"token_id\": 28975, \"position\": 32, \"type\": \"output\"})\n",
              "                window.ecco['viz_297367'].redraw()\n",
              "        })\n",
              "        "
            ],
            "text/plain": [
              "<IPython.core.display.Javascript object>"
            ]
          },
          "metadata": {
            "tags": []
          }
        },
        {
          "output_type": "display_data",
          "data": {
            "application/javascript": [
              "\n",
              "        // We don't really need these require scripts. But this is to avert\n",
              "        //this code from running before display_input_sequence which DOES require external files\n",
              "        requirejs(['basic', 'ecco'], function(basic, ecco){\n",
              "                console.log('addToken viz_id', 'viz_297367');\n",
              "                window.ecco['viz_297367'].addToken({\"token\": \"\\n\", \"token_id\": 198, \"position\": 33, \"type\": \"output\"})\n",
              "                window.ecco['viz_297367'].redraw()\n",
              "        })\n",
              "        "
            ],
            "text/plain": [
              "<IPython.core.display.Javascript object>"
            ]
          },
          "metadata": {
            "tags": []
          }
        },
        {
          "output_type": "display_data",
          "data": {
            "application/javascript": [
              "\n",
              "        // We don't really need these require scripts. But this is to avert\n",
              "        //this code from running before display_input_sequence which DOES require external files\n",
              "        requirejs(['basic', 'ecco'], function(basic, ecco){\n",
              "                console.log('addToken viz_id', 'viz_297367');\n",
              "                window.ecco['viz_297367'].addToken({\"token\": \"7\", \"token_id\": 22, \"position\": 34, \"type\": \"output\"})\n",
              "                window.ecco['viz_297367'].redraw()\n",
              "        })\n",
              "        "
            ],
            "text/plain": [
              "<IPython.core.display.Javascript object>"
            ]
          },
          "metadata": {
            "tags": []
          }
        },
        {
          "output_type": "display_data",
          "data": {
            "application/javascript": [
              "\n",
              "        // We don't really need these require scripts. But this is to avert\n",
              "        //this code from running before display_input_sequence which DOES require external files\n",
              "        requirejs(['basic', 'ecco'], function(basic, ecco){\n",
              "                console.log('addToken viz_id', 'viz_297367');\n",
              "                window.ecco['viz_297367'].addToken({\"token\": \".\", \"token_id\": 13, \"position\": 35, \"type\": \"output\"})\n",
              "                window.ecco['viz_297367'].redraw()\n",
              "        })\n",
              "        "
            ],
            "text/plain": [
              "<IPython.core.display.Javascript object>"
            ]
          },
          "metadata": {
            "tags": []
          }
        },
        {
          "output_type": "display_data",
          "data": {
            "application/javascript": [
              "\n",
              "        // We don't really need these require scripts. But this is to avert\n",
              "        //this code from running before display_input_sequence which DOES require external files\n",
              "        requirejs(['basic', 'ecco'], function(basic, ecco){\n",
              "                console.log('addToken viz_id', 'viz_297367');\n",
              "                window.ecco['viz_297367'].addToken({\"token\": \" Czech\", \"token_id\": 16639, \"position\": 36, \"type\": \"output\"})\n",
              "                window.ecco['viz_297367'].redraw()\n",
              "        })\n",
              "        "
            ],
            "text/plain": [
              "<IPython.core.display.Javascript object>"
            ]
          },
          "metadata": {
            "tags": []
          }
        },
        {
          "output_type": "display_data",
          "data": {
            "application/javascript": [
              "\n",
              "        // We don't really need these require scripts. But this is to avert\n",
              "        //this code from running before display_input_sequence which DOES require external files\n",
              "        requirejs(['basic', 'ecco'], function(basic, ecco){\n",
              "                console.log('addToken viz_id', 'viz_297367');\n",
              "                window.ecco['viz_297367'].addToken({\"token\": \" Republic\", \"token_id\": 2066, \"position\": 37, \"type\": \"output\"})\n",
              "                window.ecco['viz_297367'].redraw()\n",
              "        })\n",
              "        "
            ],
            "text/plain": [
              "<IPython.core.display.Javascript object>"
            ]
          },
          "metadata": {
            "tags": []
          }
        },
        {
          "output_type": "display_data",
          "data": {
            "application/javascript": [
              "\n",
              "        // We don't really need these require scripts. But this is to avert\n",
              "        //this code from running before display_input_sequence which DOES require external files\n",
              "        requirejs(['basic', 'ecco'], function(basic, ecco){\n",
              "                console.log('addToken viz_id', 'viz_297367');\n",
              "                window.ecco['viz_297367'].addToken({\"token\": \"\\n\", \"token_id\": 198, \"position\": 38, \"type\": \"output\"})\n",
              "                window.ecco['viz_297367'].redraw()\n",
              "        })\n",
              "        "
            ],
            "text/plain": [
              "<IPython.core.display.Javascript object>"
            ]
          },
          "metadata": {
            "tags": []
          }
        },
        {
          "output_type": "display_data",
          "data": {
            "application/javascript": [
              "\n",
              "        // We don't really need these require scripts. But this is to avert\n",
              "        //this code from running before display_input_sequence which DOES require external files\n",
              "        requirejs(['basic', 'ecco'], function(basic, ecco){\n",
              "                console.log('addToken viz_id', 'viz_297367');\n",
              "                window.ecco['viz_297367'].addToken({\"token\": \"8\", \"token_id\": 23, \"position\": 39, \"type\": \"output\"})\n",
              "                window.ecco['viz_297367'].redraw()\n",
              "        })\n",
              "        "
            ],
            "text/plain": [
              "<IPython.core.display.Javascript object>"
            ]
          },
          "metadata": {
            "tags": []
          }
        },
        {
          "output_type": "display_data",
          "data": {
            "application/javascript": [
              "\n",
              "        // We don't really need these require scripts. But this is to avert\n",
              "        //this code from running before display_input_sequence which DOES require external files\n",
              "        requirejs(['basic', 'ecco'], function(basic, ecco){\n",
              "                console.log('addToken viz_id', 'viz_297367');\n",
              "                window.ecco['viz_297367'].addToken({\"token\": \".\", \"token_id\": 13, \"position\": 40, \"type\": \"output\"})\n",
              "                window.ecco['viz_297367'].redraw()\n",
              "        })\n",
              "        "
            ],
            "text/plain": [
              "<IPython.core.display.Javascript object>"
            ]
          },
          "metadata": {
            "tags": []
          }
        },
        {
          "output_type": "display_data",
          "data": {
            "application/javascript": [
              "\n",
              "        // We don't really need these require scripts. But this is to avert\n",
              "        //this code from running before display_input_sequence which DOES require external files\n",
              "        requirejs(['basic', 'ecco'], function(basic, ecco){\n",
              "                console.log('addToken viz_id', 'viz_297367');\n",
              "                window.ecco['viz_297367'].addToken({\"token\": \" Denmark\", \"token_id\": 16490, \"position\": 41, \"type\": \"output\"})\n",
              "                window.ecco['viz_297367'].redraw()\n",
              "        })\n",
              "        "
            ],
            "text/plain": [
              "<IPython.core.display.Javascript object>"
            ]
          },
          "metadata": {
            "tags": []
          }
        },
        {
          "output_type": "display_data",
          "data": {
            "application/javascript": [
              "\n",
              "        // We don't really need these require scripts. But this is to avert\n",
              "        //this code from running before display_input_sequence which DOES require external files\n",
              "        requirejs(['basic', 'ecco'], function(basic, ecco){\n",
              "                console.log('addToken viz_id', 'viz_297367');\n",
              "                window.ecco['viz_297367'].addToken({\"token\": \"\\n\", \"token_id\": 198, \"position\": 42, \"type\": \"output\"})\n",
              "                window.ecco['viz_297367'].redraw()\n",
              "        })\n",
              "        "
            ],
            "text/plain": [
              "<IPython.core.display.Javascript object>"
            ]
          },
          "metadata": {
            "tags": []
          }
        }
      ]
    },
    {
      "cell_type": "markdown",
      "metadata": {
        "id": "r-ikx4AVBvLK"
      },
      "source": [
        "The `rankings()` visualization view shows us at which layers the model resolved the output token for each position."
      ]
    },
    {
      "cell_type": "code",
      "metadata": {
        "colab": {
          "base_uri": "https://localhost:8080/",
          "height": 343
        },
        "id": "bI2OpemBE5cG",
        "outputId": "41f92b2c-00bb-4b59-8f55-4583ea8f9b39"
      },
      "source": [
        "output_3.rankings()"
      ],
      "execution_count": null,
      "outputs": [
        {
          "output_type": "display_data",
          "data": {
            "image/png": "[encoded data removed]",
            "text/plain": [
              "<Figure size 1368x244.8 with 3 Axes>"
            ]
          },
          "metadata": {
            "tags": []
          }
        }
      ]
    },
    {
      "cell_type": "markdown",
      "metadata": {
        "id": "XJ-5kli5CGyf"
      },
      "source": [
        "The `saliency()` visualization shows which tokens contributed the most towards generating each output token (using the gradient X Input method):"
      ]
    },
    {
      "cell_type": "code",
      "metadata": {
        "colab": {
          "base_uri": "https://localhost:8080/",
          "height": 237
        },
        "id": "D-nKpXW5FPlY",
        "outputId": "a476e098-5e50-4f51-9362-990ebb52ade9"
      },
      "source": [
        "output_3.saliency()"
      ],
      "execution_count": null,
      "outputs": [
        {
          "output_type": "display_data",
          "data": {
            "text/html": [
              "<html lang=\"en\">\n",
              "<script src=\"https://requirejs.org/docs/release/2.3.6/minified/require.js\"></script>\n",
              "<script>\n",
              "    var ecco_url = 'https://storage.googleapis.com/ml-intro/ecco/'\n",
              "    // var ecco_url = 'http://localhost:8000/ecco/'\n",
              "\n",
              "    if (window.ecco === undefined) window.ecco = {}\n",
              "\n",
              "    requirejs.config({\n",
              "        urlArgs: \"bust=\" + (new Date()).getTime(),\n",
              "        nodeRequire: require,\n",
              "        paths: {\n",
              "            d3: \"https://d3js.org/d3.v5.min\",\n",
              "            \"d3-array\": \"https://d3js.org/d3-array.v2.min\",\n",
              "            jquery: \"https://code.jquery.com/jquery-3.5.1.min\",\n",
              "            // oldEcco: ecco_url + 'ecco',\n",
              "            ecco: ecco_url + 'js/0.0.4/ecco-bundle.min',\n",
              "            xregexp: 'https://cdnjs.cloudflare.com/ajax/libs/xregexp/3.2.0/xregexp-all.min'\n",
              "        }\n",
              "    });\n",
              "    requirejs(['d3'],\n",
              "        function (d3) {\n",
              "            d3.select('#css').attr('href', ecco_url + 'html/styles.css')\n",
              "        })\n",
              "\n",
              "    console.log('Ecco initialize.')\n",
              "</script>\n",
              "\n",
              "<head>\n",
              "    <link id='css' rel=\"stylesheet\" type=\"text/css\">\n",
              "</head>\n"
            ],
            "text/plain": [
              "<IPython.core.display.HTML object>"
            ]
          },
          "metadata": {
            "tags": []
          }
        },
        {
          "output_type": "display_data",
          "data": {
            "text/html": [
              "<script>\n",
              "    // console.log('defining basic')\n",
              "    define('basic', ['d3'],\n",
              "        function (d3) {\n",
              "            return {\n",
              "                init: function (viz_id = null) {\n",
              "\n",
              "                    // console.log('basic init')\n",
              "                    if (viz_id == null){\n",
              "                        viz_id = \"viz_\" + Math.round(Math.random() * 10000000)\n",
              "                    }\n",
              "                    const div = d3.select('#basic').attr('id', viz_id),\n",
              "                        div_parent = d3.select('#' + viz_id).node().parentNode\n",
              "\n",
              "                    // Link to CSS file\n",
              "                    d3.select(div_parent).insert('link')\n",
              "                        .attr('rel', 'stylesheet')\n",
              "                        .attr('type', 'text/css')\n",
              "                        .attr('href', ecco_url + 'html/styles.css')\n",
              "\n",
              "                    return viz_id\n",
              "                }\n",
              "            }\n",
              "        }, function (err) {console.log(err);}\n",
              "    )\n",
              "    // console.log('after defining basic')\n",
              "\n",
              "</script>\n",
              "<div id=\"basic\"></div>\n"
            ],
            "text/plain": [
              "<IPython.core.display.HTML object>"
            ]
          },
          "metadata": {
            "tags": []
          }
        },
        {
          "output_type": "display_data",
          "data": {
            "application/javascript": [
              "\n",
              "             requirejs(['basic', 'ecco'], function(basic, ecco){\n",
              "                const viz_id = basic.init()\n",
              "                // ecco.interactiveTokens(viz_id, {})\n",
              "                window.ecco[viz_id] = new ecco.MinimalHighlighter({\n",
              "                parentDiv: viz_id,\n",
              "                data: {'tokens': [{'token': 'The', 'token_id': 464, 'type': 'input', 'value': '0.049845695', 'position': 0}, {'token': ' countries', 'token_id': 2678, 'type': 'input', 'value': '0.050903756', 'position': 1}, {'token': ' of', 'token_id': 286, 'type': 'input', 'value': '0.013019185', 'position': 2}, {'token': ' the', 'token_id': 262, 'type': 'input', 'value': '0.011890959', 'position': 3}, {'token': ' European', 'token_id': 3427, 'type': 'input', 'value': '0.048978824', 'position': 4}, {'token': ' Union', 'token_id': 4479, 'type': 'input', 'value': '0.027450431', 'position': 5}, {'token': ' are', 'token_id': 389, 'type': 'input', 'value': '0.015803536', 'position': 6}, {'token': ':', 'token_id': 25, 'type': 'input', 'value': '0.020174112', 'position': 7}, {'token': '\\n', 'token_id': 198, 'type': 'input', 'value': '0.026422866', 'position': 8}, {'token': '1', 'token_id': 16, 'type': 'input', 'value': '0.03569955', 'position': 9}, {'token': '.', 'token_id': 13, 'type': 'input', 'value': '0.0265311', 'position': 10}, {'token': ' Austria', 'token_id': 17322, 'type': 'input', 'value': '0.15094104', 'position': 11}, {'token': '\\n', 'token_id': 198, 'type': 'input', 'value': '0.02336833', 'position': 12}, {'token': '2', 'token_id': 17, 'type': 'input', 'value': '0.025183896', 'position': 13}, {'token': '.', 'token_id': 13, 'type': 'input', 'value': '0.019457716', 'position': 14}, {'token': ' Belgium', 'token_id': 15664, 'type': 'input', 'value': '0.12963511', 'position': 15}, {'token': '\\n', 'token_id': 198, 'type': 'input', 'value': '0.01746115', 'position': 16}, {'token': '3', 'token_id': 18, 'type': 'input', 'value': '0.028114133', 'position': 17}, {'token': '.', 'token_id': 13, 'type': 'input', 'value': '0.025315696', 'position': 18}, {'token': ' Bulgaria', 'token_id': 27902, 'type': 'input', 'value': '0.16295704', 'position': 19}, {'token': '\\n', 'token_id': 198, 'type': 'input', 'value': '0.016801849', 'position': 20}, {'token': '4', 'token_id': 19, 'type': 'input', 'value': '0.04048571', 'position': 21}, {'token': '.', 'token_id': 13, 'type': 'input', 'value': '0.03355836', 'position': 22}, {'token': ' Croatia', 'token_id': 28975, 'type': 'output', 'value': '0', 'position': 23}, {'token': '\\n', 'token_id': 198, 'type': 'output', 'value': '0', 'position': 24}, {'token': '5', 'token_id': 20, 'type': 'output', 'value': '0', 'position': 25}, {'token': '.', 'token_id': 13, 'type': 'output', 'value': '0', 'position': 26}, {'token': ' Denmark', 'token_id': 16490, 'type': 'output', 'value': '0', 'position': 27}, {'token': '\\n', 'token_id': 198, 'type': 'output', 'value': '0', 'position': 28}, {'token': '6', 'token_id': 21, 'type': 'output', 'value': '0', 'position': 29}, {'token': '.', 'token_id': 13, 'type': 'output', 'value': '0', 'position': 30}, {'token': ' Estonia', 'token_id': 30912, 'type': 'output', 'value': '0', 'position': 31}, {'token': '\\n', 'token_id': 198, 'type': 'output', 'value': '0', 'position': 32}, {'token': '7', 'token_id': 22, 'type': 'output', 'value': '0', 'position': 33}, {'token': '.', 'token_id': 13, 'type': 'output', 'value': '0', 'position': 34}, {'token': ' Finland', 'token_id': 17837, 'type': 'output', 'value': '0', 'position': 35}, {'token': '\\n', 'token_id': 198, 'type': 'output', 'value': '0', 'position': 36}, {'token': '8', 'token_id': 23, 'type': 'output', 'value': '0', 'position': 37}, {'token': '.', 'token_id': 13, 'type': 'output', 'value': '0', 'position': 38}, {'token': ' France', 'token_id': 4881, 'type': 'output', 'value': '0', 'position': 39}, {'token': '\\n', 'token_id': 198, 'type': 'output', 'value': '0', 'position': 40}, {'token': '9', 'token_id': 24, 'type': 'output', 'value': '0', 'position': 41}, {'token': '.', 'token_id': 13, 'type': 'output', 'value': '0', 'position': 42}], 'attributions': [[0.04984569549560547, 0.05090375617146492, 0.013019184581935406, 0.011890958994626999, 0.04897882416844368, 0.027450431138277054, 0.015803536400198936, 0.020174112170934677, 0.026422865688800812, 0.035699550062417984, 0.026531100273132324, 0.15094104409217834, 0.02336833067238331, 0.025183895602822304, 0.01945771649479866, 0.12963511049747467, 0.017461150884628296, 0.028114132583141327, 0.025315696373581886, 0.16295704245567322, 0.016801849007606506, 0.04048570990562439, 0.03355836123228073], [0.05159769207239151, 0.06581486016511917, 0.01636352576315403, 0.014876791276037693, 0.04087211564183235, 0.03301149606704712, 0.0303588155657053, 0.038537245243787766, 0.03610890358686447, 0.046847254037857056, 0.030281327664852142, 0.08394518494606018, 0.025624804198741913, 0.03170834854245186, 0.026182018220424652, 0.04757749289274216, 0.022194528952240944, 0.028022898361086845, 0.016048911958932877, 0.0459299199283123, 0.02283228188753128, 0.029318900778889656, 0.022131895646452904, 0.19381271302700043], [0.044737059623003006, 0.058928921818733215, 0.017215099185705185, 0.014092698693275452, 0.038349270820617676, 0.02883792854845524, 0.025112425908446312, 0.03546454384922981, 0.04560326784849167, 0.06670594960451126, 0.031322889029979706, 0.053467944264411926, 0.03134693577885628, 0.05674830824136734, 0.02103975974023342, 0.03218746930360794, 0.02557113766670227, 0.05841219425201416, 0.025113621726632118, 0.040040478110313416, 0.028595976531505585, 0.07237008213996887, 0.025994373485445976, 0.06815606355667114, 0.054585520178079605], [0.04556412622332573, 0.07599051296710968, 0.014213352464139462, 0.011679482646286488, 0.031248819082975388, 0.02763707935810089, 0.022448407486081123, 0.024262141436338425, 0.02798958495259285, 0.04534640535712242, 0.028740929439663887, 0.0698070377111435, 0.02289780043065548, 0.03467099368572235, 0.03158089891076088, 0.0439063161611557, 0.02173238806426525, 0.03625648841261864, 0.030535971745848656, 0.046762626618146896, 0.027217542752623558, 0.05282250791788101, 0.028184473514556885, 0.07271526008844376, 0.03528711199760437, 0.09050179272890091], [0.047879405319690704, 0.04463256150484085, 0.012233714573085308, 0.011262846179306507, 0.04436526820063591, 0.024753017351031303, 0.015054945833981037, 0.020006230100989342, 0.025138789787888527, 0.02865767665207386, 0.021696895360946655, 0.11871129274368286, 0.019099485129117966, 0.020845230668783188, 0.015476241707801819, 0.08560745418071747, 0.01487815286964178, 0.018792390823364258, 0.021685877814888954, 0.09394844621419907, 0.01619810052216053, 0.022164473310112953, 0.015942437574267387, 0.15044087171554565, 0.01816990226507187, 0.038085125386714935, 0.034273140132427216], [0.04914150387048721, 0.058714646846055984, 0.015240165404975414, 0.013058601878583431, 0.039061956107616425, 0.031377002596855164, 0.027125071734189987, 0.032355740666389465, 0.0340917631983757, 0.04219183325767517, 0.02534228004515171, 0.07620307058095932, 0.023327510803937912, 0.027253272011876106, 0.021984469145536423, 0.04963532090187073, 0.021092921495437622, 0.021636130288243294, 0.01587340421974659, 0.042614925652742386, 0.02058415301144123, 0.026377389207482338, 0.012116452679038048, 0.03547227010130882, 0.020630504935979843, 0.029118215665221214, 0.024426154792308807, 0.16395331919193268], [0.040190521627664566, 0.05274410545825958, 0.014852195978164673, 0.010532177984714508, 0.030350839719176292, 0.023374143987894058, 0.02323976345360279, 0.03394238278269768, 0.04369436949491501, 0.051846086978912354, 0.027147604152560234, 0.044575102627277374, 0.02902904711663723, 0.039711739867925644, 0.017231546342372894, 0.029958652332425117, 0.02527453564107418, 0.0394170880317688, 0.018741989508271217, 0.030757945030927658, 0.02224419079720974, 0.059927746653556824, 0.01845034770667553, 0.03755088150501251, 0.028074029833078384, 0.08116057515144348, 0.027408063411712646, 0.05935509502887726, 0.03921716287732124], [0.04654404893517494, 0.07041539996862411, 0.012482551857829094, 0.011396734975278378, 0.029890719801187515, 0.02519671805202961, 0.019855573773384094, 0.022479813545942307, 0.027129460126161575, 0.03981876000761986, 0.025661315768957138, 0.06043665483593941, 0.01913442462682724, 0.0263168066740036, 0.026269307360053062, 0.041864145547151566, 0.02010073885321617, 0.026470128446817398, 0.0211385115981102, 0.039400551468133926, 0.01851540431380272, 0.025034068152308464, 0.02831311896443367, 0.03409232199192047, 0.02947641722857952, 0.044275641441345215, 0.026202337816357613, 0.05921481177210808, 0.03343457356095314, 0.08943895250558853], [0.0456584133207798, 0.04319539666175842, 0.01220129244029522, 0.01075691357254982, 0.041175831109285355, 0.02427147887647152, 0.014837352558970451, 0.01824488304555416, 0.022507231682538986, 0.0271108690649271, 0.018962139263749123, 0.11193634569644928, 0.01703573949635029, 0.018362438306212425, 0.012150231748819351, 0.0717754140496254, 0.014612052589654922, 0.01649329997599125, 0.012361781671643257, 0.0745086669921875, 0.014877984300255775, 0.017327813431620598, 0.010555027052760124, 0.07505199313163757, 0.012122422456741333, 0.016550330445170403, 0.016004543751478195, 0.12188463658094406, 0.014693467877805233, 0.03749288618564606, 0.03528105095028877], [0.040892522782087326, 0.03878510743379593, 0.01324292179197073, 0.009177335537970066, 0.02774147130548954, 0.02021709457039833, 0.021582093089818954, 0.033820003271102905, 0.030718864873051643, 0.032363295555114746, 0.0202050618827343, 0.052551113069057465, 0.02850029617547989, 0.025719385594129562, 0.013953443616628647, 0.029272856190800667, 0.021574538201093674, 0.019161924719810486, 0.009781702421605587, 0.04335404932498932, 0.020072175189852715, 0.016982702538371086, 0.00925701018422842, 0.039546262472867966, 0.020929811522364616, 0.014713520184159279, 0.00891731958836317, 0.036588914692401886, 0.0289558544754982, 0.02712731994688511, 0.02093120478093624, 0.22336286306381226], [0.03582195192575455, 0.04115242883563042, 0.012044479139149189, 0.008552996441721916, 0.024631470441818237, 0.01957428827881813, 0.017315983772277832, 0.02864876575767994, 0.040863726288080215, 0.04255764186382294, 0.019712332636117935, 0.03563801571726799, 0.022602079436182976, 0.03121521882712841, 0.01525796391069889, 0.02429679036140442, 0.0224674753844738, 0.03261697292327881, 0.015243209898471832, 0.029904287308454514, 0.020624615252017975, 0.04320544749498367, 0.01737932115793228, 0.030291428789496422, 0.02794494666159153, 0.06815430521965027, 0.014030594378709793, 0.027092907577753067, 0.028561394661664963, 0.08003107458353043, 0.021792858839035034, 0.06080961972475052, 0.03996335342526436], [0.04448612034320831, 0.0642140582203865, 0.011944766156375408, 0.011876829899847507, 0.02682151086628437, 0.022259611636400223, 0.019542977213859558, 0.02169598825275898, 0.025913508608937263, 0.03342360630631447, 0.02317955158650875, 0.0568205825984478, 0.017061183229088783, 0.022135017439723015, 0.02340884320437908, 0.03833380341529846, 0.016120929270982742, 0.019603915512561798, 0.018123531714081764, 0.03574765846133232, 0.015326881781220436, 0.021546192467212677, 0.018138524144887924, 0.026938749477267265, 0.016619615256786346, 0.02040095254778862, 0.026912128552794456, 0.025800492614507675, 0.028257669880986214, 0.056263577193021774, 0.022490115836262703, 0.0593595877289772, 0.02825912833213806, 0.08097236603498459], [0.04298366606235504, 0.03960374742746353, 0.010734406299889088, 0.009574387222528458, 0.037950508296489716, 0.0223844014108181, 0.013327563181519508, 0.01706058159470558, 0.020998314023017883, 0.022538192570209503, 0.016597798094153404, 0.09993427991867065, 0.01484288927167654, 0.015192458406090736, 0.01105404831469059, 0.05917622148990631, 0.012434937991201878, 0.014373451471328735, 0.012119964696466923, 0.06293977797031403, 0.0127536840736866, 0.018374674022197723, 0.00844087265431881, 0.062427155673503876, 0.011274785734713078, 0.012900017201900482, 0.009872019290924072, 0.07482825219631195, 0.0125228026881814, 0.019737837836146355, 0.016222033649683, 0.10747968405485153, 0.01612960919737816, 0.032402437180280685, 0.028812529519200325], [0.04371986538171768, 0.03942372277379036, 0.014879797585308552, 0.009454012848436832, 0.028494102880358696, 0.02066473476588726, 0.02161099575459957, 0.03259193152189255, 0.029745588079094887, 0.031858839094638824, 0.018766146153211594, 0.05574775114655495, 0.026181232184171677, 0.02561790496110916, 0.013678368180990219, 0.03578735888004303, 0.018848970532417297, 0.01843409426510334, 0.008739509619772434, 0.035623762756586075, 0.017353111878037453, 0.01682649366557598, 0.008178062736988068, 0.03323042765259743, 0.019216621294617653, 0.014452507719397545, 0.007650855928659439, 0.031197436153888702, 0.022690819576382637, 0.01809784211218357, 0.007484751287847757, 0.03537712246179581, 0.024291198700666428, 0.023350510746240616, 0.018684176728129387, 0.1720494031906128], [0.03540690243244171, 0.045539628714323044, 0.012470348738133907, 0.009530636481940746, 0.02489466406404972, 0.020223936066031456, 0.018901178613305092, 0.027300972491502762, 0.041780222207307816, 0.039647895842790604, 0.01789906993508339, 0.03602476790547371, 0.023449139669537544, 0.028002679347991943, 0.014249159023165703, 0.02506502903997898, 0.017947888001799583, 0.026013603433966637, 0.011996050365269184, 0.028653832152485847, 0.017451493069529533, 0.03550845384597778, 0.010990303009748459, 0.02657736837863922, 0.021879838779568672, 0.04423748701810837, 0.010390713810920715, 0.022687695920467377, 0.02104838192462921, 0.04276839271187782, 0.011482208967208862, 0.03505849093198776, 0.025371113792061806, 0.05589830502867699, 0.019565340131521225, 0.054716821759939194, 0.03936995565891266], [0.04437626153230667, 0.06325364112854004, 0.011824119836091995, 0.0116911381483078, 0.026242848485708237, 0.021933265030384064, 0.0195402093231678, 0.021425776183605194, 0.025451501831412315, 0.03330651670694351, 0.020715557038784027, 0.05491561070084572, 0.015387042425572872, 0.02071751281619072, 0.020525092259049416, 0.037394504994153976, 0.012698509730398655, 0.015934929251670837, 0.014545305632054806, 0.0344892218708992, 0.011643235571682453, 0.01569443568587303, 0.014700992964208126, 0.02592422068119049, 0.011812731623649597, 0.015979895368218422, 0.015882091596722603, 0.021320581436157227, 0.0142875537276268, 0.021540002897381783, 0.022975612431764603, 0.031926605850458145, 0.018552152439951897, 0.04930208623409271, 0.02128119394183159, 0.04851604998111725, 0.028825506567955017, 0.0834665596485138], [0.0403720960021019, 0.0355222150683403, 0.00957600399851799, 0.009131336584687233, 0.032514385879039764, 0.01964779756963253, 0.011334282346069813, 0.015336944721639156, 0.018713101744651794, 0.019741857424378395, 0.01627713069319725, 0.08563108742237091, 0.01257987692952156, 0.01377767976373434, 0.01004440151154995, 0.04902767762541771, 0.010359587147831917, 0.012758905999362469, 0.00966776255518198, 0.05174286291003227, 0.010423892177641392, 0.015223609283566475, 0.00759942876175046, 0.05077924579381943, 0.008893057703971863, 0.011547095142304897, 0.0066984412260353565, 0.05126207321882248, 0.011364861391484737, 0.014282476156949997, 0.010964732617139816, 0.08239242434501648, 0.01226058416068554, 0.025275463238358498, 0.01633569970726967, 0.11647315323352814, 0.017649158835411072, 0.022472962737083435, 0.024344630539417267], [0.039644427597522736, 0.04434243589639664, 0.012124788016080856, 0.00982428714632988, 0.032150689512491226, 0.02334301546216011, 0.01944142021238804, 0.02632255107164383, 0.029774194583296776, 0.03349492326378822, 0.020103812217712402, 0.05349431186914444, 0.022542286664247513, 0.02491205558180809, 0.018298791721463203, 0.03510984033346176, 0.015396015718579292, 0.01843508891761303, 0.012865942902863026, 0.031345028430223465, 0.01262460183352232, 0.01686202362179756, 0.010735608637332916, 0.02490989677608013, 0.011885669082403183, 0.014011088758707047, 0.009998307563364506, 0.019255755469202995, 0.015180033631622791, 0.017416683956980705, 0.007682695519179106, 0.02858710289001465, 0.01231721043586731, 0.020733511075377464, 0.009084456600248814, 0.028545713052153587, 0.021001938730478287, 0.028706930577754974, 0.02246040292084217, 0.14503440260887146], [0.036054328083992004, 0.045859672129154205, 0.011890910565853119, 0.009643647819757462, 0.02481902204453945, 0.019838962703943253, 0.019176576286554337, 0.026490923017263412, 0.03971884399652481, 0.03764115646481514, 0.018844861537218094, 0.03454692289233208, 0.021217375993728638, 0.024732720106840134, 0.014026353135704994, 0.023098886013031006, 0.015357316471636295, 0.02281074784696102, 0.011217629536986351, 0.02432829886674881, 0.01447601430118084, 0.02891850471496582, 0.009283018298447132, 0.021820921450853348, 0.017397621646523476, 0.03471113368868828, 0.008193324320018291, 0.0220677200704813, 0.015030083246529102, 0.030184200033545494, 0.008182653225958347, 0.023278336971998215, 0.014671565033495426, 0.03495429456233978, 0.009950640611350536, 0.028087390586733818, 0.024908073246479034, 0.06430774182081223, 0.01876322738826275, 0.05023129656910896, 0.039267100393772125], [0.042847976088523865, 0.060311462730169296, 0.011265233159065247, 0.011852672323584557, 0.025437969714403152, 0.020172782242298126, 0.018759235739707947, 0.01948109269142151, 0.024690546095371246, 0.030227195471525192, 0.020058101043105125, 0.05013445019721985, 0.01509705651551485, 0.018656324595212936, 0.01905263029038906, 0.03759434074163437, 0.011791487224400043, 0.01413016114383936, 0.014570302329957485, 0.03588670864701271, 0.010408779606223106, 0.013579316437244415, 0.012907578609883785, 0.026298196986317635, 0.01031592208892107, 0.013130751438438892, 0.011853545904159546, 0.018716074526309967, 0.01139790378510952, 0.016231413930654526, 0.01407905388623476, 0.02464297227561474, 0.012739025987684727, 0.020224664360284805, 0.019539708271622658, 0.02587432600557804, 0.019721852615475655, 0.05653916671872139, 0.020169856026768684, 0.04070373997092247, 0.023453693836927414, 0.07545484602451324]]},\n",
              "                preset: 'viridis'\n",
              "             })\n",
              "\n",
              "             window.ecco[viz_id].init();\n",
              "             window.ecco[viz_id].selectFirstToken();\n",
              "\n",
              "             }, function (err) {\n",
              "                console.log(err);\n",
              "            })"
            ],
            "text/plain": [
              "<IPython.core.display.Javascript object>"
            ]
          },
          "metadata": {
            "tags": []
          }
        }
      ]
    },
    {
      "cell_type": "markdown",
      "metadata": {
        "id": "4vicS8eRCujY"
      },
      "source": [
        "### Detailed saliency view\n",
        "We can see a more detailed view of the saliency values using the detailed view:"
      ]
    },
    {
      "cell_type": "code",
      "metadata": {
        "id": "9ao3g9RIFa7x",
        "colab": {
          "base_uri": "https://localhost:8080/",
          "height": 357
        },
        "outputId": "e7208416-9b90-4573-fa4f-185fec23e896"
      },
      "source": [
        "output_3.saliency(style=\"detailed\")"
      ],
      "execution_count": null,
      "outputs": [
        {
          "output_type": "display_data",
          "data": {
            "text/html": [
              "<html lang=\"en\">\n",
              "<script src=\"https://requirejs.org/docs/release/2.3.6/minified/require.js\"></script>\n",
              "<script>\n",
              "    var ecco_url = 'https://storage.googleapis.com/ml-intro/ecco/'\n",
              "    // var ecco_url = 'http://localhost:8000/ecco/'\n",
              "\n",
              "    if (window.ecco === undefined) window.ecco = {}\n",
              "\n",
              "    requirejs.config({\n",
              "        urlArgs: \"bust=\" + (new Date()).getTime(),\n",
              "        nodeRequire: require,\n",
              "        paths: {\n",
              "            d3: \"https://d3js.org/d3.v5.min\",\n",
              "            \"d3-array\": \"https://d3js.org/d3-array.v2.min\",\n",
              "            jquery: \"https://code.jquery.com/jquery-3.5.1.min\",\n",
              "            // oldEcco: ecco_url + 'ecco',\n",
              "            ecco: ecco_url + 'js/0.0.4/ecco-bundle.min',\n",
              "            xregexp: 'https://cdnjs.cloudflare.com/ajax/libs/xregexp/3.2.0/xregexp-all.min'\n",
              "        }\n",
              "    });\n",
              "    requirejs(['d3'],\n",
              "        function (d3) {\n",
              "            d3.select('#css').attr('href', ecco_url + 'html/styles.css')\n",
              "        })\n",
              "\n",
              "    console.log('Ecco initialize.')\n",
              "</script>\n",
              "\n",
              "<head>\n",
              "    <link id='css' rel=\"stylesheet\" type=\"text/css\">\n",
              "</head>\n"
            ],
            "text/plain": [
              "<IPython.core.display.HTML object>"
            ]
          },
          "metadata": {
            "tags": []
          }
        },
        {
          "output_type": "display_data",
          "data": {
            "text/html": [
              "<script>\n",
              "    // console.log('defining basic')\n",
              "    define('basic', ['d3'],\n",
              "        function (d3) {\n",
              "            return {\n",
              "                init: function (viz_id = null) {\n",
              "\n",
              "                    // console.log('basic init')\n",
              "                    if (viz_id == null){\n",
              "                        viz_id = \"viz_\" + Math.round(Math.random() * 10000000)\n",
              "                    }\n",
              "                    const div = d3.select('#basic').attr('id', viz_id),\n",
              "                        div_parent = d3.select('#' + viz_id).node().parentNode\n",
              "\n",
              "                    // Link to CSS file\n",
              "                    d3.select(div_parent).insert('link')\n",
              "                        .attr('rel', 'stylesheet')\n",
              "                        .attr('type', 'text/css')\n",
              "                        .attr('href', ecco_url + 'html/styles.css')\n",
              "\n",
              "                    return viz_id\n",
              "                }\n",
              "            }\n",
              "        }, function (err) {console.log(err);}\n",
              "    )\n",
              "    // console.log('after defining basic')\n",
              "\n",
              "</script>\n",
              "<div id=\"basic\"></div>\n"
            ],
            "text/plain": [
              "<IPython.core.display.HTML object>"
            ]
          },
          "metadata": {
            "tags": []
          }
        },
        {
          "output_type": "display_data",
          "data": {
            "application/javascript": [
              "\n",
              "             requirejs(['basic', 'ecco'], function(basic, ecco){\n",
              "                const viz_id = basic.init()\n",
              "                window.ecco[viz_id] = ecco.interactiveTokens(viz_id, {'tokens': [{'token': 'The', 'token_id': 464, 'type': 'input', 'value': '0.049845695', 'position': 0}, {'token': ' countries', 'token_id': 2678, 'type': 'input', 'value': '0.050903756', 'position': 1}, {'token': ' of', 'token_id': 286, 'type': 'input', 'value': '0.013019185', 'position': 2}, {'token': ' the', 'token_id': 262, 'type': 'input', 'value': '0.011890959', 'position': 3}, {'token': ' European', 'token_id': 3427, 'type': 'input', 'value': '0.048978824', 'position': 4}, {'token': ' Union', 'token_id': 4479, 'type': 'input', 'value': '0.027450431', 'position': 5}, {'token': ' are', 'token_id': 389, 'type': 'input', 'value': '0.015803536', 'position': 6}, {'token': ':', 'token_id': 25, 'type': 'input', 'value': '0.020174112', 'position': 7}, {'token': '\\n', 'token_id': 198, 'type': 'input', 'value': '0.026422866', 'position': 8}, {'token': '1', 'token_id': 16, 'type': 'input', 'value': '0.03569955', 'position': 9}, {'token': '.', 'token_id': 13, 'type': 'input', 'value': '0.0265311', 'position': 10}, {'token': ' Austria', 'token_id': 17322, 'type': 'input', 'value': '0.15094104', 'position': 11}, {'token': '\\n', 'token_id': 198, 'type': 'input', 'value': '0.02336833', 'position': 12}, {'token': '2', 'token_id': 17, 'type': 'input', 'value': '0.025183896', 'position': 13}, {'token': '.', 'token_id': 13, 'type': 'input', 'value': '0.019457716', 'position': 14}, {'token': ' Belgium', 'token_id': 15664, 'type': 'input', 'value': '0.12963511', 'position': 15}, {'token': '\\n', 'token_id': 198, 'type': 'input', 'value': '0.01746115', 'position': 16}, {'token': '3', 'token_id': 18, 'type': 'input', 'value': '0.028114133', 'position': 17}, {'token': '.', 'token_id': 13, 'type': 'input', 'value': '0.025315696', 'position': 18}, {'token': ' Bulgaria', 'token_id': 27902, 'type': 'input', 'value': '0.16295704', 'position': 19}, {'token': '\\n', 'token_id': 198, 'type': 'input', 'value': '0.016801849', 'position': 20}, {'token': '4', 'token_id': 19, 'type': 'input', 'value': '0.04048571', 'position': 21}, {'token': '.', 'token_id': 13, 'type': 'input', 'value': '0.03355836', 'position': 22}, {'token': ' Croatia', 'token_id': 28975, 'type': 'output', 'value': '0', 'position': 23}, {'token': '\\n', 'token_id': 198, 'type': 'output', 'value': '0', 'position': 24}, {'token': '5', 'token_id': 20, 'type': 'output', 'value': '0', 'position': 25}, {'token': '.', 'token_id': 13, 'type': 'output', 'value': '0', 'position': 26}, {'token': ' Denmark', 'token_id': 16490, 'type': 'output', 'value': '0', 'position': 27}, {'token': '\\n', 'token_id': 198, 'type': 'output', 'value': '0', 'position': 28}, {'token': '6', 'token_id': 21, 'type': 'output', 'value': '0', 'position': 29}, {'token': '.', 'token_id': 13, 'type': 'output', 'value': '0', 'position': 30}, {'token': ' Estonia', 'token_id': 30912, 'type': 'output', 'value': '0', 'position': 31}, {'token': '\\n', 'token_id': 198, 'type': 'output', 'value': '0', 'position': 32}, {'token': '7', 'token_id': 22, 'type': 'output', 'value': '0', 'position': 33}, {'token': '.', 'token_id': 13, 'type': 'output', 'value': '0', 'position': 34}, {'token': ' Finland', 'token_id': 17837, 'type': 'output', 'value': '0', 'position': 35}, {'token': '\\n', 'token_id': 198, 'type': 'output', 'value': '0', 'position': 36}, {'token': '8', 'token_id': 23, 'type': 'output', 'value': '0', 'position': 37}, {'token': '.', 'token_id': 13, 'type': 'output', 'value': '0', 'position': 38}, {'token': ' France', 'token_id': 4881, 'type': 'output', 'value': '0', 'position': 39}, {'token': '\\n', 'token_id': 198, 'type': 'output', 'value': '0', 'position': 40}, {'token': '9', 'token_id': 24, 'type': 'output', 'value': '0', 'position': 41}, {'token': '.', 'token_id': 13, 'type': 'output', 'value': '0', 'position': 42}], 'attributions': [[0.04984569549560547, 0.05090375617146492, 0.013019184581935406, 0.011890958994626999, 0.04897882416844368, 0.027450431138277054, 0.015803536400198936, 0.020174112170934677, 0.026422865688800812, 0.035699550062417984, 0.026531100273132324, 0.15094104409217834, 0.02336833067238331, 0.025183895602822304, 0.01945771649479866, 0.12963511049747467, 0.017461150884628296, 0.028114132583141327, 0.025315696373581886, 0.16295704245567322, 0.016801849007606506, 0.04048570990562439, 0.03355836123228073], [0.05159769207239151, 0.06581486016511917, 0.01636352576315403, 0.014876791276037693, 0.04087211564183235, 0.03301149606704712, 0.0303588155657053, 0.038537245243787766, 0.03610890358686447, 0.046847254037857056, 0.030281327664852142, 0.08394518494606018, 0.025624804198741913, 0.03170834854245186, 0.026182018220424652, 0.04757749289274216, 0.022194528952240944, 0.028022898361086845, 0.016048911958932877, 0.0459299199283123, 0.02283228188753128, 0.029318900778889656, 0.022131895646452904, 0.19381271302700043], [0.044737059623003006, 0.058928921818733215, 0.017215099185705185, 0.014092698693275452, 0.038349270820617676, 0.02883792854845524, 0.025112425908446312, 0.03546454384922981, 0.04560326784849167, 0.06670594960451126, 0.031322889029979706, 0.053467944264411926, 0.03134693577885628, 0.05674830824136734, 0.02103975974023342, 0.03218746930360794, 0.02557113766670227, 0.05841219425201416, 0.025113621726632118, 0.040040478110313416, 0.028595976531505585, 0.07237008213996887, 0.025994373485445976, 0.06815606355667114, 0.054585520178079605], [0.04556412622332573, 0.07599051296710968, 0.014213352464139462, 0.011679482646286488, 0.031248819082975388, 0.02763707935810089, 0.022448407486081123, 0.024262141436338425, 0.02798958495259285, 0.04534640535712242, 0.028740929439663887, 0.0698070377111435, 0.02289780043065548, 0.03467099368572235, 0.03158089891076088, 0.0439063161611557, 0.02173238806426525, 0.03625648841261864, 0.030535971745848656, 0.046762626618146896, 0.027217542752623558, 0.05282250791788101, 0.028184473514556885, 0.07271526008844376, 0.03528711199760437, 0.09050179272890091], [0.047879405319690704, 0.04463256150484085, 0.012233714573085308, 0.011262846179306507, 0.04436526820063591, 0.024753017351031303, 0.015054945833981037, 0.020006230100989342, 0.025138789787888527, 0.02865767665207386, 0.021696895360946655, 0.11871129274368286, 0.019099485129117966, 0.020845230668783188, 0.015476241707801819, 0.08560745418071747, 0.01487815286964178, 0.018792390823364258, 0.021685877814888954, 0.09394844621419907, 0.01619810052216053, 0.022164473310112953, 0.015942437574267387, 0.15044087171554565, 0.01816990226507187, 0.038085125386714935, 0.034273140132427216], [0.04914150387048721, 0.058714646846055984, 0.015240165404975414, 0.013058601878583431, 0.039061956107616425, 0.031377002596855164, 0.027125071734189987, 0.032355740666389465, 0.0340917631983757, 0.04219183325767517, 0.02534228004515171, 0.07620307058095932, 0.023327510803937912, 0.027253272011876106, 0.021984469145536423, 0.04963532090187073, 0.021092921495437622, 0.021636130288243294, 0.01587340421974659, 0.042614925652742386, 0.02058415301144123, 0.026377389207482338, 0.012116452679038048, 0.03547227010130882, 0.020630504935979843, 0.029118215665221214, 0.024426154792308807, 0.16395331919193268], [0.040190521627664566, 0.05274410545825958, 0.014852195978164673, 0.010532177984714508, 0.030350839719176292, 0.023374143987894058, 0.02323976345360279, 0.03394238278269768, 0.04369436949491501, 0.051846086978912354, 0.027147604152560234, 0.044575102627277374, 0.02902904711663723, 0.039711739867925644, 0.017231546342372894, 0.029958652332425117, 0.02527453564107418, 0.0394170880317688, 0.018741989508271217, 0.030757945030927658, 0.02224419079720974, 0.059927746653556824, 0.01845034770667553, 0.03755088150501251, 0.028074029833078384, 0.08116057515144348, 0.027408063411712646, 0.05935509502887726, 0.03921716287732124], [0.04654404893517494, 0.07041539996862411, 0.012482551857829094, 0.011396734975278378, 0.029890719801187515, 0.02519671805202961, 0.019855573773384094, 0.022479813545942307, 0.027129460126161575, 0.03981876000761986, 0.025661315768957138, 0.06043665483593941, 0.01913442462682724, 0.0263168066740036, 0.026269307360053062, 0.041864145547151566, 0.02010073885321617, 0.026470128446817398, 0.0211385115981102, 0.039400551468133926, 0.01851540431380272, 0.025034068152308464, 0.02831311896443367, 0.03409232199192047, 0.02947641722857952, 0.044275641441345215, 0.026202337816357613, 0.05921481177210808, 0.03343457356095314, 0.08943895250558853], [0.0456584133207798, 0.04319539666175842, 0.01220129244029522, 0.01075691357254982, 0.041175831109285355, 0.02427147887647152, 0.014837352558970451, 0.01824488304555416, 0.022507231682538986, 0.0271108690649271, 0.018962139263749123, 0.11193634569644928, 0.01703573949635029, 0.018362438306212425, 0.012150231748819351, 0.0717754140496254, 0.014612052589654922, 0.01649329997599125, 0.012361781671643257, 0.0745086669921875, 0.014877984300255775, 0.017327813431620598, 0.010555027052760124, 0.07505199313163757, 0.012122422456741333, 0.016550330445170403, 0.016004543751478195, 0.12188463658094406, 0.014693467877805233, 0.03749288618564606, 0.03528105095028877], [0.040892522782087326, 0.03878510743379593, 0.01324292179197073, 0.009177335537970066, 0.02774147130548954, 0.02021709457039833, 0.021582093089818954, 0.033820003271102905, 0.030718864873051643, 0.032363295555114746, 0.0202050618827343, 0.052551113069057465, 0.02850029617547989, 0.025719385594129562, 0.013953443616628647, 0.029272856190800667, 0.021574538201093674, 0.019161924719810486, 0.009781702421605587, 0.04335404932498932, 0.020072175189852715, 0.016982702538371086, 0.00925701018422842, 0.039546262472867966, 0.020929811522364616, 0.014713520184159279, 0.00891731958836317, 0.036588914692401886, 0.0289558544754982, 0.02712731994688511, 0.02093120478093624, 0.22336286306381226], [0.03582195192575455, 0.04115242883563042, 0.012044479139149189, 0.008552996441721916, 0.024631470441818237, 0.01957428827881813, 0.017315983772277832, 0.02864876575767994, 0.040863726288080215, 0.04255764186382294, 0.019712332636117935, 0.03563801571726799, 0.022602079436182976, 0.03121521882712841, 0.01525796391069889, 0.02429679036140442, 0.0224674753844738, 0.03261697292327881, 0.015243209898471832, 0.029904287308454514, 0.020624615252017975, 0.04320544749498367, 0.01737932115793228, 0.030291428789496422, 0.02794494666159153, 0.06815430521965027, 0.014030594378709793, 0.027092907577753067, 0.028561394661664963, 0.08003107458353043, 0.021792858839035034, 0.06080961972475052, 0.03996335342526436], [0.04448612034320831, 0.0642140582203865, 0.011944766156375408, 0.011876829899847507, 0.02682151086628437, 0.022259611636400223, 0.019542977213859558, 0.02169598825275898, 0.025913508608937263, 0.03342360630631447, 0.02317955158650875, 0.0568205825984478, 0.017061183229088783, 0.022135017439723015, 0.02340884320437908, 0.03833380341529846, 0.016120929270982742, 0.019603915512561798, 0.018123531714081764, 0.03574765846133232, 0.015326881781220436, 0.021546192467212677, 0.018138524144887924, 0.026938749477267265, 0.016619615256786346, 0.02040095254778862, 0.026912128552794456, 0.025800492614507675, 0.028257669880986214, 0.056263577193021774, 0.022490115836262703, 0.0593595877289772, 0.02825912833213806, 0.08097236603498459], [0.04298366606235504, 0.03960374742746353, 0.010734406299889088, 0.009574387222528458, 0.037950508296489716, 0.0223844014108181, 0.013327563181519508, 0.01706058159470558, 0.020998314023017883, 0.022538192570209503, 0.016597798094153404, 0.09993427991867065, 0.01484288927167654, 0.015192458406090736, 0.01105404831469059, 0.05917622148990631, 0.012434937991201878, 0.014373451471328735, 0.012119964696466923, 0.06293977797031403, 0.0127536840736866, 0.018374674022197723, 0.00844087265431881, 0.062427155673503876, 0.011274785734713078, 0.012900017201900482, 0.009872019290924072, 0.07482825219631195, 0.0125228026881814, 0.019737837836146355, 0.016222033649683, 0.10747968405485153, 0.01612960919737816, 0.032402437180280685, 0.028812529519200325], [0.04371986538171768, 0.03942372277379036, 0.014879797585308552, 0.009454012848436832, 0.028494102880358696, 0.02066473476588726, 0.02161099575459957, 0.03259193152189255, 0.029745588079094887, 0.031858839094638824, 0.018766146153211594, 0.05574775114655495, 0.026181232184171677, 0.02561790496110916, 0.013678368180990219, 0.03578735888004303, 0.018848970532417297, 0.01843409426510334, 0.008739509619772434, 0.035623762756586075, 0.017353111878037453, 0.01682649366557598, 0.008178062736988068, 0.03323042765259743, 0.019216621294617653, 0.014452507719397545, 0.007650855928659439, 0.031197436153888702, 0.022690819576382637, 0.01809784211218357, 0.007484751287847757, 0.03537712246179581, 0.024291198700666428, 0.023350510746240616, 0.018684176728129387, 0.1720494031906128], [0.03540690243244171, 0.045539628714323044, 0.012470348738133907, 0.009530636481940746, 0.02489466406404972, 0.020223936066031456, 0.018901178613305092, 0.027300972491502762, 0.041780222207307816, 0.039647895842790604, 0.01789906993508339, 0.03602476790547371, 0.023449139669537544, 0.028002679347991943, 0.014249159023165703, 0.02506502903997898, 0.017947888001799583, 0.026013603433966637, 0.011996050365269184, 0.028653832152485847, 0.017451493069529533, 0.03550845384597778, 0.010990303009748459, 0.02657736837863922, 0.021879838779568672, 0.04423748701810837, 0.010390713810920715, 0.022687695920467377, 0.02104838192462921, 0.04276839271187782, 0.011482208967208862, 0.03505849093198776, 0.025371113792061806, 0.05589830502867699, 0.019565340131521225, 0.054716821759939194, 0.03936995565891266], [0.04437626153230667, 0.06325364112854004, 0.011824119836091995, 0.0116911381483078, 0.026242848485708237, 0.021933265030384064, 0.0195402093231678, 0.021425776183605194, 0.025451501831412315, 0.03330651670694351, 0.020715557038784027, 0.05491561070084572, 0.015387042425572872, 0.02071751281619072, 0.020525092259049416, 0.037394504994153976, 0.012698509730398655, 0.015934929251670837, 0.014545305632054806, 0.0344892218708992, 0.011643235571682453, 0.01569443568587303, 0.014700992964208126, 0.02592422068119049, 0.011812731623649597, 0.015979895368218422, 0.015882091596722603, 0.021320581436157227, 0.0142875537276268, 0.021540002897381783, 0.022975612431764603, 0.031926605850458145, 0.018552152439951897, 0.04930208623409271, 0.02128119394183159, 0.04851604998111725, 0.028825506567955017, 0.0834665596485138], [0.0403720960021019, 0.0355222150683403, 0.00957600399851799, 0.009131336584687233, 0.032514385879039764, 0.01964779756963253, 0.011334282346069813, 0.015336944721639156, 0.018713101744651794, 0.019741857424378395, 0.01627713069319725, 0.08563108742237091, 0.01257987692952156, 0.01377767976373434, 0.01004440151154995, 0.04902767762541771, 0.010359587147831917, 0.012758905999362469, 0.00966776255518198, 0.05174286291003227, 0.010423892177641392, 0.015223609283566475, 0.00759942876175046, 0.05077924579381943, 0.008893057703971863, 0.011547095142304897, 0.0066984412260353565, 0.05126207321882248, 0.011364861391484737, 0.014282476156949997, 0.010964732617139816, 0.08239242434501648, 0.01226058416068554, 0.025275463238358498, 0.01633569970726967, 0.11647315323352814, 0.017649158835411072, 0.022472962737083435, 0.024344630539417267], [0.039644427597522736, 0.04434243589639664, 0.012124788016080856, 0.00982428714632988, 0.032150689512491226, 0.02334301546216011, 0.01944142021238804, 0.02632255107164383, 0.029774194583296776, 0.03349492326378822, 0.020103812217712402, 0.05349431186914444, 0.022542286664247513, 0.02491205558180809, 0.018298791721463203, 0.03510984033346176, 0.015396015718579292, 0.01843508891761303, 0.012865942902863026, 0.031345028430223465, 0.01262460183352232, 0.01686202362179756, 0.010735608637332916, 0.02490989677608013, 0.011885669082403183, 0.014011088758707047, 0.009998307563364506, 0.019255755469202995, 0.015180033631622791, 0.017416683956980705, 0.007682695519179106, 0.02858710289001465, 0.01231721043586731, 0.020733511075377464, 0.009084456600248814, 0.028545713052153587, 0.021001938730478287, 0.028706930577754974, 0.02246040292084217, 0.14503440260887146], [0.036054328083992004, 0.045859672129154205, 0.011890910565853119, 0.009643647819757462, 0.02481902204453945, 0.019838962703943253, 0.019176576286554337, 0.026490923017263412, 0.03971884399652481, 0.03764115646481514, 0.018844861537218094, 0.03454692289233208, 0.021217375993728638, 0.024732720106840134, 0.014026353135704994, 0.023098886013031006, 0.015357316471636295, 0.02281074784696102, 0.011217629536986351, 0.02432829886674881, 0.01447601430118084, 0.02891850471496582, 0.009283018298447132, 0.021820921450853348, 0.017397621646523476, 0.03471113368868828, 0.008193324320018291, 0.0220677200704813, 0.015030083246529102, 0.030184200033545494, 0.008182653225958347, 0.023278336971998215, 0.014671565033495426, 0.03495429456233978, 0.009950640611350536, 0.028087390586733818, 0.024908073246479034, 0.06430774182081223, 0.01876322738826275, 0.05023129656910896, 0.039267100393772125], [0.042847976088523865, 0.060311462730169296, 0.011265233159065247, 0.011852672323584557, 0.025437969714403152, 0.020172782242298126, 0.018759235739707947, 0.01948109269142151, 0.024690546095371246, 0.030227195471525192, 0.020058101043105125, 0.05013445019721985, 0.01509705651551485, 0.018656324595212936, 0.01905263029038906, 0.03759434074163437, 0.011791487224400043, 0.01413016114383936, 0.014570302329957485, 0.03588670864701271, 0.010408779606223106, 0.013579316437244415, 0.012907578609883785, 0.026298196986317635, 0.01031592208892107, 0.013130751438438892, 0.011853545904159546, 0.018716074526309967, 0.01139790378510952, 0.016231413930654526, 0.01407905388623476, 0.02464297227561474, 0.012739025987684727, 0.020224664360284805, 0.019539708271622658, 0.02587432600557804, 0.019721852615475655, 0.05653916671872139, 0.020169856026768684, 0.04070373997092247, 0.023453693836927414, 0.07545484602451324]]})\n",
              "\n",
              "             }, function (err) {\n",
              "                console.log(err);\n",
              "            })"
            ],
            "text/plain": [
              "<IPython.core.display.Javascript object>"
            ]
          },
          "metadata": {
            "tags": []
          }
        }
      ]
    }
  ]
}