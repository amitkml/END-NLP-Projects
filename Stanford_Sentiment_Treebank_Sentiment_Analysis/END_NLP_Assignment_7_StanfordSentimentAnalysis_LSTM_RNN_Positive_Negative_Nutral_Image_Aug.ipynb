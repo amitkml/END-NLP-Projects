{
  "nbformat": 4,
  "nbformat_minor": 0,
  "metadata": {
    "colab": {
      "name": "END_NLP_Assignment_7_StanfordSentimentAnalysis_LSTM_RNN_Positive-Negative_Nutral.ipynb",
      "provenance": [],
      "collapsed_sections": [
        "WVjCuKK_LVEF"
      ]
    },
    "kernelspec": {
      "name": "python3",
      "display_name": "Python 3"
    },
    "accelerator": "GPU"
  },
  "cells": [
    {
      "cell_type": "markdown",
      "metadata": {
        "id": "GYiRsFGD6iUC"
      },
      "source": [
        "# 0 TorchText"
      ]
    },
    {
      "cell_type": "markdown",
      "metadata": {
        "id": "tp5IzBGsPGHs"
      },
      "source": [
        "## Dataset Preview\n",
        "\n",
        "Your first step to deep learning in NLP. We will be mostly using PyTorch. Just like torchvision, PyTorch provides an official library, torchtext, for handling text-processing pipelines. \n",
        "\n",
        "We will be using previous session tweet dataset. Let's just preview the dataset."
      ]
    },
    {
      "cell_type": "code",
      "metadata": {
        "colab": {
          "base_uri": "https://localhost:8080/"
        },
        "id": "SKSTi9GepUmJ",
        "outputId": "1e8f34b1-6b57-46da-8678-1cf304865dd9"
      },
      "source": [
        "from google.colab import drive\n",
        "drive.mount('/content/gdrive/')"
      ],
      "execution_count": 1,
      "outputs": [
        {
          "output_type": "stream",
          "text": [
            "Mounted at /content/gdrive/\n"
          ],
          "name": "stdout"
        }
      ]
    },
    {
      "cell_type": "code",
      "metadata": {
        "id": "yhrCTg2Qphmm"
      },
      "source": [
        "!cp '/content/gdrive/My Drive/EVA/stanfordSentimentTreebank.zip' stanfordSentimentTreebank.zip\n",
        "!unzip -q -o stanfordSentimentTreebank.zip -d stanfordSentimentTreebank"
      ],
      "execution_count": 2,
      "outputs": []
    },
    {
      "cell_type": "code",
      "metadata": {
        "id": "o1-Yz-5RRFYc",
        "colab": {
          "base_uri": "https://localhost:8080/",
          "height": 195
        },
        "outputId": "6fca9466-2a9e-4d3f-954c-f7a90949fba7"
      },
      "source": [
        "import pandas as pd\n",
        "df = pd.read_csv('/content/stanfordSentimentTreebank/stanfordSentimentTreebank/datasetSentences.txt',sep='\\t')\n",
        "df.tail()"
      ],
      "execution_count": 3,
      "outputs": [
        {
          "output_type": "execute_result",
          "data": {
            "text/html": [
              "<div>\n",
              "<style scoped>\n",
              "    .dataframe tbody tr th:only-of-type {\n",
              "        vertical-align: middle;\n",
              "    }\n",
              "\n",
              "    .dataframe tbody tr th {\n",
              "        vertical-align: top;\n",
              "    }\n",
              "\n",
              "    .dataframe thead th {\n",
              "        text-align: right;\n",
              "    }\n",
              "</style>\n",
              "<table border=\"1\" class=\"dataframe\">\n",
              "  <thead>\n",
              "    <tr style=\"text-align: right;\">\n",
              "      <th></th>\n",
              "      <th>sentence_index</th>\n",
              "      <th>sentence</th>\n",
              "    </tr>\n",
              "  </thead>\n",
              "  <tbody>\n",
              "    <tr>\n",
              "      <th>11850</th>\n",
              "      <td>11851</td>\n",
              "      <td>A real snooze .</td>\n",
              "    </tr>\n",
              "    <tr>\n",
              "      <th>11851</th>\n",
              "      <td>11852</td>\n",
              "      <td>No surprises .</td>\n",
              "    </tr>\n",
              "    <tr>\n",
              "      <th>11852</th>\n",
              "      <td>11853</td>\n",
              "      <td>We 've seen the hippie-turned-yuppie plot befo...</td>\n",
              "    </tr>\n",
              "    <tr>\n",
              "      <th>11853</th>\n",
              "      <td>11854</td>\n",
              "      <td>Her fans walked out muttering words like `` ho...</td>\n",
              "    </tr>\n",
              "    <tr>\n",
              "      <th>11854</th>\n",
              "      <td>11855</td>\n",
              "      <td>In this case zero .</td>\n",
              "    </tr>\n",
              "  </tbody>\n",
              "</table>\n",
              "</div>"
            ],
            "text/plain": [
              "       sentence_index                                           sentence\n",
              "11850           11851                                    A real snooze .\n",
              "11851           11852                                     No surprises .\n",
              "11852           11853  We 've seen the hippie-turned-yuppie plot befo...\n",
              "11853           11854  Her fans walked out muttering words like `` ho...\n",
              "11854           11855                                In this case zero ."
            ]
          },
          "metadata": {
            "tags": []
          },
          "execution_count": 3
        }
      ]
    },
    {
      "cell_type": "code",
      "metadata": {
        "id": "R7JdpCW-YbAG",
        "colab": {
          "base_uri": "https://localhost:8080/"
        },
        "outputId": "69685d43-0dbb-4908-dfe7-d7fcd5ab536d"
      },
      "source": [
        "df.shape"
      ],
      "execution_count": 4,
      "outputs": [
        {
          "output_type": "execute_result",
          "data": {
            "text/plain": [
              "(11855, 2)"
            ]
          },
          "metadata": {
            "tags": []
          },
          "execution_count": 4
        }
      ]
    },
    {
      "cell_type": "code",
      "metadata": {
        "id": "zqRsoF6xYdgl",
        "colab": {
          "base_uri": "https://localhost:8080/"
        },
        "outputId": "b0a36a8f-2af0-4aed-921f-fc06bdc33d12"
      },
      "source": [
        "df.info()"
      ],
      "execution_count": 5,
      "outputs": [
        {
          "output_type": "stream",
          "text": [
            "<class 'pandas.core.frame.DataFrame'>\n",
            "RangeIndex: 11855 entries, 0 to 11854\n",
            "Data columns (total 2 columns):\n",
            " #   Column          Non-Null Count  Dtype \n",
            "---  ------          --------------  ----- \n",
            " 0   sentence_index  11855 non-null  int64 \n",
            " 1   sentence        11855 non-null  object\n",
            "dtypes: int64(1), object(1)\n",
            "memory usage: 185.4+ KB\n"
          ],
          "name": "stdout"
        }
      ]
    },
    {
      "cell_type": "markdown",
      "metadata": {
        "id": "XJ6o_79ISSVb"
      },
      "source": [
        "## Defining Fields"
      ]
    },
    {
      "cell_type": "code",
      "metadata": {
        "id": "AgaTy-qJ_ATn"
      },
      "source": [
        "from torch.utils.data import DataLoader\n",
        "from torch.optim.lr_scheduler import ReduceLROnPlateau"
      ],
      "execution_count": 6,
      "outputs": []
    },
    {
      "cell_type": "code",
      "metadata": {
        "id": "WoEXPawa_3tN"
      },
      "source": [
        "class StanfordDatasetReader():\n",
        "  def __init__(self, sst_dir, split_idx):\n",
        "    \n",
        "    merged_dataset = self.get_merged_dataset(sst_dir)\n",
        "    merged_dataset['sentiment values'] = merged_dataset['sentiment values'].astype(float)\n",
        "    self.dataset = merged_dataset[merged_dataset[\"splitset_label\"] == split_idx]\n",
        "    # self.dataset[\"Revised_Sentiment\"] = self.discretize_label(self.dataset.iloc[5])\n",
        "    self.dataset['Revised_sentiment values'] = self.dataset.apply(lambda x: labelfunc(x[\"sentiment values\"]), axis=1)\n",
        "    # train_st_data['Revised_sentiment values'] = train_st_data.apply(lambda x: myfunc(x[\"sentiment values\"]), axis=1)\n",
        "  # https://github.com/iamsimha/conv-sentiment-analysis/blob/master/code/dataset_reader.py\n",
        "  def get_merged_dataset(self, sst_dir):\n",
        "\n",
        "    sentiment_labels = pd.read_csv(os.path.join(sst_dir, \"sentiment_labels.txt\"), sep=\"|\")\n",
        "    sentence_ids = pd.read_csv(os.path.join(sst_dir, \"datasetSentences.txt\"), sep=\"\\t\")\n",
        "    dictionary = pd.read_csv(os.path.join(sst_dir, \"dictionary.txt\"), sep=\"|\", names=['phrase', 'phrase ids'])\n",
        "    train_test_split = pd.read_csv(os.path.join(sst_dir, \"datasetSplit.txt\"))\n",
        "    sentence_phrase_merge = pd.merge(sentence_ids, dictionary, left_on='sentence', right_on='phrase')\n",
        "    sentence_phrase_split = pd.merge(sentence_phrase_merge, train_test_split, on='sentence_index')\n",
        "    return pd.merge(sentence_phrase_split, sentiment_labels, on='phrase ids').sample(frac=1)\n",
        "\n",
        "  def discretize_label(self, label):\n",
        "    print(type(label))\n",
        "    if label <= 0.2: return 0\n",
        "    if label <= 0.4: return 1\n",
        "    if label <= 0.6: return 2\n",
        "    if label <= 0.8: return 3\n",
        "    return 4\n",
        "\n",
        "  def word_to_index(self, word):\n",
        "    if word in self.w2i:\n",
        "      return self.w2i[word]\n",
        "    else:\n",
        "      return self.w2i[\"<OOV>\"]\n",
        "\n",
        "  def __len__(self):\n",
        "    return self.dataset.shape[0]\n",
        "    \n",
        "  # def __getitem__(self, idx):\n",
        "  #   return {\"sentence\": [self.word_to_index(x) for x in self.dataset.iloc[idx, 1].split()],\n",
        "  #           \"label\": self.discretize_label(self.dataset.iloc[idx, 5])}\n",
        "  def labelfunc(label):\n",
        "    if label <= 0.5: return 0\n",
        "    # if label <= 0.4: return 1\n",
        "    # if label <= 0.6: return 2\n",
        "    # if label <= 0.8: return 3\n",
        "    return 1\n",
        "\n",
        "  def get_data(self):\n",
        "    return self.dataset\n",
        "\n",
        "  def __getitem__(self, idx):\n",
        "    return {\"sentence\": [x for x in self.dataset.iloc[idx, 1].split()],\n",
        "            \"label\": self.discretize_label(self.dataset.iloc[idx, 5])}"
      ],
      "execution_count": 7,
      "outputs": []
    },
    {
      "cell_type": "code",
      "metadata": {
        "id": "G1BWSC8jd7AZ"
      },
      "source": [
        "def labelfunc(label):\n",
        "  if label <= 0.4: return 0\n",
        "  if label <= 0.6: return 1\n",
        "  # if label <= 0.6: return 2\n",
        "  # if label <= 0.8: return 3\n",
        "  return 2"
      ],
      "execution_count": 8,
      "outputs": []
    },
    {
      "cell_type": "code",
      "metadata": {
        "id": "rBxRHuT5Fhyb"
      },
      "source": [
        "import os\n",
        "def load_data(sst_dir=\"/content/stanfordSentimentTreebank/stanfordSentimentTreebank/\"):\n",
        "  train_st_data_cl = StanfordDatasetReader(sst_dir, 1).get_data()\n",
        "  # train_st_data_cl['Revised_sentiment values'] = train_st_data.apply(lambda x: labelfunc(x[\"sentiment values\"]), axis=1)\n",
        "  test_st_data_cl = StanfordDatasetReader(sst_dir, 2).get_data()\n",
        "  # test_st_data_cl['Revised_sentiment values'] = test_st_data_cl.apply(lambda x: labelfunc(x[\"sentiment values\"]), axis=1)\n",
        "  validation_st_data_cl = StanfordDatasetReader(sst_dir, 3).get_data()\n",
        "  # validation_st_data_cl['Revised_sentiment values'] = validation_st_data_cl.apply(lambda x: labelfunc(x[\"sentiment values\"]), axis=1)\n",
        "  return train_st_data_cl,test_st_data_cl,validation_st_data_cl"
      ],
      "execution_count": 9,
      "outputs": []
    },
    {
      "cell_type": "code",
      "metadata": {
        "id": "ABfKELBlJf2v",
        "colab": {
          "base_uri": "https://localhost:8080/"
        },
        "outputId": "cd8d5d42-5072-470c-f0a2-89c64f111acf"
      },
      "source": [
        "train_st_data,test_st_data,validation_st_data = load_data()"
      ],
      "execution_count": 10,
      "outputs": [
        {
          "output_type": "stream",
          "text": [
            "/usr/local/lib/python3.6/dist-packages/ipykernel_launcher.py:8: SettingWithCopyWarning: \n",
            "A value is trying to be set on a copy of a slice from a DataFrame.\n",
            "Try using .loc[row_indexer,col_indexer] = value instead\n",
            "\n",
            "See the caveats in the documentation: https://pandas.pydata.org/pandas-docs/stable/user_guide/indexing.html#returning-a-view-versus-a-copy\n",
            "  \n",
            "/usr/local/lib/python3.6/dist-packages/ipykernel_launcher.py:8: SettingWithCopyWarning: \n",
            "A value is trying to be set on a copy of a slice from a DataFrame.\n",
            "Try using .loc[row_indexer,col_indexer] = value instead\n",
            "\n",
            "See the caveats in the documentation: https://pandas.pydata.org/pandas-docs/stable/user_guide/indexing.html#returning-a-view-versus-a-copy\n",
            "  \n",
            "/usr/local/lib/python3.6/dist-packages/ipykernel_launcher.py:8: SettingWithCopyWarning: \n",
            "A value is trying to be set on a copy of a slice from a DataFrame.\n",
            "Try using .loc[row_indexer,col_indexer] = value instead\n",
            "\n",
            "See the caveats in the documentation: https://pandas.pydata.org/pandas-docs/stable/user_guide/indexing.html#returning-a-view-versus-a-copy\n",
            "  \n"
          ],
          "name": "stderr"
        }
      ]
    },
    {
      "cell_type": "code",
      "metadata": {
        "id": "c10qU_CBoOZM",
        "colab": {
          "base_uri": "https://localhost:8080/",
          "height": 195
        },
        "outputId": "7a6d2392-19f6-4de2-b24b-c2573385e99f"
      },
      "source": [
        "train_st_data.head()"
      ],
      "execution_count": 11,
      "outputs": [
        {
          "output_type": "execute_result",
          "data": {
            "text/html": [
              "<div>\n",
              "<style scoped>\n",
              "    .dataframe tbody tr th:only-of-type {\n",
              "        vertical-align: middle;\n",
              "    }\n",
              "\n",
              "    .dataframe tbody tr th {\n",
              "        vertical-align: top;\n",
              "    }\n",
              "\n",
              "    .dataframe thead th {\n",
              "        text-align: right;\n",
              "    }\n",
              "</style>\n",
              "<table border=\"1\" class=\"dataframe\">\n",
              "  <thead>\n",
              "    <tr style=\"text-align: right;\">\n",
              "      <th></th>\n",
              "      <th>sentence_index</th>\n",
              "      <th>sentence</th>\n",
              "      <th>phrase</th>\n",
              "      <th>phrase ids</th>\n",
              "      <th>splitset_label</th>\n",
              "      <th>sentiment values</th>\n",
              "      <th>Revised_sentiment values</th>\n",
              "    </tr>\n",
              "  </thead>\n",
              "  <tbody>\n",
              "    <tr>\n",
              "      <th>10442</th>\n",
              "      <td>10962</td>\n",
              "      <td>Of all the Halloween 's , this is the most vis...</td>\n",
              "      <td>Of all the Halloween 's , this is the most vis...</td>\n",
              "      <td>225274</td>\n",
              "      <td>1</td>\n",
              "      <td>0.13889</td>\n",
              "      <td>0</td>\n",
              "    </tr>\n",
              "    <tr>\n",
              "      <th>2041</th>\n",
              "      <td>2124</td>\n",
              "      <td>By no means a great movie , but it is a refres...</td>\n",
              "      <td>By no means a great movie , but it is a refres...</td>\n",
              "      <td>44818</td>\n",
              "      <td>1</td>\n",
              "      <td>0.69444</td>\n",
              "      <td>2</td>\n",
              "    </tr>\n",
              "    <tr>\n",
              "      <th>2871</th>\n",
              "      <td>3000</td>\n",
              "      <td>Triumph of Love is a very silly movie , but th...</td>\n",
              "      <td>Triumph of Love is a very silly movie , but th...</td>\n",
              "      <td>70482</td>\n",
              "      <td>1</td>\n",
              "      <td>0.47222</td>\n",
              "      <td>1</td>\n",
              "    </tr>\n",
              "    <tr>\n",
              "      <th>5626</th>\n",
              "      <td>5884</td>\n",
              "      <td>It 's Tommy 's job to clean the peep booths su...</td>\n",
              "      <td>It 's Tommy 's job to clean the peep booths su...</td>\n",
              "      <td>106802</td>\n",
              "      <td>1</td>\n",
              "      <td>0.26389</td>\n",
              "      <td>0</td>\n",
              "    </tr>\n",
              "    <tr>\n",
              "      <th>11010</th>\n",
              "      <td>11561</td>\n",
              "      <td>The script is smart , not cloying .</td>\n",
              "      <td>The script is smart , not cloying .</td>\n",
              "      <td>188644</td>\n",
              "      <td>1</td>\n",
              "      <td>0.75000</td>\n",
              "      <td>2</td>\n",
              "    </tr>\n",
              "  </tbody>\n",
              "</table>\n",
              "</div>"
            ],
            "text/plain": [
              "       sentence_index  ... Revised_sentiment values\n",
              "10442           10962  ...                        0\n",
              "2041             2124  ...                        2\n",
              "2871             3000  ...                        1\n",
              "5626             5884  ...                        0\n",
              "11010           11561  ...                        2\n",
              "\n",
              "[5 rows x 7 columns]"
            ]
          },
          "metadata": {
            "tags": []
          },
          "execution_count": 11
        }
      ]
    },
    {
      "cell_type": "code",
      "metadata": {
        "colab": {
          "base_uri": "https://localhost:8080/",
          "height": 195
        },
        "id": "fwFAQsWogYg-",
        "outputId": "0c13212d-59a6-4c97-f81d-bca3db2c2a99"
      },
      "source": [
        "test_st_data.tail()"
      ],
      "execution_count": 12,
      "outputs": [
        {
          "output_type": "execute_result",
          "data": {
            "text/html": [
              "<div>\n",
              "<style scoped>\n",
              "    .dataframe tbody tr th:only-of-type {\n",
              "        vertical-align: middle;\n",
              "    }\n",
              "\n",
              "    .dataframe tbody tr th {\n",
              "        vertical-align: top;\n",
              "    }\n",
              "\n",
              "    .dataframe thead th {\n",
              "        text-align: right;\n",
              "    }\n",
              "</style>\n",
              "<table border=\"1\" class=\"dataframe\">\n",
              "  <thead>\n",
              "    <tr style=\"text-align: right;\">\n",
              "      <th></th>\n",
              "      <th>sentence_index</th>\n",
              "      <th>sentence</th>\n",
              "      <th>phrase</th>\n",
              "      <th>phrase ids</th>\n",
              "      <th>splitset_label</th>\n",
              "      <th>sentiment values</th>\n",
              "      <th>Revised_sentiment values</th>\n",
              "    </tr>\n",
              "  </thead>\n",
              "  <tbody>\n",
              "    <tr>\n",
              "      <th>177</th>\n",
              "      <td>180</td>\n",
              "      <td>A well-made thriller with a certain level of i...</td>\n",
              "      <td>A well-made thriller with a certain level of i...</td>\n",
              "      <td>13824</td>\n",
              "      <td>2</td>\n",
              "      <td>0.833330</td>\n",
              "      <td>2</td>\n",
              "    </tr>\n",
              "    <tr>\n",
              "      <th>984</th>\n",
              "      <td>1017</td>\n",
              "      <td>Nicolas Philibert observes life inside a one-r...</td>\n",
              "      <td>Nicolas Philibert observes life inside a one-r...</td>\n",
              "      <td>26190</td>\n",
              "      <td>2</td>\n",
              "      <td>0.888890</td>\n",
              "      <td>2</td>\n",
              "    </tr>\n",
              "    <tr>\n",
              "      <th>8540</th>\n",
              "      <td>8939</td>\n",
              "      <td>A movie that tries to fuse the two ` woods ' b...</td>\n",
              "      <td>A movie that tries to fuse the two ` woods ' b...</td>\n",
              "      <td>143246</td>\n",
              "      <td>2</td>\n",
              "      <td>0.333330</td>\n",
              "      <td>0</td>\n",
              "    </tr>\n",
              "    <tr>\n",
              "      <th>8338</th>\n",
              "      <td>8730</td>\n",
              "      <td>would seem to have a lock on the title of ugli...</td>\n",
              "      <td>would seem to have a lock on the title of ugli...</td>\n",
              "      <td>178923</td>\n",
              "      <td>2</td>\n",
              "      <td>0.097222</td>\n",
              "      <td>0</td>\n",
              "    </tr>\n",
              "    <tr>\n",
              "      <th>43</th>\n",
              "      <td>44</td>\n",
              "      <td>The story loses its bite in a last-minute happ...</td>\n",
              "      <td>The story loses its bite in a last-minute happ...</td>\n",
              "      <td>226498</td>\n",
              "      <td>2</td>\n",
              "      <td>0.111110</td>\n",
              "      <td>0</td>\n",
              "    </tr>\n",
              "  </tbody>\n",
              "</table>\n",
              "</div>"
            ],
            "text/plain": [
              "      sentence_index  ... Revised_sentiment values\n",
              "177              180  ...                        2\n",
              "984             1017  ...                        2\n",
              "8540            8939  ...                        0\n",
              "8338            8730  ...                        0\n",
              "43                44  ...                        0\n",
              "\n",
              "[5 rows x 7 columns]"
            ]
          },
          "metadata": {
            "tags": []
          },
          "execution_count": 12
        }
      ]
    },
    {
      "cell_type": "code",
      "metadata": {
        "colab": {
          "base_uri": "https://localhost:8080/",
          "height": 195
        },
        "id": "HzM5HDWkgcip",
        "outputId": "7b645b92-5dfa-4138-ac9e-1c880099682c"
      },
      "source": [
        "validation_st_data.head()"
      ],
      "execution_count": 13,
      "outputs": [
        {
          "output_type": "execute_result",
          "data": {
            "text/html": [
              "<div>\n",
              "<style scoped>\n",
              "    .dataframe tbody tr th:only-of-type {\n",
              "        vertical-align: middle;\n",
              "    }\n",
              "\n",
              "    .dataframe tbody tr th {\n",
              "        vertical-align: top;\n",
              "    }\n",
              "\n",
              "    .dataframe thead th {\n",
              "        text-align: right;\n",
              "    }\n",
              "</style>\n",
              "<table border=\"1\" class=\"dataframe\">\n",
              "  <thead>\n",
              "    <tr style=\"text-align: right;\">\n",
              "      <th></th>\n",
              "      <th>sentence_index</th>\n",
              "      <th>sentence</th>\n",
              "      <th>phrase</th>\n",
              "      <th>phrase ids</th>\n",
              "      <th>splitset_label</th>\n",
              "      <th>sentiment values</th>\n",
              "      <th>Revised_sentiment values</th>\n",
              "    </tr>\n",
              "  </thead>\n",
              "  <tbody>\n",
              "    <tr>\n",
              "      <th>7025</th>\n",
              "      <td>7352</td>\n",
              "      <td>Less dizzying than just dizzy , the jaunt is p...</td>\n",
              "      <td>Less dizzying than just dizzy , the jaunt is p...</td>\n",
              "      <td>147127</td>\n",
              "      <td>3</td>\n",
              "      <td>0.25000</td>\n",
              "      <td>0</td>\n",
              "    </tr>\n",
              "    <tr>\n",
              "      <th>1165</th>\n",
              "      <td>1208</td>\n",
              "      <td>It 's a much more emotional journey than what ...</td>\n",
              "      <td>It 's a much more emotional journey than what ...</td>\n",
              "      <td>25732</td>\n",
              "      <td>3</td>\n",
              "      <td>0.75000</td>\n",
              "      <td>2</td>\n",
              "    </tr>\n",
              "    <tr>\n",
              "      <th>1445</th>\n",
              "      <td>1506</td>\n",
              "      <td>If the first Men in Black was money , the seco...</td>\n",
              "      <td>If the first Men in Black was money , the seco...</td>\n",
              "      <td>223928</td>\n",
              "      <td>3</td>\n",
              "      <td>0.16667</td>\n",
              "      <td>0</td>\n",
              "    </tr>\n",
              "    <tr>\n",
              "      <th>1178</th>\n",
              "      <td>1223</td>\n",
              "      <td>So refreshingly incisive is Grant that for the...</td>\n",
              "      <td>So refreshingly incisive is Grant that for the...</td>\n",
              "      <td>26608</td>\n",
              "      <td>3</td>\n",
              "      <td>0.66667</td>\n",
              "      <td>2</td>\n",
              "    </tr>\n",
              "    <tr>\n",
              "      <th>7541</th>\n",
              "      <td>7897</td>\n",
              "      <td>Some of their jokes work , but most fail miser...</td>\n",
              "      <td>Some of their jokes work , but most fail miser...</td>\n",
              "      <td>148746</td>\n",
              "      <td>3</td>\n",
              "      <td>0.20833</td>\n",
              "      <td>0</td>\n",
              "    </tr>\n",
              "  </tbody>\n",
              "</table>\n",
              "</div>"
            ],
            "text/plain": [
              "      sentence_index  ... Revised_sentiment values\n",
              "7025            7352  ...                        0\n",
              "1165            1208  ...                        2\n",
              "1445            1506  ...                        0\n",
              "1178            1223  ...                        2\n",
              "7541            7897  ...                        0\n",
              "\n",
              "[5 rows x 7 columns]"
            ]
          },
          "metadata": {
            "tags": []
          },
          "execution_count": 13
        }
      ]
    },
    {
      "cell_type": "markdown",
      "metadata": {
        "id": "dFCfiRpdGnQD"
      },
      "source": [
        "### Further NLP Augemnattion"
      ]
    },
    {
      "cell_type": "code",
      "metadata": {
        "colab": {
          "base_uri": "https://localhost:8080/"
        },
        "id": "4Ubb2QEEG0in",
        "outputId": "182327dc-5362-40e8-e6ee-f5b8272e08d5"
      },
      "source": [
        "!pip install nlpaug"
      ],
      "execution_count": 14,
      "outputs": [
        {
          "output_type": "stream",
          "text": [
            "Collecting nlpaug\n",
            "\u001b[?25l  Downloading https://files.pythonhosted.org/packages/66/40/18941536abc63578010e87808089eb3184a8d027df03bfc226894698f491/nlpaug-1.1.0-py3-none-any.whl (380kB)\n",
            "\r\u001b[K     |▉                               | 10kB 23.1MB/s eta 0:00:01\r\u001b[K     |█▊                              | 20kB 29.1MB/s eta 0:00:01\r\u001b[K     |██▋                             | 30kB 15.7MB/s eta 0:00:01\r\u001b[K     |███▍                            | 40kB 11.4MB/s eta 0:00:01\r\u001b[K     |████▎                           | 51kB 8.4MB/s eta 0:00:01\r\u001b[K     |█████▏                          | 61kB 8.8MB/s eta 0:00:01\r\u001b[K     |██████                          | 71kB 9.2MB/s eta 0:00:01\r\u001b[K     |██████▉                         | 81kB 9.2MB/s eta 0:00:01\r\u001b[K     |███████▊                        | 92kB 9.4MB/s eta 0:00:01\r\u001b[K     |████████▋                       | 102kB 10.0MB/s eta 0:00:01\r\u001b[K     |█████████▌                      | 112kB 10.0MB/s eta 0:00:01\r\u001b[K     |██████████▎                     | 122kB 10.0MB/s eta 0:00:01\r\u001b[K     |███████████▏                    | 133kB 10.0MB/s eta 0:00:01\r\u001b[K     |████████████                    | 143kB 10.0MB/s eta 0:00:01\r\u001b[K     |█████████████                   | 153kB 10.0MB/s eta 0:00:01\r\u001b[K     |█████████████▊                  | 163kB 10.0MB/s eta 0:00:01\r\u001b[K     |██████████████▋                 | 174kB 10.0MB/s eta 0:00:01\r\u001b[K     |███████████████▌                | 184kB 10.0MB/s eta 0:00:01\r\u001b[K     |████████████████▍               | 194kB 10.0MB/s eta 0:00:01\r\u001b[K     |█████████████████▏              | 204kB 10.0MB/s eta 0:00:01\r\u001b[K     |██████████████████              | 215kB 10.0MB/s eta 0:00:01\r\u001b[K     |███████████████████             | 225kB 10.0MB/s eta 0:00:01\r\u001b[K     |███████████████████▉            | 235kB 10.0MB/s eta 0:00:01\r\u001b[K     |████████████████████▋           | 245kB 10.0MB/s eta 0:00:01\r\u001b[K     |█████████████████████▌          | 256kB 10.0MB/s eta 0:00:01\r\u001b[K     |██████████████████████▍         | 266kB 10.0MB/s eta 0:00:01\r\u001b[K     |███████████████████████▎        | 276kB 10.0MB/s eta 0:00:01\r\u001b[K     |████████████████████████        | 286kB 10.0MB/s eta 0:00:01\r\u001b[K     |█████████████████████████       | 296kB 10.0MB/s eta 0:00:01\r\u001b[K     |█████████████████████████▉      | 307kB 10.0MB/s eta 0:00:01\r\u001b[K     |██████████████████████████▊     | 317kB 10.0MB/s eta 0:00:01\r\u001b[K     |███████████████████████████▌    | 327kB 10.0MB/s eta 0:00:01\r\u001b[K     |████████████████████████████▍   | 337kB 10.0MB/s eta 0:00:01\r\u001b[K     |█████████████████████████████▎  | 348kB 10.0MB/s eta 0:00:01\r\u001b[K     |██████████████████████████████▏ | 358kB 10.0MB/s eta 0:00:01\r\u001b[K     |███████████████████████████████ | 368kB 10.0MB/s eta 0:00:01\r\u001b[K     |███████████████████████████████▉| 378kB 10.0MB/s eta 0:00:01\r\u001b[K     |████████████████████████████████| 389kB 10.0MB/s \n",
            "\u001b[?25hInstalling collected packages: nlpaug\n",
            "Successfully installed nlpaug-1.1.0\n"
          ],
          "name": "stdout"
        }
      ]
    },
    {
      "cell_type": "code",
      "metadata": {
        "id": "PMI8CXdrIMGy"
      },
      "source": [
        "# !pip install transformers"
      ],
      "execution_count": 15,
      "outputs": []
    },
    {
      "cell_type": "code",
      "metadata": {
        "id": "TGXDQghJEqmV"
      },
      "source": [
        "## Lets do the NLP data augmentation\n",
        "import nlpaug.augmenter.char as nac\n",
        "import nlpaug.augmenter.word as naw\n",
        "import nlpaug.augmenter.sentence as nas\n",
        "import nlpaug.flow as nafc\n",
        "\n",
        "from nlpaug.util import Action"
      ],
      "execution_count": 16,
      "outputs": []
    },
    {
      "cell_type": "markdown",
      "metadata": {
        "id": "ed8FaP3MG-kc"
      },
      "source": [
        "##### Some basic examples for understanding and then further data augmentation by these\n",
        "- Substitute word by WordNet's synonym\n",
        "- Swap word randomly\n",
        "- Delete a set of contunous word will be removed randomly\n",
        "- Delete word randomly augemnattion"
      ]
    },
    {
      "cell_type": "code",
      "metadata": {
        "id": "_sW1AffGJUEo"
      },
      "source": [
        "import os\n",
        "os.environ[\"model_dir\"] = '../model'"
      ],
      "execution_count": 17,
      "outputs": []
    },
    {
      "cell_type": "code",
      "metadata": {
        "id": "R69RoNlUJfCb"
      },
      "source": [
        "model_dir = \"/content/\""
      ],
      "execution_count": 18,
      "outputs": []
    },
    {
      "cell_type": "code",
      "metadata": {
        "id": "pxNJUP_8HBpM"
      },
      "source": [
        ""
      ],
      "execution_count": 18,
      "outputs": []
    },
    {
      "cell_type": "code",
      "metadata": {
        "colab": {
          "base_uri": "https://localhost:8080/",
          "height": 35
        },
        "id": "9gledVX9KtEj",
        "outputId": "8ec298c7-90c2-4145-a76a-72e42581cd67"
      },
      "source": [
        "# validation_st_data.head()\n",
        "train_st_data['sentence'].iloc[0]"
      ],
      "execution_count": 19,
      "outputs": [
        {
          "output_type": "execute_result",
          "data": {
            "application/vnd.google.colaboratory.intrinsic+json": {
              "type": "string"
            },
            "text/plain": [
              "\"Of all the Halloween 's , this is the most visually unappealing .\""
            ]
          },
          "metadata": {
            "tags": []
          },
          "execution_count": 19
        }
      ]
    },
    {
      "cell_type": "code",
      "metadata": {
        "colab": {
          "base_uri": "https://localhost:8080/"
        },
        "id": "B0gu3UXtXqH4",
        "outputId": "a92aa456-e163-4383-bb41-8a4128a21e20"
      },
      "source": [
        "aug = naw.SynonymAug(aug_src='wordnet') ## Substitute word by WordNet's synonym¶\n",
        "\n",
        "augmented_text = aug.augment(train_st_data['sentence'].iloc[0])\n",
        "print(\"Original:\")\n",
        "print(train_st_data['sentence'].iloc[0])\n",
        "print(\"Augmented Text:\")\n",
        "print(augmented_text)\n",
        "train_st_data_SynonymAug_aug = train_st_data\n",
        "train_st_data_SynonymAug_aug['sentence_aug'] = train_st_data_SynonymAug_aug.apply(lambda x: aug.augment(x['sentence']),axis=1)  ## Swap word randomly¶"
      ],
      "execution_count": 20,
      "outputs": [
        {
          "output_type": "stream",
          "text": [
            "[nltk_data] Downloading package wordnet to /root/nltk_data...\n",
            "[nltk_data]   Unzipping corpora/wordnet.zip.\n",
            "[nltk_data] Downloading package averaged_perceptron_tagger to\n",
            "[nltk_data]     /root/nltk_data...\n",
            "[nltk_data]   Unzipping taggers/averaged_perceptron_tagger.zip.\n",
            "Original:\n",
            "Of all the Halloween 's , this is the most visually unappealing .\n",
            "Augmented Text:\n",
            "Of all the Halloween ' s, this represent the to the highest degree visually unsympathetic.\n"
          ],
          "name": "stdout"
        }
      ]
    },
    {
      "cell_type": "code",
      "metadata": {
        "colab": {
          "base_uri": "https://localhost:8080/"
        },
        "id": "vBoPakkKX3ly",
        "outputId": "bba2c1b4-bc24-495f-ba9c-0f556c93a25c"
      },
      "source": [
        "aug = naw.RandomWordAug(action=\"swap\") # Swap word randomly¶\n",
        "\n",
        "augmented_text = aug.augment(train_st_data['sentence'].iloc[0])\n",
        "print(\"Original:\")\n",
        "print(train_st_data['sentence'].iloc[0])\n",
        "print(\"Augmented Text:\")\n",
        "print(augmented_text)\n",
        "train_st_data_swap_aug = train_st_data\n",
        "train_st_data_swap_aug['sentence_aug'] = train_st_data_swap_aug.apply(lambda x: aug.augment(x['sentence']),axis=1)  ## Swap word randomly¶"
      ],
      "execution_count": 21,
      "outputs": [
        {
          "output_type": "stream",
          "text": [
            "Original:\n",
            "Of all the Halloween 's , this is the most visually unappealing .\n",
            "Augmented Text:\n",
            "Of all Halloween the s ', is this most the visually unappealing.\n"
          ],
          "name": "stdout"
        }
      ]
    },
    {
      "cell_type": "code",
      "metadata": {
        "id": "n24qk3VIYIR3"
      },
      "source": [
        "# aug = naw.RandomWordAug(action='crop',aug_p=0.5, aug_min=0)\n",
        "# augmented_text = aug.augment(train_st_data['sentence'].iloc[0])  ## Delete a set of contunous word will be removed randomly¶\n",
        "\n",
        "# print(\"Original:\")\n",
        "# print(train_st_data['sentence'].iloc[0])\n",
        "# print(\"Augmented Text:\")\n",
        "# print(augmented_text)\n",
        "# train_st_data_crop_aug = train_st_data\n",
        "# train_st_data_crop_aug['sentence_aug'] = train_st_data_crop_aug.apply(lambda x: aug.augment(x['sentence']),axis=1)  ## Delete a set of contunous word will be removed randomly¶"
      ],
      "execution_count": 22,
      "outputs": []
    },
    {
      "cell_type": "code",
      "metadata": {
        "id": "mcDwOTqxNXkc"
      },
      "source": [
        "text = 'The quick brown fox jumps over the lazy dog .'\n",
        "# Augmenter that apply random word operation to textual input.Augmenter that apply randomly behavior for augmentation.\n",
        "aug = naw.RandomWordAug()\n",
        "augmented_data = aug.augment(text)\n",
        "augmented_data\n",
        "\n",
        "train_st_data_delete_aug = train_st_data\n",
        "# train_st_data_aug[sentence_aug] = aug.augment(train_st_data_aug.loc[\"sentence\"] )\n",
        "#--Using position to slice Email using a lambda function\n",
        "train_st_data_delete_aug['sentence_aug'] = train_st_data_delete_aug.apply(lambda x: aug.augment(x['sentence']),axis=1)  ## Delete word randomly augemnattion\n"
      ],
      "execution_count": 24,
      "outputs": []
    },
    {
      "cell_type": "code",
      "metadata": {
        "colab": {
          "base_uri": "https://localhost:8080/"
        },
        "id": "fFRlJ07oZnwX",
        "outputId": "65fcec53-2398-487f-cf03-c10af2e79292"
      },
      "source": [
        "print(\"Original:\")\n",
        "print(train_st_data_delete_aug['sentence'].iloc[0])\n",
        "print(\"Augmented Text:\")\n",
        "print(train_st_data_delete_aug['sentence_aug'].iloc[0])"
      ],
      "execution_count": 25,
      "outputs": [
        {
          "output_type": "stream",
          "text": [
            "Original:\n",
            "Of all the Halloween 's , this is the most visually unappealing .\n",
            "Augmented Text:\n",
            "Of all the Halloween ' s, the most.\n"
          ],
          "name": "stdout"
        }
      ]
    },
    {
      "cell_type": "code",
      "metadata": {
        "colab": {
          "base_uri": "https://localhost:8080/",
          "height": 279
        },
        "id": "2zMubaWhVP2w",
        "outputId": "c39b9f12-e175-4c36-d12d-92eede90f136"
      },
      "source": [
        "train_st_data_delete_aug.head()"
      ],
      "execution_count": 27,
      "outputs": [
        {
          "output_type": "execute_result",
          "data": {
            "text/html": [
              "<div>\n",
              "<style scoped>\n",
              "    .dataframe tbody tr th:only-of-type {\n",
              "        vertical-align: middle;\n",
              "    }\n",
              "\n",
              "    .dataframe tbody tr th {\n",
              "        vertical-align: top;\n",
              "    }\n",
              "\n",
              "    .dataframe thead th {\n",
              "        text-align: right;\n",
              "    }\n",
              "</style>\n",
              "<table border=\"1\" class=\"dataframe\">\n",
              "  <thead>\n",
              "    <tr style=\"text-align: right;\">\n",
              "      <th></th>\n",
              "      <th>sentence_index</th>\n",
              "      <th>sentence</th>\n",
              "      <th>phrase</th>\n",
              "      <th>phrase ids</th>\n",
              "      <th>splitset_label</th>\n",
              "      <th>sentiment values</th>\n",
              "      <th>Revised_sentiment values</th>\n",
              "      <th>sentence_aug</th>\n",
              "    </tr>\n",
              "  </thead>\n",
              "  <tbody>\n",
              "    <tr>\n",
              "      <th>10442</th>\n",
              "      <td>10962</td>\n",
              "      <td>Of all the Halloween 's , this is the most vis...</td>\n",
              "      <td>Of all the Halloween 's , this is the most vis...</td>\n",
              "      <td>225274</td>\n",
              "      <td>1</td>\n",
              "      <td>0.13889</td>\n",
              "      <td>0</td>\n",
              "      <td>Of all the Halloween ' s, the most.</td>\n",
              "    </tr>\n",
              "    <tr>\n",
              "      <th>2041</th>\n",
              "      <td>2124</td>\n",
              "      <td>By no means a great movie , but it is a refres...</td>\n",
              "      <td>By no means a great movie , but it is a refres...</td>\n",
              "      <td>44818</td>\n",
              "      <td>1</td>\n",
              "      <td>0.69444</td>\n",
              "      <td>2</td>\n",
              "      <td>By no a great, it is a refreshingly forthright.</td>\n",
              "    </tr>\n",
              "    <tr>\n",
              "      <th>2871</th>\n",
              "      <td>3000</td>\n",
              "      <td>Triumph of Love is a very silly movie , but th...</td>\n",
              "      <td>Triumph of Love is a very silly movie , but th...</td>\n",
              "      <td>70482</td>\n",
              "      <td>1</td>\n",
              "      <td>0.47222</td>\n",
              "      <td>1</td>\n",
              "      <td>Triumph of Love is very silly, the silliness a...</td>\n",
              "    </tr>\n",
              "    <tr>\n",
              "      <th>5626</th>\n",
              "      <td>5884</td>\n",
              "      <td>It 's Tommy 's job to clean the peep booths su...</td>\n",
              "      <td>It 's Tommy 's job to clean the peep booths su...</td>\n",
              "      <td>106802</td>\n",
              "      <td>1</td>\n",
              "      <td>0.26389</td>\n",
              "      <td>0</td>\n",
              "      <td>' s Tommy ' job clean peep booths surrounding ...</td>\n",
              "    </tr>\n",
              "    <tr>\n",
              "      <th>11010</th>\n",
              "      <td>11561</td>\n",
              "      <td>The script is smart , not cloying .</td>\n",
              "      <td>The script is smart , not cloying .</td>\n",
              "      <td>188644</td>\n",
              "      <td>1</td>\n",
              "      <td>0.75000</td>\n",
              "      <td>2</td>\n",
              "      <td>The script is, not.</td>\n",
              "    </tr>\n",
              "  </tbody>\n",
              "</table>\n",
              "</div>"
            ],
            "text/plain": [
              "       sentence_index  ...                                       sentence_aug\n",
              "10442           10962  ...                Of all the Halloween ' s, the most.\n",
              "2041             2124  ...    By no a great, it is a refreshingly forthright.\n",
              "2871             3000  ...  Triumph of Love is very silly, the silliness a...\n",
              "5626             5884  ...  ' s Tommy ' job clean peep booths surrounding ...\n",
              "11010           11561  ...                                The script is, not.\n",
              "\n",
              "[5 rows x 8 columns]"
            ]
          },
          "metadata": {
            "tags": []
          },
          "execution_count": 27
        }
      ]
    },
    {
      "cell_type": "code",
      "metadata": {
        "id": "Qw_pqEU9csk0"
      },
      "source": [
        "## Now I need to add all these data frames\n",
        "combined_data_aug = pd.concat([train_st_data_delete_aug, train_st_data_swap_aug, train_st_data_SynonymAug_aug], axis=0)\n",
        "## after this, now I need to drop the sentence column and rename sentence_aug to sentence\n",
        "combined_data_aug.drop('sentence', axis=1, inplace=True)\n",
        "combined_data_aug.rename(columns = {'sentence_aug':'sentence'}, inplace = True) "
      ],
      "execution_count": 36,
      "outputs": []
    },
    {
      "cell_type": "code",
      "metadata": {
        "colab": {
          "base_uri": "https://localhost:8080/",
          "height": 195
        },
        "id": "quNy-dDMzfeL",
        "outputId": "d4387657-72db-44c2-a545-b54e0c805968"
      },
      "source": [
        "combined_data_aug.head()"
      ],
      "execution_count": 37,
      "outputs": [
        {
          "output_type": "execute_result",
          "data": {
            "text/html": [
              "<div>\n",
              "<style scoped>\n",
              "    .dataframe tbody tr th:only-of-type {\n",
              "        vertical-align: middle;\n",
              "    }\n",
              "\n",
              "    .dataframe tbody tr th {\n",
              "        vertical-align: top;\n",
              "    }\n",
              "\n",
              "    .dataframe thead th {\n",
              "        text-align: right;\n",
              "    }\n",
              "</style>\n",
              "<table border=\"1\" class=\"dataframe\">\n",
              "  <thead>\n",
              "    <tr style=\"text-align: right;\">\n",
              "      <th></th>\n",
              "      <th>sentence_index</th>\n",
              "      <th>phrase</th>\n",
              "      <th>phrase ids</th>\n",
              "      <th>splitset_label</th>\n",
              "      <th>sentiment values</th>\n",
              "      <th>Revised_sentiment values</th>\n",
              "      <th>sentence</th>\n",
              "    </tr>\n",
              "  </thead>\n",
              "  <tbody>\n",
              "    <tr>\n",
              "      <th>10442</th>\n",
              "      <td>10962</td>\n",
              "      <td>Of all the Halloween 's , this is the most vis...</td>\n",
              "      <td>225274</td>\n",
              "      <td>1</td>\n",
              "      <td>0.13889</td>\n",
              "      <td>0</td>\n",
              "      <td>Of all the Halloween ' s, the most.</td>\n",
              "    </tr>\n",
              "    <tr>\n",
              "      <th>2041</th>\n",
              "      <td>2124</td>\n",
              "      <td>By no means a great movie , but it is a refres...</td>\n",
              "      <td>44818</td>\n",
              "      <td>1</td>\n",
              "      <td>0.69444</td>\n",
              "      <td>2</td>\n",
              "      <td>By no a great, it is a refreshingly forthright.</td>\n",
              "    </tr>\n",
              "    <tr>\n",
              "      <th>2871</th>\n",
              "      <td>3000</td>\n",
              "      <td>Triumph of Love is a very silly movie , but th...</td>\n",
              "      <td>70482</td>\n",
              "      <td>1</td>\n",
              "      <td>0.47222</td>\n",
              "      <td>1</td>\n",
              "      <td>Triumph of Love is very silly, the silliness a...</td>\n",
              "    </tr>\n",
              "    <tr>\n",
              "      <th>5626</th>\n",
              "      <td>5884</td>\n",
              "      <td>It 's Tommy 's job to clean the peep booths su...</td>\n",
              "      <td>106802</td>\n",
              "      <td>1</td>\n",
              "      <td>0.26389</td>\n",
              "      <td>0</td>\n",
              "      <td>' s Tommy ' job clean peep booths surrounding ...</td>\n",
              "    </tr>\n",
              "    <tr>\n",
              "      <th>11010</th>\n",
              "      <td>11561</td>\n",
              "      <td>The script is smart , not cloying .</td>\n",
              "      <td>188644</td>\n",
              "      <td>1</td>\n",
              "      <td>0.75000</td>\n",
              "      <td>2</td>\n",
              "      <td>The script is, not.</td>\n",
              "    </tr>\n",
              "  </tbody>\n",
              "</table>\n",
              "</div>"
            ],
            "text/plain": [
              "       sentence_index  ...                                           sentence\n",
              "10442           10962  ...                Of all the Halloween ' s, the most.\n",
              "2041             2124  ...    By no a great, it is a refreshingly forthright.\n",
              "2871             3000  ...  Triumph of Love is very silly, the silliness a...\n",
              "5626             5884  ...  ' s Tommy ' job clean peep booths surrounding ...\n",
              "11010           11561  ...                                The script is, not.\n",
              "\n",
              "[5 rows x 7 columns]"
            ]
          },
          "metadata": {
            "tags": []
          },
          "execution_count": 37
        }
      ]
    },
    {
      "cell_type": "markdown",
      "metadata": {
        "id": "9ZkxFvYtGs7K"
      },
      "source": [
        "### Final Data Preparation"
      ]
    },
    {
      "cell_type": "code",
      "metadata": {
        "id": "arFy0s73nImt"
      },
      "source": [
        "def get_final_data(train_st_data,test_st_data,validation_st_data,combined_data_aug):\n",
        "  train_st_data_final = train_st_data.drop(['sentence_index','phrase','phrase ids','splitset_label','sentiment values'],axis=1)\n",
        "  train_st_data_final.rename(columns = {'Revised_sentiment values': 'sentiment'}, inplace = True)\n",
        "\n",
        "  combined_data_aug.drop(['sentence_index','phrase','phrase ids','splitset_label','sentiment values'],axis=1,inplace=True)\n",
        "  combined_data_aug.rename(columns = {'Revised_sentiment values': 'sentiment'}, inplace = True)\n",
        "\n",
        "  train_st_data_final_mixed = pd.concat([combined_data_aug, train_st_data_final], axis=0)\n",
        "\n",
        "  train_st_data_final_mixed = train_st_data_final_mixed.reset_index(drop=True) ## This is being done because data.Example.fromlist was failing\n",
        "\n",
        "  test_st_data_final = test_st_data.drop(['sentence_index','phrase','phrase ids','splitset_label','sentiment values'],axis=1)\n",
        "  test_st_data_final.rename(columns = {'Revised_sentiment values': 'sentiment'}, inplace = True)\n",
        "  test_st_data_final = test_st_data_final.reset_index(drop=True) ## This is being done because data.Example.fromlist was failing\n",
        "\n",
        "  validation_st_data_final = validation_st_data.drop(['sentence_index','phrase','phrase ids','splitset_label','sentiment values'],axis=1)\n",
        "  validation_st_data_final.rename(columns = {'Revised_sentiment values': 'sentiment'} , inplace = True)\n",
        "  validation_st_data_final = validation_st_data_final.reset_index(drop=True) ## This is being done because data.Example.fromlist was failing\n",
        "\n",
        "  return train_st_data_final_mixed, test_st_data_final, validation_st_data_final"
      ],
      "execution_count": 38,
      "outputs": []
    },
    {
      "cell_type": "code",
      "metadata": {
        "id": "tjmsNd8wJiIj"
      },
      "source": [
        "train_st_data_final, test_st_data_final, validation_st_data_final = get_final_data(train_st_data,test_st_data,validation_st_data,combined_data_aug)"
      ],
      "execution_count": 39,
      "outputs": []
    },
    {
      "cell_type": "code",
      "metadata": {
        "colab": {
          "base_uri": "https://localhost:8080/",
          "height": 195
        },
        "id": "iWZytpY6pE2S",
        "outputId": "36a52008-77bf-4dc3-ca1a-c7064fa39d77"
      },
      "source": [
        "train_st_data_final.head()"
      ],
      "execution_count": 40,
      "outputs": [
        {
          "output_type": "execute_result",
          "data": {
            "text/html": [
              "<div>\n",
              "<style scoped>\n",
              "    .dataframe tbody tr th:only-of-type {\n",
              "        vertical-align: middle;\n",
              "    }\n",
              "\n",
              "    .dataframe tbody tr th {\n",
              "        vertical-align: top;\n",
              "    }\n",
              "\n",
              "    .dataframe thead th {\n",
              "        text-align: right;\n",
              "    }\n",
              "</style>\n",
              "<table border=\"1\" class=\"dataframe\">\n",
              "  <thead>\n",
              "    <tr style=\"text-align: right;\">\n",
              "      <th></th>\n",
              "      <th>sentiment</th>\n",
              "      <th>sentence</th>\n",
              "      <th>sentence_aug</th>\n",
              "    </tr>\n",
              "  </thead>\n",
              "  <tbody>\n",
              "    <tr>\n",
              "      <th>0</th>\n",
              "      <td>0</td>\n",
              "      <td>Of all the Halloween ' s, the most.</td>\n",
              "      <td>NaN</td>\n",
              "    </tr>\n",
              "    <tr>\n",
              "      <th>1</th>\n",
              "      <td>2</td>\n",
              "      <td>By no a great, it is a refreshingly forthright.</td>\n",
              "      <td>NaN</td>\n",
              "    </tr>\n",
              "    <tr>\n",
              "      <th>2</th>\n",
              "      <td>1</td>\n",
              "      <td>Triumph of Love is very silly, the silliness a...</td>\n",
              "      <td>NaN</td>\n",
              "    </tr>\n",
              "    <tr>\n",
              "      <th>3</th>\n",
              "      <td>0</td>\n",
              "      <td>' s Tommy ' job clean peep booths surrounding ...</td>\n",
              "      <td>NaN</td>\n",
              "    </tr>\n",
              "    <tr>\n",
              "      <th>4</th>\n",
              "      <td>2</td>\n",
              "      <td>The script is, not.</td>\n",
              "      <td>NaN</td>\n",
              "    </tr>\n",
              "  </tbody>\n",
              "</table>\n",
              "</div>"
            ],
            "text/plain": [
              "   sentiment                                           sentence sentence_aug\n",
              "0          0                Of all the Halloween ' s, the most.          NaN\n",
              "1          2    By no a great, it is a refreshingly forthright.          NaN\n",
              "2          1  Triumph of Love is very silly, the silliness a...          NaN\n",
              "3          0  ' s Tommy ' job clean peep booths surrounding ...          NaN\n",
              "4          2                                The script is, not.          NaN"
            ]
          },
          "metadata": {
            "tags": []
          },
          "execution_count": 40
        }
      ]
    },
    {
      "cell_type": "code",
      "metadata": {
        "id": "v0p26-wQLbV4"
      },
      "source": [
        "# train_st_data_final.to_csv(r'train_st_data_final.csv', index = False)"
      ],
      "execution_count": null,
      "outputs": []
    },
    {
      "cell_type": "code",
      "metadata": {
        "colab": {
          "base_uri": "https://localhost:8080/"
        },
        "id": "--Z1M-vssT03",
        "outputId": "75fa2fbe-0b61-4360-8a05-39a9b3786b7a"
      },
      "source": [
        "train_st_data_final.shape"
      ],
      "execution_count": 41,
      "outputs": [
        {
          "output_type": "execute_result",
          "data": {
            "text/plain": [
              "(32468, 3)"
            ]
          },
          "metadata": {
            "tags": []
          },
          "execution_count": 41
        }
      ]
    },
    {
      "cell_type": "code",
      "metadata": {
        "colab": {
          "base_uri": "https://localhost:8080/"
        },
        "id": "TCq6t89LsXvI",
        "outputId": "904962f8-5f35-40c8-dcc8-7aaef30b47d1"
      },
      "source": [
        "train_st_data_final.sentiment.value_counts()"
      ],
      "execution_count": 42,
      "outputs": [
        {
          "output_type": "execute_result",
          "data": {
            "text/plain": [
              "2    13784\n",
              "0    12488\n",
              "1     6196\n",
              "Name: sentiment, dtype: int64"
            ]
          },
          "metadata": {
            "tags": []
          },
          "execution_count": 42
        }
      ]
    },
    {
      "cell_type": "code",
      "metadata": {
        "colab": {
          "base_uri": "https://localhost:8080/"
        },
        "id": "9dQTLWRqVxME",
        "outputId": "758e7a69-c8f8-466b-9f09-85b40bf4b685"
      },
      "source": [
        "validation_st_data_final.sentiment.value_counts()"
      ],
      "execution_count": 43,
      "outputs": [
        {
          "output_type": "execute_result",
          "data": {
            "text/plain": [
              "2    417\n",
              "0    408\n",
              "1    219\n",
              "Name: sentiment, dtype: int64"
            ]
          },
          "metadata": {
            "tags": []
          },
          "execution_count": 43
        }
      ]
    },
    {
      "cell_type": "markdown",
      "metadata": {
        "id": "e63g08ijOrf7"
      },
      "source": [
        "Now we shall be defining LABEL as a LabelField, which is a subclass of Field that sets sequen tial to False (as it’s our numerical category class). TWEET is a standard Field object, where we have decided to use the spaCy tokenizer and convert all the text to lower‐ case."
      ]
    },
    {
      "cell_type": "code",
      "metadata": {
        "id": "qk8IP4SK1Lrp",
        "colab": {
          "base_uri": "https://localhost:8080/"
        },
        "outputId": "d5022ee8-b996-4825-e3dc-5c05149ebf65"
      },
      "source": [
        "# Import Library\n",
        "import random\n",
        "import torch, torchtext\n",
        "from torchtext import data \n",
        "\n",
        "# Manual Seed\n",
        "SEED = 43\n",
        "torch.manual_seed(SEED)"
      ],
      "execution_count": 44,
      "outputs": [
        {
          "output_type": "execute_result",
          "data": {
            "text/plain": [
              "<torch._C.Generator at 0x7f399ed5fc78>"
            ]
          },
          "metadata": {
            "tags": []
          },
          "execution_count": 44
        }
      ]
    },
    {
      "cell_type": "code",
      "metadata": {
        "id": "u6bKQax2Mf_U"
      },
      "source": [
        "Sentence = data.Field(sequential = True, tokenize = 'spacy', batch_first =True, include_lengths=True)\n",
        "Sentiment = data.LabelField(tokenize ='spacy',is_target=True, batch_first =True, sequential =False)"
      ],
      "execution_count": 45,
      "outputs": []
    },
    {
      "cell_type": "markdown",
      "metadata": {
        "id": "mX-lYIe_O7Vy"
      },
      "source": [
        "Having defined those fields, we now need to produce a list that maps them onto the list of rows that are in the CSV:"
      ]
    },
    {
      "cell_type": "code",
      "metadata": {
        "id": "VawdWq36O6td"
      },
      "source": [
        "fields = [('sentence', Sentence),('sentiment',Sentiment)]"
      ],
      "execution_count": 46,
      "outputs": []
    },
    {
      "cell_type": "code",
      "metadata": {
        "id": "w0UOsNaNO-hp"
      },
      "source": [
        "# saving the dataframe \n",
        "train_st_data_final.to_csv('train_st_data_final.csv', index=False) \n",
        "test_st_data_final.to_csv('test_st_data_final.csv', index=False) \n",
        "validation_st_data_final.to_csv('validation_st_data_final.csv', index=False) "
      ],
      "execution_count": 47,
      "outputs": []
    },
    {
      "cell_type": "code",
      "metadata": {
        "id": "sgH1g8jTMPuH"
      },
      "source": [
        "# df = pd.read_csv('train_st_data_final.csv')\n",
        "# df.head()\n",
        "# example_trng = [data.Example.fromlist([df.sentence[i],df.sentiment[i]], fields) for i in range(df.shape[0])] "
      ],
      "execution_count": 48,
      "outputs": []
    },
    {
      "cell_type": "markdown",
      "metadata": {
        "id": "qIlOGo2HvOHi"
      },
      "source": [
        ""
      ]
    },
    {
      "cell_type": "markdown",
      "metadata": {
        "id": "ZbtZ-Ph2P1xL"
      },
      "source": [
        "Armed with our declared fields, lets convert from pandas to list to torchtext. We could also use TabularDataset to apply that definition to the CSV directly but showing an alternative approach too."
      ]
    },
    {
      "cell_type": "code",
      "metadata": {
        "id": "L3OLcJ5B7rHz"
      },
      "source": [
        "example_trng = [data.Example.fromlist([train_st_data_final.sentence[i],train_st_data_final.sentiment[i]], fields) for i in range(train_st_data_final.shape[0])] \n",
        "example_val = [data.Example.fromlist([validation_st_data_final.sentence[i],validation_st_data_final.sentiment[i]], fields) for i in range(validation_st_data_final.shape[0])] "
      ],
      "execution_count": 49,
      "outputs": []
    },
    {
      "cell_type": "code",
      "metadata": {
        "id": "nT-flpH-P1cd"
      },
      "source": [
        "# Creating dataset\n",
        "#twitterDataset = data.TabularDataset(path=\"tweets.csv\", format=\"CSV\", fields=fields, skip_header=True)\n",
        "\n",
        "# twitterDataset = data.Dataset(example, fields)\n",
        "train = data.Dataset(example_trng, fields)\n",
        "valid = data.Dataset(example_val, fields)"
      ],
      "execution_count": 51,
      "outputs": []
    },
    {
      "cell_type": "markdown",
      "metadata": {
        "id": "g6ZnyCPaR08F"
      },
      "source": [
        "Finally, we can split into training, testing, and validation sets by using the split() method:"
      ]
    },
    {
      "cell_type": "code",
      "metadata": {
        "id": "uPYXyuKhRpBk"
      },
      "source": [
        "# (train, valid) = twitterDataset.split(split_ratio=[0.85, 0.15], random_state=random.seed(SEED))"
      ],
      "execution_count": null,
      "outputs": []
    },
    {
      "cell_type": "code",
      "metadata": {
        "id": "ykvsCGQMR6UD",
        "colab": {
          "base_uri": "https://localhost:8080/"
        },
        "outputId": "57d5ac71-676d-4353-8dbe-fd713d2fd153"
      },
      "source": [
        "(len(train), len(valid))"
      ],
      "execution_count": 52,
      "outputs": [
        {
          "output_type": "execute_result",
          "data": {
            "text/plain": [
              "(32468, 1044)"
            ]
          },
          "metadata": {
            "tags": []
          },
          "execution_count": 52
        }
      ]
    },
    {
      "cell_type": "markdown",
      "metadata": {
        "id": "kix8P2IKSBaV"
      },
      "source": [
        "An example from the dataset:"
      ]
    },
    {
      "cell_type": "code",
      "metadata": {
        "id": "dUpEOQruR9JL",
        "colab": {
          "base_uri": "https://localhost:8080/"
        },
        "outputId": "54ae2832-b6cd-488c-a802-52e30c5025d0"
      },
      "source": [
        "vars(train.examples[10])"
      ],
      "execution_count": 53,
      "outputs": [
        {
          "output_type": "execute_result",
          "data": {
            "text/plain": [
              "{'sentence': ['Neil',\n",
              "  'succeeded',\n",
              "  'in',\n",
              "  '.',\n",
              "  '..',\n",
              "  'the',\n",
              "  'mystery',\n",
              "  'back',\n",
              "  'the',\n",
              "  'springboard',\n",
              "  'for',\n",
              "  'a',\n",
              "  'immediate',\n",
              "  'mystery',\n",
              "  'in',\n",
              "  'the',\n",
              "  'present',\n",
              "  '.'],\n",
              " 'sentiment': 2}"
            ]
          },
          "metadata": {
            "tags": []
          },
          "execution_count": 53
        }
      ]
    },
    {
      "cell_type": "markdown",
      "metadata": {
        "id": "AKdllP3FST4N"
      },
      "source": [
        "## Building Vocabulary"
      ]
    },
    {
      "cell_type": "markdown",
      "metadata": {
        "id": "SuvWQ-SpSmSz"
      },
      "source": [
        "At this point we would have built a one-hot encoding of each word that is present in the dataset—a rather tedious process. Thankfully, torchtext will do this for us, and will also allow a max_size parameter to be passed in to limit the vocabu‐ lary to the most common words. This is normally done to prevent the construction of a huge, memory-hungry model. We don’t want our GPUs too overwhelmed, after all. \n",
        "\n",
        "Let’s limit the vocabulary to a maximum of 5000 words in our training set:\n"
      ]
    },
    {
      "cell_type": "code",
      "metadata": {
        "id": "IGH3R6IYcY_f",
        "colab": {
          "base_uri": "https://localhost:8080/"
        },
        "outputId": "6d37c41a-1d9e-41f6-a6e8-4156727fe3b6"
      },
      "source": [
        "MAX_VOCAB_SIZE = 25_000\n",
        "\n",
        "Sentence.build_vocab(train, \n",
        "                 max_size = MAX_VOCAB_SIZE, \n",
        "                 vectors = \"glove.6B.100d\", \n",
        "                 unk_init = torch.Tensor.normal_)"
      ],
      "execution_count": 54,
      "outputs": [
        {
          "output_type": "stream",
          "text": [
            ".vector_cache/glove.6B.zip: 862MB [06:28, 2.22MB/s]                           \n",
            " 99%|█████████▉| 397883/400000 [00:16<00:00, 24067.24it/s]"
          ],
          "name": "stderr"
        }
      ]
    },
    {
      "cell_type": "code",
      "metadata": {
        "id": "u9CVBX6IhZtL"
      },
      "source": [
        "Sentiment.build_vocab(train)"
      ],
      "execution_count": 55,
      "outputs": []
    },
    {
      "cell_type": "code",
      "metadata": {
        "id": "mx955u93SGeY"
      },
      "source": [
        "# Sentence.build_vocab(train)\n",
        "# Sentiment.build_vocab(train)"
      ],
      "execution_count": null,
      "outputs": []
    },
    {
      "cell_type": "markdown",
      "metadata": {
        "id": "xvyEeEjXTGhX"
      },
      "source": [
        "By default, torchtext will add two more special tokens, <unk> for unknown words and <pad>, a padding token that will be used to pad all our text to roughly the same size to help with efficient batching on the GPU."
      ]
    },
    {
      "cell_type": "code",
      "metadata": {
        "id": "rA3tIESdcJdN",
        "colab": {
          "base_uri": "https://localhost:8080/"
        },
        "outputId": "7e35b2e4-cc52-4c48-8662-a3bc1e4fea8b"
      },
      "source": [
        "print('Size of input vocab : ', len(Sentence.vocab))\n",
        "print('Size of label vocab : ', len(Sentiment.vocab))\n",
        "print('Top 10 words appreared repeatedly :', list(Sentence.vocab.freqs.most_common(10)))\n",
        "print('Labels : ', Sentiment.vocab.stoi)"
      ],
      "execution_count": 56,
      "outputs": [
        {
          "output_type": "stream",
          "text": [
            "Size of input vocab :  17022\n",
            "Size of label vocab :  3\n",
            "Top 10 words appreared repeatedly : [('.', 31962), (',', 26833), ('the', 17267), ('-', 13429), (\"'\", 13351), ('of', 12669), ('and', 12477), ('a', 12241), ('to', 8652), ('is', 7059)]\n",
            "Labels :  defaultdict(<function _default_unk_index at 0x7f3932863c80>, {2: 0, 0: 1, 1: 2})\n"
          ],
          "name": "stdout"
        }
      ]
    },
    {
      "cell_type": "code",
      "metadata": {
        "colab": {
          "base_uri": "https://localhost:8080/"
        },
        "id": "BOgXGAD3fqQs",
        "outputId": "708d109d-9d37-4c6f-f585-72868664218e"
      },
      "source": [
        "print('Size of input vocab : ', len(Sentence.vocab))\n",
        "print('Size of label vocab : ', len(Sentiment.vocab))\n",
        "print('Top 10 words appreared repeatedly :', list(Sentence.vocab.freqs.most_common(10)))\n",
        "print('Labels : ', Sentiment.vocab.stoi)"
      ],
      "execution_count": 57,
      "outputs": [
        {
          "output_type": "stream",
          "text": [
            "Size of input vocab :  17022\n",
            "Size of label vocab :  3\n",
            "Top 10 words appreared repeatedly : [('.', 31962), (',', 26833), ('the', 17267), ('-', 13429), (\"'\", 13351), ('of', 12669), ('and', 12477), ('a', 12241), ('to', 8652), ('is', 7059)]\n",
            "Labels :  defaultdict(<function _default_unk_index at 0x7f3932863c80>, {2: 0, 0: 1, 1: 2})\n"
          ],
          "name": "stdout"
        }
      ]
    },
    {
      "cell_type": "markdown",
      "metadata": {
        "id": "rwjD2-ebTeUX"
      },
      "source": [
        "**Lots of stopwords!!**"
      ]
    },
    {
      "cell_type": "markdown",
      "metadata": {
        "id": "sLWW221gTpNs"
      },
      "source": [
        "Now we need to create a data loader to feed into our training loop. Torchtext provides the BucketIterator method that will produce what it calls a Batch, which is almost, but not quite, like the data loader we used on images."
      ]
    },
    {
      "cell_type": "markdown",
      "metadata": {
        "id": "EQqMhMoDUDmn"
      },
      "source": [
        "But at first declare the device we are using."
      ]
    },
    {
      "cell_type": "code",
      "metadata": {
        "id": "Zfo2QhGJUK4l"
      },
      "source": [
        "device = torch.device(\"cuda\" if torch.cuda.is_available() else \"cpu\")"
      ],
      "execution_count": 58,
      "outputs": []
    },
    {
      "cell_type": "code",
      "metadata": {
        "id": "zK2ORoqdTNsM"
      },
      "source": [
        "train_iterator, valid_iterator = data.BucketIterator.splits((train, valid), batch_size = 32, \n",
        "                                                            sort_key = lambda x: len(x.sentence),\n",
        "                                                            sort_within_batch=True, device = device)"
      ],
      "execution_count": 59,
      "outputs": []
    },
    {
      "cell_type": "markdown",
      "metadata": {
        "id": "Gg7gTFQO4fby"
      },
      "source": [
        "Save the vocabulary for later use"
      ]
    },
    {
      "cell_type": "code",
      "metadata": {
        "id": "niE9Cc6-2bD_"
      },
      "source": [
        "import os, pickle\n",
        "with open('tokenizer.pkl', 'wb') as tokens: \n",
        "    pickle.dump(Sentence.vocab.stoi, tokens)"
      ],
      "execution_count": 61,
      "outputs": []
    },
    {
      "cell_type": "markdown",
      "metadata": {
        "id": "1AbsQwqkVyAy"
      },
      "source": [
        "## Defining Our Model"
      ]
    },
    {
      "cell_type": "markdown",
      "metadata": {
        "id": "E4PED4HJWH4t"
      },
      "source": [
        "We use the Embedding and LSTM modules in PyTorch to build a simple model for classifying tweets.\n",
        "\n",
        "In this model we create three layers. \n",
        "1. First, the words in our tweets are pushed into an Embedding layer, which we have established as a 300-dimensional vector embedding. \n",
        "2. That’s then fed into a 2 stacked-LSTMs with 100 hidden features (again, we’re compressing down from the 300-dimensional input like we did with images). We are using 2 LSTMs for using the dropout.\n",
        "3. Finally, the output of the LSTM (the final hidden state after processing the incoming tweet) is pushed through a standard fully connected layer with three outputs to correspond to our three possible classes (negative, positive, or neutral)."
      ]
    },
    {
      "cell_type": "code",
      "metadata": {
        "id": "43pVRccMT0bT"
      },
      "source": [
        "import torch.nn as nn\n",
        "import torch.nn.functional as F\n",
        "\n",
        "class classifier(nn.Module):\n",
        "    \n",
        "    # Define all the layers used in model\n",
        "    def __init__(self, vocab_size, embedding_dim, hidden_dim, output_dim, n_layers, dropout, bidirectional,pad_idx):\n",
        "        \n",
        "        super().__init__()          \n",
        "        \n",
        "        # Embedding layer\n",
        "        self.embedding = nn.Embedding(vocab_size, embedding_dim,padding_idx = pad_idx)\n",
        "        \n",
        "        # LSTM layer\n",
        "        self.encoder = nn.LSTM(embedding_dim, \n",
        "                           hidden_dim, \n",
        "                           num_layers=n_layers, \n",
        "                           dropout=dropout,\n",
        "                           bidirectional = bidirectional,\n",
        "                           batch_first=True)\n",
        "        # try using nn.GRU or nn.RNN here and compare their performances\n",
        "        # try bidirectional and compare their performances\n",
        "        self.dropout = nn.Dropout(dropout)\n",
        "        # Dense layer\n",
        "        self.fc = nn.Linear(hidden_dim, output_dim)\n",
        "        \n",
        "    def forward(self, text, text_lengths):\n",
        "        \n",
        "        # text = [batch size, sent_length]\n",
        "        embedded = self.embedding(text)\n",
        "        # embedded = [batch size, sent_len, emb dim]\n",
        "      \n",
        "        # packed sequence\n",
        "        packed_embedded = nn.utils.rnn.pack_padded_sequence(embedded, text_lengths.cpu(), batch_first=True)\n",
        "        \n",
        "        packed_output, (hidden, cell) = self.encoder(packed_embedded)\n",
        "        #hidden = [batch size, num layers * num directions,hid dim]\n",
        "        #cell = [batch size, num layers * num directions,hid dim]\n",
        "    \n",
        "        # Hidden = [batch size, hid dim * num directions]\n",
        "        dense_outputs = self.dropout(self.fc(hidden))  \n",
        "        # Final activation function softmax\n",
        "        output = F.softmax(dense_outputs[0], dim=1)\n",
        "        # output = F.softmax(dense_outputs, dim=1)\n",
        "            \n",
        "        return output"
      ],
      "execution_count": 62,
      "outputs": []
    },
    {
      "cell_type": "code",
      "metadata": {
        "id": "rwBoGE_X_Fl8"
      },
      "source": [
        "# Define hyperparameters\n",
        "size_of_vocab = len(Sentence.vocab)\n",
        "embedding_dim = 100\n",
        "num_hidden_nodes = 256\n",
        "num_output_nodes = 3\n",
        "num_layers = 3\n",
        "dropout = 0.2\n",
        "bidirectional = True\n",
        "PAD_IDX = Sentence.vocab.stoi[Sentence.pad_token]\n",
        "\n",
        "# Instantiate the model\n",
        "model = classifier(size_of_vocab, embedding_dim, num_hidden_nodes, num_output_nodes, num_layers, dropout, bidirectional,PAD_IDX)"
      ],
      "execution_count": 63,
      "outputs": []
    },
    {
      "cell_type": "code",
      "metadata": {
        "id": "O-pOMqzJ3eTv",
        "colab": {
          "base_uri": "https://localhost:8080/"
        },
        "outputId": "4ebdce1f-3c51-45ce-c601-a6bb146ff131"
      },
      "source": [
        "print(model)\n",
        "\n",
        "#No. of trianable parameters\n",
        "def count_parameters(model):\n",
        "    return sum(p.numel() for p in model.parameters() if p.requires_grad)\n",
        "    \n",
        "print(f'The model has {count_parameters(model):,} trainable parameters')"
      ],
      "execution_count": 64,
      "outputs": [
        {
          "output_type": "stream",
          "text": [
            "classifier(\n",
            "  (embedding): Embedding(17022, 100, padding_idx=1)\n",
            "  (encoder): LSTM(100, 256, num_layers=3, batch_first=True, dropout=0.2, bidirectional=True)\n",
            "  (dropout): Dropout(p=0.2, inplace=False)\n",
            "  (fc): Linear(in_features=256, out_features=3, bias=True)\n",
            ")\n",
            "The model has 5,590,075 trainable parameters\n"
          ],
          "name": "stdout"
        }
      ]
    },
    {
      "cell_type": "markdown",
      "metadata": {
        "id": "eXajorf5Xz7t"
      },
      "source": [
        "## Model Training and Evaluation"
      ]
    },
    {
      "cell_type": "markdown",
      "metadata": {
        "id": "PrE9RpMtZ1Vs"
      },
      "source": [
        "First define the optimizer and loss functions"
      ]
    },
    {
      "cell_type": "code",
      "metadata": {
        "id": "-u86JWdlXvu5"
      },
      "source": [
        "import torch.optim as optim\n",
        "\n",
        "# define optimizer and loss\n",
        "optimizer = optim.Adam(model.parameters(), lr=2e-3)\n",
        "criterion = nn.CrossEntropyLoss()\n",
        "\n",
        "# define metric\n",
        "def binary_accuracy(preds, y):\n",
        "    #round predictions to the closest integer\n",
        "    _, predictions = torch.max(preds, 1)\n",
        "    \n",
        "    correct = (predictions == y).float() \n",
        "    acc = correct.sum() / len(correct)\n",
        "    return acc\n",
        "    \n"
      ],
      "execution_count": 65,
      "outputs": []
    },
    {
      "cell_type": "code",
      "metadata": {
        "colab": {
          "base_uri": "https://localhost:8080/"
        },
        "id": "Rt_e2IkGdRW8",
        "outputId": "b8ec3bb2-e071-4588-e17c-38d7bd166bab"
      },
      "source": [
        "pretrained_embeddings = Sentence.vocab.vectors\n",
        "\n",
        "print(pretrained_embeddings.shape)"
      ],
      "execution_count": 66,
      "outputs": [
        {
          "output_type": "stream",
          "text": [
            "torch.Size([17022, 100])\n"
          ],
          "name": "stdout"
        }
      ]
    },
    {
      "cell_type": "code",
      "metadata": {
        "colab": {
          "base_uri": "https://localhost:8080/"
        },
        "id": "t1bHOjdUdY2a",
        "outputId": "f450af42-1f55-457c-ad02-51c68e55042c"
      },
      "source": [
        "model.embedding.weight.data.copy_(pretrained_embeddings)"
      ],
      "execution_count": 67,
      "outputs": [
        {
          "output_type": "execute_result",
          "data": {
            "text/plain": [
              "tensor([[-0.0166, -0.4668,  2.0909,  ..., -1.4692,  0.4476, -0.7223],\n",
              "        [-0.0791, -0.2089, -0.3442,  ...,  0.4657,  0.6297, -1.7395],\n",
              "        [-0.3398,  0.2094,  0.4635,  ..., -0.2339,  0.4730, -0.0288],\n",
              "        ...,\n",
              "        [-0.2059,  0.8924,  0.4946,  ..., -0.0663, -0.2220, -0.1561],\n",
              "        [ 0.2973, -0.1341,  0.6720,  ..., -0.3700, -0.3623,  0.7735],\n",
              "        [-0.6763,  0.1671,  0.9469,  ..., -0.3254, -0.2345,  0.2310]])"
            ]
          },
          "metadata": {
            "tags": []
          },
          "execution_count": 67
        }
      ]
    },
    {
      "cell_type": "code",
      "metadata": {
        "colab": {
          "base_uri": "https://localhost:8080/"
        },
        "id": "ASWyq5tgiyLt",
        "outputId": "210bbe6d-a911-4e53-f987-16dd2b42476c"
      },
      "source": [
        "UNK_IDX = Sentence.vocab.stoi[Sentence.unk_token]\n",
        "\n",
        "model.embedding.weight.data[UNK_IDX] = torch.zeros(embedding_dim)\n",
        "model.embedding.weight.data[PAD_IDX] = torch.zeros(embedding_dim)\n",
        "\n",
        "print(model.embedding.weight.data)"
      ],
      "execution_count": 68,
      "outputs": [
        {
          "output_type": "stream",
          "text": [
            "tensor([[ 0.0000,  0.0000,  0.0000,  ...,  0.0000,  0.0000,  0.0000],\n",
            "        [ 0.0000,  0.0000,  0.0000,  ...,  0.0000,  0.0000,  0.0000],\n",
            "        [-0.3398,  0.2094,  0.4635,  ..., -0.2339,  0.4730, -0.0288],\n",
            "        ...,\n",
            "        [-0.2059,  0.8924,  0.4946,  ..., -0.0663, -0.2220, -0.1561],\n",
            "        [ 0.2973, -0.1341,  0.6720,  ..., -0.3700, -0.3623,  0.7735],\n",
            "        [-0.6763,  0.1671,  0.9469,  ..., -0.3254, -0.2345,  0.2310]])\n"
          ],
          "name": "stdout"
        }
      ]
    },
    {
      "cell_type": "code",
      "metadata": {
        "id": "GiVj8tajdTTC"
      },
      "source": [
        "# push to cuda if available\n",
        "model = model.to(device)\n",
        "criterion = criterion.to(device)"
      ],
      "execution_count": 69,
      "outputs": []
    },
    {
      "cell_type": "markdown",
      "metadata": {
        "id": "3VCJtNb3Zt8w"
      },
      "source": [
        "The main thing to be aware of in this new training loop is that we have to reference `batch.tweets` and `batch.labels` to get the particular fields we’re interested in; they don’t fall out quite as nicely from the enumerator as they do in torchvision."
      ]
    },
    {
      "cell_type": "markdown",
      "metadata": {
        "id": "2WjEPLKsAiS_"
      },
      "source": [
        "**Training Loop**"
      ]
    },
    {
      "cell_type": "code",
      "metadata": {
        "id": "HDWNnGK3Y5oJ"
      },
      "source": [
        "def train(model, iterator, optimizer, criterion):\n",
        "    \n",
        "    # initialize every epoch \n",
        "    epoch_loss = 0\n",
        "    epoch_acc = 0\n",
        "    \n",
        "    # set the model in training phase\n",
        "    model.train()  \n",
        "    \n",
        "    for batch in iterator:\n",
        "        \n",
        "        # resets the gradients after every batch\n",
        "        optimizer.zero_grad()   \n",
        "        \n",
        "        # retrieve text and no. of words\n",
        "        tweet, tweet_lengths = batch.sentence   \n",
        "        \n",
        "        # convert to 1D tensor\n",
        "        predictions = model(tweet, tweet_lengths).squeeze()  \n",
        "        \n",
        "        # compute the loss\n",
        "        loss = criterion(predictions, batch.sentiment)        \n",
        "        \n",
        "        # compute the binary accuracy\n",
        "        acc = binary_accuracy(predictions, batch.sentiment)   \n",
        "        \n",
        "        # backpropage the loss and compute the gradients\n",
        "        loss.backward()       \n",
        "        \n",
        "        # update the weights\n",
        "        optimizer.step()      \n",
        "        \n",
        "        # loss and accuracy\n",
        "        epoch_loss += loss.item()  \n",
        "        epoch_acc += acc.item()    \n",
        "        \n",
        "    return epoch_loss / len(iterator), epoch_acc / len(iterator)"
      ],
      "execution_count": 70,
      "outputs": []
    },
    {
      "cell_type": "markdown",
      "metadata": {
        "id": "CZcHhkkvAsCt"
      },
      "source": [
        "**Evaluation Loop**"
      ]
    },
    {
      "cell_type": "code",
      "metadata": {
        "id": "zHEe-zSVAriL"
      },
      "source": [
        "def evaluate(model, iterator, criterion):\n",
        "    \n",
        "    # initialize every epoch\n",
        "    epoch_loss = 0\n",
        "    epoch_acc = 0\n",
        "\n",
        "    # deactivating dropout layers\n",
        "    model.eval()\n",
        "    \n",
        "    # deactivates autograd\n",
        "    with torch.no_grad():\n",
        "    \n",
        "        for batch in iterator:\n",
        "        \n",
        "            # retrieve text and no. of words\n",
        "            tweet, tweet_lengths = batch.sentence\n",
        "            \n",
        "            # convert to 1d tensor\n",
        "            predictions = model(tweet, tweet_lengths).squeeze()\n",
        "            \n",
        "            # compute loss and accuracy\n",
        "            loss = criterion(predictions, batch.sentiment)\n",
        "            acc = binary_accuracy(predictions, batch.sentiment)\n",
        "            \n",
        "            # keep track of loss and accuracy\n",
        "            epoch_loss += loss.item()\n",
        "            epoch_acc += acc.item()\n",
        "        \n",
        "    return epoch_loss / len(iterator), epoch_acc / len(iterator)"
      ],
      "execution_count": 71,
      "outputs": []
    },
    {
      "cell_type": "markdown",
      "metadata": {
        "id": "L6LJFW7HaJoV"
      },
      "source": [
        "**Let's Train and Evaluate**"
      ]
    },
    {
      "cell_type": "code",
      "metadata": {
        "id": "tq330XlnaEU9",
        "colab": {
          "base_uri": "https://localhost:8080/"
        },
        "outputId": "0bd8d35b-346e-4d41-a2e2-b253869509a2"
      },
      "source": [
        "N_EPOCHS = 15\n",
        "best_valid_loss = float('inf')\n",
        "#freeze embeddings\n",
        "model.embedding.weight.requires_grad = unfrozen = False\n",
        "\n",
        "for epoch in range(N_EPOCHS):\n",
        "     \n",
        "    # train the model\n",
        "    train_loss, train_acc = train(model, train_iterator, optimizer, criterion)\n",
        "    \n",
        "    # evaluate the model\n",
        "    valid_loss, valid_acc = evaluate(model, valid_iterator, criterion)\n",
        "    \n",
        "    # save the best model\n",
        "    if valid_loss < best_valid_loss:\n",
        "        best_valid_loss = valid_loss\n",
        "        torch.save(model.state_dict(), 'saved_weights.pt')\n",
        "    \n",
        "    print(f'\\tTrain Loss: {train_loss:.3f} | Train Acc: {train_acc*100:.2f}%')\n",
        "    print(f'\\t Val. Loss: {valid_loss:.3f} |  Val. Acc: {valid_acc*100:.2f}% \\n')"
      ],
      "execution_count": 72,
      "outputs": [
        {
          "output_type": "stream",
          "text": [
            "\tTrain Loss: 0.992 | Train Acc: 54.29%\n",
            "\t Val. Loss: 0.933 |  Val. Acc: 60.83% \n",
            "\n",
            "\tTrain Loss: 0.919 | Train Acc: 62.74%\n",
            "\t Val. Loss: 0.939 |  Val. Acc: 60.30% \n",
            "\n",
            "\tTrain Loss: 0.864 | Train Acc: 68.61%\n",
            "\t Val. Loss: 0.927 |  Val. Acc: 61.78% \n",
            "\n",
            "\tTrain Loss: 0.825 | Train Acc: 72.79%\n",
            "\t Val. Loss: 0.918 |  Val. Acc: 63.01% \n",
            "\n",
            "\tTrain Loss: 0.794 | Train Acc: 75.70%\n",
            "\t Val. Loss: 0.925 |  Val. Acc: 61.12% \n",
            "\n",
            "\tTrain Loss: 0.766 | Train Acc: 78.52%\n",
            "\t Val. Loss: 0.917 |  Val. Acc: 62.54% \n",
            "\n",
            "\tTrain Loss: 0.745 | Train Acc: 80.85%\n",
            "\t Val. Loss: 0.918 |  Val. Acc: 62.35% \n",
            "\n",
            "\tTrain Loss: 0.731 | Train Acc: 82.18%\n",
            "\t Val. Loss: 0.912 |  Val. Acc: 63.24% \n",
            "\n",
            "\tTrain Loss: 0.712 | Train Acc: 84.14%\n",
            "\t Val. Loss: 0.934 |  Val. Acc: 60.85% \n",
            "\n",
            "\tTrain Loss: 0.702 | Train Acc: 85.24%\n",
            "\t Val. Loss: 0.938 |  Val. Acc: 60.55% \n",
            "\n",
            "\tTrain Loss: 0.695 | Train Acc: 85.89%\n",
            "\t Val. Loss: 0.933 |  Val. Acc: 61.12% \n",
            "\n",
            "\tTrain Loss: 0.692 | Train Acc: 86.22%\n",
            "\t Val. Loss: 0.931 |  Val. Acc: 61.21% \n",
            "\n",
            "\tTrain Loss: 0.679 | Train Acc: 87.37%\n",
            "\t Val. Loss: 0.938 |  Val. Acc: 60.21% \n",
            "\n",
            "\tTrain Loss: 0.676 | Train Acc: 87.81%\n",
            "\t Val. Loss: 0.923 |  Val. Acc: 62.05% \n",
            "\n",
            "\tTrain Loss: 0.673 | Train Acc: 88.17%\n",
            "\t Val. Loss: 0.923 |  Val. Acc: 62.31% \n",
            "\n"
          ],
          "name": "stdout"
        }
      ]
    },
    {
      "cell_type": "markdown",
      "metadata": {
        "id": "LZgzB0ZkHVTI"
      },
      "source": [
        "## Model Testing"
      ]
    },
    {
      "cell_type": "code",
      "metadata": {
        "id": "aZZfnWo0abRx"
      },
      "source": [
        "#load weights and tokenizer\n",
        "\n",
        "path='./saved_weights.pt'\n",
        "model.load_state_dict(torch.load(path));\n",
        "model.eval();\n",
        "tokenizer_file = open('./tokenizer.pkl', 'rb')\n",
        "tokenizer = pickle.load(tokenizer_file)\n",
        "\n",
        "#inference \n",
        "\n",
        "import spacy\n",
        "nlp = spacy.load('en')\n",
        "\n",
        "def classify_tweet(tweet):\n",
        "    \n",
        "    categories = {0: \"Negative\", 1:\"Positive\", 2:\"Neutral\"}\n",
        "    \n",
        "    # tokenize the tweet \n",
        "    tokenized = [tok.text for tok in nlp.tokenizer(tweet)] \n",
        "    # convert to integer sequence using predefined tokenizer dictionary\n",
        "    indexed = [tokenizer[t] for t in tokenized]        \n",
        "    # compute no. of words        \n",
        "    length = [len(indexed)]\n",
        "    # convert to tensor                                    \n",
        "    tensor = torch.LongTensor(indexed).to(device)   \n",
        "    # reshape in form of batch, no. of words           \n",
        "    tensor = tensor.unsqueeze(1).T  \n",
        "    # convert to tensor                          \n",
        "    length_tensor = torch.LongTensor(length)\n",
        "    # Get the model prediction                  \n",
        "    prediction = model(tensor, length_tensor)\n",
        "\n",
        "    _, pred = torch.max(prediction, 1) \n",
        "    \n",
        "    return categories[pred.item()]"
      ],
      "execution_count": 73,
      "outputs": []
    },
    {
      "cell_type": "code",
      "metadata": {
        "id": "yTkHLEipIlM9"
      },
      "source": [
        "classify_tweet(\"A valid explanation for why Trump won't let women on the golf course.\")"
      ],
      "execution_count": null,
      "outputs": []
    },
    {
      "cell_type": "markdown",
      "metadata": {
        "id": "WVjCuKK_LVEF"
      },
      "source": [
        "## Discussion on Data Augmentation Techniques \n",
        "\n",
        "You might wonder exactly how you can augment text data. After all, you can’t really flip it horizontally as you can an image! :D \n",
        "\n",
        "In contrast to data augmentation in images, augmentation techniques on data is very specific to final product you are building. As its general usage on any type of textual data doesn't provides a significant performance boost, that's why unlike torchvision, torchtext doesn’t offer a augmentation pipeline. Due to powerful models as transformers, augmentation tecnhiques are not so preferred now-a-days. But its better to know about some techniques with text that will provide your model with a little more information for training. \n",
        "\n",
        "### Synonym Replacement\n",
        "\n",
        "First, you could replace words in the sentence with synonyms, like so:\n",
        "\n",
        "    The dog slept on the mat\n",
        "\n",
        "could become\n",
        "\n",
        "    The dog slept on the rug\n",
        "\n",
        "Aside from the dog's insistence that a rug is much softer than a mat, the meaning of the sentence hasn’t changed. But mat and rug will be mapped to different indices in the vocabulary, so the model will learn that the two sentences map to the same label, and hopefully that there’s a connection between those two words, as everything else in the sentences is the same."
      ]
    },
    {
      "cell_type": "markdown",
      "metadata": {
        "id": "T_uEfWJpL6Nq"
      },
      "source": [
        "### Random Insertion\n",
        "A random insertion technique looks at a sentence and then randomly inserts synonyms of existing non-stopwords into the sentence n times. Assuming you have a way of getting a synonym of a word and a way of eliminating stopwords (common words such as and, it, the, etc.), shown, but not implemented, in this function via get_synonyms() and get_stopwords(), an implementation of this would be as follows:\n"
      ]
    },
    {
      "cell_type": "code",
      "metadata": {
        "id": "7Alm5D7WIvAC"
      },
      "source": [
        "def random_insertion(sentence, n): \n",
        "    words = remove_stopwords(sentence) \n",
        "    for _ in range(n):\n",
        "        new_synonym = get_synonyms(random.choice(words))\n",
        "        sentence.insert(randrange(len(sentence)+1), new_synonym) \n",
        "    return sentence"
      ],
      "execution_count": null,
      "outputs": []
    },
    {
      "cell_type": "markdown",
      "metadata": {
        "id": "gqLWzwJ3Mm8h"
      },
      "source": [
        "## Random Deletion\n",
        "As the name suggests, random deletion deletes words from a sentence. Given a probability parameter p, it will go through the sentence and decide whether to delete a word or not based on that random probability. Consider of it as pixel dropouts while treating images."
      ]
    },
    {
      "cell_type": "code",
      "metadata": {
        "id": "-7Dz7JJfMqyC"
      },
      "source": [
        "def random_deletion(words, p=0.5): \n",
        "    if len(words) == 1: # return if single word\n",
        "        return words\n",
        "    remaining = list(filter(lambda x: random.uniform(0,1) > p,words)) \n",
        "    if len(remaining) == 0: # if not left, sample a random word\n",
        "        return [random.choice(words)] \n",
        "    else:\n",
        "        return remaining"
      ],
      "execution_count": null,
      "outputs": []
    },
    {
      "cell_type": "markdown",
      "metadata": {
        "id": "zOIbi5WzO5OU"
      },
      "source": [
        "### Random Swap\n",
        "The random swap augmentation takes a sentence and then swaps words within it n times, with each iteration working on the previously swapped sentence. Here we sample two random numbers based on the length of the sentence, and then just keep swapping until we hit n."
      ]
    },
    {
      "cell_type": "code",
      "metadata": {
        "id": "LnkbG15HO3Yj"
      },
      "source": [
        "def random_swap(sentence, n=5): \n",
        "    length = range(len(sentence)) \n",
        "    for _ in range(n):\n",
        "        idx1, idx2 = random.sample(length, 2)\n",
        "        sentence[idx1], sentence[idx2] = sentence[idx2], sentence[idx1] \n",
        "    return sentence"
      ],
      "execution_count": null,
      "outputs": []
    },
    {
      "cell_type": "markdown",
      "metadata": {
        "id": "599NpwfMR5Vm"
      },
      "source": [
        "For more on this please go through this [paper](https://arxiv.org/pdf/1901.11196.pdf)."
      ]
    },
    {
      "cell_type": "markdown",
      "metadata": {
        "id": "a5aeKuNCRGip"
      },
      "source": [
        "### Back Translation\n",
        "\n",
        "Another popular approach for augmenting text datasets is back translation. This involves translating a sentence from our target language into one or more other languages and then translating all of them back to the original language. We can use the Python library googletrans for this purpose. "
      ]
    },
    {
      "cell_type": "code",
      "metadata": {
        "id": "B2a5FZkoDSyL"
      },
      "source": [
        "!pip install googletrans==3.1.0a0"
      ],
      "execution_count": null,
      "outputs": []
    },
    {
      "cell_type": "code",
      "metadata": {
        "id": "pHhNBbYrRXNy"
      },
      "source": [
        "import random\n",
        "import googletrans\n",
        "from googletrans import Translator\n",
        "\n",
        "# import googletrans.Translator\n",
        "\n",
        "translator = Translator()\n",
        "sentence = ['The dog slept on the rug']\n",
        "\n",
        "available_langs = list(googletrans.LANGUAGES.keys()) \n",
        "trans_lang = random.choice(available_langs) \n",
        "print(f\"Translating to {googletrans.LANGUAGES[trans_lang]}\")\n",
        "\n",
        "translations = translator.translate(sentence, dest=trans_lang) \n",
        "t_text = [t.text for t in translations]\n",
        "print(t_text)\n",
        "\n",
        "translations_en_random = translator.translate(t_text, src=trans_lang, dest='en') \n",
        "en_text = [t.text for t in translations_en_random]\n",
        "print(en_text)"
      ],
      "execution_count": null,
      "outputs": []
    }
  ]
}