{
  "nbformat": 4,
  "nbformat_minor": 0,
  "metadata": {
    "accelerator": "GPU",
    "colab": {
      "name": "END_NLP_Assignment_7_StanfordSentimentAnalysis_LSTM_RNN_FineGrained_2.1.ipynb",
      "provenance": [],
      "collapsed_sections": [
        "WVjCuKK_LVEF"
      ]
    },
    "kernelspec": {
      "display_name": "Python 3",
      "name": "python3"
    }
  },
  "cells": [
    {
      "cell_type": "markdown",
      "metadata": {
        "id": "GYiRsFGD6iUC"
      },
      "source": [
        "# 0 TorchText"
      ]
    },
    {
      "cell_type": "markdown",
      "metadata": {
        "id": "tp5IzBGsPGHs"
      },
      "source": [
        "## Dataset Preview\n",
        "\n",
        "Your first step to deep learning in NLP. We will be mostly using PyTorch. Just like torchvision, PyTorch provides an official library, torchtext, for handling text-processing pipelines. \n",
        "\n",
        "We will be using previous session tweet dataset. Let's just preview the dataset."
      ]
    },
    {
      "cell_type": "code",
      "metadata": {
        "colab": {
          "base_uri": "https://localhost:8080/"
        },
        "id": "SKSTi9GepUmJ",
        "outputId": "9584e13f-b872-4b4b-e71b-c7a3fa9fde33"
      },
      "source": [
        "from google.colab import drive\n",
        "drive.mount('/content/gdrive/')"
      ],
      "execution_count": null,
      "outputs": [
        {
          "output_type": "stream",
          "text": [
            "Drive already mounted at /content/gdrive/; to attempt to forcibly remount, call drive.mount(\"/content/gdrive/\", force_remount=True).\n"
          ],
          "name": "stdout"
        }
      ]
    },
    {
      "cell_type": "code",
      "metadata": {
        "id": "yhrCTg2Qphmm"
      },
      "source": [
        "!cp '/content/gdrive/My Drive/EVA/stanfordSentimentTreebank.zip' stanfordSentimentTreebank.zip\n",
        "!unzip -q -o stanfordSentimentTreebank.zip -d stanfordSentimentTreebank"
      ],
      "execution_count": null,
      "outputs": []
    },
    {
      "cell_type": "code",
      "metadata": {
        "colab": {
          "base_uri": "https://localhost:8080/",
          "height": 195
        },
        "id": "o1-Yz-5RRFYc",
        "outputId": "1e09214b-c0f7-44b4-83dd-46c768402464"
      },
      "source": [
        "import pandas as pd\n",
        "df = pd.read_csv('/content/stanfordSentimentTreebank/stanfordSentimentTreebank/datasetSentences.txt',sep='\\t')\n",
        "df.tail()"
      ],
      "execution_count": null,
      "outputs": [
        {
          "output_type": "execute_result",
          "data": {
            "text/html": [
              "<div>\n",
              "<style scoped>\n",
              "    .dataframe tbody tr th:only-of-type {\n",
              "        vertical-align: middle;\n",
              "    }\n",
              "\n",
              "    .dataframe tbody tr th {\n",
              "        vertical-align: top;\n",
              "    }\n",
              "\n",
              "    .dataframe thead th {\n",
              "        text-align: right;\n",
              "    }\n",
              "</style>\n",
              "<table border=\"1\" class=\"dataframe\">\n",
              "  <thead>\n",
              "    <tr style=\"text-align: right;\">\n",
              "      <th></th>\n",
              "      <th>sentence_index</th>\n",
              "      <th>sentence</th>\n",
              "    </tr>\n",
              "  </thead>\n",
              "  <tbody>\n",
              "    <tr>\n",
              "      <th>11850</th>\n",
              "      <td>11851</td>\n",
              "      <td>A real snooze .</td>\n",
              "    </tr>\n",
              "    <tr>\n",
              "      <th>11851</th>\n",
              "      <td>11852</td>\n",
              "      <td>No surprises .</td>\n",
              "    </tr>\n",
              "    <tr>\n",
              "      <th>11852</th>\n",
              "      <td>11853</td>\n",
              "      <td>We 've seen the hippie-turned-yuppie plot befo...</td>\n",
              "    </tr>\n",
              "    <tr>\n",
              "      <th>11853</th>\n",
              "      <td>11854</td>\n",
              "      <td>Her fans walked out muttering words like `` ho...</td>\n",
              "    </tr>\n",
              "    <tr>\n",
              "      <th>11854</th>\n",
              "      <td>11855</td>\n",
              "      <td>In this case zero .</td>\n",
              "    </tr>\n",
              "  </tbody>\n",
              "</table>\n",
              "</div>"
            ],
            "text/plain": [
              "       sentence_index                                           sentence\n",
              "11850           11851                                    A real snooze .\n",
              "11851           11852                                     No surprises .\n",
              "11852           11853  We 've seen the hippie-turned-yuppie plot befo...\n",
              "11853           11854  Her fans walked out muttering words like `` ho...\n",
              "11854           11855                                In this case zero ."
            ]
          },
          "metadata": {
            "tags": []
          },
          "execution_count": 22
        }
      ]
    },
    {
      "cell_type": "code",
      "metadata": {
        "colab": {
          "base_uri": "https://localhost:8080/"
        },
        "id": "R7JdpCW-YbAG",
        "outputId": "09ecff92-b014-45f3-e869-a23c2ea20a22"
      },
      "source": [
        "df.shape"
      ],
      "execution_count": null,
      "outputs": [
        {
          "output_type": "execute_result",
          "data": {
            "text/plain": [
              "(11855, 2)"
            ]
          },
          "metadata": {
            "tags": []
          },
          "execution_count": 23
        }
      ]
    },
    {
      "cell_type": "code",
      "metadata": {
        "colab": {
          "base_uri": "https://localhost:8080/"
        },
        "id": "zqRsoF6xYdgl",
        "outputId": "70d80499-92c1-4ead-ed81-495f56df30d5"
      },
      "source": [
        "df.info()"
      ],
      "execution_count": null,
      "outputs": [
        {
          "output_type": "stream",
          "text": [
            "<class 'pandas.core.frame.DataFrame'>\n",
            "RangeIndex: 11855 entries, 0 to 11854\n",
            "Data columns (total 2 columns):\n",
            " #   Column          Non-Null Count  Dtype \n",
            "---  ------          --------------  ----- \n",
            " 0   sentence_index  11855 non-null  int64 \n",
            " 1   sentence        11855 non-null  object\n",
            "dtypes: int64(1), object(1)\n",
            "memory usage: 185.4+ KB\n"
          ],
          "name": "stdout"
        }
      ]
    },
    {
      "cell_type": "markdown",
      "metadata": {
        "id": "XJ6o_79ISSVb"
      },
      "source": [
        "## Defining Fields"
      ]
    },
    {
      "cell_type": "code",
      "metadata": {
        "id": "AgaTy-qJ_ATn"
      },
      "source": [
        "from torch.utils.data import DataLoader\n",
        "from torch.optim.lr_scheduler import ReduceLROnPlateau"
      ],
      "execution_count": null,
      "outputs": []
    },
    {
      "cell_type": "code",
      "metadata": {
        "id": "WoEXPawa_3tN"
      },
      "source": [
        "class StanfordDatasetReader():\n",
        "  def __init__(self, sst_dir, split_idx):\n",
        "    \n",
        "    merged_dataset = self.get_merged_dataset(sst_dir)\n",
        "    merged_dataset['sentiment values'] = merged_dataset['sentiment values'].astype(float)\n",
        "    self.dataset = merged_dataset[merged_dataset[\"splitset_label\"] == split_idx]\n",
        "    # self.dataset[\"Revised_Sentiment\"] = self.discretize_label(self.dataset.iloc[5])\n",
        "    self.dataset['Revised_sentiment values'] = self.dataset.apply(lambda x: labelfunc(x[\"sentiment values\"]), axis=1)\n",
        "    # train_st_data['Revised_sentiment values'] = train_st_data.apply(lambda x: myfunc(x[\"sentiment values\"]), axis=1)\n",
        "  # https://github.com/iamsimha/conv-sentiment-analysis/blob/master/code/dataset_reader.py\n",
        "  def get_merged_dataset(self, sst_dir):\n",
        "\n",
        "    sentiment_labels = pd.read_csv(os.path.join(sst_dir, \"sentiment_labels.txt\"), sep=\"|\")\n",
        "    sentence_ids = pd.read_csv(os.path.join(sst_dir, \"datasetSentences.txt\"), sep=\"\\t\")\n",
        "    dictionary = pd.read_csv(os.path.join(sst_dir, \"dictionary.txt\"), sep=\"|\", names=['phrase', 'phrase ids'])\n",
        "    train_test_split = pd.read_csv(os.path.join(sst_dir, \"datasetSplit.txt\"))\n",
        "    sentence_phrase_merge = pd.merge(sentence_ids, dictionary, left_on='sentence', right_on='phrase')\n",
        "    sentence_phrase_split = pd.merge(sentence_phrase_merge, train_test_split, on='sentence_index')\n",
        "    return pd.merge(sentence_phrase_split, sentiment_labels, on='phrase ids').sample(frac=1)\n",
        "\n",
        "  def discretize_label(self, label):\n",
        "    print(type(label))\n",
        "    if label <= 0.2: return 0\n",
        "    if label <= 0.4: return 1\n",
        "    if label <= 0.6: return 2\n",
        "    if label <= 0.8: return 3\n",
        "    return 4\n",
        "\n",
        "  def word_to_index(self, word):\n",
        "    if word in self.w2i:\n",
        "      return self.w2i[word]\n",
        "    else:\n",
        "      return self.w2i[\"<OOV>\"]\n",
        "\n",
        "  def __len__(self):\n",
        "    return self.dataset.shape[0]\n",
        "    \n",
        "  # def __getitem__(self, idx):\n",
        "  #   return {\"sentence\": [self.word_to_index(x) for x in self.dataset.iloc[idx, 1].split()],\n",
        "  #           \"label\": self.discretize_label(self.dataset.iloc[idx, 5])}\n",
        "  def labelfunc(label):\n",
        "    if label <= 0.2: return 0\n",
        "    if label <= 0.4: return 1\n",
        "    if label <= 0.6: return 2\n",
        "    if label <= 0.8: return 3\n",
        "    return 4\n",
        "\n",
        "  def get_data(self):\n",
        "    return self.dataset\n",
        "\n",
        "  def __getitem__(self, idx):\n",
        "    return {\"sentence\": [x for x in self.dataset.iloc[idx, 1].split()],\n",
        "            \"label\": self.discretize_label(self.dataset.iloc[idx, 5])}"
      ],
      "execution_count": null,
      "outputs": []
    },
    {
      "cell_type": "code",
      "metadata": {
        "id": "G1BWSC8jd7AZ"
      },
      "source": [
        "def labelfunc(label):\n",
        "  if label <= 0.2: return 0\n",
        "  if label <= 0.4: return 1\n",
        "  if label <= 0.6: return 2\n",
        "  if label <= 0.8: return 3\n",
        "  return 4"
      ],
      "execution_count": null,
      "outputs": []
    },
    {
      "cell_type": "code",
      "metadata": {
        "id": "rBxRHuT5Fhyb"
      },
      "source": [
        "import os\n",
        "def load_data(sst_dir=\"/content/stanfordSentimentTreebank/stanfordSentimentTreebank/\"):\n",
        "  train_st_data_cl = StanfordDatasetReader(sst_dir, 1).get_data()\n",
        "  # train_st_data_cl['Revised_sentiment values'] = train_st_data.apply(lambda x: labelfunc(x[\"sentiment values\"]), axis=1)\n",
        "  test_st_data_cl = StanfordDatasetReader(sst_dir, 2).get_data()\n",
        "  # test_st_data_cl['Revised_sentiment values'] = test_st_data_cl.apply(lambda x: labelfunc(x[\"sentiment values\"]), axis=1)\n",
        "  validation_st_data_cl = StanfordDatasetReader(sst_dir, 3).get_data()\n",
        "  # validation_st_data_cl['Revised_sentiment values'] = validation_st_data_cl.apply(lambda x: labelfunc(x[\"sentiment values\"]), axis=1)\n",
        "  return train_st_data_cl,test_st_data_cl,validation_st_data_cl"
      ],
      "execution_count": null,
      "outputs": []
    },
    {
      "cell_type": "code",
      "metadata": {
        "colab": {
          "base_uri": "https://localhost:8080/"
        },
        "id": "ABfKELBlJf2v",
        "outputId": "8b2611cf-47fa-44f8-8107-a2032249b6f1"
      },
      "source": [
        "train_st_data,test_st_data,validation_st_data = load_data()"
      ],
      "execution_count": null,
      "outputs": [
        {
          "output_type": "stream",
          "text": [
            "/usr/local/lib/python3.6/dist-packages/ipykernel_launcher.py:8: SettingWithCopyWarning: \n",
            "A value is trying to be set on a copy of a slice from a DataFrame.\n",
            "Try using .loc[row_indexer,col_indexer] = value instead\n",
            "\n",
            "See the caveats in the documentation: https://pandas.pydata.org/pandas-docs/stable/user_guide/indexing.html#returning-a-view-versus-a-copy\n",
            "  \n",
            "/usr/local/lib/python3.6/dist-packages/ipykernel_launcher.py:8: SettingWithCopyWarning: \n",
            "A value is trying to be set on a copy of a slice from a DataFrame.\n",
            "Try using .loc[row_indexer,col_indexer] = value instead\n",
            "\n",
            "See the caveats in the documentation: https://pandas.pydata.org/pandas-docs/stable/user_guide/indexing.html#returning-a-view-versus-a-copy\n",
            "  \n",
            "/usr/local/lib/python3.6/dist-packages/ipykernel_launcher.py:8: SettingWithCopyWarning: \n",
            "A value is trying to be set on a copy of a slice from a DataFrame.\n",
            "Try using .loc[row_indexer,col_indexer] = value instead\n",
            "\n",
            "See the caveats in the documentation: https://pandas.pydata.org/pandas-docs/stable/user_guide/indexing.html#returning-a-view-versus-a-copy\n",
            "  \n"
          ],
          "name": "stderr"
        }
      ]
    },
    {
      "cell_type": "code",
      "metadata": {
        "colab": {
          "base_uri": "https://localhost:8080/",
          "height": 195
        },
        "id": "c10qU_CBoOZM",
        "outputId": "0c10a80d-bda8-41dd-a319-c06e816200a2"
      },
      "source": [
        "train_st_data.head()"
      ],
      "execution_count": null,
      "outputs": [
        {
          "output_type": "execute_result",
          "data": {
            "text/html": [
              "<div>\n",
              "<style scoped>\n",
              "    .dataframe tbody tr th:only-of-type {\n",
              "        vertical-align: middle;\n",
              "    }\n",
              "\n",
              "    .dataframe tbody tr th {\n",
              "        vertical-align: top;\n",
              "    }\n",
              "\n",
              "    .dataframe thead th {\n",
              "        text-align: right;\n",
              "    }\n",
              "</style>\n",
              "<table border=\"1\" class=\"dataframe\">\n",
              "  <thead>\n",
              "    <tr style=\"text-align: right;\">\n",
              "      <th></th>\n",
              "      <th>sentence_index</th>\n",
              "      <th>sentence</th>\n",
              "      <th>phrase</th>\n",
              "      <th>phrase ids</th>\n",
              "      <th>splitset_label</th>\n",
              "      <th>sentiment values</th>\n",
              "      <th>Revised_sentiment values</th>\n",
              "    </tr>\n",
              "  </thead>\n",
              "  <tbody>\n",
              "    <tr>\n",
              "      <th>5609</th>\n",
              "      <td>5867</td>\n",
              "      <td>This 10th film in the series looks and feels t...</td>\n",
              "      <td>This 10th film in the series looks and feels t...</td>\n",
              "      <td>110417</td>\n",
              "      <td>1</td>\n",
              "      <td>0.22222</td>\n",
              "      <td>1</td>\n",
              "    </tr>\n",
              "    <tr>\n",
              "      <th>2630</th>\n",
              "      <td>2747</td>\n",
              "      <td>... a story , an old and scary one , about the...</td>\n",
              "      <td>... a story , an old and scary one , about the...</td>\n",
              "      <td>62562</td>\n",
              "      <td>1</td>\n",
              "      <td>0.50000</td>\n",
              "      <td>2</td>\n",
              "    </tr>\n",
              "    <tr>\n",
              "      <th>6904</th>\n",
              "      <td>7226</td>\n",
              "      <td>Spain 's greatest star wattage does n't overco...</td>\n",
              "      <td>Spain 's greatest star wattage does n't overco...</td>\n",
              "      <td>148782</td>\n",
              "      <td>1</td>\n",
              "      <td>0.30556</td>\n",
              "      <td>1</td>\n",
              "    </tr>\n",
              "    <tr>\n",
              "      <th>1899</th>\n",
              "      <td>1979</td>\n",
              "      <td>Miyazaki is one of world cinema 's most wondro...</td>\n",
              "      <td>Miyazaki is one of world cinema 's most wondro...</td>\n",
              "      <td>46196</td>\n",
              "      <td>1</td>\n",
              "      <td>0.94444</td>\n",
              "      <td>4</td>\n",
              "    </tr>\n",
              "    <tr>\n",
              "      <th>3061</th>\n",
              "      <td>3198</td>\n",
              "      <td>Beautifully reclaiming the story of Carmen and...</td>\n",
              "      <td>Beautifully reclaiming the story of Carmen and...</td>\n",
              "      <td>64292</td>\n",
              "      <td>1</td>\n",
              "      <td>0.70833</td>\n",
              "      <td>3</td>\n",
              "    </tr>\n",
              "  </tbody>\n",
              "</table>\n",
              "</div>"
            ],
            "text/plain": [
              "      sentence_index  ... Revised_sentiment values\n",
              "5609            5867  ...                        1\n",
              "2630            2747  ...                        2\n",
              "6904            7226  ...                        1\n",
              "1899            1979  ...                        4\n",
              "3061            3198  ...                        3\n",
              "\n",
              "[5 rows x 7 columns]"
            ]
          },
          "metadata": {
            "tags": []
          },
          "execution_count": 33
        }
      ]
    },
    {
      "cell_type": "code",
      "metadata": {
        "colab": {
          "base_uri": "https://localhost:8080/",
          "height": 195
        },
        "id": "fwFAQsWogYg-",
        "outputId": "3ecaa80e-11a5-41f8-cdad-082efa5daff2"
      },
      "source": [
        "test_st_data.tail()"
      ],
      "execution_count": null,
      "outputs": [
        {
          "output_type": "execute_result",
          "data": {
            "text/html": [
              "<div>\n",
              "<style scoped>\n",
              "    .dataframe tbody tr th:only-of-type {\n",
              "        vertical-align: middle;\n",
              "    }\n",
              "\n",
              "    .dataframe tbody tr th {\n",
              "        vertical-align: top;\n",
              "    }\n",
              "\n",
              "    .dataframe thead th {\n",
              "        text-align: right;\n",
              "    }\n",
              "</style>\n",
              "<table border=\"1\" class=\"dataframe\">\n",
              "  <thead>\n",
              "    <tr style=\"text-align: right;\">\n",
              "      <th></th>\n",
              "      <th>sentence_index</th>\n",
              "      <th>sentence</th>\n",
              "      <th>phrase</th>\n",
              "      <th>phrase ids</th>\n",
              "      <th>splitset_label</th>\n",
              "      <th>sentiment values</th>\n",
              "      <th>Revised_sentiment values</th>\n",
              "    </tr>\n",
              "  </thead>\n",
              "  <tbody>\n",
              "    <tr>\n",
              "      <th>8266</th>\n",
              "      <td>8654</td>\n",
              "      <td>Well before it 's over , Beijing Bicycle begin...</td>\n",
              "      <td>Well before it 's over , Beijing Bicycle begin...</td>\n",
              "      <td>150764</td>\n",
              "      <td>2</td>\n",
              "      <td>0.50000</td>\n",
              "      <td>2</td>\n",
              "    </tr>\n",
              "    <tr>\n",
              "      <th>7858</th>\n",
              "      <td>8232</td>\n",
              "      <td>A soggy , cliche-bound epic-horror yarn that e...</td>\n",
              "      <td>A soggy , cliche-bound epic-horror yarn that e...</td>\n",
              "      <td>143351</td>\n",
              "      <td>2</td>\n",
              "      <td>0.22222</td>\n",
              "      <td>1</td>\n",
              "    </tr>\n",
              "    <tr>\n",
              "      <th>690</th>\n",
              "      <td>716</td>\n",
              "      <td>No wonder they 're talking about `` Talk to He...</td>\n",
              "      <td>No wonder they 're talking about `` Talk to He...</td>\n",
              "      <td>225167</td>\n",
              "      <td>2</td>\n",
              "      <td>0.50000</td>\n",
              "      <td>2</td>\n",
              "    </tr>\n",
              "    <tr>\n",
              "      <th>8282</th>\n",
              "      <td>8671</td>\n",
              "      <td>I was perplexed to watch it unfold with an ast...</td>\n",
              "      <td>I was perplexed to watch it unfold with an ast...</td>\n",
              "      <td>146138</td>\n",
              "      <td>2</td>\n",
              "      <td>0.26389</td>\n",
              "      <td>1</td>\n",
              "    </tr>\n",
              "    <tr>\n",
              "      <th>285</th>\n",
              "      <td>291</td>\n",
              "      <td>This is such a dazzlingly self-assured directo...</td>\n",
              "      <td>This is such a dazzlingly self-assured directo...</td>\n",
              "      <td>19365</td>\n",
              "      <td>2</td>\n",
              "      <td>0.79167</td>\n",
              "      <td>3</td>\n",
              "    </tr>\n",
              "  </tbody>\n",
              "</table>\n",
              "</div>"
            ],
            "text/plain": [
              "      sentence_index  ... Revised_sentiment values\n",
              "8266            8654  ...                        2\n",
              "7858            8232  ...                        1\n",
              "690              716  ...                        2\n",
              "8282            8671  ...                        1\n",
              "285              291  ...                        3\n",
              "\n",
              "[5 rows x 7 columns]"
            ]
          },
          "metadata": {
            "tags": []
          },
          "execution_count": 34
        }
      ]
    },
    {
      "cell_type": "code",
      "metadata": {
        "colab": {
          "base_uri": "https://localhost:8080/",
          "height": 195
        },
        "id": "HzM5HDWkgcip",
        "outputId": "3082c7c3-9898-4598-f82a-658d58074340"
      },
      "source": [
        "validation_st_data.head()"
      ],
      "execution_count": null,
      "outputs": [
        {
          "output_type": "execute_result",
          "data": {
            "text/html": [
              "<div>\n",
              "<style scoped>\n",
              "    .dataframe tbody tr th:only-of-type {\n",
              "        vertical-align: middle;\n",
              "    }\n",
              "\n",
              "    .dataframe tbody tr th {\n",
              "        vertical-align: top;\n",
              "    }\n",
              "\n",
              "    .dataframe thead th {\n",
              "        text-align: right;\n",
              "    }\n",
              "</style>\n",
              "<table border=\"1\" class=\"dataframe\">\n",
              "  <thead>\n",
              "    <tr style=\"text-align: right;\">\n",
              "      <th></th>\n",
              "      <th>sentence_index</th>\n",
              "      <th>sentence</th>\n",
              "      <th>phrase</th>\n",
              "      <th>phrase ids</th>\n",
              "      <th>splitset_label</th>\n",
              "      <th>sentiment values</th>\n",
              "      <th>Revised_sentiment values</th>\n",
              "    </tr>\n",
              "  </thead>\n",
              "  <tbody>\n",
              "    <tr>\n",
              "      <th>7335</th>\n",
              "      <td>7686</td>\n",
              "      <td>Fancy a real downer ?</td>\n",
              "      <td>Fancy a real downer ?</td>\n",
              "      <td>145273</td>\n",
              "      <td>3</td>\n",
              "      <td>0.23611</td>\n",
              "      <td>1</td>\n",
              "    </tr>\n",
              "    <tr>\n",
              "      <th>7245</th>\n",
              "      <td>7587</td>\n",
              "      <td>Although there are several truly jolting scare...</td>\n",
              "      <td>Although there are several truly jolting scare...</td>\n",
              "      <td>143668</td>\n",
              "      <td>3</td>\n",
              "      <td>0.50000</td>\n",
              "      <td>2</td>\n",
              "    </tr>\n",
              "    <tr>\n",
              "      <th>7039</th>\n",
              "      <td>7369</td>\n",
              "      <td>No way I can believe this load of junk .</td>\n",
              "      <td>No way I can believe this load of junk .</td>\n",
              "      <td>147733</td>\n",
              "      <td>3</td>\n",
              "      <td>0.16667</td>\n",
              "      <td>0</td>\n",
              "    </tr>\n",
              "    <tr>\n",
              "      <th>7513</th>\n",
              "      <td>7869</td>\n",
              "      <td>Nervous breakdowns are not entertaining .</td>\n",
              "      <td>Nervous breakdowns are not entertaining .</td>\n",
              "      <td>147643</td>\n",
              "      <td>3</td>\n",
              "      <td>0.23611</td>\n",
              "      <td>1</td>\n",
              "    </tr>\n",
              "    <tr>\n",
              "      <th>1591</th>\n",
              "      <td>1657</td>\n",
              "      <td>Director Andrew Niccol ... demonstrates a wry ...</td>\n",
              "      <td>Director Andrew Niccol ... demonstrates a wry ...</td>\n",
              "      <td>223142</td>\n",
              "      <td>3</td>\n",
              "      <td>0.72222</td>\n",
              "      <td>3</td>\n",
              "    </tr>\n",
              "  </tbody>\n",
              "</table>\n",
              "</div>"
            ],
            "text/plain": [
              "      sentence_index  ... Revised_sentiment values\n",
              "7335            7686  ...                        1\n",
              "7245            7587  ...                        2\n",
              "7039            7369  ...                        0\n",
              "7513            7869  ...                        1\n",
              "1591            1657  ...                        3\n",
              "\n",
              "[5 rows x 7 columns]"
            ]
          },
          "metadata": {
            "tags": []
          },
          "execution_count": 35
        }
      ]
    },
    {
      "cell_type": "markdown",
      "metadata": {
        "id": "dFCfiRpdGnQD"
      },
      "source": [
        "### Further NLP Augemnattion"
      ]
    },
    {
      "cell_type": "code",
      "metadata": {
        "colab": {
          "base_uri": "https://localhost:8080/"
        },
        "id": "4Ubb2QEEG0in",
        "outputId": "4f48496c-204c-422b-f055-c9cf950e1b94"
      },
      "source": [
        "!pip install nlpaug"
      ],
      "execution_count": null,
      "outputs": [
        {
          "output_type": "stream",
          "text": [
            "Requirement already satisfied: nlpaug in /usr/local/lib/python3.6/dist-packages (1.1.0)\n"
          ],
          "name": "stdout"
        }
      ]
    },
    {
      "cell_type": "code",
      "metadata": {
        "id": "PMI8CXdrIMGy"
      },
      "source": [
        "# !pip install transformers"
      ],
      "execution_count": null,
      "outputs": []
    },
    {
      "cell_type": "code",
      "metadata": {
        "id": "TGXDQghJEqmV"
      },
      "source": [
        "## Lets do the NLP data augmentation\n",
        "import nlpaug.augmenter.char as nac\n",
        "import nlpaug.augmenter.word as naw\n",
        "import nlpaug.augmenter.sentence as nas\n",
        "import nlpaug.flow as nafc\n",
        "\n",
        "from nlpaug.util import Action"
      ],
      "execution_count": null,
      "outputs": []
    },
    {
      "cell_type": "markdown",
      "metadata": {
        "id": "ed8FaP3MG-kc"
      },
      "source": [
        "##### Some basic examples for understanding and then further data augmentation by these\n",
        "- Substitute word by WordNet's synonym\n",
        "- Swap word randomly\n",
        "- Delete a set of contunous word will be removed randomly\n",
        "- Delete word randomly augemnattion"
      ]
    },
    {
      "cell_type": "code",
      "metadata": {
        "colab": {
          "base_uri": "https://localhost:8080/",
          "height": 35
        },
        "id": "9gledVX9KtEj",
        "outputId": "9991300a-7372-46d9-ff5c-1136cd52ded6"
      },
      "source": [
        "# validation_st_data.head()\n",
        "train_st_data['sentence'].iloc[0]"
      ],
      "execution_count": null,
      "outputs": [
        {
          "output_type": "execute_result",
          "data": {
            "application/vnd.google.colaboratory.intrinsic+json": {
              "type": "string"
            },
            "text/plain": [
              "'This 10th film in the series looks and feels tired .'"
            ]
          },
          "metadata": {
            "tags": []
          },
          "execution_count": 39
        }
      ]
    },
    {
      "cell_type": "code",
      "metadata": {
        "colab": {
          "base_uri": "https://localhost:8080/"
        },
        "id": "B0gu3UXtXqH4",
        "outputId": "93a40002-16ce-4efc-fcd7-182d9d6dee98"
      },
      "source": [
        "aug = naw.SynonymAug(aug_src='wordnet') ## Substitute word by WordNet's synonym¶\n",
        "\n",
        "augmented_text = aug.augment(train_st_data['sentence'].iloc[0])\n",
        "print(\"Original:\")\n",
        "print(train_st_data['sentence'].iloc[0])\n",
        "print(\"Augmented Text:\")\n",
        "print(augmented_text)\n",
        "train_st_data_SynonymAug_aug = train_st_data\n",
        "train_st_data_SynonymAug_aug['sentence_aug'] = train_st_data_SynonymAug_aug.apply(lambda x: aug.augment(x['sentence']),axis=1)  ## Swap word randomly¶"
      ],
      "execution_count": null,
      "outputs": [
        {
          "output_type": "stream",
          "text": [
            "[nltk_data] Downloading package wordnet to /root/nltk_data...\n",
            "[nltk_data]   Unzipping corpora/wordnet.zip.\n",
            "[nltk_data] Downloading package averaged_perceptron_tagger to\n",
            "[nltk_data]     /root/nltk_data...\n",
            "[nltk_data]   Unzipping taggers/averaged_perceptron_tagger.zip.\n",
            "Original:\n",
            "This 10th film in the series looks and feels tired .\n",
            "Augmented Text:\n",
            "This 10th film in the series look and feels exhaust.\n"
          ],
          "name": "stdout"
        }
      ]
    },
    {
      "cell_type": "code",
      "metadata": {
        "colab": {
          "base_uri": "https://localhost:8080/"
        },
        "id": "vBoPakkKX3ly",
        "outputId": "573425bf-18d8-43a1-cac1-138215df59d1"
      },
      "source": [
        "aug = naw.RandomWordAug(action=\"swap\") # Swap word randomly¶\n",
        "\n",
        "augmented_text = aug.augment(train_st_data['sentence'].iloc[0])\n",
        "print(\"Original:\")\n",
        "print(train_st_data['sentence'].iloc[0])\n",
        "print(\"Augmented Text:\")\n",
        "print(augmented_text)\n",
        "train_st_data_swap_aug = train_st_data\n",
        "train_st_data_swap_aug['sentence_aug'] = train_st_data_swap_aug.apply(lambda x: aug.augment(x['sentence']),axis=1)  ## Swap word randomly¶"
      ],
      "execution_count": null,
      "outputs": [
        {
          "output_type": "stream",
          "text": [
            "Original:\n",
            "This 10th film in the series looks and feels tired .\n",
            "Augmented Text:\n",
            "10th this film in series the looks and feels. tired\n"
          ],
          "name": "stdout"
        }
      ]
    },
    {
      "cell_type": "code",
      "metadata": {
        "id": "n24qk3VIYIR3"
      },
      "source": [
        "# aug = naw.RandomWordAug(action='crop',aug_p=0.5, aug_min=0)\n",
        "# augmented_text = aug.augment(train_st_data['sentence'].iloc[0])  ## Delete a set of contunous word will be removed randomly¶\n",
        "\n",
        "# print(\"Original:\")\n",
        "# print(train_st_data['sentence'].iloc[0])\n",
        "# print(\"Augmented Text:\")\n",
        "# print(augmented_text)\n",
        "# train_st_data_crop_aug = train_st_data\n",
        "# train_st_data_crop_aug['sentence_aug'] = train_st_data_crop_aug.apply(lambda x: aug.augment(x['sentence']),axis=1)  ## Delete a set of contunous word will be removed randomly¶"
      ],
      "execution_count": null,
      "outputs": []
    },
    {
      "cell_type": "code",
      "metadata": {
        "id": "mcDwOTqxNXkc"
      },
      "source": [
        "text = 'The quick brown fox jumps over the lazy dog .'\n",
        "# Augmenter that apply random word operation to textual input.Augmenter that apply randomly behavior for augmentation.\n",
        "aug = naw.RandomWordAug()\n",
        "augmented_data = aug.augment(text)\n",
        "augmented_data\n",
        "\n",
        "train_st_data_delete_aug = train_st_data\n",
        "# train_st_data_aug[sentence_aug] = aug.augment(train_st_data_aug.loc[\"sentence\"] )\n",
        "#--Using position to slice Email using a lambda function\n",
        "train_st_data_delete_aug['sentence_aug'] = train_st_data_delete_aug.apply(lambda x: aug.augment(x['sentence']),axis=1)  ## Delete word randomly augemnattion\n"
      ],
      "execution_count": null,
      "outputs": []
    },
    {
      "cell_type": "code",
      "metadata": {
        "colab": {
          "background_save": true
        },
        "id": "fFRlJ07oZnwX",
        "outputId": "b0a17e9d-3dcb-4e32-b72a-924570ba0ee9"
      },
      "source": [
        "print(\"Original:\")\n",
        "print(train_st_data_delete_aug['sentence'].iloc[0])\n",
        "print(\"Augmented Text:\")\n",
        "print(train_st_data_delete_aug['sentence_aug'].iloc[0])"
      ],
      "execution_count": null,
      "outputs": [
        {
          "output_type": "stream",
          "text": [
            "Original:\n",
            "This 10th film in the series looks and feels tired .\n",
            "Augmented Text:\n",
            "This 10th the looks and feels tired.\n"
          ],
          "name": "stdout"
        }
      ]
    },
    {
      "cell_type": "code",
      "metadata": {
        "colab": {
          "background_save": true
        },
        "id": "2zMubaWhVP2w",
        "outputId": "290a72b0-7fcf-42fd-8de1-5808bcfae097"
      },
      "source": [
        "train_st_data_delete_aug.head()"
      ],
      "execution_count": null,
      "outputs": [
        {
          "output_type": "execute_result",
          "data": {
            "text/html": [
              "<div>\n",
              "<style scoped>\n",
              "    .dataframe tbody tr th:only-of-type {\n",
              "        vertical-align: middle;\n",
              "    }\n",
              "\n",
              "    .dataframe tbody tr th {\n",
              "        vertical-align: top;\n",
              "    }\n",
              "\n",
              "    .dataframe thead th {\n",
              "        text-align: right;\n",
              "    }\n",
              "</style>\n",
              "<table border=\"1\" class=\"dataframe\">\n",
              "  <thead>\n",
              "    <tr style=\"text-align: right;\">\n",
              "      <th></th>\n",
              "      <th>sentence_index</th>\n",
              "      <th>sentence</th>\n",
              "      <th>phrase</th>\n",
              "      <th>phrase ids</th>\n",
              "      <th>splitset_label</th>\n",
              "      <th>sentiment values</th>\n",
              "      <th>Revised_sentiment values</th>\n",
              "      <th>sentence_aug</th>\n",
              "    </tr>\n",
              "  </thead>\n",
              "  <tbody>\n",
              "    <tr>\n",
              "      <th>5609</th>\n",
              "      <td>5867</td>\n",
              "      <td>This 10th film in the series looks and feels t...</td>\n",
              "      <td>This 10th film in the series looks and feels t...</td>\n",
              "      <td>110417</td>\n",
              "      <td>1</td>\n",
              "      <td>0.22222</td>\n",
              "      <td>1</td>\n",
              "      <td>This 10th the looks and feels tired.</td>\n",
              "    </tr>\n",
              "    <tr>\n",
              "      <th>2630</th>\n",
              "      <td>2747</td>\n",
              "      <td>... a story , an old and scary one , about the...</td>\n",
              "      <td>... a story , an old and scary one , about the...</td>\n",
              "      <td>62562</td>\n",
              "      <td>1</td>\n",
              "      <td>0.50000</td>\n",
              "      <td>2</td>\n",
              "      <td>.. . story, an old, the monsters make, and the...</td>\n",
              "    </tr>\n",
              "    <tr>\n",
              "      <th>6904</th>\n",
              "      <td>7226</td>\n",
              "      <td>Spain 's greatest star wattage does n't overco...</td>\n",
              "      <td>Spain 's greatest star wattage does n't overco...</td>\n",
              "      <td>148782</td>\n",
              "      <td>1</td>\n",
              "      <td>0.30556</td>\n",
              "      <td>1</td>\n",
              "      <td>' s star wattage does n ' t the tumult maudlin.</td>\n",
              "    </tr>\n",
              "    <tr>\n",
              "      <th>1899</th>\n",
              "      <td>1979</td>\n",
              "      <td>Miyazaki is one of world cinema 's most wondro...</td>\n",
              "      <td>Miyazaki is one of world cinema 's most wondro...</td>\n",
              "      <td>46196</td>\n",
              "      <td>1</td>\n",
              "      <td>0.94444</td>\n",
              "      <td>4</td>\n",
              "      <td>Miyazaki of world cinema ' wondrously gifted a...</td>\n",
              "    </tr>\n",
              "    <tr>\n",
              "      <th>3061</th>\n",
              "      <td>3198</td>\n",
              "      <td>Beautifully reclaiming the story of Carmen and...</td>\n",
              "      <td>Beautifully reclaiming the story of Carmen and...</td>\n",
              "      <td>64292</td>\n",
              "      <td>1</td>\n",
              "      <td>0.70833</td>\n",
              "      <td>3</td>\n",
              "      <td>Beautifully the of and recreating it an in an ...</td>\n",
              "    </tr>\n",
              "  </tbody>\n",
              "</table>\n",
              "</div>"
            ],
            "text/plain": [
              "      sentence_index  ...                                       sentence_aug\n",
              "5609            5867  ...               This 10th the looks and feels tired.\n",
              "2630            2747  ...  .. . story, an old, the monsters make, and the...\n",
              "6904            7226  ...    ' s star wattage does n ' t the tumult maudlin.\n",
              "1899            1979  ...  Miyazaki of world cinema ' wondrously gifted a...\n",
              "3061            3198  ...  Beautifully the of and recreating it an in an ...\n",
              "\n",
              "[5 rows x 8 columns]"
            ]
          },
          "metadata": {
            "tags": []
          },
          "execution_count": 0
        }
      ]
    },
    {
      "cell_type": "code",
      "metadata": {
        "id": "Qw_pqEU9csk0"
      },
      "source": [
        "## Now I need to add all these data frames\n",
        "combined_data_aug = pd.concat([train_st_data_delete_aug, train_st_data_swap_aug, train_st_data_SynonymAug_aug], axis=0)\n",
        "## after this, now I need to drop the sentence column and rename sentence_aug to sentence\n",
        "combined_data_aug.drop('sentence', axis=1, inplace=True)\n",
        "combined_data_aug.rename(columns = {'sentence_aug':'sentence'}, inplace = True) "
      ],
      "execution_count": null,
      "outputs": []
    },
    {
      "cell_type": "code",
      "metadata": {
        "colab": {
          "base_uri": "https://localhost:8080/",
          "height": 195
        },
        "id": "quNy-dDMzfeL",
        "outputId": "f7ae9958-1107-45ba-c3d0-87eada7e4576"
      },
      "source": [
        "combined_data_aug.head()"
      ],
      "execution_count": null,
      "outputs": [
        {
          "output_type": "execute_result",
          "data": {
            "text/html": [
              "<div>\n",
              "<style scoped>\n",
              "    .dataframe tbody tr th:only-of-type {\n",
              "        vertical-align: middle;\n",
              "    }\n",
              "\n",
              "    .dataframe tbody tr th {\n",
              "        vertical-align: top;\n",
              "    }\n",
              "\n",
              "    .dataframe thead th {\n",
              "        text-align: right;\n",
              "    }\n",
              "</style>\n",
              "<table border=\"1\" class=\"dataframe\">\n",
              "  <thead>\n",
              "    <tr style=\"text-align: right;\">\n",
              "      <th></th>\n",
              "      <th>sentence_index</th>\n",
              "      <th>phrase</th>\n",
              "      <th>phrase ids</th>\n",
              "      <th>splitset_label</th>\n",
              "      <th>sentiment values</th>\n",
              "      <th>Revised_sentiment values</th>\n",
              "      <th>sentence</th>\n",
              "    </tr>\n",
              "  </thead>\n",
              "  <tbody>\n",
              "    <tr>\n",
              "      <th>5609</th>\n",
              "      <td>5867</td>\n",
              "      <td>This 10th film in the series looks and feels t...</td>\n",
              "      <td>110417</td>\n",
              "      <td>1</td>\n",
              "      <td>0.22222</td>\n",
              "      <td>1</td>\n",
              "      <td>This 10th the looks and feels tired.</td>\n",
              "    </tr>\n",
              "    <tr>\n",
              "      <th>2630</th>\n",
              "      <td>2747</td>\n",
              "      <td>... a story , an old and scary one , about the...</td>\n",
              "      <td>62562</td>\n",
              "      <td>1</td>\n",
              "      <td>0.50000</td>\n",
              "      <td>2</td>\n",
              "      <td>.. . story, an old, the monsters make, and the...</td>\n",
              "    </tr>\n",
              "    <tr>\n",
              "      <th>6904</th>\n",
              "      <td>7226</td>\n",
              "      <td>Spain 's greatest star wattage does n't overco...</td>\n",
              "      <td>148782</td>\n",
              "      <td>1</td>\n",
              "      <td>0.30556</td>\n",
              "      <td>1</td>\n",
              "      <td>' s star wattage does n ' t the tumult maudlin.</td>\n",
              "    </tr>\n",
              "    <tr>\n",
              "      <th>1899</th>\n",
              "      <td>1979</td>\n",
              "      <td>Miyazaki is one of world cinema 's most wondro...</td>\n",
              "      <td>46196</td>\n",
              "      <td>1</td>\n",
              "      <td>0.94444</td>\n",
              "      <td>4</td>\n",
              "      <td>Miyazaki of world cinema ' wondrously gifted a...</td>\n",
              "    </tr>\n",
              "    <tr>\n",
              "      <th>3061</th>\n",
              "      <td>3198</td>\n",
              "      <td>Beautifully reclaiming the story of Carmen and...</td>\n",
              "      <td>64292</td>\n",
              "      <td>1</td>\n",
              "      <td>0.70833</td>\n",
              "      <td>3</td>\n",
              "      <td>Beautifully the of and recreating it an in an ...</td>\n",
              "    </tr>\n",
              "  </tbody>\n",
              "</table>\n",
              "</div>"
            ],
            "text/plain": [
              "      sentence_index  ...                                           sentence\n",
              "5609            5867  ...               This 10th the looks and feels tired.\n",
              "2630            2747  ...  .. . story, an old, the monsters make, and the...\n",
              "6904            7226  ...    ' s star wattage does n ' t the tumult maudlin.\n",
              "1899            1979  ...  Miyazaki of world cinema ' wondrously gifted a...\n",
              "3061            3198  ...  Beautifully the of and recreating it an in an ...\n",
              "\n",
              "[5 rows x 7 columns]"
            ]
          },
          "metadata": {
            "tags": []
          },
          "execution_count": 66
        }
      ]
    },
    {
      "cell_type": "markdown",
      "metadata": {
        "id": "9ZkxFvYtGs7K"
      },
      "source": [
        "### Final Data Preparation"
      ]
    },
    {
      "cell_type": "code",
      "metadata": {
        "id": "arFy0s73nImt"
      },
      "source": [
        "def get_final_data(train_st_data,test_st_data,validation_st_data,combined_data_aug):\n",
        "  train_st_data_final = train_st_data.drop(['sentence_index','phrase','phrase ids','splitset_label','sentiment values'],axis=1)\n",
        "  train_st_data_final.rename(columns = {'Revised_sentiment values': 'sentiment'}, inplace = True)\n",
        "\n",
        "  combined_data_aug.drop(['sentence_index','phrase','phrase ids','splitset_label','sentiment values'],axis=1,inplace=True)\n",
        "  combined_data_aug.rename(columns = {'Revised_sentiment values': 'sentiment'}, inplace = True)\n",
        "\n",
        "  train_st_data_final_mixed = pd.concat([combined_data_aug, train_st_data_final], axis=0)\n",
        "\n",
        "  train_st_data_final_mixed = train_st_data_final_mixed.reset_index(drop=True) ## This is being done because data.Example.fromlist was failing\n",
        "\n",
        "  test_st_data_final = test_st_data.drop(['sentence_index','phrase','phrase ids','splitset_label','sentiment values'],axis=1)\n",
        "  test_st_data_final.rename(columns = {'Revised_sentiment values': 'sentiment'}, inplace = True)\n",
        "  test_st_data_final = test_st_data_final.reset_index(drop=True) ## This is being done because data.Example.fromlist was failing\n",
        "\n",
        "  validation_st_data_final = validation_st_data.drop(['sentence_index','phrase','phrase ids','splitset_label','sentiment values'],axis=1)\n",
        "  validation_st_data_final.rename(columns = {'Revised_sentiment values': 'sentiment'} , inplace = True)\n",
        "  validation_st_data_final = validation_st_data_final.reset_index(drop=True) ## This is being done because data.Example.fromlist was failing\n",
        "\n",
        "  return train_st_data_final_mixed, test_st_data_final, validation_st_data_final"
      ],
      "execution_count": null,
      "outputs": []
    },
    {
      "cell_type": "code",
      "metadata": {
        "id": "tjmsNd8wJiIj"
      },
      "source": [
        "train_st_data_final, test_st_data_final, validation_st_data_final = get_final_data(train_st_data,test_st_data,validation_st_data,combined_data_aug)\n",
        "train_st_data_final.drop(['sentence_aug'],axis=1,inplace=True)"
      ],
      "execution_count": null,
      "outputs": []
    },
    {
      "cell_type": "code",
      "metadata": {
        "colab": {
          "base_uri": "https://localhost:8080/",
          "height": 195
        },
        "id": "iWZytpY6pE2S",
        "outputId": "36687e07-be66-4df1-917b-e1a2729e0c69"
      },
      "source": [
        "train_st_data_final.head()"
      ],
      "execution_count": null,
      "outputs": [
        {
          "output_type": "execute_result",
          "data": {
            "text/html": [
              "<div>\n",
              "<style scoped>\n",
              "    .dataframe tbody tr th:only-of-type {\n",
              "        vertical-align: middle;\n",
              "    }\n",
              "\n",
              "    .dataframe tbody tr th {\n",
              "        vertical-align: top;\n",
              "    }\n",
              "\n",
              "    .dataframe thead th {\n",
              "        text-align: right;\n",
              "    }\n",
              "</style>\n",
              "<table border=\"1\" class=\"dataframe\">\n",
              "  <thead>\n",
              "    <tr style=\"text-align: right;\">\n",
              "      <th></th>\n",
              "      <th>sentiment</th>\n",
              "      <th>sentence</th>\n",
              "    </tr>\n",
              "  </thead>\n",
              "  <tbody>\n",
              "    <tr>\n",
              "      <th>0</th>\n",
              "      <td>1</td>\n",
              "      <td>This 10th the looks and feels tired.</td>\n",
              "    </tr>\n",
              "    <tr>\n",
              "      <th>1</th>\n",
              "      <td>2</td>\n",
              "      <td>.. . story, an old, the monsters make, and the...</td>\n",
              "    </tr>\n",
              "    <tr>\n",
              "      <th>2</th>\n",
              "      <td>1</td>\n",
              "      <td>' s star wattage does n ' t the tumult maudlin.</td>\n",
              "    </tr>\n",
              "    <tr>\n",
              "      <th>3</th>\n",
              "      <td>4</td>\n",
              "      <td>Miyazaki of world cinema ' wondrously gifted a...</td>\n",
              "    </tr>\n",
              "    <tr>\n",
              "      <th>4</th>\n",
              "      <td>3</td>\n",
              "      <td>Beautifully the of and recreating it an in an ...</td>\n",
              "    </tr>\n",
              "  </tbody>\n",
              "</table>\n",
              "</div>"
            ],
            "text/plain": [
              "   sentiment                                           sentence\n",
              "0          1               This 10th the looks and feels tired.\n",
              "1          2  .. . story, an old, the monsters make, and the...\n",
              "2          1    ' s star wattage does n ' t the tumult maudlin.\n",
              "3          4  Miyazaki of world cinema ' wondrously gifted a...\n",
              "4          3  Beautifully the of and recreating it an in an ..."
            ]
          },
          "metadata": {
            "tags": []
          },
          "execution_count": 69
        }
      ]
    },
    {
      "cell_type": "code",
      "metadata": {
        "id": "v0p26-wQLbV4"
      },
      "source": [
        "# train_st_data_final.to_csv(r'train_st_data_final.csv', index = False)"
      ],
      "execution_count": null,
      "outputs": []
    },
    {
      "cell_type": "code",
      "metadata": {
        "colab": {
          "base_uri": "https://localhost:8080/"
        },
        "id": "--Z1M-vssT03",
        "outputId": "95c277a9-d28b-4b46-d02c-e0c475d2905f"
      },
      "source": [
        "train_st_data_final.shape"
      ],
      "execution_count": null,
      "outputs": [
        {
          "output_type": "execute_result",
          "data": {
            "text/plain": [
              "(32468, 2)"
            ]
          },
          "metadata": {
            "tags": []
          },
          "execution_count": 72
        }
      ]
    },
    {
      "cell_type": "code",
      "metadata": {
        "colab": {
          "base_uri": "https://localhost:8080/"
        },
        "id": "TCq6t89LsXvI",
        "outputId": "1916b624-b8dd-477a-d21c-eeb88eefee7e"
      },
      "source": [
        "train_st_data_final.sentiment.value_counts()"
      ],
      "execution_count": null,
      "outputs": [
        {
          "output_type": "execute_result",
          "data": {
            "text/plain": [
              "3    8864\n",
              "1    8368\n",
              "2    6196\n",
              "4    4920\n",
              "0    4120\n",
              "Name: sentiment, dtype: int64"
            ]
          },
          "metadata": {
            "tags": []
          },
          "execution_count": 73
        }
      ]
    },
    {
      "cell_type": "code",
      "metadata": {
        "colab": {
          "base_uri": "https://localhost:8080/"
        },
        "id": "9dQTLWRqVxME",
        "outputId": "e01c352b-c0b4-4006-cfdb-b2e7cba3848e"
      },
      "source": [
        "validation_st_data_final.sentiment.value_counts()"
      ],
      "execution_count": null,
      "outputs": [
        {
          "output_type": "execute_result",
          "data": {
            "text/plain": [
              "1    276\n",
              "3    259\n",
              "2    219\n",
              "4    158\n",
              "0    132\n",
              "Name: sentiment, dtype: int64"
            ]
          },
          "metadata": {
            "tags": []
          },
          "execution_count": 74
        }
      ]
    },
    {
      "cell_type": "markdown",
      "metadata": {
        "id": "e63g08ijOrf7"
      },
      "source": [
        "Now we shall be defining LABEL as a LabelField, which is a subclass of Field that sets sequen tial to False (as it’s our numerical category class). TWEET is a standard Field object, where we have decided to use the spaCy tokenizer and convert all the text to lower‐ case."
      ]
    },
    {
      "cell_type": "code",
      "metadata": {
        "colab": {
          "base_uri": "https://localhost:8080/"
        },
        "id": "qk8IP4SK1Lrp",
        "outputId": "321d5274-32dc-4695-b498-b6b9aeb2028c"
      },
      "source": [
        "# Import Library\n",
        "import random\n",
        "import torch, torchtext\n",
        "from torchtext import data \n",
        "import pandas as pd\n",
        "# Manual Seed\n",
        "SEED = 43\n",
        "torch.manual_seed(SEED)"
      ],
      "execution_count": null,
      "outputs": [
        {
          "output_type": "execute_result",
          "data": {
            "text/plain": [
              "<torch._C.Generator at 0x7fca1050fb70>"
            ]
          },
          "metadata": {
            "tags": []
          },
          "execution_count": 10
        }
      ]
    },
    {
      "cell_type": "code",
      "metadata": {
        "id": "u6bKQax2Mf_U"
      },
      "source": [
        "Sentence = data.Field(sequential = True, tokenize = 'spacy', batch_first =True, include_lengths=True)\n",
        "Sentiment = data.LabelField(tokenize ='spacy',is_target=True, batch_first =True, sequential =False)"
      ],
      "execution_count": null,
      "outputs": []
    },
    {
      "cell_type": "markdown",
      "metadata": {
        "id": "mX-lYIe_O7Vy"
      },
      "source": [
        "Having defined those fields, we now need to produce a list that maps them onto the list of rows that are in the CSV:"
      ]
    },
    {
      "cell_type": "code",
      "metadata": {
        "id": "VawdWq36O6td"
      },
      "source": [
        "fields = [('sentence', Sentence),('sentiment',Sentiment)]"
      ],
      "execution_count": null,
      "outputs": []
    },
    {
      "cell_type": "code",
      "metadata": {
        "id": "w0UOsNaNO-hp"
      },
      "source": [
        "# saving the dataframe \n",
        "train_st_data_final.to_csv('train_st_data_final.csv', index=False) \n",
        "test_st_data_final.to_csv('test_st_data_final.csv', index=False) \n",
        "validation_st_data_final.to_csv('validation_st_data_final.csv', index=False) "
      ],
      "execution_count": null,
      "outputs": []
    },
    {
      "cell_type": "code",
      "metadata": {
        "id": "ruDvWc02eG-N"
      },
      "source": [
        "!cp '/content/gdrive/My Drive/EVA/train_st_data_final_fine_grained.csv' train_st_data_final_fine_grained.csv\n",
        "!cp '/content/gdrive/My Drive/EVA/validation_st_data_final_fine_grained.csv' validation_st_data_final_fine_grained.csv\n",
        "!cp '/content/gdrive/My Drive/EVA/test_st_data_final_fine_grained.csv' test_st_data_final_fine_grained.csv"
      ],
      "execution_count": null,
      "outputs": []
    },
    {
      "cell_type": "code",
      "metadata": {
        "id": "xPXcc-LifvmN"
      },
      "source": [
        "train_st_data_final = pd.read_csv(\"train_st_data_final_fine_grained.csv\")\n",
        "test_st_data_final = pd.read_csv(\"test_st_data_final_fine_grained.csv\")\n",
        "validation_st_data_final = pd.read_csv(\"validation_st_data_final_fine_grained.csv\")"
      ],
      "execution_count": null,
      "outputs": []
    },
    {
      "cell_type": "code",
      "metadata": {
        "id": "pjwYTMZG6h9d",
        "colab": {
          "base_uri": "https://localhost:8080/",
          "height": 195
        },
        "outputId": "25d4752b-3782-4f3c-c5ba-6c713d926adc"
      },
      "source": [
        "train_st_data_final.head()\n",
        "# train_st_data_final.drop(['sentence_aug'],axis=1,inplace=True)"
      ],
      "execution_count": null,
      "outputs": [
        {
          "output_type": "execute_result",
          "data": {
            "text/html": [
              "<div>\n",
              "<style scoped>\n",
              "    .dataframe tbody tr th:only-of-type {\n",
              "        vertical-align: middle;\n",
              "    }\n",
              "\n",
              "    .dataframe tbody tr th {\n",
              "        vertical-align: top;\n",
              "    }\n",
              "\n",
              "    .dataframe thead th {\n",
              "        text-align: right;\n",
              "    }\n",
              "</style>\n",
              "<table border=\"1\" class=\"dataframe\">\n",
              "  <thead>\n",
              "    <tr style=\"text-align: right;\">\n",
              "      <th></th>\n",
              "      <th>sentiment</th>\n",
              "      <th>sentence</th>\n",
              "    </tr>\n",
              "  </thead>\n",
              "  <tbody>\n",
              "    <tr>\n",
              "      <th>0</th>\n",
              "      <td>1</td>\n",
              "      <td>This 10th the looks and feels tired.</td>\n",
              "    </tr>\n",
              "    <tr>\n",
              "      <th>1</th>\n",
              "      <td>2</td>\n",
              "      <td>.. . story, an old, the monsters make, and the...</td>\n",
              "    </tr>\n",
              "    <tr>\n",
              "      <th>2</th>\n",
              "      <td>1</td>\n",
              "      <td>' s star wattage does n ' t the tumult maudlin.</td>\n",
              "    </tr>\n",
              "    <tr>\n",
              "      <th>3</th>\n",
              "      <td>4</td>\n",
              "      <td>Miyazaki of world cinema ' wondrously gifted a...</td>\n",
              "    </tr>\n",
              "    <tr>\n",
              "      <th>4</th>\n",
              "      <td>3</td>\n",
              "      <td>Beautifully the of and recreating it an in an ...</td>\n",
              "    </tr>\n",
              "  </tbody>\n",
              "</table>\n",
              "</div>"
            ],
            "text/plain": [
              "   sentiment                                           sentence\n",
              "0          1               This 10th the looks and feels tired.\n",
              "1          2  .. . story, an old, the monsters make, and the...\n",
              "2          1    ' s star wattage does n ' t the tumult maudlin.\n",
              "3          4  Miyazaki of world cinema ' wondrously gifted a...\n",
              "4          3  Beautifully the of and recreating it an in an ..."
            ]
          },
          "metadata": {
            "tags": []
          },
          "execution_count": 138
        }
      ]
    },
    {
      "cell_type": "code",
      "metadata": {
        "colab": {
          "base_uri": "https://localhost:8080/",
          "height": 195
        },
        "id": "Pa_O5Wqq6s63",
        "outputId": "171f224e-9ec4-41b1-86ff-dbe6cdaffa54"
      },
      "source": [
        "test_st_data_final.head()"
      ],
      "execution_count": null,
      "outputs": [
        {
          "output_type": "execute_result",
          "data": {
            "text/html": [
              "<div>\n",
              "<style scoped>\n",
              "    .dataframe tbody tr th:only-of-type {\n",
              "        vertical-align: middle;\n",
              "    }\n",
              "\n",
              "    .dataframe tbody tr th {\n",
              "        vertical-align: top;\n",
              "    }\n",
              "\n",
              "    .dataframe thead th {\n",
              "        text-align: right;\n",
              "    }\n",
              "</style>\n",
              "<table border=\"1\" class=\"dataframe\">\n",
              "  <thead>\n",
              "    <tr style=\"text-align: right;\">\n",
              "      <th></th>\n",
              "      <th>sentence</th>\n",
              "      <th>sentiment</th>\n",
              "    </tr>\n",
              "  </thead>\n",
              "  <tbody>\n",
              "    <tr>\n",
              "      <th>0</th>\n",
              "      <td>It 's tough , astringent , darkly funny and .....</td>\n",
              "      <td>2</td>\n",
              "    </tr>\n",
              "    <tr>\n",
              "      <th>1</th>\n",
              "      <td>The principals in this cast are all fine , but...</td>\n",
              "      <td>4</td>\n",
              "    </tr>\n",
              "    <tr>\n",
              "      <th>2</th>\n",
              "      <td>Obstacles are too easily overcome and there is...</td>\n",
              "      <td>0</td>\n",
              "    </tr>\n",
              "    <tr>\n",
              "      <th>3</th>\n",
              "      <td>It 's difficult to say whether The Tuxedo is m...</td>\n",
              "      <td>0</td>\n",
              "    </tr>\n",
              "    <tr>\n",
              "      <th>4</th>\n",
              "      <td>This is a throwaway , junk-food movie whose ra...</td>\n",
              "      <td>0</td>\n",
              "    </tr>\n",
              "  </tbody>\n",
              "</table>\n",
              "</div>"
            ],
            "text/plain": [
              "                                            sentence  sentiment\n",
              "0  It 's tough , astringent , darkly funny and .....          2\n",
              "1  The principals in this cast are all fine , but...          4\n",
              "2  Obstacles are too easily overcome and there is...          0\n",
              "3  It 's difficult to say whether The Tuxedo is m...          0\n",
              "4  This is a throwaway , junk-food movie whose ra...          0"
            ]
          },
          "metadata": {
            "tags": []
          },
          "execution_count": 139
        }
      ]
    },
    {
      "cell_type": "code",
      "metadata": {
        "colab": {
          "base_uri": "https://localhost:8080/",
          "height": 296
        },
        "id": "oqIJCrH_0HZ4",
        "outputId": "e5f7e2b7-705a-428c-8dc7-f9e4f16aacda"
      },
      "source": [
        "import matplotlib.pyplot as plt\n",
        "ax = train_st_data_final['sentiment'].value_counts(sort=False).plot(kind='barh')\n",
        "ax.set_xlabel(\"Number of Samples in training Set\")\n",
        "ax.set_ylabel(\"sentiment\")"
      ],
      "execution_count": null,
      "outputs": [
        {
          "output_type": "execute_result",
          "data": {
            "text/plain": [
              "Text(0, 0.5, 'sentiment')"
            ]
          },
          "metadata": {
            "tags": []
          },
          "execution_count": 140
        },
        {
          "output_type": "display_data",
          "data": {
            "image/png": "[encoded data removed]",
            "text/plain": [
              "<Figure size 432x288 with 1 Axes>"
            ]
          },
          "metadata": {
            "tags": [],
            "needs_background": "light"
          }
        }
      ]
    },
    {
      "cell_type": "markdown",
      "metadata": {
        "id": "q10sQx1G7Ms4"
      },
      "source": [
        "It is clear that most of the training samples belong to classes 0 and 3 (the weakly negative/positive classes). A sizeable number of samples belong to the neutral class. Barely 12% of the samples are from the strongly negative class 1, which is something to keep in mind as we evaluate our classifier accuracy."
      ]
    },
    {
      "cell_type": "code",
      "metadata": {
        "id": "sgH1g8jTMPuH"
      },
      "source": [
        "# # saving the dataframe \n",
        "# train_st_data_final.to_csv('train_st_data_final.csv', index=False) \n",
        "# test_st_data_final.to_csv('test_st_data_final.csv', index=False) \n",
        "# validation_st_data_final.to_csv('validation_st_data_final.csv', index=False) "
      ],
      "execution_count": null,
      "outputs": []
    },
    {
      "cell_type": "markdown",
      "metadata": {
        "id": "qIlOGo2HvOHi"
      },
      "source": [
        ""
      ]
    },
    {
      "cell_type": "markdown",
      "metadata": {
        "id": "ZbtZ-Ph2P1xL"
      },
      "source": [
        "Armed with our declared fields, lets convert from pandas to list to torchtext. We could also use TabularDataset to apply that definition to the CSV directly but showing an alternative approach too."
      ]
    },
    {
      "cell_type": "code",
      "metadata": {
        "id": "L3OLcJ5B7rHz"
      },
      "source": [
        "example_trng = [data.Example.fromlist([train_st_data_final.sentence[i],train_st_data_final.sentiment[i]], fields) for i in range(train_st_data_final.shape[0])] \n",
        "example_val = [data.Example.fromlist([validation_st_data_final.sentence[i],validation_st_data_final.sentiment[i]], fields) for i in range(validation_st_data_final.shape[0])] "
      ],
      "execution_count": null,
      "outputs": []
    },
    {
      "cell_type": "code",
      "metadata": {
        "id": "nT-flpH-P1cd"
      },
      "source": [
        "# Creating dataset\n",
        "#twitterDataset = data.TabularDataset(path=\"tweets.csv\", format=\"CSV\", fields=fields, skip_header=True)\n",
        "\n",
        "# twitterDataset = data.Dataset(example, fields)\n",
        "train = data.Dataset(example_trng, fields)\n",
        "valid = data.Dataset(example_val, fields)"
      ],
      "execution_count": null,
      "outputs": []
    },
    {
      "cell_type": "markdown",
      "metadata": {
        "id": "g6ZnyCPaR08F"
      },
      "source": [
        "Finally, we can split into training, testing, and validation sets by using the split() method:"
      ]
    },
    {
      "cell_type": "code",
      "metadata": {
        "id": "uPYXyuKhRpBk"
      },
      "source": [
        "# (train, valid) = twitterDataset.split(split_ratio=[0.85, 0.15], random_state=random.seed(SEED))"
      ],
      "execution_count": null,
      "outputs": []
    },
    {
      "cell_type": "code",
      "metadata": {
        "colab": {
          "base_uri": "https://localhost:8080/"
        },
        "id": "ykvsCGQMR6UD",
        "outputId": "d7cbe283-8265-4dd2-8c5d-022a102c1827"
      },
      "source": [
        "(len(train), len(valid))"
      ],
      "execution_count": null,
      "outputs": [
        {
          "output_type": "execute_result",
          "data": {
            "text/plain": [
              "(32468, 1044)"
            ]
          },
          "metadata": {
            "tags": []
          },
          "execution_count": 143
        }
      ]
    },
    {
      "cell_type": "markdown",
      "metadata": {
        "id": "kix8P2IKSBaV"
      },
      "source": [
        "An example from the dataset:"
      ]
    },
    {
      "cell_type": "code",
      "metadata": {
        "colab": {
          "base_uri": "https://localhost:8080/"
        },
        "id": "dUpEOQruR9JL",
        "outputId": "203cf75e-aada-4068-b24c-ed601bf33b7a"
      },
      "source": [
        "vars(train.examples[10])"
      ],
      "execution_count": null,
      "outputs": [
        {
          "output_type": "execute_result",
          "data": {
            "text/plain": [
              "{'sentence': ['These', 'become', 'wearisome', '.'], 'sentiment': 1}"
            ]
          },
          "metadata": {
            "tags": []
          },
          "execution_count": 80
        }
      ]
    },
    {
      "cell_type": "markdown",
      "metadata": {
        "id": "AKdllP3FST4N"
      },
      "source": [
        "## Building Vocabulary"
      ]
    },
    {
      "cell_type": "markdown",
      "metadata": {
        "id": "SuvWQ-SpSmSz"
      },
      "source": [
        "At this point we would have built a one-hot encoding of each word that is present in the dataset—a rather tedious process. Thankfully, torchtext will do this for us, and will also allow a max_size parameter to be passed in to limit the vocabu‐ lary to the most common words. This is normally done to prevent the construction of a huge, memory-hungry model. We don’t want our GPUs too overwhelmed, after all. \n",
        "\n",
        "Let’s limit the vocabulary to a maximum of 5000 words in our training set:\n"
      ]
    },
    {
      "cell_type": "code",
      "metadata": {
        "colab": {
          "base_uri": "https://localhost:8080/"
        },
        "id": "IGH3R6IYcY_f",
        "outputId": "a3c639da-4635-4055-faf2-123d47cb83e5"
      },
      "source": [
        "MAX_VOCAB_SIZE = 25_000\n",
        "\n",
        "Sentence.build_vocab(train, \n",
        "                 max_size = MAX_VOCAB_SIZE, \n",
        "                 vectors = \"glove.6B.200d\", \n",
        "                #  vectors = \"glove.6B.300d\",\n",
        "                 unk_init = torch.Tensor.normal_)"
      ],
      "execution_count": null,
      "outputs": [
        {
          "output_type": "stream",
          "text": [
            "\n",
            "\n",
            "\n",
            "  0%|          | 0/400000 [00:00<?, ?it/s]\u001b[A\u001b[A\u001b[A\n",
            "\n",
            "\n",
            "  0%|          | 927/400000 [00:00<00:43, 9266.16it/s]\u001b[A\u001b[A\u001b[A\n",
            "\n",
            "\n",
            "  0%|          | 1945/400000 [00:00<00:41, 9521.61it/s]\u001b[A\u001b[A\u001b[A\n",
            "\n",
            "\n",
            "  1%|          | 2984/400000 [00:00<00:40, 9766.26it/s]\u001b[A\u001b[A\u001b[A\n",
            "\n",
            "\n",
            "  1%|          | 4000/400000 [00:00<00:40, 9880.51it/s]\u001b[A\u001b[A\u001b[A\n",
            "\n",
            "\n",
            "  1%|          | 4926/400000 [00:00<00:40, 9684.93it/s]\u001b[A\u001b[A\u001b[A\n",
            "\n",
            "\n",
            "  1%|▏         | 5932/400000 [00:00<00:40, 9794.18it/s]\u001b[A\u001b[A\u001b[A\n",
            "\n",
            "\n",
            "  2%|▏         | 6969/400000 [00:00<00:39, 9959.95it/s]\u001b[A\u001b[A\u001b[A\n",
            "\n",
            "\n",
            "  2%|▏         | 8018/400000 [00:00<00:38, 10111.28it/s]\u001b[A\u001b[A\u001b[A\n",
            "\n",
            "\n",
            "  2%|▏         | 9041/400000 [00:00<00:38, 10146.49it/s]\u001b[A\u001b[A\u001b[A\n",
            "\n",
            "\n",
            "  3%|▎         | 10052/400000 [00:01<00:38, 10133.32it/s]\u001b[A\u001b[A\u001b[A\n",
            "\n",
            "\n",
            "  3%|▎         | 11065/400000 [00:01<00:38, 10132.10it/s]\u001b[A\u001b[A\u001b[A\n",
            "\n",
            "\n",
            "  3%|▎         | 12061/400000 [00:01<00:38, 9998.38it/s] \u001b[A\u001b[A\u001b[A\n",
            "\n",
            "\n",
            "  3%|▎         | 13058/400000 [00:01<00:38, 9988.84it/s]\u001b[A\u001b[A\u001b[A\n",
            "\n",
            "\n",
            "  4%|▎         | 14049/400000 [00:01<00:38, 9962.09it/s]\u001b[A\u001b[A\u001b[A\n",
            "\n",
            "\n",
            "  4%|▍         | 15040/400000 [00:01<00:39, 9681.93it/s]\u001b[A\u001b[A\u001b[A\n",
            "\n",
            "\n",
            "  4%|▍         | 16051/400000 [00:01<00:39, 9806.27it/s]\u001b[A\u001b[A\u001b[A\n",
            "\n",
            "\n",
            "  4%|▍         | 17081/400000 [00:01<00:38, 9947.87it/s]\u001b[A\u001b[A\u001b[A\n",
            "\n",
            "\n",
            "  5%|▍         | 18076/400000 [00:01<00:38, 9841.20it/s]\u001b[A\u001b[A\u001b[A\n",
            "\n",
            "\n",
            "  5%|▍         | 19081/400000 [00:01<00:38, 9901.11it/s]\u001b[A\u001b[A\u001b[A\n",
            "\n",
            "\n",
            "  5%|▌         | 20096/400000 [00:02<00:38, 9973.38it/s]\u001b[A\u001b[A\u001b[A\n",
            "\n",
            "\n",
            "  5%|▌         | 21108/400000 [00:02<00:37, 10015.67it/s]\u001b[A\u001b[A\u001b[A\n",
            "\n",
            "\n",
            "  6%|▌         | 22116/400000 [00:02<00:37, 10032.62it/s]\u001b[A\u001b[A\u001b[A\n",
            "\n",
            "\n",
            "  6%|▌         | 23120/400000 [00:02<00:37, 9971.62it/s] \u001b[A\u001b[A\u001b[A\n",
            "\n",
            "\n",
            "  6%|▌         | 24118/400000 [00:02<00:37, 9964.03it/s]\u001b[A\u001b[A\u001b[A\n",
            "\n",
            "\n",
            "  6%|▋         | 25115/400000 [00:02<00:38, 9632.48it/s]\u001b[A\u001b[A\u001b[A\n",
            "\n",
            "\n",
            "  7%|▋         | 26121/400000 [00:02<00:38, 9755.59it/s]\u001b[A\u001b[A\u001b[A\n",
            "\n",
            "\n",
            "  7%|▋         | 27129/400000 [00:02<00:37, 9850.14it/s]\u001b[A\u001b[A\u001b[A\n",
            "\n",
            "\n",
            "  7%|▋         | 28148/400000 [00:02<00:37, 9947.77it/s]\u001b[A\u001b[A\u001b[A\n",
            "\n",
            "\n",
            "  7%|▋         | 29159/400000 [00:02<00:37, 9995.75it/s]\u001b[A\u001b[A\u001b[A\n",
            "\n",
            "\n",
            "  8%|▊         | 30160/400000 [00:03<00:37, 9843.35it/s]\u001b[A\u001b[A\u001b[A\n",
            "\n",
            "\n",
            "  8%|▊         | 31146/400000 [00:03<00:37, 9790.07it/s]\u001b[A\u001b[A\u001b[A\n",
            "\n",
            "\n",
            "  8%|▊         | 32179/400000 [00:03<00:36, 9944.55it/s]\u001b[A\u001b[A\u001b[A\n",
            "\n",
            "\n",
            "  8%|▊         | 33195/400000 [00:03<00:36, 10004.18it/s]\u001b[A\u001b[A\u001b[A\n",
            "\n",
            "\n",
            "  9%|▊         | 34197/400000 [00:03<00:36, 9989.87it/s] \u001b[A\u001b[A\u001b[A\n",
            "\n",
            "\n",
            "  9%|▉         | 35197/400000 [00:03<00:37, 9631.03it/s]\u001b[A\u001b[A\u001b[A\n",
            "\n",
            "\n",
            "  9%|▉         | 36164/400000 [00:03<00:39, 9313.23it/s]\u001b[A\u001b[A\u001b[A\n",
            "\n",
            "\n",
            "  9%|▉         | 37144/400000 [00:03<00:38, 9450.30it/s]\u001b[A\u001b[A\u001b[A\n",
            "\n",
            "\n",
            " 10%|▉         | 38166/400000 [00:03<00:37, 9668.11it/s]\u001b[A\u001b[A\u001b[A\n",
            "\n",
            "\n",
            " 10%|▉         | 39137/400000 [00:03<00:38, 9370.42it/s]\u001b[A\u001b[A\u001b[A\n",
            "\n",
            "\n",
            " 10%|█         | 40111/400000 [00:04<00:37, 9477.36it/s]\u001b[A\u001b[A\u001b[A\n",
            "\n",
            "\n",
            " 10%|█         | 41123/400000 [00:04<00:37, 9660.41it/s]\u001b[A\u001b[A\u001b[A\n",
            "\n",
            "\n",
            " 11%|█         | 42132/400000 [00:04<00:36, 9784.07it/s]\u001b[A\u001b[A\u001b[A\n",
            "\n",
            "\n",
            " 11%|█         | 43145/400000 [00:04<00:36, 9884.96it/s]\u001b[A\u001b[A\u001b[A\n",
            "\n",
            "\n",
            " 11%|█         | 44170/400000 [00:04<00:35, 9989.79it/s]\u001b[A\u001b[A\u001b[A\n",
            "\n",
            "\n",
            " 11%|█▏        | 45171/400000 [00:04<00:37, 9464.47it/s]\u001b[A\u001b[A\u001b[A\n",
            "\n",
            "\n",
            " 12%|█▏        | 46144/400000 [00:04<00:37, 9540.62it/s]\u001b[A\u001b[A\u001b[A\n",
            "\n",
            "\n",
            " 12%|█▏        | 47176/400000 [00:04<00:36, 9760.74it/s]\u001b[A\u001b[A\u001b[A\n",
            "\n",
            "\n",
            " 12%|█▏        | 48225/400000 [00:04<00:35, 9968.45it/s]\u001b[A\u001b[A\u001b[A\n",
            "\n",
            "\n",
            " 12%|█▏        | 49227/400000 [00:05<00:36, 9545.30it/s]\u001b[A\u001b[A\u001b[A\n",
            "\n",
            "\n",
            " 13%|█▎        | 50217/400000 [00:05<00:36, 9647.83it/s]\u001b[A\u001b[A\u001b[A\n",
            "\n",
            "\n",
            " 13%|█▎        | 51187/400000 [00:05<00:36, 9618.75it/s]\u001b[A\u001b[A\u001b[A\n",
            "\n",
            "\n",
            " 13%|█▎        | 52212/400000 [00:05<00:35, 9798.75it/s]\u001b[A\u001b[A\u001b[A\n",
            "\n",
            "\n",
            " 13%|█▎        | 53220/400000 [00:05<00:35, 9881.00it/s]\u001b[A\u001b[A\u001b[A\n",
            "\n",
            "\n",
            " 14%|█▎        | 54211/400000 [00:05<00:34, 9881.04it/s]\u001b[A\u001b[A\u001b[A\n",
            "\n",
            "\n",
            " 14%|█▍        | 55201/400000 [00:05<00:35, 9688.51it/s]\u001b[A\u001b[A\u001b[A\n",
            "\n",
            "\n",
            " 14%|█▍        | 56197/400000 [00:05<00:35, 9765.65it/s]\u001b[A\u001b[A\u001b[A\n",
            "\n",
            "\n",
            " 14%|█▍        | 57185/400000 [00:05<00:34, 9797.88it/s]\u001b[A\u001b[A\u001b[A\n",
            "\n",
            "\n",
            " 15%|█▍        | 58182/400000 [00:05<00:34, 9848.60it/s]\u001b[A\u001b[A\u001b[A\n",
            "\n",
            "\n",
            " 15%|█▍        | 59187/400000 [00:06<00:34, 9907.31it/s]\u001b[A\u001b[A\u001b[A\n",
            "\n",
            "\n",
            " 15%|█▌        | 60201/400000 [00:06<00:34, 9975.65it/s]\u001b[A\u001b[A\u001b[A\n",
            "\n",
            "\n",
            " 15%|█▌        | 61200/400000 [00:06<00:33, 9965.63it/s]\u001b[A\u001b[A\u001b[A\n",
            "\n",
            "\n",
            " 16%|█▌        | 62197/400000 [00:06<00:35, 9504.50it/s]\u001b[A\u001b[A\u001b[A\n",
            "\n",
            "\n",
            " 16%|█▌        | 63153/400000 [00:06<00:35, 9417.50it/s]\u001b[A\u001b[A\u001b[A\n",
            "\n",
            "\n",
            " 16%|█▌        | 64124/400000 [00:06<00:35, 9502.15it/s]\u001b[A\u001b[A\u001b[A\n",
            "\n",
            "\n",
            " 16%|█▋        | 65077/400000 [00:06<00:35, 9338.74it/s]\u001b[A\u001b[A\u001b[A\n",
            "\n",
            "\n",
            " 17%|█▋        | 66058/400000 [00:06<00:35, 9472.25it/s]\u001b[A\u001b[A\u001b[A\n",
            "\n",
            "\n",
            " 17%|█▋        | 67077/400000 [00:06<00:34, 9675.20it/s]\u001b[A\u001b[A\u001b[A\n",
            "\n",
            "\n",
            " 17%|█▋        | 68090/400000 [00:06<00:33, 9803.89it/s]\u001b[A\u001b[A\u001b[A\n",
            "\n",
            "\n",
            " 17%|█▋        | 69099/400000 [00:07<00:33, 9887.94it/s]\u001b[A\u001b[A\u001b[A\n",
            "\n",
            "\n",
            " 18%|█▊        | 70090/400000 [00:07<00:33, 9829.83it/s]\u001b[A\u001b[A\u001b[A\n",
            "\n",
            "\n",
            " 18%|█▊        | 71075/400000 [00:07<00:34, 9663.27it/s]\u001b[A\u001b[A\u001b[A\n",
            "\n",
            "\n",
            " 18%|█▊        | 72059/400000 [00:07<00:33, 9687.22it/s]\u001b[A\u001b[A\u001b[A\n",
            "\n",
            "\n",
            " 18%|█▊        | 73055/400000 [00:07<00:33, 9765.21it/s]\u001b[A\u001b[A\u001b[A\n",
            "\n",
            "\n",
            " 19%|█▊        | 74033/400000 [00:07<00:33, 9760.39it/s]\u001b[A\u001b[A\u001b[A\n",
            "\n",
            "\n",
            " 19%|█▉        | 75010/400000 [00:07<00:33, 9585.86it/s]\u001b[A\u001b[A\u001b[A\n",
            "\n",
            "\n",
            " 19%|█▉        | 75998/400000 [00:07<00:33, 9669.89it/s]\u001b[A\u001b[A\u001b[A\n",
            "\n",
            "\n",
            " 19%|█▉        | 77006/400000 [00:07<00:33, 9787.10it/s]\u001b[A\u001b[A\u001b[A\n",
            "\n",
            "\n",
            " 20%|█▉        | 78003/400000 [00:07<00:32, 9839.87it/s]\u001b[A\u001b[A\u001b[A\n",
            "\n",
            "\n",
            " 20%|█▉        | 79002/400000 [00:08<00:32, 9883.73it/s]\u001b[A\u001b[A\u001b[A\n",
            "\n",
            "\n",
            " 20%|██        | 80016/400000 [00:08<00:32, 9957.53it/s]\u001b[A\u001b[A\u001b[A\n",
            "\n",
            "\n",
            " 20%|██        | 81013/400000 [00:08<00:33, 9383.36it/s]\u001b[A\u001b[A\u001b[A\n",
            "\n",
            "\n",
            " 20%|██        | 81998/400000 [00:08<00:33, 9517.67it/s]\u001b[A\u001b[A\u001b[A\n",
            "\n",
            "\n",
            " 21%|██        | 83009/400000 [00:08<00:32, 9686.40it/s]\u001b[A\u001b[A\u001b[A\n",
            "\n",
            "\n",
            " 21%|██        | 84010/400000 [00:08<00:32, 9780.47it/s]\u001b[A\u001b[A\u001b[A\n",
            "\n",
            "\n",
            " 21%|██        | 84992/400000 [00:08<00:32, 9649.72it/s]\u001b[A\u001b[A\u001b[A\n",
            "\n",
            "\n",
            " 21%|██▏       | 85960/400000 [00:08<00:32, 9597.65it/s]\u001b[A\u001b[A\u001b[A\n",
            "\n",
            "\n",
            " 22%|██▏       | 86974/400000 [00:08<00:32, 9753.23it/s]\u001b[A\u001b[A\u001b[A\n",
            "\n",
            "\n",
            " 22%|██▏       | 87968/400000 [00:08<00:31, 9808.26it/s]\u001b[A\u001b[A\u001b[A\n",
            "\n",
            "\n",
            " 22%|██▏       | 88975/400000 [00:09<00:31, 9883.64it/s]\u001b[A\u001b[A\u001b[A\n",
            "\n",
            "\n",
            " 22%|██▏       | 89985/400000 [00:09<00:31, 9947.40it/s]\u001b[A\u001b[A\u001b[A\n",
            "\n",
            "\n",
            " 23%|██▎       | 91005/400000 [00:09<00:30, 10021.44it/s]\u001b[A\u001b[A\u001b[A\n",
            "\n",
            "\n",
            " 23%|██▎       | 92008/400000 [00:09<00:30, 9998.25it/s] \u001b[A\u001b[A\u001b[A\n",
            "\n",
            "\n",
            " 23%|██▎       | 93009/400000 [00:09<00:31, 9771.32it/s]\u001b[A\u001b[A\u001b[A\n",
            "\n",
            "\n",
            " 23%|██▎       | 93988/400000 [00:09<00:32, 9279.69it/s]\u001b[A\u001b[A\u001b[A\n",
            "\n",
            "\n",
            " 24%|██▎       | 94942/400000 [00:09<00:32, 9355.12it/s]\u001b[A\u001b[A\u001b[A\n",
            "\n",
            "\n",
            " 24%|██▍       | 95883/400000 [00:09<00:33, 9213.29it/s]\u001b[A\u001b[A\u001b[A\n",
            "\n",
            "\n",
            " 24%|██▍       | 96890/400000 [00:09<00:32, 9453.72it/s]\u001b[A\u001b[A\u001b[A\n",
            "\n",
            "\n",
            " 24%|██▍       | 97862/400000 [00:10<00:31, 9531.51it/s]\u001b[A\u001b[A\u001b[A\n",
            "\n",
            "\n",
            " 25%|██▍       | 98868/400000 [00:10<00:31, 9683.05it/s]\u001b[A\u001b[A\u001b[A\n",
            "\n",
            "\n",
            " 25%|██▍       | 99881/400000 [00:10<00:30, 9811.94it/s]\u001b[A\u001b[A\u001b[A\n",
            "\n",
            "\n",
            " 25%|██▌       | 100893/400000 [00:10<00:30, 9900.20it/s]\u001b[A\u001b[A\u001b[A\n",
            "\n",
            "\n",
            " 25%|██▌       | 101885/400000 [00:10<00:30, 9868.49it/s]\u001b[A\u001b[A\u001b[A\n",
            "\n",
            "\n",
            " 26%|██▌       | 102912/400000 [00:10<00:29, 9984.32it/s]\u001b[A\u001b[A\u001b[A\n",
            "\n",
            "\n",
            " 26%|██▌       | 103912/400000 [00:10<00:29, 9871.76it/s]\u001b[A\u001b[A\u001b[A\n",
            "\n",
            "\n",
            " 26%|██▌       | 104901/400000 [00:10<00:30, 9758.12it/s]\u001b[A\u001b[A\u001b[A\n",
            "\n",
            "\n",
            " 26%|██▋       | 105921/400000 [00:10<00:29, 9884.33it/s]\u001b[A\u001b[A\u001b[A\n",
            "\n",
            "\n",
            " 27%|██▋       | 106911/400000 [00:10<00:29, 9877.73it/s]\u001b[A\u001b[A\u001b[A\n",
            "\n",
            "\n",
            " 27%|██▋       | 107900/400000 [00:11<00:30, 9606.09it/s]\u001b[A\u001b[A\u001b[A\n",
            "\n",
            "\n",
            " 27%|██▋       | 108863/400000 [00:11<00:30, 9540.69it/s]\u001b[A\u001b[A\u001b[A\n",
            "\n",
            "\n",
            " 27%|██▋       | 109893/400000 [00:11<00:29, 9754.23it/s]\u001b[A\u001b[A\u001b[A\n",
            "\n",
            "\n",
            " 28%|██▊       | 110910/400000 [00:11<00:29, 9875.26it/s]\u001b[A\u001b[A\u001b[A\n",
            "\n",
            "\n",
            " 28%|██▊       | 111918/400000 [00:11<00:29, 9933.59it/s]\u001b[A\u001b[A\u001b[A\n",
            "\n",
            "\n",
            " 28%|██▊       | 112914/400000 [00:11<00:28, 9939.91it/s]\u001b[A\u001b[A\u001b[A\n",
            "\n",
            "\n",
            " 28%|██▊       | 113910/400000 [00:11<00:29, 9732.22it/s]\u001b[A\u001b[A\u001b[A\n",
            "\n",
            "\n",
            " 29%|██▊       | 114885/400000 [00:11<00:29, 9723.79it/s]\u001b[A\u001b[A\u001b[A\n",
            "\n",
            "\n",
            " 29%|██▉       | 115896/400000 [00:11<00:28, 9834.67it/s]\u001b[A\u001b[A\u001b[A\n",
            "\n",
            "\n",
            " 29%|██▉       | 116892/400000 [00:11<00:28, 9871.75it/s]\u001b[A\u001b[A\u001b[A\n",
            "\n",
            "\n",
            " 29%|██▉       | 117902/400000 [00:12<00:28, 9936.74it/s]\u001b[A\u001b[A\u001b[A\n",
            "\n",
            "\n",
            " 30%|██▉       | 118897/400000 [00:12<00:28, 9717.96it/s]\u001b[A\u001b[A\u001b[A\n",
            "\n",
            "\n",
            " 30%|██▉       | 119871/400000 [00:12<00:29, 9657.30it/s]\u001b[A\u001b[A\u001b[A\n",
            "\n",
            "\n",
            " 30%|███       | 120889/400000 [00:12<00:28, 9807.10it/s]\u001b[A\u001b[A\u001b[A\n",
            "\n",
            "\n",
            " 30%|███       | 121892/400000 [00:12<00:28, 9870.82it/s]\u001b[A\u001b[A\u001b[A\n",
            "\n",
            "\n",
            " 31%|███       | 122888/400000 [00:12<00:27, 9897.20it/s]\u001b[A\u001b[A\u001b[A\n",
            "\n",
            "\n",
            " 31%|███       | 123904/400000 [00:12<00:27, 9973.09it/s]\u001b[A\u001b[A\u001b[A\n",
            "\n",
            "\n",
            " 31%|███       | 124902/400000 [00:12<00:28, 9809.01it/s]\u001b[A\u001b[A\u001b[A\n",
            "\n",
            "\n",
            " 31%|███▏      | 125884/400000 [00:12<00:27, 9799.07it/s]\u001b[A\u001b[A\u001b[A\n",
            "\n",
            "\n",
            " 32%|███▏      | 126865/400000 [00:12<00:28, 9489.08it/s]\u001b[A\u001b[A\u001b[A\n",
            "\n",
            "\n",
            " 32%|███▏      | 127851/400000 [00:13<00:28, 9595.59it/s]\u001b[A\u001b[A\u001b[A\n",
            "\n",
            "\n",
            " 32%|███▏      | 128813/400000 [00:13<00:28, 9368.87it/s]\u001b[A\u001b[A\u001b[A\n",
            "\n",
            "\n",
            " 32%|███▏      | 129819/400000 [00:13<00:28, 9564.69it/s]\u001b[A\u001b[A\u001b[A\n",
            "\n",
            "\n",
            " 33%|███▎      | 130812/400000 [00:13<00:27, 9669.72it/s]\u001b[A\u001b[A\u001b[A\n",
            "\n",
            "\n",
            " 33%|███▎      | 131782/400000 [00:13<00:28, 9569.37it/s]\u001b[A\u001b[A\u001b[A\n",
            "\n",
            "\n",
            " 33%|███▎      | 132776/400000 [00:13<00:27, 9676.49it/s]\u001b[A\u001b[A\u001b[A\n",
            "\n",
            "\n",
            " 33%|███▎      | 133800/400000 [00:13<00:27, 9835.28it/s]\u001b[A\u001b[A\u001b[A\n",
            "\n",
            "\n",
            " 34%|███▎      | 134786/400000 [00:13<00:27, 9818.59it/s]\u001b[A\u001b[A\u001b[A\n",
            "\n",
            "\n",
            " 34%|███▍      | 135770/400000 [00:13<00:26, 9800.61it/s]\u001b[A\u001b[A\u001b[A\n",
            "\n",
            "\n",
            " 34%|███▍      | 136766/400000 [00:13<00:26, 9846.11it/s]\u001b[A\u001b[A\u001b[A\n",
            "\n",
            "\n",
            " 34%|███▍      | 137752/400000 [00:14<00:26, 9718.09it/s]\u001b[A\u001b[A\u001b[A\n",
            "\n",
            "\n",
            " 35%|███▍      | 138725/400000 [00:14<00:27, 9396.83it/s]\u001b[A\u001b[A\u001b[A\n",
            "\n",
            "\n",
            " 35%|███▍      | 139742/400000 [00:14<00:27, 9614.34it/s]\u001b[A\u001b[A\u001b[A\n",
            "\n",
            "\n",
            " 35%|███▌      | 140738/400000 [00:14<00:26, 9715.12it/s]\u001b[A\u001b[A\u001b[A\n",
            "\n",
            "\n",
            " 35%|███▌      | 141747/400000 [00:14<00:26, 9824.51it/s]\u001b[A\u001b[A\u001b[A\n",
            "\n",
            "\n",
            " 36%|███▌      | 142752/400000 [00:14<00:26, 9889.32it/s]\u001b[A\u001b[A\u001b[A\n",
            "\n",
            "\n",
            " 36%|███▌      | 143743/400000 [00:14<00:26, 9670.15it/s]\u001b[A\u001b[A\u001b[A\n",
            "\n",
            "\n",
            " 36%|███▌      | 144713/400000 [00:14<00:26, 9634.06it/s]\u001b[A\u001b[A\u001b[A\n",
            "\n",
            "\n",
            " 36%|███▋      | 145678/400000 [00:14<00:26, 9616.82it/s]\u001b[A\u001b[A\u001b[A\n",
            "\n",
            "\n",
            " 37%|███▋      | 146694/400000 [00:15<00:25, 9772.95it/s]\u001b[A\u001b[A\u001b[A\n",
            "\n",
            "\n",
            " 37%|███▋      | 147673/400000 [00:15<00:27, 9300.40it/s]\u001b[A\u001b[A\u001b[A\n",
            "\n",
            "\n",
            " 37%|███▋      | 148614/400000 [00:15<00:26, 9332.10it/s]\u001b[A\u001b[A\u001b[A\n",
            "\n",
            "\n",
            " 37%|███▋      | 149639/400000 [00:15<00:26, 9588.80it/s]\u001b[A\u001b[A\u001b[A\n",
            "\n",
            "\n",
            " 38%|███▊      | 150603/400000 [00:15<00:27, 9219.99it/s]\u001b[A\u001b[A\u001b[A\n",
            "\n",
            "\n",
            " 38%|███▊      | 151583/400000 [00:15<00:26, 9386.47it/s]\u001b[A\u001b[A\u001b[A\n",
            "\n",
            "\n",
            " 38%|███▊      | 152590/400000 [00:15<00:25, 9580.97it/s]\u001b[A\u001b[A\u001b[A\n",
            "\n",
            "\n",
            " 38%|███▊      | 153553/400000 [00:15<00:26, 9355.91it/s]\u001b[A\u001b[A\u001b[A\n",
            "\n",
            "\n",
            " 39%|███▊      | 154566/400000 [00:15<00:25, 9574.47it/s]\u001b[A\u001b[A\u001b[A\n",
            "\n",
            "\n",
            " 39%|███▉      | 155577/400000 [00:15<00:25, 9727.02it/s]\u001b[A\u001b[A\u001b[A\n",
            "\n",
            "\n",
            " 39%|███▉      | 156554/400000 [00:16<00:25, 9378.03it/s]\u001b[A\u001b[A\u001b[A\n",
            "\n",
            "\n",
            " 39%|███▉      | 157509/400000 [00:16<00:25, 9428.51it/s]\u001b[A\u001b[A\u001b[A\n",
            "\n",
            "\n",
            " 40%|███▉      | 158527/400000 [00:16<00:25, 9641.70it/s]\u001b[A\u001b[A\u001b[A\n",
            "\n",
            "\n",
            " 40%|███▉      | 159495/400000 [00:16<00:25, 9318.72it/s]\u001b[A\u001b[A\u001b[A\n",
            "\n",
            "\n",
            " 40%|████      | 160506/400000 [00:16<00:25, 9541.94it/s]\u001b[A\u001b[A\u001b[A\n",
            "\n",
            "\n",
            " 40%|████      | 161481/400000 [00:16<00:24, 9602.26it/s]\u001b[A\u001b[A\u001b[A\n",
            "\n",
            "\n",
            " 41%|████      | 162525/400000 [00:16<00:24, 9838.11it/s]\u001b[A\u001b[A\u001b[A\n",
            "\n",
            "\n",
            " 41%|████      | 163513/400000 [00:16<00:24, 9733.21it/s]\u001b[A\u001b[A\u001b[A\n",
            "\n",
            "\n",
            " 41%|████      | 164490/400000 [00:16<00:24, 9723.71it/s]\u001b[A\u001b[A\u001b[A\n",
            "\n",
            "\n",
            " 41%|████▏     | 165465/400000 [00:16<00:24, 9487.88it/s]\u001b[A\u001b[A\u001b[A\n",
            "\n",
            "\n",
            " 42%|████▏     | 166417/400000 [00:17<00:24, 9487.44it/s]\u001b[A\u001b[A\u001b[A\n",
            "\n",
            "\n",
            " 42%|████▏     | 167370/400000 [00:17<00:24, 9499.07it/s]\u001b[A\u001b[A\u001b[A\n",
            "\n",
            "\n",
            " 42%|████▏     | 168397/400000 [00:17<00:23, 9715.98it/s]\u001b[A\u001b[A\u001b[A\n",
            "\n",
            "\n",
            " 42%|████▏     | 169396/400000 [00:17<00:23, 9796.50it/s]\u001b[A\u001b[A\u001b[A\n",
            "\n",
            "\n",
            " 43%|████▎     | 170396/400000 [00:17<00:23, 9855.19it/s]\u001b[A\u001b[A\u001b[A\n",
            "\n",
            "\n",
            " 43%|████▎     | 171412/400000 [00:17<00:22, 9943.37it/s]\u001b[A\u001b[A\u001b[A\n",
            "\n",
            "\n",
            " 43%|████▎     | 172408/400000 [00:17<00:23, 9512.04it/s]\u001b[A\u001b[A\u001b[A\n",
            "\n",
            "\n",
            " 43%|████▎     | 173364/400000 [00:17<00:24, 9396.65it/s]\u001b[A\u001b[A\u001b[A\n",
            "\n",
            "\n",
            " 44%|████▎     | 174321/400000 [00:17<00:23, 9446.93it/s]\u001b[A\u001b[A\u001b[A\n",
            "\n",
            "\n",
            " 44%|████▍     | 175334/400000 [00:18<00:23, 9640.33it/s]\u001b[A\u001b[A\u001b[A\n",
            "\n",
            "\n",
            " 44%|████▍     | 176329/400000 [00:18<00:22, 9729.70it/s]\u001b[A\u001b[A\u001b[A\n",
            "\n",
            "\n",
            " 44%|████▍     | 177335/400000 [00:18<00:22, 9826.03it/s]\u001b[A\u001b[A\u001b[A\n",
            "\n",
            "\n",
            " 45%|████▍     | 178320/400000 [00:18<00:22, 9708.04it/s]\u001b[A\u001b[A\u001b[A\n",
            "\n",
            "\n",
            " 45%|████▍     | 179293/400000 [00:18<00:23, 9304.06it/s]\u001b[A\u001b[A\u001b[A\n",
            "\n",
            "\n",
            " 45%|████▌     | 180229/400000 [00:18<00:23, 9318.96it/s]\u001b[A\u001b[A\u001b[A\n",
            "\n",
            "\n",
            " 45%|████▌     | 181261/400000 [00:18<00:22, 9598.06it/s]\u001b[A\u001b[A\u001b[A\n",
            "\n",
            "\n",
            " 46%|████▌     | 182281/400000 [00:18<00:22, 9765.93it/s]\u001b[A\u001b[A\u001b[A\n",
            "\n",
            "\n",
            " 46%|████▌     | 183262/400000 [00:18<00:22, 9638.41it/s]\u001b[A\u001b[A\u001b[A\n",
            "\n",
            "\n",
            " 46%|████▌     | 184229/400000 [00:18<00:22, 9512.95it/s]\u001b[A\u001b[A\u001b[A\n",
            "\n",
            "\n",
            " 46%|████▋     | 185183/400000 [00:19<00:23, 9187.24it/s]\u001b[A\u001b[A\u001b[A\n",
            "\n",
            "\n",
            " 47%|████▋     | 186106/400000 [00:19<00:23, 9189.32it/s]\u001b[A\u001b[A\u001b[A\n",
            "\n",
            "\n",
            " 47%|████▋     | 187080/400000 [00:19<00:22, 9347.37it/s]\u001b[A\u001b[A\u001b[A\n",
            "\n",
            "\n",
            " 47%|████▋     | 188021/400000 [00:19<00:22, 9365.78it/s]\u001b[A\u001b[A\u001b[A\n",
            "\n",
            "\n",
            " 47%|████▋     | 188988/400000 [00:19<00:22, 9454.23it/s]\u001b[A\u001b[A\u001b[A\n",
            "\n",
            "\n",
            " 47%|████▋     | 189950/400000 [00:19<00:22, 9502.82it/s]\u001b[A\u001b[A\u001b[A\n",
            "\n",
            "\n",
            " 48%|████▊     | 190902/400000 [00:19<00:23, 8980.27it/s]\u001b[A\u001b[A\u001b[A\n",
            "\n",
            "\n",
            " 48%|████▊     | 191841/400000 [00:19<00:22, 9096.44it/s]\u001b[A\u001b[A\u001b[A\n",
            "\n",
            "\n",
            " 48%|████▊     | 192756/400000 [00:19<00:22, 9064.76it/s]\u001b[A\u001b[A\u001b[A\n",
            "\n",
            "\n",
            " 48%|████▊     | 193734/400000 [00:19<00:22, 9267.86it/s]\u001b[A\u001b[A\u001b[A\n",
            "\n",
            "\n",
            " 49%|████▊     | 194711/400000 [00:20<00:21, 9411.92it/s]\u001b[A\u001b[A\u001b[A\n",
            "\n",
            "\n",
            " 49%|████▉     | 195668/400000 [00:20<00:21, 9457.09it/s]\u001b[A\u001b[A\u001b[A\n",
            "\n",
            "\n",
            " 49%|████▉     | 196616/400000 [00:20<00:21, 9265.47it/s]\u001b[A\u001b[A\u001b[A\n",
            "\n",
            "\n",
            " 49%|████▉     | 197545/400000 [00:20<00:22, 9024.02it/s]\u001b[A\u001b[A\u001b[A\n",
            "\n",
            "\n",
            " 50%|████▉     | 198549/400000 [00:20<00:21, 9305.45it/s]\u001b[A\u001b[A\u001b[A\n",
            "\n",
            "\n",
            " 50%|████▉     | 199574/400000 [00:20<00:20, 9568.61it/s]\u001b[A\u001b[A\u001b[A\n",
            "\n",
            "\n",
            " 50%|█████     | 200568/400000 [00:20<00:20, 9676.26it/s]\u001b[A\u001b[A\u001b[A\n",
            "\n",
            "\n",
            " 50%|█████     | 201540/400000 [00:20<00:21, 9334.16it/s]\u001b[A\u001b[A\u001b[A\n",
            "\n",
            "\n",
            " 51%|█████     | 202483/400000 [00:20<00:21, 9360.74it/s]\u001b[A\u001b[A\u001b[A\n",
            "\n",
            "\n",
            " 51%|█████     | 203441/400000 [00:21<00:20, 9424.53it/s]\u001b[A\u001b[A\u001b[A\n",
            "\n",
            "\n",
            " 51%|█████     | 204387/400000 [00:21<00:20, 9422.72it/s]\u001b[A\u001b[A\u001b[A\n",
            "\n",
            "\n",
            " 51%|█████▏    | 205371/400000 [00:21<00:20, 9542.38it/s]\u001b[A\u001b[A\u001b[A\n",
            "\n",
            "\n",
            " 52%|█████▏    | 206338/400000 [00:21<00:20, 9579.87it/s]\u001b[A\u001b[A\u001b[A\n",
            "\n",
            "\n",
            " 52%|█████▏    | 207298/400000 [00:21<00:20, 9246.23it/s]\u001b[A\u001b[A\u001b[A\n",
            "\n",
            "\n",
            " 52%|█████▏    | 208263/400000 [00:21<00:20, 9362.20it/s]\u001b[A\u001b[A\u001b[A\n",
            "\n",
            "\n",
            " 52%|█████▏    | 209231/400000 [00:21<00:20, 9453.08it/s]\u001b[A\u001b[A\u001b[A\n",
            "\n",
            "\n",
            " 53%|█████▎    | 210237/400000 [00:21<00:19, 9627.00it/s]\u001b[A\u001b[A\u001b[A\n",
            "\n",
            "\n",
            " 53%|█████▎    | 211202/400000 [00:21<00:19, 9608.37it/s]\u001b[A\u001b[A\u001b[A\n",
            "\n",
            "\n",
            " 53%|█████▎    | 212165/400000 [00:21<00:20, 9109.31it/s]\u001b[A\u001b[A\u001b[A\n",
            "\n",
            "\n",
            " 53%|█████▎    | 213097/400000 [00:22<00:20, 9170.57it/s]\u001b[A\u001b[A\u001b[A\n",
            "\n",
            "\n",
            " 54%|█████▎    | 214119/400000 [00:22<00:19, 9461.49it/s]\u001b[A\u001b[A\u001b[A\n",
            "\n",
            "\n",
            " 54%|█████▍    | 215116/400000 [00:22<00:19, 9608.07it/s]\u001b[A\u001b[A\u001b[A\n",
            "\n",
            "\n",
            " 54%|█████▍    | 216098/400000 [00:22<00:19, 9670.40it/s]\u001b[A\u001b[A\u001b[A\n",
            "\n",
            "\n",
            " 54%|█████▍    | 217069/400000 [00:22<00:19, 9223.46it/s]\u001b[A\u001b[A\u001b[A\n",
            "\n",
            "\n",
            " 55%|█████▍    | 218030/400000 [00:22<00:19, 9332.00it/s]\u001b[A\u001b[A\u001b[A\n",
            "\n",
            "\n",
            " 55%|█████▍    | 219055/400000 [00:22<00:18, 9589.53it/s]\u001b[A\u001b[A\u001b[A\n",
            "\n",
            "\n",
            " 55%|█████▌    | 220092/400000 [00:22<00:18, 9810.40it/s]\u001b[A\u001b[A\u001b[A\n",
            "\n",
            "\n",
            " 55%|█████▌    | 221078/400000 [00:22<00:18, 9652.83it/s]\u001b[A\u001b[A\u001b[A\n",
            "\n",
            "\n",
            " 56%|█████▌    | 222048/400000 [00:22<00:19, 9330.30it/s]\u001b[A\u001b[A\u001b[A\n",
            "\n",
            "\n",
            " 56%|█████▌    | 223030/400000 [00:23<00:18, 9471.02it/s]\u001b[A\u001b[A\u001b[A\n",
            "\n",
            "\n",
            " 56%|█████▌    | 223984/400000 [00:23<00:18, 9491.07it/s]\u001b[A\u001b[A\u001b[A\n",
            "\n",
            "\n",
            " 56%|█████▌    | 224936/400000 [00:23<00:18, 9464.23it/s]\u001b[A\u001b[A\u001b[A\n",
            "\n",
            "\n",
            " 56%|█████▋    | 225885/400000 [00:23<00:19, 9064.34it/s]\u001b[A\u001b[A\u001b[A\n",
            "\n",
            "\n",
            " 57%|█████▋    | 226885/400000 [00:23<00:18, 9325.65it/s]\u001b[A\u001b[A\u001b[A\n",
            "\n",
            "\n",
            " 57%|█████▋    | 227887/400000 [00:23<00:18, 9523.22it/s]\u001b[A\u001b[A\u001b[A\n",
            "\n",
            "\n",
            " 57%|█████▋    | 228897/400000 [00:23<00:17, 9689.08it/s]\u001b[A\u001b[A\u001b[A\n",
            "\n",
            "\n",
            " 57%|█████▋    | 229921/400000 [00:23<00:17, 9844.81it/s]\u001b[A\u001b[A\u001b[A\n",
            "\n",
            "\n",
            " 58%|█████▊    | 230909/400000 [00:23<00:18, 8960.14it/s]\u001b[A\u001b[A\u001b[A\n",
            "\n",
            "\n",
            " 58%|█████▊    | 231893/400000 [00:24<00:18, 9205.54it/s]\u001b[A\u001b[A\u001b[A\n",
            "\n",
            "\n",
            " 58%|█████▊    | 232886/400000 [00:24<00:17, 9409.33it/s]\u001b[A\u001b[A\u001b[A\n",
            "\n",
            "\n",
            " 58%|█████▊    | 233887/400000 [00:24<00:17, 9580.49it/s]\u001b[A\u001b[A\u001b[A\n",
            "\n",
            "\n",
            " 59%|█████▊    | 234875/400000 [00:24<00:17, 9666.90it/s]\u001b[A\u001b[A\u001b[A\n",
            "\n",
            "\n",
            " 59%|█████▉    | 235848/400000 [00:24<00:17, 9594.75it/s]\u001b[A\u001b[A\u001b[A\n",
            "\n",
            "\n",
            " 59%|█████▉    | 236812/400000 [00:24<00:17, 9281.55it/s]\u001b[A\u001b[A\u001b[A\n",
            "\n",
            "\n",
            " 59%|█████▉    | 237759/400000 [00:24<00:17, 9334.67it/s]\u001b[A\u001b[A\u001b[A\n",
            "\n",
            "\n",
            " 60%|█████▉    | 238697/400000 [00:24<00:17, 9061.23it/s]\u001b[A\u001b[A\u001b[A\n",
            "\n",
            "\n",
            " 60%|█████▉    | 239639/400000 [00:24<00:17, 9164.67it/s]\u001b[A\u001b[A\u001b[A\n",
            "\n",
            "\n",
            " 60%|██████    | 240559/400000 [00:24<00:18, 8781.93it/s]\u001b[A\u001b[A\u001b[A\n",
            "\n",
            "\n",
            " 60%|██████    | 241480/400000 [00:25<00:17, 8905.01it/s]\u001b[A\u001b[A\u001b[A\n",
            "\n",
            "\n",
            " 61%|██████    | 242496/400000 [00:25<00:17, 9246.32it/s]\u001b[A\u001b[A\u001b[A\n",
            "\n",
            "\n",
            " 61%|██████    | 243482/400000 [00:25<00:16, 9422.06it/s]\u001b[A\u001b[A\u001b[A\n",
            "\n",
            "\n",
            " 61%|██████    | 244430/400000 [00:25<00:17, 9120.88it/s]\u001b[A\u001b[A\u001b[A\n",
            "\n",
            "\n",
            " 61%|██████▏   | 245414/400000 [00:25<00:16, 9324.91it/s]\u001b[A\u001b[A\u001b[A\n",
            "\n",
            "\n",
            " 62%|██████▏   | 246441/400000 [00:25<00:16, 9589.32it/s]\u001b[A\u001b[A\u001b[A\n",
            "\n",
            "\n",
            " 62%|██████▏   | 247429/400000 [00:25<00:15, 9673.75it/s]\u001b[A\u001b[A\u001b[A\n",
            "\n",
            "\n",
            " 62%|██████▏   | 248401/400000 [00:25<00:16, 9438.35it/s]\u001b[A\u001b[A\u001b[A\n",
            "\n",
            "\n",
            " 62%|██████▏   | 249386/400000 [00:25<00:15, 9556.80it/s]\u001b[A\u001b[A\u001b[A\n",
            "\n",
            "\n",
            " 63%|██████▎   | 250345/400000 [00:25<00:16, 9326.60it/s]\u001b[A\u001b[A\u001b[A\n",
            "\n",
            "\n",
            " 63%|██████▎   | 251346/400000 [00:26<00:15, 9520.52it/s]\u001b[A\u001b[A\u001b[A\n",
            "\n",
            "\n",
            " 63%|██████▎   | 252302/400000 [00:26<00:15, 9514.67it/s]\u001b[A\u001b[A\u001b[A\n",
            "\n",
            "\n",
            " 63%|██████▎   | 253256/400000 [00:26<00:15, 9324.20it/s]\u001b[A\u001b[A\u001b[A\n",
            "\n",
            "\n",
            " 64%|██████▎   | 254244/400000 [00:26<00:15, 9483.78it/s]\u001b[A\u001b[A\u001b[A\n",
            "\n",
            "\n",
            " 64%|██████▍   | 255219/400000 [00:26<00:15, 9561.77it/s]\u001b[A\u001b[A\u001b[A\n",
            "\n",
            "\n",
            " 64%|██████▍   | 256199/400000 [00:26<00:14, 9630.18it/s]\u001b[A\u001b[A\u001b[A\n",
            "\n",
            "\n",
            " 64%|██████▍   | 257164/400000 [00:26<00:15, 9003.74it/s]\u001b[A\u001b[A\u001b[A\n",
            "\n",
            "\n",
            " 65%|██████▍   | 258167/400000 [00:26<00:15, 9287.26it/s]\u001b[A\u001b[A\u001b[A\n",
            "\n",
            "\n",
            " 65%|██████▍   | 259105/400000 [00:26<00:15, 9296.36it/s]\u001b[A\u001b[A\u001b[A\n",
            "\n",
            "\n",
            " 65%|██████▌   | 260041/400000 [00:27<00:15, 9269.41it/s]\u001b[A\u001b[A\u001b[A\n",
            "\n",
            "\n",
            " 65%|██████▌   | 260973/400000 [00:27<00:15, 9098.85it/s]\u001b[A\u001b[A\u001b[A\n",
            "\n",
            "\n",
            " 65%|██████▌   | 261958/400000 [00:27<00:14, 9309.38it/s]\u001b[A\u001b[A\u001b[A\n",
            "\n",
            "\n",
            " 66%|██████▌   | 262976/400000 [00:27<00:14, 9554.34it/s]\u001b[A\u001b[A\u001b[A\n",
            "\n",
            "\n",
            " 66%|██████▌   | 263936/400000 [00:27<00:14, 9427.68it/s]\u001b[A\u001b[A\u001b[A\n",
            "\n",
            "\n",
            " 66%|██████▌   | 264883/400000 [00:27<00:14, 9079.71it/s]\u001b[A\u001b[A\u001b[A\n",
            "\n",
            "\n",
            " 66%|██████▋   | 265869/400000 [00:27<00:14, 9300.16it/s]\u001b[A\u001b[A\u001b[A\n",
            "\n",
            "\n",
            " 67%|██████▋   | 266804/400000 [00:27<00:14, 9216.13it/s]\u001b[A\u001b[A\u001b[A\n",
            "\n",
            "\n",
            " 67%|██████▋   | 267772/400000 [00:27<00:14, 9348.68it/s]\u001b[A\u001b[A\u001b[A\n",
            "\n",
            "\n",
            " 67%|██████▋   | 268710/400000 [00:27<00:14, 8906.56it/s]\u001b[A\u001b[A\u001b[A\n",
            "\n",
            "\n",
            " 67%|██████▋   | 269609/400000 [00:28<00:14, 8930.70it/s]\u001b[A\u001b[A\u001b[A\n",
            "\n",
            "\n",
            " 68%|██████▊   | 270583/400000 [00:28<00:14, 9158.02it/s]\u001b[A\u001b[A\u001b[A\n",
            "\n",
            "\n",
            " 68%|██████▊   | 271536/400000 [00:28<00:13, 9263.54it/s]\u001b[A\u001b[A\u001b[A\n",
            "\n",
            "\n",
            " 68%|██████▊   | 272466/400000 [00:28<00:13, 9145.86it/s]\u001b[A\u001b[A\u001b[A\n",
            "\n",
            "\n",
            " 68%|██████▊   | 273412/400000 [00:28<00:13, 9236.89it/s]\u001b[A\u001b[A\u001b[A\n",
            "\n",
            "\n",
            " 69%|██████▊   | 274391/400000 [00:28<00:13, 9394.33it/s]\u001b[A\u001b[A\u001b[A\n",
            "\n",
            "\n",
            " 69%|██████▉   | 275333/400000 [00:28<00:13, 9168.97it/s]\u001b[A\u001b[A\u001b[A\n",
            "\n",
            "\n",
            " 69%|██████▉   | 276253/400000 [00:28<00:13, 8914.51it/s]\u001b[A\u001b[A\u001b[A\n",
            "\n",
            "\n",
            " 69%|██████▉   | 277174/400000 [00:28<00:13, 8999.45it/s]\u001b[A\u001b[A\u001b[A\n",
            "\n",
            "\n",
            " 70%|██████▉   | 278092/400000 [00:29<00:13, 9051.77it/s]\u001b[A\u001b[A\u001b[A\n",
            "\n",
            "\n",
            " 70%|██████▉   | 279000/400000 [00:29<00:13, 8771.94it/s]\u001b[A\u001b[A\u001b[A\n",
            "\n",
            "\n",
            " 70%|██████▉   | 279986/400000 [00:29<00:13, 9072.08it/s]\u001b[A\u001b[A\u001b[A\n",
            "\n",
            "\n",
            " 70%|███████   | 280984/400000 [00:29<00:12, 9326.58it/s]\u001b[A\u001b[A\u001b[A\n",
            "\n",
            "\n",
            " 70%|███████   | 281922/400000 [00:29<00:12, 9125.91it/s]\u001b[A\u001b[A\u001b[A\n",
            "\n",
            "\n",
            " 71%|███████   | 282858/400000 [00:29<00:12, 9194.60it/s]\u001b[A\u001b[A\u001b[A\n",
            "\n",
            "\n",
            " 71%|███████   | 283829/400000 [00:29<00:12, 9342.91it/s]\u001b[A\u001b[A\u001b[A\n",
            "\n",
            "\n",
            " 71%|███████   | 284830/400000 [00:29<00:12, 9533.48it/s]\u001b[A\u001b[A\u001b[A\n",
            "\n",
            "\n",
            " 71%|███████▏  | 285787/400000 [00:29<00:12, 9205.62it/s]\u001b[A\u001b[A\u001b[A\n",
            "\n",
            "\n",
            " 72%|███████▏  | 286783/400000 [00:29<00:12, 9416.72it/s]\u001b[A\u001b[A\u001b[A\n",
            "\n",
            "\n",
            " 72%|███████▏  | 287730/400000 [00:30<00:11, 9376.31it/s]\u001b[A\u001b[A\u001b[A\n",
            "\n",
            "\n",
            " 72%|███████▏  | 288671/400000 [00:30<00:12, 9160.93it/s]\u001b[A\u001b[A\u001b[A\n",
            "\n",
            "\n",
            " 72%|███████▏  | 289632/400000 [00:30<00:11, 9291.00it/s]\u001b[A\u001b[A\u001b[A\n",
            "\n",
            "\n",
            " 73%|███████▎  | 290564/400000 [00:30<00:11, 9258.84it/s]\u001b[A\u001b[A\u001b[A\n",
            "\n",
            "\n",
            " 73%|███████▎  | 291492/400000 [00:30<00:11, 9122.72it/s]\u001b[A\u001b[A\u001b[A\n",
            "\n",
            "\n",
            " 73%|███████▎  | 292469/400000 [00:30<00:11, 9307.37it/s]\u001b[A\u001b[A\u001b[A\n",
            "\n",
            "\n",
            " 73%|███████▎  | 293466/400000 [00:30<00:11, 9495.88it/s]\u001b[A\u001b[A\u001b[A\n",
            "\n",
            "\n",
            " 74%|███████▎  | 294419/400000 [00:30<00:11, 9503.89it/s]\u001b[A\u001b[A\u001b[A\n",
            "\n",
            "\n",
            " 74%|███████▍  | 295405/400000 [00:30<00:10, 9606.34it/s]\u001b[A\u001b[A\u001b[A\n",
            "\n",
            "\n",
            " 74%|███████▍  | 296368/400000 [00:30<00:10, 9480.26it/s]\u001b[A\u001b[A\u001b[A\n",
            "\n",
            "\n",
            " 74%|███████▍  | 297318/400000 [00:31<00:10, 9372.18it/s]\u001b[A\u001b[A\u001b[A\n",
            "\n",
            "\n",
            " 75%|███████▍  | 298308/400000 [00:31<00:10, 9523.12it/s]\u001b[A\u001b[A\u001b[A\n",
            "\n",
            "\n",
            " 75%|███████▍  | 299262/400000 [00:31<00:10, 9281.70it/s]\u001b[A\u001b[A\u001b[A\n",
            "\n",
            "\n",
            " 75%|███████▌  | 300276/400000 [00:31<00:10, 9523.14it/s]\u001b[A\u001b[A\u001b[A\n",
            "\n",
            "\n",
            " 75%|███████▌  | 301281/400000 [00:31<00:10, 9673.17it/s]\u001b[A\u001b[A\u001b[A\n",
            "\n",
            "\n",
            " 76%|███████▌  | 302252/400000 [00:31<00:10, 9581.16it/s]\u001b[A\u001b[A\u001b[A\n",
            "\n",
            "\n",
            " 76%|███████▌  | 303213/400000 [00:31<00:10, 9266.63it/s]\u001b[A\u001b[A\u001b[A\n",
            "\n",
            "\n",
            " 76%|███████▌  | 304213/400000 [00:31<00:10, 9473.20it/s]\u001b[A\u001b[A\u001b[A\n",
            "\n",
            "\n",
            " 76%|███████▋  | 305205/400000 [00:31<00:09, 9601.40it/s]\u001b[A\u001b[A\u001b[A\n",
            "\n",
            "\n",
            " 77%|███████▋  | 306169/400000 [00:31<00:10, 9304.15it/s]\u001b[A\u001b[A\u001b[A\n",
            "\n",
            "\n",
            " 77%|███████▋  | 307104/400000 [00:32<00:10, 9065.09it/s]\u001b[A\u001b[A\u001b[A\n",
            "\n",
            "\n",
            " 77%|███████▋  | 308038/400000 [00:32<00:10, 9145.68it/s]\u001b[A\u001b[A\u001b[A\n",
            "\n",
            "\n",
            " 77%|███████▋  | 308996/400000 [00:32<00:09, 9270.27it/s]\u001b[A\u001b[A\u001b[A\n",
            "\n",
            "\n",
            " 77%|███████▋  | 309963/400000 [00:32<00:09, 9386.55it/s]\u001b[A\u001b[A\u001b[A\n",
            "\n",
            "\n",
            " 78%|███████▊  | 310904/400000 [00:32<00:09, 9332.81it/s]\u001b[A\u001b[A\u001b[A\n",
            "\n",
            "\n",
            " 78%|███████▊  | 311839/400000 [00:32<00:09, 9285.30it/s]\u001b[A\u001b[A\u001b[A\n",
            "\n",
            "\n",
            " 78%|███████▊  | 312769/400000 [00:32<00:09, 9036.35it/s]\u001b[A\u001b[A\u001b[A\n",
            "\n",
            "\n",
            " 78%|███████▊  | 313774/400000 [00:32<00:09, 9317.47it/s]\u001b[A\u001b[A\u001b[A\n",
            "\n",
            "\n",
            " 79%|███████▊  | 314773/400000 [00:32<00:08, 9508.74it/s]\u001b[A\u001b[A\u001b[A\n",
            "\n",
            "\n",
            " 79%|███████▉  | 315728/400000 [00:33<00:09, 9054.86it/s]\u001b[A\u001b[A\u001b[A\n",
            "\n",
            "\n",
            " 79%|███████▉  | 316674/400000 [00:33<00:09, 9172.22it/s]\u001b[A\u001b[A\u001b[A\n",
            "\n",
            "\n",
            " 79%|███████▉  | 317597/400000 [00:33<00:09, 9131.68it/s]\u001b[A\u001b[A\u001b[A\n",
            "\n",
            "\n",
            " 80%|███████▉  | 318514/400000 [00:33<00:09, 8832.82it/s]\u001b[A\u001b[A\u001b[A\n",
            "\n",
            "\n",
            " 80%|███████▉  | 319416/400000 [00:33<00:09, 8886.81it/s]\u001b[A\u001b[A\u001b[A\n",
            "\n",
            "\n",
            " 80%|████████  | 320391/400000 [00:33<00:08, 9128.51it/s]\u001b[A\u001b[A\u001b[A\n",
            "\n",
            "\n",
            " 80%|████████  | 321308/400000 [00:33<00:08, 8974.62it/s]\u001b[A\u001b[A\u001b[A\n",
            "\n",
            "\n",
            " 81%|████████  | 322209/400000 [00:33<00:08, 8913.54it/s]\u001b[A\u001b[A\u001b[A\n",
            "\n",
            "\n",
            " 81%|████████  | 323103/400000 [00:33<00:08, 8861.20it/s]\u001b[A\u001b[A\u001b[A\n",
            "\n",
            "\n",
            " 81%|████████  | 324079/400000 [00:33<00:08, 9111.02it/s]\u001b[A\u001b[A\u001b[A\n",
            "\n",
            "\n",
            " 81%|████████  | 324994/400000 [00:34<00:08, 8698.89it/s]\u001b[A\u001b[A\u001b[A\n",
            "\n",
            "\n",
            " 81%|████████▏ | 325880/400000 [00:34<00:08, 8746.46it/s]\u001b[A\u001b[A\u001b[A\n",
            "\n",
            "\n",
            " 82%|████████▏ | 326790/400000 [00:34<00:08, 8849.41it/s]\u001b[A\u001b[A\u001b[A\n",
            "\n",
            "\n",
            " 82%|████████▏ | 327766/400000 [00:34<00:07, 9102.52it/s]\u001b[A\u001b[A\u001b[A\n",
            "\n",
            "\n",
            " 82%|████████▏ | 328703/400000 [00:34<00:07, 9179.04it/s]\u001b[A\u001b[A\u001b[A\n",
            "\n",
            "\n",
            " 82%|████████▏ | 329644/400000 [00:34<00:07, 9245.80it/s]\u001b[A\u001b[A\u001b[A\n",
            "\n",
            "\n",
            " 83%|████████▎ | 330636/400000 [00:34<00:07, 9437.22it/s]\u001b[A\u001b[A\u001b[A\n",
            "\n",
            "\n",
            " 83%|████████▎ | 331590/400000 [00:34<00:07, 9466.15it/s]\u001b[A\u001b[A\u001b[A\n",
            "\n",
            "\n",
            " 83%|████████▎ | 332539/400000 [00:34<00:07, 9246.11it/s]\u001b[A\u001b[A\u001b[A\n",
            "\n",
            "\n",
            " 83%|████████▎ | 333527/400000 [00:34<00:07, 9426.41it/s]\u001b[A\u001b[A\u001b[A\n",
            "\n",
            "\n",
            " 84%|████████▎ | 334473/400000 [00:35<00:06, 9386.51it/s]\u001b[A\u001b[A\u001b[A\n",
            "\n",
            "\n",
            " 84%|████████▍ | 335414/400000 [00:35<00:07, 9000.17it/s]\u001b[A\u001b[A\u001b[A\n",
            "\n",
            "\n",
            " 84%|████████▍ | 336388/400000 [00:35<00:06, 9209.23it/s]\u001b[A\u001b[A\u001b[A\n",
            "\n",
            "\n",
            " 84%|████████▍ | 337314/400000 [00:35<00:07, 8863.91it/s]\u001b[A\u001b[A\u001b[A\n",
            "\n",
            "\n",
            " 85%|████████▍ | 338270/400000 [00:35<00:06, 9060.02it/s]\u001b[A\u001b[A\u001b[A\n",
            "\n",
            "\n",
            " 85%|████████▍ | 339182/400000 [00:35<00:06, 8825.03it/s]\u001b[A\u001b[A\u001b[A\n",
            "\n",
            "\n",
            " 85%|████████▌ | 340070/400000 [00:35<00:06, 8780.08it/s]\u001b[A\u001b[A\u001b[A\n",
            "\n",
            "\n",
            " 85%|████████▌ | 341058/400000 [00:35<00:06, 9081.32it/s]\u001b[A\u001b[A\u001b[A\n",
            "\n",
            "\n",
            " 86%|████████▌ | 342002/400000 [00:35<00:06, 9185.50it/s]\u001b[A\u001b[A\u001b[A\n",
            "\n",
            "\n",
            " 86%|████████▌ | 342925/400000 [00:36<00:06, 8962.97it/s]\u001b[A\u001b[A\u001b[A\n",
            "\n",
            "\n",
            " 86%|████████▌ | 343826/400000 [00:36<00:06, 8803.95it/s]\u001b[A\u001b[A\u001b[A\n",
            "\n",
            "\n",
            " 86%|████████▌ | 344806/400000 [00:36<00:06, 9079.96it/s]\u001b[A\u001b[A\u001b[A\n",
            "\n",
            "\n",
            " 86%|████████▋ | 345719/400000 [00:36<00:06, 8915.63it/s]\u001b[A\u001b[A\u001b[A\n",
            "\n",
            "\n",
            " 87%|████████▋ | 346682/400000 [00:36<00:05, 9115.42it/s]\u001b[A\u001b[A\u001b[A\n",
            "\n",
            "\n",
            " 87%|████████▋ | 347605/400000 [00:36<00:05, 9148.63it/s]\u001b[A\u001b[A\u001b[A\n",
            "\n",
            "\n",
            " 87%|████████▋ | 348523/400000 [00:36<00:05, 9038.09it/s]\u001b[A\u001b[A\u001b[A\n",
            "\n",
            "\n",
            " 87%|████████▋ | 349512/400000 [00:36<00:05, 9276.48it/s]\u001b[A\u001b[A\u001b[A\n",
            "\n",
            "\n",
            " 88%|████████▊ | 350443/400000 [00:36<00:05, 8935.79it/s]\u001b[A\u001b[A\u001b[A\n",
            "\n",
            "\n",
            " 88%|████████▊ | 351342/400000 [00:36<00:05, 8766.05it/s]\u001b[A\u001b[A\u001b[A\n",
            "\n",
            "\n",
            " 88%|████████▊ | 352350/400000 [00:37<00:05, 9120.59it/s]\u001b[A\u001b[A\u001b[A\n",
            "\n",
            "\n",
            " 88%|████████▊ | 353269/400000 [00:37<00:05, 9014.81it/s]\u001b[A\u001b[A\u001b[A\n",
            "\n",
            "\n",
            " 89%|████████▊ | 354176/400000 [00:37<00:05, 8791.33it/s]\u001b[A\u001b[A\u001b[A\n",
            "\n",
            "\n",
            " 89%|████████▉ | 355145/400000 [00:37<00:04, 9042.23it/s]\u001b[A\u001b[A\u001b[A\n",
            "\n",
            "\n",
            " 89%|████████▉ | 356123/400000 [00:37<00:04, 9250.88it/s]\u001b[A\u001b[A\u001b[A\n",
            "\n",
            "\n",
            " 89%|████████▉ | 357053/400000 [00:37<00:04, 9013.12it/s]\u001b[A\u001b[A\u001b[A\n",
            "\n",
            "\n",
            " 90%|████████▉ | 358040/400000 [00:37<00:04, 9253.08it/s]\u001b[A\u001b[A\u001b[A\n",
            "\n",
            "\n",
            " 90%|████████▉ | 359031/400000 [00:37<00:04, 9439.19it/s]\u001b[A\u001b[A\u001b[A\n",
            "\n",
            "\n",
            " 90%|████████▉ | 359980/400000 [00:37<00:04, 9252.47it/s]\u001b[A\u001b[A\u001b[A\n",
            "\n",
            "\n",
            " 90%|█████████ | 360925/400000 [00:38<00:04, 9308.95it/s]\u001b[A\u001b[A\u001b[A\n",
            "\n",
            "\n",
            " 90%|█████████ | 361869/400000 [00:38<00:04, 9347.67it/s]\u001b[A\u001b[A\u001b[A\n",
            "\n",
            "\n",
            " 91%|█████████ | 362806/400000 [00:38<00:04, 8693.59it/s]\u001b[A\u001b[A\u001b[A\n",
            "\n",
            "\n",
            " 91%|█████████ | 363782/400000 [00:38<00:04, 8987.40it/s]\u001b[A\u001b[A\u001b[A\n",
            "\n",
            "\n",
            " 91%|█████████ | 364777/400000 [00:38<00:03, 9254.97it/s]\u001b[A\u001b[A\u001b[A\n",
            "\n",
            "\n",
            " 91%|█████████▏| 365712/400000 [00:38<00:03, 9233.38it/s]\u001b[A\u001b[A\u001b[A\n",
            "\n",
            "\n",
            " 92%|█████████▏| 366642/400000 [00:38<00:03, 8940.63it/s]\u001b[A\u001b[A\u001b[A\n",
            "\n",
            "\n",
            " 92%|█████████▏| 367610/400000 [00:38<00:03, 9148.23it/s]\u001b[A\u001b[A\u001b[A\n",
            "\n",
            "\n",
            " 92%|█████████▏| 368531/400000 [00:38<00:03, 9163.91it/s]\u001b[A\u001b[A\u001b[A\n",
            "\n",
            "\n",
            " 92%|█████████▏| 369526/400000 [00:38<00:03, 9384.57it/s]\u001b[A\u001b[A\u001b[A\n",
            "\n",
            "\n",
            " 93%|█████████▎| 370508/400000 [00:39<00:03, 9510.44it/s]\u001b[A\u001b[A\u001b[A\n",
            "\n",
            "\n",
            " 93%|█████████▎| 371463/400000 [00:39<00:03, 8938.37it/s]\u001b[A\u001b[A\u001b[A\n",
            "\n",
            "\n",
            " 93%|█████████▎| 372399/400000 [00:39<00:03, 9055.95it/s]\u001b[A\u001b[A\u001b[A\n",
            "\n",
            "\n",
            " 93%|█████████▎| 373337/400000 [00:39<00:02, 9149.35it/s]\u001b[A\u001b[A\u001b[A\n",
            "\n",
            "\n",
            " 94%|█████████▎| 374257/400000 [00:39<00:02, 8902.39it/s]\u001b[A\u001b[A\u001b[A\n",
            "\n",
            "\n",
            " 94%|█████████▍| 375179/400000 [00:39<00:02, 8994.06it/s]\u001b[A\u001b[A\u001b[A\n",
            "\n",
            "\n",
            " 94%|█████████▍| 376175/400000 [00:39<00:02, 9262.02it/s]\u001b[A\u001b[A\u001b[A\n",
            "\n",
            "\n",
            " 94%|█████████▍| 377140/400000 [00:39<00:02, 9373.80it/s]\u001b[A\u001b[A\u001b[A\n",
            "\n",
            "\n",
            " 95%|█████████▍| 378142/400000 [00:39<00:02, 9558.39it/s]\u001b[A\u001b[A\u001b[A\n",
            "\n",
            "\n",
            " 95%|█████████▍| 379144/400000 [00:39<00:02, 9692.13it/s]\u001b[A\u001b[A\u001b[A\n",
            "\n",
            "\n",
            " 95%|█████████▌| 380117/400000 [00:40<00:02, 9225.06it/s]\u001b[A\u001b[A\u001b[A\n",
            "\n",
            "\n",
            " 95%|█████████▌| 381047/400000 [00:40<00:02, 9183.79it/s]\u001b[A\u001b[A\u001b[A\n",
            "\n",
            "\n",
            " 96%|█████████▌| 382063/400000 [00:40<00:01, 9455.49it/s]\u001b[A\u001b[A\u001b[A\n",
            "\n",
            "\n",
            " 96%|█████████▌| 383014/400000 [00:40<00:01, 9436.05it/s]\u001b[A\u001b[A\u001b[A\n",
            "\n",
            "\n",
            " 96%|█████████▌| 383987/400000 [00:40<00:01, 9518.02it/s]\u001b[A\u001b[A\u001b[A\n",
            "\n",
            "\n",
            " 96%|█████████▋| 385002/400000 [00:40<00:01, 9699.12it/s]\u001b[A\u001b[A\u001b[A\n",
            "\n",
            "\n",
            " 97%|█████████▋| 386027/400000 [00:40<00:01, 9855.80it/s]\u001b[A\u001b[A\u001b[A\n",
            "\n",
            "\n",
            " 97%|█████████▋| 387016/400000 [00:40<00:01, 9385.02it/s]\u001b[A\u001b[A\u001b[A\n",
            "\n",
            "\n",
            " 97%|█████████▋| 387977/400000 [00:40<00:01, 9449.41it/s]\u001b[A\u001b[A\u001b[A\n",
            "\n",
            "\n",
            " 97%|█████████▋| 388975/400000 [00:41<00:01, 9602.43it/s]\u001b[A\u001b[A\u001b[A\n",
            "\n",
            "\n",
            " 97%|█████████▋| 389940/400000 [00:41<00:01, 9401.13it/s]\u001b[A\u001b[A\u001b[A\n",
            "\n",
            "\n",
            " 98%|█████████▊| 390884/400000 [00:41<00:00, 9342.38it/s]\u001b[A\u001b[A\u001b[A\n",
            "\n",
            "\n",
            " 98%|█████████▊| 391871/400000 [00:41<00:00, 9494.13it/s]\u001b[A\u001b[A\u001b[A\n",
            "\n",
            "\n",
            " 98%|█████████▊| 392823/400000 [00:41<00:00, 9105.09it/s]\u001b[A\u001b[A\u001b[A\n",
            "\n",
            "\n",
            " 98%|█████████▊| 393780/400000 [00:41<00:00, 9239.14it/s]\u001b[A\u001b[A\u001b[A\n",
            "\n",
            "\n",
            " 99%|█████████▊| 394778/400000 [00:41<00:00, 9446.00it/s]\u001b[A\u001b[A\u001b[A\n",
            "\n",
            "\n",
            " 99%|█████████▉| 395727/400000 [00:41<00:00, 9330.62it/s]\u001b[A\u001b[A\u001b[A\n",
            "\n",
            "\n",
            " 99%|█████████▉| 396664/400000 [00:41<00:00, 9313.84it/s]\u001b[A\u001b[A\u001b[A\n",
            "\n",
            "\n",
            " 99%|█████████▉| 397628/400000 [00:41<00:00, 9406.52it/s]\u001b[A\u001b[A\u001b[A\n",
            "\n",
            "\n",
            "100%|█████████▉| 398571/400000 [00:42<00:00, 9293.21it/s]\u001b[A\u001b[A\u001b[A\n",
            "\n",
            "\n",
            "100%|█████████▉| 399552/400000 [00:42<00:00, 9441.79it/s]\u001b[A\u001b[A\u001b[A"
          ],
          "name": "stderr"
        }
      ]
    },
    {
      "cell_type": "code",
      "metadata": {
        "id": "u9CVBX6IhZtL"
      },
      "source": [
        "Sentiment.build_vocab(train)\n",
        "# https://github.com/shayneobrien/sentiment-classification/blob/master/notebooks/11-cnn-conv2d-cbow-glove.ipynb\n",
        "# https://github.com/shayneobrien/sentiment-classification"
      ],
      "execution_count": null,
      "outputs": []
    },
    {
      "cell_type": "code",
      "metadata": {
        "id": "mx955u93SGeY"
      },
      "source": [
        "# Sentence.build_vocab(train)\n",
        "# Sentiment.build_vocab(train)"
      ],
      "execution_count": null,
      "outputs": []
    },
    {
      "cell_type": "markdown",
      "metadata": {
        "id": "xvyEeEjXTGhX"
      },
      "source": [
        "By default, torchtext will add two more special tokens, <unk> for unknown words and <pad>, a padding token that will be used to pad all our text to roughly the same size to help with efficient batching on the GPU."
      ]
    },
    {
      "cell_type": "code",
      "metadata": {
        "colab": {
          "base_uri": "https://localhost:8080/"
        },
        "id": "rA3tIESdcJdN",
        "outputId": "a1d383b5-b757-42ba-de41-b4c93dccd47b"
      },
      "source": [
        "print('Size of input vocab : ', len(Sentence.vocab))\n",
        "print('Size of label vocab : ', len(Sentiment.vocab))\n",
        "print('Top 10 words appreared repeatedly :', list(Sentence.vocab.freqs.most_common(10)))\n",
        "print('Labels : ', Sentiment.vocab.stoi)"
      ],
      "execution_count": null,
      "outputs": [
        {
          "output_type": "stream",
          "text": [
            "Size of input vocab :  17033\n",
            "Size of label vocab :  5\n",
            "Top 10 words appreared repeatedly : [('.', 31965), (',', 26833), ('the', 17369), ('-', 13429), (\"'\", 13351), ('of', 12627), ('and', 12429), ('a', 12304), ('to', 8634), ('is', 6993)]\n",
            "Labels :  defaultdict(<function _default_unk_index at 0x7fc9a77871e0>, {3: 0, 1: 1, 2: 2, 4: 3, 0: 4})\n"
          ],
          "name": "stdout"
        }
      ]
    },
    {
      "cell_type": "code",
      "metadata": {
        "colab": {
          "base_uri": "https://localhost:8080/"
        },
        "id": "BOgXGAD3fqQs",
        "outputId": "b052cd1d-0088-41d8-f0bb-9578e80d2236"
      },
      "source": [
        "print('Size of input vocab : ', len(Sentence.vocab))\n",
        "print('Size of label vocab : ', len(Sentiment.vocab))\n",
        "print('Top 10 words appreared repeatedly :', list(Sentence.vocab.freqs.most_common(10)))\n",
        "print('Labels : ', Sentiment.vocab.stoi)"
      ],
      "execution_count": null,
      "outputs": [
        {
          "output_type": "stream",
          "text": [
            "Size of input vocab :  17033\n",
            "Size of label vocab :  5\n",
            "Top 10 words appreared repeatedly : [('.', 31965), (',', 26833), ('the', 17369), ('-', 13429), (\"'\", 13351), ('of', 12627), ('and', 12429), ('a', 12304), ('to', 8634), ('is', 6993)]\n",
            "Labels :  defaultdict(<function _default_unk_index at 0x7fc9a77871e0>, {3: 0, 1: 1, 2: 2, 4: 3, 0: 4})\n"
          ],
          "name": "stdout"
        }
      ]
    },
    {
      "cell_type": "markdown",
      "metadata": {
        "id": "rwjD2-ebTeUX"
      },
      "source": [
        "**Lots of stopwords!!**"
      ]
    },
    {
      "cell_type": "markdown",
      "metadata": {
        "id": "sLWW221gTpNs"
      },
      "source": [
        "Now we need to create a data loader to feed into our training loop. Torchtext provides the BucketIterator method that will produce what it calls a Batch, which is almost, but not quite, like the data loader we used on images."
      ]
    },
    {
      "cell_type": "markdown",
      "metadata": {
        "id": "EQqMhMoDUDmn"
      },
      "source": [
        "But at first declare the device we are using."
      ]
    },
    {
      "cell_type": "code",
      "metadata": {
        "id": "Zfo2QhGJUK4l"
      },
      "source": [
        "device = torch.device(\"cuda\" if torch.cuda.is_available() else \"cpu\")"
      ],
      "execution_count": null,
      "outputs": []
    },
    {
      "cell_type": "code",
      "metadata": {
        "id": "zK2ORoqdTNsM"
      },
      "source": [
        "train_iterator, valid_iterator = data.BucketIterator.splits((train, valid), batch_size = 32, \n",
        "                                                            sort_key = lambda x: len(x.sentence),\n",
        "                                                            sort_within_batch=True, device = device)"
      ],
      "execution_count": null,
      "outputs": []
    },
    {
      "cell_type": "markdown",
      "metadata": {
        "id": "Gg7gTFQO4fby"
      },
      "source": [
        "Save the vocabulary for later use"
      ]
    },
    {
      "cell_type": "code",
      "metadata": {
        "id": "niE9Cc6-2bD_"
      },
      "source": [
        "import os, pickle\n",
        "with open('tokenizer.pkl', 'wb') as tokens: \n",
        "    pickle.dump(Sentence.vocab.stoi, tokens)"
      ],
      "execution_count": null,
      "outputs": []
    },
    {
      "cell_type": "markdown",
      "metadata": {
        "id": "1AbsQwqkVyAy"
      },
      "source": [
        "## Defining Our Model"
      ]
    },
    {
      "cell_type": "markdown",
      "metadata": {
        "id": "E4PED4HJWH4t"
      },
      "source": [
        "We use the Embedding and LSTM modules in PyTorch to build a simple model for classifying tweets.\n",
        "\n",
        "In this model we create three layers. \n",
        "1. First, the words in our tweets are pushed into an Embedding layer, which we have established as a 300-dimensional vector embedding. \n",
        "2. That’s then fed into a 2 stacked-LSTMs with 100 hidden features (again, we’re compressing down from the 300-dimensional input like we did with images). We are using 2 LSTMs for using the dropout.\n",
        "3. Finally, the output of the LSTM (the final hidden state after processing the incoming tweet) is pushed through a standard fully connected layer with three outputs to correspond to our three possible classes (negative, positive, or neutral)."
      ]
    },
    {
      "cell_type": "code",
      "metadata": {
        "id": "43pVRccMT0bT"
      },
      "source": [
        "import torch.nn as nn\n",
        "import torch.nn.functional as F\n",
        "\n",
        "class classifier(nn.Module):\n",
        "    \n",
        "    # Define all the layers used in model\n",
        "    def __init__(self, vocab_size, embedding_dim, hidden_dim, output_dim, n_layers, dropout, bidirectional,pad_idx):\n",
        "        \n",
        "        super().__init__()          \n",
        "        \n",
        "        # Embedding layer\n",
        "        self.embedding = nn.Embedding(vocab_size, embedding_dim,padding_idx = pad_idx)\n",
        "        \n",
        "        # LSTM layer\n",
        "        self.encoder = nn.LSTM(embedding_dim, \n",
        "                           hidden_dim, \n",
        "                           num_layers=n_layers, \n",
        "                           dropout=dropout,\n",
        "                           bidirectional = bidirectional,\n",
        "                           batch_first=True)\n",
        "        # try using nn.GRU or nn.RNN here and compare their performances\n",
        "        # try bidirectional and compare their performances\n",
        "        self.dropout = nn.Dropout(dropout)\n",
        "        # Dense layer\n",
        "        self.fc = nn.Linear(hidden_dim, output_dim)\n",
        "        \n",
        "    def forward(self, text, text_lengths):\n",
        "        \n",
        "        # text = [batch size, sent_length]\n",
        "        embedded = self.embedding(text)\n",
        "        # embedded = [batch size, sent_len, emb dim]\n",
        "      \n",
        "        # packed sequence\n",
        "        packed_embedded = nn.utils.rnn.pack_padded_sequence(embedded, text_lengths.cpu(), batch_first=True)\n",
        "        \n",
        "        packed_output, (hidden, cell) = self.encoder(packed_embedded)\n",
        "        #hidden = [batch size, num layers * num directions,hid dim]\n",
        "        #cell = [batch size, num layers * num directions,hid dim]\n",
        "    \n",
        "        # Hidden = [batch size, hid dim * num directions]\n",
        "        dense_outputs = self.dropout(self.fc(hidden))  \n",
        "        # Final activation function softmax\n",
        "        output = F.softmax(dense_outputs[0], dim=1)\n",
        "        # output = F.softmax(dense_outputs, dim=1)\n",
        "            \n",
        "        return output"
      ],
      "execution_count": null,
      "outputs": []
    },
    {
      "cell_type": "code",
      "metadata": {
        "id": "qGXHblEXX5GJ"
      },
      "source": [
        "import torch.nn as nn\n",
        "import torch.nn.functional as F\n",
        "\n",
        "class classifier(nn.Module):\n",
        "    \n",
        "    # Define all the layers used in model\n",
        "    def __init__(self, vocab_size, embedding_dim, hidden_dim, output_dim, n_layers, dropout, bidirectional,pad_idx):\n",
        "        \n",
        "        super().__init__()          \n",
        "        \n",
        "        # Embedding layer\n",
        "        self.embedding = nn.Embedding(vocab_size, embedding_dim,padding_idx = pad_idx)\n",
        "        \n",
        "        # LSTM layer\n",
        "        self.encoder = nn.GRU(embedding_dim, \n",
        "                           hidden_dim, \n",
        "                           num_layers=n_layers, \n",
        "                           dropout=dropout,\n",
        "                           bidirectional = bidirectional,\n",
        "                           batch_first=True)\n",
        "        # try using nn.GRU or nn.RNN here and compare their performances\n",
        "        # try bidirectional and compare their performances\n",
        "        self.dropout = nn.Dropout(dropout)\n",
        "        # Dense layer\n",
        "        self.fc = nn.Linear(hidden_dim, output_dim)\n",
        "        \n",
        "    def forward(self, text, text_lengths):\n",
        "        \n",
        "        # text = [batch size, sent_length]\n",
        "        embedded = self.embedding(text)\n",
        "        # embedded = [batch size, sent_len, emb dim]\n",
        "      \n",
        "        # packed sequence\n",
        "        packed_embedded = nn.utils.rnn.pack_padded_sequence(embedded, text_lengths.cpu(), batch_first=True)\n",
        "        \n",
        "        packed_output, (hidden) = self.encoder(packed_embedded)\n",
        "        #hidden = [batch size, num layers * num directions,hid dim]\n",
        "        #cell = [batch size, num layers * num directions,hid dim]\n",
        "    \n",
        "        # Hidden = [batch size, hid dim * num directions]\n",
        "        dense_outputs = self.dropout(self.fc(hidden))  \n",
        "        # Final activation function softmax\n",
        "        output = F.softmax(dense_outputs[0], dim=1)\n",
        "        # output = F.softmax(dense_outputs, dim=1)\n",
        "            \n",
        "        return output"
      ],
      "execution_count": null,
      "outputs": []
    },
    {
      "cell_type": "code",
      "metadata": {
        "id": "rwBoGE_X_Fl8"
      },
      "source": [
        "# Define hyperparameters\n",
        "size_of_vocab = len(Sentence.vocab)\n",
        "embedding_dim = 200\n",
        "num_hidden_nodes = 256\n",
        "num_output_nodes = 5\n",
        "num_layers = 5\n",
        "dropout = 0.4\n",
        "bidirectional = True\n",
        "PAD_IDX = Sentence.vocab.stoi[Sentence.pad_token]\n",
        "\n",
        "# Instantiate the model\n",
        "model = classifier(size_of_vocab, embedding_dim, num_hidden_nodes, num_output_nodes, num_layers, dropout, bidirectional,PAD_IDX)"
      ],
      "execution_count": null,
      "outputs": []
    },
    {
      "cell_type": "code",
      "metadata": {
        "colab": {
          "base_uri": "https://localhost:8080/"
        },
        "id": "O-pOMqzJ3eTv",
        "outputId": "bccbebe0-041e-4a08-dd5e-bb5d7bf2ee32"
      },
      "source": [
        "print(model)\n",
        "\n",
        "#No. of trianable parameters\n",
        "def count_parameters(model):\n",
        "    return sum(p.numel() for p in model.parameters() if p.requires_grad)\n",
        "    \n",
        "print(f'The model has {count_parameters(model):,} trainable parameters')"
      ],
      "execution_count": null,
      "outputs": [
        {
          "output_type": "stream",
          "text": [
            "classifier(\n",
            "  (embedding): Embedding(17033, 200, padding_idx=1)\n",
            "  (encoder): GRU(200, 256, num_layers=5, batch_first=True, dropout=0.4, bidirectional=True)\n",
            "  (dropout): Dropout(p=0.4, inplace=False)\n",
            "  (fc): Linear(in_features=256, out_features=5, bias=True)\n",
            ")\n",
            "The model has 8,842,253 trainable parameters\n"
          ],
          "name": "stdout"
        }
      ]
    },
    {
      "cell_type": "markdown",
      "metadata": {
        "id": "eXajorf5Xz7t"
      },
      "source": [
        "## Model Training and Evaluation"
      ]
    },
    {
      "cell_type": "markdown",
      "metadata": {
        "id": "PrE9RpMtZ1Vs"
      },
      "source": [
        "First define the optimizer and loss functions"
      ]
    },
    {
      "cell_type": "code",
      "metadata": {
        "id": "-u86JWdlXvu5"
      },
      "source": [
        "import torch.optim as optim\n",
        "\n",
        "# define optimizer and loss\n",
        "optimizer = optim.Adam(model.parameters(), lr=2e-3)\n",
        "criterion = nn.CrossEntropyLoss()\n",
        "\n",
        "# define metric\n",
        "def binary_accuracy(preds, y):\n",
        "    #round predictions to the closest integer\n",
        "    _, predictions = torch.max(preds, 1)\n",
        "    \n",
        "    correct = (predictions == y).float() \n",
        "    acc = correct.sum() / len(correct)\n",
        "    return acc\n",
        "    \n"
      ],
      "execution_count": null,
      "outputs": []
    },
    {
      "cell_type": "code",
      "metadata": {
        "colab": {
          "base_uri": "https://localhost:8080/"
        },
        "id": "Rt_e2IkGdRW8",
        "outputId": "9b635a33-358b-4552-925b-035ec05cefcf"
      },
      "source": [
        "pretrained_embeddings = Sentence.vocab.vectors\n",
        "\n",
        "print(pretrained_embeddings.shape)"
      ],
      "execution_count": null,
      "outputs": [
        {
          "output_type": "stream",
          "text": [
            "torch.Size([17033, 200])\n"
          ],
          "name": "stdout"
        }
      ]
    },
    {
      "cell_type": "code",
      "metadata": {
        "colab": {
          "base_uri": "https://localhost:8080/"
        },
        "id": "t1bHOjdUdY2a",
        "outputId": "27328700-845a-4f19-f5be-c543f78f010e"
      },
      "source": [
        "model.embedding.weight.data.copy_(pretrained_embeddings)"
      ],
      "execution_count": null,
      "outputs": [
        {
          "output_type": "execute_result",
          "data": {
            "text/plain": [
              "tensor([[-0.7719,  1.4995, -1.8566,  ..., -0.6172,  0.3225,  1.8172],\n",
              "        [-0.9759, -0.6801,  2.1196,  ..., -2.1158, -1.4810, -1.4756],\n",
              "        [ 0.1229,  0.5804, -0.0696,  ..., -0.0392, -0.1624, -0.0967],\n",
              "        ...,\n",
              "        [-0.3767, -0.2188, -0.0797,  ...,  0.9097,  0.5368,  0.0905],\n",
              "        [ 0.2897,  0.0912,  0.7914,  ...,  1.0182, -0.6181,  0.2724],\n",
              "        [-0.4719, -0.4627, -0.1236,  ...,  0.1917,  0.4779, -0.0116]])"
            ]
          },
          "metadata": {
            "tags": []
          },
          "execution_count": 178
        }
      ]
    },
    {
      "cell_type": "code",
      "metadata": {
        "colab": {
          "base_uri": "https://localhost:8080/"
        },
        "id": "ASWyq5tgiyLt",
        "outputId": "01a05239-17ed-4e04-8807-00f09ebbb7a0"
      },
      "source": [
        "UNK_IDX = Sentence.vocab.stoi[Sentence.unk_token]\n",
        "\n",
        "model.embedding.weight.data[UNK_IDX] = torch.zeros(embedding_dim)\n",
        "model.embedding.weight.data[PAD_IDX] = torch.zeros(embedding_dim)\n",
        "\n",
        "print(model.embedding.weight.data)"
      ],
      "execution_count": null,
      "outputs": [
        {
          "output_type": "stream",
          "text": [
            "tensor([[ 0.0000,  0.0000,  0.0000,  ...,  0.0000,  0.0000,  0.0000],\n",
            "        [ 0.0000,  0.0000,  0.0000,  ...,  0.0000,  0.0000,  0.0000],\n",
            "        [ 0.1229,  0.5804, -0.0696,  ..., -0.0392, -0.1624, -0.0967],\n",
            "        ...,\n",
            "        [-0.3767, -0.2188, -0.0797,  ...,  0.9097,  0.5368,  0.0905],\n",
            "        [ 0.2897,  0.0912,  0.7914,  ...,  1.0182, -0.6181,  0.2724],\n",
            "        [-0.4719, -0.4627, -0.1236,  ...,  0.1917,  0.4779, -0.0116]])\n"
          ],
          "name": "stdout"
        }
      ]
    },
    {
      "cell_type": "code",
      "metadata": {
        "id": "GiVj8tajdTTC"
      },
      "source": [
        "# push to cuda if available\n",
        "model = model.to(device)\n",
        "criterion = criterion.to(device)"
      ],
      "execution_count": null,
      "outputs": []
    },
    {
      "cell_type": "markdown",
      "metadata": {
        "id": "3VCJtNb3Zt8w"
      },
      "source": [
        "The main thing to be aware of in this new training loop is that we have to reference `batch.tweets` and `batch.labels` to get the particular fields we’re interested in; they don’t fall out quite as nicely from the enumerator as they do in torchvision."
      ]
    },
    {
      "cell_type": "markdown",
      "metadata": {
        "id": "2WjEPLKsAiS_"
      },
      "source": [
        "**Training Loop**"
      ]
    },
    {
      "cell_type": "code",
      "metadata": {
        "id": "HDWNnGK3Y5oJ"
      },
      "source": [
        "def train(model, iterator, optimizer, criterion):\n",
        "    \n",
        "    # initialize every epoch \n",
        "    epoch_loss = 0\n",
        "    epoch_acc = 0\n",
        "    \n",
        "    # set the model in training phase\n",
        "    model.train()  \n",
        "    \n",
        "    for batch in iterator:\n",
        "        \n",
        "        # resets the gradients after every batch\n",
        "        optimizer.zero_grad()   \n",
        "        \n",
        "        # retrieve text and no. of words\n",
        "        tweet, tweet_lengths = batch.sentence   \n",
        "        \n",
        "        # convert to 1D tensor\n",
        "        predictions = model(tweet, tweet_lengths).squeeze()  \n",
        "        \n",
        "        # compute the loss\n",
        "        loss = criterion(predictions, batch.sentiment)        \n",
        "        \n",
        "        # compute the binary accuracy\n",
        "        acc = binary_accuracy(predictions, batch.sentiment)   \n",
        "        \n",
        "        # backpropage the loss and compute the gradients\n",
        "        loss.backward()       \n",
        "        \n",
        "        # update the weights\n",
        "        optimizer.step()      \n",
        "        \n",
        "        # loss and accuracy\n",
        "        epoch_loss += loss.item()  \n",
        "        epoch_acc += acc.item()    \n",
        "        \n",
        "    return epoch_loss / len(iterator), epoch_acc / len(iterator)"
      ],
      "execution_count": null,
      "outputs": []
    },
    {
      "cell_type": "markdown",
      "metadata": {
        "id": "CZcHhkkvAsCt"
      },
      "source": [
        "**Evaluation Loop**"
      ]
    },
    {
      "cell_type": "code",
      "metadata": {
        "id": "zHEe-zSVAriL"
      },
      "source": [
        "def evaluate(model, iterator, criterion):\n",
        "    \n",
        "    # initialize every epoch\n",
        "    epoch_loss = 0\n",
        "    epoch_acc = 0\n",
        "\n",
        "    # deactivating dropout layers\n",
        "    model.eval()\n",
        "    \n",
        "    # deactivates autograd\n",
        "    with torch.no_grad():\n",
        "    \n",
        "        for batch in iterator:\n",
        "        \n",
        "            # retrieve text and no. of words\n",
        "            tweet, tweet_lengths = batch.sentence\n",
        "            \n",
        "            # convert to 1d tensor\n",
        "            predictions = model(tweet, tweet_lengths).squeeze()\n",
        "            \n",
        "            # compute loss and accuracy\n",
        "            loss = criterion(predictions, batch.sentiment)\n",
        "            acc = binary_accuracy(predictions, batch.sentiment)\n",
        "            \n",
        "            # keep track of loss and accuracy\n",
        "            epoch_loss += loss.item()\n",
        "            epoch_acc += acc.item()\n",
        "        \n",
        "    return epoch_loss / len(iterator), epoch_acc / len(iterator)"
      ],
      "execution_count": null,
      "outputs": []
    },
    {
      "cell_type": "markdown",
      "metadata": {
        "id": "L6LJFW7HaJoV"
      },
      "source": [
        "**Let's Train and Evaluate**"
      ]
    },
    {
      "cell_type": "code",
      "metadata": {
        "colab": {
          "base_uri": "https://localhost:8080/"
        },
        "id": "tq330XlnaEU9",
        "outputId": "6c9e1643-a123-4ea8-cb76-9aba8310f23c"
      },
      "source": [
        "N_EPOCHS = 15\n",
        "best_valid_loss = float('inf')\n",
        "#freeze embeddings\n",
        "model.embedding.weight.requires_grad = unfrozen = False\n",
        "\n",
        "for epoch in range(N_EPOCHS):\n",
        "     \n",
        "    # train the model\n",
        "    train_loss, train_acc = train(model, train_iterator, optimizer, criterion)\n",
        "    \n",
        "    # evaluate the model\n",
        "    valid_loss, valid_acc = evaluate(model, valid_iterator, criterion)\n",
        "    \n",
        "    # save the best model\n",
        "    if valid_loss < best_valid_loss:\n",
        "        best_valid_loss = valid_loss\n",
        "        torch.save(model.state_dict(), 'saved_weights.pt')\n",
        "    \n",
        "    print(f'\\tTrain Loss: {train_loss:.3f} | Train Acc: {train_acc*100:.2f}%')\n",
        "    print(f'\\t Val. Loss: {valid_loss:.3f} |  Val. Acc: {valid_acc*100:.2f}% \\n')"
      ],
      "execution_count": null,
      "outputs": [
        {
          "output_type": "stream",
          "text": [
            "\tTrain Loss: 1.536 | Train Acc: 35.11%\n",
            "\t Val. Loss: 1.492 |  Val. Acc: 39.38% \n",
            "\n",
            "\tTrain Loss: 1.448 | Train Acc: 45.68%\n",
            "\t Val. Loss: 1.496 |  Val. Acc: 39.58% \n",
            "\n",
            "\tTrain Loss: 1.372 | Train Acc: 53.58%\n",
            "\t Val. Loss: 1.507 |  Val. Acc: 37.69% \n",
            "\n",
            "\tTrain Loss: 1.331 | Train Acc: 58.04%\n",
            "\t Val. Loss: 1.506 |  Val. Acc: 37.54% \n",
            "\n",
            "\tTrain Loss: 1.299 | Train Acc: 61.12%\n",
            "\t Val. Loss: 1.506 |  Val. Acc: 38.31% \n",
            "\n",
            "\tTrain Loss: 1.279 | Train Acc: 63.08%\n",
            "\t Val. Loss: 1.508 |  Val. Acc: 38.83% \n",
            "\n",
            "\tTrain Loss: 1.265 | Train Acc: 64.72%\n",
            "\t Val. Loss: 1.518 |  Val. Acc: 38.54% \n",
            "\n",
            "\tTrain Loss: 1.258 | Train Acc: 65.57%\n",
            "\t Val. Loss: 1.505 |  Val. Acc: 39.09% \n",
            "\n",
            "\tTrain Loss: 1.250 | Train Acc: 66.24%\n",
            "\t Val. Loss: 1.510 |  Val. Acc: 38.73% \n",
            "\n",
            "\tTrain Loss: 1.249 | Train Acc: 66.04%\n",
            "\t Val. Loss: 1.512 |  Val. Acc: 37.92% \n",
            "\n",
            "\tTrain Loss: 1.242 | Train Acc: 66.82%\n",
            "\t Val. Loss: 1.508 |  Val. Acc: 38.67% \n",
            "\n",
            "\tTrain Loss: 1.242 | Train Acc: 66.92%\n",
            "\t Val. Loss: 1.499 |  Val. Acc: 40.25% \n",
            "\n",
            "\tTrain Loss: 1.239 | Train Acc: 67.09%\n",
            "\t Val. Loss: 1.535 |  Val. Acc: 36.04% \n",
            "\n",
            "\tTrain Loss: 1.241 | Train Acc: 66.95%\n",
            "\t Val. Loss: 1.529 |  Val. Acc: 36.27% \n",
            "\n",
            "\tTrain Loss: 1.239 | Train Acc: 66.97%\n",
            "\t Val. Loss: 1.503 |  Val. Acc: 39.77% \n",
            "\n"
          ],
          "name": "stdout"
        }
      ]
    },
    {
      "cell_type": "code",
      "metadata": {
        "id": "fs9COVJlW_JI"
      },
      "source": [
        "path='./saved_weights.pt'\n",
        "model.load_state_dict(torch.load(path));"
      ],
      "execution_count": null,
      "outputs": []
    },
    {
      "cell_type": "code",
      "metadata": {
        "colab": {
          "base_uri": "https://localhost:8080/"
        },
        "id": "W6Z7TKg_W6s4",
        "outputId": "daae17f4-ab37-45e2-a781-038ac36e093d"
      },
      "source": [
        "N_EPOCHS = 15\n",
        "best_valid_loss = float('inf')\n",
        "#freeze embeddings\n",
        "model.embedding.weight.requires_grad = unfrozen = True\n",
        "\n",
        "for epoch in range(N_EPOCHS):\n",
        "     \n",
        "    # train the model\n",
        "    train_loss, train_acc = train(model, train_iterator, optimizer, criterion)\n",
        "    \n",
        "    # evaluate the model\n",
        "    valid_loss, valid_acc = evaluate(model, valid_iterator, criterion)\n",
        "    \n",
        "    # save the best model\n",
        "    if valid_loss < best_valid_loss:\n",
        "        best_valid_loss = valid_loss\n",
        "        torch.save(model.state_dict(), 'saved_weights.pt')\n",
        "    \n",
        "    print(f'\\tTrain Loss: {train_loss:.3f} | Train Acc: {train_acc*100:.2f}%')\n",
        "    print(f'\\t Val. Loss: {valid_loss:.3f} |  Val. Acc: {valid_acc*100:.2f}% \\n')"
      ],
      "execution_count": null,
      "outputs": [
        {
          "output_type": "stream",
          "text": [
            "\tTrain Loss: 1.213 | Train Acc: 70.59%\n",
            "\t Val. Loss: 1.408 |  Val. Acc: 49.00% \n",
            "\n",
            "\tTrain Loss: 1.154 | Train Acc: 76.56%\n",
            "\t Val. Loss: 1.387 |  Val. Acc: 51.65% \n",
            "\n",
            "\tTrain Loss: 1.114 | Train Acc: 80.64%\n",
            "\t Val. Loss: 1.430 |  Val. Acc: 46.69% \n",
            "\n",
            "\tTrain Loss: 1.090 | Train Acc: 83.12%\n",
            "\t Val. Loss: 1.449 |  Val. Acc: 44.64% \n",
            "\n",
            "\tTrain Loss: 1.073 | Train Acc: 84.69%\n",
            "\t Val. Loss: 1.427 |  Val. Acc: 47.03% \n",
            "\n",
            "\tTrain Loss: 1.059 | Train Acc: 86.40%\n",
            "\t Val. Loss: 1.407 |  Val. Acc: 49.20% \n",
            "\n",
            "\tTrain Loss: 1.051 | Train Acc: 87.06%\n",
            "\t Val. Loss: 1.466 |  Val. Acc: 43.22% \n",
            "\n",
            "\tTrain Loss: 1.045 | Train Acc: 87.53%\n",
            "\t Val. Loss: 1.440 |  Val. Acc: 45.70% \n",
            "\n",
            "\tTrain Loss: 1.038 | Train Acc: 88.33%\n",
            "\t Val. Loss: 1.446 |  Val. Acc: 45.00% \n",
            "\n",
            "\tTrain Loss: 1.033 | Train Acc: 88.86%\n",
            "\t Val. Loss: 1.461 |  Val. Acc: 43.66% \n",
            "\n",
            "\tTrain Loss: 1.026 | Train Acc: 89.44%\n",
            "\t Val. Loss: 1.439 |  Val. Acc: 46.27% \n",
            "\n",
            "\tTrain Loss: 1.023 | Train Acc: 89.99%\n",
            "\t Val. Loss: 1.448 |  Val. Acc: 45.45% \n",
            "\n",
            "\tTrain Loss: 1.020 | Train Acc: 90.36%\n",
            "\t Val. Loss: 1.444 |  Val. Acc: 45.57% \n",
            "\n",
            "\tTrain Loss: 1.017 | Train Acc: 90.57%\n",
            "\t Val. Loss: 1.437 |  Val. Acc: 46.55% \n",
            "\n",
            "\tTrain Loss: 1.014 | Train Acc: 90.73%\n",
            "\t Val. Loss: 1.439 |  Val. Acc: 46.31% \n",
            "\n"
          ],
          "name": "stdout"
        }
      ]
    },
    {
      "cell_type": "markdown",
      "metadata": {
        "id": "LZgzB0ZkHVTI"
      },
      "source": [
        "## Model Testing"
      ]
    },
    {
      "cell_type": "code",
      "metadata": {
        "id": "aZZfnWo0abRx"
      },
      "source": [
        "#load weights and tokenizer\n",
        "\n",
        "path='./saved_weights.pt'\n",
        "model.load_state_dict(torch.load(path));\n",
        "model.eval();\n",
        "tokenizer_file = open('./tokenizer.pkl', 'rb')\n",
        "tokenizer = pickle.load(tokenizer_file)\n",
        "\n",
        "#inference \n",
        "\n",
        "import spacy\n",
        "nlp = spacy.load('en')\n",
        "\n",
        "def classify_tweet(tweet):\n",
        "    \n",
        "    categories = {0: \"Negative\", 1:\"Positive\", 2:\"Neutral\"}\n",
        "    \n",
        "    # tokenize the tweet \n",
        "    tokenized = [tok.text for tok in nlp.tokenizer(tweet)] \n",
        "    # convert to integer sequence using predefined tokenizer dictionary\n",
        "    indexed = [tokenizer[t] for t in tokenized]        \n",
        "    # compute no. of words        \n",
        "    length = [len(indexed)]\n",
        "    # convert to tensor                                    \n",
        "    tensor = torch.LongTensor(indexed).to(device)   \n",
        "    # reshape in form of batch, no. of words           \n",
        "    tensor = tensor.unsqueeze(1).T  \n",
        "    # convert to tensor                          \n",
        "    length_tensor = torch.LongTensor(length)\n",
        "    # Get the model prediction                  \n",
        "    prediction = model(tensor, length_tensor)\n",
        "\n",
        "    _, pred = torch.max(prediction, 1) \n",
        "    \n",
        "    return categories[pred.item()]"
      ],
      "execution_count": null,
      "outputs": []
    },
    {
      "cell_type": "code",
      "metadata": {
        "colab": {
          "base_uri": "https://localhost:8080/",
          "height": 35
        },
        "id": "yTkHLEipIlM9",
        "outputId": "da80d345-e226-4d45-fde0-b95d9821d8da"
      },
      "source": [
        "classify_tweet(\"A valid explanation for why Trump won't let women on the golf course.\")"
      ],
      "execution_count": null,
      "outputs": [
        {
          "output_type": "execute_result",
          "data": {
            "application/vnd.google.colaboratory.intrinsic+json": {
              "type": "string"
            },
            "text/plain": [
              "'Negative'"
            ]
          },
          "metadata": {
            "tags": []
          },
          "execution_count": 76
        }
      ]
    },
    {
      "cell_type": "markdown",
      "metadata": {
        "id": "WVjCuKK_LVEF"
      },
      "source": [
        "## Discussion on Data Augmentation Techniques \n",
        "\n",
        "You might wonder exactly how you can augment text data. After all, you can’t really flip it horizontally as you can an image! :D \n",
        "\n",
        "In contrast to data augmentation in images, augmentation techniques on data is very specific to final product you are building. As its general usage on any type of textual data doesn't provides a significant performance boost, that's why unlike torchvision, torchtext doesn’t offer a augmentation pipeline. Due to powerful models as transformers, augmentation tecnhiques are not so preferred now-a-days. But its better to know about some techniques with text that will provide your model with a little more information for training. \n",
        "\n",
        "### Synonym Replacement\n",
        "\n",
        "First, you could replace words in the sentence with synonyms, like so:\n",
        "\n",
        "    The dog slept on the mat\n",
        "\n",
        "could become\n",
        "\n",
        "    The dog slept on the rug\n",
        "\n",
        "Aside from the dog's insistence that a rug is much softer than a mat, the meaning of the sentence hasn’t changed. But mat and rug will be mapped to different indices in the vocabulary, so the model will learn that the two sentences map to the same label, and hopefully that there’s a connection between those two words, as everything else in the sentences is the same."
      ]
    },
    {
      "cell_type": "markdown",
      "metadata": {
        "id": "T_uEfWJpL6Nq"
      },
      "source": [
        "### Random Insertion\n",
        "A random insertion technique looks at a sentence and then randomly inserts synonyms of existing non-stopwords into the sentence n times. Assuming you have a way of getting a synonym of a word and a way of eliminating stopwords (common words such as and, it, the, etc.), shown, but not implemented, in this function via get_synonyms() and get_stopwords(), an implementation of this would be as follows:\n"
      ]
    },
    {
      "cell_type": "code",
      "metadata": {
        "id": "7Alm5D7WIvAC"
      },
      "source": [
        "def random_insertion(sentence, n): \n",
        "    words = remove_stopwords(sentence) \n",
        "    for _ in range(n):\n",
        "        new_synonym = get_synonyms(random.choice(words))\n",
        "        sentence.insert(randrange(len(sentence)+1), new_synonym) \n",
        "    return sentence"
      ],
      "execution_count": null,
      "outputs": []
    },
    {
      "cell_type": "markdown",
      "metadata": {
        "id": "gqLWzwJ3Mm8h"
      },
      "source": [
        "## Random Deletion\n",
        "As the name suggests, random deletion deletes words from a sentence. Given a probability parameter p, it will go through the sentence and decide whether to delete a word or not based on that random probability. Consider of it as pixel dropouts while treating images."
      ]
    },
    {
      "cell_type": "code",
      "metadata": {
        "id": "-7Dz7JJfMqyC"
      },
      "source": [
        "def random_deletion(words, p=0.5): \n",
        "    if len(words) == 1: # return if single word\n",
        "        return words\n",
        "    remaining = list(filter(lambda x: random.uniform(0,1) > p,words)) \n",
        "    if len(remaining) == 0: # if not left, sample a random word\n",
        "        return [random.choice(words)] \n",
        "    else:\n",
        "        return remaining"
      ],
      "execution_count": null,
      "outputs": []
    },
    {
      "cell_type": "markdown",
      "metadata": {
        "id": "zOIbi5WzO5OU"
      },
      "source": [
        "### Random Swap\n",
        "The random swap augmentation takes a sentence and then swaps words within it n times, with each iteration working on the previously swapped sentence. Here we sample two random numbers based on the length of the sentence, and then just keep swapping until we hit n."
      ]
    },
    {
      "cell_type": "code",
      "metadata": {
        "id": "LnkbG15HO3Yj"
      },
      "source": [
        "def random_swap(sentence, n=5): \n",
        "    length = range(len(sentence)) \n",
        "    for _ in range(n):\n",
        "        idx1, idx2 = random.sample(length, 2)\n",
        "        sentence[idx1], sentence[idx2] = sentence[idx2], sentence[idx1] \n",
        "    return sentence"
      ],
      "execution_count": null,
      "outputs": []
    },
    {
      "cell_type": "markdown",
      "metadata": {
        "id": "599NpwfMR5Vm"
      },
      "source": [
        "For more on this please go through this [paper](https://arxiv.org/pdf/1901.11196.pdf)."
      ]
    },
    {
      "cell_type": "markdown",
      "metadata": {
        "id": "a5aeKuNCRGip"
      },
      "source": [
        "### Back Translation\n",
        "\n",
        "Another popular approach for augmenting text datasets is back translation. This involves translating a sentence from our target language into one or more other languages and then translating all of them back to the original language. We can use the Python library googletrans for this purpose. "
      ]
    },
    {
      "cell_type": "code",
      "metadata": {
        "colab": {
          "base_uri": "https://localhost:8080/"
        },
        "id": "B2a5FZkoDSyL",
        "outputId": "9269405b-950c-4377-d333-f33ce2d323b8"
      },
      "source": [
        "!pip install googletrans==3.1.0a0"
      ],
      "execution_count": null,
      "outputs": [
        {
          "output_type": "stream",
          "text": [
            "Collecting googletrans==3.1.0a0\n",
            "  Downloading https://files.pythonhosted.org/packages/19/3d/4e3a1609bf52f2f7b00436cc751eb977e27040665dde2bd57e7152989672/googletrans-3.1.0a0.tar.gz\n",
            "Collecting httpx==0.13.3\n",
            "\u001b[?25l  Downloading https://files.pythonhosted.org/packages/54/b4/698b284c6aed4d7c2b4fe3ba5df1fcf6093612423797e76fbb24890dd22f/httpx-0.13.3-py3-none-any.whl (55kB)\n",
            "\u001b[K     |████████████████████████████████| 61kB 5.2MB/s \n",
            "\u001b[?25hRequirement already satisfied: idna==2.* in /usr/local/lib/python3.6/dist-packages (from httpx==0.13.3->googletrans==3.1.0a0) (2.10)\n",
            "Collecting httpcore==0.9.*\n",
            "\u001b[?25l  Downloading https://files.pythonhosted.org/packages/dd/d5/e4ff9318693ac6101a2095e580908b591838c6f33df8d3ee8dd953ba96a8/httpcore-0.9.1-py3-none-any.whl (42kB)\n",
            "\u001b[K     |████████████████████████████████| 51kB 4.8MB/s \n",
            "\u001b[?25hRequirement already satisfied: chardet==3.* in /usr/local/lib/python3.6/dist-packages (from httpx==0.13.3->googletrans==3.1.0a0) (3.0.4)\n",
            "Collecting hstspreload\n",
            "\u001b[?25l  Downloading https://files.pythonhosted.org/packages/d3/3c/cdeaf9ab0404853e77c45d9e8021d0d2c01f70a1bb26e460090926fe2a5e/hstspreload-2020.11.21-py3-none-any.whl (981kB)\n",
            "\u001b[K     |████████████████████████████████| 983kB 16.3MB/s \n",
            "\u001b[?25hRequirement already satisfied: certifi in /usr/local/lib/python3.6/dist-packages (from httpx==0.13.3->googletrans==3.1.0a0) (2020.11.8)\n",
            "Collecting rfc3986<2,>=1.3\n",
            "  Downloading https://files.pythonhosted.org/packages/78/be/7b8b99fd74ff5684225f50dd0e865393d2265656ef3b4ba9eaaaffe622b8/rfc3986-1.4.0-py2.py3-none-any.whl\n",
            "Collecting sniffio\n",
            "  Downloading https://files.pythonhosted.org/packages/52/b0/7b2e028b63d092804b6794595871f936aafa5e9322dcaaad50ebf67445b3/sniffio-1.2.0-py3-none-any.whl\n",
            "Collecting h2==3.*\n",
            "\u001b[?25l  Downloading https://files.pythonhosted.org/packages/25/de/da019bcc539eeab02f6d45836f23858ac467f584bfec7a526ef200242afe/h2-3.2.0-py2.py3-none-any.whl (65kB)\n",
            "\u001b[K     |████████████████████████████████| 71kB 9.3MB/s \n",
            "\u001b[?25hCollecting h11<0.10,>=0.8\n",
            "\u001b[?25l  Downloading https://files.pythonhosted.org/packages/5a/fd/3dad730b0f95e78aeeb742f96fa7bbecbdd56a58e405d3da440d5bfb90c6/h11-0.9.0-py2.py3-none-any.whl (53kB)\n",
            "\u001b[K     |████████████████████████████████| 61kB 8.1MB/s \n",
            "\u001b[?25hCollecting contextvars>=2.1; python_version < \"3.7\"\n",
            "  Downloading https://files.pythonhosted.org/packages/83/96/55b82d9f13763be9d672622e1b8106c85acb83edd7cc2fa5bc67cd9877e9/contextvars-2.4.tar.gz\n",
            "Collecting hpack<4,>=3.0\n",
            "  Downloading https://files.pythonhosted.org/packages/8a/cc/e53517f4a1e13f74776ca93271caef378dadec14d71c61c949d759d3db69/hpack-3.0.0-py2.py3-none-any.whl\n",
            "Collecting hyperframe<6,>=5.2.0\n",
            "  Downloading https://files.pythonhosted.org/packages/19/0c/bf88182bcb5dce3094e2f3e4fe20db28a9928cb7bd5b08024030e4b140db/hyperframe-5.2.0-py2.py3-none-any.whl\n",
            "Collecting immutables>=0.9\n",
            "\u001b[?25l  Downloading https://files.pythonhosted.org/packages/99/e0/ea6fd4697120327d26773b5a84853f897a68e33d3f9376b00a8ff96e4f63/immutables-0.14-cp36-cp36m-manylinux1_x86_64.whl (98kB)\n",
            "\u001b[K     |████████████████████████████████| 102kB 10.9MB/s \n",
            "\u001b[?25hBuilding wheels for collected packages: googletrans, contextvars\n",
            "  Building wheel for googletrans (setup.py) ... \u001b[?25l\u001b[?25hdone\n",
            "  Created wheel for googletrans: filename=googletrans-3.1.0a0-cp36-none-any.whl size=16369 sha256=8a754f7952c21a6c71e0c349e65883dc83f6a1241d99d6d48ef486f89c5cfc01\n",
            "  Stored in directory: /root/.cache/pip/wheels/27/7a/a0/aff3babbb775549ce6813cb8fa7ff3c0848c4dc62c20f8fdac\n",
            "  Building wheel for contextvars (setup.py) ... \u001b[?25l\u001b[?25hdone\n",
            "  Created wheel for contextvars: filename=contextvars-2.4-cp36-none-any.whl size=7666 sha256=78084eef51a489f26515c4b31f82e531404cb1a872edf3691bb11e868b213298\n",
            "  Stored in directory: /root/.cache/pip/wheels/a5/7d/68/1ebae2668bda2228686e3c1cf16f2c2384cea6e9334ad5f6de\n",
            "Successfully built googletrans contextvars\n",
            "Installing collected packages: hpack, hyperframe, h2, immutables, contextvars, sniffio, h11, httpcore, hstspreload, rfc3986, httpx, googletrans\n",
            "Successfully installed contextvars-2.4 googletrans-3.1.0a0 h11-0.9.0 h2-3.2.0 hpack-3.0.0 hstspreload-2020.11.21 httpcore-0.9.1 httpx-0.13.3 hyperframe-5.2.0 immutables-0.14 rfc3986-1.4.0 sniffio-1.2.0\n"
          ],
          "name": "stdout"
        }
      ]
    },
    {
      "cell_type": "code",
      "metadata": {
        "colab": {
          "base_uri": "https://localhost:8080/"
        },
        "id": "pHhNBbYrRXNy",
        "outputId": "8b97e6f2-836d-4590-ced6-85c7ddc435a1"
      },
      "source": [
        "import random\n",
        "import googletrans\n",
        "from googletrans import Translator\n",
        "\n",
        "# import googletrans.Translator\n",
        "\n",
        "translator = Translator()\n",
        "sentence = ['The dog slept on the rug']\n",
        "\n",
        "available_langs = list(googletrans.LANGUAGES.keys()) \n",
        "trans_lang = random.choice(available_langs) \n",
        "print(f\"Translating to {googletrans.LANGUAGES[trans_lang]}\")\n",
        "\n",
        "translations = translator.translate(sentence, dest=trans_lang) \n",
        "t_text = [t.text for t in translations]\n",
        "print(t_text)\n",
        "\n",
        "translations_en_random = translator.translate(t_text, src=trans_lang, dest='en') \n",
        "en_text = [t.text for t in translations_en_random]\n",
        "print(en_text)"
      ],
      "execution_count": null,
      "outputs": [
        {
          "output_type": "stream",
          "text": [
            "Translating to malay\n",
            "['Anjing itu tidur di atas permaidani']\n",
            "['The dog slept on the carpet']\n"
          ],
          "name": "stdout"
        }
      ]
    }
  ]
}