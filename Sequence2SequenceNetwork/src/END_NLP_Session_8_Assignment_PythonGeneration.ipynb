{
  "nbformat": 4,
  "nbformat_minor": 0,
  "metadata": {
    "colab": {
      "name": "END_NLP_Session_8_Assignment_PythonGeneration.ipynb",
      "provenance": [],
      "collapsed_sections": []
    },
    "kernelspec": {
      "name": "python3",
      "display_name": "Python 3"
    },
    "accelerator": "GPU"
  },
  "cells": [
    {
      "cell_type": "code",
      "metadata": {
        "colab": {
          "base_uri": "https://localhost:8080/"
        },
        "id": "2u_5F4EsvJYv",
        "outputId": "a2588f36-d2ee-4fcb-c43d-6b73e44383f7"
      },
      "source": [
        "# Given a list slice it into a 3 equal chunks and revert each list\r\n",
        "sampleList = [11, 45, 8, 23, 14, 12, 78, 45, 89]\r\n",
        "\r\n",
        "length = len(sampleList)\r\n",
        "chunkSize  = int(length/3)\r\n",
        "start = 0\r\n",
        "end = chunkSize\r\n",
        "for i in range(1, 4, 1):\r\n",
        "  indexes = slice(start, end, 1)\r\n",
        "  listChunk = sampleList[indexes]\r\n",
        "  mylist = [i for i in listChunk]\r\n",
        "  print(\"After reversing it \", mylist)\r\n",
        "  start = end\r\n",
        "  if(i != 2):\r\n",
        "    end +=chunkSize\r\n",
        "  else:\r\n",
        "    end += length - chunkSize"
      ],
      "execution_count": 1,
      "outputs": [
        {
          "output_type": "stream",
          "text": [
            "After reversing it  [11, 45, 8]\n",
            "After reversing it  [23, 14, 12]\n",
            "After reversing it  [78, 45, 89]\n"
          ],
          "name": "stdout"
        }
      ]
    },
    {
      "cell_type": "code",
      "metadata": {
        "colab": {
          "base_uri": "https://localhost:8080/"
        },
        "id": "9fWQvL4mvjMC",
        "outputId": "3f7e14cb-ad1e-4612-925c-1d87f705831a"
      },
      "source": [
        "# write a program to calculate exponents of an input\r\n",
        "input = 9\r\n",
        "exponent = 2\r\n",
        "final = pow(input, exponent)\r\n",
        "print(f'Exponent Value is:{final}')"
      ],
      "execution_count": 2,
      "outputs": [
        {
          "output_type": "stream",
          "text": [
            "Exponent Value is:81\n"
          ],
          "name": "stdout"
        }
      ]
    },
    {
      "cell_type": "code",
      "metadata": {
        "colab": {
          "base_uri": "https://localhost:8080/"
        },
        "id": "2gaJwM2IvlMo",
        "outputId": "8323fc7e-2c3f-4dd8-d97f-c64c8a844fcb"
      },
      "source": [
        "# write a program to multiply two Matrix \r\n",
        "# 3x3 matrix\r\n",
        "X = [[12,7,3],\r\n",
        "    [4 ,5,6],\r\n",
        "    [7 ,8,9]]\r\n",
        "# 3x4 matrix\r\n",
        "Y = [[5,8,1,2],\r\n",
        "    [6,7,3,0],\r\n",
        "    [4,5,9,1]]\r\n",
        "# result is 3x4\r\n",
        "result = [[0,0,0,0],\r\n",
        "         [0,0,0,0],\r\n",
        "         [0,0,0,0]]\r\n",
        "\r\n",
        "# iterate through rows of X\r\n",
        "for i in range(len(X)):\r\n",
        "   # iterate through columns of Y\r\n",
        "   for j in range(len(Y[0])):\r\n",
        "       # iterate through rows of Y\r\n",
        "       for k in range(len(Y)):\r\n",
        "           result[i][j] += X[i][k] * Y[k][j]\r\n",
        "print(f\"Final Result is{result}\")"
      ],
      "execution_count": 3,
      "outputs": [
        {
          "output_type": "stream",
          "text": [
            "Final Result is[[114, 160, 60, 27], [74, 97, 73, 14], [119, 157, 112, 23]]\n"
          ],
          "name": "stdout"
        }
      ]
    },
    {
      "cell_type": "code",
      "metadata": {
        "colab": {
          "base_uri": "https://localhost:8080/"
        },
        "id": "JCIobW3pvnFi",
        "outputId": "04423ff5-b1ff-4d12-d09d-cfcf56a46391"
      },
      "source": [
        "# write a program to find and print the remainder of two number\r\n",
        "\r\n",
        "num1 = 12\r\n",
        "num2 = 10\r\n",
        "\r\n",
        "ratio = num1 % num2\r\n",
        "print(f'remainder:{ratio}')"
      ],
      "execution_count": 4,
      "outputs": [
        {
          "output_type": "stream",
          "text": [
            "remainder:2\n"
          ],
          "name": "stdout"
        }
      ]
    },
    {
      "cell_type": "code",
      "metadata": {
        "colab": {
          "base_uri": "https://localhost:8080/"
        },
        "id": "02u7nlbqyOtD",
        "outputId": "2b17cf66-854f-44da-819c-8d89a6d4a358"
      },
      "source": [
        "# reverse a number in Python\r\n",
        "number = 1367891\r\n",
        "revs_number = 0  \r\n",
        "while (number > 0):\r\n",
        "  remainder = number % 10\r\n",
        "  revs_number = (revs_number * 10) + remainder\r\n",
        "  number = number // 10\r\n",
        "print(\"The reverse number is : {}\".format(revs_number)) "
      ],
      "execution_count": 5,
      "outputs": [
        {
          "output_type": "stream",
          "text": [
            "The reverse number is : 1987631\n"
          ],
          "name": "stdout"
        }
      ]
    },
    {
      "cell_type": "code",
      "metadata": {
        "colab": {
          "base_uri": "https://localhost:8080/"
        },
        "id": "blMhOuu2zETy",
        "outputId": "17151e47-39ca-42ab-8908-91e4d9b64a0f"
      },
      "source": [
        "# Python program to compute sum of digits in number\r\n",
        "def sumDigits(no):  \r\n",
        "    return 0 if no == 0 else int(no % 10) + sumDigits(int(no / 10))   \r\n",
        "n = 1234511\r\n",
        "print(sumDigits(n))"
      ],
      "execution_count": 6,
      "outputs": [
        {
          "output_type": "stream",
          "text": [
            "17\n"
          ],
          "name": "stdout"
        }
      ]
    },
    {
      "cell_type": "code",
      "metadata": {
        "colab": {
          "base_uri": "https://localhost:8080/"
        },
        "id": "o1QTe4Uo0MI3",
        "outputId": "07584c47-826a-476c-dfd4-a1e8b5cd2ebe"
      },
      "source": [
        "# Find the middle element of a random number list\r\n",
        "my_list = [4,3,2,9,10,44,1]\r\n",
        "print(\"mid value is \",my_list[int(len(my_list)/2)])"
      ],
      "execution_count": 7,
      "outputs": [
        {
          "output_type": "stream",
          "text": [
            "mid value is  9\n"
          ],
          "name": "stdout"
        }
      ]
    },
    {
      "cell_type": "code",
      "metadata": {
        "colab": {
          "base_uri": "https://localhost:8080/"
        },
        "id": "TFWKkKiE0tyH",
        "outputId": "1a3f6100-0239-40fd-e387-44b71f21205f"
      },
      "source": [
        "# Sort the list in ascending order\r\n",
        "my_list = [4,3,2,9,10,44,1]\r\n",
        "my_list.sort()\r\n",
        "print(f\"Ascending Order list:,{my_list}\")"
      ],
      "execution_count": 8,
      "outputs": [
        {
          "output_type": "stream",
          "text": [
            "Ascending Order list:,[1, 2, 3, 4, 9, 10, 44]\n"
          ],
          "name": "stdout"
        }
      ]
    },
    {
      "cell_type": "code",
      "metadata": {
        "colab": {
          "base_uri": "https://localhost:8080/"
        },
        "id": "M0cQh1Cj1N_T",
        "outputId": "9ebfd717-b635-4df9-e516-8ebdee9bd7dc"
      },
      "source": [
        "# Sort the list in descending order\r\n",
        "my_list = [4,3,2,9,10,44,1]\r\n",
        "my_list.sort(reverse=True)\r\n",
        "print(f\"Descending Order list:,{my_list}\")"
      ],
      "execution_count": 9,
      "outputs": [
        {
          "output_type": "stream",
          "text": [
            "Descending Order list:,[44, 10, 9, 4, 3, 2, 1]\n"
          ],
          "name": "stdout"
        }
      ]
    },
    {
      "cell_type": "code",
      "metadata": {
        "colab": {
          "base_uri": "https://localhost:8080/"
        },
        "id": "H3Jv_ZMz1t3W",
        "outputId": "7e96746a-f8ed-4053-e36f-2ac89ffe7413"
      },
      "source": [
        "# Concatenation of two List\r\n",
        "my_list1 = [4,3,2,9,10,44,1]\r\n",
        "my_list2 = [5,6,2,8,15,14,12]\r\n",
        "print(f\"Sum of two list:,{my_list1+my_list2}\")"
      ],
      "execution_count": 10,
      "outputs": [
        {
          "output_type": "stream",
          "text": [
            "Sum of two list:,[4, 3, 2, 9, 10, 44, 1, 5, 6, 2, 8, 15, 14, 12]\n"
          ],
          "name": "stdout"
        }
      ]
    },
    {
      "cell_type": "code",
      "metadata": {
        "colab": {
          "base_uri": "https://localhost:8080/"
        },
        "id": "pZCnHvwD2UB6",
        "outputId": "85caf454-3ce0-4bf6-a72c-051d37687ae7"
      },
      "source": [
        "# Removes the item at the given index from the list and returns the removed item\r\n",
        "my_list1 = [4,3,2,9,10,44,1,9,12]\r\n",
        "index = 4\r\n",
        "print(f\"Sum of two list:,{my_list1.pop(index)}\")"
      ],
      "execution_count": 11,
      "outputs": [
        {
          "output_type": "stream",
          "text": [
            "Sum of two list:,10\n"
          ],
          "name": "stdout"
        }
      ]
    },
    {
      "cell_type": "code",
      "metadata": {
        "colab": {
          "base_uri": "https://localhost:8080/"
        },
        "id": "4ih_hhr45bcO",
        "outputId": "72d95b1c-5730-4b14-f157-2cfc716a0d5a"
      },
      "source": [
        "# Adding Element to a List\r\n",
        "\r\n",
        "animals = ['cat', 'dog', 'rabbit']\r\n",
        "animals.append('guinea pig')\r\n",
        "print('Updated animals list: ', animals)"
      ],
      "execution_count": 12,
      "outputs": [
        {
          "output_type": "stream",
          "text": [
            "Updated animals list:  ['cat', 'dog', 'rabbit', 'guinea pig']\n"
          ],
          "name": "stdout"
        }
      ]
    },
    {
      "cell_type": "code",
      "metadata": {
        "colab": {
          "base_uri": "https://localhost:8080/"
        },
        "id": "ac7G132q6HWe",
        "outputId": "1476a9e6-9b32-4ea4-edf8-8dbf4c00d4fb"
      },
      "source": [
        "# Returns the number of times the specified element appears in the list\r\n",
        "\r\n",
        "vowels = ['a', 'e', 'i', 'o', 'i', 'u']\r\n",
        "count = vowels.count('i')\r\n",
        "print('The count of i is:', count)"
      ],
      "execution_count": 13,
      "outputs": [
        {
          "output_type": "stream",
          "text": [
            "The count of i is: 2\n"
          ],
          "name": "stdout"
        }
      ]
    },
    {
      "cell_type": "code",
      "metadata": {
        "colab": {
          "base_uri": "https://localhost:8080/"
        },
        "id": "7tuSTeN66c2e",
        "outputId": "07121e5e-2e7f-4c97-ead3-3ff7f3df83be"
      },
      "source": [
        "# Count Tuple Elements Inside List\r\n",
        "\r\n",
        "random = ['a', ('a', 'b'), ('a', 'b'), [3, 4]]\r\n",
        "count = random.count(('a', 'b'))\r\n",
        "print(\"The count of ('a', 'b') is:\", count)"
      ],
      "execution_count": 14,
      "outputs": [
        {
          "output_type": "stream",
          "text": [
            "The count of ('a', 'b') is: 2\n"
          ],
          "name": "stdout"
        }
      ]
    },
    {
      "cell_type": "code",
      "metadata": {
        "colab": {
          "base_uri": "https://localhost:8080/"
        },
        "id": "Hvr4jvfh6w2G",
        "outputId": "13720774-a86a-430e-f0d5-b21596a23212"
      },
      "source": [
        "# Removes all items from the list\r\n",
        "\r\n",
        "list = [{1, 2}, ('a'), ['1.1', '2.2']]\r\n",
        "list.clear()\r\n",
        "print('List:', list)"
      ],
      "execution_count": 15,
      "outputs": [
        {
          "output_type": "stream",
          "text": [
            "List: []\n"
          ],
          "name": "stdout"
        }
      ]
    },
    {
      "cell_type": "code",
      "metadata": {
        "colab": {
          "base_uri": "https://localhost:8080/"
        },
        "id": "SDjQ3L5-7aw2",
        "outputId": "58cfd527-d0bc-4272-c542-c6cb4584f0fe"
      },
      "source": [
        "# access first characters in a string\r\n",
        "\r\n",
        "word = \"Hello World\"\r\n",
        "letter=word[0]\r\n",
        "print(f\"First Charecter in String:{letter}\")"
      ],
      "execution_count": 16,
      "outputs": [
        {
          "output_type": "stream",
          "text": [
            "First Charecter in String:H\n"
          ],
          "name": "stdout"
        }
      ]
    },
    {
      "cell_type": "code",
      "metadata": {
        "colab": {
          "base_uri": "https://localhost:8080/"
        },
        "id": "S9lfOM4c7rsn",
        "outputId": "2d061438-c7a8-4c28-8818-74fac6a4f3af"
      },
      "source": [
        "# access Last characters in a string\r\n",
        "\r\n",
        "word = \"Hello World\"\r\n",
        "letter=word[-1]\r\n",
        "print(f\"First Charecter in String:{letter}\")"
      ],
      "execution_count": 17,
      "outputs": [
        {
          "output_type": "stream",
          "text": [
            "First Charecter in String:d\n"
          ],
          "name": "stdout"
        }
      ]
    },
    {
      "cell_type": "code",
      "metadata": {
        "colab": {
          "base_uri": "https://localhost:8080/"
        },
        "id": "OpFVLvY47w3t",
        "outputId": "5e38c56d-effa-441d-eba5-d22711c61f8e"
      },
      "source": [
        "# Generate a list by list comprehension\r\n",
        "\r\n",
        "list = [x for x in range(10)]\r\n",
        "print(f\"List Generated by list comprehension:{list}\")"
      ],
      "execution_count": 18,
      "outputs": [
        {
          "output_type": "stream",
          "text": [
            "List Generated by list comprehension:[0, 1, 2, 3, 4, 5, 6, 7, 8, 9]\n"
          ],
          "name": "stdout"
        }
      ]
    },
    {
      "cell_type": "code",
      "metadata": {
        "colab": {
          "base_uri": "https://localhost:8080/"
        },
        "id": "qX8ODtaK8swm",
        "outputId": "9a71a266-d30f-419d-a28f-6564e0a84443"
      },
      "source": [
        "# Set the values in the new list to upper case\r\n",
        "list = \"AMITKAYAL\"\r\n",
        "newlist = [x.upper() for x in list]\r\n",
        "print(f\"New list to upper case:{newlist}\")"
      ],
      "execution_count": 19,
      "outputs": [
        {
          "output_type": "stream",
          "text": [
            "New list to upper case:['A', 'M', 'I', 'T', 'K', 'A', 'Y', 'A', 'L']\n"
          ],
          "name": "stdout"
        }
      ]
    },
    {
      "cell_type": "code",
      "metadata": {
        "colab": {
          "base_uri": "https://localhost:8080/"
        },
        "id": "vg0YqZRs9Q85",
        "outputId": "b10877d6-31f9-4dcf-8d95-1aab4bac8db5"
      },
      "source": [
        "# Sort the string list alphabetically\r\n",
        "\r\n",
        "thislist = [\"orange\", \"mango\", \"kiwi\", \"pineapple\", \"banana\"]\r\n",
        "thislist.sort()\r\n",
        "print(f\"Sorted List:{thislist}\")"
      ],
      "execution_count": 20,
      "outputs": [
        {
          "output_type": "stream",
          "text": [
            "Sorted List:['banana', 'kiwi', 'mango', 'orange', 'pineapple']\n"
          ],
          "name": "stdout"
        }
      ]
    },
    {
      "cell_type": "code",
      "metadata": {
        "colab": {
          "base_uri": "https://localhost:8080/"
        },
        "id": "uCgWLR6F-QqO",
        "outputId": "1884e8eb-48f4-4c81-fef9-5ffb31ce75b9"
      },
      "source": [
        "# Join Two Sets\r\n",
        "\r\n",
        "set1 = {\"a\", \"b\" , \"c\"}\r\n",
        "set2 = {1, 2, 3}\r\n",
        "set3 = set2.union(set1)\r\n",
        "print(f\"Joined Set:{set3}\")"
      ],
      "execution_count": 21,
      "outputs": [
        {
          "output_type": "stream",
          "text": [
            "Joined Set:{1, 2, 3, 'b', 'a', 'c'}\n"
          ],
          "name": "stdout"
        }
      ]
    },
    {
      "cell_type": "code",
      "metadata": {
        "colab": {
          "base_uri": "https://localhost:8080/"
        },
        "id": "ChzuZVLp-8af",
        "outputId": "0bc1e43a-72b3-41e6-b8fd-d8e42aa88659"
      },
      "source": [
        "# keep only the items that are present in both sets\r\n",
        "\r\n",
        "x = {\"apple\", \"banana\", \"cherry\"}\r\n",
        "y = {\"google\", \"microsoft\", \"apple\"}\r\n",
        "\r\n",
        "x.intersection_update(y)\r\n",
        "print(f\"Duplicate Value in Two set:{x}\")"
      ],
      "execution_count": 22,
      "outputs": [
        {
          "output_type": "stream",
          "text": [
            "Duplicate Value in Two set:{'apple'}\n"
          ],
          "name": "stdout"
        }
      ]
    },
    {
      "cell_type": "code",
      "metadata": {
        "colab": {
          "base_uri": "https://localhost:8080/"
        },
        "id": "tkw8tDTB_slX",
        "outputId": "f00792fa-23b9-4198-b6e7-fc3470769a13"
      },
      "source": [
        "# Keep All items from List But NOT the Duplicates\r\n",
        "x = {\"apple\", \"banana\", \"cherry\"}\r\n",
        "y = {\"google\", \"microsoft\", \"apple\"}\r\n",
        "\r\n",
        "x.symmetric_difference_update(y)\r\n",
        "print(f\"Duplicate Value in Two set:{x}\")"
      ],
      "execution_count": 23,
      "outputs": [
        {
          "output_type": "stream",
          "text": [
            "Duplicate Value in Two set:{'banana', 'microsoft', 'google', 'cherry'}\n"
          ],
          "name": "stdout"
        }
      ]
    },
    {
      "cell_type": "code",
      "metadata": {
        "colab": {
          "base_uri": "https://localhost:8080/"
        },
        "id": "T6xkqBrsAMre",
        "outputId": "1e0990f1-c3d5-48cd-8dcd-6cc67dd7ff7f"
      },
      "source": [
        "# Create and print a dictionary\r\n",
        "\r\n",
        "thisdict = {\r\n",
        "  \"brand\": \"Ford\",\r\n",
        "  \"model\": \"Mustang\",\r\n",
        "  \"year\": 1964\r\n",
        "}\r\n",
        "print(f\"Sample Dictionary:{thisdict}\")"
      ],
      "execution_count": 24,
      "outputs": [
        {
          "output_type": "stream",
          "text": [
            "Sample Dictionary:{'brand': 'Ford', 'model': 'Mustang', 'year': 1964}\n"
          ],
          "name": "stdout"
        }
      ]
    },
    {
      "cell_type": "code",
      "metadata": {
        "colab": {
          "base_uri": "https://localhost:8080/"
        },
        "id": "WXyUdU2VAaSN",
        "outputId": "f2f48d69-8a19-49ce-b83a-8fb6a7a11b6c"
      },
      "source": [
        "# Calculate the length of dictionary\r\n",
        "\r\n",
        "thisdict = {\r\n",
        "  \"brand\": \"Ford\",\r\n",
        "  \"model\": \"Mustang\",\r\n",
        "  \"year\": 1964\r\n",
        "}\r\n",
        "\r\n",
        "print(f\"Length of Dictionary:{len(thisdict)}\")"
      ],
      "execution_count": 25,
      "outputs": [
        {
          "output_type": "stream",
          "text": [
            "Length of Dictionary:3\n"
          ],
          "name": "stdout"
        }
      ]
    },
    {
      "cell_type": "code",
      "metadata": {
        "colab": {
          "base_uri": "https://localhost:8080/"
        },
        "id": "oS0mimKMBBBF",
        "outputId": "368f1999-1d4d-4d5c-a5c9-4893e4ee8518"
      },
      "source": [
        "# Evaluate a string and a number\r\n",
        "\r\n",
        "print(bool(\"Hello\"))\r\n",
        "print(bool(15))"
      ],
      "execution_count": 26,
      "outputs": [
        {
          "output_type": "stream",
          "text": [
            "True\n",
            "True\n"
          ],
          "name": "stdout"
        }
      ]
    },
    {
      "cell_type": "code",
      "metadata": {
        "colab": {
          "base_uri": "https://localhost:8080/"
        },
        "id": "KhP7RlGqJLFR",
        "outputId": "c4563c19-1625-42c8-8a39-4e9e80550bd1"
      },
      "source": [
        "# Calculate length of a string\r\n",
        "\r\n",
        "word = \"Hello World\"\r\n",
        "print(f\"Length of string: {len(word)}\")"
      ],
      "execution_count": 27,
      "outputs": [
        {
          "output_type": "stream",
          "text": [
            "Length of string: 11\n"
          ],
          "name": "stdout"
        }
      ]
    },
    {
      "cell_type": "code",
      "metadata": {
        "colab": {
          "base_uri": "https://localhost:8080/"
        },
        "id": "8je7D2NhJagl",
        "outputId": "6456d8eb-efcb-43b8-8051-8527e15fed45"
      },
      "source": [
        "# Count the number of spaces in a sring\r\n",
        "\r\n",
        "s = \"Count, the number of spaces\"\r\n",
        "lenx = s.count(' ')\r\n",
        "print(f\"number of spaces in sring: {lenx}\")"
      ],
      "execution_count": 28,
      "outputs": [
        {
          "output_type": "stream",
          "text": [
            "number of spaces in sring: 4\n"
          ],
          "name": "stdout"
        }
      ]
    },
    {
      "cell_type": "code",
      "metadata": {
        "colab": {
          "base_uri": "https://localhost:8080/"
        },
        "id": "sM7EWGa1JtBp",
        "outputId": "d90ddf73-8d91-4a47-b356-48cfc5c754c3"
      },
      "source": [
        "# Split Strings\r\n",
        "word = \"Hello World\"\r\n",
        "ksplit = word.split(' ') \r\n",
        "print(f\"Splited Strings: {ksplit}\")"
      ],
      "execution_count": 29,
      "outputs": [
        {
          "output_type": "stream",
          "text": [
            "Splited Strings: ['Hello', 'World']\n"
          ],
          "name": "stdout"
        }
      ]
    },
    {
      "cell_type": "code",
      "metadata": {
        "colab": {
          "base_uri": "https://localhost:8080/"
        },
        "id": "OQRApMA1J55m",
        "outputId": "5c7484e4-9185-45df-ebcf-2e8a959b2d64"
      },
      "source": [
        "# Prints ten dots\r\n",
        "ten = \".\" * 10\r\n",
        "print(f\"Ten dots: {ten}\")"
      ],
      "execution_count": 30,
      "outputs": [
        {
          "output_type": "stream",
          "text": [
            "Ten dots: ..........\n"
          ],
          "name": "stdout"
        }
      ]
    },
    {
      "cell_type": "code",
      "metadata": {
        "colab": {
          "base_uri": "https://localhost:8080/"
        },
        "id": "Klo7ojItKFgD",
        "outputId": "81bb1ea2-f834-4863-8e1e-c65ec2cf7515"
      },
      "source": [
        "# Replacing a string with another string\r\n",
        "word = \"Hello World\"\r\n",
        "replace = \"Bye\"\r\n",
        "input = \"Hello\"\r\n",
        "after_replace = word.replace(input, replace)\r\n",
        "print(f\"String ater replacement: {after_replace}\")"
      ],
      "execution_count": 31,
      "outputs": [
        {
          "output_type": "stream",
          "text": [
            "String ater replacement: Bye World\n"
          ],
          "name": "stdout"
        }
      ]
    },
    {
      "cell_type": "code",
      "metadata": {
        "colab": {
          "base_uri": "https://localhost:8080/"
        },
        "id": "0A4AUprQKvb-",
        "outputId": "b15f0c71-c34b-4437-ab5b-48596718798b"
      },
      "source": [
        "#removes leading characters\r\n",
        "word = \" xyz \"\r\n",
        "lstrip = word.lstrip()\r\n",
        "print(f\"String ater removal of leading characters:{lstrip}\")"
      ],
      "execution_count": 32,
      "outputs": [
        {
          "output_type": "stream",
          "text": [
            "String ater removal of leading characters:xyz \n"
          ],
          "name": "stdout"
        }
      ]
    },
    {
      "cell_type": "code",
      "metadata": {
        "colab": {
          "base_uri": "https://localhost:8080/"
        },
        "id": "fHUeiKVJK6Sj",
        "outputId": "27c795d4-0f0d-4034-e937-f6ef9c2fa6a1"
      },
      "source": [
        "#removes trailing characters\r\n",
        "word = \" xyz \"\r\n",
        "rstrip = word.rstrip()\r\n",
        "print(f\"String ater removal of trailing characters:{rstrip}\")"
      ],
      "execution_count": 33,
      "outputs": [
        {
          "output_type": "stream",
          "text": [
            "String ater removal of trailing characters: xyz\n"
          ],
          "name": "stdout"
        }
      ]
    },
    {
      "cell_type": "code",
      "metadata": {
        "colab": {
          "base_uri": "https://localhost:8080/"
        },
        "id": "zn5etCdiLVBo",
        "outputId": "aa5c818c-61df-48e2-ef54-b78f04f84d53"
      },
      "source": [
        "# check if all char are alphanumeric\r\n",
        "word = \"Hello World\"\r\n",
        "check = word.isalnum()\r\n",
        "print(f\"All char are alphanumeric?:{check}\")"
      ],
      "execution_count": 34,
      "outputs": [
        {
          "output_type": "stream",
          "text": [
            "All char are alphanumeric?:False\n"
          ],
          "name": "stdout"
        }
      ]
    },
    {
      "cell_type": "code",
      "metadata": {
        "colab": {
          "base_uri": "https://localhost:8080/"
        },
        "id": "E1bIjoVLLjRv",
        "outputId": "dc28456c-fb5a-452e-9410-d2df3f39d395"
      },
      "source": [
        "# check if all char in the string are alphabetic\r\n",
        "word = \"Hello World\"\r\n",
        "check = word.isalpha()\r\n",
        "print(f\"All char are alphabetic?:{check}\")"
      ],
      "execution_count": 35,
      "outputs": [
        {
          "output_type": "stream",
          "text": [
            "All char are alphabetic?:False\n"
          ],
          "name": "stdout"
        }
      ]
    },
    {
      "cell_type": "code",
      "metadata": {
        "colab": {
          "base_uri": "https://localhost:8080/"
        },
        "id": "C0rmcrJALxAv",
        "outputId": "b90393ea-3e46-4f1f-97e8-2f318e1f819c"
      },
      "source": [
        "# test if string contains digits\r\n",
        "word = \"Hello World\"\r\n",
        "check = word.isdigit()\r\n",
        "print(f\"String contains digits?:{check}\")"
      ],
      "execution_count": 36,
      "outputs": [
        {
          "output_type": "stream",
          "text": [
            "String contains digits?:False\n"
          ],
          "name": "stdout"
        }
      ]
    },
    {
      "cell_type": "code",
      "metadata": {
        "colab": {
          "base_uri": "https://localhost:8080/"
        },
        "id": "OlrWUF5bMANg",
        "outputId": "ac466910-ee76-4164-a331-02feaa3928bb"
      },
      "source": [
        "# Test if string contains upper case\r\n",
        "word = \"Hello World\"\r\n",
        "check = word.isupper()\r\n",
        "print(f\"String contains upper case?:{check}\")"
      ],
      "execution_count": 37,
      "outputs": [
        {
          "output_type": "stream",
          "text": [
            "String contains upper case?:False\n"
          ],
          "name": "stdout"
        }
      ]
    },
    {
      "cell_type": "code",
      "metadata": {
        "colab": {
          "base_uri": "https://localhost:8080/"
        },
        "id": "ST-NkE1hMPoS",
        "outputId": "eee6ce5d-5828-4a66-8f8c-fca7a9299d2e"
      },
      "source": [
        "# Test if string starts with H\r\n",
        "word = \"Hello World\"\r\n",
        "check = word.startswith('H')\r\n",
        "print(f\"String starts with H?:{check}\")"
      ],
      "execution_count": 38,
      "outputs": [
        {
          "output_type": "stream",
          "text": [
            "String starts with H?:True\n"
          ],
          "name": "stdout"
        }
      ]
    },
    {
      "cell_type": "code",
      "metadata": {
        "colab": {
          "base_uri": "https://localhost:8080/"
        },
        "id": "9pSfWoV4T50A",
        "outputId": "670e28cf-9f71-4d23-cf15-288d8a314943"
      },
      "source": [
        "# Returns an integer value for the given character\r\n",
        "str = \"A\"\r\n",
        "val = ord(str)\r\n",
        "print(f\"Integer value for the given character?:{val}\")"
      ],
      "execution_count": 39,
      "outputs": [
        {
          "output_type": "stream",
          "text": [
            "Integer value for the given character?:65\n"
          ],
          "name": "stdout"
        }
      ]
    },
    {
      "cell_type": "code",
      "metadata": {
        "colab": {
          "base_uri": "https://localhost:8080/"
        },
        "id": "0YZ0JETqXXVy",
        "outputId": "37912a74-4bf6-48a5-86e3-ba60dfad88b7"
      },
      "source": [
        "#  Fibonacci series up to 100\r\n",
        "n = 100\r\n",
        "result = []\r\n",
        "a, b = 0 , 1\r\n",
        "while b < n:\r\n",
        "  result. append( b)\r\n",
        "  a, b = b, a + b\r\n",
        "final = result\r\n",
        "print(f\"Fibonacci series up to 100:{final}\")"
      ],
      "execution_count": 40,
      "outputs": [
        {
          "output_type": "stream",
          "text": [
            "Fibonacci series up to 100:[1, 1, 2, 3, 5, 8, 13, 21, 34, 55, 89]\n"
          ],
          "name": "stdout"
        }
      ]
    },
    {
      "cell_type": "code",
      "metadata": {
        "colab": {
          "base_uri": "https://localhost:8080/"
        },
        "id": "oSo4tEWVXsuC",
        "outputId": "ead99604-1d30-4451-81f5-22c1262dd2a7"
      },
      "source": [
        "# Counting total Digits in a string\r\n",
        "str1 = \"abc4234AFde\"\r\n",
        "digitCount = 0\r\n",
        "for i in range(0,len(str1)):\r\n",
        "  char = str1[i]\r\n",
        "  if(char.isdigit()):\r\n",
        "    digitCount += 1\r\n",
        "print('Number of digits: ',digitCount)"
      ],
      "execution_count": 41,
      "outputs": [
        {
          "output_type": "stream",
          "text": [
            "Number of digits:  4\n"
          ],
          "name": "stdout"
        }
      ]
    },
    {
      "cell_type": "code",
      "metadata": {
        "colab": {
          "base_uri": "https://localhost:8080/"
        },
        "id": "ld8EUdoIb3-C",
        "outputId": "724a7200-5c43-494d-a031-cf666fbdd0aa"
      },
      "source": [
        "# Counting total alphanumeric in a string\r\n",
        "str1 = \"abc4234AFde\"\r\n",
        "digitCount = 0\r\n",
        "for i in range(0,len(str1)):\r\n",
        "  char = str1[i]\r\n",
        "  if(char.isalpha()):\r\n",
        "    digitCount += 1\r\n",
        "print('Number of alphanumeric: ',digitCount)"
      ],
      "execution_count": 42,
      "outputs": [
        {
          "output_type": "stream",
          "text": [
            "Number of alphanumeric:  7\n"
          ],
          "name": "stdout"
        }
      ]
    },
    {
      "cell_type": "code",
      "metadata": {
        "colab": {
          "base_uri": "https://localhost:8080/"
        },
        "id": "dL4vwpfMcG0N",
        "outputId": "beb09eea-0269-4dc6-9c44-b86eefa006cf"
      },
      "source": [
        "# Counting total Upper Case in a string\r\n",
        "str1 = \"abc4234AFde\"\r\n",
        "digitCount = 0\r\n",
        "for i in range(0,len(str1)):\r\n",
        "  char = str1[i]\r\n",
        "  if(char.upper()):\r\n",
        "    digitCount += 1\r\n",
        "print('Number total Upper Case: ',digitCount)"
      ],
      "execution_count": 43,
      "outputs": [
        {
          "output_type": "stream",
          "text": [
            "Number total Upper Case:  11\n"
          ],
          "name": "stdout"
        }
      ]
    },
    {
      "cell_type": "code",
      "metadata": {
        "colab": {
          "base_uri": "https://localhost:8080/"
        },
        "id": "zPZPcW8GcRAx",
        "outputId": "776b781f-ac82-41df-d048-6bc4576e9acd"
      },
      "source": [
        "# Counting total lower Case in a string\r\n",
        "str1 = \"abc4234AFdeaa\"\r\n",
        "digitCount = 0\r\n",
        "for i in range(0,len(str1)):\r\n",
        "  char = str1[i]\r\n",
        "  if(char.lower()):\r\n",
        "    digitCount += 1\r\n",
        "print('Number total lower Case: ',digitCount)"
      ],
      "execution_count": 44,
      "outputs": [
        {
          "output_type": "stream",
          "text": [
            "Number total lower Case:  13\n"
          ],
          "name": "stdout"
        }
      ]
    },
    {
      "cell_type": "code",
      "metadata": {
        "colab": {
          "base_uri": "https://localhost:8080/"
        },
        "id": "Jssit9ntZWhr",
        "outputId": "ea8be1cb-09c1-4864-a36e-b4fe1a9b3b69"
      },
      "source": [
        "# Bubble sort in python\r\n",
        "\r\n",
        "list1 = [1, 5, 3, 4]\r\n",
        "\r\n",
        "for i in range(len(list1)-1):\r\n",
        "  for j in range(i+1,len(list1)):\r\n",
        "    if(list1[i] > list1[j]):\r\n",
        "      temp = list1[i]\r\n",
        "      list1[i] = list1[j]\r\n",
        "      list1[j] = temp\r\n",
        "print(\"Bubble Sorted list: \",list1)"
      ],
      "execution_count": 45,
      "outputs": [
        {
          "output_type": "stream",
          "text": [
            "Bubble Sorted list:  [1, 3, 4, 5]\n"
          ],
          "name": "stdout"
        }
      ]
    },
    {
      "cell_type": "code",
      "metadata": {
        "colab": {
          "base_uri": "https://localhost:8080/"
        },
        "id": "7ukjrt1sdG_5",
        "outputId": "88697687-60bf-4b89-f573-4b5071e4119b"
      },
      "source": [
        "# Compute the product of every pair of numbers from two lists\r\n",
        "list1 = [1, 2, 3]\r\n",
        "list2 = [5, 6, 7] \r\n",
        "final = [a*b for a in list1 for b in list2]\r\n",
        "print(f\"Product of every pair of numbers from two lists:{final}\")"
      ],
      "execution_count": 46,
      "outputs": [
        {
          "output_type": "stream",
          "text": [
            "Product of every pair of numbers from two lists:[5, 6, 7, 10, 12, 14, 15, 18, 21]\n"
          ],
          "name": "stdout"
        }
      ]
    },
    {
      "cell_type": "code",
      "metadata": {
        "colab": {
          "base_uri": "https://localhost:8080/"
        },
        "id": "f0OKt9uBddrL",
        "outputId": "8c00eb4a-69c8-4384-d684-e7458b9254e9"
      },
      "source": [
        "# Calculate the sum of every pair of numbers from two lists\r\n",
        "list1 = [1, 2, 3]\r\n",
        "list2 = [5, 6, 7] \r\n",
        "final = [a+b for a in list1 for b in list2]\r\n",
        "print(f\"sum of every pair of numbers from two lists:{final}\")"
      ],
      "execution_count": 47,
      "outputs": [
        {
          "output_type": "stream",
          "text": [
            "sum of every pair of numbers from two lists:[6, 7, 8, 7, 8, 9, 8, 9, 10]\n"
          ],
          "name": "stdout"
        }
      ]
    },
    {
      "cell_type": "code",
      "metadata": {
        "colab": {
          "base_uri": "https://localhost:8080/"
        },
        "id": "EesriNnAd5Wh",
        "outputId": "56cf3129-234d-4b6d-b4e9-684d125088e1"
      },
      "source": [
        "# Calculate the pair-wise product of two lists\r\n",
        "\r\n",
        "list1 = [1, 2, 3]\r\n",
        "list2 = [5, 6, 7] \r\n",
        "final = [list1[i]*list2[i] for i in range(len(list1))]\r\n",
        "print(f\"pair-wise product of two lists:{final}\")"
      ],
      "execution_count": 48,
      "outputs": [
        {
          "output_type": "stream",
          "text": [
            "pair-wise product of two lists:[5, 12, 21]\n"
          ],
          "name": "stdout"
        }
      ]
    },
    {
      "cell_type": "code",
      "metadata": {
        "colab": {
          "base_uri": "https://localhost:8080/"
        },
        "id": "60mBYdrceI-R",
        "outputId": "bf8bc8b9-ea9e-4296-96eb-cb638a2bf3b2"
      },
      "source": [
        "# Remove the last element from the stack\r\n",
        "s = [1,2,3,4]\r\n",
        "print(f\"last element from the stack:{s.pop()}\")"
      ],
      "execution_count": 49,
      "outputs": [
        {
          "output_type": "stream",
          "text": [
            "last element from the stack:4\n"
          ],
          "name": "stdout"
        }
      ]
    },
    {
      "cell_type": "code",
      "metadata": {
        "colab": {
          "base_uri": "https://localhost:8080/"
        },
        "id": "TQvDjj97eVUM",
        "outputId": "e4c96c2c-e5b2-44fa-f4e1-42fe40498624"
      },
      "source": [
        "# Insert a number at the beginning of the queue\r\n",
        "q = [1,2,3,4]\r\n",
        "q.insert(0,5)\r\n",
        "print(f\"Revised List:{q}\")"
      ],
      "execution_count": 50,
      "outputs": [
        {
          "output_type": "stream",
          "text": [
            "Revised List:[5, 1, 2, 3, 4]\n"
          ],
          "name": "stdout"
        }
      ]
    },
    {
      "cell_type": "code",
      "metadata": {
        "colab": {
          "base_uri": "https://localhost:8080/"
        },
        "id": "YWKwdnufeppZ",
        "outputId": "e06e8824-4824-4281-a5e5-d42e5f2649ff"
      },
      "source": [
        "# Addition of two vector\r\n",
        "v1 = [1,2,3]\r\n",
        "v2 = [1,2,3]\r\n",
        "s1 = [0,0,0]\r\n",
        "\r\n",
        "for i in range(len(v1)):\r\n",
        "  s1[i] = v1[i] + v2[i]\r\n",
        "print(f\"New Vector:{s1}\")"
      ],
      "execution_count": 51,
      "outputs": [
        {
          "output_type": "stream",
          "text": [
            "New Vector:[2, 4, 6]\n"
          ],
          "name": "stdout"
        }
      ]
    },
    {
      "cell_type": "code",
      "metadata": {
        "id": "O7PNZoYFe-Vy"
      },
      "source": [
        "# # Merge of two dictionary\r\n",
        "# x = {\"key1\": \"value1 from x\", \"key2\": \"value2 from x\"}\r\n",
        "# y = {\"key2\": \"value2 from y\", \"key3\": \"value3 from y\"}\r\n",
        "# z = x | y\r\n",
        "# print(f\"Merged Dictionary:{z}\")"
      ],
      "execution_count": 52,
      "outputs": []
    },
    {
      "cell_type": "code",
      "metadata": {
        "id": "ZCdij3dijcnI",
        "colab": {
          "base_uri": "https://localhost:8080/"
        },
        "outputId": "0c616a8d-9528-4b41-e9b6-f6262c27993d"
      },
      "source": [
        "# Replace negative prices with 0 and leave the positive values unchanged in a list\r\n",
        "\r\n",
        "original_prices = [1.25, -9.45, 10.22, 3.78, -5.92, 1.16]\r\n",
        "prices = [i if i > 0 else 0 for i in original_prices]\r\n",
        "print(f\"Final List:{prices}\")"
      ],
      "execution_count": 53,
      "outputs": [
        {
          "output_type": "stream",
          "text": [
            "Final List:[1.25, 0, 10.22, 3.78, 0, 1.16]\n"
          ],
          "name": "stdout"
        }
      ]
    },
    {
      "cell_type": "code",
      "metadata": {
        "colab": {
          "base_uri": "https://localhost:8080/"
        },
        "id": "E_OoSpw83U3S",
        "outputId": "6ff1c214-45cf-4264-9bf5-91c5482f83b8"
      },
      "source": [
        "# Convert dictionary to JSON\r\n",
        "\r\n",
        "import json\r\n",
        "person_dict = {'name': 'Bob',\r\n",
        "'age': 12,\r\n",
        "'children': None\r\n",
        "}\r\n",
        "person_json = json.dumps(person_dict)\r\n",
        "print(person_json)"
      ],
      "execution_count": 54,
      "outputs": [
        {
          "output_type": "stream",
          "text": [
            "{\"name\": \"Bob\", \"age\": 12, \"children\": null}\n"
          ],
          "name": "stdout"
        }
      ]
    },
    {
      "cell_type": "code",
      "metadata": {
        "id": "fHv5WL2Kn4gx"
      },
      "source": [
        "# Writing JSON to a file\r\n",
        "\r\n",
        "import json\r\n",
        "person_dict = {\"name\": \"Bob\",\r\n",
        "\"languages\": [\"English\", \"Fench\"],\r\n",
        "\"married\": True,\r\n",
        "\"age\": 32\r\n",
        "}\r\n",
        "with open('person.txt', 'w') as json_file:\r\n",
        "  json.dump(person_dict, json_file)"
      ],
      "execution_count": 55,
      "outputs": []
    },
    {
      "cell_type": "code",
      "metadata": {
        "id": "0_VrDzR5n5f4",
        "colab": {
          "base_uri": "https://localhost:8080/"
        },
        "outputId": "c4706709-8325-41b6-9b20-fd55cf94bb86"
      },
      "source": [
        "# Pretty print JSON\r\n",
        "\r\n",
        "import json\r\n",
        "person_string = '{\"name\": \"Bob\", \"languages\": \"English\", \"numbers\": [2, 1.6, null]}'\r\n",
        "person_dict = json.loads(person_string)\r\n",
        "print(json.dumps(person_dict, indent = 4, sort_keys=True))"
      ],
      "execution_count": 56,
      "outputs": [
        {
          "output_type": "stream",
          "text": [
            "{\n",
            "    \"languages\": \"English\",\n",
            "    \"name\": \"Bob\",\n",
            "    \"numbers\": [\n",
            "        2,\n",
            "        1.6,\n",
            "        null\n",
            "    ]\n",
            "}\n"
          ],
          "name": "stdout"
        }
      ]
    },
    {
      "cell_type": "code",
      "metadata": {
        "id": "K_XQQ0w94_xq"
      },
      "source": [
        "# Converting JSON to CSV \r\n",
        "import json\r\n",
        "import csv\r\n",
        "\r\n",
        "employee_data = '{\"employee_details\":[{\"employee_name\": \"James\", \"email\": \"james@gmail.com\", \"job_profile\": \"Sr. Developer\"},{\"employee_name\": \"Smith\", \"email\": \"Smith@gmail.com\", \"job_profile\": \"Project Lead\"}]}'\r\n",
        "\r\n",
        "employee_parsed = json.loads(employee_data)\r\n",
        "emp_data = employee_parsed['employee_details']\r\n",
        "employ_data = open('/tmp/EmployData.csv', 'w')\r\n",
        "csvwriter = csv.writer(employ_data)\r\n",
        "for emp in emp_data:\r\n",
        "  if count == 0:\r\n",
        "    header = emp.keys()\r\n",
        "    csvwriter.writerow(header)\r\n",
        "    count += 1\r\n",
        "    csvwriter.writerow(emp.values())\r\n",
        "employ_data.close()"
      ],
      "execution_count": 57,
      "outputs": []
    },
    {
      "cell_type": "code",
      "metadata": {
        "colab": {
          "base_uri": "https://localhost:8080/"
        },
        "id": "7Xf0dksi8SZx",
        "outputId": "0039952b-fcaa-4227-de69-9046006677f0"
      },
      "source": [
        "# Check if the key exists or not in JSON\r\n",
        "\r\n",
        "import json\r\n",
        "\r\n",
        "studentJson =\"\"\"{\r\n",
        "   \"id\": 1,\r\n",
        "   \"name\": \"john wick\",\r\n",
        "   \"class\": 8,\r\n",
        "   \"percentage\": 75,\r\n",
        "   \"email\": \"jhon@pynative.com\"\r\n",
        "}\"\"\"\r\n",
        "\r\n",
        "print(\"Checking if percentage key exists in JSON\")\r\n",
        "student = json.loads(studentJson)\r\n",
        "if \"percentage\" in student:\r\n",
        "    print(\"Key exist in JSON data\")\r\n",
        "    print(student[\"name\"], \"marks is: \", student[\"percentage\"])\r\n",
        "else:\r\n",
        "    print(\"Key doesn't exist in JSON data\")"
      ],
      "execution_count": 58,
      "outputs": [
        {
          "output_type": "stream",
          "text": [
            "Checking if percentage key exists in JSON\n",
            "Key exist in JSON data\n",
            "john wick marks is:  75\n"
          ],
          "name": "stdout"
        }
      ]
    },
    {
      "cell_type": "code",
      "metadata": {
        "colab": {
          "base_uri": "https://localhost:8080/"
        },
        "id": "9s2go-2s8dXy",
        "outputId": "2d1cf492-e0fb-4070-ee57-6ba36be64be3"
      },
      "source": [
        "# Check if there is a value for a key in JSON\r\n",
        "import json\r\n",
        "\r\n",
        "studentJson =\"\"\"{\r\n",
        "   \"id\": 1,\r\n",
        "   \"name\": \"john wick\",\r\n",
        "   \"class\": null,\r\n",
        "   \"percentage\": 75,\r\n",
        "   \"email\": \"jhon@pynative.com\"\r\n",
        "}\"\"\"\r\n",
        "student = json.loads(studentJson)\r\n",
        "if not (student.get('email') is None):\r\n",
        "     print(\"value is present for given JSON key\")\r\n",
        "     print(student.get('email'))\r\n",
        "else:\r\n",
        "    print(\"value is not present for given JSON key\")"
      ],
      "execution_count": 59,
      "outputs": [
        {
          "output_type": "stream",
          "text": [
            "value is present for given JSON key\n",
            "jhon@pynative.com\n"
          ],
          "name": "stdout"
        }
      ]
    },
    {
      "cell_type": "code",
      "metadata": {
        "colab": {
          "base_uri": "https://localhost:8080/"
        },
        "id": "YAzlHYs58wTZ",
        "outputId": "96001076-cbdb-495a-e787-c84fc898e6c7"
      },
      "source": [
        "# Sort JSON keys in Python and write it into a file\r\n",
        "import json\r\n",
        "sampleJson = {\"id\" : 1, \"name\" : \"value2\", \"age\" : 29}\r\n",
        "\r\n",
        "with open(\"sampleJson.json\", \"w\") as write_file:\r\n",
        "    json.dump(sampleJson, write_file, indent=4, sort_keys=True)\r\n",
        "print(\"Done writing JSON data into a file\")"
      ],
      "execution_count": 60,
      "outputs": [
        {
          "output_type": "stream",
          "text": [
            "Done writing JSON data into a file\n"
          ],
          "name": "stdout"
        }
      ]
    },
    {
      "cell_type": "code",
      "metadata": {
        "colab": {
          "base_uri": "https://localhost:8080/"
        },
        "id": "byDcvp2G894Z",
        "outputId": "1d639655-2823-4428-a62f-310918b09d5f"
      },
      "source": [
        "#  Given a Python list. Turn every item of a list into its square\r\n",
        "aList = [1, 2, 3, 4, 5, 6, 7]\r\n",
        "aList =  [x * x for x in aList]\r\n",
        "print(aList)"
      ],
      "execution_count": 61,
      "outputs": [
        {
          "output_type": "stream",
          "text": [
            "[1, 4, 9, 16, 25, 36, 49]\n"
          ],
          "name": "stdout"
        }
      ]
    },
    {
      "cell_type": "code",
      "metadata": {
        "colab": {
          "base_uri": "https://localhost:8080/"
        },
        "id": "26EQZnN_9ICg",
        "outputId": "d0623a16-1eab-4f91-e21d-c121b22246ca"
      },
      "source": [
        "# Remove empty strings from the list of strings\r\n",
        "\r\n",
        "list1 = [\"Mike\", \"\", \"Emma\", \"Kelly\", \"\", \"Brad\"]\r\n",
        "resList = [i for i in (filter(None, list1))]\r\n",
        "print(resList)"
      ],
      "execution_count": 62,
      "outputs": [
        {
          "output_type": "stream",
          "text": [
            "['Mike', 'Emma', 'Kelly', 'Brad']\n"
          ],
          "name": "stdout"
        }
      ]
    },
    {
      "cell_type": "code",
      "metadata": {
        "colab": {
          "base_uri": "https://localhost:8080/"
        },
        "id": "2rhx9-Fg-ClA",
        "outputId": "6e5f042a-9fd3-4815-bdfb-d120eff8a1ab"
      },
      "source": [
        "# Write a program which will achieve given a Python list, remove all occurrence of an input from the list\r\n",
        "\r\n",
        "list1 = [5, 20, 15, 20, 25, 50, 20]\r\n",
        "\r\n",
        "def removeValue(sampleList, val):\r\n",
        "   return [value for value in sampleList if value != val]\r\n",
        "   \r\n",
        "resList = removeValue(list1, 20)\r\n",
        "print(resList)"
      ],
      "execution_count": 63,
      "outputs": [
        {
          "output_type": "stream",
          "text": [
            "[5, 15, 25, 50]\n"
          ],
          "name": "stdout"
        }
      ]
    },
    {
      "cell_type": "code",
      "metadata": {
        "colab": {
          "base_uri": "https://localhost:8080/"
        },
        "id": "s2UWe94m-URa",
        "outputId": "01dc9f10-3325-49a4-c6f1-a3304c02c02a"
      },
      "source": [
        "#  Generate 3 random integers between 100 and 999 which is divisible by 5\r\n",
        "import random\r\n",
        "\r\n",
        "print(\"Generating 3 random integer number between 100 and 999 divisible by 5\")\r\n",
        "for num in range(3):\r\n",
        "    print(random.randrange(100, 999, 5), end=', ')"
      ],
      "execution_count": 64,
      "outputs": [
        {
          "output_type": "stream",
          "text": [
            "Generating 3 random integer number between 100 and 999 divisible by 5\n",
            "400, 245, 685, "
          ],
          "name": "stdout"
        }
      ]
    },
    {
      "cell_type": "code",
      "metadata": {
        "colab": {
          "base_uri": "https://localhost:8080/"
        },
        "id": "tvyNQgz4-bno",
        "outputId": "1890d423-e9f4-45ca-da4c-5de555fab15f"
      },
      "source": [
        "# Pick a random character from a given String\r\n",
        "import random\r\n",
        "\r\n",
        "name = 'pynative'\r\n",
        "char = random.choice(name)\r\n",
        "print(\"random char is \", char)"
      ],
      "execution_count": 65,
      "outputs": [
        {
          "output_type": "stream",
          "text": [
            "random char is  y\n"
          ],
          "name": "stdout"
        }
      ]
    },
    {
      "cell_type": "code",
      "metadata": {
        "colab": {
          "base_uri": "https://localhost:8080/"
        },
        "id": "WAecM1HB-hN4",
        "outputId": "1cb62fd9-9b6d-43cd-f5f2-0fdb3d419a43"
      },
      "source": [
        "# Generate  random String of length 5\r\n",
        "import random\r\n",
        "import string\r\n",
        "\r\n",
        "def randomString(stringLength):\r\n",
        "    \"\"\"Generate a random string of 5 charcters\"\"\"\r\n",
        "    letters = string.ascii_letters\r\n",
        "    return ''.join(random.choice(letters) for i in range(stringLength))\r\n",
        "\r\n",
        "print (\"Random String is \", randomString(5) )"
      ],
      "execution_count": 66,
      "outputs": [
        {
          "output_type": "stream",
          "text": [
            "Random String is  kuXhS\n"
          ],
          "name": "stdout"
        }
      ]
    },
    {
      "cell_type": "code",
      "metadata": {
        "colab": {
          "base_uri": "https://localhost:8080/"
        },
        "id": "2ibJq1fD-saP",
        "outputId": "b582800b-2873-4bca-b889-7a74e64b6f46"
      },
      "source": [
        "# Generate a random date between given start and end dates\r\n",
        "import random\r\n",
        "import time\r\n",
        "\r\n",
        "def getRandomDate(startDate, endDate ):\r\n",
        "    print(\"Printing random date between\", startDate, \" and \", endDate)\r\n",
        "    randomGenerator = random.random()\r\n",
        "    dateFormat = '%m/%d/%Y'\r\n",
        "\r\n",
        "    startTime = time.mktime(time.strptime(startDate, dateFormat))\r\n",
        "    endTime = time.mktime(time.strptime(endDate, dateFormat))\r\n",
        "\r\n",
        "    randomTime = startTime + randomGenerator * (endTime - startTime)\r\n",
        "    randomDate = time.strftime(dateFormat, time.localtime(randomTime))\r\n",
        "    return randomDate\r\n",
        "\r\n",
        "print (\"Random Date = \", getRandomDate(\"1/1/2016\", \"12/12/2018\"))"
      ],
      "execution_count": 67,
      "outputs": [
        {
          "output_type": "stream",
          "text": [
            "Printing random date between 1/1/2016  and  12/12/2018\n",
            "Random Date =  05/31/2018\n"
          ],
          "name": "stdout"
        }
      ]
    },
    {
      "cell_type": "code",
      "metadata": {
        "colab": {
          "base_uri": "https://localhost:8080/"
        },
        "id": "_3DfaOER-2qj",
        "outputId": "b367f012-44ec-4856-fe3c-bcdea0007f9b"
      },
      "source": [
        "# Write a program which will create a new string by appending s2 in the middle of s1 given two strings, s1 and s2\r\n",
        "\r\n",
        "def appendMiddle(s1, s2):\r\n",
        "  middleIndex = int(len(s1) /2)\r\n",
        "  middleThree = s1[:middleIndex:]+ s2 +s1[middleIndex:]\r\n",
        "  print(\"After appending new string in middle\", middleThree)\r\n",
        "  \r\n",
        "appendMiddle(\"Ault\", \"Kelly\")"
      ],
      "execution_count": 68,
      "outputs": [
        {
          "output_type": "stream",
          "text": [
            "After appending new string in middle AuKellylt\n"
          ],
          "name": "stdout"
        }
      ]
    },
    {
      "cell_type": "code",
      "metadata": {
        "colab": {
          "base_uri": "https://localhost:8080/"
        },
        "id": "jnFcueJ7_Fhb",
        "outputId": "d23f919f-63ab-4dfe-c662-82922db1562c"
      },
      "source": [
        "# Arrange string characters such that lowercase letters should come first\r\n",
        "\r\n",
        "str1 = \"PyNaTive\"\r\n",
        "lower = []\r\n",
        "upper = []\r\n",
        "for char in str1:\r\n",
        "    if char.islower():\r\n",
        "        lower.append(char)\r\n",
        "    else:\r\n",
        "        upper.append(char)\r\n",
        "sorted_string = ''.join(lower + upper)\r\n",
        "print(sorted_string)"
      ],
      "execution_count": 69,
      "outputs": [
        {
          "output_type": "stream",
          "text": [
            "yaivePNT\n"
          ],
          "name": "stdout"
        }
      ]
    },
    {
      "cell_type": "code",
      "metadata": {
        "colab": {
          "base_uri": "https://localhost:8080/"
        },
        "id": "VpqiqHwS_d4P",
        "outputId": "f46b37bd-d1c1-419a-e8ed-c5ac6a02b16c"
      },
      "source": [
        "# Given a string, return the sum and average of the digits that appear in the string, ignoring all other characters\r\n",
        "import re\r\n",
        "\r\n",
        "inputStr = \"English = 78 Science = 83 Math = 68 History = 65\"\r\n",
        "markList = [int(num) for num in re.findall(r'\\b\\d+\\b', inputStr)]\r\n",
        "totalMarks = 0\r\n",
        "for mark in markList:\r\n",
        "  totalMarks+=mark\r\n",
        "\r\n",
        "percentage = totalMarks/len(markList)  \r\n",
        "print(\"Total Marks is:\", totalMarks, \"Percentage is \", percentage)"
      ],
      "execution_count": 70,
      "outputs": [
        {
          "output_type": "stream",
          "text": [
            "Total Marks is: 294 Percentage is  73.5\n"
          ],
          "name": "stdout"
        }
      ]
    },
    {
      "cell_type": "code",
      "metadata": {
        "colab": {
          "base_uri": "https://localhost:8080/"
        },
        "id": "tkINVSrB_ktK",
        "outputId": "bf7424be-4a0c-49fa-b182-00da1d5cbd76"
      },
      "source": [
        "# Given an input string, count occurrences of all characters within a string\r\n",
        "str1 = \"Apple\"\r\n",
        "countDict = dict()\r\n",
        "for char in str1:\r\n",
        "  count = str1.count(char)\r\n",
        "  countDict[char]=count\r\n",
        "print(countDict)"
      ],
      "execution_count": 71,
      "outputs": [
        {
          "output_type": "stream",
          "text": [
            "{'A': 1, 'p': 2, 'l': 1, 'e': 1}\n"
          ],
          "name": "stdout"
        }
      ]
    },
    {
      "cell_type": "code",
      "metadata": {
        "colab": {
          "base_uri": "https://localhost:8080/"
        },
        "id": "ZmtxGzMF_qXt",
        "outputId": "6eef598e-f985-47c8-8187-7f1c6c27020b"
      },
      "source": [
        "# Reverse a given string\r\n",
        "str1 = \"PYnative\"\r\n",
        "print(\"Original String is:\", str1)\r\n",
        "\r\n",
        "str1 = str1[::-1]\r\n",
        "print(\"Reversed String is:\", str1)"
      ],
      "execution_count": 72,
      "outputs": [
        {
          "output_type": "stream",
          "text": [
            "Original String is: PYnative\n",
            "Reversed String is: evitanYP\n"
          ],
          "name": "stdout"
        }
      ]
    },
    {
      "cell_type": "code",
      "metadata": {
        "colab": {
          "base_uri": "https://localhost:8080/"
        },
        "id": "nn055r2I_zBm",
        "outputId": "a39323fe-efd7-423d-d149-2d0e6a86acfc"
      },
      "source": [
        "# Remove special symbols/Punctuation from a given string\r\n",
        "import string\r\n",
        "\r\n",
        "str1 = \"/*Jon is @developer & musician\"\r\n",
        "new_str = str1.translate(str.maketrans('', '', string.punctuation))\r\n",
        "print(\"New string is \", new_str)"
      ],
      "execution_count": 73,
      "outputs": [
        {
          "output_type": "stream",
          "text": [
            "New string is  Jon is developer  musician\n"
          ],
          "name": "stdout"
        }
      ]
    },
    {
      "cell_type": "code",
      "metadata": {
        "colab": {
          "base_uri": "https://localhost:8080/"
        },
        "id": "iTu0KvOm_-5z",
        "outputId": "77c2335c-21d4-462c-af66-6f28df58aa01"
      },
      "source": [
        "# Removal all the characters other than integers from string\r\n",
        "\r\n",
        "str1 = 'I am 25 years and 10 months old'\r\n",
        "res = \"\".join([item for item in str1 if item.isdigit()])\r\n",
        "print(res)"
      ],
      "execution_count": 74,
      "outputs": [
        {
          "output_type": "stream",
          "text": [
            "2510\n"
          ],
          "name": "stdout"
        }
      ]
    },
    {
      "cell_type": "code",
      "metadata": {
        "colab": {
          "base_uri": "https://localhost:8080/"
        },
        "id": "LQmf7VtBAI6k",
        "outputId": "73f28d90-2fcb-4902-cba4-ea74f3da0eb0"
      },
      "source": [
        "# From given string replace each punctuation with #\r\n",
        "from string import punctuation\r\n",
        "\r\n",
        "str1 = '/*Jon is @developer & musician!!'\r\n",
        "\r\n",
        "replace_char = '#'\r\n",
        "for char in punctuation:\r\n",
        "    str1 = str1.replace(char, replace_char)\r\n",
        "\r\n",
        "print(\"The strings after replacement : \", str1)\r\n"
      ],
      "execution_count": 75,
      "outputs": [
        {
          "output_type": "stream",
          "text": [
            "The strings after replacement :  ##Jon is #developer # musician##\n"
          ],
          "name": "stdout"
        }
      ]
    },
    {
      "cell_type": "code",
      "metadata": {
        "colab": {
          "base_uri": "https://localhost:8080/"
        },
        "id": "ExoonkswAni8",
        "outputId": "490a70dc-b886-4eea-86ab-7a1f8261ea45"
      },
      "source": [
        "# Given a list iterate it and count the occurrence of each element and create a dictionary to show the count of each elemen\r\n",
        "\r\n",
        "sampleList = [11, 45, 8, 11, 23, 45, 23, 45, 89]\r\n",
        "\r\n",
        "countDict = dict()\r\n",
        "for item in sampleList:\r\n",
        "  if(item in countDict):\r\n",
        "    countDict[item] += 1\r\n",
        "  else:\r\n",
        "    countDict[item] = 1\r\n",
        "  \r\n",
        "print(\"Printing count of each item  \",countDict)"
      ],
      "execution_count": 76,
      "outputs": [
        {
          "output_type": "stream",
          "text": [
            "Printing count of each item   {11: 2, 45: 3, 8: 1, 23: 2, 89: 1}\n"
          ],
          "name": "stdout"
        }
      ]
    },
    {
      "cell_type": "code",
      "metadata": {
        "colab": {
          "base_uri": "https://localhost:8080/"
        },
        "id": "D-6xalkRBrmc",
        "outputId": "c6f86525-1c9d-4eaf-cce9-2a3ac8806a91"
      },
      "source": [
        "# Given a two list of equal size create a set such that it shows the element from both lists in the pair\r\n",
        "\r\n",
        "firstList = [2, 3, 4, 5, 6, 7, 8]\r\n",
        "secondList = [4, 9, 16, 25, 36, 49, 64]\r\n",
        "result = zip(firstList, secondList)\r\n",
        "resultSet = set(result)\r\n",
        "print(resultSet)"
      ],
      "execution_count": 77,
      "outputs": [
        {
          "output_type": "stream",
          "text": [
            "{(6, 36), (8, 64), (4, 16), (5, 25), (3, 9), (7, 49), (2, 4)}\n"
          ],
          "name": "stdout"
        }
      ]
    },
    {
      "cell_type": "code",
      "metadata": {
        "colab": {
          "base_uri": "https://localhost:8080/"
        },
        "id": "mpYxkTTPKeTC",
        "outputId": "d0a26dfd-8071-49ec-e332-c340c144a52d"
      },
      "source": [
        "# Given a two sets find the intersection and remove those elements from the first set\r\n",
        "\r\n",
        "firstSet  = {23, 42, 65, 57, 78, 83, 29}\r\n",
        "secondSet = {57, 83, 29, 67, 73, 43, 48}\r\n",
        "\r\n",
        "intersection = firstSet.intersection(secondSet)\r\n",
        "for item in intersection:\r\n",
        "  firstSet.remove(item)\r\n",
        "print(\"First Set after removing common element \", firstSet)"
      ],
      "execution_count": 78,
      "outputs": [
        {
          "output_type": "stream",
          "text": [
            "First Set after removing common element  {65, 42, 78, 23}\n"
          ],
          "name": "stdout"
        }
      ]
    },
    {
      "cell_type": "code",
      "metadata": {
        "colab": {
          "base_uri": "https://localhost:8080/"
        },
        "id": "QWBAKvSGKrhM",
        "outputId": "2453ba04-9a81-4681-e020-c328e0c424bb"
      },
      "source": [
        "# Given a dictionary get all values from the dictionary and add it in a list but don’t add duplicates\r\n",
        "speed  ={'jan':47, 'feb':52, 'march':47, 'April':44, 'May':52, 'June':53,\r\n",
        "          'july':54, 'Aug':44, 'Sept':54} \r\n",
        "\r\n",
        "speedList = []\r\n",
        "\r\n",
        "for item in speed.values():\r\n",
        "  if item not in speedList:\r\n",
        "    speedList.append(item)\r\n",
        "print(\"unique list\", speedList)"
      ],
      "execution_count": 79,
      "outputs": [
        {
          "output_type": "stream",
          "text": [
            "unique list [47, 52, 44, 53, 54]\n"
          ],
          "name": "stdout"
        }
      ]
    },
    {
      "cell_type": "code",
      "metadata": {
        "colab": {
          "base_uri": "https://localhost:8080/"
        },
        "id": "ornCCtbZLBP0",
        "outputId": "8898235f-f6e5-49ae-d2d5-614d6a20f928"
      },
      "source": [
        "# Convert decimal number to octal\r\n",
        "print('%o,' % (8))"
      ],
      "execution_count": 80,
      "outputs": [
        {
          "output_type": "stream",
          "text": [
            "10,\n"
          ],
          "name": "stdout"
        }
      ]
    },
    {
      "cell_type": "code",
      "metadata": {
        "colab": {
          "base_uri": "https://localhost:8080/"
        },
        "id": "qTg6M-y4LN4J",
        "outputId": "134b8a31-2bd3-4cfe-beb8-4b81d8a6ca87"
      },
      "source": [
        "# Convert string into a datetime object\r\n",
        "\r\n",
        "from datetime import datetime\r\n",
        "date_string = \"Feb 25 2020  4:20PM\"\r\n",
        "datetime_object = datetime.strptime(date_string, '%b %d %Y %I:%M%p')\r\n",
        "print(datetime_object)"
      ],
      "execution_count": 81,
      "outputs": [
        {
          "output_type": "stream",
          "text": [
            "2020-02-25 16:20:00\n"
          ],
          "name": "stdout"
        }
      ]
    },
    {
      "cell_type": "code",
      "metadata": {
        "colab": {
          "base_uri": "https://localhost:8080/"
        },
        "id": "lPM3hzdzLU0t",
        "outputId": "a58f24d9-287a-456e-e15d-dc438894c262"
      },
      "source": [
        "# Subtract a week from a given date\r\n",
        "\r\n",
        "from datetime import datetime, timedelta\r\n",
        "given_date = datetime(2020, 2, 25)\r\n",
        "days_to_subtract = 7\r\n",
        "res_date = given_date - timedelta(days=days_to_subtract)\r\n",
        "print(res_date)"
      ],
      "execution_count": 82,
      "outputs": [
        {
          "output_type": "stream",
          "text": [
            "2020-02-18 00:00:00\n"
          ],
          "name": "stdout"
        }
      ]
    },
    {
      "cell_type": "code",
      "metadata": {
        "colab": {
          "base_uri": "https://localhost:8080/"
        },
        "id": "J5QIXtXxLfKr",
        "outputId": "a1931446-92ec-49fe-a23d-c2ee6ff92c09"
      },
      "source": [
        "# Find the day of week of a given date?\r\n",
        "from datetime import datetime\r\n",
        "given_date = datetime(2020, 7, 26)\r\n",
        "print(given_date.strftime('%A'))"
      ],
      "execution_count": 83,
      "outputs": [
        {
          "output_type": "stream",
          "text": [
            "Sunday\n"
          ],
          "name": "stdout"
        }
      ]
    },
    {
      "cell_type": "code",
      "metadata": {
        "colab": {
          "base_uri": "https://localhost:8080/"
        },
        "id": "1g_XYabuLt2B",
        "outputId": "85b86068-b9fb-4c03-becd-08619577a9a5"
      },
      "source": [
        "#  Add week (7 days) and 12 hours to a given date\r\n",
        "\r\n",
        "from datetime import datetime, timedelta\r\n",
        "given_date = datetime(2020, 3, 22, 10, 00, 00)\r\n",
        "days_to_add = 7\r\n",
        "res_date = given_date + timedelta(days=days_to_add, hours=12)\r\n",
        "print(res_date)"
      ],
      "execution_count": 84,
      "outputs": [
        {
          "output_type": "stream",
          "text": [
            "2020-03-29 22:00:00\n"
          ],
          "name": "stdout"
        }
      ]
    },
    {
      "cell_type": "code",
      "metadata": {
        "colab": {
          "base_uri": "https://localhost:8080/"
        },
        "id": "pxaqppksL381",
        "outputId": "636b573b-355a-415f-8b97-cb00531ce30c"
      },
      "source": [
        "# Calculate number of days between two given dates\r\n",
        "\r\n",
        "from datetime import datetime\r\n",
        "\r\n",
        "date_1 = datetime(2020, 2, 25).date()\r\n",
        "date_2 = datetime(2020, 9, 17).date()\r\n",
        "delta = None\r\n",
        "if date_1 > date_2:\r\n",
        "    delta = date_1 - date_2\r\n",
        "else:\r\n",
        "    delta = date_2 - date_1\r\n",
        "print(\"Difference is\", delta.days, \"days\")"
      ],
      "execution_count": 85,
      "outputs": [
        {
          "output_type": "stream",
          "text": [
            "Difference is 205 days\n"
          ],
          "name": "stdout"
        }
      ]
    },
    {
      "cell_type": "code",
      "metadata": {
        "colab": {
          "base_uri": "https://localhost:8080/"
        },
        "id": "YOvpIUtKMIuJ",
        "outputId": "f6504de5-5183-40d4-ea10-a6d63beffc3d"
      },
      "source": [
        "# Write a recursive function to calculate the sum of numbers from 0 to 10\r\n",
        "\r\n",
        "def calculateSum(num):\r\n",
        "    if num:\r\n",
        "        return num + calculateSum(num-1)\r\n",
        "    else:\r\n",
        "        return 0\r\n",
        "res = calculateSum(10)\r\n",
        "print(res)"
      ],
      "execution_count": 86,
      "outputs": [
        {
          "output_type": "stream",
          "text": [
            "55\n"
          ],
          "name": "stdout"
        }
      ]
    },
    {
      "cell_type": "code",
      "metadata": {
        "colab": {
          "base_uri": "https://localhost:8080/"
        },
        "id": "P0BA3kcvMVo3",
        "outputId": "d6937f1e-59bf-4c7c-bd68-b1b9acfcdb91"
      },
      "source": [
        "#  Generate a Python list of all the even numbers between two given numbers\r\n",
        "num1 = 4\r\n",
        "num2 = 30\r\n",
        "myval = [i for i in range(num1, num2, 2)]\r\n",
        "print(myval)"
      ],
      "execution_count": 87,
      "outputs": [
        {
          "output_type": "stream",
          "text": [
            "[4, 6, 8, 10, 12, 14, 16, 18, 20, 22, 24, 26, 28]\n"
          ],
          "name": "stdout"
        }
      ]
    },
    {
      "cell_type": "code",
      "metadata": {
        "colab": {
          "base_uri": "https://localhost:8080/"
        },
        "id": "sc1Q89nzMixF",
        "outputId": "6ce40740-05e1-490e-c8dc-0f06f16ab35e"
      },
      "source": [
        "# Return the largest item from the given list\r\n",
        "aList = [4, 6, 8, 24, 12, 2]\r\n",
        "print(max(aList))"
      ],
      "execution_count": 88,
      "outputs": [
        {
          "output_type": "stream",
          "text": [
            "24\n"
          ],
          "name": "stdout"
        }
      ]
    },
    {
      "cell_type": "code",
      "metadata": {
        "colab": {
          "base_uri": "https://localhost:8080/"
        },
        "id": "nqIasXLRMq89",
        "outputId": "d6b7462c-2f79-4833-c124-3f89d2fb1bbd"
      },
      "source": [
        "# Write a program to extract each digit from an integer, in the reverse order\r\n",
        "number = 7536\r\n",
        "while (number > 0):\r\n",
        "    digit = number % 10\r\n",
        "    number = number // 10\r\n",
        "    print(digit, end=\" \")"
      ],
      "execution_count": 89,
      "outputs": [
        {
          "output_type": "stream",
          "text": [
            "6 3 5 7 "
          ],
          "name": "stdout"
        }
      ]
    },
    {
      "cell_type": "code",
      "metadata": {
        "colab": {
          "base_uri": "https://localhost:8080/"
        },
        "id": "nlv9kMXbNA28",
        "outputId": "12e57efe-9219-42a3-d1a4-616fa4a5ea70"
      },
      "source": [
        "#  Given a Python list, remove all occurrence of a given number from the list\r\n",
        "num1 = 20\r\n",
        "list1 = [5, 20, 15, 20, 25, 50, 20]\r\n",
        "\r\n",
        "def removeValue(sampleList, val):\r\n",
        "   return [value for value in sampleList if value != val]\r\n",
        "resList = removeValue(list1, num1)\r\n",
        "print(resList)"
      ],
      "execution_count": 90,
      "outputs": [
        {
          "output_type": "stream",
          "text": [
            "[5, 15, 25, 50]\n"
          ],
          "name": "stdout"
        }
      ]
    },
    {
      "cell_type": "code",
      "metadata": {
        "colab": {
          "base_uri": "https://localhost:8080/"
        },
        "id": "KJ3kt7R9NxAb",
        "outputId": "fd21f283-dbff-474b-a066-20a939e6dafe"
      },
      "source": [
        "# Shuffle a list randomly\r\n",
        "import random\r\n",
        "list = [2,5,8,9,12]\r\n",
        "random.shuffle(list)\r\n",
        "print (\"Printing shuffled list \", list)"
      ],
      "execution_count": 91,
      "outputs": [
        {
          "output_type": "stream",
          "text": [
            "Printing shuffled list  [2, 12, 8, 5, 9]\n"
          ],
          "name": "stdout"
        }
      ]
    },
    {
      "cell_type": "code",
      "metadata": {
        "colab": {
          "base_uri": "https://localhost:8080/"
        },
        "id": "tDvmqNpzR_nE",
        "outputId": "0266178e-98c4-47dd-b730-2170ac5a43dd"
      },
      "source": [
        "# Generate a random n-dimensional array of float numbers\r\n",
        "\r\n",
        "import numpy\r\n",
        "random_float_array = numpy.random.rand(2, 2)\r\n",
        "print(\"2 X 2 random float array in [0.0, 1.0] \\n\", random_float_array,\"\\n\")"
      ],
      "execution_count": 92,
      "outputs": [
        {
          "output_type": "stream",
          "text": [
            "2 X 2 random float array in [0.0, 1.0] \n",
            " [[0.25066038 0.6479573 ]\n",
            " [0.54774422 0.61558828]] \n",
            "\n"
          ],
          "name": "stdout"
        }
      ]
    },
    {
      "cell_type": "code",
      "metadata": {
        "colab": {
          "base_uri": "https://localhost:8080/"
        },
        "id": "VY-a_-kySJwm",
        "outputId": "1a311f10-52e0-4e82-d923-bf4603cf0389"
      },
      "source": [
        "# Generate random Universally unique IDs\r\n",
        "import uuid\r\n",
        "safeId = uuid.uuid4()\r\n",
        "print(\"safe unique id is \", safeId)"
      ],
      "execution_count": 93,
      "outputs": [
        {
          "output_type": "stream",
          "text": [
            "safe unique id is  cadace41-2afd-4c21-b911-d454fe768e54\n"
          ],
          "name": "stdout"
        }
      ]
    },
    {
      "cell_type": "code",
      "metadata": {
        "colab": {
          "base_uri": "https://localhost:8080/"
        },
        "id": "kIEl4NwfSada",
        "outputId": "53e02408-c723-4835-a59c-ed8f64449267"
      },
      "source": [
        "# Choose given number of elements from the list with different probability\r\n",
        "\r\n",
        "import random\r\n",
        "num1 =5\r\n",
        "numberList = [111, 222, 333, 444, 555]\r\n",
        "print(random.choices(numberList, weights=(10, 20, 30, 40, 50), k=num1))"
      ],
      "execution_count": 94,
      "outputs": [
        {
          "output_type": "stream",
          "text": [
            "[555, 444, 444, 333, 555]\n"
          ],
          "name": "stdout"
        }
      ]
    },
    {
      "cell_type": "code",
      "metadata": {
        "colab": {
          "base_uri": "https://localhost:8080/"
        },
        "id": "A6s7z4VsSoLl",
        "outputId": "ac2e0f31-3771-46e6-c9be-6e40374ba1fc"
      },
      "source": [
        "# Generate weighted random numbers\r\n",
        "\r\n",
        "import random\r\n",
        "randomList = random.choices(range(10, 40, 5), cum_weights=(5, 15, 10, 25, 40, 65), k=6)\r\n",
        "print(randomList)"
      ],
      "execution_count": 95,
      "outputs": [
        {
          "output_type": "stream",
          "text": [
            "[25, 25, 30, 30, 35, 35]\n"
          ],
          "name": "stdout"
        }
      ]
    },
    {
      "cell_type": "code",
      "metadata": {
        "colab": {
          "base_uri": "https://localhost:8080/"
        },
        "id": "eQ74NzcES2-X",
        "outputId": "0d2ba75e-b60a-4cff-e5d0-422f12e002b6"
      },
      "source": [
        "# generating a reliable secure random number\r\n",
        "\r\n",
        "import secrets\r\n",
        "print(\"Random integer number generated using secrets module is \")\r\n",
        "number = secrets.randbelow(30)\r\n",
        "print(number)"
      ],
      "execution_count": 96,
      "outputs": [
        {
          "output_type": "stream",
          "text": [
            "Random integer number generated using secrets module is \n",
            "6\n"
          ],
          "name": "stdout"
        }
      ]
    },
    {
      "cell_type": "code",
      "metadata": {
        "colab": {
          "base_uri": "https://localhost:8080/"
        },
        "id": "OY1SGjR-TI1V",
        "outputId": "a6b8d7a2-51cf-42bb-a534-3e8a1944c2db"
      },
      "source": [
        "# Calculate memory is being used by an list in Python\r\n",
        "import sys\r\n",
        "list1 = ['Scott', 'Eric', 'Kelly', 'Emma', 'Smith']\r\n",
        "print(\"size of list = \",sys.getsizeof(list1))"
      ],
      "execution_count": 97,
      "outputs": [
        {
          "output_type": "stream",
          "text": [
            "size of list =  104\n"
          ],
          "name": "stdout"
        }
      ]
    },
    {
      "cell_type": "code",
      "metadata": {
        "colab": {
          "base_uri": "https://localhost:8080/"
        },
        "id": "UmJhGrmlTYH9",
        "outputId": "a9ad7ae2-0a3e-4bf8-d19e-f77b5793e2f9"
      },
      "source": [
        "# Find if all elements in a list are identical\r\n",
        "listOne = [20, 20, 20, 20]\r\n",
        "print(\"All element are duplicate in listOne:\", listOne.count(listOne[0]) == len(listOne))"
      ],
      "execution_count": 98,
      "outputs": [
        {
          "output_type": "stream",
          "text": [
            "All element are duplicate in listOne: True\n"
          ],
          "name": "stdout"
        }
      ]
    },
    {
      "cell_type": "code",
      "metadata": {
        "colab": {
          "base_uri": "https://localhost:8080/"
        },
        "id": "a_knszkUTlBP",
        "outputId": "d4c4d6c7-cf9d-4087-e299-4f22d23fe63d"
      },
      "source": [
        "# Merge two dictionaries in a single expression\r\n",
        "currentEmployee = {1: 'Scott', 2: \"Eric\", 3:\"Kelly\"}\r\n",
        "formerEmployee  = {2: 'Eric', 4: \"Emma\"}\r\n",
        "allEmployee = {**currentEmployee, **formerEmployee}\r\n",
        "print(allEmployee)"
      ],
      "execution_count": 99,
      "outputs": [
        {
          "output_type": "stream",
          "text": [
            "{1: 'Scott', 2: 'Eric', 3: 'Kelly', 4: 'Emma'}\n"
          ],
          "name": "stdout"
        }
      ]
    },
    {
      "cell_type": "code",
      "metadata": {
        "colab": {
          "base_uri": "https://localhost:8080/"
        },
        "id": "bnHLDrNSTtqp",
        "outputId": "d00c820a-3d25-486a-b264-ad66435e7b90"
      },
      "source": [
        "# Convert two lists into a dictionary\r\n",
        "ItemId = [54, 65, 76]\r\n",
        "names = [\"Hard Disk\", \"Laptop\", \"RAM\"]\r\n",
        "itemDictionary = dict(zip(ItemId, names))\r\n",
        "print(itemDictionary)"
      ],
      "execution_count": 100,
      "outputs": [
        {
          "output_type": "stream",
          "text": [
            "{54: 'Hard Disk', 65: 'Laptop', 76: 'RAM'}\n"
          ],
          "name": "stdout"
        }
      ]
    },
    {
      "cell_type": "code",
      "metadata": {
        "colab": {
          "base_uri": "https://localhost:8080/"
        },
        "id": "KNAcSz5giDMw",
        "outputId": "3ca2a94d-c6c9-4364-aaa1-7e81c9ba8191"
      },
      "source": [
        "# Alternate cases in String \r\n",
        "\r\n",
        "test_str = \"geeksforgeeks\"\r\n",
        "res = \"\" \r\n",
        "for idx in range(len(test_str)): \r\n",
        "    if not idx % 2 : \r\n",
        "       res = res + test_str[idx].upper() \r\n",
        "    else: \r\n",
        "       res = res + test_str[idx].lower() \r\n",
        "print(res)"
      ],
      "execution_count": 101,
      "outputs": [
        {
          "output_type": "stream",
          "text": [
            "GeEkSfOrGeEkS\n"
          ],
          "name": "stdout"
        }
      ]
    },
    {
      "cell_type": "code",
      "metadata": {
        "colab": {
          "base_uri": "https://localhost:8080/"
        },
        "id": "6uvckAmUiJD4",
        "outputId": "9dcca9e4-251d-47ef-94a6-2af0998af551"
      },
      "source": [
        "# Write a Python program to validate an Email \r\n",
        "import re \r\n",
        "regex = '^[a-z0-9]+[\\._]?[a-z0-9]+[@]\\w+[.]\\w{2,3}$'\r\n",
        "def check(email):\r\n",
        "  if(re.search(regex,email)):\r\n",
        "    print(\"Valid Email\")\r\n",
        "  else:\r\n",
        "    print(\"Invalid Email\")\r\n",
        "\r\n",
        "email = \"ankitrai326@gmail.com\"\r\n",
        "check(email) "
      ],
      "execution_count": 102,
      "outputs": [
        {
          "output_type": "stream",
          "text": [
            "Valid Email\n"
          ],
          "name": "stdout"
        }
      ]
    },
    {
      "cell_type": "code",
      "metadata": {
        "colab": {
          "base_uri": "https://localhost:8080/"
        },
        "id": "sO8eY0C8R8G2",
        "outputId": "ccbb9c87-e070-4263-ad66-bae68e64607d"
      },
      "source": [
        "# Write a Program to implement validation of a Password\r\n",
        "\r\n",
        "class Password:\r\n",
        "    def __init__(self, password):\r\n",
        "        self.password = password\r\n",
        "\r\n",
        "    def validate(self):        \r\n",
        "        vals = {\r\n",
        "        'Password must contain an uppercase letter.': lambda s: any(x.isupper() for x in s),\r\n",
        "        'Password must contain a lowercase letter.': lambda s: any(x.islower() for x in s),\r\n",
        "        'Password must contain a digit.': lambda s: any(x.isdigit() for x in s),\r\n",
        "        'Password must be at least 8 characters.': lambda s: len(s) >= 8,\r\n",
        "        'Password cannot contain white spaces.': lambda s: not any(x.isspace() for x in s)            \r\n",
        "        } \r\n",
        "        valid = True  \r\n",
        "        for n, val in vals.items():                         \r\n",
        "           if not val(self.password):                   \r\n",
        "               valid = False\r\n",
        "               return n\r\n",
        "        return valid                \r\n",
        "\r\n",
        "\r\n",
        "input_password = \"Amit@12Su@ 1'\"\r\n",
        "p = Password(input_password)\r\n",
        "if p.validate() is True:\r\n",
        "  print('Password Valid')\r\n",
        "else:\r\n",
        "  print(p.validate())"
      ],
      "execution_count": 103,
      "outputs": [
        {
          "output_type": "stream",
          "text": [
            "Password cannot contain white spaces.\n"
          ],
          "name": "stdout"
        }
      ]
    }
  ]
}