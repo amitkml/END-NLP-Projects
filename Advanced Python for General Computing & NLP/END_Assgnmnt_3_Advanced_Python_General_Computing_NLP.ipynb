{
  "nbformat": 4,
  "nbformat_minor": 0,
  "metadata": {
    "colab": {
      "name": "END_Assgnmnt_3_Advanced_Python_General_Computing_NLP.ipynb",
      "provenance": [],
      "collapsed_sections": [
        "jLz3siDutyHd",
        "R-moVSbDt-Ha",
        "ZR4J3HTLhEXF",
        "w6bwWiIIhQAh",
        "eXW7Lpnfjb1j",
        "79IfurDp8Qla",
        "359LiZ9TuOZL",
        "n3n__HUFufbx",
        "6nbyF_5BpS4S",
        "uCQ2qnw7pc7d",
        "h8ndfN1PpYul",
        "vCNp0Yj3uw_3",
        "JPEWQ6Wcu0_x"
      ]
    },
    "kernelspec": {
      "name": "python3",
      "display_name": "Python 3"
    }
  },
  "cells": [
    {
      "cell_type": "markdown",
      "metadata": {
        "id": "jLz3siDutyHd"
      },
      "source": [
        "# Write a function using only list filter lambda that can tell whether a number is a Fibonacci number or not."
      ]
    },
    {
      "cell_type": "markdown",
      "metadata": {
        "id": "cHgBwEQmt2hM"
      },
      "source": [
        "**You can use a pre-calculated list/dict to store fab numbers till 10000**"
      ]
    },
    {
      "cell_type": "code",
      "metadata": {
        "id": "a5XO0pfcgt40"
      },
      "source": [
        "# A utility function that returns true if x is perfect square \n",
        "import math\n",
        "def isPerfectSquare(x): \n",
        "    s = int(math.sqrt(x)) \n",
        "    return s*s == x "
      ],
      "execution_count": 254,
      "outputs": []
    },
    {
      "cell_type": "code",
      "metadata": {
        "id": "vVP0RMIXhHo_"
      },
      "source": [
        "# Returns true if n is a Fibinacci Number, else false \n",
        "def isFibonacci(n): \n",
        "  \n",
        "    # n is Fibinacci if one of 5*n*n + 4 or 5*n*n - 4 or both \n",
        "    # is a perferct square \n",
        "    return isPerfectSquare(5*n*n + 4) or isPerfectSquare(5*n*n - 4) "
      ],
      "execution_count": 252,
      "outputs": []
    },
    {
      "cell_type": "code",
      "metadata": {
        "id": "u08GKRqOt0Ww",
        "outputId": "5d299135-9c63-4d6e-8f4a-7827293d93f9",
        "colab": {
          "base_uri": "https://localhost:8080/"
        }
      },
      "source": [
        "isFibonacci(199)"
      ],
      "execution_count": 290,
      "outputs": [
        {
          "output_type": "execute_result",
          "data": {
            "text/plain": [
              "False"
            ]
          },
          "metadata": {
            "tags": []
          },
          "execution_count": 290
        }
      ]
    },
    {
      "cell_type": "code",
      "metadata": {
        "id": "ZyT51gFdvcPF"
      },
      "source": [
        "# A utility function to test above functions and generate a feb numbers within 10000\n",
        "def generate_fibo_list(max_val=10000):\n",
        "  fibonaci_number_l = []\n",
        "  for i in range(1,max_val):\n",
        "    if (isFibonacci(i) == True):\n",
        "      fibonaci_number_l.append(i)\n",
        "        #  print i,\"is a Fibonacci Number\"\n",
        "    else:\n",
        "      pass\n",
        "\n",
        "  return fibonaci_number_l"
      ],
      "execution_count": 257,
      "outputs": []
    },
    {
      "cell_type": "code",
      "metadata": {
        "id": "gvvEVSSnjPhM"
      },
      "source": [
        "def detect_fibonaci_number(number):\n",
        "  \"\"\"\n",
        "  This function will first call generate_fibo_list to generate Fibonaci number and then detect if the input number is a feb number or not.\n",
        "  \"\"\"\n",
        "  # fibonaci_number_l = generate_fibo_list\n",
        "  check = lambda feb_numbers: True if len(feb_numbers) > 0 else False  ## defining the lambda function to check whether filter condition returned any true\n",
        "  if number > 10000:\n",
        "    print(f\"{number} is not within defined range of 10000\")\n",
        "  else:\n",
        "    fibonaci_number_l = generate_fibo_list()\n",
        "    feb_numbers = list(filter(lambda x: x == number, fibonaci_number_l))\n",
        "    \n",
        "  return check(feb_numbers)"
      ],
      "execution_count": 287,
      "outputs": []
    },
    {
      "cell_type": "code",
      "metadata": {
        "id": "DHDzCdLdnCtl",
        "outputId": "2182b769-7dfd-4a32-a431-c6d2c63fbbff",
        "colab": {
          "base_uri": "https://localhost:8080/"
        }
      },
      "source": [
        "feb_numbers =detect_fibonaci_number(21)  ## This is Feb Number and hence returned True\n",
        "feb_numbers"
      ],
      "execution_count": 288,
      "outputs": [
        {
          "output_type": "execute_result",
          "data": {
            "text/plain": [
              "True"
            ]
          },
          "metadata": {
            "tags": []
          },
          "execution_count": 288
        }
      ]
    },
    {
      "cell_type": "code",
      "metadata": {
        "id": "Gil4gWYVqsxt",
        "outputId": "ab283283-7219-48de-cd61-9d310b31fbd4",
        "colab": {
          "base_uri": "https://localhost:8080/"
        }
      },
      "source": [
        "feb_numbers =detect_fibonaci_number(199)  ## This is Not Feb Number and hence it returned False\n",
        "feb_numbers"
      ],
      "execution_count": 291,
      "outputs": [
        {
          "output_type": "execute_result",
          "data": {
            "text/plain": [
              "False"
            ]
          },
          "metadata": {
            "tags": []
          },
          "execution_count": 291
        }
      ]
    },
    {
      "cell_type": "markdown",
      "metadata": {
        "id": "R-moVSbDt-Ha"
      },
      "source": [
        "# Using list comprehension (and zip/lambda/etc if required) write five different expressions that"
      ]
    },
    {
      "cell_type": "markdown",
      "metadata": {
        "id": "tGV1f5JRuDjz"
      },
      "source": [
        "- add 2 iterables a and b such that a is even and b is odd\n",
        "- strips every vowel from a string provided (tsai>>t s)\n",
        "- acts like a ReLU function for a 1D array\n",
        "- acts like a sigmoid function for a 1D array\n",
        "- takes a small character string and shifts all characters by 5 (handle boundary conditions) tsai>>yxfn"
      ]
    },
    {
      "cell_type": "markdown",
      "metadata": {
        "id": "ncpkKer4HVLR"
      },
      "source": [
        "### add 2 iterables a and b such that a is even and b is odd"
      ]
    },
    {
      "cell_type": "code",
      "metadata": {
        "id": "k1NtaV5qHWeb"
      },
      "source": [
        "def add_iterable(iterable1, iterable2):\n",
        "  \"\"\"\n",
        "  This function will use list comprehension and lambda to add two iterable where one has even number of item while the other one has odd number of items\n",
        "  \"\"\"\n",
        "  final_list = [sum(i) for i in zip(iterable1, iterable2)]  \n",
        "  return final_list"
      ],
      "execution_count": 249,
      "outputs": []
    },
    {
      "cell_type": "code",
      "metadata": {
        "id": "Uy8yxbKza43k",
        "outputId": "34648544-cdc9-4d2b-97e4-0739435e9cc0",
        "colab": {
          "base_uri": "https://localhost:8080/"
        }
      },
      "source": [
        "iterable1=[1,3,5,7]\n",
        "iterable2=[3,4,6,8]\n",
        "final_list = add_iterable(iterable1,iterable2)\n",
        "final_list"
      ],
      "execution_count": 250,
      "outputs": [
        {
          "output_type": "execute_result",
          "data": {
            "text/plain": [
              "[4, 7, 11, 15]"
            ]
          },
          "metadata": {
            "tags": []
          },
          "execution_count": 250
        }
      ]
    },
    {
      "cell_type": "markdown",
      "metadata": {
        "id": "ZR4J3HTLhEXF"
      },
      "source": [
        "### ReLU"
      ]
    },
    {
      "cell_type": "code",
      "metadata": {
        "id": "tYb-BlL3c0Nj"
      },
      "source": [
        "def relu_list(array):\n",
        "  \"\"\"\n",
        "  This function acts like a RelU function for 1D array. Here list comprehension has been used with a condition to eliminate. List comprehension with condition will work as clarified below\n",
        "  [expression1(item)                                        for item in iterable]\n",
        "  [expression1(item) if conditional1                        for item in iterable]\n",
        "  [expression1(item) if conditional1 else expression2(item) for item in iterable]\n",
        "  [expression1(item) if conditional1 else expression2(item) for item in iterable if conditional2]\n",
        "  \"\"\"\n",
        "  relu_output = [x if x >= 0 else 0 for x in array ] # ['EVEN' if num % 2 == 0 else 'ODD' for num in range(10)]\n",
        "\n",
        "  # relu_output = [x=0 x for x in array if x < 0]\n",
        "  return relu_output"
      ],
      "execution_count": 162,
      "outputs": []
    },
    {
      "cell_type": "code",
      "metadata": {
        "id": "PHH_fwMBeIU_",
        "outputId": "78d799cc-ade3-4549-e961-d304ea4fa43f",
        "colab": {
          "base_uri": "https://localhost:8080/"
        }
      },
      "source": [
        "array_val = [1,-3,5,0,7,-9,-10,5,45]\n",
        "relu_output = relu_list(array_val)\n",
        "relu_output"
      ],
      "execution_count": 163,
      "outputs": [
        {
          "output_type": "execute_result",
          "data": {
            "text/plain": [
              "[1, 0, 5, 0, 7, 0, 0, 5, 45]"
            ]
          },
          "metadata": {
            "tags": []
          },
          "execution_count": 163
        }
      ]
    },
    {
      "cell_type": "markdown",
      "metadata": {
        "id": "w6bwWiIIhQAh"
      },
      "source": [
        "### sigmoid"
      ]
    },
    {
      "cell_type": "code",
      "metadata": {
        "id": "1gw8cdPmhR54"
      },
      "source": [
        "def sigmoid_list(array):\n",
        "  \"\"\"\n",
        "  This function will handle a 1D array and calculate sigmoid values. Here list comprehension has been used to develop in pythonic way.\n",
        "  Sigmoid value for a variable x can be calculated by expression 1/(1 + np.exp(-x)) \n",
        "  \"\"\"\n",
        "  import numpy as np\n",
        "  # sigmoid_output = [x=1/(1 + np.exp(-x) x for x in array ]\n",
        "  sigmoid_output = [1/(1 + np.exp(-x)) for x in array]\n",
        "  return sigmoid_output"
      ],
      "execution_count": 177,
      "outputs": []
    },
    {
      "cell_type": "code",
      "metadata": {
        "id": "JuSi97_OjD4r",
        "outputId": "84f5e94d-ccb3-4fa8-b469-acb62b5e99c9",
        "colab": {
          "base_uri": "https://localhost:8080/"
        }
      },
      "source": [
        "array_val = [1,-3,5,0,7,-9,-10,5,4.5]\n",
        "sigmoid_output = sigmoid_list(array_val)\n",
        "sigmoid_output"
      ],
      "execution_count": 179,
      "outputs": [
        {
          "output_type": "execute_result",
          "data": {
            "text/plain": [
              "[0.7310585786300049,\n",
              " 0.04742587317756678,\n",
              " 0.9933071490757153,\n",
              " 0.5,\n",
              " 0.9990889488055994,\n",
              " 0.00012339457598623172,\n",
              " 4.5397868702434395e-05,\n",
              " 0.9933071490757153,\n",
              " 0.9890130573694068]"
            ]
          },
          "metadata": {
            "tags": []
          },
          "execution_count": 179
        }
      ]
    },
    {
      "cell_type": "markdown",
      "metadata": {
        "id": "eXW7Lpnfjb1j"
      },
      "source": [
        "### shifts all characters by 5"
      ]
    },
    {
      "cell_type": "code",
      "metadata": {
        "id": "fTZ4kz28mPC-"
      },
      "source": [
        "def shift_char(value):\n",
        "  \"\"\"\n",
        "  This function will take out all the charecters from a string and then shift by 5.\n",
        "  This one uses ord() to get an integer representation of char, and substracts n from this number. It then uses chr() to convert it back to a character.\n",
        "  If i exceeds the ASCII value of \"z\", we reduce it by 26 characters (the number of characters in the English alphabet). \n",
        "  This logic will ensure our characters up as a cyclical pattern, so the shifting could flow smoothly from \"z\" to \"a\" and so on.\n",
        "  This function will as of now convert all charecter into upper case for during comparing values. Advanced version of this function will handle mixed case and alpha numeric one.\n",
        "  \"\"\"\n",
        "  # value_upper = value.upper()\n",
        "  # shifted_output = [chr(ord(x) + 5) if ord(x) + 5 < ord(\"Z\") else chr(ord(x) + 5 - 26) for x in name]\n",
        "  shifted_output = [chr(ord(x.upper()) + 5) if ord(x.upper()) + 5 < ord(\"Z\") else chr(ord(x.upper()) + 5 - 26) for x in name]\n",
        "  final_list = [reduce(lambda i, j: i + j, shifted_output)] ## here i am concating each charecter to return the string\n",
        "  return final_list"
      ],
      "execution_count": 224,
      "outputs": []
    },
    {
      "cell_type": "code",
      "metadata": {
        "id": "727gIN0N5l2D",
        "outputId": "ac07f628-123b-442c-8b1e-d1b9083322a6",
        "colab": {
          "base_uri": "https://localhost:8080/"
        }
      },
      "source": [
        "name = \"AMITZ\"\n",
        "final_list = shift_char(name)\n",
        "final_list # ['FRNYE']"
      ],
      "execution_count": 226,
      "outputs": [
        {
          "output_type": "execute_result",
          "data": {
            "text/plain": [
              "['FRNYE']"
            ]
          },
          "metadata": {
            "tags": []
          },
          "execution_count": 226
        }
      ]
    },
    {
      "cell_type": "code",
      "metadata": {
        "id": "orGeA74HjdMW",
        "outputId": "211f0043-46b8-47db-bd81-51e9d6bbaa90",
        "colab": {
          "base_uri": "https://localhost:8080/"
        }
      },
      "source": [
        "# # chr(ord(char) - n\n",
        "# name = \"AMITZ\"\n",
        "# # sigmoid_output = [chr(ord(x) + 5) for x in name] \n",
        "# sigmoid_output = [chr(ord(x) + 5) if ord(x) + 5 < ord(\"Z\") else chr(ord(x) + 5 - 26) for x in name]\n",
        "# sigmoid_output                  "
      ],
      "execution_count": 216,
      "outputs": [
        {
          "output_type": "execute_result",
          "data": {
            "text/plain": [
              "['F', 'R', 'N', 'Y', 'E']"
            ]
          },
          "metadata": {
            "tags": []
          },
          "execution_count": 216
        }
      ]
    },
    {
      "cell_type": "markdown",
      "metadata": {
        "id": "79IfurDp8Qla"
      },
      "source": [
        "### strips every vowel from string"
      ]
    },
    {
      "cell_type": "code",
      "metadata": {
        "id": "KEUL4IrQ8S7s"
      },
      "source": [
        "## l in ('a', 'e', 'i', 'o', 'u'):"
      ],
      "execution_count": null,
      "outputs": []
    },
    {
      "cell_type": "code",
      "metadata": {
        "id": "69AOCeE58hrV"
      },
      "source": [
        "def strip_vowel(value):\n",
        "  \"\"\"\n",
        "  This function will strip every vowel from string. It uses list comprehension to check if the charecter is vowel or not.\n",
        "  It will then use the lambda function and reduce function to concat each charecter to form a string\n",
        "  \"\"\"\n",
        "  shtripped_output = [x for x in value if x.lower() not in ('a', 'e', 'i', 'o', 'u') ]\n",
        "  final_shtripped_output = [reduce(lambda i, j: i + j, shtripped_output)] ## here i am concating each charecter to return the string\n",
        "  return final_shtripped_output"
      ],
      "execution_count": 237,
      "outputs": []
    },
    {
      "cell_type": "code",
      "metadata": {
        "id": "SC7Ako6F_bBW",
        "outputId": "6e259f1a-1a54-4fe7-f4f9-6b7a1d258cf6",
        "colab": {
          "base_uri": "https://localhost:8080/"
        }
      },
      "source": [
        "name = \"AMITuZ\"\n",
        "final_list = strip_vowel(name)\n",
        "final_list # ['FRNYE']"
      ],
      "execution_count": 238,
      "outputs": [
        {
          "output_type": "execute_result",
          "data": {
            "text/plain": [
              "['MTZ']"
            ]
          },
          "metadata": {
            "tags": []
          },
          "execution_count": 238
        }
      ]
    },
    {
      "cell_type": "markdown",
      "metadata": {
        "id": "7bG5vEsJuJhc"
      },
      "source": [
        ""
      ]
    },
    {
      "cell_type": "markdown",
      "metadata": {
        "id": "359LiZ9TuOZL"
      },
      "source": [
        "# A list comprehension expression that takes a ~200 word paragraph (write your own paragraph to check)"
      ]
    },
    {
      "cell_type": "code",
      "metadata": {
        "id": "5Q5l5G4M9yCO",
        "outputId": "6593920f-f1c7-49a2-c90c-e4b59a5081f0",
        "colab": {
          "base_uri": "https://localhost:8080/"
        }
      },
      "source": [
        "## downloading the swear word text file from github\n",
        "!wget --no-check-certificate \\\n",
        "    https://raw.githubusercontent.com/RobertJGabriel/Google-profanity-words/master/list.txt \\\n",
        "    -O list.txt"
      ],
      "execution_count": 1,
      "outputs": [
        {
          "output_type": "stream",
          "text": [
            "--2020-11-03 07:36:58--  https://raw.githubusercontent.com/RobertJGabriel/Google-profanity-words/master/list.txt\n",
            "Resolving raw.githubusercontent.com (raw.githubusercontent.com)... 151.101.0.133, 151.101.64.133, 151.101.128.133, ...\n",
            "Connecting to raw.githubusercontent.com (raw.githubusercontent.com)|151.101.0.133|:443... connected.\n",
            "HTTP request sent, awaiting response... 200 OK\n",
            "Length: 3622 (3.5K) [text/plain]\n",
            "Saving to: ‘list.txt’\n",
            "\n",
            "list.txt            100%[===================>]   3.54K  --.-KB/s    in 0s      \n",
            "\n",
            "2020-11-03 07:36:58 (34.0 MB/s) - ‘list.txt’ saved [3622/3622]\n",
            "\n"
          ],
          "name": "stdout"
        }
      ]
    },
    {
      "cell_type": "code",
      "metadata": {
        "id": "Ng94rEArCUSv"
      },
      "source": [
        "from functools import reduce"
      ],
      "execution_count": 132,
      "outputs": []
    },
    {
      "cell_type": "markdown",
      "metadata": {
        "id": "kyrJ4kbPuWBT"
      },
      "source": [
        "- checks whether it has any of the swear words mentioned in https://github.com/RobertJGabriel/Google-profanity-words/blob/master/list.txt"
      ]
    },
    {
      "cell_type": "code",
      "metadata": {
        "id": "3WF_PYc0LDXL"
      },
      "source": [
        "def return_tokenized(file_name_para=\"paragraph.txt\", file_name_swear=\"list.txt\"):\n",
        "  corpus = open(\"paragraph.txt\")\n",
        "  swear = open(\"list.txt\")\n",
        "  tokenized_corpus = tokenize_corpus(corpus)\n",
        "  tokenized_swear_words = tokenize_corpus(swear)\n",
        "  tokenized_swear_words_final = reduce(operator.iconcat, tokenized_swear_words, [])\n",
        "  tokenized_corpus_final = reduce(operator.iconcat, tokenized_corpus, []) # reduce(operator.concat, l)\n",
        "  final_common_word_list = [x for x in tokenized_corpus_final if x in tokenized_swear_words_final]\n",
        "  return tokenized_corpus_final, tokenized_swear_words_final, final_common_word_list"
      ],
      "execution_count": 142,
      "outputs": []
    },
    {
      "cell_type": "code",
      "metadata": {
        "id": "t6DxFjraGLyF"
      },
      "source": [
        "# def tokenize_corpus(corpus, file_newline_set=True):\n",
        "#   \"\"\"\n",
        "#   This function takes the corpus and return token ones\n",
        "#   \"\"\"\n",
        "#   tokens = [x.split() if file_newline_set else x.rstrip().rstrip(']').lstrip('[').split('\\n') for x in corpus]\n",
        "#   return tokens"
      ],
      "execution_count": 91,
      "outputs": []
    },
    {
      "cell_type": "code",
      "metadata": {
        "id": "KJvf5qaYLWtF",
        "outputId": "ab8fd595-4a1d-4c98-c396-3f93c0e9eb8c",
        "colab": {
          "base_uri": "https://localhost:8080/"
        }
      },
      "source": [
        "tokenized_corpus, tokenized_swear_words,final_common_word_list = return_tokenized()\n",
        "final_common_word_list"
      ],
      "execution_count": 143,
      "outputs": [
        {
          "output_type": "execute_result",
          "data": {
            "text/plain": [
              "['bastard',\n",
              " 'cockmunch',\n",
              " 'cox',\n",
              " 'bollok',\n",
              " 'biatch',\n",
              " 'buttmunch',\n",
              " 'cawk',\n",
              " 'faggs',\n",
              " 'hell']"
            ]
          },
          "metadata": {
            "tags": []
          },
          "execution_count": 143
        }
      ]
    },
    {
      "cell_type": "markdown",
      "metadata": {
        "id": "83gHYAtCufSt"
      },
      "source": [
        ""
      ]
    },
    {
      "cell_type": "code",
      "metadata": {
        "id": "Z5cp17dnvnOK"
      },
      "source": [
        "def identify_word_list(text):\n",
        "  \"\"\"\n",
        "  This function is for identifying the input number os Fibonacci number or not.\n",
        "  \"\"\"\n",
        "  return True"
      ],
      "execution_count": null,
      "outputs": []
    },
    {
      "cell_type": "markdown",
      "metadata": {
        "id": "n3n__HUFufbx"
      },
      "source": [
        "# Using reduce functions\n",
        "\n",
        "- add only even numbers in a list\n",
        "- find the biggest character in a string (printable ascii characters)\n",
        "- adds every 3rd number in a list"
      ]
    },
    {
      "cell_type": "markdown",
      "metadata": {
        "id": "0xGU-IoucL6_"
      },
      "source": [
        "**Python’s reduce() is a function that implements a mathematical technique called folding or reduction. reduce() is useful when you need to apply a function to an iterable and reduce it to a single cumulative value. Python’s reduce() is popular among developers with a functional programming background.**\n",
        "\n",
        "More details can be found from [Python's reduce(): From Functional to Pythonic Style](https://realpython.com/python-reduce-function/). More details about lambda function can be found from [Conditions in Lambda function](https://thispointer.com/python-how-to-use-if-else-elif-in-lambda-functions/)."
      ]
    },
    {
      "cell_type": "code",
      "metadata": {
        "id": "GEvqjpBXazaj"
      },
      "source": [
        "from functools import reduce\n"
      ],
      "execution_count": 1,
      "outputs": []
    },
    {
      "cell_type": "markdown",
      "metadata": {
        "id": "6nbyF_5BpS4S"
      },
      "source": [
        "### add only even numbers in a list"
      ]
    },
    {
      "cell_type": "code",
      "metadata": {
        "id": "ca8v_aanSBV5"
      },
      "source": [
        "def reduce_even(first_number,secnd_number):\n",
        "  \"\"\"\n",
        "  This functions detects in the number is even\n",
        "  \"\"\"\n",
        "  first_even = lambda x : True if (x % 2 == 0) else False\n",
        "  first_number_stat = first_even(first_number)\n",
        "  second_number_stat = first_even(secnd_number)\n",
        "  print(f\"{first_number_stat} + {second_number_stat} = {first_number} + {secnd_number}\")\n",
        "\n",
        "  # lambda <arguments> : <Return Value if condition is True> if <condition> else <Return Value if condition is False>\n",
        "\n",
        "  sum_even = lambda x,y : x+y if (first_number_stat==True and second_number_stat==True) else (x if first_number_stat else y )\n",
        "  \n",
        "  total = sum_even(first_number,secnd_number)\n",
        "  # lambda x, y: x + y\n",
        "  # result = 0\n",
        "  # # checking condition \n",
        "  # if first_number % 2 == 0:\n",
        "  #   first_even = True\n",
        "  # else:\n",
        "  #   first_even =\n",
        "  \n",
        "  # if secnd_number % 2 == 0:\n",
        "  #   secnd_even = True\n",
        "\n",
        "  \n",
        "  # if first_number and secnd_number: \n",
        "  #   result = a + b\n",
        "  #   print(f\"{a} + {b} = {result}\")\n",
        "  #   # print(number)\n",
        "  # elif first_number % 2 == 0 and secnd_number % 2 !=0 :\n",
        "  #   pass\n",
        "  return total"
      ],
      "execution_count": 23,
      "outputs": []
    },
    {
      "cell_type": "code",
      "metadata": {
        "id": "WsKJBZ8hnppp"
      },
      "source": [
        "def reduce_add_even(list_val):\n",
        "  \"\"\"\n",
        "  This functions detects in the number is even\n",
        "  \"\"\"\n",
        "  sum = 0\n",
        "  sum = reduce(reduce_even, list_val)\n",
        "  return sum"
      ],
      "execution_count": 28,
      "outputs": []
    },
    {
      "cell_type": "code",
      "metadata": {
        "id": "0WJy9YjK6Y2R"
      },
      "source": [
        "def my_add(a, b):\n",
        "  result = a + b\n",
        "  print(f\"{a} + {b} = {result}\")\n",
        "  return result"
      ],
      "execution_count": 51,
      "outputs": []
    },
    {
      "cell_type": "code",
      "metadata": {
        "id": "MU-7R3RAoPY2",
        "outputId": "e2a6198a-5d73-4b8f-91e9-1ffab568a661",
        "colab": {
          "base_uri": "https://localhost:8080/"
        }
      },
      "source": [
        "list = [6,4,22,10, 1, 9, 5, 4,5,6,7]\n",
        "reduce_add_even(list)"
      ],
      "execution_count": 30,
      "outputs": [
        {
          "output_type": "stream",
          "text": [
            "True + True = 6 + 4\n",
            "True + True = 10 + 22\n",
            "True + True = 32 + 10\n",
            "True + False = 42 + 1\n",
            "True + False = 42 + 9\n",
            "True + False = 42 + 5\n",
            "True + True = 42 + 4\n",
            "True + False = 46 + 5\n",
            "True + True = 46 + 6\n",
            "True + False = 52 + 7\n"
          ],
          "name": "stdout"
        },
        {
          "output_type": "execute_result",
          "data": {
            "text/plain": [
              "52"
            ]
          },
          "metadata": {
            "tags": []
          },
          "execution_count": 30
        }
      ]
    },
    {
      "cell_type": "markdown",
      "metadata": {
        "id": "uCQ2qnw7pc7d"
      },
      "source": [
        "### adds every 3rd number in a list"
      ]
    },
    {
      "cell_type": "code",
      "metadata": {
        "id": "P4T8_2TuScb1"
      },
      "source": [
        "def add_number(first_num, secnd_num):\n",
        "  \"\"\"\n",
        "  This functions add two number\n",
        "  \"\"\"\n",
        "  val = first_num+secnd_num\n",
        "  print(f\"First Member {first_num},Second Member {secnd_num} and Total {val}\")\n",
        "  return val"
      ],
      "execution_count": 118,
      "outputs": []
    },
    {
      "cell_type": "code",
      "metadata": {
        "id": "ZUwH-PZ-5eDd"
      },
      "source": [
        "def add_3rd_member(list_val):\n",
        "  every_3rd_member = [lst[i-1] for i in range(len(lst)) if i % 3 == 0 and i > 0]\n",
        "  print(f\"All 3rd Numbers from Input List are {every_3rd_member}\")\n",
        "  sum_3rd= reduce(add_number,every_3rd_member)\n",
        "  return sum_3rd"
      ],
      "execution_count": 119,
      "outputs": []
    },
    {
      "cell_type": "code",
      "metadata": {
        "id": "MdJZKEi325Zh",
        "outputId": "f2a6770e-dc7d-4e9f-bccb-302db2fc3474",
        "colab": {
          "base_uri": "https://localhost:8080/"
        }
      },
      "source": [
        "## This command will list out every 3rd member from list\n",
        "lst = [100, 12, 121, 1211, 345, 672, 8988, 121, 345, 167]\n",
        "sum_3rd = add_3rd_member(lst)\n",
        "sum_3rd\n",
        "# [lst[i-1] for i in range(len(lst)) if i % 3 == 0 and i > 0]\n"
      ],
      "execution_count": 120,
      "outputs": [
        {
          "output_type": "stream",
          "text": [
            "All 3rd Numbers from Input List are [121, 672, 345]\n",
            "First Member 121,Second Member 672 and Total 793\n",
            "First Member 793,Second Member 345 and Total 1138\n"
          ],
          "name": "stdout"
        },
        {
          "output_type": "execute_result",
          "data": {
            "text/plain": [
              "1138"
            ]
          },
          "metadata": {
            "tags": []
          },
          "execution_count": 120
        }
      ]
    },
    {
      "cell_type": "markdown",
      "metadata": {
        "id": "h8ndfN1PpYul"
      },
      "source": [
        "### find the biggest character in a string (printable ascii characters)"
      ]
    },
    {
      "cell_type": "code",
      "metadata": {
        "id": "MXiuAheoSnE8"
      },
      "source": [
        "def reduce_string(first_char,secnd_char):\n",
        "  \"\"\"\n",
        "  This functions detects in the number is even\n",
        "  \"\"\"\n",
        "  print(first_char)\n",
        "  printable_ascii_charecter = string.printable\n",
        "  first_char_postn = printable_ascii_charecter.find(first_char)\n",
        "  second_char_postn = printable_ascii_charecter.find(secnd_char)\n",
        "\n",
        "  print(f\"{first_char_postn} + {second_char_postn} = {first_char} + {secnd_char}\")\n",
        "\n",
        "  # lambda <arguments> : <Return Value if condition is True> if <condition> else <Return Value if condition is False>\n",
        "\n",
        "  biggest_char = lambda x,y : x if printable_ascii_charecter.find(first_char) > printable_ascii_charecter.find(secnd_char) else y \n",
        "  biggest_char_val = biggest_char(first_char,secnd_char)\n",
        "  return biggest_char_val"
      ],
      "execution_count": 79,
      "outputs": []
    },
    {
      "cell_type": "code",
      "metadata": {
        "id": "2NfyDTkoySbh"
      },
      "source": [
        "def reduce_char_biggest(string_val):\n",
        "  charlist = [string_val[k] for k in range(len(string_val))]\n",
        "  biggest_char = reduce(reduce_string,charlist)\n",
        "  print(f\"string {string_val} has biggest charecter {biggest_char}\") ## https://www.datacamp.com/community/tutorials/f-string-formatting-in-python?utm_source=adwords_ppc&utm_campaignid=1455363063&utm_adgroupid=65083631748&utm_device=c&utm_keyword=&utm_matchtype=b&utm_network=g&utm_adpostion=&utm_creative=332602034364&utm_targetid=dsa-429603003980&utm_loc_interest_ms=&utm_loc_physical_ms=9061998&gclid=CjwKCAiA-f78BRBbEiwATKRRBP5GgzXbZr-vveNBwlfBaclk8YlmBrqJKEYkTEiMa6bEIc-VGzBjQhoCYNMQAvD_BwE\n",
        "  "
      ],
      "execution_count": 95,
      "outputs": []
    },
    {
      "cell_type": "code",
      "metadata": {
        "id": "uNLhApsXzXnd",
        "outputId": "3e366f85-c232-49ac-e5ed-791eaf91920d",
        "colab": {
          "base_uri": "https://localhost:8080/"
        }
      },
      "source": [
        "reduce_char_biggest(\"KAmitZ!\")"
      ],
      "execution_count": 99,
      "outputs": [
        {
          "output_type": "stream",
          "text": [
            "K\n",
            "46 + 36 = K + A\n",
            "K\n",
            "46 + 22 = K + m\n",
            "K\n",
            "46 + 18 = K + i\n",
            "K\n",
            "46 + 29 = K + t\n",
            "K\n",
            "46 + 61 = K + Z\n",
            "Z\n",
            "61 + 62 = Z + !\n",
            "string KAmitZ! has biggest charecter !\n"
          ],
          "name": "stdout"
        }
      ]
    },
    {
      "cell_type": "markdown",
      "metadata": {
        "id": "vCNp0Yj3uw_3"
      },
      "source": [
        "# Using randint, random.choice and list comprehensions, write an expression that generates 15 random KADDAADDDD number plates, where KA is fixed, D stands for a digit, and A stands for Capital alphabets. 10<<DD<<99 & 1000<<DDDD<<999"
      ]
    },
    {
      "cell_type": "markdown",
      "metadata": {
        "id": "b2poJvxS4N-D"
      },
      "source": [
        "More details on list comprehension can be found from https://www.datacamp.com/community/tutorials/python-list-comprehension?utm_source=adwords_ppc&utm_campaignid=1455363063&utm_adgroupid=65083631748&utm_device=c&utm_keyword=&utm_matchtype=b&utm_network=g&utm_adpostion=&utm_creative=332602034364&utm_targetid=dsa-486527602543&utm_loc_interest_ms=&utm_loc_physical_ms=9061998&gclid=CjwKCAiA-f78BRBbEiwATKRRBE2wzMoOwu8R304l37pCN_CREYKG0ORo26BIqetOb2mTutAFKOZgiBoCQesQAvD_BwE"
      ]
    },
    {
      "cell_type": "markdown",
      "metadata": {
        "id": "egmGqU4xu07r"
      },
      "source": [
        "- The choices() method returns a list with the randomly selected element from the specified sequence.\n",
        "- The randint() method returns an integer number selected element from the specified range.\n",
        "\n",
        "\n"
      ]
    },
    {
      "cell_type": "code",
      "metadata": {
        "id": "h_7k6fdCBQ6h"
      },
      "source": [
        "import random\n",
        "import string"
      ],
      "execution_count": 36,
      "outputs": []
    },
    {
      "cell_type": "code",
      "metadata": {
        "id": "sqqI5xEcG408",
        "outputId": "60cda511-2443-4dcb-b7a7-39e32823951d",
        "colab": {
          "base_uri": "https://localhost:8080/"
        }
      },
      "source": [
        "# CAR_NO = \"KA\" + str(car_DD) + car_cap + car_cap_x + str(car_DDDD)\n",
        "CAR_NO_list = [\"KA\" + str(random.randint(10,99)) + random.choice(string.ascii_uppercase) + random.choice(string.ascii_uppercase) + str(random.randint(1000,9999)) for x in range(15)]\n",
        "CAR_NO_list"
      ],
      "execution_count": 63,
      "outputs": [
        {
          "output_type": "execute_result",
          "data": {
            "text/plain": [
              "['KA21AE1485',\n",
              " 'KA41KY3481',\n",
              " 'KA25JP6567',\n",
              " 'KA44SJ8263',\n",
              " 'KA50LL4129',\n",
              " 'KA24VQ1244',\n",
              " 'KA12BU8775',\n",
              " 'KA82HH7467',\n",
              " 'KA68BE3081',\n",
              " 'KA62UI9803',\n",
              " 'KA29IW2778',\n",
              " 'KA14UI2677',\n",
              " 'KA37RK2907',\n",
              " 'KA35VC9288',\n",
              " 'KA74UU6333']"
            ]
          },
          "metadata": {
            "tags": []
          },
          "execution_count": 63
        }
      ]
    },
    {
      "cell_type": "markdown",
      "metadata": {
        "id": "JPEWQ6Wcu0_x"
      },
      "source": [
        "# Write the above again from scratch where KA can be changed to DL, and 1000/9999 ranges can be provided"
      ]
    },
    {
      "cell_type": "code",
      "metadata": {
        "id": "Kdq6LkA34dbo"
      },
      "source": [
        "def generate_number_plate(prefix,upper_range, lower_range,count):\n",
        "  \"\"\"\n",
        "  This function will generate count number of random car number plate\n",
        "  \"\"\"\n",
        "  CAR_NO_list = [prefix + str(random.randint(10,99)) + random.choice(string.ascii_uppercase) + random.choice(string.ascii_uppercase) + str(random.randint(lower_range,upper_range)) for x in range(count)]\n",
        "  return CAR_NO_list"
      ],
      "execution_count": 64,
      "outputs": []
    },
    {
      "cell_type": "code",
      "metadata": {
        "id": "tomgKbdZu5NN",
        "outputId": "b4271ba5-5f39-4bc9-9d68-2fe66d6b9c9a",
        "colab": {
          "base_uri": "https://localhost:8080/"
        }
      },
      "source": [
        "generate_number_plate(prefix=\"AK\",upper_range=9869,lower_range=1000,count=15)"
      ],
      "execution_count": 65,
      "outputs": [
        {
          "output_type": "execute_result",
          "data": {
            "text/plain": [
              "['AK29OX5061',\n",
              " 'AK45ZD1110',\n",
              " 'AK28IT2705',\n",
              " 'AK17DW8415',\n",
              " 'AK33FG6842',\n",
              " 'AK52ZA2946',\n",
              " 'AK79ZS1515',\n",
              " 'AK76QH4819',\n",
              " 'AK59PK4580',\n",
              " 'AK31UK3645',\n",
              " 'AK79MH8229',\n",
              " 'AK87BO8523',\n",
              " 'AK17AP1719',\n",
              " 'AK88YC7569',\n",
              " 'AK73GT6492']"
            ]
          },
          "metadata": {
            "tags": []
          },
          "execution_count": 65
        }
      ]
    }
  ]
}