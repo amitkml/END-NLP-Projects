{
  "nbformat": 4,
  "nbformat_minor": 0,
  "metadata": {
    "kernelspec": {
      "display_name": "Python 3",
      "language": "python",
      "name": "python3"
    },
    "language_info": {
      "codemirror_mode": {
        "name": "ipython",
        "version": 3
      },
      "file_extension": ".py",
      "mimetype": "text/x-python",
      "name": "python",
      "nbconvert_exporter": "python",
      "pygments_lexer": "ipython3",
      "version": "3.8.2"
    },
    "colab": {
      "name": "END_NLP_Class_9_Assgn_QASC_NMT_Model_2_Encoder_Decoder_Attention_2.0.ipynb",
      "provenance": [],
      "collapsed_sections": [
        "hFN65G2G-XKf"
      ]
    },
    "accelerator": "GPU"
  },
  "cells": [
    {
      "cell_type": "markdown",
      "metadata": {
        "id": "ITR8rhVFXRjs"
      },
      "source": [
        "# This model is being trained with [QASC]https://github.com/allenai/qasc#Dataset) dataset.\r\n",
        "\r\n",
        "QASC is a question-answering dataset with a focus on sentence composition. It consists of 9,980 8-way multiple-choice questions about grade school science (8,134 train, 926 dev, 920 test)"
      ]
    },
    {
      "cell_type": "code",
      "metadata": {
        "id": "_KDJ9ysmCdyp",
        "colab": {
          "base_uri": "https://localhost:8080/"
        },
        "outputId": "1af05a23-a558-4d34-a39e-58b37bf7d248"
      },
      "source": [
        "%%bash\n",
        "python -m spacy download en\n",
        "# python -m spacy download de"
      ],
      "execution_count": 78,
      "outputs": [
        {
          "output_type": "stream",
          "text": [
            "Requirement already satisfied: en_core_web_sm==2.2.5 from https://github.com/explosion/spacy-models/releases/download/en_core_web_sm-2.2.5/en_core_web_sm-2.2.5.tar.gz#egg=en_core_web_sm==2.2.5 in /usr/local/lib/python3.6/dist-packages (2.2.5)\n",
            "Requirement already satisfied: spacy>=2.2.2 in /usr/local/lib/python3.6/dist-packages (from en_core_web_sm==2.2.5) (2.2.4)\n",
            "Requirement already satisfied: srsly<1.1.0,>=1.0.2 in /usr/local/lib/python3.6/dist-packages (from spacy>=2.2.2->en_core_web_sm==2.2.5) (1.0.5)\n",
            "Requirement already satisfied: cymem<2.1.0,>=2.0.2 in /usr/local/lib/python3.6/dist-packages (from spacy>=2.2.2->en_core_web_sm==2.2.5) (2.0.5)\n",
            "Requirement already satisfied: plac<1.2.0,>=0.9.6 in /usr/local/lib/python3.6/dist-packages (from spacy>=2.2.2->en_core_web_sm==2.2.5) (1.1.3)\n",
            "Requirement already satisfied: requests<3.0.0,>=2.13.0 in /usr/local/lib/python3.6/dist-packages (from spacy>=2.2.2->en_core_web_sm==2.2.5) (2.23.0)\n",
            "Requirement already satisfied: numpy>=1.15.0 in /usr/local/lib/python3.6/dist-packages (from spacy>=2.2.2->en_core_web_sm==2.2.5) (1.19.4)\n",
            "Requirement already satisfied: preshed<3.1.0,>=3.0.2 in /usr/local/lib/python3.6/dist-packages (from spacy>=2.2.2->en_core_web_sm==2.2.5) (3.0.5)\n",
            "Requirement already satisfied: setuptools in /usr/local/lib/python3.6/dist-packages (from spacy>=2.2.2->en_core_web_sm==2.2.5) (51.0.0)\n",
            "Requirement already satisfied: thinc==7.4.0 in /usr/local/lib/python3.6/dist-packages (from spacy>=2.2.2->en_core_web_sm==2.2.5) (7.4.0)\n",
            "Requirement already satisfied: murmurhash<1.1.0,>=0.28.0 in /usr/local/lib/python3.6/dist-packages (from spacy>=2.2.2->en_core_web_sm==2.2.5) (1.0.5)\n",
            "Requirement already satisfied: wasabi<1.1.0,>=0.4.0 in /usr/local/lib/python3.6/dist-packages (from spacy>=2.2.2->en_core_web_sm==2.2.5) (0.8.0)\n",
            "Requirement already satisfied: catalogue<1.1.0,>=0.0.7 in /usr/local/lib/python3.6/dist-packages (from spacy>=2.2.2->en_core_web_sm==2.2.5) (1.0.0)\n",
            "Requirement already satisfied: tqdm<5.0.0,>=4.38.0 in /usr/local/lib/python3.6/dist-packages (from spacy>=2.2.2->en_core_web_sm==2.2.5) (4.41.1)\n",
            "Requirement already satisfied: blis<0.5.0,>=0.4.0 in /usr/local/lib/python3.6/dist-packages (from spacy>=2.2.2->en_core_web_sm==2.2.5) (0.4.1)\n",
            "Requirement already satisfied: urllib3!=1.25.0,!=1.25.1,<1.26,>=1.21.1 in /usr/local/lib/python3.6/dist-packages (from requests<3.0.0,>=2.13.0->spacy>=2.2.2->en_core_web_sm==2.2.5) (1.24.3)\n",
            "Requirement already satisfied: chardet<4,>=3.0.2 in /usr/local/lib/python3.6/dist-packages (from requests<3.0.0,>=2.13.0->spacy>=2.2.2->en_core_web_sm==2.2.5) (3.0.4)\n",
            "Requirement already satisfied: idna<3,>=2.5 in /usr/local/lib/python3.6/dist-packages (from requests<3.0.0,>=2.13.0->spacy>=2.2.2->en_core_web_sm==2.2.5) (2.10)\n",
            "Requirement already satisfied: certifi>=2017.4.17 in /usr/local/lib/python3.6/dist-packages (from requests<3.0.0,>=2.13.0->spacy>=2.2.2->en_core_web_sm==2.2.5) (2020.12.5)\n",
            "Requirement already satisfied: importlib-metadata>=0.20; python_version < \"3.8\" in /usr/local/lib/python3.6/dist-packages (from catalogue<1.1.0,>=0.0.7->spacy>=2.2.2->en_core_web_sm==2.2.5) (3.3.0)\n",
            "Requirement already satisfied: zipp>=0.5 in /usr/local/lib/python3.6/dist-packages (from importlib-metadata>=0.20; python_version < \"3.8\"->catalogue<1.1.0,>=0.0.7->spacy>=2.2.2->en_core_web_sm==2.2.5) (3.4.0)\n",
            "Requirement already satisfied: typing-extensions>=3.6.4; python_version < \"3.8\" in /usr/local/lib/python3.6/dist-packages (from importlib-metadata>=0.20; python_version < \"3.8\"->catalogue<1.1.0,>=0.0.7->spacy>=2.2.2->en_core_web_sm==2.2.5) (3.7.4.3)\n",
            "\u001b[38;5;2m✔ Download and installation successful\u001b[0m\n",
            "You can now load the model via spacy.load('en_core_web_sm')\n",
            "\u001b[38;5;2m✔ Linking successful\u001b[0m\n",
            "/usr/local/lib/python3.6/dist-packages/en_core_web_sm -->\n",
            "/usr/local/lib/python3.6/dist-packages/spacy/data/en\n",
            "You can now load the model via spacy.load('en')\n"
          ],
          "name": "stdout"
        }
      ]
    },
    {
      "cell_type": "markdown",
      "metadata": {
        "id": "ZoWCRFWX4LZy"
      },
      "source": [
        "![image](https://media.giphy.com/media/YknAouVrcbkiDvWUOR/giphy.gif)\r\n",
        "\r\n",
        "![image](https://media.giphy.com/media/26xBtSyoi5hUUkCEo/giphy.gif)\r\n",
        "\r\n",
        "![image](https://media.giphy.com/media/3o6Ztg5jGKDQSjaZ1K/giphy.gif)"
      ]
    },
    {
      "cell_type": "markdown",
      "metadata": {
        "id": "r5Am1eK24TLt"
      },
      "source": [
        "## Data Download and Preparation"
      ]
    },
    {
      "cell_type": "markdown",
      "metadata": {
        "id": "03sSSoCYv3pz"
      },
      "source": [
        "### There are three QASC files:\r\n",
        "\r\n",
        "**Dataset:**\r\n",
        "\r\n",
        "It has following fields\r\n",
        "- ID\r\n",
        "- Question Stem\t\r\n",
        "- Choices\r\n",
        "- Complete Question\t\r\n",
        "- Answer Key\r\n",
        "\r\n",
        "**Lets understand dataset more and see how we can define dataset for our model which needs questions and answer.**\r\n",
        "- Our model should look into the Question stem and generate answer. So if our question stem is \"The sun is responsible for\" then answer will be \"plants sprouting, blooming and wilting\"\r\n"
      ]
    },
    {
      "cell_type": "markdown",
      "metadata": {
        "id": "Pl9xgfZUrey2"
      },
      "source": [
        "#### QASC record"
      ]
    },
    {
      "cell_type": "code",
      "metadata": {
        "id": "IN_yePs3q3O9"
      },
      "source": [
        "from requests import get, models\r\n",
        "import json\r\n",
        "from IPython.display import HTML\r\n",
        "\r\n",
        "render_template = \"\"\"\r\n",
        "<script src=\"https://rawgit.com/caldwell/renderjson/master/renderjson.js\"></script>\r\n",
        "<script>\r\n",
        "renderjson.set_show_to_level(1)\r\n",
        "document.body.appendChild(renderjson(%s))\r\n",
        "new ResizeObserver(google.colab.output.resizeIframeToContent).observe(document.body)\r\n",
        "</script>\r\n",
        "\"\"\"\r\n",
        "models.Response._repr_html_ = lambda rsp: render_template % rsp.text\r\n",
        "\r\n",
        "def render(jsondict):\r\n",
        "  return HTML(render_template % json.dumps(jsondict))"
      ],
      "execution_count": 133,
      "outputs": []
    },
    {
      "cell_type": "code",
      "metadata": {
        "colab": {
          "base_uri": "https://localhost:8080/",
          "height": 748
        },
        "id": "iDkxPopkq40h",
        "outputId": "36f5af42-72ff-4ef7-8ab5-5d5549d63433"
      },
      "source": [
        "jsondict = {\"id\":\"3B1NLC6UGZVERVLZFT7OUYQLD1SGPZ\",\"question\":{\"stem\":\"By what time had mouse-sized viviparous mammals evolved?\",\"choices\":[{\"text\":\"Corvidae\",\"label\":\"A\"},{\"text\":\"arthropods\",\"label\":\"B\"},{\"text\":\"birds\",\"label\":\"C\"},{\"text\":\"backbones\",\"label\":\"D\"},{\"text\":\"keratin\",\"label\":\"E\"},{\"text\":\"Jurassic\",\"label\":\"F\"},{\"text\":\"front paws\",\"label\":\"G\"},{\"text\":\"Parakeets.\",\"label\":\"H\"}]},\"formatted_question\":\"By what time had mouse-sized viviparous mammals evolved? (A) Corvidae (B) arthropods (C) birds (D) backbones (E) keratin (F) Jurassic (G) front paws (H) Parakeets.\"}\r\n",
        "render(jsondict)"
      ],
      "execution_count": 134,
      "outputs": [
        {
          "output_type": "execute_result",
          "data": {
            "text/html": [
              "\n",
              "<script src=\"https://rawgit.com/caldwell/renderjson/master/renderjson.js\"></script>\n",
              "<script>\n",
              "renderjson.set_show_to_level(1)\n",
              "document.body.appendChild(renderjson({\"id\": \"3B1NLC6UGZVERVLZFT7OUYQLD1SGPZ\", \"question\": {\"stem\": \"By what time had mouse-sized viviparous mammals evolved?\", \"choices\": [{\"text\": \"Corvidae\", \"label\": \"A\"}, {\"text\": \"arthropods\", \"label\": \"B\"}, {\"text\": \"birds\", \"label\": \"C\"}, {\"text\": \"backbones\", \"label\": \"D\"}, {\"text\": \"keratin\", \"label\": \"E\"}, {\"text\": \"Jurassic\", \"label\": \"F\"}, {\"text\": \"front paws\", \"label\": \"G\"}, {\"text\": \"Parakeets.\", \"label\": \"H\"}]}, \"formatted_question\": \"By what time had mouse-sized viviparous mammals evolved? (A) Corvidae (B) arthropods (C) birds (D) backbones (E) keratin (F) Jurassic (G) front paws (H) Parakeets.\"}))\n",
              "new ResizeObserver(google.colab.output.resizeIframeToContent).observe(document.body)\n",
              "</script>\n"
            ],
            "text/plain": [
              "<IPython.core.display.HTML object>"
            ]
          },
          "metadata": {
            "tags": []
          },
          "execution_count": 134
        }
      ]
    },
    {
      "cell_type": "code",
      "metadata": {
        "id": "8Yejdi7TeTP1"
      },
      "source": [
        "import numpy as np # linear algebra\r\n",
        "import pandas as pd # data processing, CSV file I/O (e.g. pd.read_csv)\r\n",
        "import os\r\n",
        "import matplotlib.pyplot as plt\r\n",
        "import string\r\n",
        "import json # to read json"
      ],
      "execution_count": 79,
      "outputs": []
    },
    {
      "cell_type": "code",
      "metadata": {
        "colab": {
          "base_uri": "https://localhost:8080/"
        },
        "id": "c3Sns-MYlWR_",
        "outputId": "b26f0765-cee5-4181-9615-4293489eeba9"
      },
      "source": [
        "!wget http://data.allenai.org/downloads/qasc/qasc_dataset.tar.gz\r\n",
        "!tar xvfz qasc_dataset.tar.gz\r\n",
        "!rm qasc_dataset.tar.gz"
      ],
      "execution_count": 80,
      "outputs": [
        {
          "output_type": "stream",
          "text": [
            "--2020-12-29 17:59:20--  http://data.allenai.org/downloads/qasc/qasc_dataset.tar.gz\n",
            "Resolving data.allenai.org (data.allenai.org)... 52.218.217.186\n",
            "Connecting to data.allenai.org (data.allenai.org)|52.218.217.186|:80... connected.\n",
            "HTTP request sent, awaiting response... 200 OK\n",
            "Length: 1616514 (1.5M) [application/x-gzip]\n",
            "Saving to: ‘qasc_dataset.tar.gz’\n",
            "\n",
            "qasc_dataset.tar.gz 100%[===================>]   1.54M  --.-KB/s    in 0.09s   \n",
            "\n",
            "2020-12-29 17:59:21 (16.3 MB/s) - ‘qasc_dataset.tar.gz’ saved [1616514/1616514]\n",
            "\n",
            "QASC_Dataset/\n",
            "QASC_Dataset/train.jsonl\n",
            "QASC_Dataset/test.jsonl\n",
            "QASC_Dataset/dev.jsonl\n"
          ],
          "name": "stdout"
        }
      ]
    },
    {
      "cell_type": "code",
      "metadata": {
        "id": "aMeKSBfXc3fT"
      },
      "source": [
        "column_names = [\"question\", \"answer\"]\r\n",
        "QASC_Dataset_train = pd.DataFrame(columns = column_names)\r\n",
        "QASC_Dataset_dev = pd.DataFrame(columns = column_names)\r\n",
        "QASC_Dataset_test = pd.DataFrame(columns = column_names)"
      ],
      "execution_count": 81,
      "outputs": []
    },
    {
      "cell_type": "code",
      "metadata": {
        "id": "H75rF3qneDaj"
      },
      "source": [
        "## Lets read train file first/.\r\n",
        "def _read_train(file_path):\r\n",
        "  answer = \"\"\r\n",
        "  with open(file_path, \"r\") as f:\r\n",
        "    lst = []\r\n",
        "    for line_num, line in enumerate(f):\r\n",
        "      line = line.strip(\"\\n\")\r\n",
        "      line = json.loads(line)\r\n",
        "      if not line:\r\n",
        "        continue\r\n",
        "      question = line['question']['stem']\r\n",
        "      answerkey = line['answerKey']\r\n",
        "      if answerkey == 'A':\r\n",
        "        answer = line['question']['choices'][0]['text']\r\n",
        "      elif answerkey == 'B':\r\n",
        "        answer = line['question']['choices'][1]['text']\r\n",
        "      elif answerkey == 'C':\r\n",
        "        answer = line['question']['choices'][2]['text']\r\n",
        "      elif answerkey == 'D':\r\n",
        "        answer = line['question']['choices'][3]['text']\r\n",
        "      elif answerkey == 'E':\r\n",
        "        answer = line['question']['choices'][4]['text']\r\n",
        "      elif answerkey == 'F':\r\n",
        "        answer = line['question']['choices'][5]['text']\r\n",
        "      elif answerkey == 'G':\r\n",
        "        answer = line['question']['choices'][6]['text']\r\n",
        "      elif answerkey == 'H':\r\n",
        "        answer = line['question']['choices'][7]['text']\r\n",
        "      else:\r\n",
        "        answer =\"Not Available\"\r\n",
        "      lst.append([question,answer])\r\n",
        "      # print(lst)\r\n",
        "  df = pd.DataFrame(lst,columns = column_names) \r\n",
        "  # df = df.append(a_series, ignore_index=True)\r\n",
        "  return df"
      ],
      "execution_count": 82,
      "outputs": []
    },
    {
      "cell_type": "code",
      "metadata": {
        "id": "9EQTTsV9gTSo"
      },
      "source": [
        "## Lets read val file first/.\r\n",
        "def _read_val(file_path):\r\n",
        "  answer = \"\"\r\n",
        "  with open(file_path, \"r\") as f:\r\n",
        "    lst = []\r\n",
        "    for line_num, line in enumerate(f):\r\n",
        "      line = line.strip(\"\\n\")\r\n",
        "      line = json.loads(line)\r\n",
        "      if not line:\r\n",
        "        continue\r\n",
        "      question = line['question']['stem']\r\n",
        "      answerkey = line['answerKey']\r\n",
        "      if answerkey == 'A':\r\n",
        "        answer = line['question']['choices'][0]['text']\r\n",
        "      elif answerkey == 'B':\r\n",
        "        answer = line['question']['choices'][1]['text']\r\n",
        "      elif answerkey == 'C':\r\n",
        "        answer = line['question']['choices'][2]['text']\r\n",
        "      elif answerkey == 'D':\r\n",
        "        answer = line['question']['choices'][3]['text']\r\n",
        "      elif answerkey == 'E':\r\n",
        "        answer = line['question']['choices'][4]['text']\r\n",
        "      elif answerkey == 'F':\r\n",
        "        answer = line['question']['choices'][5]['text']\r\n",
        "      elif answerkey == 'G':\r\n",
        "        answer = line['question']['choices'][6]['text']\r\n",
        "      elif answerkey == 'H':\r\n",
        "        answer = line['question']['choices'][7]['text']\r\n",
        "      else:\r\n",
        "        answer =\"Not Available\"\r\n",
        "      lst.append([question,answer])\r\n",
        "      # print(lst)\r\n",
        "  df = pd.DataFrame(lst,columns = column_names) \r\n",
        "  # df = df.append(a_series, ignore_index=True)\r\n",
        "  return df"
      ],
      "execution_count": 83,
      "outputs": []
    },
    {
      "cell_type": "code",
      "metadata": {
        "id": "xrF1qGA8ilmJ"
      },
      "source": [
        "## Lets read val file first/.\r\n",
        "def _read_test(file_path):\r\n",
        "  answer = \"\"\r\n",
        "  with open(file_path, \"r\") as f:\r\n",
        "    lst = []\r\n",
        "    for line_num, line in enumerate(f):\r\n",
        "      line = line.strip(\"\\n\")\r\n",
        "      line = json.loads(line)\r\n",
        "      if not line:\r\n",
        "        continue\r\n",
        "      question = line['question']['stem']\r\n",
        "      lst.append([question,answer])\r\n",
        "      # print(lst)\r\n",
        "  df = pd.DataFrame(lst,columns = column_names) \r\n",
        "  # df = df.append(a_series, ignore_index=True)\r\n",
        "  return df"
      ],
      "execution_count": 84,
      "outputs": []
    },
    {
      "cell_type": "code",
      "metadata": {
        "id": "hgb5L67w3CXR"
      },
      "source": [
        "QASC_Dataset_train = _read_train(\"/content/QASC_Dataset/train.jsonl\")\r\n",
        "QASC_Dataset_dev = _read_val(\"/content/QASC_Dataset/dev.jsonl\")\r\n",
        "QASC_Dataset_test = _read_test(\"/content/QASC_Dataset/test.jsonl\")"
      ],
      "execution_count": 85,
      "outputs": []
    },
    {
      "cell_type": "code",
      "metadata": {
        "colab": {
          "base_uri": "https://localhost:8080/"
        },
        "id": "Uk5xshFgA76J",
        "outputId": "4d337003-b977-4e4c-b64f-6d3bb91a07d9"
      },
      "source": [
        "print(f\"Train Data:\\n {QASC_Dataset_train.head(2)}\")\r\n",
        "print(f\"Val Data:\\n{QASC_Dataset_dev.head(2)}\")\r\n",
        "print(f\"Test Data:\\n{QASC_Dataset_test.head(2)}\")"
      ],
      "execution_count": 86,
      "outputs": [
        {
          "output_type": "stream",
          "text": [
            "Train Data:\n",
            "                                             question                       answer\n",
            "0  What type of water formation is formed by clouds?                        beads\n",
            "1                 Where do beads of water come from?  Vapor turning into a liquid\n",
            "Val Data:\n",
            "                                           question                    answer\n",
            "0  Climate is generally described in terms of what?  local weather conditions\n",
            "1                          what varies by altitude?  temperature and moisture\n",
            "Test Data:\n",
            "                                            question answer\n",
            "0        What type of birth do therian mammals have?       \n",
            "1  By what time had mouse-sized viviparous mammal...       \n"
          ],
          "name": "stdout"
        }
      ]
    },
    {
      "cell_type": "code",
      "metadata": {
        "colab": {
          "base_uri": "https://localhost:8080/"
        },
        "id": "e2syAcDnD4Rp",
        "outputId": "a9d2e24e-39cc-4565-a58b-e77a44795378"
      },
      "source": [
        "QASC_Dataset_train.columns"
      ],
      "execution_count": 87,
      "outputs": [
        {
          "output_type": "execute_result",
          "data": {
            "text/plain": [
              "Index(['question', 'answer'], dtype='object')"
            ]
          },
          "metadata": {
            "tags": []
          },
          "execution_count": 87
        }
      ]
    },
    {
      "cell_type": "code",
      "metadata": {
        "colab": {
          "base_uri": "https://localhost:8080/"
        },
        "id": "WSeLH8-LP74e",
        "outputId": "e049b781-efe8-48a3-93a7-9644a5eee89b"
      },
      "source": [
        "print(f\"QASC_Dataset_train Dataset size:{QASC_Dataset_train.shape}\")\r\n",
        "print(f\"QASC_Dataset_dev Dataset size:{QASC_Dataset_dev.shape}\")\r\n",
        "print(f\"QASC_Dataset_test Dataset size:{QASC_Dataset_test.shape}\")"
      ],
      "execution_count": 88,
      "outputs": [
        {
          "output_type": "stream",
          "text": [
            "QASC_Dataset_train Dataset size:(8134, 2)\n",
            "QASC_Dataset_dev Dataset size:(926, 2)\n",
            "QASC_Dataset_test Dataset size:(920, 2)\n"
          ],
          "name": "stdout"
        }
      ]
    },
    {
      "cell_type": "markdown",
      "metadata": {
        "id": "QtxJBHCUAiwx"
      },
      "source": [
        "### Data Preparation"
      ]
    },
    {
      "cell_type": "code",
      "metadata": {
        "id": "vHTEL5WBz-2E"
      },
      "source": [
        "import random\r\n",
        "import torch, torchtext\r\n",
        "from torchtext import data "
      ],
      "execution_count": 89,
      "outputs": []
    },
    {
      "cell_type": "markdown",
      "metadata": {
        "id": "hFN65G2G-XKf"
      },
      "source": [
        "### Utility Functions"
      ]
    },
    {
      "cell_type": "markdown",
      "metadata": {
        "id": "YmryKW4a-ahZ"
      },
      "source": [
        "**Random Deletion**"
      ]
    },
    {
      "cell_type": "code",
      "metadata": {
        "id": "MgJ5--pd-Zv8"
      },
      "source": [
        "# randomly delete words from a sentence with a given probability\r\n",
        "\r\n",
        "def random_deletion(sentence, p=0.5): \r\n",
        "    # return if single word\r\n",
        "    if len(sentence) == 1: \r\n",
        "        return sentence\r\n",
        "    # delete words\r\n",
        "    remaining = list(filter(lambda x: random.uniform(0,1) > p, sentence)) \r\n",
        "    # if nothing left, sample a random word\r\n",
        "    if len(remaining) == 0: \r\n",
        "        return [random.choice(sentence)] \r\n",
        "    else:\r\n",
        "        return remaining"
      ],
      "execution_count": 90,
      "outputs": []
    },
    {
      "cell_type": "markdown",
      "metadata": {
        "id": "tKBzYhoq-jxC"
      },
      "source": [
        "**Random Swap**"
      ]
    },
    {
      "cell_type": "code",
      "metadata": {
        "id": "3xkzJDwP-oYi"
      },
      "source": [
        "# randomly swap a pair of words in a sentence for a given # of times\r\n",
        "\r\n",
        "def random_swap(sentence, n=5): \r\n",
        "    if len(sentence) < 2:\r\n",
        "      return sentence\r\n",
        "    length = range(len(sentence)) \r\n",
        "    for _ in range(n):\r\n",
        "        idx1, idx2 = random.sample(length, 2)\r\n",
        "        sentence[idx1], sentence[idx2] = sentence[idx2], sentence[idx1] \r\n",
        "    return sentence"
      ],
      "execution_count": 91,
      "outputs": []
    },
    {
      "cell_type": "markdown",
      "metadata": {
        "id": "LWJ9afQd-rkd"
      },
      "source": [
        "**Back Translation**"
      ]
    },
    {
      "cell_type": "code",
      "metadata": {
        "id": "QpmCtjuD-zhz"
      },
      "source": [
        "# translate a sentence to a random language,\r\n",
        "# and translate back to original language\r\n",
        "\r\n",
        "def back_translate(sentence, p=0.1):\r\n",
        "  # do nothing with probability of 1-p\r\n",
        "  if random.uniform(0,1) > p:\r\n",
        "    return sentence\r\n",
        "\r\n",
        "  # combine tokenized sentence into one string\r\n",
        "  sentence = ' '.join(sentence)\r\n",
        "\r\n",
        "  # instantiate translator\r\n",
        "  translator = google_translator()\r\n",
        "\r\n",
        "  # choose a target language\r\n",
        "  available_langs = list(google_trans_new.LANGUAGES.keys()) \r\n",
        "  trans_lang = random.choice(available_langs) \r\n",
        "  #print(f\"Translating to {google_trans_new.LANGUAGES[trans_lang]}\")\r\n",
        "\r\n",
        "  # translate to the target language\r\n",
        "  translations = translator.translate(sentence, lang_tgt=trans_lang) \r\n",
        "  #print(translations)\r\n",
        "\r\n",
        "  # translate back to original language\r\n",
        "  translations_en_random = translator.translate(translations, lang_src=trans_lang, lang_tgt='en') \r\n",
        "  #print(translations_en_random)\r\n",
        "\r\n",
        "  # select only one translation\r\n",
        "  if len(translations_en_random) > 1:\r\n",
        "    translations_en_random = translations_en_random[0]\r\n",
        "\r\n",
        "  return word_tokenize(translations_en_random)"
      ],
      "execution_count": 92,
      "outputs": []
    },
    {
      "cell_type": "markdown",
      "metadata": {
        "id": "mLlGDxkI-41A"
      },
      "source": [
        "**Carry Out Data Augmentation**"
      ]
    },
    {
      "cell_type": "code",
      "metadata": {
        "id": "37UZpAEd_e5k"
      },
      "source": [
        "# for example in train.examples: \r\n",
        "#   example.tweets = back_translate(example.tweets, p=0.01)\r\n",
        "#   example.tweets = random_deletion(example.tweets, p=0.1)\r\n",
        "#   example.tweets = random_swap(example.tweets, n=1)"
      ],
      "execution_count": 93,
      "outputs": []
    },
    {
      "cell_type": "markdown",
      "metadata": {
        "id": "phs47VOfCayt"
      },
      "source": [
        "### Tabular File Reading"
      ]
    },
    {
      "cell_type": "code",
      "metadata": {
        "id": "EhwqXgVCxv9Q"
      },
      "source": [
        "import torch\r\n",
        "import torch.nn as nn\r\n",
        "import torch.optim as optim\r\n",
        "import torch.nn.functional as F\r\n",
        "import os\r\n",
        "# from torchtext.datasets import Multi30k\r\n",
        "from torchtext.data import Field, BucketIterator\r\n",
        "from torchtext import data\r\n",
        "from torchtext import datasets\r\n",
        "\r\n",
        "import spacy\r\n",
        "import numpy as np\r\n",
        "\r\n",
        "import random\r\n",
        "import math\r\n",
        "import time\r\n",
        "import torch\r\n",
        "from torchtext import data\r\n",
        "from torchtext import datasets\r\n",
        "import pandas as pd"
      ],
      "execution_count": 94,
      "outputs": []
    },
    {
      "cell_type": "code",
      "metadata": {
        "id": "myNJfEKPvdHs"
      },
      "source": [
        "# Creating my home directory for keeping all the CSV files\r\n",
        "directory = 'data'\r\n",
        "if not os.path.exists(directory):\r\n",
        "    os.makedirs('data')\r\n",
        "    print(\"Directory '% s' created\" % directory)"
      ],
      "execution_count": 95,
      "outputs": []
    },
    {
      "cell_type": "code",
      "metadata": {
        "id": "w4Q-omAP7IqD"
      },
      "source": [
        "# saving all the dataframe into CSV file.\r\n",
        "QASC_Dataset_train.to_csv(\"/content/data/QASC_Dataset_train.csv\", index=False)\r\n",
        "QASC_Dataset_dev.to_csv(\"/content/data/QASC_Dataset_dev.csv\", index=False)\r\n",
        "QASC_Dataset_test.to_csv(\"/content/data/QASC_Dataset_test.csv\", index=False)"
      ],
      "execution_count": 96,
      "outputs": []
    },
    {
      "cell_type": "code",
      "metadata": {
        "colab": {
          "base_uri": "https://localhost:8080/"
        },
        "id": "TUF8cnMhy_oY",
        "outputId": "19e272ce-cef3-4be0-a87e-99535d381a33"
      },
      "source": [
        "## Now lets check how many null we have in training data\r\n",
        "QASC_Dataset_train = pd.read_csv(\"/content/data/QASC_Dataset_train.csv\")\r\n",
        "hotspot_trn_train_null = QASC_Dataset_train.columns[QASC_Dataset_train.isnull().any()]\r\n",
        "QASC_Dataset_train[hotspot_trn_train_null].isnull().sum()"
      ],
      "execution_count": 97,
      "outputs": [
        {
          "output_type": "execute_result",
          "data": {
            "text/plain": [
              "Series([], dtype: float64)"
            ]
          },
          "metadata": {
            "tags": []
          },
          "execution_count": 97
        }
      ]
    },
    {
      "cell_type": "code",
      "metadata": {
        "colab": {
          "base_uri": "https://localhost:8080/"
        },
        "id": "38EEii_wgZQk",
        "outputId": "b018d88e-7452-4510-91fb-20fb392e0c5c"
      },
      "source": [
        "## Check for null in valid data\r\n",
        "## Now lets check how many null we have in training data\r\n",
        "QASC_Dataset_train = pd.read_csv(\"/content/data/QASC_Dataset_dev.csv\")\r\n",
        "hotspot_trn_train_null = QASC_Dataset_train.columns[QASC_Dataset_train.isnull().any()]\r\n",
        "QASC_Dataset_train[hotspot_trn_train_null].isnull().sum()"
      ],
      "execution_count": 98,
      "outputs": [
        {
          "output_type": "execute_result",
          "data": {
            "text/plain": [
              "Series([], dtype: float64)"
            ]
          },
          "metadata": {
            "tags": []
          },
          "execution_count": 98
        }
      ]
    },
    {
      "cell_type": "code",
      "metadata": {
        "id": "6GMcVy5U-WfP"
      },
      "source": [
        "from torchtext.data import Field, BucketIterator\r\n",
        "from torchtext import data\r\n",
        "from torchtext import datasets"
      ],
      "execution_count": 99,
      "outputs": []
    },
    {
      "cell_type": "code",
      "metadata": {
        "id": "ASTvwOHA7rrj"
      },
      "source": [
        "# !shuf -n 63543 /content/data/Tweet_valid_nl.csv > /content/data/Tweet_Train_reduced.csv\r\n",
        "# !{ echo 'text_x, text_y'; cat /content/data/Tweet_Train_reduced.csv; } > /content/data/Tweet_Train_reduced_fn.csv"
      ],
      "execution_count": 100,
      "outputs": []
    },
    {
      "cell_type": "code",
      "metadata": {
        "id": "NTllvW5MuAZ0"
      },
      "source": [
        "# create Field objects\r\n",
        "QUESTION = data.Field(\r\n",
        "    # sequential = True,\r\n",
        "    tokenize = 'spacy', \r\n",
        "    # batch_first =True,\r\n",
        "    #  use_vocab=True,\r\n",
        "    lower = True,\r\n",
        "    init_token = '<sos>', \r\n",
        "    eos_token = '<eos>', \r\n",
        "    #  include_lengths=True\r\n",
        "    )\r\n",
        "\r\n",
        "RESPONSE = data.Field(tokenize ='spacy',\r\n",
        "                      # sequential = True, \r\n",
        "                      # include_lengths=True,\r\n",
        "                      lower = True,\r\n",
        "                      # is_target=True,\r\n",
        "                      init_token = '<sos>', \r\n",
        "                      eos_token = '<eos>', \r\n",
        "                      # batch_first =True\r\n",
        "                      )\r\n",
        "\r\n",
        "fields = [('question', QUESTION), ('answer', RESPONSE)]"
      ],
      "execution_count": 101,
      "outputs": []
    },
    {
      "cell_type": "code",
      "metadata": {
        "colab": {
          "base_uri": "https://localhost:8080/"
        },
        "id": "qg8C9cert5V1",
        "outputId": "85d62e68-a6d3-4a00-fea7-5234cb5c0493"
      },
      "source": [
        "# load the dataset in json format\r\n",
        "train_ds, valid_ds, test_ds = data.TabularDataset.splits(\r\n",
        "   path = 'data',\r\n",
        "   train = 'QASC_Dataset_train.csv',\r\n",
        "   validation = 'QASC_Dataset_dev.csv',\r\n",
        "   test = 'QASC_Dataset_test.csv',\r\n",
        "   format = 'csv',\r\n",
        "   fields = fields,\r\n",
        "   skip_header = True\r\n",
        ")\r\n",
        "\r\n",
        "# check an example\r\n",
        "print(vars(train_ds[0]))"
      ],
      "execution_count": 102,
      "outputs": [
        {
          "output_type": "stream",
          "text": [
            "{'question': ['what', 'type', 'of', 'water', 'formation', 'is', 'formed', 'by', 'clouds', '?'], 'answer': ['beads']}\n"
          ],
          "name": "stdout"
        }
      ]
    },
    {
      "cell_type": "code",
      "metadata": {
        "colab": {
          "base_uri": "https://localhost:8080/"
        },
        "id": "a7oSDrAUv0Ky",
        "outputId": "2da91a90-99b0-4077-a506-2aa5a06c27bb"
      },
      "source": [
        "train_ds[0].__dict__.keys()"
      ],
      "execution_count": 103,
      "outputs": [
        {
          "output_type": "execute_result",
          "data": {
            "text/plain": [
              "dict_keys(['question', 'answer'])"
            ]
          },
          "metadata": {
            "tags": []
          },
          "execution_count": 103
        }
      ]
    },
    {
      "cell_type": "code",
      "metadata": {
        "colab": {
          "base_uri": "https://localhost:8080/"
        },
        "id": "TLGpYWTyETSE",
        "outputId": "ef8315cf-e7bf-4eb6-8924-68a5bc932c6c"
      },
      "source": [
        "## we get an Example object. The Example object bundles the attributes of a single data point together. \r\n",
        "# We also see that the text has already been tokenized for us, but has not yet been converted to integers\r\n",
        "vars(train_ds.examples[10])"
      ],
      "execution_count": 104,
      "outputs": [
        {
          "output_type": "execute_result",
          "data": {
            "text/plain": [
              "{'answer': ['dehydration', 'and', 'salting'],\n",
              " 'question': ['what', 'are', 'two', 'ways', 'you', 'can', 'save', 'food', '?']}"
            ]
          },
          "metadata": {
            "tags": []
          },
          "execution_count": 104
        }
      ]
    },
    {
      "cell_type": "code",
      "metadata": {
        "colab": {
          "base_uri": "https://localhost:8080/"
        },
        "id": "12rnzGTnx6BM",
        "outputId": "73bb74fe-35fb-4bfb-b79f-b69185f32660"
      },
      "source": [
        "try:\r\n",
        "    print(len(train_ds[10]))\r\n",
        "except:\r\n",
        "    print(train_ds[10].question)"
      ],
      "execution_count": 105,
      "outputs": [
        {
          "output_type": "stream",
          "text": [
            "['what', 'are', 'two', 'ways', 'you', 'can', 'save', 'food', '?']\n"
          ],
          "name": "stdout"
        }
      ]
    },
    {
      "cell_type": "code",
      "metadata": {
        "id": "tK-5PItlE8eu"
      },
      "source": [
        "# Before creating iterators of the Datasets we need to build the vocabulary for each Field object:\r\n",
        "# This makes torchtext go through all the elements in the training set, check the contents corresponding to the TEXT field, \r\n",
        "# and register the words in its vocabulary. Torchtext has its own class called Vocab for handling the vocabulary. \r\n",
        "# The Vocab class holds a mapping from word to id in its stoi attribute and a reverse mapping in its itos attribute\r\n",
        "QUESTION.build_vocab(train_ds,\r\n",
        "                  # max_size=20000,\r\n",
        "                  min_freq=2)\r\n",
        "RESPONSE.build_vocab(train_ds,\r\n",
        "                    #  max_size=20000,\r\n",
        "                     min_freq=2\r\n",
        "                     )"
      ],
      "execution_count": 106,
      "outputs": []
    },
    {
      "cell_type": "code",
      "metadata": {
        "colab": {
          "base_uri": "https://localhost:8080/"
        },
        "id": "WegtEqfsFU1P",
        "outputId": "6e7e8635-f196-4d61-f21d-f9a944965df3"
      },
      "source": [
        "print(f\"Unique tokens in source (Hotspot) vocabulary: {len(QUESTION.vocab)}\")\r\n",
        "print(f\"Unique tokens in target (Hotspot) vocabulary: {len(RESPONSE.vocab)}\")"
      ],
      "execution_count": 107,
      "outputs": [
        {
          "output_type": "stream",
          "text": [
            "Unique tokens in source (Hotspot) vocabulary: 2498\n",
            "Unique tokens in target (Hotspot) vocabulary: 1691\n"
          ],
          "name": "stdout"
        }
      ]
    },
    {
      "cell_type": "markdown",
      "metadata": {
        "id": "IXPzJpICCdeo"
      },
      "source": [
        "**Restart Notebook**"
      ]
    },
    {
      "cell_type": "markdown",
      "metadata": {
        "id": "_GgLPTpV9ejD"
      },
      "source": [
        "# 3 - Neural Machine Translation by Jointly Learning to Align and Translate\n",
        "\n",
        "In this third notebook on sequence-to-sequence models using PyTorch and TorchText, we'll be implementing the model from [Neural Machine Translation by Jointly Learning to Align and Translate](https://arxiv.org/abs/1409.0473). This model achives our best perplexity yet, ~27 compared to ~34 for the previous model.\n",
        "\n",
        "## Introduction\n",
        "\n",
        "As a reminder, here is the general encoder-decoder model:\n",
        "\n",
        "![](https://github.com/bentrevett/pytorch-seq2seq/blob/master/assets/seq2seq1.png?raw=1)\n",
        "\n",
        "In the previous model, our architecture was set-up in a way to reduce \"information compression\" by explicitly passing the context vector, $z$, to the decoder at every time-step and by passing both the context vector and embedded input word, $d(y_t)$, along with the hidden state, $s_t$, to the linear layer, $f$, to make a prediction.\n",
        "\n",
        "![](https://github.com/bentrevett/pytorch-seq2seq/blob/master/assets/seq2seq7.png?raw=1)\n",
        "\n",
        "Even though we have reduced some of this compression, our context vector still needs to contain all of the information about the source sentence. The model implemented in this notebook avoids this compression by allowing the decoder to look at the entire source sentence (via its hidden states) at each decoding step! How does it do this? It uses *attention*. \n",
        "\n",
        "Attention works by first, calculating an attention vector, $a$, that is the length of the source sentence. The attention vector has the property that each element is between 0 and 1, and the entire vector sums to 1. We then calculate a weighted sum of our source sentence hidden states, $H$, to get a weighted source vector, $w$. \n",
        "\n",
        "$$w = \\sum_{i}a_ih_i$$\n",
        "\n",
        "We calculate a new weighted source vector every time-step when decoding, using it as input to our decoder RNN as well as the linear layer to make a prediction. We'll explain how to do all of this during the session.\n",
        "\n",
        "## Preparing Data\n",
        "\n",
        "Again, the preparation is similar to last time.\n",
        "\n",
        "First we import all the required modules."
      ]
    },
    {
      "cell_type": "code",
      "metadata": {
        "id": "rySJ5AJb9ejE"
      },
      "source": [
        "import torch\n",
        "import torch.nn as nn\n",
        "import torch.optim as optim\n",
        "import torch.nn.functional as F\n",
        "\n",
        "from torchtext.datasets import Multi30k\n",
        "from torchtext.data import Field, BucketIterator\n",
        "\n",
        "import spacy\n",
        "import numpy as np\n",
        "\n",
        "import random\n",
        "import math\n",
        "import time"
      ],
      "execution_count": 108,
      "outputs": []
    },
    {
      "cell_type": "markdown",
      "metadata": {
        "id": "rD1fj0R39ejE"
      },
      "source": [
        "Set the random seeds for reproducability."
      ]
    },
    {
      "cell_type": "code",
      "metadata": {
        "id": "uZJrN5ry9ejE"
      },
      "source": [
        "SEED = 1234\n",
        "\n",
        "random.seed(SEED)\n",
        "np.random.seed(SEED)\n",
        "torch.manual_seed(SEED)\n",
        "torch.cuda.manual_seed(SEED)\n",
        "torch.backends.cudnn.deterministic = True"
      ],
      "execution_count": 109,
      "outputs": []
    },
    {
      "cell_type": "markdown",
      "metadata": {
        "id": "w4Cul6h19ejF"
      },
      "source": [
        "Load the German and English spaCy models."
      ]
    },
    {
      "cell_type": "code",
      "metadata": {
        "id": "QmVlgfQY9ejF"
      },
      "source": [
        "# spacy_de = spacy.load('de')\n",
        "spacy_en = spacy.load('en')"
      ],
      "execution_count": 110,
      "outputs": []
    },
    {
      "cell_type": "markdown",
      "metadata": {
        "id": "XSzI_oby9ejF"
      },
      "source": [
        "We create the tokenizers."
      ]
    },
    {
      "cell_type": "markdown",
      "metadata": {
        "id": "Ot8vlVo09ejF"
      },
      "source": [
        "## Build the vocabulary\r\n",
        "\r\n",
        "Next, we'll build the vocabulary for the source and target languages. The vocabulary is used to associate each unique token with an index (an integer). The vocabularies of the source and target languages are distinct.\r\n",
        "\r\n",
        "Using the min_freq argument, we only allow tokens that appear at least 2 times to appear in our vocabulary. Tokens that appear only once are converted into an <unk> (unknown) token.\r\n",
        "\r\n",
        "It is important to note that our vocabulary should only be built from the training set and not the validation/test set. This prevents \"information leakage\" into our model, giving us artifically inflated validation/test scores."
      ]
    },
    {
      "cell_type": "code",
      "metadata": {
        "id": "HdMSPoGm9ejF"
      },
      "source": [
        "# Sentence.build_vocab(train, min_freq = 2)\n",
        "# Response.build_vocab(train, min_freq = 2)"
      ],
      "execution_count": 111,
      "outputs": []
    },
    {
      "cell_type": "markdown",
      "metadata": {
        "id": "BtqKGxNO9ejF"
      },
      "source": [
        "Define the device."
      ]
    },
    {
      "cell_type": "code",
      "metadata": {
        "id": "ey8yA-Yh9ejF"
      },
      "source": [
        "device = torch.device('cuda' if torch.cuda.is_available() else 'cpu')"
      ],
      "execution_count": 112,
      "outputs": []
    },
    {
      "cell_type": "code",
      "metadata": {
        "colab": {
          "base_uri": "https://localhost:8080/"
        },
        "id": "921-xizyHdEa",
        "outputId": "abc8a76e-cb40-4885-9138-65a3ecabc58b"
      },
      "source": [
        "print(f\"Unique tokens in source vocabulary: {len(QUESTION.vocab)}\")\r\n",
        "print(f\"Unique tokens in target vocabulary: {len(RESPONSE.vocab)}\")"
      ],
      "execution_count": 113,
      "outputs": [
        {
          "output_type": "stream",
          "text": [
            "Unique tokens in source vocabulary: 2498\n",
            "Unique tokens in target vocabulary: 1691\n"
          ],
          "name": "stdout"
        }
      ]
    },
    {
      "cell_type": "code",
      "metadata": {
        "colab": {
          "base_uri": "https://localhost:8080/"
        },
        "id": "q7G1rnioJIvu",
        "outputId": "8096daac-46ce-4ad0-ee65-264e0107cc95"
      },
      "source": [
        "RESPONSE.vocab"
      ],
      "execution_count": 114,
      "outputs": [
        {
          "output_type": "execute_result",
          "data": {
            "text/plain": [
              "<torchtext.vocab.Vocab at 0x7f74ae41a278>"
            ]
          },
          "metadata": {
            "tags": []
          },
          "execution_count": 114
        }
      ]
    },
    {
      "cell_type": "markdown",
      "metadata": {
        "id": "aqnAGiVU9ejF"
      },
      "source": [
        "Create the iterators."
      ]
    },
    {
      "cell_type": "code",
      "metadata": {
        "id": "g50zv9L79ejF"
      },
      "source": [
        "BATCH_SIZE = 64\n",
        "train_iterator, valid_iterator, test_iterator = data.BucketIterator.splits(\n",
        "    (train_ds, valid_ds,test_ds),\n",
        "    # sort_key=lambda x: len(x.text_x), # the BucketIterator needs to be told what function it should use to group the data.\n",
        "    # sort_within_batch=True,\n",
        "    batch_size = BATCH_SIZE,\n",
        "    sort_key=lambda x: len(x.question),\n",
        "    sort = True,\n",
        "    # repeat=False, # we pass repeat=False because we want to wrap this Iterator layer\n",
        "    device = device)\n",
        "# https://torchtext.readthedocs.io/en/latest/examples.html"
      ],
      "execution_count": 115,
      "outputs": []
    },
    {
      "cell_type": "code",
      "metadata": {
        "colab": {
          "base_uri": "https://localhost:8080/"
        },
        "id": "HChSi8Ldu2xb",
        "outputId": "d2662a75-edea-4e34-e19a-0a6c911e9478"
      },
      "source": [
        " b = next(iter(train_iterator)); vars(b).keys()"
      ],
      "execution_count": 116,
      "outputs": [
        {
          "output_type": "execute_result",
          "data": {
            "text/plain": [
              "dict_keys(['batch_size', 'dataset', 'fields', 'input_fields', 'target_fields', 'question', 'answer'])"
            ]
          },
          "metadata": {
            "tags": []
          },
          "execution_count": 116
        }
      ]
    },
    {
      "cell_type": "code",
      "metadata": {
        "colab": {
          "base_uri": "https://localhost:8080/"
        },
        "id": "GakZOA_SJPGo",
        "outputId": "244988a7-c66b-43e0-9823-cdcac3258c25"
      },
      "source": [
        "train_ds.fields"
      ],
      "execution_count": 117,
      "outputs": [
        {
          "output_type": "execute_result",
          "data": {
            "text/plain": [
              "{'answer': <torchtext.data.field.Field at 0x7f74ae41ae48>,\n",
              " 'question': <torchtext.data.field.Field at 0x7f74ae41ae80>}"
            ]
          },
          "metadata": {
            "tags": []
          },
          "execution_count": 117
        }
      ]
    },
    {
      "cell_type": "code",
      "metadata": {
        "colab": {
          "base_uri": "https://localhost:8080/"
        },
        "id": "22L9gBisKNpL",
        "outputId": "a0be5421-9392-4682-eecf-31f45dc65c05"
      },
      "source": [
        "type(train_iterator)\r\n",
        "type(train_ds)"
      ],
      "execution_count": 118,
      "outputs": [
        {
          "output_type": "execute_result",
          "data": {
            "text/plain": [
              "torchtext.data.dataset.TabularDataset"
            ]
          },
          "metadata": {
            "tags": []
          },
          "execution_count": 118
        }
      ]
    },
    {
      "cell_type": "markdown",
      "metadata": {
        "id": "QP5s8Vov9ejF"
      },
      "source": [
        "## Building the Seq2Seq Model\n",
        "\n",
        "### Encoder\n",
        "\n",
        "First, we'll build the encoder. Similar to the previous model, we only use a single layer GRU, however we now use a *bidirectional RNN*. With a bidirectional RNN, we have two RNNs in each layer. A *forward RNN* going over the embedded sentence from left to right (shown below in green), and a *backward RNN* going over the embedded sentence from right to left (teal). All we need to do in code is set `bidirectional = True` and then pass the embedded sentence to the RNN as before. \n",
        "\n",
        "![](https://github.com/bentrevett/pytorch-seq2seq/blob/master/assets/seq2seq8.png?raw=1)\n",
        "\n",
        "We now have:\n",
        "\n",
        "$$\\begin{align*}\n",
        "h_t^\\rightarrow &= \\text{EncoderGRU}^\\rightarrow(e(x_t^\\rightarrow),h_{t-1}^\\rightarrow)\\\\\n",
        "h_t^\\leftarrow &= \\text{EncoderGRU}^\\leftarrow(e(x_t^\\leftarrow),h_{t-1}^\\leftarrow)\n",
        "\\end{align*}$$\n",
        "\n",
        "Where $x_0^\\rightarrow = \\text{<sos>}, x_1^\\rightarrow = \\text{guten}$ and $x_0^\\leftarrow = \\text{<eos>}, x_1^\\leftarrow = \\text{morgen}$.\n",
        "\n",
        "As before, we only pass an input (`embedded`) to the RNN, which tells PyTorch to initialize both the forward and backward initial hidden states ($h_0^\\rightarrow$ and $h_0^\\leftarrow$, respectively) to a tensor of all zeros. We'll also get two context vectors, one from the forward RNN after it has seen the final word in the sentence, $z^\\rightarrow=h_T^\\rightarrow$, and one from the backward RNN after it has seen the first word in the sentence, $z^\\leftarrow=h_T^\\leftarrow$.\n",
        "\n",
        "The RNN returns `outputs` and `hidden`. \n",
        "\n",
        "`outputs` is of size **[src len, batch size, hid dim * num directions]** where the first `hid_dim` elements in the third axis are the hidden states from the top layer forward RNN, and the last `hid_dim` elements are hidden states from the top layer backward RNN. We can think of the third axis as being the forward and backward hidden states concatenated together other, i.e. $h_1 = [h_1^\\rightarrow; h_{T}^\\leftarrow]$, $h_2 = [h_2^\\rightarrow; h_{T-1}^\\leftarrow]$ and we can denote all encoder hidden states (forward and backwards concatenated together) as $H=\\{ h_1, h_2, ..., h_T\\}$.\n",
        "\n",
        "`hidden` is of size **[n layers * num directions, batch size, hid dim]**, where **[-2, :, :]** gives the top layer forward RNN hidden state after the final time-step (i.e. after it has seen the last word in the sentence) and **[-1, :, :]** gives the top layer backward RNN hidden state after the final time-step (i.e. after it has seen the first word in the sentence).\n",
        "\n",
        "As the decoder is not bidirectional, it only needs a single context vector, $z$, to use as its initial hidden state, $s_0$, and we currently have two, a forward and a backward one ($z^\\rightarrow=h_T^\\rightarrow$ and $z^\\leftarrow=h_T^\\leftarrow$, respectively). We solve this by concatenating the two context vectors together, passing them through a linear layer, $g$, and applying the $\\tanh$ activation function. \n",
        "\n",
        "$$z=\\tanh(g(h_T^\\rightarrow, h_T^\\leftarrow)) = \\tanh(g(z^\\rightarrow, z^\\leftarrow)) = s_0$$\n",
        "\n",
        "**Note**: this is actually a deviation from the paper. Instead, they feed only the first backward RNN hidden state through a linear layer to get the context vector/decoder initial hidden state. This doesn't seem to make sense to me, so we have changed it.\n",
        "\n",
        "As we want our model to look back over the whole of the source sentence we return `outputs`, the stacked forward and backward hidden states for every token in the source sentence. We also return `hidden`, which acts as our initial hidden state in the decoder."
      ]
    },
    {
      "cell_type": "code",
      "metadata": {
        "id": "Y8ovMJ3_9ejF"
      },
      "source": [
        "class Encoder(nn.Module):\n",
        "    def __init__(self, input_dim, emb_dim, enc_hid_dim, dec_hid_dim, dropout):\n",
        "        super().__init__()\n",
        "        \n",
        "        self.embedding = nn.Embedding(input_dim, emb_dim)\n",
        "        \n",
        "        self.rnn = nn.GRU(emb_dim, enc_hid_dim, bidirectional = True)\n",
        "        \n",
        "        self.fc = nn.Linear(enc_hid_dim * 2, dec_hid_dim)\n",
        "        \n",
        "        self.dropout = nn.Dropout(dropout)\n",
        "        \n",
        "    def forward(self, src):\n",
        "        \n",
        "        #src = [src len, batch size]\n",
        "        \n",
        "        embedded = self.dropout(self.embedding(src))\n",
        "        \n",
        "        #embedded = [src len, batch size, emb dim]\n",
        "        \n",
        "        outputs, hidden = self.rnn(embedded)\n",
        "                \n",
        "        #outputs = [src len, batch size, hid dim * num directions]\n",
        "        #hidden = [n layers * num directions, batch size, hid dim]\n",
        "        \n",
        "        #hidden is stacked [forward_1, backward_1, forward_2, backward_2, ...]\n",
        "        #outputs are always from the last layer\n",
        "        \n",
        "        #hidden [-2, :, : ] is the last of the forwards RNN \n",
        "        #hidden [-1, :, : ] is the last of the backwards RNN\n",
        "        \n",
        "        #initial decoder hidden is final hidden state of the forwards and backwards \n",
        "        #  encoder RNNs fed through a linear layer\n",
        "        hidden = torch.tanh(self.fc(torch.cat((hidden[-2,:,:], hidden[-1,:,:]), dim = 1)))\n",
        "        \n",
        "        #outputs = [src len, batch size, enc hid dim * 2]\n",
        "        #hidden = [batch size, dec hid dim]\n",
        "        \n",
        "        return outputs, hidden"
      ],
      "execution_count": 119,
      "outputs": []
    },
    {
      "cell_type": "markdown",
      "metadata": {
        "id": "o9WNKZ4D9ejF"
      },
      "source": [
        "### Attention\n",
        "\n",
        "Next up is the attention layer. This will take in the previous hidden state of the decoder, $s_{t-1}$, and all of the stacked forward and backward hidden states from the encoder, $H$. The layer will output an attention vector, $a_t$, that is the length of the source sentence, each element is between 0 and 1 and the entire vector sums to 1.\n",
        "\n",
        "Intuitively, this layer takes what we have decoded so far, $s_{t-1}$, and all of what we have encoded, $H$, to produce a vector, $a_t$, that represents which words in the source sentence we should pay the most attention to in order to correctly predict the next word to decode, $\\hat{y}_{t+1}$. \n",
        "\n",
        "First, we calculate the *energy* between the previous decoder hidden state and the encoder hidden states. As our encoder hidden states are a sequence of $T$ tensors, and our previous decoder hidden state is a single tensor, the first thing we do is `repeat` the previous decoder hidden state $T$ times. We then calculate the energy, $E_t$, between them by concatenating them together and passing them through a linear layer (`attn`) and a $\\tanh$ activation function. \n",
        "\n",
        "$$E_t = \\tanh(\\text{attn}(s_{t-1}, H))$$ \n",
        "\n",
        "This can be thought of as calculating how well each encoder hidden state \"matches\" the previous decoder hidden state.\n",
        "\n",
        "We currently have a **[dec hid dim, src len]** tensor for each example in the batch. We want this to be **[src len]** for each example in the batch as the attention should be over the length of the source sentence. This is achieved by multiplying the `energy` by a **[1, dec hid dim]** tensor, $v$.\n",
        "\n",
        "$$\\hat{a}_t = v E_t$$\n",
        "\n",
        "We can think of $v$ as the weights for a weighted sum of the energy across all encoder hidden states. These weights tell us how much we should attend to each token in the source sequence. The parameters of $v$ are initialized randomly, but learned with the rest of the model via backpropagation. Note how $v$ is not dependent on time, and the same $v$ is used for each time-step of the decoding. We implement $v$ as a linear layer without a bias.\n",
        "\n",
        "Finally, we ensure the attention vector fits the constraints of having all elements between 0 and 1 and the vector summing to 1 by passing it through a $\\text{softmax}$ layer.\n",
        "\n",
        "$$a_t = \\text{softmax}(\\hat{a_t})$$\n",
        "\n",
        "This gives us the attention over the source sentence!\n",
        "\n",
        "Graphically, this looks something like below. This is for calculating the very first attention vector, where $s_{t-1} = s_0 = z$. The green/teal blocks represent the hidden states from both the forward and backward RNNs, and the attention computation is all done within the pink block.\n",
        "\n",
        "![](https://github.com/bentrevett/pytorch-seq2seq/blob/master/assets/seq2seq9.png?raw=1)"
      ]
    },
    {
      "cell_type": "code",
      "metadata": {
        "id": "7yXR6Qbg9ejF"
      },
      "source": [
        "class Attention(nn.Module):\n",
        "    def __init__(self, enc_hid_dim, dec_hid_dim):\n",
        "        super().__init__()\n",
        "        \n",
        "        self.attn = nn.Linear((enc_hid_dim * 2) + dec_hid_dim, dec_hid_dim)\n",
        "        self.v = nn.Linear(dec_hid_dim, 1, bias = False)\n",
        "        \n",
        "    def forward(self, hidden, encoder_outputs):\n",
        "        \n",
        "        #hidden = [batch size, dec hid dim]\n",
        "        #encoder_outputs = [src len, batch size, enc hid dim * 2]\n",
        "        \n",
        "        batch_size = encoder_outputs.shape[1]\n",
        "        src_len = encoder_outputs.shape[0]\n",
        "        \n",
        "        #repeat decoder hidden state src_len times\n",
        "        hidden = hidden.unsqueeze(1).repeat(1, src_len, 1)\n",
        "        \n",
        "        encoder_outputs = encoder_outputs.permute(1, 0, 2)\n",
        "        \n",
        "        #hidden = [batch size, src len, dec hid dim]\n",
        "        #encoder_outputs = [batch size, src len, enc hid dim * 2]\n",
        "        \n",
        "        energy = torch.tanh(self.attn(torch.cat((hidden, encoder_outputs), dim = 2))) \n",
        "        \n",
        "        #energy = [batch size, src len, dec hid dim]\n",
        "\n",
        "        attention = self.v(energy).squeeze(2)\n",
        "        \n",
        "        #attention= [batch size, src len]\n",
        "        \n",
        "        return F.softmax(attention, dim=1)"
      ],
      "execution_count": 120,
      "outputs": []
    },
    {
      "cell_type": "markdown",
      "metadata": {
        "id": "pb-p1mhO9ejF"
      },
      "source": [
        "### Decoder\n",
        "\n",
        "Next up is the decoder. \n",
        "\n",
        "The decoder contains the attention layer, `attention`, which takes the previous hidden state, $s_{t-1}$, all of the encoder hidden states, $H$, and returns the attention vector, $a_t$.\n",
        "\n",
        "We then use this attention vector to create a weighted source vector, $w_t$, denoted by `weighted`, which is a weighted sum of the encoder hidden states, $H$, using $a_t$ as the weights.\n",
        "\n",
        "$$w_t = a_t H$$\n",
        "\n",
        "The embedded input word, $d(y_t)$, the weighted source vector, $w_t$, and the previous decoder hidden state, $s_{t-1}$, are then all passed into the decoder RNN, with $d(y_t)$ and $w_t$ being concatenated together.\n",
        "\n",
        "$$s_t = \\text{DecoderGRU}(d(y_t), w_t, s_{t-1})$$\n",
        "\n",
        "We then pass $d(y_t)$, $w_t$ and $s_t$ through the linear layer, $f$, to make a prediction of the next word in the target sentence, $\\hat{y}_{t+1}$. This is done by concatenating them all together.\n",
        "\n",
        "$$\\hat{y}_{t+1} = f(d(y_t), w_t, s_t)$$\n",
        "\n",
        "The image below shows decoding the first word in an example translation.\n",
        "\n",
        "![](https://github.com/bentrevett/pytorch-seq2seq/blob/master/assets/seq2seq10.png?raw=1)\n",
        "\n",
        "The green/teal blocks show the forward/backward encoder RNNs which output $H$, the red block shows the context vector, $z = h_T = \\tanh(g(h^\\rightarrow_T,h^\\leftarrow_T)) = \\tanh(g(z^\\rightarrow, z^\\leftarrow)) = s_0$, the blue block shows the decoder RNN which outputs $s_t$, the purple block shows the linear layer, $f$, which outputs $\\hat{y}_{t+1}$ and the orange block shows the calculation of the weighted sum over $H$ by $a_t$ and outputs $w_t$. Not shown is the calculation of $a_t$."
      ]
    },
    {
      "cell_type": "code",
      "metadata": {
        "id": "5wg3PolD9ejF"
      },
      "source": [
        "class Decoder(nn.Module):\n",
        "    def __init__(self, output_dim, emb_dim, enc_hid_dim, dec_hid_dim, dropout, attention):\n",
        "        super().__init__()\n",
        "\n",
        "        self.output_dim = output_dim\n",
        "        self.attention = attention\n",
        "        \n",
        "        self.embedding = nn.Embedding(output_dim, emb_dim)\n",
        "        \n",
        "        self.rnn = nn.GRU((enc_hid_dim * 2) + emb_dim, dec_hid_dim)\n",
        "        \n",
        "        self.fc_out = nn.Linear((enc_hid_dim * 2) + dec_hid_dim + emb_dim, output_dim)\n",
        "        \n",
        "        self.dropout = nn.Dropout(dropout)\n",
        "        \n",
        "    def forward(self, input, hidden, encoder_outputs):\n",
        "             \n",
        "        #input = [batch size]\n",
        "        #hidden = [batch size, dec hid dim]\n",
        "        #encoder_outputs = [src len, batch size, enc hid dim * 2]\n",
        "        \n",
        "        input = input.unsqueeze(0)\n",
        "        \n",
        "        #input = [1, batch size]\n",
        "        \n",
        "        embedded = self.dropout(self.embedding(input))\n",
        "        \n",
        "        #embedded = [1, batch size, emb dim]\n",
        "        \n",
        "        a = self.attention(hidden, encoder_outputs)\n",
        "                \n",
        "        #a = [batch size, src len]\n",
        "        \n",
        "        a = a.unsqueeze(1)\n",
        "        \n",
        "        #a = [batch size, 1, src len]\n",
        "        \n",
        "        encoder_outputs = encoder_outputs.permute(1, 0, 2)\n",
        "        \n",
        "        #encoder_outputs = [batch size, src len, enc hid dim * 2]\n",
        "        \n",
        "        weighted = torch.bmm(a, encoder_outputs)\n",
        "        \n",
        "        #weighted = [batch size, 1, enc hid dim * 2]\n",
        "        \n",
        "        weighted = weighted.permute(1, 0, 2)\n",
        "        \n",
        "        #weighted = [1, batch size, enc hid dim * 2]\n",
        "        \n",
        "        rnn_input = torch.cat((embedded, weighted), dim = 2)\n",
        "        \n",
        "        #rnn_input = [1, batch size, (enc hid dim * 2) + emb dim]\n",
        "            \n",
        "        output, hidden = self.rnn(rnn_input, hidden.unsqueeze(0))\n",
        "        \n",
        "        #output = [seq len, batch size, dec hid dim * n directions]\n",
        "        #hidden = [n layers * n directions, batch size, dec hid dim]\n",
        "        \n",
        "        #seq len, n layers and n directions will always be 1 in this decoder, therefore:\n",
        "        #output = [1, batch size, dec hid dim]\n",
        "        #hidden = [1, batch size, dec hid dim]\n",
        "        #this also means that output == hidden\n",
        "        assert (output == hidden).all()\n",
        "        \n",
        "        embedded = embedded.squeeze(0)\n",
        "        output = output.squeeze(0)\n",
        "        weighted = weighted.squeeze(0)\n",
        "        \n",
        "        prediction = self.fc_out(torch.cat((output, weighted, embedded), dim = 1))\n",
        "        \n",
        "        #prediction = [batch size, output dim]\n",
        "        \n",
        "        return prediction, hidden.squeeze(0)"
      ],
      "execution_count": 121,
      "outputs": []
    },
    {
      "cell_type": "markdown",
      "metadata": {
        "id": "gj7DZYQD9ejF"
      },
      "source": [
        "### Seq2Seq\n",
        "\n",
        "This is the first model where we don't have to have the encoder RNN and decoder RNN have the same hidden dimensions, however the encoder has to be bidirectional. This requirement can be removed by changing all occurences of `enc_dim * 2` to `enc_dim * 2 if encoder_is_bidirectional else enc_dim`. \n",
        "\n",
        "This seq2seq encapsulator is similar to the last two. The only difference is that the `encoder` returns both the final hidden state (which is the final hidden state from both the forward and backward encoder RNNs passed through a linear layer) to be used as the initial hidden state for the decoder, as well as every hidden state (which are the forward and backward hidden states stacked on top of each other). We also need to ensure that `hidden` and `encoder_outputs` are passed to the decoder. \n",
        "\n",
        "Briefly going over all of the steps:\n",
        "- the `outputs` tensor is created to hold all predictions, $\\hat{Y}$\n",
        "- the source sequence, $X$, is fed into the encoder to receive $z$ and $H$\n",
        "- the initial decoder hidden state is set to be the `context` vector, $s_0 = z = h_T$\n",
        "- we use a batch of `<sos>` tokens as the first `input`, $y_1$\n",
        "- we then decode within a loop:\n",
        "  - inserting the input token $y_t$, previous hidden state, $s_{t-1}$, and all encoder outputs, $H$, into the decoder\n",
        "  - receiving a prediction, $\\hat{y}_{t+1}$, and a new hidden state, $s_t$\n",
        "  - we then decide if we are going to teacher force or not, setting the next input as appropriate"
      ]
    },
    {
      "cell_type": "code",
      "metadata": {
        "id": "UEkTIixA9ejF"
      },
      "source": [
        "class Seq2Seq(nn.Module):\n",
        "    def __init__(self, encoder, decoder, device):\n",
        "        super().__init__()\n",
        "        \n",
        "        self.encoder = encoder\n",
        "        self.decoder = decoder\n",
        "        self.device = device\n",
        "        \n",
        "    def forward(self, src, trg, teacher_forcing_ratio = 0.5):\n",
        "        \n",
        "        #src = [src len, batch size]\n",
        "        #trg = [trg len, batch size]\n",
        "        #teacher_forcing_ratio is probability to use teacher forcing\n",
        "        #e.g. if teacher_forcing_ratio is 0.75 we use teacher forcing 75% of the time\n",
        "        # print(f\"Type: {type(src)}, src:{src}\")\n",
        "        batch_size = src.shape[1]\n",
        "        trg_len = trg.shape[0]\n",
        "        trg_vocab_size = self.decoder.output_dim\n",
        "        \n",
        "        #tensor to store decoder outputs\n",
        "        outputs = torch.zeros(trg_len, batch_size, trg_vocab_size).to(self.device)\n",
        "        \n",
        "        #encoder_outputs is all hidden states of the input sequence, back and forwards\n",
        "        #hidden is the final forward and backward hidden states, passed through a linear layer\n",
        "        encoder_outputs, hidden = self.encoder(src)\n",
        "                \n",
        "        #first input to the decoder is the <sos> tokens\n",
        "        input = trg[0,:]\n",
        "        \n",
        "        for t in range(1, trg_len):\n",
        "            \n",
        "            #insert input token embedding, previous hidden state and all encoder hidden states\n",
        "            #receive output tensor (predictions) and new hidden state\n",
        "            output, hidden = self.decoder(input, hidden, encoder_outputs)\n",
        "            \n",
        "            #place predictions in a tensor holding predictions for each token\n",
        "            outputs[t] = output\n",
        "            \n",
        "            #decide if we are going to use teacher forcing or not\n",
        "            teacher_force = random.random() < teacher_forcing_ratio\n",
        "            \n",
        "            #get the highest predicted token from our predictions\n",
        "            top1 = output.argmax(1) \n",
        "            \n",
        "            #if teacher forcing, use actual next token as next input\n",
        "            #if not, use predicted token\n",
        "            input = trg[t] if teacher_force else top1\n",
        "\n",
        "        return outputs"
      ],
      "execution_count": 122,
      "outputs": []
    },
    {
      "cell_type": "markdown",
      "metadata": {
        "id": "cXyLKEkh9ejF"
      },
      "source": [
        "## Training the Seq2Seq Model\n",
        "\n",
        "The rest of this session is very similar to the previous one.\n",
        "\n",
        "We initialise our parameters, encoder, decoder and seq2seq model (placing it on the GPU if we have one). "
      ]
    },
    {
      "cell_type": "code",
      "metadata": {
        "id": "f7FRQ8UR9ejF"
      },
      "source": [
        "INPUT_DIM = len(QUESTION.vocab)\n",
        "OUTPUT_DIM = len(RESPONSE.vocab)\n",
        "ENC_EMB_DIM = 256\n",
        "DEC_EMB_DIM = 256\n",
        "ENC_HID_DIM = 512\n",
        "DEC_HID_DIM = 512\n",
        "ENC_DROPOUT = 0.5\n",
        "DEC_DROPOUT = 0.5\n",
        "\n",
        "attn = Attention(ENC_HID_DIM, DEC_HID_DIM)\n",
        "enc = Encoder(INPUT_DIM, ENC_EMB_DIM, ENC_HID_DIM, DEC_HID_DIM, ENC_DROPOUT)\n",
        "dec = Decoder(OUTPUT_DIM, DEC_EMB_DIM, ENC_HID_DIM, DEC_HID_DIM, DEC_DROPOUT, attn)\n",
        "\n",
        "model = Seq2Seq(enc, dec, device).to(device)"
      ],
      "execution_count": 123,
      "outputs": []
    },
    {
      "cell_type": "markdown",
      "metadata": {
        "id": "Ux1sNqPk9ejF"
      },
      "source": [
        "We use a simplified version of the weight initialization scheme used in the paper. Here, we will initialize all biases to zero and all weights from $\\mathcal{N}(0, 0.01)$."
      ]
    },
    {
      "cell_type": "code",
      "metadata": {
        "id": "YXaq2o559ejF",
        "colab": {
          "base_uri": "https://localhost:8080/"
        },
        "outputId": "0eb0d724-c043-4885-82e0-768fced88d3e"
      },
      "source": [
        "def init_weights(m):\n",
        "    for name, param in m.named_parameters():\n",
        "        if 'weight' in name:\n",
        "            nn.init.normal_(param.data, mean=0, std=0.01)\n",
        "        else:\n",
        "            nn.init.constant_(param.data, 0)\n",
        "            \n",
        "model.apply(init_weights)"
      ],
      "execution_count": 124,
      "outputs": [
        {
          "output_type": "execute_result",
          "data": {
            "text/plain": [
              "Seq2Seq(\n",
              "  (encoder): Encoder(\n",
              "    (embedding): Embedding(2498, 256)\n",
              "    (rnn): GRU(256, 512, bidirectional=True)\n",
              "    (fc): Linear(in_features=1024, out_features=512, bias=True)\n",
              "    (dropout): Dropout(p=0.5, inplace=False)\n",
              "  )\n",
              "  (decoder): Decoder(\n",
              "    (attention): Attention(\n",
              "      (attn): Linear(in_features=1536, out_features=512, bias=True)\n",
              "      (v): Linear(in_features=512, out_features=1, bias=False)\n",
              "    )\n",
              "    (embedding): Embedding(1691, 256)\n",
              "    (rnn): GRU(1280, 512)\n",
              "    (fc_out): Linear(in_features=1792, out_features=1691, bias=True)\n",
              "    (dropout): Dropout(p=0.5, inplace=False)\n",
              "  )\n",
              ")"
            ]
          },
          "metadata": {
            "tags": []
          },
          "execution_count": 124
        }
      ]
    },
    {
      "cell_type": "markdown",
      "metadata": {
        "id": "ij9nRbgx9ejH"
      },
      "source": [
        "Calculate the number of parameters. We get an increase of almost 50% in the amount of parameters from the last model. "
      ]
    },
    {
      "cell_type": "code",
      "metadata": {
        "id": "2oAsDCtJ9ejH",
        "colab": {
          "base_uri": "https://localhost:8080/"
        },
        "outputId": "5e67d494-4c91-499e-93bf-8653f6547694"
      },
      "source": [
        "def count_parameters(model):\n",
        "    return sum(p.numel() for p in model.parameters() if p.requires_grad)\n",
        "\n",
        "print(f'The model has {count_parameters(model):,} trainable parameters')"
      ],
      "execution_count": 125,
      "outputs": [
        {
          "output_type": "stream",
          "text": [
            "The model has 10,537,627 trainable parameters\n"
          ],
          "name": "stdout"
        }
      ]
    },
    {
      "cell_type": "markdown",
      "metadata": {
        "id": "h-C9PF1d9ejH"
      },
      "source": [
        "We create an optimizer."
      ]
    },
    {
      "cell_type": "code",
      "metadata": {
        "id": "ox4JAgEE9ejH"
      },
      "source": [
        "optimizer = optim.Adam(model.parameters())"
      ],
      "execution_count": 126,
      "outputs": []
    },
    {
      "cell_type": "markdown",
      "metadata": {
        "id": "A5FzwRlz9ejH"
      },
      "source": [
        "We initialize the loss function."
      ]
    },
    {
      "cell_type": "code",
      "metadata": {
        "id": "0iAv-6As9ejH"
      },
      "source": [
        "TRG_PAD_IDX = RESPONSE.vocab.stoi[QUESTION.pad_token]\n",
        "\n",
        "criterion = nn.CrossEntropyLoss(ignore_index = TRG_PAD_IDX)"
      ],
      "execution_count": 127,
      "outputs": []
    },
    {
      "cell_type": "markdown",
      "metadata": {
        "id": "-bzv6baC9ejH"
      },
      "source": [
        "We then create the training loop..."
      ]
    },
    {
      "cell_type": "code",
      "metadata": {
        "id": "bYPFqH6a9ejH"
      },
      "source": [
        "def train(model, iterator, optimizer, criterion, clip,epoch):\n",
        "    \n",
        "    model.train()\n",
        "    \n",
        "    epoch_loss = 0\n",
        "    \n",
        "    for i, batch in enumerate(iterator):\n",
        "        \n",
        "        # print(vars(batch))\n",
        "        # if(not i % 75):\n",
        "        #   print(f\"Epoch:{epoch}, Batch:{i}\")\n",
        "        src = batch.question ## CHANGED here from src = batch.text_x\n",
        "        # print(f\"SRC:{type(src)}\")\n",
        "        trg = batch.answer\n",
        "        \n",
        "        optimizer.zero_grad()\n",
        "        \n",
        "        output = model(src, trg)\n",
        "        \n",
        "        #trg = [trg len, batch size]\n",
        "        #output = [trg len, batch size, output dim]\n",
        "        \n",
        "        output_dim = output.shape[-1]\n",
        "        \n",
        "        output = output[1:].view(-1, output_dim)\n",
        "        trg = trg[1:].view(-1)\n",
        "        \n",
        "        #trg = [(trg len - 1) * batch size]\n",
        "        #output = [(trg len - 1) * batch size, output dim]\n",
        "        \n",
        "        loss = criterion(output, trg)\n",
        "        if(not i % 50):\n",
        "          print(f\"Epoch:{epoch}, Batch:{i}, Batch Loss:{loss.item()}\")\n",
        "        \n",
        "        loss.backward()\n",
        "        \n",
        "        torch.nn.utils.clip_grad_norm_(model.parameters(), clip)\n",
        "        \n",
        "        optimizer.step()\n",
        "        \n",
        "        epoch_loss += loss.item()\n",
        "        \n",
        "    return epoch_loss / len(iterator)"
      ],
      "execution_count": 128,
      "outputs": []
    },
    {
      "cell_type": "markdown",
      "metadata": {
        "id": "sNawOMJD9ejH"
      },
      "source": [
        "...and the evaluation loop, remembering to set the model to `eval` mode and turn off teaching forcing."
      ]
    },
    {
      "cell_type": "code",
      "metadata": {
        "id": "AQotLtCi9ejH"
      },
      "source": [
        "def evaluate(model, iterator, criterion):\n",
        "    \n",
        "    model.eval()\n",
        "    \n",
        "    epoch_loss = 0\n",
        "    \n",
        "    with torch.no_grad():\n",
        "    \n",
        "        for i, batch in enumerate(iterator):\n",
        "\n",
        "            \n",
        "            src = batch.question\n",
        "            trg = batch.answer\n",
        "\n",
        "            output = model(src, trg, 0) #turn off teacher forcing\n",
        "\n",
        "            #trg = [trg len, batch size]\n",
        "            #output = [trg len, batch size, output dim]\n",
        "\n",
        "            output_dim = output.shape[-1]\n",
        "            \n",
        "            output = output[1:].view(-1, output_dim)\n",
        "            trg = trg[1:].view(-1)\n",
        "\n",
        "            #trg = [(trg len - 1) * batch size]\n",
        "            #output = [(trg len - 1) * batch size, output dim]\n",
        "\n",
        "            loss = criterion(output, trg)\n",
        "\n",
        "            epoch_loss += loss.item()\n",
        "        \n",
        "    return epoch_loss / len(iterator)"
      ],
      "execution_count": 129,
      "outputs": []
    },
    {
      "cell_type": "markdown",
      "metadata": {
        "id": "4_TUjr1O9ejH"
      },
      "source": [
        "Finally, define a timing function."
      ]
    },
    {
      "cell_type": "code",
      "metadata": {
        "id": "_UMyHEYS9ejH"
      },
      "source": [
        "def epoch_time(start_time, end_time):\n",
        "    elapsed_time = end_time - start_time\n",
        "    elapsed_mins = int(elapsed_time / 60)\n",
        "    elapsed_secs = int(elapsed_time - (elapsed_mins * 60))\n",
        "    return elapsed_mins, elapsed_secs"
      ],
      "execution_count": 130,
      "outputs": []
    },
    {
      "cell_type": "markdown",
      "metadata": {
        "id": "wYKIfYvY9ejH"
      },
      "source": [
        "Then, we train our model, saving the parameters that give us the best validation loss."
      ]
    },
    {
      "cell_type": "code",
      "metadata": {
        "id": "V2-2b9-W9ejH",
        "colab": {
          "base_uri": "https://localhost:8080/"
        },
        "outputId": "ce23969c-9413-49d3-e5b7-6dd0923b21ab"
      },
      "source": [
        "N_EPOCHS = 10\n",
        "CLIP = 1\n",
        "\n",
        "best_valid_loss = float('inf')\n",
        "\n",
        "for epoch in range(N_EPOCHS):\n",
        "    \n",
        "    start_time = time.time()\n",
        "    \n",
        "    train_loss = train(model, train_iterator, optimizer, criterion, CLIP,epoch)\n",
        "    valid_loss = evaluate(model, valid_iterator, criterion)\n",
        "    \n",
        "    end_time = time.time()\n",
        "    \n",
        "    epoch_mins, epoch_secs = epoch_time(start_time, end_time)\n",
        "    \n",
        "    if valid_loss < best_valid_loss:\n",
        "        best_valid_loss = valid_loss\n",
        "        torch.save(model.state_dict(), 'tut3-model.pt')\n",
        "    \n",
        "    print(f'Epoch: {epoch+1:02} | Time: {epoch_mins}m {epoch_secs}s')\n",
        "    print(f'\\tTrain Loss: {train_loss:.3f} | Train PPL: {math.exp(train_loss):7.3f}')\n",
        "    print(f'\\t Val. Loss: {valid_loss:.3f} |  Val. PPL: {math.exp(valid_loss):7.3f}')"
      ],
      "execution_count": 131,
      "outputs": [
        {
          "output_type": "stream",
          "text": [
            "Epoch:0, Batch:0, Batch Loss:7.432978630065918\n",
            "Epoch:0, Batch:50, Batch Loss:4.361664772033691\n",
            "Epoch:0, Batch:100, Batch Loss:4.066608905792236\n",
            "Epoch: 01 | Time: 0m 4s\n",
            "\tTrain Loss: 4.869 | Train PPL: 130.147\n",
            "\t Val. Loss: 3.585 |  Val. PPL:  36.071\n",
            "Epoch:1, Batch:0, Batch Loss:4.755495071411133\n",
            "Epoch:1, Batch:50, Batch Loss:4.019231796264648\n",
            "Epoch:1, Batch:100, Batch Loss:3.8369243144989014\n",
            "Epoch: 02 | Time: 0m 4s\n",
            "\tTrain Loss: 4.259 | Train PPL:  70.767\n",
            "\t Val. Loss: 3.519 |  Val. PPL:  33.765\n",
            "Epoch:2, Batch:0, Batch Loss:4.665866851806641\n",
            "Epoch:2, Batch:50, Batch Loss:3.740882158279419\n",
            "Epoch:2, Batch:100, Batch Loss:3.72344708442688\n",
            "Epoch: 03 | Time: 0m 4s\n",
            "\tTrain Loss: 4.107 | Train PPL:  60.782\n",
            "\t Val. Loss: 3.608 |  Val. PPL:  36.877\n",
            "Epoch:3, Batch:0, Batch Loss:4.5565714836120605\n",
            "Epoch:3, Batch:50, Batch Loss:3.6540234088897705\n",
            "Epoch:3, Batch:100, Batch Loss:3.75351619720459\n",
            "Epoch: 04 | Time: 0m 4s\n",
            "\tTrain Loss: 3.960 | Train PPL:  52.456\n",
            "\t Val. Loss: 3.588 |  Val. PPL:  36.175\n",
            "Epoch:4, Batch:0, Batch Loss:4.4405293464660645\n",
            "Epoch:4, Batch:50, Batch Loss:3.4520697593688965\n",
            "Epoch:4, Batch:100, Batch Loss:3.3877387046813965\n",
            "Epoch: 05 | Time: 0m 4s\n",
            "\tTrain Loss: 3.787 | Train PPL:  44.103\n",
            "\t Val. Loss: 3.741 |  Val. PPL:  42.123\n",
            "Epoch:5, Batch:0, Batch Loss:4.194774150848389\n",
            "Epoch:5, Batch:50, Batch Loss:3.037283420562744\n",
            "Epoch:5, Batch:100, Batch Loss:3.0377893447875977\n",
            "Epoch: 06 | Time: 0m 4s\n",
            "\tTrain Loss: 3.560 | Train PPL:  35.164\n",
            "\t Val. Loss: 3.874 |  Val. PPL:  48.123\n",
            "Epoch:6, Batch:0, Batch Loss:3.914687156677246\n",
            "Epoch:6, Batch:50, Batch Loss:2.9043874740600586\n",
            "Epoch:6, Batch:100, Batch Loss:2.8517701625823975\n",
            "Epoch: 07 | Time: 0m 4s\n",
            "\tTrain Loss: 3.325 | Train PPL:  27.796\n",
            "\t Val. Loss: 3.949 |  Val. PPL:  51.894\n",
            "Epoch:7, Batch:0, Batch Loss:3.67995023727417\n",
            "Epoch:7, Batch:50, Batch Loss:2.5458924770355225\n",
            "Epoch:7, Batch:100, Batch Loss:2.7522761821746826\n",
            "Epoch: 08 | Time: 0m 4s\n",
            "\tTrain Loss: 3.077 | Train PPL:  21.701\n",
            "\t Val. Loss: 4.154 |  Val. PPL:  63.699\n",
            "Epoch:8, Batch:0, Batch Loss:3.5183663368225098\n",
            "Epoch:8, Batch:50, Batch Loss:2.527993679046631\n",
            "Epoch:8, Batch:100, Batch Loss:2.4475250244140625\n",
            "Epoch: 09 | Time: 0m 4s\n",
            "\tTrain Loss: 2.801 | Train PPL:  16.457\n",
            "\t Val. Loss: 4.440 |  Val. PPL:  84.796\n",
            "Epoch:9, Batch:0, Batch Loss:3.250553607940674\n",
            "Epoch:9, Batch:50, Batch Loss:2.5456926822662354\n",
            "Epoch:9, Batch:100, Batch Loss:2.0652904510498047\n",
            "Epoch: 10 | Time: 0m 4s\n",
            "\tTrain Loss: 2.608 | Train PPL:  13.571\n",
            "\t Val. Loss: 4.473 |  Val. PPL:  87.590\n"
          ],
          "name": "stdout"
        }
      ]
    },
    {
      "cell_type": "markdown",
      "metadata": {
        "id": "zJm2KZKW9ejI"
      },
      "source": [
        "Finally, we test the model on the test set using these \"best\" parameters."
      ]
    },
    {
      "cell_type": "code",
      "metadata": {
        "id": "0ZlTvUHI9ejI",
        "colab": {
          "base_uri": "https://localhost:8080/"
        },
        "outputId": "0c293851-7297-4842-9568-51ef9e1b0134"
      },
      "source": [
        "model.load_state_dict(torch.load('tut3-model.pt'))\n",
        "\n",
        "test_loss = evaluate(model, valid_iterator, criterion)\n",
        "\n",
        "print(f'| Test Loss: {test_loss:.3f} | Test PPL: {math.exp(test_loss):7.3f} |')"
      ],
      "execution_count": 132,
      "outputs": [
        {
          "output_type": "stream",
          "text": [
            "| Test Loss: 3.519 | Test PPL:  33.765 |\n"
          ],
          "name": "stdout"
        }
      ]
    }
  ]
}