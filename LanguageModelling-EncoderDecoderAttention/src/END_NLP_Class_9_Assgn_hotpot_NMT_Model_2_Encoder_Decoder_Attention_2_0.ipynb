{
  "nbformat": 4,
  "nbformat_minor": 0,
  "metadata": {
    "kernelspec": {
      "display_name": "Python 3",
      "language": "python",
      "name": "python3"
    },
    "language_info": {
      "codemirror_mode": {
        "name": "ipython",
        "version": 3
      },
      "file_extension": ".py",
      "mimetype": "text/x-python",
      "name": "python",
      "nbconvert_exporter": "python",
      "pygments_lexer": "ipython3",
      "version": "3.8.2"
    },
    "colab": {
      "name": "END_NLP_Class_9_Assgn_hotpot_NMT_Model_2_Encoder_Decoder_Attention_2.0.ipynb",
      "provenance": [],
      "collapsed_sections": [
        "hFN65G2G-XKf"
      ]
    },
    "accelerator": "GPU"
  },
  "cells": [
    {
      "cell_type": "markdown",
      "metadata": {
        "id": "ITR8rhVFXRjs"
      },
      "source": [
        "# This model is being trained with [HotpotQA](https://hotpotqa.github.io/) dataset.\r\n",
        "\r\n",
        "HotpotQA is a question answering dataset featuring natural, multi-hop questions, with strong supervision for supporting facts to enable more explainable question answering systems. It is collected by a team of NLP researchers at Carnegie Mellon University, Stanford University, and Université de Montréal.\r\n",
        "\r\n",
        "For more details about HotpotQA, please refer to our EMNLP 2018 paper:"
      ]
    },
    {
      "cell_type": "code",
      "metadata": {
        "id": "_KDJ9ysmCdyp",
        "colab": {
          "base_uri": "https://localhost:8080/"
        },
        "outputId": "b1e48414-f312-43e1-d950-76a5493e8b37"
      },
      "source": [
        "%%bash\n",
        "python -m spacy download en\n",
        "# python -m spacy download de"
      ],
      "execution_count": 1,
      "outputs": [
        {
          "output_type": "stream",
          "text": [
            "Requirement already satisfied: en_core_web_sm==2.2.5 from https://github.com/explosion/spacy-models/releases/download/en_core_web_sm-2.2.5/en_core_web_sm-2.2.5.tar.gz#egg=en_core_web_sm==2.2.5 in /usr/local/lib/python3.6/dist-packages (2.2.5)\n",
            "Requirement already satisfied: spacy>=2.2.2 in /usr/local/lib/python3.6/dist-packages (from en_core_web_sm==2.2.5) (2.2.4)\n",
            "Requirement already satisfied: requests<3.0.0,>=2.13.0 in /usr/local/lib/python3.6/dist-packages (from spacy>=2.2.2->en_core_web_sm==2.2.5) (2.23.0)\n",
            "Requirement already satisfied: srsly<1.1.0,>=1.0.2 in /usr/local/lib/python3.6/dist-packages (from spacy>=2.2.2->en_core_web_sm==2.2.5) (1.0.5)\n",
            "Requirement already satisfied: numpy>=1.15.0 in /usr/local/lib/python3.6/dist-packages (from spacy>=2.2.2->en_core_web_sm==2.2.5) (1.19.4)\n",
            "Requirement already satisfied: wasabi<1.1.0,>=0.4.0 in /usr/local/lib/python3.6/dist-packages (from spacy>=2.2.2->en_core_web_sm==2.2.5) (0.8.0)\n",
            "Requirement already satisfied: setuptools in /usr/local/lib/python3.6/dist-packages (from spacy>=2.2.2->en_core_web_sm==2.2.5) (51.0.0)\n",
            "Requirement already satisfied: blis<0.5.0,>=0.4.0 in /usr/local/lib/python3.6/dist-packages (from spacy>=2.2.2->en_core_web_sm==2.2.5) (0.4.1)\n",
            "Requirement already satisfied: thinc==7.4.0 in /usr/local/lib/python3.6/dist-packages (from spacy>=2.2.2->en_core_web_sm==2.2.5) (7.4.0)\n",
            "Requirement already satisfied: preshed<3.1.0,>=3.0.2 in /usr/local/lib/python3.6/dist-packages (from spacy>=2.2.2->en_core_web_sm==2.2.5) (3.0.5)\n",
            "Requirement already satisfied: murmurhash<1.1.0,>=0.28.0 in /usr/local/lib/python3.6/dist-packages (from spacy>=2.2.2->en_core_web_sm==2.2.5) (1.0.5)\n",
            "Requirement already satisfied: tqdm<5.0.0,>=4.38.0 in /usr/local/lib/python3.6/dist-packages (from spacy>=2.2.2->en_core_web_sm==2.2.5) (4.41.1)\n",
            "Requirement already satisfied: catalogue<1.1.0,>=0.0.7 in /usr/local/lib/python3.6/dist-packages (from spacy>=2.2.2->en_core_web_sm==2.2.5) (1.0.0)\n",
            "Requirement already satisfied: plac<1.2.0,>=0.9.6 in /usr/local/lib/python3.6/dist-packages (from spacy>=2.2.2->en_core_web_sm==2.2.5) (1.1.3)\n",
            "Requirement already satisfied: cymem<2.1.0,>=2.0.2 in /usr/local/lib/python3.6/dist-packages (from spacy>=2.2.2->en_core_web_sm==2.2.5) (2.0.5)\n",
            "Requirement already satisfied: idna<3,>=2.5 in /usr/local/lib/python3.6/dist-packages (from requests<3.0.0,>=2.13.0->spacy>=2.2.2->en_core_web_sm==2.2.5) (2.10)\n",
            "Requirement already satisfied: chardet<4,>=3.0.2 in /usr/local/lib/python3.6/dist-packages (from requests<3.0.0,>=2.13.0->spacy>=2.2.2->en_core_web_sm==2.2.5) (3.0.4)\n",
            "Requirement already satisfied: urllib3!=1.25.0,!=1.25.1,<1.26,>=1.21.1 in /usr/local/lib/python3.6/dist-packages (from requests<3.0.0,>=2.13.0->spacy>=2.2.2->en_core_web_sm==2.2.5) (1.24.3)\n",
            "Requirement already satisfied: certifi>=2017.4.17 in /usr/local/lib/python3.6/dist-packages (from requests<3.0.0,>=2.13.0->spacy>=2.2.2->en_core_web_sm==2.2.5) (2020.12.5)\n",
            "Requirement already satisfied: importlib-metadata>=0.20; python_version < \"3.8\" in /usr/local/lib/python3.6/dist-packages (from catalogue<1.1.0,>=0.0.7->spacy>=2.2.2->en_core_web_sm==2.2.5) (3.3.0)\n",
            "Requirement already satisfied: typing-extensions>=3.6.4; python_version < \"3.8\" in /usr/local/lib/python3.6/dist-packages (from importlib-metadata>=0.20; python_version < \"3.8\"->catalogue<1.1.0,>=0.0.7->spacy>=2.2.2->en_core_web_sm==2.2.5) (3.7.4.3)\n",
            "Requirement already satisfied: zipp>=0.5 in /usr/local/lib/python3.6/dist-packages (from importlib-metadata>=0.20; python_version < \"3.8\"->catalogue<1.1.0,>=0.0.7->spacy>=2.2.2->en_core_web_sm==2.2.5) (3.4.0)\n",
            "\u001b[38;5;2m✔ Download and installation successful\u001b[0m\n",
            "You can now load the model via spacy.load('en_core_web_sm')\n",
            "\u001b[38;5;2m✔ Linking successful\u001b[0m\n",
            "/usr/local/lib/python3.6/dist-packages/en_core_web_sm -->\n",
            "/usr/local/lib/python3.6/dist-packages/spacy/data/en\n",
            "You can now load the model via spacy.load('en')\n"
          ],
          "name": "stdout"
        }
      ]
    },
    {
      "cell_type": "markdown",
      "metadata": {
        "id": "ZoWCRFWX4LZy"
      },
      "source": [
        "![image](https://media.giphy.com/media/YknAouVrcbkiDvWUOR/giphy.gif)\r\n",
        "\r\n",
        "![image](https://media.giphy.com/media/26xBtSyoi5hUUkCEo/giphy.gif)\r\n",
        "\r\n",
        "![image](https://media.giphy.com/media/3o6Ztg5jGKDQSjaZ1K/giphy.gif)"
      ]
    },
    {
      "cell_type": "markdown",
      "metadata": {
        "id": "r5Am1eK24TLt"
      },
      "source": [
        "## Data Download and Preparation"
      ]
    },
    {
      "cell_type": "markdown",
      "metadata": {
        "id": "03sSSoCYv3pz"
      },
      "source": [
        "### There are three HotpotQA files:\r\n",
        "\r\n",
        "**Dataset:**\r\n",
        "\r\n",
        "- Training set http://curtis.ml.cmu.edu/datasets/hotpot/hotpot_train_v1.1.json\r\n",
        "- Dev set in the distractor setting http://curtis.ml.cmu.edu/datasets/hotpot/hotpot_dev_distractor_v1.json\r\n",
        "- Dev set in the fullwiki setting http://curtis.ml.cmu.edu/datasets/hotpot/hotpot_dev_fullwiki_v1.json This is just hotpot_dev_distractor_v1.json without the gold paragraphs, but instead with the top 10 paragraphs obtained using our retrieval system. If you want to use your own IR system (which is encouraged!), you can replace the paragraphs in this json with your own retrieval results. Please note that the gold paragraphs might or might not be in this json because our IR system is pretty basic.\r\n",
        "\r\n",
        "**Data JSON Format:**\r\n",
        "The top level structure of each JSON file is a list, where each entry represents a question-answer data point. Each data point is a dict with the following keys:\r\n",
        "\r\n",
        "- _id: a unique id for this question-answer data point. This is useful for evaluation.\r\n",
        "- question: a string.\r\n",
        "- answer: a string. The test set does not have this key.\r\n",
        "- supporting_facts: a list. Each entry in the list is a list with two elements [title, sent_id], where title denotes the title of the paragraph, and sent_id denotes the supporting fact's id (0-based) in this paragraph. The test set does not have this key.\r\n",
        "- context: a list. Each entry is a paragraph, which is represented as a list with two elements [title, sentences] and sentences is a list of strings.\r\n",
        "\r\n",
        "There are other keys that are not used in our code, but might be used for other purposes (note that these keys are not present in the test sets, and your model should not rely on these two keys for making preditions on the test sets):\r\n",
        "\r\n",
        "- type: either comparison or bridge, indicating the question type. (See our paper for more details).\r\n",
        "- level: one of easy, medium, and hard. (See our paper for more details)."
      ]
    },
    {
      "cell_type": "code",
      "metadata": {
        "id": "8Yejdi7TeTP1"
      },
      "source": [
        "import numpy as np # linear algebra\r\n",
        "import pandas as pd # data processing, CSV file I/O (e.g. pd.read_csv)\r\n",
        "import os\r\n",
        "import matplotlib.pyplot as plt\r\n",
        "import string\r\n",
        "import json # to read json"
      ],
      "execution_count": 2,
      "outputs": []
    },
    {
      "cell_type": "code",
      "metadata": {
        "colab": {
          "base_uri": "https://localhost:8080/"
        },
        "id": "c3Sns-MYlWR_",
        "outputId": "a07abdd7-7aa3-4f86-ad3a-dee7fab1eb30"
      },
      "source": [
        "!wget http://curtis.ml.cmu.edu/datasets/hotpot/hotpot_train_v1.1.json\r\n",
        "!wget http://curtis.ml.cmu.edu/datasets/hotpot/hotpot_dev_distractor_v1.json\r\n",
        "!wget http://curtis.ml.cmu.edu/datasets/hotpot/hotpot_test_fullwiki_v1.json"
      ],
      "execution_count": 4,
      "outputs": [
        {
          "output_type": "stream",
          "text": [
            "--2020-12-28 15:11:51--  http://curtis.ml.cmu.edu/datasets/hotpot/hotpot_train_v1.1.json\n",
            "Resolving curtis.ml.cmu.edu (curtis.ml.cmu.edu)... 128.2.204.193\n",
            "Connecting to curtis.ml.cmu.edu (curtis.ml.cmu.edu)|128.2.204.193|:80... connected.\n",
            "HTTP request sent, awaiting response... 200 OK\n",
            "Length: 566426227 (540M) [application/json]\n",
            "Saving to: ‘hotpot_train_v1.1.json.1’\n",
            "\n",
            "hotpot_train_v1.1.j 100%[===================>] 540.19M  38.6MB/s    in 14s     \n",
            "\n",
            "2020-12-28 15:12:06 (37.4 MB/s) - ‘hotpot_train_v1.1.json.1’ saved [566426227/566426227]\n",
            "\n",
            "--2020-12-28 15:12:06--  http://curtis.ml.cmu.edu/datasets/hotpot/hotpot_dev_distractor_v1.json\n",
            "Resolving curtis.ml.cmu.edu (curtis.ml.cmu.edu)... 128.2.204.193\n",
            "Connecting to curtis.ml.cmu.edu (curtis.ml.cmu.edu)|128.2.204.193|:80... connected.\n",
            "HTTP request sent, awaiting response... 200 OK\n",
            "Length: 46320117 (44M) [application/json]\n",
            "Saving to: ‘hotpot_dev_distractor_v1.json.1’\n",
            "\n",
            "hotpot_dev_distract 100%[===================>]  44.17M  27.6MB/s    in 1.6s    \n",
            "\n",
            "2020-12-28 15:12:08 (27.6 MB/s) - ‘hotpot_dev_distractor_v1.json.1’ saved [46320117/46320117]\n",
            "\n",
            "--2020-12-28 15:12:08--  http://curtis.ml.cmu.edu/datasets/hotpot/hotpot_test_fullwiki_v1.json\n",
            "Resolving curtis.ml.cmu.edu (curtis.ml.cmu.edu)... 128.2.204.193\n",
            "Connecting to curtis.ml.cmu.edu (curtis.ml.cmu.edu)|128.2.204.193|:80... connected.\n",
            "HTTP request sent, awaiting response... 200 OK\n",
            "Length: 46213747 (44M) [application/json]\n",
            "Saving to: ‘hotpot_test_fullwiki_v1.json.1’\n",
            "\n",
            "hotpot_test_fullwik 100%[===================>]  44.07M  29.2MB/s    in 1.5s    \n",
            "\n",
            "2020-12-28 15:12:10 (29.2 MB/s) - ‘hotpot_test_fullwiki_v1.json.1’ saved [46213747/46213747]\n",
            "\n"
          ],
          "name": "stdout"
        }
      ]
    },
    {
      "cell_type": "code",
      "metadata": {
        "colab": {
          "base_uri": "https://localhost:8080/",
          "height": 145
        },
        "id": "H75rF3qneDaj",
        "outputId": "3ff93670-e8d6-4f72-fcef-f1187410978b"
      },
      "source": [
        "## Lets understand the data a bit first\r\n",
        "hotspot_train_json = pd.read_json('/content/hotpot_train_v1.1.json')\r\n",
        "hotspot_train_json.head(2)"
      ],
      "execution_count": 5,
      "outputs": [
        {
          "output_type": "execute_result",
          "data": {
            "text/html": [
              "<div>\n",
              "<style scoped>\n",
              "    .dataframe tbody tr th:only-of-type {\n",
              "        vertical-align: middle;\n",
              "    }\n",
              "\n",
              "    .dataframe tbody tr th {\n",
              "        vertical-align: top;\n",
              "    }\n",
              "\n",
              "    .dataframe thead th {\n",
              "        text-align: right;\n",
              "    }\n",
              "</style>\n",
              "<table border=\"1\" class=\"dataframe\">\n",
              "  <thead>\n",
              "    <tr style=\"text-align: right;\">\n",
              "      <th></th>\n",
              "      <th>supporting_facts</th>\n",
              "      <th>level</th>\n",
              "      <th>question</th>\n",
              "      <th>context</th>\n",
              "      <th>answer</th>\n",
              "      <th>_id</th>\n",
              "      <th>type</th>\n",
              "    </tr>\n",
              "  </thead>\n",
              "  <tbody>\n",
              "    <tr>\n",
              "      <th>0</th>\n",
              "      <td>[[Arthur's Magazine, 0], [First for Women, 0]]</td>\n",
              "      <td>medium</td>\n",
              "      <td>Which magazine was started first Arthur's Maga...</td>\n",
              "      <td>[[Radio City (Indian radio station), [Radio Ci...</td>\n",
              "      <td>Arthur's Magazine</td>\n",
              "      <td>5a7a06935542990198eaf050</td>\n",
              "      <td>comparison</td>\n",
              "    </tr>\n",
              "    <tr>\n",
              "      <th>1</th>\n",
              "      <td>[[Oberoi family, 0], [The Oberoi Group, 0]]</td>\n",
              "      <td>medium</td>\n",
              "      <td>The Oberoi family is part of a hotel company t...</td>\n",
              "      <td>[[Ritz-Carlton Jakarta, [The Ritz-Carlton Jaka...</td>\n",
              "      <td>Delhi</td>\n",
              "      <td>5a879ab05542996e4f30887e</td>\n",
              "      <td>bridge</td>\n",
              "    </tr>\n",
              "  </tbody>\n",
              "</table>\n",
              "</div>"
            ],
            "text/plain": [
              "                                 supporting_facts  ...        type\n",
              "0  [[Arthur's Magazine, 0], [First for Women, 0]]  ...  comparison\n",
              "1     [[Oberoi family, 0], [The Oberoi Group, 0]]  ...      bridge\n",
              "\n",
              "[2 rows x 7 columns]"
            ]
          },
          "metadata": {
            "tags": []
          },
          "execution_count": 5
        }
      ]
    },
    {
      "cell_type": "code",
      "metadata": {
        "colab": {
          "base_uri": "https://localhost:8080/",
          "height": 110
        },
        "id": "CL2J0CFjyWVT",
        "outputId": "cac905b8-aa87-42b7-ceb5-b5ba51fe7f95"
      },
      "source": [
        "## Now lets create training dataset into dataframe so that i can save it into CSV format to use later\r\n",
        "hotspot_trn_question = hotspot_train_json[\"question\"]\r\n",
        "hotspot_trn_answer = hotspot_train_json[\"answer\"]\r\n",
        "hotspot_trn_csv = pd.concat([hotspot_trn_question,hotspot_trn_answer],axis =1)\r\n",
        "hotspot_trn_csv.head(2)"
      ],
      "execution_count": 7,
      "outputs": [
        {
          "output_type": "execute_result",
          "data": {
            "text/html": [
              "<div>\n",
              "<style scoped>\n",
              "    .dataframe tbody tr th:only-of-type {\n",
              "        vertical-align: middle;\n",
              "    }\n",
              "\n",
              "    .dataframe tbody tr th {\n",
              "        vertical-align: top;\n",
              "    }\n",
              "\n",
              "    .dataframe thead th {\n",
              "        text-align: right;\n",
              "    }\n",
              "</style>\n",
              "<table border=\"1\" class=\"dataframe\">\n",
              "  <thead>\n",
              "    <tr style=\"text-align: right;\">\n",
              "      <th></th>\n",
              "      <th>question</th>\n",
              "      <th>answer</th>\n",
              "    </tr>\n",
              "  </thead>\n",
              "  <tbody>\n",
              "    <tr>\n",
              "      <th>0</th>\n",
              "      <td>Which magazine was started first Arthur's Maga...</td>\n",
              "      <td>Arthur's Magazine</td>\n",
              "    </tr>\n",
              "    <tr>\n",
              "      <th>1</th>\n",
              "      <td>The Oberoi family is part of a hotel company t...</td>\n",
              "      <td>Delhi</td>\n",
              "    </tr>\n",
              "  </tbody>\n",
              "</table>\n",
              "</div>"
            ],
            "text/plain": [
              "                                            question             answer\n",
              "0  Which magazine was started first Arthur's Maga...  Arthur's Magazine\n",
              "1  The Oberoi family is part of a hotel company t...              Delhi"
            ]
          },
          "metadata": {
            "tags": []
          },
          "execution_count": 7
        }
      ]
    },
    {
      "cell_type": "code",
      "metadata": {
        "colab": {
          "base_uri": "https://localhost:8080/",
          "height": 145
        },
        "id": "gGW4DpCU0F5F",
        "outputId": "984e4fb8-7897-4869-aa9f-8f6585b57c30"
      },
      "source": [
        "## Lets understand the data a bit first\r\n",
        "hotspot_dev_json = pd.read_json('/content/hotpot_dev_distractor_v1.json')\r\n",
        "hotspot_dev_json.head(2)"
      ],
      "execution_count": 8,
      "outputs": [
        {
          "output_type": "execute_result",
          "data": {
            "text/html": [
              "<div>\n",
              "<style scoped>\n",
              "    .dataframe tbody tr th:only-of-type {\n",
              "        vertical-align: middle;\n",
              "    }\n",
              "\n",
              "    .dataframe tbody tr th {\n",
              "        vertical-align: top;\n",
              "    }\n",
              "\n",
              "    .dataframe thead th {\n",
              "        text-align: right;\n",
              "    }\n",
              "</style>\n",
              "<table border=\"1\" class=\"dataframe\">\n",
              "  <thead>\n",
              "    <tr style=\"text-align: right;\">\n",
              "      <th></th>\n",
              "      <th>_id</th>\n",
              "      <th>answer</th>\n",
              "      <th>question</th>\n",
              "      <th>supporting_facts</th>\n",
              "      <th>context</th>\n",
              "      <th>type</th>\n",
              "      <th>level</th>\n",
              "    </tr>\n",
              "  </thead>\n",
              "  <tbody>\n",
              "    <tr>\n",
              "      <th>0</th>\n",
              "      <td>5a8b57f25542995d1e6f1371</td>\n",
              "      <td>yes</td>\n",
              "      <td>Were Scott Derrickson and Ed Wood of the same ...</td>\n",
              "      <td>[[Scott Derrickson, 0], [Ed Wood, 0]]</td>\n",
              "      <td>[[Ed Wood (film), [Ed Wood is a 1994 American ...</td>\n",
              "      <td>comparison</td>\n",
              "      <td>hard</td>\n",
              "    </tr>\n",
              "    <tr>\n",
              "      <th>1</th>\n",
              "      <td>5a8c7595554299585d9e36b6</td>\n",
              "      <td>Chief of Protocol</td>\n",
              "      <td>What government position was held by the woman...</td>\n",
              "      <td>[[Kiss and Tell (1945 film), 0], [Shirley Temp...</td>\n",
              "      <td>[[Meet Corliss Archer, [Meet Corliss Archer, a...</td>\n",
              "      <td>bridge</td>\n",
              "      <td>hard</td>\n",
              "    </tr>\n",
              "  </tbody>\n",
              "</table>\n",
              "</div>"
            ],
            "text/plain": [
              "                        _id             answer  ...        type level\n",
              "0  5a8b57f25542995d1e6f1371                yes  ...  comparison  hard\n",
              "1  5a8c7595554299585d9e36b6  Chief of Protocol  ...      bridge  hard\n",
              "\n",
              "[2 rows x 7 columns]"
            ]
          },
          "metadata": {
            "tags": []
          },
          "execution_count": 8
        }
      ]
    },
    {
      "cell_type": "code",
      "metadata": {
        "colab": {
          "base_uri": "https://localhost:8080/",
          "height": 110
        },
        "id": "Ugxyfirr0Nyg",
        "outputId": "d6fd36a2-08fe-4bf9-a487-d4f82d0466c6"
      },
      "source": [
        "## Now lets create dev dataset into dataframe so that i can save it into CSV format to use later\r\n",
        "hotspot_dev_question = hotspot_dev_json[\"question\"]\r\n",
        "hotspot_dev_answer = hotspot_dev_json[\"answer\"]\r\n",
        "hotspot_dev_csv = pd.concat([hotspot_dev_question,hotspot_dev_answer],axis =1)\r\n",
        "hotspot_dev_csv.head(2)"
      ],
      "execution_count": 9,
      "outputs": [
        {
          "output_type": "execute_result",
          "data": {
            "text/html": [
              "<div>\n",
              "<style scoped>\n",
              "    .dataframe tbody tr th:only-of-type {\n",
              "        vertical-align: middle;\n",
              "    }\n",
              "\n",
              "    .dataframe tbody tr th {\n",
              "        vertical-align: top;\n",
              "    }\n",
              "\n",
              "    .dataframe thead th {\n",
              "        text-align: right;\n",
              "    }\n",
              "</style>\n",
              "<table border=\"1\" class=\"dataframe\">\n",
              "  <thead>\n",
              "    <tr style=\"text-align: right;\">\n",
              "      <th></th>\n",
              "      <th>question</th>\n",
              "      <th>answer</th>\n",
              "    </tr>\n",
              "  </thead>\n",
              "  <tbody>\n",
              "    <tr>\n",
              "      <th>0</th>\n",
              "      <td>Were Scott Derrickson and Ed Wood of the same ...</td>\n",
              "      <td>yes</td>\n",
              "    </tr>\n",
              "    <tr>\n",
              "      <th>1</th>\n",
              "      <td>What government position was held by the woman...</td>\n",
              "      <td>Chief of Protocol</td>\n",
              "    </tr>\n",
              "  </tbody>\n",
              "</table>\n",
              "</div>"
            ],
            "text/plain": [
              "                                            question             answer\n",
              "0  Were Scott Derrickson and Ed Wood of the same ...                yes\n",
              "1  What government position was held by the woman...  Chief of Protocol"
            ]
          },
          "metadata": {
            "tags": []
          },
          "execution_count": 9
        }
      ]
    },
    {
      "cell_type": "code",
      "metadata": {
        "colab": {
          "base_uri": "https://localhost:8080/",
          "height": 110
        },
        "id": "I-AuBFYBNS1m",
        "outputId": "8a42a8bb-7ba5-4f67-a2d7-df477706d382"
      },
      "source": [
        "## Lets understand the data a bit first\r\n",
        "hotspot_test_json = pd.read_json(\"/content/hotpot_test_fullwiki_v1.json\")\r\n",
        "hotspot_test_json.head(2)"
      ],
      "execution_count": 10,
      "outputs": [
        {
          "output_type": "execute_result",
          "data": {
            "text/html": [
              "<div>\n",
              "<style scoped>\n",
              "    .dataframe tbody tr th:only-of-type {\n",
              "        vertical-align: middle;\n",
              "    }\n",
              "\n",
              "    .dataframe tbody tr th {\n",
              "        vertical-align: top;\n",
              "    }\n",
              "\n",
              "    .dataframe thead th {\n",
              "        text-align: right;\n",
              "    }\n",
              "</style>\n",
              "<table border=\"1\" class=\"dataframe\">\n",
              "  <thead>\n",
              "    <tr style=\"text-align: right;\">\n",
              "      <th></th>\n",
              "      <th>_id</th>\n",
              "      <th>question</th>\n",
              "      <th>context</th>\n",
              "    </tr>\n",
              "  </thead>\n",
              "  <tbody>\n",
              "    <tr>\n",
              "      <th>0</th>\n",
              "      <td>5adf9ba1554299025d62a2db</td>\n",
              "      <td>What position on the Billboard Top 100 did Ali...</td>\n",
              "      <td>[[The Other Side of Love, [\"The Other Side of ...</td>\n",
              "    </tr>\n",
              "    <tr>\n",
              "      <th>1</th>\n",
              "      <td>5a7befac5542996dd594b857</td>\n",
              "      <td>What year did the British politician born in 1...</td>\n",
              "      <td>[[Philip Cowley, [Philip Cowley is a British p...</td>\n",
              "    </tr>\n",
              "  </tbody>\n",
              "</table>\n",
              "</div>"
            ],
            "text/plain": [
              "                        _id  ...                                            context\n",
              "0  5adf9ba1554299025d62a2db  ...  [[The Other Side of Love, [\"The Other Side of ...\n",
              "1  5a7befac5542996dd594b857  ...  [[Philip Cowley, [Philip Cowley is a British p...\n",
              "\n",
              "[2 rows x 3 columns]"
            ]
          },
          "metadata": {
            "tags": []
          },
          "execution_count": 10
        }
      ]
    },
    {
      "cell_type": "code",
      "metadata": {
        "colab": {
          "base_uri": "https://localhost:8080/"
        },
        "id": "yk3Hbsq800Lr",
        "outputId": "c3d4aa9f-aa90-4d67-aba4-4d20d3f44418"
      },
      "source": [
        "## Now lets create training dataset into dataframe so that i can save it into CSV format to use later\r\n",
        "hotspot_test_csv = hotspot_test_json[\"question\"]\r\n",
        "# hotspot_test_answer = hotspot_test_json[\"answer\"]\r\n",
        "# hotspot_test_csv = pd.concat([hotspot_test_question,hotspot_test_answer],axis =1)\r\n",
        "hotspot_test_csv.head(2)"
      ],
      "execution_count": 11,
      "outputs": [
        {
          "output_type": "execute_result",
          "data": {
            "text/plain": [
              "0    What position on the Billboard Top 100 did Ali...\n",
              "1    What year did the British politician born in 1...\n",
              "Name: question, dtype: object"
            ]
          },
          "metadata": {
            "tags": []
          },
          "execution_count": 11
        }
      ]
    },
    {
      "cell_type": "code",
      "metadata": {
        "colab": {
          "base_uri": "https://localhost:8080/"
        },
        "id": "WSeLH8-LP74e",
        "outputId": "c2e0c669-415a-45d3-d112-ec98400e918a"
      },
      "source": [
        "print(f\"hotspot_train_json Dataset size:{hotspot_train_json.shape}\")\r\n",
        "print(f\"hotspot_dev_json Dataset size:{hotspot_dev_json.shape}\")\r\n",
        "print(f\"hotspot_test_json Dataset size:{hotspot_test_json.shape}\")"
      ],
      "execution_count": 12,
      "outputs": [
        {
          "output_type": "stream",
          "text": [
            "hotspot_train_json Dataset size:(90447, 7)\n",
            "hotspot_dev_json Dataset size:(7405, 7)\n",
            "hotspot_test_json Dataset size:(7405, 3)\n"
          ],
          "name": "stdout"
        }
      ]
    },
    {
      "cell_type": "markdown",
      "metadata": {
        "id": "QtxJBHCUAiwx"
      },
      "source": [
        "### Data Preparation"
      ]
    },
    {
      "cell_type": "code",
      "metadata": {
        "id": "vHTEL5WBz-2E"
      },
      "source": [
        "import random\r\n",
        "import torch, torchtext\r\n",
        "from torchtext import data "
      ],
      "execution_count": 13,
      "outputs": []
    },
    {
      "cell_type": "markdown",
      "metadata": {
        "id": "hFN65G2G-XKf"
      },
      "source": [
        "### Utility Functions"
      ]
    },
    {
      "cell_type": "markdown",
      "metadata": {
        "id": "YmryKW4a-ahZ"
      },
      "source": [
        "**Random Deletion**"
      ]
    },
    {
      "cell_type": "code",
      "metadata": {
        "id": "MgJ5--pd-Zv8"
      },
      "source": [
        "# randomly delete words from a sentence with a given probability\r\n",
        "\r\n",
        "def random_deletion(sentence, p=0.5): \r\n",
        "    # return if single word\r\n",
        "    if len(sentence) == 1: \r\n",
        "        return sentence\r\n",
        "    # delete words\r\n",
        "    remaining = list(filter(lambda x: random.uniform(0,1) > p, sentence)) \r\n",
        "    # if nothing left, sample a random word\r\n",
        "    if len(remaining) == 0: \r\n",
        "        return [random.choice(sentence)] \r\n",
        "    else:\r\n",
        "        return remaining"
      ],
      "execution_count": null,
      "outputs": []
    },
    {
      "cell_type": "markdown",
      "metadata": {
        "id": "tKBzYhoq-jxC"
      },
      "source": [
        "**Random Swap**"
      ]
    },
    {
      "cell_type": "code",
      "metadata": {
        "id": "3xkzJDwP-oYi"
      },
      "source": [
        "# randomly swap a pair of words in a sentence for a given # of times\r\n",
        "\r\n",
        "def random_swap(sentence, n=5): \r\n",
        "    if len(sentence) < 2:\r\n",
        "      return sentence\r\n",
        "    length = range(len(sentence)) \r\n",
        "    for _ in range(n):\r\n",
        "        idx1, idx2 = random.sample(length, 2)\r\n",
        "        sentence[idx1], sentence[idx2] = sentence[idx2], sentence[idx1] \r\n",
        "    return sentence"
      ],
      "execution_count": null,
      "outputs": []
    },
    {
      "cell_type": "markdown",
      "metadata": {
        "id": "LWJ9afQd-rkd"
      },
      "source": [
        "**Back Translation**"
      ]
    },
    {
      "cell_type": "code",
      "metadata": {
        "id": "QpmCtjuD-zhz"
      },
      "source": [
        "# translate a sentence to a random language,\r\n",
        "# and translate back to original language\r\n",
        "\r\n",
        "def back_translate(sentence, p=0.1):\r\n",
        "  # do nothing with probability of 1-p\r\n",
        "  if random.uniform(0,1) > p:\r\n",
        "    return sentence\r\n",
        "\r\n",
        "  # combine tokenized sentence into one string\r\n",
        "  sentence = ' '.join(sentence)\r\n",
        "\r\n",
        "  # instantiate translator\r\n",
        "  translator = google_translator()\r\n",
        "\r\n",
        "  # choose a target language\r\n",
        "  available_langs = list(google_trans_new.LANGUAGES.keys()) \r\n",
        "  trans_lang = random.choice(available_langs) \r\n",
        "  #print(f\"Translating to {google_trans_new.LANGUAGES[trans_lang]}\")\r\n",
        "\r\n",
        "  # translate to the target language\r\n",
        "  translations = translator.translate(sentence, lang_tgt=trans_lang) \r\n",
        "  #print(translations)\r\n",
        "\r\n",
        "  # translate back to original language\r\n",
        "  translations_en_random = translator.translate(translations, lang_src=trans_lang, lang_tgt='en') \r\n",
        "  #print(translations_en_random)\r\n",
        "\r\n",
        "  # select only one translation\r\n",
        "  if len(translations_en_random) > 1:\r\n",
        "    translations_en_random = translations_en_random[0]\r\n",
        "\r\n",
        "  return word_tokenize(translations_en_random)"
      ],
      "execution_count": null,
      "outputs": []
    },
    {
      "cell_type": "markdown",
      "metadata": {
        "id": "mLlGDxkI-41A"
      },
      "source": [
        "**Carry Out Data Augmentation**"
      ]
    },
    {
      "cell_type": "code",
      "metadata": {
        "id": "37UZpAEd_e5k"
      },
      "source": [
        "# for example in train.examples: \r\n",
        "#   example.tweets = back_translate(example.tweets, p=0.01)\r\n",
        "#   example.tweets = random_deletion(example.tweets, p=0.1)\r\n",
        "#   example.tweets = random_swap(example.tweets, n=1)"
      ],
      "execution_count": null,
      "outputs": []
    },
    {
      "cell_type": "markdown",
      "metadata": {
        "id": "phs47VOfCayt"
      },
      "source": [
        "### Tabular File Reading"
      ]
    },
    {
      "cell_type": "code",
      "metadata": {
        "id": "EhwqXgVCxv9Q"
      },
      "source": [
        "import torch\r\n",
        "import torch.nn as nn\r\n",
        "import torch.optim as optim\r\n",
        "import torch.nn.functional as F\r\n",
        "import os\r\n",
        "# from torchtext.datasets import Multi30k\r\n",
        "from torchtext.data import Field, BucketIterator\r\n",
        "from torchtext import data\r\n",
        "from torchtext import datasets\r\n",
        "\r\n",
        "import spacy\r\n",
        "import numpy as np\r\n",
        "\r\n",
        "import random\r\n",
        "import math\r\n",
        "import time\r\n",
        "import torch\r\n",
        "from torchtext import data\r\n",
        "from torchtext import datasets\r\n",
        "import pandas as pd"
      ],
      "execution_count": 14,
      "outputs": []
    },
    {
      "cell_type": "code",
      "metadata": {
        "id": "myNJfEKPvdHs",
        "colab": {
          "base_uri": "https://localhost:8080/"
        },
        "outputId": "3b5a11a3-f1ee-4bba-f599-4234284f9013"
      },
      "source": [
        "# Creating my home directory for keeping all the CSV files\r\n",
        "directory = 'data'\r\n",
        "if not os.path.exists(directory):\r\n",
        "    os.makedirs('data')\r\n",
        "    print(\"Directory '% s' created\" % directory)\r\n"
      ],
      "execution_count": 15,
      "outputs": [
        {
          "output_type": "stream",
          "text": [
            "Directory 'data' created\n"
          ],
          "name": "stdout"
        }
      ]
    },
    {
      "cell_type": "code",
      "metadata": {
        "id": "w4Q-omAP7IqD"
      },
      "source": [
        "# saving all the dataframe into CSV file.\r\n",
        "\r\n",
        "hotspot_trn_csv.to_csv(\"/content/data/hotspot_trn.csv\", index=False)\r\n",
        "hotspot_dev_csv.to_csv(\"/content/data/hotspot_dev.csv\", index=False)\r\n",
        "hotspot_test_csv.to_csv(\"/content/data/hotspot_test.csv\", index=False)"
      ],
      "execution_count": 16,
      "outputs": []
    },
    {
      "cell_type": "code",
      "metadata": {
        "colab": {
          "base_uri": "https://localhost:8080/"
        },
        "id": "TUF8cnMhy_oY",
        "outputId": "a04735a9-770f-4a4a-b369-440be45db9bd"
      },
      "source": [
        "## Now lets check how many null we have in training data\r\n",
        "hotspot_trn = pd.read_csv(\"/content/data/hotspot_trn.csv\")\r\n",
        "hotspot_trn_train_null = hotspot_trn.columns[hotspot_trn.isnull().any()]\r\n",
        "hotspot_trn[hotspot_trn_train_null].isnull().sum()"
      ],
      "execution_count": 17,
      "outputs": [
        {
          "output_type": "execute_result",
          "data": {
            "text/plain": [
              "Series([], dtype: float64)"
            ]
          },
          "metadata": {
            "tags": []
          },
          "execution_count": 17
        }
      ]
    },
    {
      "cell_type": "code",
      "metadata": {
        "colab": {
          "base_uri": "https://localhost:8080/"
        },
        "id": "38EEii_wgZQk",
        "outputId": "ddcc88bf-ef19-4bd7-fba4-0525f5bc673f"
      },
      "source": [
        "## Check for null in valid data\r\n",
        "## Now lets check how many null we have in training data\r\n",
        "hotspot_trn = pd.read_csv(\"/content/data/hotspot_dev.csv\")\r\n",
        "hotspot_trn_train_null = hotspot_trn.columns[hotspot_trn.isnull().any()]\r\n",
        "hotspot_trn[hotspot_trn_train_null].isnull().sum()"
      ],
      "execution_count": 18,
      "outputs": [
        {
          "output_type": "execute_result",
          "data": {
            "text/plain": [
              "Series([], dtype: float64)"
            ]
          },
          "metadata": {
            "tags": []
          },
          "execution_count": 18
        }
      ]
    },
    {
      "cell_type": "code",
      "metadata": {
        "id": "6GMcVy5U-WfP"
      },
      "source": [
        "from torchtext.data import Field, BucketIterator\r\n",
        "from torchtext import data\r\n",
        "from torchtext import datasets"
      ],
      "execution_count": 19,
      "outputs": []
    },
    {
      "cell_type": "code",
      "metadata": {
        "id": "ASTvwOHA7rrj"
      },
      "source": [
        "# !shuf -n 63543 /content/data/Tweet_valid_nl.csv > /content/data/Tweet_Train_reduced.csv\r\n",
        "# !{ echo 'text_x, text_y'; cat /content/data/Tweet_Train_reduced.csv; } > /content/data/Tweet_Train_reduced_fn.csv"
      ],
      "execution_count": null,
      "outputs": []
    },
    {
      "cell_type": "code",
      "metadata": {
        "id": "NTllvW5MuAZ0"
      },
      "source": [
        "# create Field objects\r\n",
        "QUESTION = data.Field(\r\n",
        "    # sequential = True,\r\n",
        "    tokenize = 'spacy', \r\n",
        "    # batch_first =True,\r\n",
        "    #  use_vocab=True,\r\n",
        "    lower = True,\r\n",
        "    init_token = '<sos>', \r\n",
        "    eos_token = '<eos>', \r\n",
        "    #  include_lengths=True\r\n",
        "    )\r\n",
        "\r\n",
        "RESPONSE = data.Field(tokenize ='spacy',\r\n",
        "                      # sequential = True, \r\n",
        "                      # include_lengths=True,\r\n",
        "                      lower = True,\r\n",
        "                      # is_target=True,\r\n",
        "                      init_token = '<sos>', \r\n",
        "                      eos_token = '<eos>', \r\n",
        "                      # batch_first =True\r\n",
        "                      )\r\n",
        "\r\n",
        "fields = [('question', QUESTION), ('answer', RESPONSE)]"
      ],
      "execution_count": 20,
      "outputs": []
    },
    {
      "cell_type": "code",
      "metadata": {
        "colab": {
          "base_uri": "https://localhost:8080/"
        },
        "id": "qg8C9cert5V1",
        "outputId": "a780acf2-d530-4e99-a292-375a756d3216"
      },
      "source": [
        "# load the dataset in json format\r\n",
        "train_ds, valid_ds, test_ds = data.TabularDataset.splits(\r\n",
        "   path = 'data',\r\n",
        "   train = 'hotspot_trn.csv',\r\n",
        "   validation = 'hotspot_dev.csv',\r\n",
        "   test = 'hotspot_test.csv',\r\n",
        "   format = 'csv',\r\n",
        "   fields = fields,\r\n",
        "   skip_header = True\r\n",
        ")\r\n",
        "\r\n",
        "# check an example\r\n",
        "print(vars(train_ds[0]))"
      ],
      "execution_count": 21,
      "outputs": [
        {
          "output_type": "stream",
          "text": [
            "{'question': ['which', 'magazine', 'was', 'started', 'first', 'arthur', \"'s\", 'magazine', 'or', 'first', 'for', 'women', '?'], 'answer': ['arthur', \"'s\", 'magazine']}\n"
          ],
          "name": "stdout"
        }
      ]
    },
    {
      "cell_type": "code",
      "metadata": {
        "colab": {
          "base_uri": "https://localhost:8080/"
        },
        "id": "a7oSDrAUv0Ky",
        "outputId": "3ab193a8-6cc5-45ec-e23a-1f1dac4abdac"
      },
      "source": [
        "train_ds[0].__dict__.keys()"
      ],
      "execution_count": 22,
      "outputs": [
        {
          "output_type": "execute_result",
          "data": {
            "text/plain": [
              "dict_keys(['question', 'answer'])"
            ]
          },
          "metadata": {
            "tags": []
          },
          "execution_count": 22
        }
      ]
    },
    {
      "cell_type": "code",
      "metadata": {
        "colab": {
          "base_uri": "https://localhost:8080/"
        },
        "id": "TLGpYWTyETSE",
        "outputId": "07401591-e230-4299-9aba-aa9380259e34"
      },
      "source": [
        "## we get an Example object. The Example object bundles the attributes of a single data point together. \r\n",
        "# We also see that the text has already been tokenized for us, but has not yet been converted to integers\r\n",
        "vars(train_ds.examples[10])"
      ],
      "execution_count": 23,
      "outputs": [
        {
          "output_type": "execute_result",
          "data": {
            "text/plain": [
              "{'answer': ['jaime', 'meline'],\n",
              " 'question': ['fast',\n",
              "  'cars',\n",
              "  ',',\n",
              "  'danger',\n",
              "  ',',\n",
              "  'fire',\n",
              "  'and',\n",
              "  'knives',\n",
              "  'includes',\n",
              "  'guest',\n",
              "  'appearances',\n",
              "  'from',\n",
              "  'which',\n",
              "  'hip',\n",
              "  'hop',\n",
              "  'record',\n",
              "  'executive',\n",
              "  '?']}"
            ]
          },
          "metadata": {
            "tags": []
          },
          "execution_count": 23
        }
      ]
    },
    {
      "cell_type": "code",
      "metadata": {
        "colab": {
          "base_uri": "https://localhost:8080/"
        },
        "id": "12rnzGTnx6BM",
        "outputId": "6de16aca-4de8-4482-f7c3-2ad108334f7a"
      },
      "source": [
        "try:\r\n",
        "    print(len(train_ds[10]))\r\n",
        "except:\r\n",
        "    print(train_ds[10].question)"
      ],
      "execution_count": 39,
      "outputs": [
        {
          "output_type": "stream",
          "text": [
            "['what', 'is', 'the', 'name', 'of', 'the', 'fight', 'song', 'of', 'the', 'university', 'whose', 'main', 'campus', 'is', 'in', 'lawrence', ',', 'kansas', 'and', 'whose', 'branch', 'campuses', 'are', 'in', 'the', 'kansas', 'city', 'metropolitan', 'area', '?']\n"
          ],
          "name": "stdout"
        }
      ]
    },
    {
      "cell_type": "code",
      "metadata": {
        "id": "tK-5PItlE8eu"
      },
      "source": [
        "# Before creating iterators of the Datasets we need to build the vocabulary for each Field object:\r\n",
        "# This makes torchtext go through all the elements in the training set, check the contents corresponding to the TEXT field, \r\n",
        "# and register the words in its vocabulary. Torchtext has its own class called Vocab for handling the vocabulary. \r\n",
        "# The Vocab class holds a mapping from word to id in its stoi attribute and a reverse mapping in its itos attribute\r\n",
        "QUESTION.build_vocab(train_ds,\r\n",
        "                  # max_size=20000,\r\n",
        "                  min_freq=2)\r\n",
        "RESPONSE.build_vocab(train_ds,\r\n",
        "                    #  max_size=20000,\r\n",
        "                     min_freq=2\r\n",
        "                     )"
      ],
      "execution_count": 24,
      "outputs": []
    },
    {
      "cell_type": "code",
      "metadata": {
        "colab": {
          "base_uri": "https://localhost:8080/"
        },
        "id": "WegtEqfsFU1P",
        "outputId": "59674b18-3fff-46ae-d5e4-3187b7d0dd0b"
      },
      "source": [
        "print(f\"Unique tokens in source (Hotspot) vocabulary: {len(QUESTION.vocab)}\")\r\n",
        "print(f\"Unique tokens in target (Hotspot) vocabulary: {len(RESPONSE.vocab)}\")"
      ],
      "execution_count": 25,
      "outputs": [
        {
          "output_type": "stream",
          "text": [
            "Unique tokens in source (Hotspot) vocabulary: 37133\n",
            "Unique tokens in target (Hotspot) vocabulary: 16299\n"
          ],
          "name": "stdout"
        }
      ]
    },
    {
      "cell_type": "markdown",
      "metadata": {
        "id": "IXPzJpICCdeo"
      },
      "source": [
        "**Restart Notebook**"
      ]
    },
    {
      "cell_type": "markdown",
      "metadata": {
        "id": "_GgLPTpV9ejD"
      },
      "source": [
        "# 3 - Neural Machine Translation by Jointly Learning to Align and Translate\n",
        "\n",
        "In this third notebook on sequence-to-sequence models using PyTorch and TorchText, we'll be implementing the model from [Neural Machine Translation by Jointly Learning to Align and Translate](https://arxiv.org/abs/1409.0473). This model achives our best perplexity yet, ~27 compared to ~34 for the previous model.\n",
        "\n",
        "## Introduction\n",
        "\n",
        "As a reminder, here is the general encoder-decoder model:\n",
        "\n",
        "![](https://github.com/bentrevett/pytorch-seq2seq/blob/master/assets/seq2seq1.png?raw=1)\n",
        "\n",
        "In the previous model, our architecture was set-up in a way to reduce \"information compression\" by explicitly passing the context vector, $z$, to the decoder at every time-step and by passing both the context vector and embedded input word, $d(y_t)$, along with the hidden state, $s_t$, to the linear layer, $f$, to make a prediction.\n",
        "\n",
        "![](https://github.com/bentrevett/pytorch-seq2seq/blob/master/assets/seq2seq7.png?raw=1)\n",
        "\n",
        "Even though we have reduced some of this compression, our context vector still needs to contain all of the information about the source sentence. The model implemented in this notebook avoids this compression by allowing the decoder to look at the entire source sentence (via its hidden states) at each decoding step! How does it do this? It uses *attention*. \n",
        "\n",
        "Attention works by first, calculating an attention vector, $a$, that is the length of the source sentence. The attention vector has the property that each element is between 0 and 1, and the entire vector sums to 1. We then calculate a weighted sum of our source sentence hidden states, $H$, to get a weighted source vector, $w$. \n",
        "\n",
        "$$w = \\sum_{i}a_ih_i$$\n",
        "\n",
        "We calculate a new weighted source vector every time-step when decoding, using it as input to our decoder RNN as well as the linear layer to make a prediction. We'll explain how to do all of this during the session.\n",
        "\n",
        "## Preparing Data\n",
        "\n",
        "Again, the preparation is similar to last time.\n",
        "\n",
        "First we import all the required modules."
      ]
    },
    {
      "cell_type": "code",
      "metadata": {
        "id": "rySJ5AJb9ejE"
      },
      "source": [
        "import torch\n",
        "import torch.nn as nn\n",
        "import torch.optim as optim\n",
        "import torch.nn.functional as F\n",
        "\n",
        "from torchtext.datasets import Multi30k\n",
        "from torchtext.data import Field, BucketIterator\n",
        "\n",
        "import spacy\n",
        "import numpy as np\n",
        "\n",
        "import random\n",
        "import math\n",
        "import time"
      ],
      "execution_count": 26,
      "outputs": []
    },
    {
      "cell_type": "markdown",
      "metadata": {
        "id": "rD1fj0R39ejE"
      },
      "source": [
        "Set the random seeds for reproducability."
      ]
    },
    {
      "cell_type": "code",
      "metadata": {
        "id": "uZJrN5ry9ejE"
      },
      "source": [
        "SEED = 1234\n",
        "\n",
        "random.seed(SEED)\n",
        "np.random.seed(SEED)\n",
        "torch.manual_seed(SEED)\n",
        "torch.cuda.manual_seed(SEED)\n",
        "torch.backends.cudnn.deterministic = True"
      ],
      "execution_count": 27,
      "outputs": []
    },
    {
      "cell_type": "markdown",
      "metadata": {
        "id": "w4Cul6h19ejF"
      },
      "source": [
        "Load the German and English spaCy models."
      ]
    },
    {
      "cell_type": "code",
      "metadata": {
        "id": "QmVlgfQY9ejF"
      },
      "source": [
        "# spacy_de = spacy.load('de')\n",
        "spacy_en = spacy.load('en')"
      ],
      "execution_count": 28,
      "outputs": []
    },
    {
      "cell_type": "markdown",
      "metadata": {
        "id": "XSzI_oby9ejF"
      },
      "source": [
        "We create the tokenizers."
      ]
    },
    {
      "cell_type": "markdown",
      "metadata": {
        "id": "Ot8vlVo09ejF"
      },
      "source": [
        "## Build the vocabulary\r\n",
        "\r\n",
        "Next, we'll build the vocabulary for the source and target languages. The vocabulary is used to associate each unique token with an index (an integer). The vocabularies of the source and target languages are distinct.\r\n",
        "\r\n",
        "Using the min_freq argument, we only allow tokens that appear at least 2 times to appear in our vocabulary. Tokens that appear only once are converted into an <unk> (unknown) token.\r\n",
        "\r\n",
        "It is important to note that our vocabulary should only be built from the training set and not the validation/test set. This prevents \"information leakage\" into our model, giving us artifically inflated validation/test scores."
      ]
    },
    {
      "cell_type": "code",
      "metadata": {
        "id": "HdMSPoGm9ejF"
      },
      "source": [
        "# Sentence.build_vocab(train, min_freq = 2)\n",
        "# Response.build_vocab(train, min_freq = 2)"
      ],
      "execution_count": null,
      "outputs": []
    },
    {
      "cell_type": "markdown",
      "metadata": {
        "id": "BtqKGxNO9ejF"
      },
      "source": [
        "Define the device."
      ]
    },
    {
      "cell_type": "code",
      "metadata": {
        "id": "ey8yA-Yh9ejF"
      },
      "source": [
        "device = torch.device('cuda' if torch.cuda.is_available() else 'cpu')"
      ],
      "execution_count": 29,
      "outputs": []
    },
    {
      "cell_type": "code",
      "metadata": {
        "colab": {
          "base_uri": "https://localhost:8080/"
        },
        "id": "921-xizyHdEa",
        "outputId": "0b8cf313-d18a-4065-e7ea-2a76fcf503fb"
      },
      "source": [
        "print(f\"Unique tokens in source vocabulary: {len(QUESTION.vocab)}\")\r\n",
        "print(f\"Unique tokens in target vocabulary: {len(RESPONSE.vocab)}\")"
      ],
      "execution_count": 30,
      "outputs": [
        {
          "output_type": "stream",
          "text": [
            "Unique tokens in source vocabulary: 37133\n",
            "Unique tokens in target vocabulary: 16299\n"
          ],
          "name": "stdout"
        }
      ]
    },
    {
      "cell_type": "code",
      "metadata": {
        "colab": {
          "base_uri": "https://localhost:8080/"
        },
        "id": "q7G1rnioJIvu",
        "outputId": "2331de27-2025-47f7-c030-eb3a068658d9"
      },
      "source": [
        "RESPONSE.vocab"
      ],
      "execution_count": null,
      "outputs": [
        {
          "output_type": "execute_result",
          "data": {
            "text/plain": [
              "<torchtext.vocab.Vocab at 0x7f9cb827ceb8>"
            ]
          },
          "metadata": {
            "tags": []
          },
          "execution_count": 37
        }
      ]
    },
    {
      "cell_type": "markdown",
      "metadata": {
        "id": "aqnAGiVU9ejF"
      },
      "source": [
        "Create the iterators."
      ]
    },
    {
      "cell_type": "code",
      "metadata": {
        "id": "g50zv9L79ejF"
      },
      "source": [
        "BATCH_SIZE = 128\n",
        "train_iterator, valid_iterator, test_iterator = data.BucketIterator.splits(\n",
        "    (train_ds, valid_ds,test_ds),\n",
        "    # sort_key=lambda x: len(x.text_x), # the BucketIterator needs to be told what function it should use to group the data.\n",
        "    # sort_within_batch=True,\n",
        "    batch_size = BATCH_SIZE,\n",
        "    sort_key=lambda x: len(x.question),\n",
        "    sort = True,\n",
        "    # repeat=False, # we pass repeat=False because we want to wrap this Iterator layer\n",
        "    device = device)\n",
        "# https://torchtext.readthedocs.io/en/latest/examples.html"
      ],
      "execution_count": 31,
      "outputs": []
    },
    {
      "cell_type": "code",
      "metadata": {
        "colab": {
          "base_uri": "https://localhost:8080/"
        },
        "id": "HChSi8Ldu2xb",
        "outputId": "ef623f4f-4f9a-40bf-ae1a-05ac0f67b6ce"
      },
      "source": [
        " b = next(iter(train_iterator)); vars(b).keys()"
      ],
      "execution_count": 32,
      "outputs": [
        {
          "output_type": "execute_result",
          "data": {
            "text/plain": [
              "dict_keys(['batch_size', 'dataset', 'fields', 'input_fields', 'target_fields', 'question', 'answer'])"
            ]
          },
          "metadata": {
            "tags": []
          },
          "execution_count": 32
        }
      ]
    },
    {
      "cell_type": "code",
      "metadata": {
        "colab": {
          "base_uri": "https://localhost:8080/"
        },
        "id": "GakZOA_SJPGo",
        "outputId": "119b6990-c01d-47bf-c1c9-ed67ec3637ee"
      },
      "source": [
        "train_ds.fields"
      ],
      "execution_count": 33,
      "outputs": [
        {
          "output_type": "execute_result",
          "data": {
            "text/plain": [
              "{'answer': <torchtext.data.field.Field at 0x7f1ccb392f98>,\n",
              " 'question': <torchtext.data.field.Field at 0x7f1ccb372b00>}"
            ]
          },
          "metadata": {
            "tags": []
          },
          "execution_count": 33
        }
      ]
    },
    {
      "cell_type": "code",
      "metadata": {
        "colab": {
          "base_uri": "https://localhost:8080/"
        },
        "id": "22L9gBisKNpL",
        "outputId": "db8eb629-1554-4517-b151-06983eff0575"
      },
      "source": [
        "type(train_iterator)\r\n",
        "type(train_ds)"
      ],
      "execution_count": 34,
      "outputs": [
        {
          "output_type": "execute_result",
          "data": {
            "text/plain": [
              "torchtext.data.dataset.TabularDataset"
            ]
          },
          "metadata": {
            "tags": []
          },
          "execution_count": 34
        }
      ]
    },
    {
      "cell_type": "markdown",
      "metadata": {
        "id": "QP5s8Vov9ejF"
      },
      "source": [
        "## Building the Seq2Seq Model\n",
        "\n",
        "### Encoder\n",
        "\n",
        "First, we'll build the encoder. Similar to the previous model, we only use a single layer GRU, however we now use a *bidirectional RNN*. With a bidirectional RNN, we have two RNNs in each layer. A *forward RNN* going over the embedded sentence from left to right (shown below in green), and a *backward RNN* going over the embedded sentence from right to left (teal). All we need to do in code is set `bidirectional = True` and then pass the embedded sentence to the RNN as before. \n",
        "\n",
        "![](https://github.com/bentrevett/pytorch-seq2seq/blob/master/assets/seq2seq8.png?raw=1)\n",
        "\n",
        "We now have:\n",
        "\n",
        "$$\\begin{align*}\n",
        "h_t^\\rightarrow &= \\text{EncoderGRU}^\\rightarrow(e(x_t^\\rightarrow),h_{t-1}^\\rightarrow)\\\\\n",
        "h_t^\\leftarrow &= \\text{EncoderGRU}^\\leftarrow(e(x_t^\\leftarrow),h_{t-1}^\\leftarrow)\n",
        "\\end{align*}$$\n",
        "\n",
        "Where $x_0^\\rightarrow = \\text{<sos>}, x_1^\\rightarrow = \\text{guten}$ and $x_0^\\leftarrow = \\text{<eos>}, x_1^\\leftarrow = \\text{morgen}$.\n",
        "\n",
        "As before, we only pass an input (`embedded`) to the RNN, which tells PyTorch to initialize both the forward and backward initial hidden states ($h_0^\\rightarrow$ and $h_0^\\leftarrow$, respectively) to a tensor of all zeros. We'll also get two context vectors, one from the forward RNN after it has seen the final word in the sentence, $z^\\rightarrow=h_T^\\rightarrow$, and one from the backward RNN after it has seen the first word in the sentence, $z^\\leftarrow=h_T^\\leftarrow$.\n",
        "\n",
        "The RNN returns `outputs` and `hidden`. \n",
        "\n",
        "`outputs` is of size **[src len, batch size, hid dim * num directions]** where the first `hid_dim` elements in the third axis are the hidden states from the top layer forward RNN, and the last `hid_dim` elements are hidden states from the top layer backward RNN. We can think of the third axis as being the forward and backward hidden states concatenated together other, i.e. $h_1 = [h_1^\\rightarrow; h_{T}^\\leftarrow]$, $h_2 = [h_2^\\rightarrow; h_{T-1}^\\leftarrow]$ and we can denote all encoder hidden states (forward and backwards concatenated together) as $H=\\{ h_1, h_2, ..., h_T\\}$.\n",
        "\n",
        "`hidden` is of size **[n layers * num directions, batch size, hid dim]**, where **[-2, :, :]** gives the top layer forward RNN hidden state after the final time-step (i.e. after it has seen the last word in the sentence) and **[-1, :, :]** gives the top layer backward RNN hidden state after the final time-step (i.e. after it has seen the first word in the sentence).\n",
        "\n",
        "As the decoder is not bidirectional, it only needs a single context vector, $z$, to use as its initial hidden state, $s_0$, and we currently have two, a forward and a backward one ($z^\\rightarrow=h_T^\\rightarrow$ and $z^\\leftarrow=h_T^\\leftarrow$, respectively). We solve this by concatenating the two context vectors together, passing them through a linear layer, $g$, and applying the $\\tanh$ activation function. \n",
        "\n",
        "$$z=\\tanh(g(h_T^\\rightarrow, h_T^\\leftarrow)) = \\tanh(g(z^\\rightarrow, z^\\leftarrow)) = s_0$$\n",
        "\n",
        "**Note**: this is actually a deviation from the paper. Instead, they feed only the first backward RNN hidden state through a linear layer to get the context vector/decoder initial hidden state. This doesn't seem to make sense to me, so we have changed it.\n",
        "\n",
        "As we want our model to look back over the whole of the source sentence we return `outputs`, the stacked forward and backward hidden states for every token in the source sentence. We also return `hidden`, which acts as our initial hidden state in the decoder."
      ]
    },
    {
      "cell_type": "code",
      "metadata": {
        "id": "Y8ovMJ3_9ejF"
      },
      "source": [
        "class Encoder(nn.Module):\n",
        "    def __init__(self, input_dim, emb_dim, enc_hid_dim, dec_hid_dim, dropout):\n",
        "        super().__init__()\n",
        "        \n",
        "        self.embedding = nn.Embedding(input_dim, emb_dim)\n",
        "        \n",
        "        self.rnn = nn.GRU(emb_dim, enc_hid_dim, bidirectional = True)\n",
        "        \n",
        "        self.fc = nn.Linear(enc_hid_dim * 2, dec_hid_dim)\n",
        "        \n",
        "        self.dropout = nn.Dropout(dropout)\n",
        "        \n",
        "    def forward(self, src):\n",
        "        \n",
        "        #src = [src len, batch size]\n",
        "        \n",
        "        embedded = self.dropout(self.embedding(src))\n",
        "        \n",
        "        #embedded = [src len, batch size, emb dim]\n",
        "        \n",
        "        outputs, hidden = self.rnn(embedded)\n",
        "                \n",
        "        #outputs = [src len, batch size, hid dim * num directions]\n",
        "        #hidden = [n layers * num directions, batch size, hid dim]\n",
        "        \n",
        "        #hidden is stacked [forward_1, backward_1, forward_2, backward_2, ...]\n",
        "        #outputs are always from the last layer\n",
        "        \n",
        "        #hidden [-2, :, : ] is the last of the forwards RNN \n",
        "        #hidden [-1, :, : ] is the last of the backwards RNN\n",
        "        \n",
        "        #initial decoder hidden is final hidden state of the forwards and backwards \n",
        "        #  encoder RNNs fed through a linear layer\n",
        "        hidden = torch.tanh(self.fc(torch.cat((hidden[-2,:,:], hidden[-1,:,:]), dim = 1)))\n",
        "        \n",
        "        #outputs = [src len, batch size, enc hid dim * 2]\n",
        "        #hidden = [batch size, dec hid dim]\n",
        "        \n",
        "        return outputs, hidden"
      ],
      "execution_count": 35,
      "outputs": []
    },
    {
      "cell_type": "markdown",
      "metadata": {
        "id": "o9WNKZ4D9ejF"
      },
      "source": [
        "### Attention\n",
        "\n",
        "Next up is the attention layer. This will take in the previous hidden state of the decoder, $s_{t-1}$, and all of the stacked forward and backward hidden states from the encoder, $H$. The layer will output an attention vector, $a_t$, that is the length of the source sentence, each element is between 0 and 1 and the entire vector sums to 1.\n",
        "\n",
        "Intuitively, this layer takes what we have decoded so far, $s_{t-1}$, and all of what we have encoded, $H$, to produce a vector, $a_t$, that represents which words in the source sentence we should pay the most attention to in order to correctly predict the next word to decode, $\\hat{y}_{t+1}$. \n",
        "\n",
        "First, we calculate the *energy* between the previous decoder hidden state and the encoder hidden states. As our encoder hidden states are a sequence of $T$ tensors, and our previous decoder hidden state is a single tensor, the first thing we do is `repeat` the previous decoder hidden state $T$ times. We then calculate the energy, $E_t$, between them by concatenating them together and passing them through a linear layer (`attn`) and a $\\tanh$ activation function. \n",
        "\n",
        "$$E_t = \\tanh(\\text{attn}(s_{t-1}, H))$$ \n",
        "\n",
        "This can be thought of as calculating how well each encoder hidden state \"matches\" the previous decoder hidden state.\n",
        "\n",
        "We currently have a **[dec hid dim, src len]** tensor for each example in the batch. We want this to be **[src len]** for each example in the batch as the attention should be over the length of the source sentence. This is achieved by multiplying the `energy` by a **[1, dec hid dim]** tensor, $v$.\n",
        "\n",
        "$$\\hat{a}_t = v E_t$$\n",
        "\n",
        "We can think of $v$ as the weights for a weighted sum of the energy across all encoder hidden states. These weights tell us how much we should attend to each token in the source sequence. The parameters of $v$ are initialized randomly, but learned with the rest of the model via backpropagation. Note how $v$ is not dependent on time, and the same $v$ is used for each time-step of the decoding. We implement $v$ as a linear layer without a bias.\n",
        "\n",
        "Finally, we ensure the attention vector fits the constraints of having all elements between 0 and 1 and the vector summing to 1 by passing it through a $\\text{softmax}$ layer.\n",
        "\n",
        "$$a_t = \\text{softmax}(\\hat{a_t})$$\n",
        "\n",
        "This gives us the attention over the source sentence!\n",
        "\n",
        "Graphically, this looks something like below. This is for calculating the very first attention vector, where $s_{t-1} = s_0 = z$. The green/teal blocks represent the hidden states from both the forward and backward RNNs, and the attention computation is all done within the pink block.\n",
        "\n",
        "![](https://github.com/bentrevett/pytorch-seq2seq/blob/master/assets/seq2seq9.png?raw=1)"
      ]
    },
    {
      "cell_type": "code",
      "metadata": {
        "id": "7yXR6Qbg9ejF"
      },
      "source": [
        "class Attention(nn.Module):\n",
        "    def __init__(self, enc_hid_dim, dec_hid_dim):\n",
        "        super().__init__()\n",
        "        \n",
        "        self.attn = nn.Linear((enc_hid_dim * 2) + dec_hid_dim, dec_hid_dim)\n",
        "        self.v = nn.Linear(dec_hid_dim, 1, bias = False)\n",
        "        \n",
        "    def forward(self, hidden, encoder_outputs):\n",
        "        \n",
        "        #hidden = [batch size, dec hid dim]\n",
        "        #encoder_outputs = [src len, batch size, enc hid dim * 2]\n",
        "        \n",
        "        batch_size = encoder_outputs.shape[1]\n",
        "        src_len = encoder_outputs.shape[0]\n",
        "        \n",
        "        #repeat decoder hidden state src_len times\n",
        "        hidden = hidden.unsqueeze(1).repeat(1, src_len, 1)\n",
        "        \n",
        "        encoder_outputs = encoder_outputs.permute(1, 0, 2)\n",
        "        \n",
        "        #hidden = [batch size, src len, dec hid dim]\n",
        "        #encoder_outputs = [batch size, src len, enc hid dim * 2]\n",
        "        \n",
        "        energy = torch.tanh(self.attn(torch.cat((hidden, encoder_outputs), dim = 2))) \n",
        "        \n",
        "        #energy = [batch size, src len, dec hid dim]\n",
        "\n",
        "        attention = self.v(energy).squeeze(2)\n",
        "        \n",
        "        #attention= [batch size, src len]\n",
        "        \n",
        "        return F.softmax(attention, dim=1)"
      ],
      "execution_count": 36,
      "outputs": []
    },
    {
      "cell_type": "markdown",
      "metadata": {
        "id": "pb-p1mhO9ejF"
      },
      "source": [
        "### Decoder\n",
        "\n",
        "Next up is the decoder. \n",
        "\n",
        "The decoder contains the attention layer, `attention`, which takes the previous hidden state, $s_{t-1}$, all of the encoder hidden states, $H$, and returns the attention vector, $a_t$.\n",
        "\n",
        "We then use this attention vector to create a weighted source vector, $w_t$, denoted by `weighted`, which is a weighted sum of the encoder hidden states, $H$, using $a_t$ as the weights.\n",
        "\n",
        "$$w_t = a_t H$$\n",
        "\n",
        "The embedded input word, $d(y_t)$, the weighted source vector, $w_t$, and the previous decoder hidden state, $s_{t-1}$, are then all passed into the decoder RNN, with $d(y_t)$ and $w_t$ being concatenated together.\n",
        "\n",
        "$$s_t = \\text{DecoderGRU}(d(y_t), w_t, s_{t-1})$$\n",
        "\n",
        "We then pass $d(y_t)$, $w_t$ and $s_t$ through the linear layer, $f$, to make a prediction of the next word in the target sentence, $\\hat{y}_{t+1}$. This is done by concatenating them all together.\n",
        "\n",
        "$$\\hat{y}_{t+1} = f(d(y_t), w_t, s_t)$$\n",
        "\n",
        "The image below shows decoding the first word in an example translation.\n",
        "\n",
        "![](https://github.com/bentrevett/pytorch-seq2seq/blob/master/assets/seq2seq10.png?raw=1)\n",
        "\n",
        "The green/teal blocks show the forward/backward encoder RNNs which output $H$, the red block shows the context vector, $z = h_T = \\tanh(g(h^\\rightarrow_T,h^\\leftarrow_T)) = \\tanh(g(z^\\rightarrow, z^\\leftarrow)) = s_0$, the blue block shows the decoder RNN which outputs $s_t$, the purple block shows the linear layer, $f$, which outputs $\\hat{y}_{t+1}$ and the orange block shows the calculation of the weighted sum over $H$ by $a_t$ and outputs $w_t$. Not shown is the calculation of $a_t$."
      ]
    },
    {
      "cell_type": "code",
      "metadata": {
        "id": "5wg3PolD9ejF"
      },
      "source": [
        "class Decoder(nn.Module):\n",
        "    def __init__(self, output_dim, emb_dim, enc_hid_dim, dec_hid_dim, dropout, attention):\n",
        "        super().__init__()\n",
        "\n",
        "        self.output_dim = output_dim\n",
        "        self.attention = attention\n",
        "        \n",
        "        self.embedding = nn.Embedding(output_dim, emb_dim)\n",
        "        \n",
        "        self.rnn = nn.GRU((enc_hid_dim * 2) + emb_dim, dec_hid_dim)\n",
        "        \n",
        "        self.fc_out = nn.Linear((enc_hid_dim * 2) + dec_hid_dim + emb_dim, output_dim)\n",
        "        \n",
        "        self.dropout = nn.Dropout(dropout)\n",
        "        \n",
        "    def forward(self, input, hidden, encoder_outputs):\n",
        "             \n",
        "        #input = [batch size]\n",
        "        #hidden = [batch size, dec hid dim]\n",
        "        #encoder_outputs = [src len, batch size, enc hid dim * 2]\n",
        "        \n",
        "        input = input.unsqueeze(0)\n",
        "        \n",
        "        #input = [1, batch size]\n",
        "        \n",
        "        embedded = self.dropout(self.embedding(input))\n",
        "        \n",
        "        #embedded = [1, batch size, emb dim]\n",
        "        \n",
        "        a = self.attention(hidden, encoder_outputs)\n",
        "                \n",
        "        #a = [batch size, src len]\n",
        "        \n",
        "        a = a.unsqueeze(1)\n",
        "        \n",
        "        #a = [batch size, 1, src len]\n",
        "        \n",
        "        encoder_outputs = encoder_outputs.permute(1, 0, 2)\n",
        "        \n",
        "        #encoder_outputs = [batch size, src len, enc hid dim * 2]\n",
        "        \n",
        "        weighted = torch.bmm(a, encoder_outputs)\n",
        "        \n",
        "        #weighted = [batch size, 1, enc hid dim * 2]\n",
        "        \n",
        "        weighted = weighted.permute(1, 0, 2)\n",
        "        \n",
        "        #weighted = [1, batch size, enc hid dim * 2]\n",
        "        \n",
        "        rnn_input = torch.cat((embedded, weighted), dim = 2)\n",
        "        \n",
        "        #rnn_input = [1, batch size, (enc hid dim * 2) + emb dim]\n",
        "            \n",
        "        output, hidden = self.rnn(rnn_input, hidden.unsqueeze(0))\n",
        "        \n",
        "        #output = [seq len, batch size, dec hid dim * n directions]\n",
        "        #hidden = [n layers * n directions, batch size, dec hid dim]\n",
        "        \n",
        "        #seq len, n layers and n directions will always be 1 in this decoder, therefore:\n",
        "        #output = [1, batch size, dec hid dim]\n",
        "        #hidden = [1, batch size, dec hid dim]\n",
        "        #this also means that output == hidden\n",
        "        assert (output == hidden).all()\n",
        "        \n",
        "        embedded = embedded.squeeze(0)\n",
        "        output = output.squeeze(0)\n",
        "        weighted = weighted.squeeze(0)\n",
        "        \n",
        "        prediction = self.fc_out(torch.cat((output, weighted, embedded), dim = 1))\n",
        "        \n",
        "        #prediction = [batch size, output dim]\n",
        "        \n",
        "        return prediction, hidden.squeeze(0)"
      ],
      "execution_count": 37,
      "outputs": []
    },
    {
      "cell_type": "markdown",
      "metadata": {
        "id": "gj7DZYQD9ejF"
      },
      "source": [
        "### Seq2Seq\n",
        "\n",
        "This is the first model where we don't have to have the encoder RNN and decoder RNN have the same hidden dimensions, however the encoder has to be bidirectional. This requirement can be removed by changing all occurences of `enc_dim * 2` to `enc_dim * 2 if encoder_is_bidirectional else enc_dim`. \n",
        "\n",
        "This seq2seq encapsulator is similar to the last two. The only difference is that the `encoder` returns both the final hidden state (which is the final hidden state from both the forward and backward encoder RNNs passed through a linear layer) to be used as the initial hidden state for the decoder, as well as every hidden state (which are the forward and backward hidden states stacked on top of each other). We also need to ensure that `hidden` and `encoder_outputs` are passed to the decoder. \n",
        "\n",
        "Briefly going over all of the steps:\n",
        "- the `outputs` tensor is created to hold all predictions, $\\hat{Y}$\n",
        "- the source sequence, $X$, is fed into the encoder to receive $z$ and $H$\n",
        "- the initial decoder hidden state is set to be the `context` vector, $s_0 = z = h_T$\n",
        "- we use a batch of `<sos>` tokens as the first `input`, $y_1$\n",
        "- we then decode within a loop:\n",
        "  - inserting the input token $y_t$, previous hidden state, $s_{t-1}$, and all encoder outputs, $H$, into the decoder\n",
        "  - receiving a prediction, $\\hat{y}_{t+1}$, and a new hidden state, $s_t$\n",
        "  - we then decide if we are going to teacher force or not, setting the next input as appropriate"
      ]
    },
    {
      "cell_type": "code",
      "metadata": {
        "id": "UEkTIixA9ejF"
      },
      "source": [
        "class Seq2Seq(nn.Module):\n",
        "    def __init__(self, encoder, decoder, device):\n",
        "        super().__init__()\n",
        "        \n",
        "        self.encoder = encoder\n",
        "        self.decoder = decoder\n",
        "        self.device = device\n",
        "        \n",
        "    def forward(self, src, trg, teacher_forcing_ratio = 0.5):\n",
        "        \n",
        "        #src = [src len, batch size]\n",
        "        #trg = [trg len, batch size]\n",
        "        #teacher_forcing_ratio is probability to use teacher forcing\n",
        "        #e.g. if teacher_forcing_ratio is 0.75 we use teacher forcing 75% of the time\n",
        "        # print(f\"Type: {type(src)}, src:{src}\")\n",
        "        batch_size = src.shape[1]\n",
        "        trg_len = trg.shape[0]\n",
        "        trg_vocab_size = self.decoder.output_dim\n",
        "        \n",
        "        #tensor to store decoder outputs\n",
        "        outputs = torch.zeros(trg_len, batch_size, trg_vocab_size).to(self.device)\n",
        "        \n",
        "        #encoder_outputs is all hidden states of the input sequence, back and forwards\n",
        "        #hidden is the final forward and backward hidden states, passed through a linear layer\n",
        "        encoder_outputs, hidden = self.encoder(src)\n",
        "                \n",
        "        #first input to the decoder is the <sos> tokens\n",
        "        input = trg[0,:]\n",
        "        \n",
        "        for t in range(1, trg_len):\n",
        "            \n",
        "            #insert input token embedding, previous hidden state and all encoder hidden states\n",
        "            #receive output tensor (predictions) and new hidden state\n",
        "            output, hidden = self.decoder(input, hidden, encoder_outputs)\n",
        "            \n",
        "            #place predictions in a tensor holding predictions for each token\n",
        "            outputs[t] = output\n",
        "            \n",
        "            #decide if we are going to use teacher forcing or not\n",
        "            teacher_force = random.random() < teacher_forcing_ratio\n",
        "            \n",
        "            #get the highest predicted token from our predictions\n",
        "            top1 = output.argmax(1) \n",
        "            \n",
        "            #if teacher forcing, use actual next token as next input\n",
        "            #if not, use predicted token\n",
        "            input = trg[t] if teacher_force else top1\n",
        "\n",
        "        return outputs"
      ],
      "execution_count": 38,
      "outputs": []
    },
    {
      "cell_type": "markdown",
      "metadata": {
        "id": "cXyLKEkh9ejF"
      },
      "source": [
        "## Training the Seq2Seq Model\n",
        "\n",
        "The rest of this session is very similar to the previous one.\n",
        "\n",
        "We initialise our parameters, encoder, decoder and seq2seq model (placing it on the GPU if we have one). "
      ]
    },
    {
      "cell_type": "code",
      "metadata": {
        "id": "f7FRQ8UR9ejF"
      },
      "source": [
        "INPUT_DIM = len(QUESTION.vocab)\n",
        "OUTPUT_DIM = len(RESPONSE.vocab)\n",
        "ENC_EMB_DIM = 256\n",
        "DEC_EMB_DIM = 256\n",
        "ENC_HID_DIM = 512\n",
        "DEC_HID_DIM = 512\n",
        "ENC_DROPOUT = 0.5\n",
        "DEC_DROPOUT = 0.5\n",
        "\n",
        "attn = Attention(ENC_HID_DIM, DEC_HID_DIM)\n",
        "enc = Encoder(INPUT_DIM, ENC_EMB_DIM, ENC_HID_DIM, DEC_HID_DIM, ENC_DROPOUT)\n",
        "dec = Decoder(OUTPUT_DIM, DEC_EMB_DIM, ENC_HID_DIM, DEC_HID_DIM, DEC_DROPOUT, attn)\n",
        "\n",
        "model = Seq2Seq(enc, dec, device).to(device)"
      ],
      "execution_count": 39,
      "outputs": []
    },
    {
      "cell_type": "markdown",
      "metadata": {
        "id": "Ux1sNqPk9ejF"
      },
      "source": [
        "We use a simplified version of the weight initialization scheme used in the paper. Here, we will initialize all biases to zero and all weights from $\\mathcal{N}(0, 0.01)$."
      ]
    },
    {
      "cell_type": "code",
      "metadata": {
        "id": "YXaq2o559ejF",
        "colab": {
          "base_uri": "https://localhost:8080/"
        },
        "outputId": "8cdc9d7b-5840-4e4c-8534-872357ca0e51"
      },
      "source": [
        "def init_weights(m):\n",
        "    for name, param in m.named_parameters():\n",
        "        if 'weight' in name:\n",
        "            nn.init.normal_(param.data, mean=0, std=0.01)\n",
        "        else:\n",
        "            nn.init.constant_(param.data, 0)\n",
        "            \n",
        "model.apply(init_weights)"
      ],
      "execution_count": 40,
      "outputs": [
        {
          "output_type": "execute_result",
          "data": {
            "text/plain": [
              "Seq2Seq(\n",
              "  (encoder): Encoder(\n",
              "    (embedding): Embedding(37133, 256)\n",
              "    (rnn): GRU(256, 512, bidirectional=True)\n",
              "    (fc): Linear(in_features=1024, out_features=512, bias=True)\n",
              "    (dropout): Dropout(p=0.5, inplace=False)\n",
              "  )\n",
              "  (decoder): Decoder(\n",
              "    (attention): Attention(\n",
              "      (attn): Linear(in_features=1536, out_features=512, bias=True)\n",
              "      (v): Linear(in_features=512, out_features=1, bias=False)\n",
              "    )\n",
              "    (embedding): Embedding(16299, 256)\n",
              "    (rnn): GRU(1280, 512)\n",
              "    (fc_out): Linear(in_features=1792, out_features=16299, bias=True)\n",
              "    (dropout): Dropout(p=0.5, inplace=False)\n",
              "  )\n",
              ")"
            ]
          },
          "metadata": {
            "tags": []
          },
          "execution_count": 40
        }
      ]
    },
    {
      "cell_type": "markdown",
      "metadata": {
        "id": "ij9nRbgx9ejH"
      },
      "source": [
        "Calculate the number of parameters. We get an increase of almost 50% in the amount of parameters from the last model. "
      ]
    },
    {
      "cell_type": "code",
      "metadata": {
        "id": "2oAsDCtJ9ejH",
        "colab": {
          "base_uri": "https://localhost:8080/"
        },
        "outputId": "d2298b03-adbc-4dc2-d4a4-047829696f9d"
      },
      "source": [
        "def count_parameters(model):\n",
        "    return sum(p.numel() for p in model.parameters() if p.requires_grad)\n",
        "\n",
        "print(f'The model has {count_parameters(model):,} trainable parameters')"
      ],
      "execution_count": 41,
      "outputs": [
        {
          "output_type": "stream",
          "text": [
            "The model has 49,335,979 trainable parameters\n"
          ],
          "name": "stdout"
        }
      ]
    },
    {
      "cell_type": "markdown",
      "metadata": {
        "id": "h-C9PF1d9ejH"
      },
      "source": [
        "We create an optimizer."
      ]
    },
    {
      "cell_type": "code",
      "metadata": {
        "id": "ox4JAgEE9ejH"
      },
      "source": [
        "optimizer = optim.Adam(model.parameters())"
      ],
      "execution_count": 42,
      "outputs": []
    },
    {
      "cell_type": "markdown",
      "metadata": {
        "id": "A5FzwRlz9ejH"
      },
      "source": [
        "We initialize the loss function."
      ]
    },
    {
      "cell_type": "code",
      "metadata": {
        "id": "0iAv-6As9ejH"
      },
      "source": [
        "TRG_PAD_IDX = RESPONSE.vocab.stoi[QUESTION.pad_token]\n",
        "\n",
        "criterion = nn.CrossEntropyLoss(ignore_index = TRG_PAD_IDX)"
      ],
      "execution_count": 43,
      "outputs": []
    },
    {
      "cell_type": "markdown",
      "metadata": {
        "id": "-bzv6baC9ejH"
      },
      "source": [
        "We then create the training loop..."
      ]
    },
    {
      "cell_type": "code",
      "metadata": {
        "id": "bYPFqH6a9ejH"
      },
      "source": [
        "def train(model, iterator, optimizer, criterion, clip,epoch):\n",
        "    \n",
        "    model.train()\n",
        "    \n",
        "    epoch_loss = 0\n",
        "    \n",
        "    for i, batch in enumerate(iterator):\n",
        "        \n",
        "        # print(vars(batch))\n",
        "        # if(not i % 75):\n",
        "        #   print(f\"Epoch:{epoch}, Batch:{i}\")\n",
        "        src = batch.question ## CHANGED here from src = batch.text_x\n",
        "        # print(f\"SRC:{type(src)}\")\n",
        "        trg = batch.answer\n",
        "        \n",
        "        optimizer.zero_grad()\n",
        "        \n",
        "        output = model(src, trg)\n",
        "        \n",
        "        #trg = [trg len, batch size]\n",
        "        #output = [trg len, batch size, output dim]\n",
        "        \n",
        "        output_dim = output.shape[-1]\n",
        "        \n",
        "        output = output[1:].view(-1, output_dim)\n",
        "        trg = trg[1:].view(-1)\n",
        "        \n",
        "        #trg = [(trg len - 1) * batch size]\n",
        "        #output = [(trg len - 1) * batch size, output dim]\n",
        "        \n",
        "        loss = criterion(output, trg)\n",
        "        if(not i % 75):\n",
        "          print(f\"Epoch:{epoch}, Batch:{i}, Batch Loss:{loss.item()}\")\n",
        "        \n",
        "        loss.backward()\n",
        "        \n",
        "        torch.nn.utils.clip_grad_norm_(model.parameters(), clip)\n",
        "        \n",
        "        optimizer.step()\n",
        "        \n",
        "        epoch_loss += loss.item()\n",
        "        \n",
        "    return epoch_loss / len(iterator)"
      ],
      "execution_count": 51,
      "outputs": []
    },
    {
      "cell_type": "markdown",
      "metadata": {
        "id": "sNawOMJD9ejH"
      },
      "source": [
        "...and the evaluation loop, remembering to set the model to `eval` mode and turn off teaching forcing."
      ]
    },
    {
      "cell_type": "code",
      "metadata": {
        "id": "AQotLtCi9ejH"
      },
      "source": [
        "def evaluate(model, iterator, criterion):\n",
        "    \n",
        "    model.eval()\n",
        "    \n",
        "    epoch_loss = 0\n",
        "    \n",
        "    with torch.no_grad():\n",
        "    \n",
        "        for i, batch in enumerate(iterator):\n",
        "\n",
        "            \n",
        "            src = batch.question\n",
        "            trg = batch.answer\n",
        "\n",
        "            output = model(src, trg, 0) #turn off teacher forcing\n",
        "\n",
        "            #trg = [trg len, batch size]\n",
        "            #output = [trg len, batch size, output dim]\n",
        "\n",
        "            output_dim = output.shape[-1]\n",
        "            \n",
        "            output = output[1:].view(-1, output_dim)\n",
        "            trg = trg[1:].view(-1)\n",
        "\n",
        "            #trg = [(trg len - 1) * batch size]\n",
        "            #output = [(trg len - 1) * batch size, output dim]\n",
        "\n",
        "            loss = criterion(output, trg)\n",
        "\n",
        "            epoch_loss += loss.item()\n",
        "        \n",
        "    return epoch_loss / len(iterator)"
      ],
      "execution_count": 49,
      "outputs": []
    },
    {
      "cell_type": "markdown",
      "metadata": {
        "id": "4_TUjr1O9ejH"
      },
      "source": [
        "Finally, define a timing function."
      ]
    },
    {
      "cell_type": "code",
      "metadata": {
        "id": "_UMyHEYS9ejH"
      },
      "source": [
        "def epoch_time(start_time, end_time):\n",
        "    elapsed_time = end_time - start_time\n",
        "    elapsed_mins = int(elapsed_time / 60)\n",
        "    elapsed_secs = int(elapsed_time - (elapsed_mins * 60))\n",
        "    return elapsed_mins, elapsed_secs"
      ],
      "execution_count": 46,
      "outputs": []
    },
    {
      "cell_type": "markdown",
      "metadata": {
        "id": "wYKIfYvY9ejH"
      },
      "source": [
        "Then, we train our model, saving the parameters that give us the best validation loss."
      ]
    },
    {
      "cell_type": "code",
      "metadata": {
        "id": "V2-2b9-W9ejH",
        "colab": {
          "base_uri": "https://localhost:8080/"
        },
        "outputId": "effb8a21-c407-4526-c8db-752713ad0785"
      },
      "source": [
        "N_EPOCHS = 10\n",
        "CLIP = 1\n",
        "\n",
        "best_valid_loss = float('inf')\n",
        "\n",
        "for epoch in range(N_EPOCHS):\n",
        "    \n",
        "    start_time = time.time()\n",
        "    \n",
        "    train_loss = train(model, train_iterator, optimizer, criterion, CLIP,epoch)\n",
        "    valid_loss = evaluate(model, valid_iterator, criterion)\n",
        "    \n",
        "    end_time = time.time()\n",
        "    \n",
        "    epoch_mins, epoch_secs = epoch_time(start_time, end_time)\n",
        "    \n",
        "    if valid_loss < best_valid_loss:\n",
        "        best_valid_loss = valid_loss\n",
        "        torch.save(model.state_dict(), 'tut3-model.pt')\n",
        "    \n",
        "    print(f'Epoch: {epoch+1:02} | Time: {epoch_mins}m {epoch_secs}s')\n",
        "    print(f'\\tTrain Loss: {train_loss:.3f} | Train PPL: {math.exp(train_loss):7.3f}')\n",
        "    print(f'\\t Val. Loss: {valid_loss:.3f} |  Val. PPL: {math.exp(valid_loss):7.3f}')"
      ],
      "execution_count": 52,
      "outputs": [
        {
          "output_type": "stream",
          "text": [
            "Epoch:0, Batch:0, Batch Loss:5.33720064163208\n",
            "Epoch:0, Batch:75, Batch Loss:3.1291065216064453\n",
            "Epoch:0, Batch:150, Batch Loss:4.317298412322998\n",
            "Epoch:0, Batch:225, Batch Loss:3.8003170490264893\n",
            "Epoch:0, Batch:300, Batch Loss:4.018758296966553\n",
            "Epoch:0, Batch:375, Batch Loss:4.102960586547852\n",
            "Epoch:0, Batch:450, Batch Loss:4.182141304016113\n",
            "Epoch:0, Batch:525, Batch Loss:4.134785175323486\n",
            "Epoch:0, Batch:600, Batch Loss:4.235054969787598\n",
            "Epoch:0, Batch:675, Batch Loss:3.4701497554779053\n",
            "Epoch: 01 | Time: 4m 20s\n",
            "\tTrain Loss: 3.825 | Train PPL:  45.851\n",
            "\t Val. Loss: 4.977 |  Val. PPL: 145.099\n",
            "Epoch:1, Batch:0, Batch Loss:4.927585601806641\n",
            "Epoch:1, Batch:75, Batch Loss:2.765075922012329\n",
            "Epoch:1, Batch:150, Batch Loss:3.3163177967071533\n",
            "Epoch:1, Batch:225, Batch Loss:3.302455186843872\n",
            "Epoch:1, Batch:300, Batch Loss:3.6481211185455322\n",
            "Epoch:1, Batch:375, Batch Loss:3.5883772373199463\n",
            "Epoch:1, Batch:450, Batch Loss:3.7163102626800537\n",
            "Epoch:1, Batch:525, Batch Loss:3.3278350830078125\n",
            "Epoch:1, Batch:600, Batch Loss:3.631748676300049\n",
            "Epoch:1, Batch:675, Batch Loss:2.9954819679260254\n",
            "Epoch: 02 | Time: 4m 22s\n",
            "\tTrain Loss: 3.278 | Train PPL:  26.536\n",
            "\t Val. Loss: 5.166 |  Val. PPL: 175.213\n",
            "Epoch:2, Batch:0, Batch Loss:4.450083255767822\n",
            "Epoch:2, Batch:75, Batch Loss:2.7130556106567383\n",
            "Epoch:2, Batch:150, Batch Loss:2.8050546646118164\n",
            "Epoch:2, Batch:225, Batch Loss:2.7535486221313477\n",
            "Epoch:2, Batch:300, Batch Loss:3.040364980697632\n",
            "Epoch:2, Batch:375, Batch Loss:2.814781665802002\n",
            "Epoch:2, Batch:450, Batch Loss:3.1820993423461914\n",
            "Epoch:2, Batch:525, Batch Loss:3.103175401687622\n",
            "Epoch:2, Batch:600, Batch Loss:2.769141435623169\n",
            "Epoch:2, Batch:675, Batch Loss:2.304112434387207\n",
            "Epoch: 03 | Time: 4m 22s\n",
            "\tTrain Loss: 2.753 | Train PPL:  15.696\n",
            "\t Val. Loss: 5.323 |  Val. PPL: 204.981\n",
            "Epoch:3, Batch:0, Batch Loss:4.763913154602051\n",
            "Epoch:3, Batch:75, Batch Loss:2.3834028244018555\n",
            "Epoch:3, Batch:150, Batch Loss:2.7815351486206055\n",
            "Epoch:3, Batch:225, Batch Loss:2.2751376628875732\n",
            "Epoch:3, Batch:300, Batch Loss:2.6784896850585938\n",
            "Epoch:3, Batch:375, Batch Loss:2.207803249359131\n",
            "Epoch:3, Batch:450, Batch Loss:2.4796714782714844\n",
            "Epoch:3, Batch:525, Batch Loss:2.6010427474975586\n",
            "Epoch:3, Batch:600, Batch Loss:2.530607223510742\n",
            "Epoch:3, Batch:675, Batch Loss:1.983820915222168\n",
            "Epoch: 04 | Time: 4m 22s\n",
            "\tTrain Loss: 2.344 | Train PPL:  10.426\n",
            "\t Val. Loss: 5.523 |  Val. PPL: 250.411\n",
            "Epoch:4, Batch:0, Batch Loss:3.8379948139190674\n",
            "Epoch:4, Batch:75, Batch Loss:2.1079680919647217\n",
            "Epoch:4, Batch:150, Batch Loss:2.2832586765289307\n",
            "Epoch:4, Batch:225, Batch Loss:2.003751039505005\n",
            "Epoch:4, Batch:300, Batch Loss:2.064727544784546\n",
            "Epoch:4, Batch:375, Batch Loss:1.992403507232666\n",
            "Epoch:4, Batch:450, Batch Loss:2.1118531227111816\n",
            "Epoch:4, Batch:525, Batch Loss:1.8848613500595093\n",
            "Epoch:4, Batch:600, Batch Loss:2.10347056388855\n",
            "Epoch:4, Batch:675, Batch Loss:1.393487811088562\n",
            "Epoch: 05 | Time: 4m 23s\n",
            "\tTrain Loss: 2.006 | Train PPL:   7.432\n",
            "\t Val. Loss: 5.640 |  Val. PPL: 281.595\n",
            "Epoch:5, Batch:0, Batch Loss:3.690943956375122\n",
            "Epoch:5, Batch:75, Batch Loss:1.7448362112045288\n",
            "Epoch:5, Batch:150, Batch Loss:1.8651143312454224\n",
            "Epoch:5, Batch:225, Batch Loss:2.179947853088379\n",
            "Epoch:5, Batch:300, Batch Loss:1.9968047142028809\n",
            "Epoch:5, Batch:375, Batch Loss:1.6818280220031738\n",
            "Epoch:5, Batch:450, Batch Loss:2.0991673469543457\n",
            "Epoch:5, Batch:525, Batch Loss:1.6832934617996216\n",
            "Epoch:5, Batch:600, Batch Loss:1.771910548210144\n",
            "Epoch:5, Batch:675, Batch Loss:1.332414984703064\n",
            "Epoch: 06 | Time: 4m 22s\n",
            "\tTrain Loss: 1.768 | Train PPL:   5.860\n",
            "\t Val. Loss: 5.773 |  Val. PPL: 321.542\n",
            "Epoch:6, Batch:0, Batch Loss:3.077526569366455\n",
            "Epoch:6, Batch:75, Batch Loss:1.7719461917877197\n",
            "Epoch:6, Batch:150, Batch Loss:1.5306143760681152\n",
            "Epoch:6, Batch:225, Batch Loss:1.8259505033493042\n",
            "Epoch:6, Batch:300, Batch Loss:1.8772661685943604\n",
            "Epoch:6, Batch:375, Batch Loss:1.859755039215088\n",
            "Epoch:6, Batch:450, Batch Loss:1.6438263654708862\n",
            "Epoch:6, Batch:525, Batch Loss:1.705824851989746\n",
            "Epoch:6, Batch:600, Batch Loss:1.8982630968093872\n",
            "Epoch:6, Batch:675, Batch Loss:1.0579975843429565\n",
            "Epoch: 07 | Time: 4m 23s\n",
            "\tTrain Loss: 1.552 | Train PPL:   4.723\n",
            "\t Val. Loss: 5.930 |  Val. PPL: 376.305\n",
            "Epoch:7, Batch:0, Batch Loss:3.250709056854248\n",
            "Epoch:7, Batch:75, Batch Loss:1.7900588512420654\n",
            "Epoch:7, Batch:150, Batch Loss:1.365123987197876\n",
            "Epoch:7, Batch:225, Batch Loss:1.6291921138763428\n",
            "Epoch:7, Batch:300, Batch Loss:1.5515196323394775\n",
            "Epoch:7, Batch:375, Batch Loss:1.1946978569030762\n",
            "Epoch:7, Batch:450, Batch Loss:1.3938640356063843\n",
            "Epoch:7, Batch:525, Batch Loss:1.329337477684021\n",
            "Epoch:7, Batch:600, Batch Loss:1.3533991575241089\n",
            "Epoch:7, Batch:675, Batch Loss:0.8382521271705627\n",
            "Epoch: 08 | Time: 4m 23s\n",
            "\tTrain Loss: 1.372 | Train PPL:   3.943\n",
            "\t Val. Loss: 6.047 |  Val. PPL: 422.980\n",
            "Epoch:8, Batch:0, Batch Loss:2.573150873184204\n",
            "Epoch:8, Batch:75, Batch Loss:1.6077834367752075\n",
            "Epoch:8, Batch:150, Batch Loss:1.5657830238342285\n",
            "Epoch:8, Batch:225, Batch Loss:1.4960505962371826\n",
            "Epoch:8, Batch:300, Batch Loss:1.4981480836868286\n",
            "Epoch:8, Batch:375, Batch Loss:1.2206230163574219\n",
            "Epoch:8, Batch:450, Batch Loss:1.6593750715255737\n",
            "Epoch:8, Batch:525, Batch Loss:1.1512081623077393\n",
            "Epoch:8, Batch:600, Batch Loss:1.2900640964508057\n",
            "Epoch:8, Batch:675, Batch Loss:0.6704275012016296\n",
            "Epoch: 09 | Time: 4m 23s\n",
            "\tTrain Loss: 1.227 | Train PPL:   3.411\n",
            "\t Val. Loss: 6.244 |  Val. PPL: 514.724\n",
            "Epoch:9, Batch:0, Batch Loss:2.5896263122558594\n",
            "Epoch:9, Batch:75, Batch Loss:1.2521116733551025\n",
            "Epoch:9, Batch:150, Batch Loss:1.456915259361267\n",
            "Epoch:9, Batch:225, Batch Loss:1.5071903467178345\n",
            "Epoch:9, Batch:300, Batch Loss:1.5225927829742432\n",
            "Epoch:9, Batch:375, Batch Loss:1.0903817415237427\n",
            "Epoch:9, Batch:450, Batch Loss:1.2121492624282837\n",
            "Epoch:9, Batch:525, Batch Loss:0.9101638793945312\n",
            "Epoch:9, Batch:600, Batch Loss:1.2951081991195679\n",
            "Epoch:9, Batch:675, Batch Loss:0.5690047144889832\n",
            "Epoch: 10 | Time: 4m 24s\n",
            "\tTrain Loss: 1.101 | Train PPL:   3.008\n",
            "\t Val. Loss: 6.333 |  Val. PPL: 562.574\n"
          ],
          "name": "stdout"
        }
      ]
    },
    {
      "cell_type": "markdown",
      "metadata": {
        "id": "zJm2KZKW9ejI"
      },
      "source": [
        "Finally, we test the model on the test set using these \"best\" parameters."
      ]
    },
    {
      "cell_type": "code",
      "metadata": {
        "id": "0ZlTvUHI9ejI",
        "colab": {
          "base_uri": "https://localhost:8080/"
        },
        "outputId": "81bef342-6b4f-449c-cc61-9f3c4e9c6cd5"
      },
      "source": [
        "model.load_state_dict(torch.load('tut3-model.pt'))\n",
        "\n",
        "test_loss = evaluate(model, valid_iterator, criterion)\n",
        "\n",
        "print(f'| Test Loss: {test_loss:.3f} | Test PPL: {math.exp(test_loss):7.3f} |')"
      ],
      "execution_count": 54,
      "outputs": [
        {
          "output_type": "stream",
          "text": [
            "| Test Loss: 4.977 | Test PPL: 145.099 |\n"
          ],
          "name": "stdout"
        }
      ]
    }
  ]
}