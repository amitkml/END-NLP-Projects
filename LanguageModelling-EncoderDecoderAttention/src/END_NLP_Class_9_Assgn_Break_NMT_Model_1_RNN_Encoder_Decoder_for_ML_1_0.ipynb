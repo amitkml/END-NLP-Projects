{
  "nbformat": 4,
  "nbformat_minor": 0,
  "metadata": {
    "kernelspec": {
      "display_name": "Python 3",
      "language": "python",
      "name": "python3"
    },
    "language_info": {
      "codemirror_mode": {
        "name": "ipython",
        "version": 3
      },
      "file_extension": ".py",
      "mimetype": "text/x-python",
      "name": "python",
      "nbconvert_exporter": "python",
      "pygments_lexer": "ipython3",
      "version": "3.8.2"
    },
    "colab": {
      "name": "END_NLP_Class_9_Assgn_Break_NMT_Model_1_RNN Encoder-Decoder for ML-1.0.ipynb",
      "provenance": [],
      "collapsed_sections": [
        "hFN65G2G-XKf"
      ]
    },
    "accelerator": "GPU"
  },
  "cells": [
    {
      "cell_type": "markdown",
      "metadata": {
        "id": "EzxOJwN7EzFO"
      },
      "source": [
        "# 2 - Learning Phrase Representations using RNN Encoder-Decoder for Statistical Machine Translation\n",
        "\n",
        "In this second notebook on sequence-to-sequence models using PyTorch and TorchText, we'll be implementing the model from [Learning Phrase Representations using RNN Encoder-Decoder for Statistical Machine Translation](https://arxiv.org/abs/1406.1078). This model will achieve improved test perplexity whilst only using a single layer RNN in both the encoder and the decoder.\n",
        "\n",
        "## Introduction\n",
        "\n",
        "Let's remind ourselves of the general encoder-decoder model.\n",
        "\n",
        "![](https://github.com/bentrevett/pytorch-seq2seq/blob/master/assets/seq2seq1.png?raw=1)\n",
        "\n",
        "We use our encoder (green) over the embedded source sequence (yellow) to create a context vector (red). We then use that context vector with the decoder (blue) and a linear layer (purple) to generate the target sentence.\n",
        "\n",
        "In the previous model, we used an multi-layered LSTM as the encoder and decoder.\n",
        "\n",
        "![](https://github.com/bentrevett/pytorch-seq2seq/blob/master/assets/seq2seq4.png?raw=1)\n",
        "\n",
        "One downside of the previous model is that the decoder is trying to cram lots of information into the hidden states. Whilst decoding, the hidden state will need to contain information about the whole of the source sequence, as well as all of the tokens have been decoded so far. By alleviating some of this information compression, we can create a better model!\n",
        "\n",
        "We'll also be using a GRU (Gated Recurrent Unit) instead of an LSTM (Long Short-Term Memory). Why? Mainly because that's what they did in the paper (this paper also introduced GRUs) and also because we used LSTMs last time. To understand how GRUs (and LSTMs) differ from standard RNNS, check out [this](https://colah.github.io/posts/2015-08-Understanding-LSTMs/) link. Is a GRU better than an LSTM? [Research](https://arxiv.org/abs/1412.3555) has shown they're pretty much the same, and both are better than standard RNNs. \n",
        "\n",
        "## Preparing Data\n",
        "\n",
        "All of the data preparation will be (almost) the same as last time, so we'll very briefly detail what each code block does. See the previous notebook for a recap.\n",
        "\n",
        "We'll import PyTorch, TorchText, spaCy and a few standard modules."
      ]
    },
    {
      "cell_type": "code",
      "metadata": {
        "id": "uUnMLdevEzFT"
      },
      "source": [
        "import torch\n",
        "import torch.nn as nn\n",
        "import torch.optim as optim\n",
        "\n",
        "from torchtext.datasets import Multi30k\n",
        "from torchtext.data import Field, BucketIterator\n",
        "\n",
        "import spacy\n",
        "import numpy as np\n",
        "\n",
        "import random\n",
        "import math\n",
        "import time"
      ],
      "execution_count": 38,
      "outputs": []
    },
    {
      "cell_type": "code",
      "metadata": {
        "id": "PMmB3A3Ytoy9"
      },
      "source": [
        "SEED = 1234\r\n",
        "random.seed(SEED)\r\n",
        "np.random.seed(SEED)\r\n",
        "torch.manual_seed(SEED)\r\n",
        "torch.cuda.manual_seed(SEED)\r\n",
        "torch.backends.cudnn.deterministic = True"
      ],
      "execution_count": 39,
      "outputs": []
    },
    {
      "cell_type": "code",
      "metadata": {
        "colab": {
          "base_uri": "https://localhost:8080/"
        },
        "id": "5lKZOljLtPXy",
        "outputId": "18c85026-c264-4841-e2c0-0b18955ef704"
      },
      "source": [
        "%%bash\r\n",
        "python -m spacy download en\r\n",
        "# python -m spacy download de"
      ],
      "execution_count": 40,
      "outputs": [
        {
          "output_type": "stream",
          "text": [
            "Requirement already satisfied: en_core_web_sm==2.2.5 from https://github.com/explosion/spacy-models/releases/download/en_core_web_sm-2.2.5/en_core_web_sm-2.2.5.tar.gz#egg=en_core_web_sm==2.2.5 in /usr/local/lib/python3.6/dist-packages (2.2.5)\n",
            "Requirement already satisfied: spacy>=2.2.2 in /usr/local/lib/python3.6/dist-packages (from en_core_web_sm==2.2.5) (2.2.4)\n",
            "Requirement already satisfied: blis<0.5.0,>=0.4.0 in /usr/local/lib/python3.6/dist-packages (from spacy>=2.2.2->en_core_web_sm==2.2.5) (0.4.1)\n",
            "Requirement already satisfied: murmurhash<1.1.0,>=0.28.0 in /usr/local/lib/python3.6/dist-packages (from spacy>=2.2.2->en_core_web_sm==2.2.5) (1.0.5)\n",
            "Requirement already satisfied: wasabi<1.1.0,>=0.4.0 in /usr/local/lib/python3.6/dist-packages (from spacy>=2.2.2->en_core_web_sm==2.2.5) (0.8.0)\n",
            "Requirement already satisfied: tqdm<5.0.0,>=4.38.0 in /usr/local/lib/python3.6/dist-packages (from spacy>=2.2.2->en_core_web_sm==2.2.5) (4.41.1)\n",
            "Requirement already satisfied: setuptools in /usr/local/lib/python3.6/dist-packages (from spacy>=2.2.2->en_core_web_sm==2.2.5) (51.0.0)\n",
            "Requirement already satisfied: plac<1.2.0,>=0.9.6 in /usr/local/lib/python3.6/dist-packages (from spacy>=2.2.2->en_core_web_sm==2.2.5) (1.1.3)\n",
            "Requirement already satisfied: thinc==7.4.0 in /usr/local/lib/python3.6/dist-packages (from spacy>=2.2.2->en_core_web_sm==2.2.5) (7.4.0)\n",
            "Requirement already satisfied: catalogue<1.1.0,>=0.0.7 in /usr/local/lib/python3.6/dist-packages (from spacy>=2.2.2->en_core_web_sm==2.2.5) (1.0.0)\n",
            "Requirement already satisfied: srsly<1.1.0,>=1.0.2 in /usr/local/lib/python3.6/dist-packages (from spacy>=2.2.2->en_core_web_sm==2.2.5) (1.0.5)\n",
            "Requirement already satisfied: numpy>=1.15.0 in /usr/local/lib/python3.6/dist-packages (from spacy>=2.2.2->en_core_web_sm==2.2.5) (1.19.4)\n",
            "Requirement already satisfied: requests<3.0.0,>=2.13.0 in /usr/local/lib/python3.6/dist-packages (from spacy>=2.2.2->en_core_web_sm==2.2.5) (2.23.0)\n",
            "Requirement already satisfied: cymem<2.1.0,>=2.0.2 in /usr/local/lib/python3.6/dist-packages (from spacy>=2.2.2->en_core_web_sm==2.2.5) (2.0.5)\n",
            "Requirement already satisfied: preshed<3.1.0,>=3.0.2 in /usr/local/lib/python3.6/dist-packages (from spacy>=2.2.2->en_core_web_sm==2.2.5) (3.0.5)\n",
            "Requirement already satisfied: importlib-metadata>=0.20; python_version < \"3.8\" in /usr/local/lib/python3.6/dist-packages (from catalogue<1.1.0,>=0.0.7->spacy>=2.2.2->en_core_web_sm==2.2.5) (3.3.0)\n",
            "Requirement already satisfied: urllib3!=1.25.0,!=1.25.1,<1.26,>=1.21.1 in /usr/local/lib/python3.6/dist-packages (from requests<3.0.0,>=2.13.0->spacy>=2.2.2->en_core_web_sm==2.2.5) (1.24.3)\n",
            "Requirement already satisfied: chardet<4,>=3.0.2 in /usr/local/lib/python3.6/dist-packages (from requests<3.0.0,>=2.13.0->spacy>=2.2.2->en_core_web_sm==2.2.5) (3.0.4)\n",
            "Requirement already satisfied: idna<3,>=2.5 in /usr/local/lib/python3.6/dist-packages (from requests<3.0.0,>=2.13.0->spacy>=2.2.2->en_core_web_sm==2.2.5) (2.10)\n",
            "Requirement already satisfied: certifi>=2017.4.17 in /usr/local/lib/python3.6/dist-packages (from requests<3.0.0,>=2.13.0->spacy>=2.2.2->en_core_web_sm==2.2.5) (2020.12.5)\n",
            "Requirement already satisfied: zipp>=0.5 in /usr/local/lib/python3.6/dist-packages (from importlib-metadata>=0.20; python_version < \"3.8\"->catalogue<1.1.0,>=0.0.7->spacy>=2.2.2->en_core_web_sm==2.2.5) (3.4.0)\n",
            "Requirement already satisfied: typing-extensions>=3.6.4; python_version < \"3.8\" in /usr/local/lib/python3.6/dist-packages (from importlib-metadata>=0.20; python_version < \"3.8\"->catalogue<1.1.0,>=0.0.7->spacy>=2.2.2->en_core_web_sm==2.2.5) (3.7.4.3)\n",
            "\u001b[38;5;2m✔ Download and installation successful\u001b[0m\n",
            "You can now load the model via spacy.load('en_core_web_sm')\n",
            "\u001b[38;5;2m✔ Linking successful\u001b[0m\n",
            "/usr/local/lib/python3.6/dist-packages/en_core_web_sm -->\n",
            "/usr/local/lib/python3.6/dist-packages/spacy/data/en\n",
            "You can now load the model via spacy.load('en')\n"
          ],
          "name": "stdout"
        }
      ]
    },
    {
      "cell_type": "markdown",
      "metadata": {
        "id": "m2IF3FT_tVUL"
      },
      "source": [
        ""
      ]
    },
    {
      "cell_type": "markdown",
      "metadata": {
        "id": "r5Am1eK24TLt"
      },
      "source": [
        "## Data Download and Preparation"
      ]
    },
    {
      "cell_type": "markdown",
      "metadata": {
        "id": "03sSSoCYv3pz"
      },
      "source": [
        "### There are three QASC files:\r\n",
        "\r\n",
        "**Dataset:**\r\n",
        "\r\n",
        "It has following fields\r\n",
        "- ID\r\n",
        "- Question Stem\t\r\n",
        "- Choices\r\n",
        "- Complete Question\t\r\n",
        "- Answer Key\r\n",
        "\r\n",
        "**Lets understand dataset more and see how we can define dataset for our model which needs questions and answer.**\r\n",
        "- Our model should look into the Question stem and generate answer. So if our question stem is \"The sun is responsible for\" then answer will be \"plants sprouting, blooming and wilting\"\r\n"
      ]
    },
    {
      "cell_type": "markdown",
      "metadata": {
        "id": "Pl9xgfZUrey2"
      },
      "source": [
        "#### Break record"
      ]
    },
    {
      "cell_type": "code",
      "metadata": {
        "id": "IN_yePs3q3O9",
        "colab": {
          "base_uri": "https://localhost:8080/"
        },
        "outputId": "52f9c636-7a9a-4e2d-8526-6d95dc415596"
      },
      "source": [
        "!wget https://github.com/allenai/Break/raw/master/break_dataset/Break-dataset.zip\r\n",
        "!unzip Break-dataset.zip"
      ],
      "execution_count": 41,
      "outputs": [
        {
          "output_type": "stream",
          "text": [
            "--2020-12-30 06:31:46--  https://github.com/allenai/Break/raw/master/break_dataset/Break-dataset.zip\n",
            "Resolving github.com (github.com)... 192.30.255.112\n",
            "Connecting to github.com (github.com)|192.30.255.112|:443... connected.\n",
            "HTTP request sent, awaiting response... 302 Found\n",
            "Location: https://raw.githubusercontent.com/allenai/Break/master/break_dataset/Break-dataset.zip [following]\n",
            "--2020-12-30 06:31:46--  https://raw.githubusercontent.com/allenai/Break/master/break_dataset/Break-dataset.zip\n",
            "Resolving raw.githubusercontent.com (raw.githubusercontent.com)... 151.101.0.133, 151.101.64.133, 151.101.128.133, ...\n",
            "Connecting to raw.githubusercontent.com (raw.githubusercontent.com)|151.101.0.133|:443... connected.\n",
            "HTTP request sent, awaiting response... 200 OK\n",
            "Length: 15971078 (15M) [application/zip]\n",
            "Saving to: ‘Break-dataset.zip.1’\n",
            "\n",
            "Break-dataset.zip.1 100%[===================>]  15.23M  75.7MB/s    in 0.2s    \n",
            "\n",
            "2020-12-30 06:31:46 (75.7 MB/s) - ‘Break-dataset.zip.1’ saved [15971078/15971078]\n",
            "\n",
            "Archive:  Break-dataset.zip\n",
            "replace Break-dataset/logical-forms/dev.csv? [y]es, [n]o, [A]ll, [N]one, [r]ename: Y\n",
            "  inflating: Break-dataset/logical-forms/dev.csv  \n",
            "replace Break-dataset/logical-forms/test.csv? [y]es, [n]o, [A]ll, [N]one, [r]ename: y\n",
            "  inflating: Break-dataset/logical-forms/test.csv  \n",
            "replace Break-dataset/logical-forms/train.csv? [y]es, [n]o, [A]ll, [N]one, [r]ename: y\n",
            "  inflating: Break-dataset/logical-forms/train.csv  \n",
            "replace Break-dataset/QDMR/dev.csv? [y]es, [n]o, [A]ll, [N]one, [r]ename: y\n",
            "  inflating: Break-dataset/QDMR/dev.csv  \n",
            "replace Break-dataset/QDMR/dev_lexicon_tokens.json? [y]es, [n]o, [A]ll, [N]one, [r]ename: y\n",
            "  inflating: Break-dataset/QDMR/dev_lexicon_tokens.json  \n",
            "replace Break-dataset/QDMR/test.csv? [y]es, [n]o, [A]ll, [N]one, [r]ename: y\n",
            "  inflating: Break-dataset/QDMR/test.csv  \n",
            "replace Break-dataset/QDMR/test_lexicon_tokens.json? [y]es, [n]o, [A]ll, [N]one, [r]ename: y\n",
            "  inflating: Break-dataset/QDMR/test_lexicon_tokens.json  \n",
            "replace Break-dataset/QDMR/train.csv? [y]es, [n]o, [A]ll, [N]one, [r]ename: y\n",
            "  inflating: Break-dataset/QDMR/train.csv  \n",
            "replace Break-dataset/QDMR/train_lexicon_tokens.json? [y]es, [n]o, [A]ll, [N]one, [r]ename: y\n",
            "  inflating: Break-dataset/QDMR/train_lexicon_tokens.json  \n",
            "replace Break-dataset/QDMR-high-level/dev.csv? [y]es, [n]o, [A]ll, [N]one, [r]ename: y\n",
            "  inflating: Break-dataset/QDMR-high-level/dev.csv  \n",
            "replace Break-dataset/QDMR-high-level/dev_lexicon_tokens.json? [y]es, [n]o, [A]ll, [N]one, [r]ename: y\n",
            "  inflating: Break-dataset/QDMR-high-level/dev_lexicon_tokens.json  \n",
            "replace Break-dataset/QDMR-high-level/test.csv? [y]es, [n]o, [A]ll, [N]one, [r]ename: y\n",
            "  inflating: Break-dataset/QDMR-high-level/test.csv  \n",
            "replace Break-dataset/QDMR-high-level/test_lexicon_tokens.json? [y]es, [n]o, [A]ll, [N]one, [r]ename: y\n",
            "  inflating: Break-dataset/QDMR-high-level/test_lexicon_tokens.json  \n",
            "replace Break-dataset/QDMR-high-level/train.csv? [y]es, [n]o, [A]ll, [N]one, [r]ename: y\n",
            "  inflating: Break-dataset/QDMR-high-level/train.csv  \n",
            "replace Break-dataset/QDMR-high-level/train_lexicon_tokens.json? [y]es, [n]o, [A]ll, [N]one, [r]ename: y\n",
            "  inflating: Break-dataset/QDMR-high-level/train_lexicon_tokens.json  \n"
          ],
          "name": "stdout"
        }
      ]
    },
    {
      "cell_type": "code",
      "metadata": {
        "id": "8Yejdi7TeTP1"
      },
      "source": [
        "import numpy as np # linear algebra\r\n",
        "import pandas as pd # data processing, CSV file I/O (e.g. pd.read_csv)\r\n",
        "import os\r\n",
        "import matplotlib.pyplot as plt\r\n",
        "import string\r\n",
        "import json # to read json"
      ],
      "execution_count": 42,
      "outputs": []
    },
    {
      "cell_type": "code",
      "metadata": {
        "colab": {
          "base_uri": "https://localhost:8080/"
        },
        "id": "c3Sns-MYlWR_",
        "outputId": "d82262ce-695b-4b0c-8b9d-cc86a1956482"
      },
      "source": [
        "!wget http://data.allenai.org/downloads/qasc/qasc_dataset.tar.gz\r\n",
        "!tar xvfz qasc_dataset.tar.gz\r\n",
        "!rm qasc_dataset.tar.gz"
      ],
      "execution_count": 43,
      "outputs": [
        {
          "output_type": "stream",
          "text": [
            "--2020-12-30 06:35:02--  http://data.allenai.org/downloads/qasc/qasc_dataset.tar.gz\n",
            "Resolving data.allenai.org (data.allenai.org)... 52.218.170.2\n",
            "Connecting to data.allenai.org (data.allenai.org)|52.218.170.2|:80... connected.\n",
            "HTTP request sent, awaiting response... 200 OK\n",
            "Length: 1616514 (1.5M) [application/x-gzip]\n",
            "Saving to: ‘qasc_dataset.tar.gz’\n",
            "\n",
            "qasc_dataset.tar.gz 100%[===================>]   1.54M  --.-KB/s    in 0.09s   \n",
            "\n",
            "2020-12-30 06:35:02 (16.8 MB/s) - ‘qasc_dataset.tar.gz’ saved [1616514/1616514]\n",
            "\n",
            "QASC_Dataset/\n",
            "QASC_Dataset/train.jsonl\n",
            "QASC_Dataset/test.jsonl\n",
            "QASC_Dataset/dev.jsonl\n"
          ],
          "name": "stdout"
        }
      ]
    },
    {
      "cell_type": "markdown",
      "metadata": {
        "id": "QmF7xQVZTVED"
      },
      "source": [
        "## Representing the Meaning of Questions\r\n",
        "\r\n",
        "Question Decomposition Meaning Representation (QDMR), inspired by DB query languages and by semantic parsing. In QDMR, complex questions are expressed through sub-questions (operators) that can be executed in sequence to answer the original question. Each QDMR operator either selects a set of entities, retrieves information about their attributes, or aggregates information over entities.\r\n",
        "\r\n",
        "By abstracting away a question’s context, QDMR allows in principle to query multiple sources for the same question.\r\n",
        "\r\n",
        "A system could potentially answer “Name the political parties of the most densely populated country”, by first returning “the most densely populated country” using a DB query, then “the political parties of #1” using a QA model for te\r\n",
        "\r\n",
        "Now, lets understand QDMR with some examples..\r\n",
        "GeoQuery\r\n",
        "(a) Which state has the least population density\r\n",
        "\r\n",
        "return states\r\n",
        "return population densities of #1\r\n",
        "return #1 where #2 is the lowest\r\n",
        "ComQA\r\n",
        "(a) Who was the first president to serve 3 terms?\r\n",
        "\r\n",
        "return presidents\r\n",
        "return terms of #1\r\n",
        "return number of #2 for each #1\r\n",
        "return #1 where #3 is equal to 3\r\n",
        "return first of #4"
      ]
    },
    {
      "cell_type": "code",
      "metadata": {
        "id": "aMeKSBfXc3fT",
        "colab": {
          "base_uri": "https://localhost:8080/",
          "height": 202
        },
        "outputId": "489a27b6-06d7-4e62-c758-c3f5ab14ebb6"
      },
      "source": [
        "## Lets understand the data a bit first\r\n",
        "trn_break = pd.read_csv(\"/content/Break-dataset/QDMR/train.csv\")\r\n",
        "trn_break.head()"
      ],
      "execution_count": 44,
      "outputs": [
        {
          "output_type": "execute_result",
          "data": {
            "text/html": [
              "<div>\n",
              "<style scoped>\n",
              "    .dataframe tbody tr th:only-of-type {\n",
              "        vertical-align: middle;\n",
              "    }\n",
              "\n",
              "    .dataframe tbody tr th {\n",
              "        vertical-align: top;\n",
              "    }\n",
              "\n",
              "    .dataframe thead th {\n",
              "        text-align: right;\n",
              "    }\n",
              "</style>\n",
              "<table border=\"1\" class=\"dataframe\">\n",
              "  <thead>\n",
              "    <tr style=\"text-align: right;\">\n",
              "      <th></th>\n",
              "      <th>question_id</th>\n",
              "      <th>question_text</th>\n",
              "      <th>decomposition</th>\n",
              "      <th>operators</th>\n",
              "      <th>split</th>\n",
              "    </tr>\n",
              "  </thead>\n",
              "  <tbody>\n",
              "    <tr>\n",
              "      <th>0</th>\n",
              "      <td>ACADEMIC_train_0</td>\n",
              "      <td>return me the homepage of PVLDB .</td>\n",
              "      <td>return homepages ;return #1 of  PVLDB</td>\n",
              "      <td>['select', 'filter']</td>\n",
              "      <td>train</td>\n",
              "    </tr>\n",
              "    <tr>\n",
              "      <th>1</th>\n",
              "      <td>ACADEMIC_train_1</td>\n",
              "      <td>return me the homepage of \" H. V. Jagadish \" .</td>\n",
              "      <td>return homepages ;return #1 of  H. V. Jagadish</td>\n",
              "      <td>['select', 'filter']</td>\n",
              "      <td>train</td>\n",
              "    </tr>\n",
              "    <tr>\n",
              "      <th>2</th>\n",
              "      <td>ACADEMIC_train_10</td>\n",
              "      <td>return me the number of references of \" Making...</td>\n",
              "      <td>return references ;return #1 of  Making databa...</td>\n",
              "      <td>['select', 'filter', 'aggregate']</td>\n",
              "      <td>train</td>\n",
              "    </tr>\n",
              "    <tr>\n",
              "      <th>3</th>\n",
              "      <td>ACADEMIC_train_100</td>\n",
              "      <td>return me the number of papers in VLDB confere...</td>\n",
              "      <td>return papers ;return #1 in VLDB conference ;r...</td>\n",
              "      <td>['select', 'filter', 'filter', 'aggregate']</td>\n",
              "      <td>train</td>\n",
              "    </tr>\n",
              "    <tr>\n",
              "      <th>4</th>\n",
              "      <td>ACADEMIC_train_101</td>\n",
              "      <td>return me the number of authors who have paper...</td>\n",
              "      <td>return papers ;return #1 containing keyword Re...</td>\n",
              "      <td>['select', 'filter', 'project', 'aggregate']</td>\n",
              "      <td>train</td>\n",
              "    </tr>\n",
              "  </tbody>\n",
              "</table>\n",
              "</div>"
            ],
            "text/plain": [
              "          question_id  ...  split\n",
              "0    ACADEMIC_train_0  ...  train\n",
              "1    ACADEMIC_train_1  ...  train\n",
              "2   ACADEMIC_train_10  ...  train\n",
              "3  ACADEMIC_train_100  ...  train\n",
              "4  ACADEMIC_train_101  ...  train\n",
              "\n",
              "[5 rows x 5 columns]"
            ]
          },
          "metadata": {
            "tags": []
          },
          "execution_count": 44
        }
      ]
    },
    {
      "cell_type": "code",
      "metadata": {
        "id": "H75rF3qneDaj",
        "colab": {
          "base_uri": "https://localhost:8080/",
          "height": 202
        },
        "outputId": "4e816f64-4e17-4ed2-aa43-4c606e329a5d"
      },
      "source": [
        "## Lets understand the data a bit first\r\n",
        "dev_break = pd.read_csv(\"/content/Break-dataset/QDMR/dev.csv\")\r\n",
        "dev_break.head()"
      ],
      "execution_count": 45,
      "outputs": [
        {
          "output_type": "execute_result",
          "data": {
            "text/html": [
              "<div>\n",
              "<style scoped>\n",
              "    .dataframe tbody tr th:only-of-type {\n",
              "        vertical-align: middle;\n",
              "    }\n",
              "\n",
              "    .dataframe tbody tr th {\n",
              "        vertical-align: top;\n",
              "    }\n",
              "\n",
              "    .dataframe thead th {\n",
              "        text-align: right;\n",
              "    }\n",
              "</style>\n",
              "<table border=\"1\" class=\"dataframe\">\n",
              "  <thead>\n",
              "    <tr style=\"text-align: right;\">\n",
              "      <th></th>\n",
              "      <th>question_id</th>\n",
              "      <th>question_text</th>\n",
              "      <th>decomposition</th>\n",
              "      <th>operators</th>\n",
              "      <th>split</th>\n",
              "    </tr>\n",
              "  </thead>\n",
              "  <tbody>\n",
              "    <tr>\n",
              "      <th>0</th>\n",
              "      <td>ATIS_dev_0</td>\n",
              "      <td>what flights are available tomorrow from denve...</td>\n",
              "      <td>return flights ;return #1 from  denver ;return...</td>\n",
              "      <td>['select', 'filter', 'filter', 'filter']</td>\n",
              "      <td>dev</td>\n",
              "    </tr>\n",
              "    <tr>\n",
              "      <th>1</th>\n",
              "      <td>ATIS_dev_1</td>\n",
              "      <td>show me the afternoon flights from washington ...</td>\n",
              "      <td>return flights ;return #1 from  washington ;re...</td>\n",
              "      <td>['select', 'filter', 'filter', 'filter']</td>\n",
              "      <td>dev</td>\n",
              "    </tr>\n",
              "    <tr>\n",
              "      <th>2</th>\n",
              "      <td>ATIS_dev_10</td>\n",
              "      <td>show me the flights from atlanta to baltimore</td>\n",
              "      <td>return flights ;return #1 from  atlanta ;retur...</td>\n",
              "      <td>['select', 'filter', 'filter']</td>\n",
              "      <td>dev</td>\n",
              "    </tr>\n",
              "    <tr>\n",
              "      <th>3</th>\n",
              "      <td>ATIS_dev_100</td>\n",
              "      <td>i want a flight from houston to memphis on tue...</td>\n",
              "      <td>return flights ;return #1 from  houston ;retur...</td>\n",
              "      <td>['select', 'filter', 'filter', 'filter', 'filt...</td>\n",
              "      <td>dev</td>\n",
              "    </tr>\n",
              "    <tr>\n",
              "      <th>4</th>\n",
              "      <td>ATIS_dev_101</td>\n",
              "      <td>what are the cheapest one way flights from atl...</td>\n",
              "      <td>return flights ;return #1 from  atlanta ;retur...</td>\n",
              "      <td>['select', 'filter', 'filter', 'filter', 'proj...</td>\n",
              "      <td>dev</td>\n",
              "    </tr>\n",
              "  </tbody>\n",
              "</table>\n",
              "</div>"
            ],
            "text/plain": [
              "    question_id  ... split\n",
              "0    ATIS_dev_0  ...   dev\n",
              "1    ATIS_dev_1  ...   dev\n",
              "2   ATIS_dev_10  ...   dev\n",
              "3  ATIS_dev_100  ...   dev\n",
              "4  ATIS_dev_101  ...   dev\n",
              "\n",
              "[5 rows x 5 columns]"
            ]
          },
          "metadata": {
            "tags": []
          },
          "execution_count": 45
        }
      ]
    },
    {
      "cell_type": "code",
      "metadata": {
        "id": "9EQTTsV9gTSo",
        "colab": {
          "base_uri": "https://localhost:8080/",
          "height": 79
        },
        "outputId": "5e98efeb-5d2a-4a35-e1e8-8358987d8312"
      },
      "source": [
        "## Lets understand the data a bit first\r\n",
        "test_break = pd.read_csv(\"/content/Break-dataset/QDMR/test.csv\")\r\n",
        "test_break.head(1)"
      ],
      "execution_count": 46,
      "outputs": [
        {
          "output_type": "execute_result",
          "data": {
            "text/html": [
              "<div>\n",
              "<style scoped>\n",
              "    .dataframe tbody tr th:only-of-type {\n",
              "        vertical-align: middle;\n",
              "    }\n",
              "\n",
              "    .dataframe tbody tr th {\n",
              "        vertical-align: top;\n",
              "    }\n",
              "\n",
              "    .dataframe thead th {\n",
              "        text-align: right;\n",
              "    }\n",
              "</style>\n",
              "<table border=\"1\" class=\"dataframe\">\n",
              "  <thead>\n",
              "    <tr style=\"text-align: right;\">\n",
              "      <th></th>\n",
              "      <th>question_id</th>\n",
              "      <th>question_text</th>\n",
              "      <th>decomposition</th>\n",
              "      <th>operators</th>\n",
              "      <th>split</th>\n",
              "    </tr>\n",
              "  </thead>\n",
              "  <tbody>\n",
              "    <tr>\n",
              "      <th>0</th>\n",
              "      <td>ATIS_test_0</td>\n",
              "      <td>what flights go from dallas to phoenix</td>\n",
              "      <td>NaN</td>\n",
              "      <td>NaN</td>\n",
              "      <td>test</td>\n",
              "    </tr>\n",
              "  </tbody>\n",
              "</table>\n",
              "</div>"
            ],
            "text/plain": [
              "   question_id                            question_text  ...  operators  split\n",
              "0  ATIS_test_0  what flights go from dallas to phoenix   ...        NaN   test\n",
              "\n",
              "[1 rows x 5 columns]"
            ]
          },
          "metadata": {
            "tags": []
          },
          "execution_count": 46
        }
      ]
    },
    {
      "cell_type": "code",
      "metadata": {
        "id": "xrF1qGA8ilmJ",
        "colab": {
          "base_uri": "https://localhost:8080/"
        },
        "outputId": "a995a6a4-bb82-4911-d34f-5684ca3a32ee"
      },
      "source": [
        "test_break.shape"
      ],
      "execution_count": 47,
      "outputs": [
        {
          "output_type": "execute_result",
          "data": {
            "text/plain": [
              "(8069, 5)"
            ]
          },
          "metadata": {
            "tags": []
          },
          "execution_count": 47
        }
      ]
    },
    {
      "cell_type": "code",
      "metadata": {
        "id": "hgb5L67w3CXR",
        "colab": {
          "base_uri": "https://localhost:8080/"
        },
        "outputId": "ee1eacd8-1613-4545-9fed-434e24ff7df4"
      },
      "source": [
        "dev_break.shape # No of rows 2811774 and 7 column"
      ],
      "execution_count": 48,
      "outputs": [
        {
          "output_type": "execute_result",
          "data": {
            "text/plain": [
              "(7760, 5)"
            ]
          },
          "metadata": {
            "tags": []
          },
          "execution_count": 48
        }
      ]
    },
    {
      "cell_type": "code",
      "metadata": {
        "colab": {
          "base_uri": "https://localhost:8080/",
          "height": 287
        },
        "id": "Uk5xshFgA76J",
        "outputId": "a55cc3cb-4b94-4112-91bb-941168fe412f"
      },
      "source": [
        "#Distribution of word count for the dev_break\r\n",
        "# Let us take a look at distribution of words in each question_text\r\n",
        "dev_break.question_text.str.split().\\\r\n",
        "    map(lambda x: len(x)).\\\r\n",
        "    hist()\r\n",
        "\r\n",
        "# We can see here that most of the question_text contain 5 to 15 words while there are a few tweets having a word count aobve 20."
      ],
      "execution_count": 49,
      "outputs": [
        {
          "output_type": "execute_result",
          "data": {
            "text/plain": [
              "<matplotlib.axes._subplots.AxesSubplot at 0x7fe7686a9748>"
            ]
          },
          "metadata": {
            "tags": []
          },
          "execution_count": 49
        },
        {
          "output_type": "display_data",
          "data": {
            "image/png": "[encoded data removed]",
            "text/plain": [
              "<Figure size 432x288 with 1 Axes>"
            ]
          },
          "metadata": {
            "tags": [],
            "needs_background": "light"
          }
        }
      ]
    },
    {
      "cell_type": "code",
      "metadata": {
        "colab": {
          "base_uri": "https://localhost:8080/",
          "height": 283
        },
        "id": "e2syAcDnD4Rp",
        "outputId": "23b93a78-4c4f-4685-fff7-29919190370f"
      },
      "source": [
        "#Distribution of word count for the test_break\r\n",
        "# Let us take a look at distribution of words in each question_text\r\n",
        "test_break.question_text.str.split().\\\r\n",
        "    map(lambda x: len(x)).\\\r\n",
        "    hist()"
      ],
      "execution_count": 50,
      "outputs": [
        {
          "output_type": "execute_result",
          "data": {
            "text/plain": [
              "<matplotlib.axes._subplots.AxesSubplot at 0x7fe767250b70>"
            ]
          },
          "metadata": {
            "tags": []
          },
          "execution_count": 50
        },
        {
          "output_type": "display_data",
          "data": {
            "image/png": "[encoded data removed]",
            "text/plain": [
              "<Figure size 432x288 with 1 Axes>"
            ]
          },
          "metadata": {
            "tags": [],
            "needs_background": "light"
          }
        }
      ]
    },
    {
      "cell_type": "markdown",
      "metadata": {
        "id": "QtxJBHCUAiwx"
      },
      "source": [
        "### Data Preparation"
      ]
    },
    {
      "cell_type": "code",
      "metadata": {
        "id": "vHTEL5WBz-2E"
      },
      "source": [
        "import random\r\n",
        "import torch, torchtext\r\n",
        "from torchtext import data "
      ],
      "execution_count": 51,
      "outputs": []
    },
    {
      "cell_type": "code",
      "metadata": {
        "id": "HM0BBtuhUAys"
      },
      "source": [
        "## Lets keep only required columns into the dataframe\r\n",
        "trn_break.drop(['question_id', 'operators','split'], axis=1, inplace=True)\r\n",
        "dev_break.drop(['question_id', 'operators','split'], axis=1, inplace=True)"
      ],
      "execution_count": 52,
      "outputs": []
    },
    {
      "cell_type": "code",
      "metadata": {
        "id": "qBSTkFygUCe5"
      },
      "source": [
        "test_break.drop(['question_id', 'operators','split'], axis=1, inplace=True)"
      ],
      "execution_count": 53,
      "outputs": []
    },
    {
      "cell_type": "code",
      "metadata": {
        "colab": {
          "base_uri": "https://localhost:8080/",
          "height": 79
        },
        "id": "vFpsZJZzUEAs",
        "outputId": "ce35a7eb-ce24-406a-ba09-3ed57bc3cd0a"
      },
      "source": [
        "trn_break.head(1)"
      ],
      "execution_count": 54,
      "outputs": [
        {
          "output_type": "execute_result",
          "data": {
            "text/html": [
              "<div>\n",
              "<style scoped>\n",
              "    .dataframe tbody tr th:only-of-type {\n",
              "        vertical-align: middle;\n",
              "    }\n",
              "\n",
              "    .dataframe tbody tr th {\n",
              "        vertical-align: top;\n",
              "    }\n",
              "\n",
              "    .dataframe thead th {\n",
              "        text-align: right;\n",
              "    }\n",
              "</style>\n",
              "<table border=\"1\" class=\"dataframe\">\n",
              "  <thead>\n",
              "    <tr style=\"text-align: right;\">\n",
              "      <th></th>\n",
              "      <th>question_text</th>\n",
              "      <th>decomposition</th>\n",
              "    </tr>\n",
              "  </thead>\n",
              "  <tbody>\n",
              "    <tr>\n",
              "      <th>0</th>\n",
              "      <td>return me the homepage of PVLDB .</td>\n",
              "      <td>return homepages ;return #1 of  PVLDB</td>\n",
              "    </tr>\n",
              "  </tbody>\n",
              "</table>\n",
              "</div>"
            ],
            "text/plain": [
              "                        question_text                          decomposition\n",
              "0  return me the homepage of PVLDB .   return homepages ;return #1 of  PVLDB"
            ]
          },
          "metadata": {
            "tags": []
          },
          "execution_count": 54
        }
      ]
    },
    {
      "cell_type": "markdown",
      "metadata": {
        "id": "hFN65G2G-XKf"
      },
      "source": [
        "### Utility Functions"
      ]
    },
    {
      "cell_type": "markdown",
      "metadata": {
        "id": "YmryKW4a-ahZ"
      },
      "source": [
        "**Random Deletion**"
      ]
    },
    {
      "cell_type": "code",
      "metadata": {
        "id": "MgJ5--pd-Zv8"
      },
      "source": [
        "# randomly delete words from a sentence with a given probability\r\n",
        "\r\n",
        "def random_deletion(sentence, p=0.5): \r\n",
        "    # return if single word\r\n",
        "    if len(sentence) == 1: \r\n",
        "        return sentence\r\n",
        "    # delete words\r\n",
        "    remaining = list(filter(lambda x: random.uniform(0,1) > p, sentence)) \r\n",
        "    # if nothing left, sample a random word\r\n",
        "    if len(remaining) == 0: \r\n",
        "        return [random.choice(sentence)] \r\n",
        "    else:\r\n",
        "        return remaining"
      ],
      "execution_count": 55,
      "outputs": []
    },
    {
      "cell_type": "markdown",
      "metadata": {
        "id": "tKBzYhoq-jxC"
      },
      "source": [
        "**Random Swap**"
      ]
    },
    {
      "cell_type": "code",
      "metadata": {
        "id": "3xkzJDwP-oYi"
      },
      "source": [
        "# randomly swap a pair of words in a sentence for a given # of times\r\n",
        "\r\n",
        "def random_swap(sentence, n=5): \r\n",
        "    if len(sentence) < 2:\r\n",
        "      return sentence\r\n",
        "    length = range(len(sentence)) \r\n",
        "    for _ in range(n):\r\n",
        "        idx1, idx2 = random.sample(length, 2)\r\n",
        "        sentence[idx1], sentence[idx2] = sentence[idx2], sentence[idx1] \r\n",
        "    return sentence"
      ],
      "execution_count": 56,
      "outputs": []
    },
    {
      "cell_type": "markdown",
      "metadata": {
        "id": "LWJ9afQd-rkd"
      },
      "source": [
        "**Back Translation**"
      ]
    },
    {
      "cell_type": "code",
      "metadata": {
        "id": "QpmCtjuD-zhz"
      },
      "source": [
        "# translate a sentence to a random language,\r\n",
        "# and translate back to original language\r\n",
        "\r\n",
        "def back_translate(sentence, p=0.1):\r\n",
        "  # do nothing with probability of 1-p\r\n",
        "  if random.uniform(0,1) > p:\r\n",
        "    return sentence\r\n",
        "\r\n",
        "  # combine tokenized sentence into one string\r\n",
        "  sentence = ' '.join(sentence)\r\n",
        "\r\n",
        "  # instantiate translator\r\n",
        "  translator = google_translator()\r\n",
        "\r\n",
        "  # choose a target language\r\n",
        "  available_langs = list(google_trans_new.LANGUAGES.keys()) \r\n",
        "  trans_lang = random.choice(available_langs) \r\n",
        "  #print(f\"Translating to {google_trans_new.LANGUAGES[trans_lang]}\")\r\n",
        "\r\n",
        "  # translate to the target language\r\n",
        "  translations = translator.translate(sentence, lang_tgt=trans_lang) \r\n",
        "  #print(translations)\r\n",
        "\r\n",
        "  # translate back to original language\r\n",
        "  translations_en_random = translator.translate(translations, lang_src=trans_lang, lang_tgt='en') \r\n",
        "  #print(translations_en_random)\r\n",
        "\r\n",
        "  # select only one translation\r\n",
        "  if len(translations_en_random) > 1:\r\n",
        "    translations_en_random = translations_en_random[0]\r\n",
        "\r\n",
        "  return word_tokenize(translations_en_random)"
      ],
      "execution_count": 57,
      "outputs": []
    },
    {
      "cell_type": "markdown",
      "metadata": {
        "id": "mLlGDxkI-41A"
      },
      "source": [
        "**Carry Out Data Augmentation**"
      ]
    },
    {
      "cell_type": "code",
      "metadata": {
        "id": "37UZpAEd_e5k"
      },
      "source": [
        "# for example in train.examples: \r\n",
        "#   example.tweets = back_translate(example.tweets, p=0.01)\r\n",
        "#   example.tweets = random_deletion(example.tweets, p=0.1)\r\n",
        "#   example.tweets = random_swap(example.tweets, n=1)"
      ],
      "execution_count": 58,
      "outputs": []
    },
    {
      "cell_type": "markdown",
      "metadata": {
        "id": "phs47VOfCayt"
      },
      "source": [
        "### Tabular File Reading"
      ]
    },
    {
      "cell_type": "code",
      "metadata": {
        "id": "EhwqXgVCxv9Q"
      },
      "source": [
        "import torch\r\n",
        "import torch.nn as nn\r\n",
        "import torch.optim as optim\r\n",
        "import torch.nn.functional as F\r\n",
        "import os\r\n",
        "# from torchtext.datasets import Multi30k\r\n",
        "from torchtext.data import Field, BucketIterator\r\n",
        "from torchtext import data\r\n",
        "from torchtext import datasets\r\n",
        "\r\n",
        "import spacy\r\n",
        "import numpy as np\r\n",
        "\r\n",
        "import random\r\n",
        "import math\r\n",
        "import time\r\n",
        "import torch\r\n",
        "from torchtext import data\r\n",
        "from torchtext import datasets\r\n",
        "import pandas as pd"
      ],
      "execution_count": 59,
      "outputs": []
    },
    {
      "cell_type": "code",
      "metadata": {
        "id": "myNJfEKPvdHs"
      },
      "source": [
        "# Creating my home directory for keeping all the CSV files\r\n",
        "directory = 'data'\r\n",
        "if not os.path.exists(directory):\r\n",
        "    os.makedirs('data')\r\n",
        "    print(\"Directory '% s' created\" % directory)"
      ],
      "execution_count": 60,
      "outputs": []
    },
    {
      "cell_type": "code",
      "metadata": {
        "id": "w4Q-omAP7IqD"
      },
      "source": [
        "# saving all the dataframe into CSV file.\r\n",
        "trn_break.to_csv(\"/content/data/train.csv\", index=False)\r\n",
        "dev_break.to_csv(\"/content/data/dev.csv\", index=False)"
      ],
      "execution_count": 61,
      "outputs": []
    },
    {
      "cell_type": "code",
      "metadata": {
        "id": "r2oWYuAjUMtj"
      },
      "source": [
        "test_break.to_csv(\"/content/data/test.csv\", index=False)"
      ],
      "execution_count": 62,
      "outputs": []
    },
    {
      "cell_type": "code",
      "metadata": {
        "colab": {
          "base_uri": "https://localhost:8080/"
        },
        "id": "TUF8cnMhy_oY",
        "outputId": "c8a978c5-c9e9-47dd-c3af-d2bd1c00f888"
      },
      "source": [
        "## Now lets check how many null we have in training data\r\n",
        "tweet_train = pd.read_csv(\"/content/data/train.csv\")\r\n",
        "null_columns_tweet_train = tweet_train.columns[tweet_train.isnull().any()]\r\n",
        "tweet_train[null_columns_tweet_train].isnull().sum()"
      ],
      "execution_count": 63,
      "outputs": [
        {
          "output_type": "execute_result",
          "data": {
            "text/plain": [
              "Series([], dtype: float64)"
            ]
          },
          "metadata": {
            "tags": []
          },
          "execution_count": 63
        }
      ]
    },
    {
      "cell_type": "code",
      "metadata": {
        "colab": {
          "base_uri": "https://localhost:8080/"
        },
        "id": "38EEii_wgZQk",
        "outputId": "7a3a6874-c98a-4383-df83-f5cb9ea3b20a"
      },
      "source": [
        "## Check for null in valid data\r\n",
        "tweet_valid = pd.read_csv(\"/content/data/dev.csv\")\r\n",
        "null_columns_tweet_valid = tweet_valid.columns[tweet_valid.isnull().any()]\r\n",
        "tweet_valid[null_columns_tweet_valid].isnull().sum()"
      ],
      "execution_count": 64,
      "outputs": [
        {
          "output_type": "execute_result",
          "data": {
            "text/plain": [
              "Series([], dtype: float64)"
            ]
          },
          "metadata": {
            "tags": []
          },
          "execution_count": 64
        }
      ]
    },
    {
      "cell_type": "code",
      "metadata": {
        "id": "6GMcVy5U-WfP"
      },
      "source": [
        "from torchtext.data import Field, BucketIterator\r\n",
        "from torchtext import data\r\n",
        "from torchtext import datasets"
      ],
      "execution_count": 65,
      "outputs": []
    },
    {
      "cell_type": "code",
      "metadata": {
        "id": "ASTvwOHA7rrj"
      },
      "source": [
        "# !shuf -n 63543 /content/data/Tweet_valid_nl.csv > /content/data/Tweet_Train_reduced.csv\r\n",
        "# !{ echo 'text_x, text_y'; cat /content/data/Tweet_Train_reduced.csv; } > /content/data/Tweet_Train_reduced_fn.csv"
      ],
      "execution_count": 66,
      "outputs": []
    },
    {
      "cell_type": "code",
      "metadata": {
        "id": "NTllvW5MuAZ0"
      },
      "source": [
        "# create Field objects\r\n",
        "QUESTION = data.Field(\r\n",
        "    # sequential = True,\r\n",
        "    tokenize = 'spacy', \r\n",
        "    # batch_first =True,\r\n",
        "    #  use_vocab=True,\r\n",
        "    lower = True,\r\n",
        "    init_token = '<sos>', \r\n",
        "    eos_token = '<eos>', \r\n",
        "    #  include_lengths=True\r\n",
        "    )\r\n",
        "\r\n",
        "RESPONSE = data.Field(tokenize ='spacy',\r\n",
        "                      # sequential = True, \r\n",
        "                      # include_lengths=True,\r\n",
        "                      lower = True,\r\n",
        "                      # is_target=True,\r\n",
        "                      init_token = '<sos>', \r\n",
        "                      eos_token = '<eos>', \r\n",
        "                      # batch_first =True\r\n",
        "                      )\r\n",
        "\r\n",
        "fields = [('question_text', QUESTION), ('decomposition', RESPONSE)]"
      ],
      "execution_count": 67,
      "outputs": []
    },
    {
      "cell_type": "code",
      "metadata": {
        "colab": {
          "base_uri": "https://localhost:8080/"
        },
        "id": "qg8C9cert5V1",
        "outputId": "ccec5756-8a82-4a69-fdc5-c86c32ece6ec"
      },
      "source": [
        "# load the dataset in json format\r\n",
        "train_ds, valid_ds = data.TabularDataset.splits(\r\n",
        "   path = 'data',\r\n",
        "   train = 'train.csv',\r\n",
        "   validation = 'dev.csv',\r\n",
        "   format = 'csv',\r\n",
        "   fields = fields,\r\n",
        "   skip_header = True\r\n",
        ")\r\n",
        "\r\n",
        "# check an example\r\n",
        "print(vars(train_ds[0]))"
      ],
      "execution_count": 68,
      "outputs": [
        {
          "output_type": "stream",
          "text": [
            "{'question_text': ['return', 'me', 'the', 'homepage', 'of', 'pvldb', '.'], 'decomposition': ['return', 'homepages', ';', 'return', '#', '1', 'of', ' ', 'pvldb']}\n"
          ],
          "name": "stdout"
        }
      ]
    },
    {
      "cell_type": "code",
      "metadata": {
        "colab": {
          "base_uri": "https://localhost:8080/"
        },
        "id": "a7oSDrAUv0Ky",
        "outputId": "a192ae6b-8e1c-4545-c7be-a028f15dcec0"
      },
      "source": [
        "train_ds[0].__dict__.keys()"
      ],
      "execution_count": 69,
      "outputs": [
        {
          "output_type": "execute_result",
          "data": {
            "text/plain": [
              "dict_keys(['question_text', 'decomposition'])"
            ]
          },
          "metadata": {
            "tags": []
          },
          "execution_count": 69
        }
      ]
    },
    {
      "cell_type": "code",
      "metadata": {
        "colab": {
          "base_uri": "https://localhost:8080/"
        },
        "id": "TLGpYWTyETSE",
        "outputId": "5dfed2dc-2715-4fd4-a7c2-c163bea6591a"
      },
      "source": [
        "## we get an Example object. The Example object bundles the attributes of a single data point together. \r\n",
        "# We also see that the text has already been tokenized for us, but has not yet been converted to integers\r\n",
        "vars(train_ds.examples[10])"
      ],
      "execution_count": 70,
      "outputs": [
        {
          "output_type": "execute_result",
          "data": {
            "text/plain": [
              "{'decomposition': ['return',\n",
              "  'university',\n",
              "  'of',\n",
              "  'michigan',\n",
              "  ';',\n",
              "  'return',\n",
              "  'papers',\n",
              "  'in',\n",
              "  '#',\n",
              "  '1',\n",
              "  ';',\n",
              "  'return',\n",
              "  'number',\n",
              "  'of',\n",
              "  '#',\n",
              "  '2'],\n",
              " 'question_text': ['return',\n",
              "  'me',\n",
              "  'the',\n",
              "  'number',\n",
              "  'of',\n",
              "  'papers',\n",
              "  'in',\n",
              "  '\"',\n",
              "  'university',\n",
              "  'of',\n",
              "  'michigan',\n",
              "  '\"',\n",
              "  '.']}"
            ]
          },
          "metadata": {
            "tags": []
          },
          "execution_count": 70
        }
      ]
    },
    {
      "cell_type": "code",
      "metadata": {
        "colab": {
          "base_uri": "https://localhost:8080/"
        },
        "id": "12rnzGTnx6BM",
        "outputId": "3cfe8845-0d77-4f33-8e3f-90fbd09417a2"
      },
      "source": [
        "try:\r\n",
        "    print(len(train_ds[10]))\r\n",
        "except:\r\n",
        "    print(train_ds[10].question_text)"
      ],
      "execution_count": 71,
      "outputs": [
        {
          "output_type": "stream",
          "text": [
            "['return', 'me', 'the', 'number', 'of', 'papers', 'in', '\"', 'university', 'of', 'michigan', '\"', '.']\n"
          ],
          "name": "stdout"
        }
      ]
    },
    {
      "cell_type": "code",
      "metadata": {
        "id": "tK-5PItlE8eu"
      },
      "source": [
        "# Before creating iterators of the Datasets we need to build the vocabulary for each Field object:\r\n",
        "# This makes torchtext go through all the elements in the training set, check the contents corresponding to the TEXT field, \r\n",
        "# and register the words in its vocabulary. Torchtext has its own class called Vocab for handling the vocabulary. \r\n",
        "# The Vocab class holds a mapping from word to id in its stoi attribute and a reverse mapping in its itos attribute\r\n",
        "QUESTION.build_vocab(train_ds,\r\n",
        "                  # max_size=20000,\r\n",
        "                  min_freq=2)\r\n",
        "RESPONSE.build_vocab(train_ds,\r\n",
        "                    #  max_size=20000,\r\n",
        "                     min_freq=2\r\n",
        "                     )"
      ],
      "execution_count": 72,
      "outputs": []
    },
    {
      "cell_type": "code",
      "metadata": {
        "id": "jTU94_iWWDm3"
      },
      "source": [
        "device = torch.device('cuda' if torch.cuda.is_available() else 'cpu')"
      ],
      "execution_count": 73,
      "outputs": []
    },
    {
      "cell_type": "code",
      "metadata": {
        "colab": {
          "base_uri": "https://localhost:8080/"
        },
        "id": "WegtEqfsFU1P",
        "outputId": "82b4d887-db1a-4e20-c822-0e9097b31357"
      },
      "source": [
        "print(f\"Unique tokens in source (BREAK) vocabulary: {len(QUESTION.vocab)}\")\r\n",
        "print(f\"Unique tokens in target (RESPONSE) vocabulary: {len(RESPONSE.vocab)}\")"
      ],
      "execution_count": 74,
      "outputs": [
        {
          "output_type": "stream",
          "text": [
            "Unique tokens in source (BREAK) vocabulary: 9494\n",
            "Unique tokens in target (RESPONSE) vocabulary: 9499\n"
          ],
          "name": "stdout"
        }
      ]
    },
    {
      "cell_type": "code",
      "metadata": {
        "id": "TCbFK17rvcJO"
      },
      "source": [
        "BATCH_SIZE = 64\r\n",
        "train_iterator, valid_iterator = data.BucketIterator.splits(\r\n",
        "    (train_ds, valid_ds),\r\n",
        "    # sort_key=lambda x: len(x.text_x), # the BucketIterator needs to be told what function it should use to group the data.\r\n",
        "    # sort_within_batch=True,\r\n",
        "    batch_size = BATCH_SIZE,\r\n",
        "    sort_key=lambda x: len(x.question_text),\r\n",
        "    sort = True,\r\n",
        "    # repeat=False, # we pass repeat=False because we want to wrap this Iterator layer\r\n",
        "    device = device)\r\n",
        "# https://torchtext.readthedocs.io/en/latest/examples.html"
      ],
      "execution_count": 75,
      "outputs": []
    },
    {
      "cell_type": "code",
      "metadata": {
        "colab": {
          "base_uri": "https://localhost:8080/"
        },
        "id": "eoNS1q0KveVO",
        "outputId": "5e6fef4e-8a7f-44ae-d7d9-bcea8e817fb6"
      },
      "source": [
        "b = next(iter(train_iterator)); vars(b).keys()"
      ],
      "execution_count": 76,
      "outputs": [
        {
          "output_type": "execute_result",
          "data": {
            "text/plain": [
              "dict_keys(['batch_size', 'dataset', 'fields', 'input_fields', 'target_fields', 'question_text', 'decomposition'])"
            ]
          },
          "metadata": {
            "tags": []
          },
          "execution_count": 76
        }
      ]
    },
    {
      "cell_type": "code",
      "metadata": {
        "colab": {
          "base_uri": "https://localhost:8080/"
        },
        "id": "XpAogEe3vhAV",
        "outputId": "bd5c883d-f8e7-499d-b12b-4e19ba765401"
      },
      "source": [
        "train_ds.fields"
      ],
      "execution_count": 77,
      "outputs": [
        {
          "output_type": "execute_result",
          "data": {
            "text/plain": [
              "{'decomposition': <torchtext.data.field.Field at 0x7fe766bc6748>,\n",
              " 'question_text': <torchtext.data.field.Field at 0x7fe7671fb2b0>}"
            ]
          },
          "metadata": {
            "tags": []
          },
          "execution_count": 77
        }
      ]
    },
    {
      "cell_type": "code",
      "metadata": {
        "colab": {
          "base_uri": "https://localhost:8080/"
        },
        "id": "iLSTVoravmQY",
        "outputId": "9c653116-8bbf-4445-8cb2-5d3289bb121f"
      },
      "source": [
        "type(train_iterator)\r\n",
        "type(train_ds)"
      ],
      "execution_count": 78,
      "outputs": [
        {
          "output_type": "execute_result",
          "data": {
            "text/plain": [
              "torchtext.data.dataset.TabularDataset"
            ]
          },
          "metadata": {
            "tags": []
          },
          "execution_count": 78
        }
      ]
    },
    {
      "cell_type": "markdown",
      "metadata": {
        "id": "Jq7BwOO4EzFd"
      },
      "source": [
        "## Building the Seq2Seq Model\n",
        "\n",
        "### Encoder\n",
        "\n",
        "The encoder is similar to the previous one, with the multi-layer LSTM swapped for a single-layer GRU. We also don't pass the dropout as an argument to the GRU as that dropout is used between each layer of a multi-layered RNN. As we only have a single layer, PyTorch will display a warning if we try and use pass a dropout value to it.\n",
        "\n",
        "Another thing to note about the GRU is that it only requires and returns a hidden state, there is no cell state like in the LSTM.\n",
        "\n",
        "$$\\begin{align*}\n",
        "h_t &= \\text{GRU}(e(x_t), h_{t-1})\\\\\n",
        "(h_t, c_t) &= \\text{LSTM}(e(x_t), h_{t-1}, c_{t-1})\\\\\n",
        "h_t &= \\text{RNN}(e(x_t), h_{t-1})\n",
        "\\end{align*}$$\n",
        "\n",
        "From the equations above, it looks like the RNN and the GRU are identical. Inside the GRU, however, is a number of *gating mechanisms* that control the information flow in to and out of the hidden state (similar to an LSTM). Again, for more info, check out [this](https://colah.github.io/posts/2015-08-Understanding-LSTMs/) excellent post. \n",
        "\n",
        "The rest of the encoder should be very familar from the last session, it takes in a sequence, $X = \\{x_1, x_2, ... , x_T\\}$, passes it through the embedding layer, recurrently calculates hidden states, $H = \\{h_1, h_2, ..., h_T\\}$, and returns a context vector (the final hidden state), $z=h_T$.\n",
        "\n",
        "$$h_t = \\text{EncoderGRU}(e(x_t), h_{t-1})$$\n",
        "\n",
        "This is identical to the encoder of the general seq2seq model, with all the \"magic\" happening inside the GRU (green).\n",
        "\n",
        "![](https://github.com/bentrevett/pytorch-seq2seq/blob/master/assets/seq2seq5.png?raw=1)"
      ]
    },
    {
      "cell_type": "code",
      "metadata": {
        "id": "11CnDhTkEzFd"
      },
      "source": [
        "class Encoder(nn.Module):\n",
        "    def __init__(self, input_dim, emb_dim, hid_dim, dropout):\n",
        "        super().__init__()\n",
        "\n",
        "        self.hid_dim = hid_dim\n",
        "        \n",
        "        self.embedding = nn.Embedding(input_dim, emb_dim) #no dropout as only one layer!\n",
        "        \n",
        "        self.rnn = nn.GRU(emb_dim, hid_dim)\n",
        "        \n",
        "        self.dropout = nn.Dropout(dropout)\n",
        "        \n",
        "    def forward(self, src):\n",
        "        \n",
        "        #src = [src len, batch size]\n",
        "        \n",
        "        embedded = self.dropout(self.embedding(src))\n",
        "        \n",
        "        #embedded = [src len, batch size, emb dim]\n",
        "        \n",
        "        outputs, hidden = self.rnn(embedded) #no cell state!\n",
        "        \n",
        "        #outputs = [src len, batch size, hid dim * n directions]\n",
        "        #hidden = [n layers * n directions, batch size, hid dim]\n",
        "        \n",
        "        #outputs are always from the top hidden layer\n",
        "        \n",
        "        return hidden"
      ],
      "execution_count": 79,
      "outputs": []
    },
    {
      "cell_type": "markdown",
      "metadata": {
        "id": "FhBViJ4-EzFe"
      },
      "source": [
        "## Decoder\n",
        "\n",
        "The decoder is where the implementation differs significantly from the previous model and we alleviate some of the information compression.\n",
        "\n",
        "Instead of the GRU in the decoder taking just the embedded target token, $d(y_t)$ and the previous hidden state $s_{t-1}$ as inputs, it also takes the context vector $z$. \n",
        "\n",
        "$$s_t = \\text{DecoderGRU}(d(y_t), s_{t-1}, z)$$\n",
        "\n",
        "Note how this context vector, $z$, does not have a $t$ subscript, meaning we re-use the same context vector returned by the encoder for every time-step in the decoder. \n",
        "\n",
        "Before, we predicted the next token, $\\hat{y}_{t+1}$, with the linear layer, $f$, only using the top-layer decoder hidden state at that time-step, $s_t$, as $\\hat{y}_{t+1}=f(s_t^L)$. Now, we also pass the embedding of current token, $d(y_t)$ and the context vector, $z$ to the linear layer.\n",
        "\n",
        "$$\\hat{y}_{t+1} = f(d(y_t), s_t, z)$$\n",
        "\n",
        "Thus, our decoder now looks something like this:\n",
        "\n",
        "![](https://github.com/bentrevett/pytorch-seq2seq/blob/master/assets/seq2seq6.png?raw=1)\n",
        "\n",
        "Note, the initial hidden state, $s_0$, is still the context vector, $z$, so when generating the first token we are actually inputting two identical context vectors into the GRU.\n",
        "\n",
        "How do these two changes reduce the information compression? Well, hypothetically the decoder hidden states, $s_t$, no longer need to contain information about the source sequence as it is always available as an input. Thus, it only needs to contain information about what tokens it has generated so far. The addition of $y_t$ to the linear layer also means this layer can directly see what the token is, without having to get this information from the hidden state. \n",
        "\n",
        "However, this hypothesis is just a hypothesis, it is impossible to determine how the model actually uses the information provided to it (don't listen to anyone that says differently). Nevertheless, it is a solid intuition and the results seem to indicate that this modifications are a good idea!\n",
        "\n",
        "Within the implementation, we will pass $d(y_t)$ and $z$ to the GRU by concatenating them together, so the input dimensions to the GRU are now `emb_dim + hid_dim` (as context vector will be of size `hid_dim`). The linear layer will take $d(y_t), s_t$ and $z$ also by concatenating them together, hence the input dimensions are now `emb_dim + hid_dim*2`. We also don't pass a value of dropout to the GRU as it only uses a single layer.\n",
        "\n",
        "`forward` now takes a `context` argument. Inside of `forward`, we concatenate $y_t$ and $z$ as `emb_con` before feeding to the GRU, and we concatenate $d(y_t)$, $s_t$ and $z$ together as `output` before feeding it through the linear layer to receive our predictions, $\\hat{y}_{t+1}$."
      ]
    },
    {
      "cell_type": "code",
      "metadata": {
        "id": "wRA8hkiLEzFh"
      },
      "source": [
        "class Decoder(nn.Module):\n",
        "    def __init__(self, output_dim, emb_dim, hid_dim, dropout):\n",
        "        super().__init__()\n",
        "\n",
        "        self.hid_dim = hid_dim\n",
        "        self.output_dim = output_dim\n",
        "        \n",
        "        self.embedding = nn.Embedding(output_dim, emb_dim)\n",
        "        \n",
        "        self.rnn = nn.GRU(emb_dim + hid_dim, hid_dim)\n",
        "        \n",
        "        self.fc_out = nn.Linear(emb_dim + hid_dim * 2, output_dim)\n",
        "        \n",
        "        self.dropout = nn.Dropout(dropout)\n",
        "        \n",
        "    def forward(self, input, hidden, context):\n",
        "        \n",
        "        #input = [batch size]\n",
        "        #hidden = [n layers * n directions, batch size, hid dim]\n",
        "        #context = [n layers * n directions, batch size, hid dim]\n",
        "        \n",
        "        #n layers and n directions in the decoder will both always be 1, therefore:\n",
        "        #hidden = [1, batch size, hid dim]\n",
        "        #context = [1, batch size, hid dim]\n",
        "        \n",
        "        input = input.unsqueeze(0)\n",
        "        \n",
        "        #input = [1, batch size]\n",
        "        \n",
        "        embedded = self.dropout(self.embedding(input))\n",
        "        \n",
        "        #embedded = [1, batch size, emb dim]\n",
        "                \n",
        "        emb_con = torch.cat((embedded, context), dim = 2)\n",
        "            \n",
        "        #emb_con = [1, batch size, emb dim + hid dim]\n",
        "            \n",
        "        output, hidden = self.rnn(emb_con, hidden)\n",
        "        \n",
        "        #output = [seq len, batch size, hid dim * n directions]\n",
        "        #hidden = [n layers * n directions, batch size, hid dim]\n",
        "        \n",
        "        #seq len, n layers and n directions will always be 1 in the decoder, therefore:\n",
        "        #output = [1, batch size, hid dim]\n",
        "        #hidden = [1, batch size, hid dim]\n",
        "        \n",
        "        output = torch.cat((embedded.squeeze(0), hidden.squeeze(0), context.squeeze(0)), \n",
        "                           dim = 1)\n",
        "        \n",
        "        #output = [batch size, emb dim + hid dim * 2]\n",
        "        \n",
        "        prediction = self.fc_out(output)\n",
        "        \n",
        "        #prediction = [batch size, output dim]\n",
        "        \n",
        "        return prediction, hidden"
      ],
      "execution_count": 80,
      "outputs": []
    },
    {
      "cell_type": "markdown",
      "metadata": {
        "id": "wqR66FM2EzFj"
      },
      "source": [
        "## Seq2Seq Model\n",
        "\n",
        "Putting the encoder and decoder together, we get:\n",
        "\n",
        "![](https://github.com/bentrevett/pytorch-seq2seq/blob/master/assets/seq2seq7.png?raw=1)\n",
        "\n",
        "Again, in this implementation we need to ensure the hidden dimensions in both the encoder and the decoder are the same.\n",
        "\n",
        "Briefly going over all of the steps:\n",
        "- the `outputs` tensor is created to hold all predictions, $\\hat{Y}$\n",
        "- the source sequence, $X$, is fed into the encoder to receive a `context` vector\n",
        "- the initial decoder hidden state is set to be the `context` vector, $s_0 = z = h_T$\n",
        "- we use a batch of `<sos>` tokens as the first `input`, $y_1$\n",
        "- we then decode within a loop:\n",
        "  - inserting the input token $y_t$, previous hidden state, $s_{t-1}$, and the context vector, $z$, into the decoder\n",
        "  - receiving a prediction, $\\hat{y}_{t+1}$, and a new hidden state, $s_t$\n",
        "  - we then decide if we are going to teacher force or not, setting the next input as appropriate (either the ground truth next token in the target sequence or the highest predicted next token)"
      ]
    },
    {
      "cell_type": "code",
      "metadata": {
        "id": "FDyNrQ8VEzFk"
      },
      "source": [
        "class Seq2Seq(nn.Module):\n",
        "    def __init__(self, encoder, decoder, device):\n",
        "        super().__init__()\n",
        "        \n",
        "        self.encoder = encoder\n",
        "        self.decoder = decoder\n",
        "        self.device = device\n",
        "        \n",
        "        assert encoder.hid_dim == decoder.hid_dim, \\\n",
        "            \"Hidden dimensions of encoder and decoder must be equal!\"\n",
        "        \n",
        "    def forward(self, src, trg, teacher_forcing_ratio = 0.5):\n",
        "        \n",
        "        #src = [src len, batch size]\n",
        "        #trg = [trg len, batch size]\n",
        "        #teacher_forcing_ratio is probability to use teacher forcing\n",
        "        #e.g. if teacher_forcing_ratio is 0.75 we use ground-truth inputs 75% of the time\n",
        "        \n",
        "        batch_size = trg.shape[1]\n",
        "        trg_len = trg.shape[0]\n",
        "        trg_vocab_size = self.decoder.output_dim\n",
        "        \n",
        "        #tensor to store decoder outputs\n",
        "        outputs = torch.zeros(trg_len, batch_size, trg_vocab_size).to(self.device)\n",
        "        \n",
        "        #last hidden state of the encoder is the context\n",
        "        context = self.encoder(src)\n",
        "        \n",
        "        #context also used as the initial hidden state of the decoder\n",
        "        hidden = context\n",
        "        \n",
        "        #first input to the decoder is the <sos> tokens\n",
        "        input = trg[0,:]\n",
        "        \n",
        "        for t in range(1, trg_len):\n",
        "            \n",
        "            #insert input token embedding, previous hidden state and the context state\n",
        "            #receive output tensor (predictions) and new hidden state\n",
        "            output, hidden = self.decoder(input, hidden, context)\n",
        "            \n",
        "            #place predictions in a tensor holding predictions for each token\n",
        "            outputs[t] = output\n",
        "            \n",
        "            #decide if we are going to use teacher forcing or not\n",
        "            teacher_force = random.random() < teacher_forcing_ratio\n",
        "            \n",
        "            #get the highest predicted token from our predictions\n",
        "            top1 = output.argmax(1) \n",
        "            \n",
        "            #if teacher forcing, use actual next token as next input\n",
        "            #if not, use predicted token\n",
        "            input = trg[t] if teacher_force else top1\n",
        "\n",
        "        return outputs"
      ],
      "execution_count": 81,
      "outputs": []
    },
    {
      "cell_type": "markdown",
      "metadata": {
        "id": "uxVMMPUyEzFk"
      },
      "source": [
        "# Training the Seq2Seq Model\n",
        "\n",
        "The rest of this session is very similar to the previous one. \n",
        "\n",
        "We initialise our encoder, decoder and seq2seq model (placing it on the GPU if we have one). As before, the embedding dimensions and the amount of dropout used can be different between the encoder and the decoder, but the hidden dimensions must remain the same."
      ]
    },
    {
      "cell_type": "code",
      "metadata": {
        "id": "WDG6jOSuEzFk"
      },
      "source": [
        "INPUT_DIM = len(QUESTION.vocab)\n",
        "OUTPUT_DIM = len(RESPONSE.vocab)\n",
        "ENC_EMB_DIM = 256\n",
        "DEC_EMB_DIM = 256\n",
        "HID_DIM = 512\n",
        "ENC_DROPOUT = 0.5\n",
        "DEC_DROPOUT = 0.5\n",
        "\n",
        "enc = Encoder(INPUT_DIM, ENC_EMB_DIM, HID_DIM, ENC_DROPOUT)\n",
        "dec = Decoder(OUTPUT_DIM, DEC_EMB_DIM, HID_DIM, DEC_DROPOUT)\n",
        "\n",
        "device = torch.device('cuda' if torch.cuda.is_available() else 'cpu')\n",
        "\n",
        "model = Seq2Seq(enc, dec, device).to(device)"
      ],
      "execution_count": 82,
      "outputs": []
    },
    {
      "cell_type": "markdown",
      "metadata": {
        "id": "RLIc1l6CEzFk"
      },
      "source": [
        "Next, we initialize our parameters. The paper states the parameters are initialized from a normal distribution with a mean of 0 and a standard deviation of 0.01, i.e. $\\mathcal{N}(0, 0.01)$. \n",
        "\n",
        "It also states we should initialize the recurrent parameters to a special initialization, however to keep things simple we'll also initialize them to $\\mathcal{N}(0, 0.01)$."
      ]
    },
    {
      "cell_type": "code",
      "metadata": {
        "id": "HgqMqq-oEzFk",
        "colab": {
          "base_uri": "https://localhost:8080/"
        },
        "outputId": "5d0080f7-cf00-4b6c-b2ef-7214f575b2e8"
      },
      "source": [
        "def init_weights(m):\n",
        "    for name, param in m.named_parameters():\n",
        "        nn.init.normal_(param.data, mean=0, std=0.01)\n",
        "        \n",
        "model.apply(init_weights)"
      ],
      "execution_count": 83,
      "outputs": [
        {
          "output_type": "execute_result",
          "data": {
            "text/plain": [
              "Seq2Seq(\n",
              "  (encoder): Encoder(\n",
              "    (embedding): Embedding(9494, 256)\n",
              "    (rnn): GRU(256, 512)\n",
              "    (dropout): Dropout(p=0.5, inplace=False)\n",
              "  )\n",
              "  (decoder): Decoder(\n",
              "    (embedding): Embedding(9499, 256)\n",
              "    (rnn): GRU(768, 512)\n",
              "    (fc_out): Linear(in_features=1280, out_features=9499, bias=True)\n",
              "    (dropout): Dropout(p=0.5, inplace=False)\n",
              "  )\n",
              ")"
            ]
          },
          "metadata": {
            "tags": []
          },
          "execution_count": 83
        }
      ]
    },
    {
      "cell_type": "markdown",
      "metadata": {
        "id": "hd1QoOsUEzFl"
      },
      "source": [
        "We print out the number of parameters.\n",
        "\n",
        "Even though we only have a single layer RNN for our encoder and decoder we actually have **more** parameters  than the last model. This is due to the increased size of the inputs to the GRU and the linear layer. However, it is not a significant amount of parameters and causes a minimal amount of increase in training time (~3 seconds per epoch extra)."
      ]
    },
    {
      "cell_type": "code",
      "metadata": {
        "id": "IggCwIBgEzFl",
        "colab": {
          "base_uri": "https://localhost:8080/"
        },
        "outputId": "20086d5b-edad-417d-da9b-aed7a4bf02e7"
      },
      "source": [
        "def count_parameters(model):\n",
        "    return sum(p.numel() for p in model.parameters() if p.requires_grad)\n",
        "\n",
        "print(f'The model has {count_parameters(model):,} trainable parameters')"
      ],
      "execution_count": 84,
      "outputs": [
        {
          "output_type": "stream",
          "text": [
            "The model has 20,182,299 trainable parameters\n"
          ],
          "name": "stdout"
        }
      ]
    },
    {
      "cell_type": "markdown",
      "metadata": {
        "id": "YiH54qzHEzFl"
      },
      "source": [
        "We initiaize our optimizer."
      ]
    },
    {
      "cell_type": "code",
      "metadata": {
        "id": "eO1_eoG7EzFl"
      },
      "source": [
        "optimizer = optim.Adam(model.parameters())"
      ],
      "execution_count": 85,
      "outputs": []
    },
    {
      "cell_type": "markdown",
      "metadata": {
        "id": "BwkV3FKlEzFl"
      },
      "source": [
        "We also initialize the loss function, making sure to ignore the loss on `<pad>` tokens."
      ]
    },
    {
      "cell_type": "code",
      "metadata": {
        "id": "H0DAbGbcEzFl"
      },
      "source": [
        "# TRG_PAD_IDX = TRG.vocab.stoi[TRG.pad_token]\n",
        "\n",
        "# criterion = nn.CrossEntropyLoss(ignore_index = TRG_PAD_IDX)\n",
        "TRG_PAD_IDX = RESPONSE.vocab.stoi[QUESTION.pad_token]\n",
        "criterion = nn.CrossEntropyLoss(ignore_index = TRG_PAD_IDX)"
      ],
      "execution_count": 86,
      "outputs": []
    },
    {
      "cell_type": "markdown",
      "metadata": {
        "id": "FTay7E9rEzFm"
      },
      "source": [
        "We then create the training loop..."
      ]
    },
    {
      "cell_type": "code",
      "metadata": {
        "id": "A5OYuoFdEzFm"
      },
      "source": [
        "def train(model, iterator, optimizer, criterion, clip, epoch):\n",
        "    \n",
        "    model.train()\n",
        "    \n",
        "    epoch_loss = 0\n",
        "    \n",
        "    for i, batch in enumerate(iterator):\n",
        "        \n",
        "        # src = batch.src\n",
        "        src = batch.question_text\n",
        "        # trg = batch.trg\n",
        "        trg = batch.decomposition\n",
        "        \n",
        "        optimizer.zero_grad()\n",
        "        \n",
        "        output = model(src, trg)\n",
        "        \n",
        "        #trg = [trg len, batch size]\n",
        "        #output = [trg len, batch size, output dim]\n",
        "        \n",
        "        output_dim = output.shape[-1]\n",
        "        \n",
        "        output = output[1:].view(-1, output_dim)\n",
        "        trg = trg[1:].view(-1)\n",
        "        \n",
        "        #trg = [(trg len - 1) * batch size]\n",
        "        #output = [(trg len - 1) * batch size, output dim]\n",
        "        \n",
        "        loss = criterion(output, trg)\n",
        "        \n",
        "        loss.backward()\n",
        "        \n",
        "        torch.nn.utils.clip_grad_norm_(model.parameters(), clip)\n",
        "        \n",
        "        optimizer.step()\n",
        "        if(not i % 50):\n",
        "          print(f\"Epoch:{epoch}, Batch:{i}, Batch Loss:{loss.item()}\")        \n",
        "        epoch_loss += loss.item()\n",
        "        \n",
        "    return epoch_loss / len(iterator)"
      ],
      "execution_count": 87,
      "outputs": []
    },
    {
      "cell_type": "markdown",
      "metadata": {
        "id": "6rfUx5lhEzFm"
      },
      "source": [
        "...and the evaluation loop, remembering to set the model to `eval` mode and turn off teaching forcing."
      ]
    },
    {
      "cell_type": "code",
      "metadata": {
        "id": "Jw022pw0EzFm"
      },
      "source": [
        "def evaluate(model, iterator, criterion):\n",
        "    \n",
        "    model.eval()\n",
        "    \n",
        "    epoch_loss = 0\n",
        "    \n",
        "    with torch.no_grad():\n",
        "    \n",
        "        for i, batch in enumerate(iterator):\n",
        "\n",
        "            # src = batch.src\n",
        "            src = batch.question_text\n",
        "            # trg = batch.trg\n",
        "            trg = batch.decomposition\n",
        "\n",
        "            output = model(src, trg, 0) #turn off teacher forcing\n",
        "\n",
        "            #trg = [trg len, batch size]\n",
        "            #output = [trg len, batch size, output dim]\n",
        "\n",
        "            output_dim = output.shape[-1]\n",
        "            \n",
        "            output = output[1:].view(-1, output_dim)\n",
        "            trg = trg[1:].view(-1)\n",
        "\n",
        "            #trg = [(trg len - 1) * batch size]\n",
        "            #output = [(trg len - 1) * batch size, output dim]\n",
        "\n",
        "            loss = criterion(output, trg)\n",
        "\n",
        "            epoch_loss += loss.item()\n",
        "        \n",
        "    return epoch_loss / len(iterator)"
      ],
      "execution_count": 88,
      "outputs": []
    },
    {
      "cell_type": "markdown",
      "metadata": {
        "id": "E43h8dnQEzFm"
      },
      "source": [
        "We'll also define the function that calculates how long an epoch takes."
      ]
    },
    {
      "cell_type": "code",
      "metadata": {
        "id": "zTAmu3-EEzFm"
      },
      "source": [
        "def epoch_time(start_time, end_time):\n",
        "    elapsed_time = end_time - start_time\n",
        "    elapsed_mins = int(elapsed_time / 60)\n",
        "    elapsed_secs = int(elapsed_time - (elapsed_mins * 60))\n",
        "    return elapsed_mins, elapsed_secs"
      ],
      "execution_count": 89,
      "outputs": []
    },
    {
      "cell_type": "markdown",
      "metadata": {
        "id": "kbCGyO4ZEzFm"
      },
      "source": [
        "Then, we train our model, saving the parameters that give us the best validation loss."
      ]
    },
    {
      "cell_type": "code",
      "metadata": {
        "id": "jjFyRUK9EzFm",
        "colab": {
          "base_uri": "https://localhost:8080/"
        },
        "outputId": "5cdb9090-f4c7-47df-f151-2b3e53d15963"
      },
      "source": [
        "N_EPOCHS = 10\n",
        "CLIP = 1\n",
        "\n",
        "best_valid_loss = float('inf')\n",
        "\n",
        "for epoch in range(N_EPOCHS):\n",
        "    \n",
        "    start_time = time.time()\n",
        "    \n",
        "    train_loss = train(model, train_iterator, optimizer, criterion, CLIP, epoch)\n",
        "    valid_loss = evaluate(model, valid_iterator, criterion)\n",
        "    \n",
        "    end_time = time.time()\n",
        "    \n",
        "    epoch_mins, epoch_secs = epoch_time(start_time, end_time)\n",
        "    \n",
        "    if valid_loss < best_valid_loss:\n",
        "        best_valid_loss = valid_loss\n",
        "        torch.save(model.state_dict(), 'tut2-model.pt')\n",
        "    \n",
        "    print(f'Epoch: {epoch+1:02} | Time: {epoch_mins}m {epoch_secs}s')\n",
        "    print(f'\\tTrain Loss: {train_loss:.3f} | Train PPL: {math.exp(train_loss):7.3f}')\n",
        "    print(f'\\t Val. Loss: {valid_loss:.3f} |  Val. PPL: {math.exp(valid_loss):7.3f}')"
      ],
      "execution_count": 90,
      "outputs": [
        {
          "output_type": "stream",
          "text": [
            "Epoch:0, Batch:0, Batch Loss:9.165456771850586\n",
            "Epoch:0, Batch:50, Batch Loss:3.1182973384857178\n",
            "Epoch:0, Batch:100, Batch Loss:2.9083306789398193\n",
            "Epoch:0, Batch:150, Batch Loss:2.6808114051818848\n",
            "Epoch:0, Batch:200, Batch Loss:3.2491908073425293\n",
            "Epoch:0, Batch:250, Batch Loss:2.484760284423828\n",
            "Epoch:0, Batch:300, Batch Loss:2.5409717559814453\n",
            "Epoch:0, Batch:350, Batch Loss:3.5789520740509033\n",
            "Epoch:0, Batch:400, Batch Loss:3.807363986968994\n",
            "Epoch:0, Batch:450, Batch Loss:3.7942562103271484\n",
            "Epoch:0, Batch:500, Batch Loss:3.004511594772339\n",
            "Epoch:0, Batch:550, Batch Loss:2.5612082481384277\n",
            "Epoch:0, Batch:600, Batch Loss:2.9569756984710693\n",
            "Epoch:0, Batch:650, Batch Loss:2.5806310176849365\n",
            "Epoch: 01 | Time: 5m 0s\n",
            "\tTrain Loss: 3.169 | Train PPL:  23.773\n",
            "\t Val. Loss: 4.823 |  Val. PPL: 124.333\n",
            "Epoch:1, Batch:0, Batch Loss:3.4683804512023926\n",
            "Epoch:1, Batch:50, Batch Loss:1.9753448963165283\n",
            "Epoch:1, Batch:100, Batch Loss:1.844138264656067\n",
            "Epoch:1, Batch:150, Batch Loss:1.7947677373886108\n",
            "Epoch:1, Batch:200, Batch Loss:1.924179196357727\n",
            "Epoch:1, Batch:250, Batch Loss:1.7655162811279297\n",
            "Epoch:1, Batch:300, Batch Loss:2.0485823154449463\n",
            "Epoch:1, Batch:350, Batch Loss:3.1084656715393066\n",
            "Epoch:1, Batch:400, Batch Loss:3.2974319458007812\n",
            "Epoch:1, Batch:450, Batch Loss:3.7072668075561523\n",
            "Epoch:1, Batch:500, Batch Loss:2.9858555793762207\n",
            "Epoch:1, Batch:550, Batch Loss:2.2314491271972656\n",
            "Epoch:1, Batch:600, Batch Loss:2.5870378017425537\n",
            "Epoch:1, Batch:650, Batch Loss:2.3803653717041016\n",
            "Epoch: 02 | Time: 5m 1s\n",
            "\tTrain Loss: 2.379 | Train PPL:  10.799\n",
            "\t Val. Loss: 4.372 |  Val. PPL:  79.180\n",
            "Epoch:2, Batch:0, Batch Loss:2.747426748275757\n",
            "Epoch:2, Batch:50, Batch Loss:1.6398826837539673\n",
            "Epoch:2, Batch:100, Batch Loss:1.557007908821106\n",
            "Epoch:2, Batch:150, Batch Loss:1.3525564670562744\n",
            "Epoch:2, Batch:200, Batch Loss:1.7221332788467407\n",
            "Epoch:2, Batch:250, Batch Loss:1.6616910696029663\n",
            "Epoch:2, Batch:300, Batch Loss:1.8079824447631836\n",
            "Epoch:2, Batch:350, Batch Loss:2.573308229446411\n",
            "Epoch:2, Batch:400, Batch Loss:2.692629337310791\n",
            "Epoch:2, Batch:450, Batch Loss:2.97234845161438\n",
            "Epoch:2, Batch:500, Batch Loss:2.7965188026428223\n",
            "Epoch:2, Batch:550, Batch Loss:1.8609217405319214\n",
            "Epoch:2, Batch:600, Batch Loss:1.9832680225372314\n",
            "Epoch:2, Batch:650, Batch Loss:2.2549595832824707\n",
            "Epoch: 03 | Time: 4m 58s\n",
            "\tTrain Loss: 2.055 | Train PPL:   7.809\n",
            "\t Val. Loss: 4.306 |  Val. PPL:  74.152\n",
            "Epoch:3, Batch:0, Batch Loss:2.5755887031555176\n",
            "Epoch:3, Batch:50, Batch Loss:1.5164639949798584\n",
            "Epoch:3, Batch:100, Batch Loss:1.2415674924850464\n",
            "Epoch:3, Batch:150, Batch Loss:1.1320712566375732\n",
            "Epoch:3, Batch:200, Batch Loss:1.376259684562683\n",
            "Epoch:3, Batch:250, Batch Loss:1.355959177017212\n",
            "Epoch:3, Batch:300, Batch Loss:1.8227674961090088\n",
            "Epoch:3, Batch:350, Batch Loss:1.8800582885742188\n",
            "Epoch:3, Batch:400, Batch Loss:2.563555955886841\n",
            "Epoch:3, Batch:450, Batch Loss:2.767937183380127\n",
            "Epoch:3, Batch:500, Batch Loss:2.241222858428955\n",
            "Epoch:3, Batch:550, Batch Loss:1.8359427452087402\n",
            "Epoch:3, Batch:600, Batch Loss:1.9792654514312744\n",
            "Epoch:3, Batch:650, Batch Loss:2.2279348373413086\n",
            "Epoch: 04 | Time: 4m 58s\n",
            "\tTrain Loss: 1.810 | Train PPL:   6.108\n",
            "\t Val. Loss: 4.251 |  Val. PPL:  70.152\n",
            "Epoch:4, Batch:0, Batch Loss:2.2677392959594727\n",
            "Epoch:4, Batch:50, Batch Loss:1.4467945098876953\n",
            "Epoch:4, Batch:100, Batch Loss:1.140117883682251\n",
            "Epoch:4, Batch:150, Batch Loss:1.1380703449249268\n",
            "Epoch:4, Batch:200, Batch Loss:1.1952240467071533\n",
            "Epoch:4, Batch:250, Batch Loss:1.355540156364441\n",
            "Epoch:4, Batch:300, Batch Loss:1.1573301553726196\n",
            "Epoch:4, Batch:350, Batch Loss:1.566257119178772\n",
            "Epoch:4, Batch:400, Batch Loss:2.487806797027588\n",
            "Epoch:4, Batch:450, Batch Loss:2.3070895671844482\n",
            "Epoch:4, Batch:500, Batch Loss:2.252377986907959\n",
            "Epoch:4, Batch:550, Batch Loss:1.7339907884597778\n",
            "Epoch:4, Batch:600, Batch Loss:1.6164132356643677\n",
            "Epoch:4, Batch:650, Batch Loss:2.0527775287628174\n",
            "Epoch: 05 | Time: 4m 58s\n",
            "\tTrain Loss: 1.586 | Train PPL:   4.884\n",
            "\t Val. Loss: 4.190 |  Val. PPL:  66.032\n",
            "Epoch:5, Batch:0, Batch Loss:1.9769697189331055\n",
            "Epoch:5, Batch:50, Batch Loss:0.7615132331848145\n",
            "Epoch:5, Batch:100, Batch Loss:0.8702134490013123\n",
            "Epoch:5, Batch:150, Batch Loss:1.0037847757339478\n",
            "Epoch:5, Batch:200, Batch Loss:1.347808837890625\n",
            "Epoch:5, Batch:250, Batch Loss:1.1536601781845093\n",
            "Epoch:5, Batch:300, Batch Loss:1.0861315727233887\n",
            "Epoch:5, Batch:350, Batch Loss:1.699628233909607\n",
            "Epoch:5, Batch:400, Batch Loss:1.9233434200286865\n",
            "Epoch:5, Batch:450, Batch Loss:1.8546222448349\n",
            "Epoch:5, Batch:500, Batch Loss:2.1102144718170166\n",
            "Epoch:5, Batch:550, Batch Loss:1.3659780025482178\n",
            "Epoch:5, Batch:600, Batch Loss:1.604648470878601\n",
            "Epoch:5, Batch:650, Batch Loss:1.8499828577041626\n",
            "Epoch: 06 | Time: 4m 58s\n",
            "\tTrain Loss: 1.429 | Train PPL:   4.173\n",
            "\t Val. Loss: 4.113 |  Val. PPL:  61.126\n",
            "Epoch:6, Batch:0, Batch Loss:1.7258237600326538\n",
            "Epoch:6, Batch:50, Batch Loss:1.1421946287155151\n",
            "Epoch:6, Batch:100, Batch Loss:0.8891315460205078\n",
            "Epoch:6, Batch:150, Batch Loss:0.9325821995735168\n",
            "Epoch:6, Batch:200, Batch Loss:0.8687563538551331\n",
            "Epoch:6, Batch:250, Batch Loss:0.7886340618133545\n",
            "Epoch:6, Batch:300, Batch Loss:0.7570194005966187\n",
            "Epoch:6, Batch:350, Batch Loss:1.3265877962112427\n",
            "Epoch:6, Batch:400, Batch Loss:1.4866920709609985\n",
            "Epoch:6, Batch:450, Batch Loss:1.8199435472488403\n",
            "Epoch:6, Batch:500, Batch Loss:1.472286343574524\n",
            "Epoch:6, Batch:550, Batch Loss:1.5079381465911865\n",
            "Epoch:6, Batch:600, Batch Loss:1.6400490999221802\n",
            "Epoch:6, Batch:650, Batch Loss:1.4090790748596191\n",
            "Epoch: 07 | Time: 4m 58s\n",
            "\tTrain Loss: 1.291 | Train PPL:   3.637\n",
            "\t Val. Loss: 4.109 |  Val. PPL:  60.877\n",
            "Epoch:7, Batch:0, Batch Loss:1.6593550443649292\n",
            "Epoch:7, Batch:50, Batch Loss:0.7252001762390137\n",
            "Epoch:7, Batch:100, Batch Loss:0.7846435308456421\n",
            "Epoch:7, Batch:150, Batch Loss:1.167967438697815\n",
            "Epoch:7, Batch:200, Batch Loss:0.8063840270042419\n",
            "Epoch:7, Batch:250, Batch Loss:0.7023472785949707\n",
            "Epoch:7, Batch:300, Batch Loss:1.050270676612854\n",
            "Epoch:7, Batch:350, Batch Loss:1.3982828855514526\n",
            "Epoch:7, Batch:400, Batch Loss:1.581662654876709\n",
            "Epoch:7, Batch:450, Batch Loss:1.5476206541061401\n",
            "Epoch:7, Batch:500, Batch Loss:1.5096107721328735\n",
            "Epoch:7, Batch:550, Batch Loss:1.2730463743209839\n",
            "Epoch:7, Batch:600, Batch Loss:1.3741259574890137\n",
            "Epoch:7, Batch:650, Batch Loss:1.4898957014083862\n",
            "Epoch: 08 | Time: 4m 58s\n",
            "\tTrain Loss: 1.175 | Train PPL:   3.238\n",
            "\t Val. Loss: 4.091 |  Val. PPL:  59.777\n",
            "Epoch:8, Batch:0, Batch Loss:1.300904631614685\n",
            "Epoch:8, Batch:50, Batch Loss:0.9832943081855774\n",
            "Epoch:8, Batch:100, Batch Loss:0.943349301815033\n",
            "Epoch:8, Batch:150, Batch Loss:0.9520811438560486\n",
            "Epoch:8, Batch:200, Batch Loss:0.8236932158470154\n",
            "Epoch:8, Batch:250, Batch Loss:0.6676162481307983\n",
            "Epoch:8, Batch:300, Batch Loss:0.8327018618583679\n",
            "Epoch:8, Batch:350, Batch Loss:1.1269896030426025\n",
            "Epoch:8, Batch:400, Batch Loss:1.6920032501220703\n",
            "Epoch:8, Batch:450, Batch Loss:1.6734983921051025\n",
            "Epoch:8, Batch:500, Batch Loss:1.3444257974624634\n",
            "Epoch:8, Batch:550, Batch Loss:1.2885793447494507\n",
            "Epoch:8, Batch:600, Batch Loss:1.190172791481018\n",
            "Epoch:8, Batch:650, Batch Loss:1.7609913349151611\n",
            "Epoch: 09 | Time: 5m 0s\n",
            "\tTrain Loss: 1.103 | Train PPL:   3.012\n",
            "\t Val. Loss: 4.073 |  Val. PPL:  58.708\n",
            "Epoch:9, Batch:0, Batch Loss:1.2343037128448486\n",
            "Epoch:9, Batch:50, Batch Loss:0.5703470706939697\n",
            "Epoch:9, Batch:100, Batch Loss:0.7955746650695801\n",
            "Epoch:9, Batch:150, Batch Loss:0.8539703488349915\n",
            "Epoch:9, Batch:200, Batch Loss:0.9703150987625122\n",
            "Epoch:9, Batch:250, Batch Loss:0.788995623588562\n",
            "Epoch:9, Batch:300, Batch Loss:0.7987088561058044\n",
            "Epoch:9, Batch:350, Batch Loss:1.010988712310791\n",
            "Epoch:9, Batch:400, Batch Loss:1.3756606578826904\n",
            "Epoch:9, Batch:450, Batch Loss:1.2108094692230225\n",
            "Epoch:9, Batch:500, Batch Loss:1.4048765897750854\n",
            "Epoch:9, Batch:550, Batch Loss:1.1449211835861206\n",
            "Epoch:9, Batch:600, Batch Loss:1.1733298301696777\n",
            "Epoch:9, Batch:650, Batch Loss:1.2970492839813232\n",
            "Epoch: 10 | Time: 5m 1s\n",
            "\tTrain Loss: 1.021 | Train PPL:   2.776\n",
            "\t Val. Loss: 4.102 |  Val. PPL:  60.444\n"
          ],
          "name": "stdout"
        }
      ]
    },
    {
      "cell_type": "markdown",
      "metadata": {
        "id": "ztR5mNm8EzFn"
      },
      "source": [
        "Finally, we test the model on the test set using these \"best\" parameters."
      ]
    },
    {
      "cell_type": "code",
      "metadata": {
        "id": "xaJo3X9aEzFn",
        "colab": {
          "base_uri": "https://localhost:8080/"
        },
        "outputId": "be04a19d-b2a4-401e-fd2b-5f60f18f50d7"
      },
      "source": [
        "model.load_state_dict(torch.load('tut2-model.pt'))\n",
        "\n",
        "test_loss = evaluate(model, valid_iterator, criterion)\n",
        "\n",
        "print(f'| Test Loss: {test_loss:.3f} | Test PPL: {math.exp(test_loss):7.3f} |')"
      ],
      "execution_count": 93,
      "outputs": [
        {
          "output_type": "stream",
          "text": [
            "| Test Loss: 4.073 | Test PPL:  58.708 |\n"
          ],
          "name": "stdout"
        }
      ]
    },
    {
      "cell_type": "code",
      "metadata": {
        "id": "pW404Va2wWBn"
      },
      "source": [
        "## we need to predict answer"
      ],
      "execution_count": null,
      "outputs": []
    }
  ]
}