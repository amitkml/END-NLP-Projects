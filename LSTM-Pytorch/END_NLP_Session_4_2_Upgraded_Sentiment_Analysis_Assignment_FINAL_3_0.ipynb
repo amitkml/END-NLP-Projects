{
  "nbformat": 4,
  "nbformat_minor": 0,
  "metadata": {
    "accelerator": "GPU",
    "colab": {
      "name": "END_NLP_Session_4_2- Upgraded Sentiment Analysis_Assignment_FINAL_3.0.ipynb",
      "provenance": [],
      "collapsed_sections": [
        "sU3WOjjGPlSD"
      ]
    },
    "kernelspec": {
      "display_name": "Python 3",
      "language": "python",
      "name": "python3"
    },
    "language_info": {
      "codemirror_mode": {
        "name": "ipython",
        "version": 3
      },
      "file_extension": ".py",
      "mimetype": "text/x-python",
      "name": "python",
      "nbconvert_exporter": "python",
      "pygments_lexer": "ipython3",
      "version": "3.7.0"
    }
  },
  "cells": [
    {
      "cell_type": "markdown",
      "metadata": {
        "id": "ScaMk4rOeh63"
      },
      "source": [
        "# 2 - Updated Sentiment Analysis\n",
        "\n",
        "In the previous notebook, we got the fundamentals down for sentiment analysis. In this notebook, we'll actually get decent results.\n",
        "\n",
        "We will use:\n",
        "- packed padded sequences\n",
        "- pre-trained word embeddings\n",
        "- different RNN architecture\n",
        "- bidirectional RNN\n",
        "- multi-layer RNN\n",
        "- regularization\n",
        "- a different optimizer\n",
        "\n",
        "This will allow us to achieve ~84% test accuracy."
      ]
    },
    {
      "cell_type": "markdown",
      "metadata": {
        "id": "xmoNNxOO42Xt"
      },
      "source": [
        "# Change this code in such a way that:\n",
        "\n",
        "- it has 3 LSTM layers\n",
        "- it has used a for loop to do so in the forward function\n",
        "- the dropout value used is 0.2\n",
        "- trained on the text that is reversed (for example \"my name is Rohan\" becomes \"Rohan is name my\"\n",
        "- achieves 87% or more accuracy\n",
        "- once done, share the Github link as well (after training on Google Colab, move the file to GitHub)."
      ]
    },
    {
      "cell_type": "markdown",
      "metadata": {
        "id": "Pq9z2BMueh64"
      },
      "source": [
        "## Preparing Data\n",
        "\n",
        "As before, we'll set the seed, define the `Fields` and get the train/valid/test splits.\n",
        "\n",
        "We'll be using *packed padded sequences*, which will make our RNN only process the non-padded elements of our sequence, and for any padded element the `output` will be a zero tensor. To use packed padded sequences, we have to tell the RNN how long the actual sequences are. We do this by setting `include_lengths = True` for our `TEXT` field. This will cause `batch.text` to now be a tuple with the first element being our sentence (a numericalized tensor that has been padded) and the second element being the actual lengths of our sentences."
      ]
    },
    {
      "cell_type": "code",
      "metadata": {
        "id": "QCaufkVWeh65"
      },
      "source": [
        "import torch\n",
        "from torchtext import data\n",
        "from torchtext import datasets\n",
        "\n",
        "SEED = 1234\n",
        "\n",
        "torch.manual_seed(SEED)\n",
        "torch.backends.cudnn.deterministic = True\n",
        "\n",
        "TEXT = data.Field(tokenize = 'spacy', include_lengths = True)\n",
        "LABEL = data.LabelField(dtype = torch.float)"
      ],
      "execution_count": 1,
      "outputs": []
    },
    {
      "cell_type": "markdown",
      "metadata": {
        "id": "F_u3kdkfeh67"
      },
      "source": [
        "We then load the IMDb dataset."
      ]
    },
    {
      "cell_type": "code",
      "metadata": {
        "id": "gDmtGWVUeh68",
        "colab": {
          "base_uri": "https://localhost:8080/"
        },
        "outputId": "bba74ea4-ddb3-4bb1-8170-c5ea8138a1e4"
      },
      "source": [
        "from torchtext import datasets\n",
        "\n",
        "train_data, test_data = datasets.IMDB.splits(TEXT, LABEL)"
      ],
      "execution_count": 2,
      "outputs": [
        {
          "output_type": "stream",
          "text": [
            "downloading aclImdb_v1.tar.gz\n"
          ],
          "name": "stdout"
        },
        {
          "output_type": "stream",
          "text": [
            "aclImdb_v1.tar.gz: 100%|██████████| 84.1M/84.1M [00:06<00:00, 12.0MB/s]\n"
          ],
          "name": "stderr"
        }
      ]
    },
    {
      "cell_type": "markdown",
      "metadata": {
        "id": "y5OFGBWgeh6-"
      },
      "source": [
        "Then create the validation set from our training set."
      ]
    },
    {
      "cell_type": "code",
      "metadata": {
        "id": "nvch4FyWeh6-"
      },
      "source": [
        "import random\n",
        "\n",
        "train_data, valid_data = train_data.split(random_state = random.seed(SEED))"
      ],
      "execution_count": 3,
      "outputs": []
    },
    {
      "cell_type": "code",
      "metadata": {
        "id": "0-IcQDoLrk89"
      },
      "source": [
        "for i in range(len(train_data)):\n",
        "  vars(train_data.examples[i]).get('text').reverse()"
      ],
      "execution_count": 4,
      "outputs": []
    },
    {
      "cell_type": "code",
      "metadata": {
        "id": "8iFkbYx9vzla"
      },
      "source": [
        "# urls = ['http://ai.stanford.edu/~amaas/data/sentiment/aclImdb_v1.tar.gz']\n",
        "# name = 'imdb'\n",
        "# dirname = 'aclImdb'\n",
        "# fields = [('text', text_field), ('label', label_field)]\n",
        "# examples = []\n",
        "# for label in ['pos', 'neg']:\n",
        "#   for fname in glob.iglob(os.path.join(path, label, '*.txt')):\n",
        "#     with io.open(fname, 'r', encoding=\"utf-8\") as f:\n",
        "#       text = f.readline()\n",
        "#       examples.append(data.Example.fromlist([text, label], fields))"
      ],
      "execution_count": 5,
      "outputs": []
    },
    {
      "cell_type": "markdown",
      "metadata": {
        "id": "dikh7N3Keh7A"
      },
      "source": [
        "Next is the use of pre-trained word embeddings. Now, instead of having our word embeddings initialized randomly, they are initialized with these pre-trained vectors.\n",
        "We get these vectors simply by specifying which vectors we want and passing it as an argument to `build_vocab`. `TorchText` handles downloading the vectors and associating them with the correct words in our vocabulary.\n",
        "\n",
        "Here, we'll be using the `\"glove.6B.100d\" vectors\"`. `glove` is the algorithm used to calculate the vectors, go [here](https://nlp.stanford.edu/projects/glove/) for more. `6B` indicates these vectors were trained on 6 billion tokens and `100d` indicates these vectors are 100-dimensional.\n",
        "\n",
        "You can see the other available vectors [here](https://github.com/pytorch/text/blob/master/torchtext/vocab.py#L113).\n",
        "\n",
        "The theory is that these pre-trained vectors already have words with similar semantic meaning close together in vector space, e.g. \"terrible\", \"awful\", \"dreadful\" are nearby. This gives our embedding layer a good initialization as it does not have to learn these relations from scratch.\n",
        "\n",
        "**Note**: these vectors are about 862MB, so watch out if you have a limited internet connection.\n",
        "\n",
        "By default, TorchText will initialize words in your vocabulary but not in your pre-trained embeddings to zero. We don't want this, and instead initialize them randomly by setting `unk_init` to `torch.Tensor.normal_`. This will now initialize those words via a Gaussian distribution."
      ]
    },
    {
      "cell_type": "code",
      "metadata": {
        "id": "64ogvZ2Heh7B",
        "colab": {
          "base_uri": "https://localhost:8080/"
        },
        "outputId": "eff4b68f-cba4-420e-c342-c227b9230c3b"
      },
      "source": [
        "MAX_VOCAB_SIZE = 25_000\n",
        "\n",
        "TEXT.build_vocab(train_data, \n",
        "                 max_size = MAX_VOCAB_SIZE, \n",
        "                 vectors = \"glove.6B.100d\", \n",
        "                 unk_init = torch.Tensor.normal_)\n",
        "\n",
        "LABEL.build_vocab(train_data)"
      ],
      "execution_count": 6,
      "outputs": [
        {
          "output_type": "stream",
          "text": [
            ".vector_cache/glove.6B.zip: 862MB [06:31, 2.20MB/s]                          \n",
            " 99%|█████████▉| 397959/400000 [00:17<00:00, 22775.09it/s]"
          ],
          "name": "stderr"
        }
      ]
    },
    {
      "cell_type": "code",
      "metadata": {
        "id": "D4R3gEJCR9VY"
      },
      "source": [
        "# MAX_VOCAB_SIZE = 25_000\n",
        "\n",
        "# TEXT.build_vocab(train_data, \n",
        "#                  max_size = MAX_VOCAB_SIZE, \n",
        "#                  vectors = \"glove.6B.200d\", \n",
        "#                  unk_init = torch.Tensor.normal_)\n",
        "\n",
        "# LABEL.build_vocab(train_data)"
      ],
      "execution_count": 7,
      "outputs": []
    },
    {
      "cell_type": "markdown",
      "metadata": {
        "id": "3apbbtw4eh7D"
      },
      "source": [
        "As before, we create the iterators, placing the tensors on the GPU if one is available.\n",
        "\n",
        "Another thing for packed padded sequences all of the tensors within a batch need to be sorted by their lengths. This is handled in the iterator by setting `sort_within_batch = True`."
      ]
    },
    {
      "cell_type": "code",
      "metadata": {
        "id": "xOVVGBlGeh7D"
      },
      "source": [
        "# BATCH_SIZE = 32\n",
        "BATCH_SIZE = 64\n",
        "\n",
        "device = torch.device('cuda' if torch.cuda.is_available() else 'cpu')\n",
        "\n",
        "train_iterator, valid_iterator, test_iterator = data.BucketIterator.splits(\n",
        "    (train_data, valid_data, test_data), \n",
        "    batch_size = BATCH_SIZE,\n",
        "    sort_within_batch = True,\n",
        "    device = device)"
      ],
      "execution_count": 8,
      "outputs": []
    },
    {
      "cell_type": "markdown",
      "metadata": {
        "id": "Tvd1CYz0eh7G"
      },
      "source": [
        "## Build the Model\n",
        "\n",
        "The model features the most drastic changes.\n",
        "\n",
        "### Different RNN Architecture\n",
        "\n",
        "We'll be using a different RNN architecture called a Long Short-Term Memory (LSTM). Why is an LSTM better than a standard RNN? Standard RNNs suffer from the [vanishing gradient problem](https://en.wikipedia.org/wiki/Vanishing_gradient_problem). LSTMs overcome this by having an extra recurrent state called a _cell_, $c$ - which can be thought of as the \"memory\" of the LSTM - and the use use multiple _gates_ which control the flow of information into and out of the memory. For more information, go [here](https://colah.github.io/posts/2015-08-Understanding-LSTMs/). We can simply think of the LSTM as a function of $x_t$, $h_t$ and $c_t$, instead of just $x_t$ and $h_t$.\n",
        "\n",
        "$$(h_t, c_t) = \\text{LSTM}(x_t, h_t, c_t)$$\n",
        "\n",
        "Thus, the model using an LSTM looks something like (with the embedding layers omitted):\n",
        "\n",
        "![](https://github.com/bentrevett/pytorch-sentiment-analysis/blob/master/assets/sentiment2.png?raw=1)\n",
        "\n",
        "The initial cell state, $c_0$, like the initial hidden state is initialized to a tensor of all zeros. The sentiment prediction is still, however, only made using the final hidden state, not the final cell state, i.e. $\\hat{y}=f(h_T)$.\n",
        "\n",
        "### Bidirectional RNN\n",
        "\n",
        "The concept behind a bidirectional RNN is simple. As well as having an RNN processing the words in the sentence from the first to the last (a forward RNN), we have a second RNN processing the words in the sentence from the **last to the first** (a backward RNN). At time step $t$, the forward RNN is processing word $x_t$, and the backward RNN is processing word $x_{T-t+1}$. \n",
        "\n",
        "In PyTorch, the hidden state (and cell state) tensors returned by the forward and backward RNNs are stacked on top of each other in a single tensor. \n",
        "\n",
        "We make our sentiment prediction using a concatenation of the last hidden state from the forward RNN (obtained from final word of the sentence), $h_T^\\rightarrow$, and the last hidden state from the backward RNN (obtained from the first word of the sentence), $h_T^\\leftarrow$, i.e. $\\hat{y}=f(h_T^\\rightarrow, h_T^\\leftarrow)$   \n",
        "\n",
        "The image below shows a bi-directional RNN, with the forward RNN in orange, the backward RNN in green and the linear layer in silver.  \n",
        "\n",
        "![](https://github.com/bentrevett/pytorch-sentiment-analysis/blob/master/assets/sentiment3.png?raw=1)\n",
        "\n",
        "### Multi-layer RNN\n",
        "\n",
        "Multi-layer RNNs (also called *deep RNNs*) are another simple concept. The idea is that we add additional RNNs on top of the initial standard RNN, where each RNN added is another *layer*. The hidden state output by the first (bottom) RNN at time-step $t$ will be the input to the RNN above it at time step $t$. The prediction is then made from the final hidden state of the final (highest) layer.\n",
        "\n",
        "The image below shows a multi-layer unidirectional RNN, where the layer number is given as a superscript. Also note that each layer needs their own initial hidden state, $h_0^L$.\n",
        "\n",
        "![](https://github.com/bentrevett/pytorch-sentiment-analysis/blob/master/assets/sentiment4.png?raw=1)\n",
        "\n",
        "### Regularization\n",
        "\n",
        "Although we've added improvements to our model, each one adds additional parameters. Without going into overfitting into too much detail, the more parameters you have in in your model, the higher the probability that your model will overfit (memorize the training data, causing  a low training error but high validation/testing error, i.e. poor generalization to new, unseen examples). To combat this, we use regularization. More specifically, we use a method of regularization called *dropout*. Dropout works by randomly *dropping out* (setting to 0) neurons in a layer during a forward pass. The probability that each neuron is dropped out is set by a hyperparameter and each neuron with dropout applied is considered indepenently. One theory about why dropout works is that a model with parameters dropped out can be seen as a \"weaker\" (less parameters) model. The predictions from all these \"weaker\" models (one for each forward pass) get averaged together withinin the parameters of the model. Thus, your one model can be thought of as an ensemble of weaker models, none of which are over-parameterized and thus should not overfit.\n",
        "\n",
        "### Implementation Details\n",
        "\n",
        "Another addition to this model is that we are not going to learn the embedding for the `<pad>` token. This is because we want to explitictly tell our model that padding tokens are irrelevant to determining the sentiment of a sentence. This means the embedding for the pad token will remain at what it is initialized to (we initialize it to all zeros later). We do this by passing the index of our pad token as the `padding_idx` argument to the `nn.Embedding` layer.\n",
        "\n",
        "To use an LSTM instead of the standard RNN, we use `nn.LSTM` instead of `nn.RNN`. Also, note that the LSTM returns the `output` and a tuple of the final `hidden` state and the final `cell` state, whereas the standard RNN only returned the `output` and final `hidden` state. \n",
        "\n",
        "As the final hidden state of our LSTM has both a forward and a backward component, which will be concatenated together, the size of the input to the `nn.Linear` layer is twice that of the hidden dimension size.\n",
        "\n",
        "Implementing bidirectionality and adding additional layers are done by passing values for the `num_layers` and `bidirectional` arguments for the RNN/LSTM. \n",
        "\n",
        "Dropout is implemented by initializing an `nn.Dropout` layer (the argument is the probability of dropping out each neuron) and using it within the `forward` method after each layer we want to apply dropout to. **Note**: never use dropout on the input or output layers (`text` or `fc` in this case), you only ever want to use dropout on intermediate layers. The LSTM has a `dropout` argument which adds dropout on the connections between hidden states in one layer to hidden states in the next layer. \n",
        "\n",
        "As we are passing the lengths of our sentences to be able to use packed padded sequences, we have to add a second argument, `text_lengths`, to `forward`. \n",
        "\n",
        "Before we pass our embeddings to the RNN, we need to pack them, which we do with `nn.utils.rnn.packed_padded_sequence`. This will cause our RNN to only process the non-padded elements of our sequence. The RNN will then return `packed_output` (a packed sequence) as well as the `hidden` and `cell` states (both of which are tensors). Without packed padded sequences, `hidden` and `cell` are tensors from the last element in the sequence, which will most probably be a pad token, however when using packed padded sequences they are both from the last non-padded element in the sequence. \n",
        "\n",
        "We then unpack the output sequence, with `nn.utils.rnn.pad_packed_sequence`, to transform it from a packed sequence to a tensor. The elements of `output` from padding tokens will be zero tensors (tensors where every element is zero). Usually, we only have to unpack output if we are going to use it later on in the model. Although we aren't in this case, we still unpack the sequence just to show how it is done.\n",
        "\n",
        "The final hidden state, `hidden`, has a shape of _**[num layers * num directions, batch size, hid dim]**_. These are ordered: **[forward_layer_0, backward_layer_0, forward_layer_1, backward_layer 1, ..., forward_layer_n, backward_layer n]**. As we want the final (top) layer forward and backward hidden states, we get the top two hidden layers from the first dimension, `hidden[-2,:,:]` and `hidden[-1,:,:]`, and concatenate them together before passing them to the linear layer (after applying dropout). "
      ]
    },
    {
      "cell_type": "markdown",
      "metadata": {
        "id": "sU3WOjjGPlSD"
      },
      "source": [
        "# **This is the original implementation of the LSTM Network**"
      ]
    },
    {
      "cell_type": "code",
      "metadata": {
        "id": "sqAy5-2veh7G"
      },
      "source": [
        "# import torch.nn as nn\n",
        "\n",
        "# class RNN(nn.Module):\n",
        "#     def __init__(self, vocab_size, embedding_dim, hidden_dim, output_dim, n_layers, \n",
        "#                  bidirectional, dropout, pad_idx):\n",
        "        \n",
        "#         super().__init__()\n",
        "        \n",
        "#         self.embedding = nn.Embedding(vocab_size, embedding_dim, padding_idx = pad_idx)\n",
        "        \n",
        "#         self.rnn = nn.LSTM(embedding_dim, \n",
        "#                            hidden_dim, \n",
        "#                            num_layers=n_layers, \n",
        "#                            bidirectional=bidirectional, \n",
        "#                            dropout=dropout)\n",
        "        \n",
        "#         self.fc = nn.Linear(hidden_dim * 2, output_dim)\n",
        "        \n",
        "#         self.dropout = nn.Dropout(dropout)\n",
        "        \n",
        "#     def forward(self, text, text_lengths):\n",
        "        \n",
        "#         #text = [sent len, batch size]\n",
        "        \n",
        "#         embedded = self.dropout(self.embedding(text))\n",
        "        \n",
        "#         #embedded = [sent len, batch size, emb dim]\n",
        "        \n",
        "#         #pack sequence\n",
        "#         packed_embedded = nn.utils.rnn.pack_padded_sequence(embedded, text_lengths)\n",
        "        \n",
        "#         packed_output, (hidden, cell) = self.rnn(packed_embedded)\n",
        "        \n",
        "#         #unpack sequence\n",
        "#         output, output_lengths = nn.utils.rnn.pad_packed_sequence(packed_output)\n",
        "\n",
        "#         #output = [sent len, batch size, hid dim * num directions]\n",
        "#         #output over padding tokens are zero tensors\n",
        "        \n",
        "#         #hidden = [num layers * num directions, batch size, hid dim]\n",
        "#         #cell = [num layers * num directions, batch size, hid dim]\n",
        "        \n",
        "#         #concat the final forward (hidden[-2,:,:]) and backward (hidden[-1,:,:]) hidden layers\n",
        "#         #and apply dropout\n",
        "        \n",
        "#         hidden = self.dropout(torch.cat((hidden[-2,:,:], hidden[-1,:,:]), dim = 1))\n",
        "#         print(f'hiddenx value: {hidden}')         \n",
        "#         #hidden = [batch size, hid dim * num directions]\n",
        "            \n",
        "#         return self.fc(hidden)"
      ],
      "execution_count": 9,
      "outputs": []
    },
    {
      "cell_type": "code",
      "metadata": {
        "id": "lEBexa02dDVX"
      },
      "source": [
        "    # self.nb_layers_2 = nb_layers_2\n",
        "    # self.lstm_1 = nn.LSTM(self.nb_features, self.hidden_size_1, self.nb_layers_1, dropout=dropout)  \n",
        "    # self.lstm_2 = nn.LSTM(self.hidden_size_1, self.hidden_size_2, self.nb_layers_2, dropout=dropout)\n",
        "    # self.lin = nn.Linear(self.hidden_size_2, 1)"
      ],
      "execution_count": 10,
      "outputs": []
    },
    {
      "cell_type": "markdown",
      "metadata": {
        "id": "Qbz7hD-FPxyh"
      },
      "source": [
        "# **This is the Revised Network**\n",
        "\n",
        "- it has 3 LSTM layers\n",
        "- it has used a for loop to do so in the forward function\n",
        "the dropout value used is 0.2\n",
        "- trained on the text that is reversed (for example \"my name is Rohan\" becomes \"Rohan is name my\"\n",
        "- achieves 87% or more accuracy"
      ]
    },
    {
      "cell_type": "markdown",
      "metadata": {
        "id": "PQdPnG2IiFbB"
      },
      "source": [
        "![LSTM](https://blog.floydhub.com/content/images/2019/06/Slide19.JPG)\n",
        "\n",
        "Reference https://blog.floydhub.com/long-short-term-memory-from-zero-to-hero-with-pytorch/"
      ]
    },
    {
      "cell_type": "markdown",
      "metadata": {
        "id": "W3zWXOYCPI_b"
      },
      "source": [
        "We can emulate  LSTM and LSTMCell (one by another), the reason for having them separate is efficiency.\n",
        "\n",
        "**LSTMCell is a cell that takes arguments**:\n",
        "- Input of shape batch × input dimension;\n",
        "- A tuple of LSTM hidden states of shape batch x hidden dimensions.\n",
        "- It is a straightforward implementation of the equations.\n",
        "\n",
        "**LSTM is a layer applying an LSTM cell (or multiple LSTM cells) in a \"for loop\", but the loop is heavily optimized using cuDNN. Its input is**\n",
        "\n",
        "\n",
        "- A three-dimensional tensor of inputs of shape batch × input length × input dimension;\n",
        "- Optionally, an initial state of the LSTM, i.e., a tuple of hidden states of shape batch × hidden dim (or tuple of such tuples if the LSTM is bidirectional)\n",
        "\n",
        "This is being taken from https://stackoverflow.com/questions/57048120/pytorch-lstm-vs-lstmcell"
      ]
    },
    {
      "cell_type": "markdown",
      "metadata": {
        "id": "AexDARmJyocP"
      },
      "source": [
        "LSTM in its core, preserves information from inputs that has already passed through it using the hidden state.\n",
        "\n",
        "**Unidirectional LSTM only preserves information of the past because the only inputs it has seen are from the past.**\n",
        "\n",
        "**Using bidirectional will run your inputs in two ways, one from past to future and one from future to past and what differs this approach from unidirectional is that in the LSTM that runs backwards you preserve information from the future and using the two hidden states combined you are able in any point in time to preserve information from both past and future.**\n",
        "\n",
        "  What they are suited for is a very complicated question but BiLSTMs show very good results as they can understand context better, I will try to explain through an example.\n",
        "\n",
        "  Lets say we try to predict the next word in a sentence, on a high level what a unidirectional LSTM will see is\n",
        "\n",
        "  The boys went to ....\n",
        "\n",
        "  And will try to predict the next word only by this context, with bidirectional LSTM you will be able to see information further down the road for example\n",
        "\n",
        "  Forward LSTM:\n",
        "\n",
        "  The boys went to ...\n",
        "\n",
        "  Backward LSTM:\n",
        "\n",
        "  ... and then they got out of the pool\n",
        "\n",
        "  You can see that using the information from the future it could be easier for the network to understand what the next word is."
      ]
    },
    {
      "cell_type": "markdown",
      "metadata": {
        "id": "wOZr0o971hic"
      },
      "source": [
        "https://medium.com/@galhever/sentiment-analysis-with-pytorch-part-4-lstm-bilstm-model-84447f6c4525"
      ]
    },
    {
      "cell_type": "code",
      "metadata": {
        "id": "WyIn3SZjeLOe"
      },
      "source": [
        "import torch.nn as nn\n",
        "import torch.nn.functional as F"
      ],
      "execution_count": 11,
      "outputs": []
    },
    {
      "cell_type": "code",
      "metadata": {
        "id": "x2fD3ToOYiL3"
      },
      "source": [
        "class RNN(nn.Module):\n",
        "    def __init__(self, vocab_size, embedding_dim, hidden_dim, output_dim, n_layers, \n",
        "                 bidirectional, dropout, pad_idx,nadd_layers=2):\n",
        "        \n",
        "        super().__init__()\n",
        "\n",
        "        self.addl_layer_list = [nn.ModuleList([nn.LSTM(hidden_dim,hidden_dim,num_layers=1,bidirectional=False,dropout=dropout), \n",
        "                                               nn.LSTM(hidden_dim,hidden_dim,num_layers=1,bidirectional=False,dropout=dropout)])]\n",
        "        self.embedding = nn.Embedding(vocab_size, embedding_dim, padding_idx = pad_idx)\n",
        "        self.nlayers = nadd_layers\n",
        "\n",
        "        # self.layers = nn.ModuleList([nn.Linear(in_f, out_f) for in_f, out_f in zip(sizes, sizes[1:])])\n",
        "\n",
        "        # for layer in range(self.nlayers):\n",
        "        #   layer\n",
        "        self.rnn1 = nn.LSTM(embedding_dim, \n",
        "                           hidden_dim, \n",
        "                           num_layers=1, \n",
        "                           bidirectional=False , \n",
        "                           dropout=dropout\n",
        "                            )\n",
        "        self.addl_layers = nn.ModuleList(self.addl_layer_list)\n",
        "        self.fc1 = nn.Linear(hidden_dim*2, 64)\n",
        "        # self.fc1 = nn.Linear(hidden_dim, 64)\n",
        "        self.fc2 = nn.Linear(64, 1)\n",
        "        self.dropout = nn.Dropout(dropout)\n",
        "        \n",
        "    def forward(self, text, text_lengths):\n",
        "\n",
        "      #text = [sent len, batch size] https://stackoverflow.com/questions/49224413/difference-between-1-lstm-with-num-layers-2-and-2-lstms-in-pytorch\n",
        "      # print(f\"Text Value:{text}\")\n",
        "      # print(f\"text_lengths Value:{text_lengths}\")\n",
        "      embedded = self.dropout(self.embedding(text))\n",
        "      # print(f\"embedded Value:{embedded}\")\n",
        "      #pack sequence\n",
        "      packed_embedded = nn.utils.rnn.pack_padded_sequence(embedded, text_lengths)\n",
        "      # print(f\"packed_embedded Value:{packed_embedded}\")\n",
        "      packed_output, (hidden, cell) = self.rnn1(packed_embedded)\n",
        "      hidden_final = hidden\n",
        "      hidden_set = True\n",
        "      hidden_final_pre = hidden\n",
        "      for layer in range(self.nlayers):\n",
        "        packed_output1, (hidden1, cell1) = self.addl_layers[0][layer](packed_output,(hidden, cell))\n",
        "        packed_output = packed_output1\n",
        "        hidden = hidden1\n",
        "        cell = cell1\n",
        "        if hidden_set:\n",
        "          hidden_final = hidden1\n",
        "          hidden_set = False\n",
        "        \n",
        "      hidden = self.dropout(torch.cat((hidden1[-1,:,:], hidden_final[-1,:,:]), dim = 1))\n",
        "      # hidden1 = self.dropout(hidden_final[-1,:,:])\n",
        "      # return self.fc2(self.dropout(self.fc1(hidden1)))\n",
        "      return self.fc2(self.fc1(hidden))\n",
        "      # return self.fc3(hidden1))"
      ],
      "execution_count": 13,
      "outputs": []
    },
    {
      "cell_type": "code",
      "metadata": {
        "colab": {
          "base_uri": "https://localhost:8080/"
        },
        "id": "rv7QbDYKYJRP",
        "outputId": "21517643-89a6-48ab-e98d-0544556aaece"
      },
      "source": [
        "import torch\n",
        "a = torch.range(1, 16)\n",
        "\n",
        "a = a.view(4, 4)\n",
        "a"
      ],
      "execution_count": 14,
      "outputs": [
        {
          "output_type": "stream",
          "text": [
            "/usr/local/lib/python3.6/dist-packages/ipykernel_launcher.py:2: UserWarning: torch.range is deprecated and will be removed in a future release because its behavior is inconsistent with Python's range builtin. Instead, use torch.arange, which produces values in [start, end).\n",
            "  \n"
          ],
          "name": "stderr"
        },
        {
          "output_type": "execute_result",
          "data": {
            "text/plain": [
              "tensor([[ 1.,  2.,  3.,  4.],\n",
              "        [ 5.,  6.,  7.,  8.],\n",
              "        [ 9., 10., 11., 12.],\n",
              "        [13., 14., 15., 16.]])"
            ]
          },
          "metadata": {
            "tags": []
          },
          "execution_count": 14
        }
      ]
    },
    {
      "cell_type": "markdown",
      "metadata": {
        "id": "L8etNbzpeh7J"
      },
      "source": [
        "Like before, we'll create an instance of our RNN class, with the new parameters and arguments for the number of layers, bidirectionality and dropout probability.\n",
        "\n",
        "To ensure the pre-trained vectors can be loaded into the model, the `EMBEDDING_DIM` must be equal to that of the pre-trained GloVe vectors loaded earlier.\n",
        "\n",
        "We get our pad token index from the vocabulary, getting the actual string representing the pad token from the field's `pad_token` attribute, which is `<pad>` by default."
      ]
    },
    {
      "cell_type": "code",
      "metadata": {
        "colab": {
          "base_uri": "https://localhost:8080/"
        },
        "id": "eLbFsoubeh7J",
        "outputId": "678311ae-fe48-467d-87bf-a04aae746665"
      },
      "source": [
        "INPUT_DIM = len(TEXT.vocab)\n",
        "EMBEDDING_DIM = 100\n",
        "HIDDEN_DIM = 512\n",
        "OUTPUT_DIM = 1\n",
        "N_LAYERS = 3\n",
        "BIDIRECTIONAL = False\n",
        "DROPOUT = 0.2\n",
        "PAD_IDX = TEXT.vocab.stoi[TEXT.pad_token]\n",
        "\n",
        "model = RNN(INPUT_DIM, \n",
        "            EMBEDDING_DIM, \n",
        "            HIDDEN_DIM, \n",
        "            OUTPUT_DIM, \n",
        "            N_LAYERS, \n",
        "            BIDIRECTIONAL, \n",
        "            DROPOUT, \n",
        "            PAD_IDX)"
      ],
      "execution_count": 15,
      "outputs": [
        {
          "output_type": "stream",
          "text": [
            "/usr/local/lib/python3.6/dist-packages/torch/nn/modules/rnn.py:61: UserWarning: dropout option adds dropout after all but last recurrent layer, so non-zero dropout expects num_layers greater than 1, but got dropout=0.2 and num_layers=1\n",
            "  \"num_layers={}\".format(dropout, num_layers))\n"
          ],
          "name": "stderr"
        }
      ]
    },
    {
      "cell_type": "code",
      "metadata": {
        "colab": {
          "base_uri": "https://localhost:8080/"
        },
        "id": "_Q2m8Vp72-ET",
        "outputId": "93cfeacb-1616-4539-db49-5f7a956e3fd4"
      },
      "source": [
        "print(model.addl_layers[0][1])"
      ],
      "execution_count": 16,
      "outputs": [
        {
          "output_type": "stream",
          "text": [
            "LSTM(512, 512, dropout=0.2)\n"
          ],
          "name": "stdout"
        }
      ]
    },
    {
      "cell_type": "markdown",
      "metadata": {
        "id": "Rr-5tBa7eh7M"
      },
      "source": [
        "We'll print out the number of parameters in our model. \n",
        "\n",
        "Notice how we have almost twice as many parameters as before!"
      ]
    },
    {
      "cell_type": "code",
      "metadata": {
        "colab": {
          "base_uri": "https://localhost:8080/"
        },
        "id": "p--5oHUKeh7M",
        "outputId": "6f061005-1bb0-413f-d56b-d6abdd46c8f4"
      },
      "source": [
        "def count_parameters(model):\n",
        "    return sum(p.numel() for p in model.parameters() if p.requires_grad)\n",
        "\n",
        "print(f'The model has {count_parameters(model):,} trainable parameters')"
      ],
      "execution_count": 17,
      "outputs": [
        {
          "output_type": "stream",
          "text": [
            "The model has 8,025,833 trainable parameters\n"
          ],
          "name": "stdout"
        }
      ]
    },
    {
      "cell_type": "markdown",
      "metadata": {
        "id": "GscIO75Oeh7P"
      },
      "source": [
        "The final addition is copying the pre-trained word embeddings we loaded earlier into the `embedding` layer of our model.\n",
        "\n",
        "We retrieve the embeddings from the field's vocab, and check they're the correct size, _**[vocab size, embedding dim]**_ "
      ]
    },
    {
      "cell_type": "code",
      "metadata": {
        "colab": {
          "base_uri": "https://localhost:8080/"
        },
        "id": "-gfE2EdHeh7P",
        "outputId": "19394764-7f8c-464c-af68-091bd34509cd"
      },
      "source": [
        "pretrained_embeddings = TEXT.vocab.vectors\n",
        "\n",
        "print(pretrained_embeddings.shape)"
      ],
      "execution_count": 18,
      "outputs": [
        {
          "output_type": "stream",
          "text": [
            "torch.Size([25002, 100])\n"
          ],
          "name": "stdout"
        }
      ]
    },
    {
      "cell_type": "markdown",
      "metadata": {
        "id": "zhDm4pMPeh7R"
      },
      "source": [
        "We then replace the initial weights of the `embedding` layer with the pre-trained embeddings.\n",
        "\n",
        "**Note**: this should always be done on the `weight.data` and not the `weight`!"
      ]
    },
    {
      "cell_type": "code",
      "metadata": {
        "colab": {
          "base_uri": "https://localhost:8080/"
        },
        "id": "XWe4hSJeeh7R",
        "outputId": "f8d41a25-a92d-444b-d026-4bef0f42005c"
      },
      "source": [
        "model.embedding.weight.data.copy_(pretrained_embeddings)"
      ],
      "execution_count": 19,
      "outputs": [
        {
          "output_type": "execute_result",
          "data": {
            "text/plain": [
              "tensor([[-0.1117, -0.4966,  0.1631,  ...,  1.2647, -0.2753, -0.1325],\n",
              "        [-0.8555, -0.7208,  1.3755,  ...,  0.0825, -1.1314,  0.3997],\n",
              "        [-0.0382, -0.2449,  0.7281,  ..., -0.1459,  0.8278,  0.2706],\n",
              "        ...,\n",
              "        [-0.3970,  0.4024,  1.0612,  ..., -0.0136, -0.3363,  0.6442],\n",
              "        [-0.5197,  1.0395,  0.2092,  ..., -0.8857, -0.2294,  0.1244],\n",
              "        [ 0.0057, -0.0707, -0.0804,  ..., -0.3292, -0.0130,  0.0716]])"
            ]
          },
          "metadata": {
            "tags": []
          },
          "execution_count": 19
        }
      ]
    },
    {
      "cell_type": "markdown",
      "metadata": {
        "id": "xQ6MaQxCeh7T"
      },
      "source": [
        "As our `<unk>` and `<pad>` token aren't in the pre-trained vocabulary they have been initialized using `unk_init` (an $\\mathcal{N}(0,1)$ distribution) when building our vocab. It is preferable to initialize them both to all zeros to explicitly tell our model that, initially, they are irrelevant for determining sentiment. \n",
        "\n",
        "We do this by manually setting their row in the embedding weights matrix to zeros. We get their row by finding the index of the tokens, which we have already done for the padding index.\n",
        "\n",
        "**Note**: like initializing the embeddings, this should be done on the `weight.data` and not the `weight`!"
      ]
    },
    {
      "cell_type": "code",
      "metadata": {
        "colab": {
          "base_uri": "https://localhost:8080/"
        },
        "id": "tkYQqi1Feh7U",
        "outputId": "ba817849-72b6-4c34-dcee-aa549ceed083"
      },
      "source": [
        "UNK_IDX = TEXT.vocab.stoi[TEXT.unk_token]\n",
        "\n",
        "model.embedding.weight.data[UNK_IDX] = torch.zeros(EMBEDDING_DIM)\n",
        "model.embedding.weight.data[PAD_IDX] = torch.zeros(EMBEDDING_DIM)\n",
        "\n",
        "print(model.embedding.weight.data)"
      ],
      "execution_count": 20,
      "outputs": [
        {
          "output_type": "stream",
          "text": [
            "tensor([[ 0.0000,  0.0000,  0.0000,  ...,  0.0000,  0.0000,  0.0000],\n",
            "        [ 0.0000,  0.0000,  0.0000,  ...,  0.0000,  0.0000,  0.0000],\n",
            "        [-0.0382, -0.2449,  0.7281,  ..., -0.1459,  0.8278,  0.2706],\n",
            "        ...,\n",
            "        [-0.3970,  0.4024,  1.0612,  ..., -0.0136, -0.3363,  0.6442],\n",
            "        [-0.5197,  1.0395,  0.2092,  ..., -0.8857, -0.2294,  0.1244],\n",
            "        [ 0.0057, -0.0707, -0.0804,  ..., -0.3292, -0.0130,  0.0716]])\n"
          ],
          "name": "stdout"
        }
      ]
    },
    {
      "cell_type": "markdown",
      "metadata": {
        "id": "ZMYuXtjEeh7X"
      },
      "source": [
        "We can now see the first two rows of the embedding weights matrix have been set to zeros. As we passed the index of the pad token to the `padding_idx` of the embedding layer it will remain zeros throughout training, however the `<unk>` token embedding will be learned."
      ]
    },
    {
      "cell_type": "markdown",
      "metadata": {
        "id": "Izab0Ty7eh7X"
      },
      "source": [
        "## Train the Model"
      ]
    },
    {
      "cell_type": "markdown",
      "metadata": {
        "id": "jlU-XzG5eh7Y"
      },
      "source": [
        "Now to training the model.\n",
        "\n",
        "The only change we'll make here is changing the optimizer from `SGD` to `Adam`. SGD updates all parameters with the same learning rate and choosing this learning rate can be tricky. `Adam` adapts the learning rate for each parameter, giving parameters that are updated more frequently lower learning rates and parameters that are updated infrequently higher learning rates. More information about `Adam` (and other optimizers) can be found [here](http://ruder.io/optimizing-gradient-descent/index.html).\n",
        "\n",
        "To change `SGD` to `Adam`, we simply change `optim.SGD` to `optim.Adam`, also note how we do not have to provide an initial learning rate for Adam as PyTorch specifies a sensibile default initial learning rate."
      ]
    },
    {
      "cell_type": "code",
      "metadata": {
        "id": "YtGCgbTbeh7Y"
      },
      "source": [
        "import torch.optim as optim\n",
        "from torch.optim.lr_scheduler import ReduceLROnPlateau\n",
        "# lr, num_epochs = 0.001, 3\n",
        "# optimizer = torch.optim.Adam(filter(lambda p: p.requires_grad, model.parameters()), lr=lr)\n",
        "\n",
        "optimizer = optim.Adam(model.parameters())\n",
        "\n",
        "# scheduler = ReduceLROnPlateau(optimizer, 'min', verbose= True,patience=1,cooldown=1)\n",
        "\n",
        "\n"
      ],
      "execution_count": 21,
      "outputs": []
    },
    {
      "cell_type": "markdown",
      "metadata": {
        "id": "egcRiO1Yeh7b"
      },
      "source": [
        "The rest of the steps for training the model are unchanged.\n",
        "\n",
        "We define the criterion and place the model and criterion on the GPU (if available)..."
      ]
    },
    {
      "cell_type": "code",
      "metadata": {
        "id": "skpD5wcmeh7b"
      },
      "source": [
        "criterion = nn.BCEWithLogitsLoss()\n",
        "\n",
        "model = model.to(device)\n",
        "criterion = criterion.to(device)"
      ],
      "execution_count": 22,
      "outputs": []
    },
    {
      "cell_type": "markdown",
      "metadata": {
        "id": "YwrNI2L6eh7d"
      },
      "source": [
        "We implement the function to calculate accuracy..."
      ]
    },
    {
      "cell_type": "code",
      "metadata": {
        "id": "iz_cKsPqeh7d"
      },
      "source": [
        "def binary_accuracy(preds, y):\n",
        "    \"\"\"\n",
        "    Returns accuracy per batch, i.e. if you get 8/10 right, this returns 0.8, NOT 8\n",
        "    \"\"\"\n",
        "\n",
        "    #round predictions to the closest integer\n",
        "    rounded_preds = torch.round(torch.sigmoid(preds))\n",
        "    correct = (rounded_preds == y).float() #convert into float for division \n",
        "    acc = correct.sum() / len(correct)\n",
        "    return acc"
      ],
      "execution_count": 23,
      "outputs": []
    },
    {
      "cell_type": "markdown",
      "metadata": {
        "id": "hmEbK12Seh7f"
      },
      "source": [
        "We define a function for training our model. \n",
        "\n",
        "As we have set `include_lengths = True`, our `batch.text` is now a tuple with the first element being the numericalized tensor and the second element being the actual lengths of each sequence. We separate these into their own variables, `text` and `text_lengths`, before passing them to the model.\n",
        "\n",
        "**Note**: as we are now using dropout, we must remember to use `model.train()` to ensure the dropout is \"turned on\" while training."
      ]
    },
    {
      "cell_type": "code",
      "metadata": {
        "id": "Id7h5GpWeh7f"
      },
      "source": [
        "def train(model, iterator, optimizer, criterion):\n",
        "    \n",
        "    epoch_loss = 0\n",
        "    epoch_acc = 0\n",
        "    \n",
        "    model.train()\n",
        "    \n",
        "    for batch in iterator:\n",
        "        \n",
        "        optimizer.zero_grad()\n",
        "        \n",
        "        text, text_lengths = batch.text\n",
        "        \n",
        "        text_lengths = text_lengths.cpu()\n",
        "        predictions = model(text, text_lengths).squeeze(1)\n",
        "        # predictions = model(text, text_lengths)\n",
        "        # batch.label = batch.label.unsqueeze(1).unsqueeze(1)\n",
        "        loss = criterion(predictions, batch.label)\n",
        "        \n",
        "        acc = binary_accuracy(predictions, batch.label)\n",
        "        \n",
        "        loss.backward()\n",
        "        \n",
        "        optimizer.step()\n",
        "        \n",
        "        epoch_loss += loss.item()\n",
        "        epoch_acc += acc.item()\n",
        "        \n",
        "    return epoch_loss / len(iterator), epoch_acc / len(iterator)"
      ],
      "execution_count": 24,
      "outputs": []
    },
    {
      "cell_type": "markdown",
      "metadata": {
        "id": "W4zPWFOleh7i"
      },
      "source": [
        "Then we define a function for testing our model, again remembering to separate `batch.text`.\n",
        "\n",
        "**Note**: as we are now using dropout, we must remember to use `model.eval()` to ensure the dropout is \"turned off\" while evaluating."
      ]
    },
    {
      "cell_type": "code",
      "metadata": {
        "id": "ATaRWnjYeh7j"
      },
      "source": [
        "def evaluate(model, iterator, criterion):\n",
        "    \n",
        "    epoch_loss = 0\n",
        "    epoch_acc = 0\n",
        "    \n",
        "    model.eval()\n",
        "    \n",
        "    with torch.no_grad():\n",
        "    \n",
        "        for batch in iterator:\n",
        "\n",
        "            text, text_lengths = batch.text\n",
        "            text_lengths = text_lengths.cpu()\n",
        "            \n",
        "            predictions = model(text, text_lengths).squeeze(1)\n",
        "            \n",
        "            \n",
        "            loss = criterion(predictions, batch.label)\n",
        "            \n",
        "            acc = binary_accuracy(predictions, batch.label)\n",
        "\n",
        "            epoch_loss += loss.item()\n",
        "            epoch_acc += acc.item()\n",
        "        \n",
        "    return epoch_loss / len(iterator), epoch_acc / len(iterator)"
      ],
      "execution_count": 25,
      "outputs": []
    },
    {
      "cell_type": "markdown",
      "metadata": {
        "id": "mNJSuzfJeh7m"
      },
      "source": [
        "And also create a nice function to tell us how long our epochs are taking."
      ]
    },
    {
      "cell_type": "code",
      "metadata": {
        "id": "KOBC3CDTeh7m"
      },
      "source": [
        "import time\n",
        "\n",
        "def epoch_time(start_time, end_time):\n",
        "    elapsed_time = end_time - start_time\n",
        "    elapsed_mins = int(elapsed_time / 60)\n",
        "    elapsed_secs = int(elapsed_time - (elapsed_mins * 60))\n",
        "    return elapsed_mins, elapsed_secs"
      ],
      "execution_count": 26,
      "outputs": []
    },
    {
      "cell_type": "markdown",
      "metadata": {
        "id": "Fr80HiisXOdp"
      },
      "source": [
        "### We've finally reached training our model!\n",
        "\n",
        "- Freezing and Unfreezing Embeddings\n",
        "We're going to train our model for 10 epochs. During the first 5 epochs we are going to freeze the weights (parameters) of our embedding layer. For the last 10 epochs we'll allow our embeddings to be trained.\n",
        "\n",
        "- Why would we ever want to do this? Sometimes the pre-trained word embeddings we use will already be good enough and won't need to be fine-tuned with our model. If we keep the embeddings frozen then we don't have to calculate the gradients and update the weights for these parameters, giving us faster training times. This doesn't really apply for the model used here, but we're mainly covering it to show how it's done. Another reason is that if our model has a large amount of parameters it may make training difficult, so by freezing our pre-trained embeddings we reduce the amount of parameters needing to be learned.\n",
        "\n",
        "- To freeze the embedding weights, we set model.embedding.weight.requires_grad to False. This will cause no gradients to be calculated for the weights in the embedding layer, and thus no parameters will be updated when optimizer.step() is called.\n",
        "\n",
        "- Then, during training we check if FREEZE_FOR (which we set to 5) epochs have passed. If they have then we set model.embedding.weight.requires_grad to True, telling PyTorch that we should calculate gradients in the embedding layer and update them with our optimizer."
      ]
    },
    {
      "cell_type": "markdown",
      "metadata": {
        "id": "BN0LkHzJeh7o"
      },
      "source": [
        "Finally, we train our model..."
      ]
    },
    {
      "cell_type": "code",
      "metadata": {
        "id": "LX1oHIzfeh7o",
        "colab": {
          "base_uri": "https://localhost:8080/"
        },
        "outputId": "bd316794-423c-4684-dcf7-5714c82b1b3a"
      },
      "source": [
        "N_EPOCHS = 15\n",
        "# N_EPOCHS = 10\n",
        "FREEZE_FOR = 8\n",
        "\n",
        "best_valid_loss = float('inf')\n",
        "\n",
        "\n",
        "#freeze embeddings\n",
        "model.embedding.weight.requires_grad = unfrozen = True\n",
        "\n",
        "\n",
        "for epoch in range(N_EPOCHS):\n",
        "\n",
        "    start_time = time.time()\n",
        "    \n",
        "    train_loss, train_acc = train(model, train_iterator, optimizer, criterion)\n",
        "    valid_loss, valid_acc = evaluate(model, valid_iterator, criterion)\n",
        "    \n",
        "    end_time = time.time()\n",
        "\n",
        "    epoch_mins, epoch_secs = epoch_time(start_time, end_time)\n",
        "    \n",
        "    if valid_loss < best_valid_loss:\n",
        "        best_valid_loss = valid_loss\n",
        "        torch.save(model.state_dict(), 'tut2-model.pt')\n",
        "    \n",
        "    # scheduler.step(valid_loss) ## added for ReduceLROnPlateau\n",
        "    # scheduler.step()\n",
        "\n",
        "    if (epoch + 1) >= FREEZE_FOR:\n",
        "      #unfreeze embeddings\n",
        "      model.embedding.weight.requires_grad = unfrozen = False\n",
        "\n",
        "    # print(f'Epoch: {epoch+1:02} | Epoch Time: {epoch_mins}m {epoch_secs}s')\n",
        "    print(f'Epoch: {epoch+1:02} | Epoch Time: {epoch_mins}m {epoch_secs}s | Frozen? {not unfrozen}')\n",
        "    print(f'\\tTrain Loss: {train_loss:.3f} | Train Acc: {train_acc*100:.2f}%')\n",
        "    print(f'\\t Val. Loss: {valid_loss:.3f} |  Val. Acc: {valid_acc*100:.2f}%')"
      ],
      "execution_count": 27,
      "outputs": [
        {
          "output_type": "stream",
          "text": [
            "\r 99%|█████████▉| 397959/400000 [00:29<00:00, 22775.09it/s]"
          ],
          "name": "stderr"
        },
        {
          "output_type": "stream",
          "text": [
            "Epoch: 01 | Epoch Time: 0m 56s | Frozen? False\n",
            "\tTrain Loss: 0.686 | Train Acc: 54.61%\n",
            "\t Val. Loss: 0.704 |  Val. Acc: 50.90%\n",
            "Epoch: 02 | Epoch Time: 0m 56s | Frozen? False\n",
            "\tTrain Loss: 0.667 | Train Acc: 58.63%\n",
            "\t Val. Loss: 0.667 |  Val. Acc: 56.88%\n",
            "Epoch: 03 | Epoch Time: 0m 56s | Frozen? False\n",
            "\tTrain Loss: 0.652 | Train Acc: 61.95%\n",
            "\t Val. Loss: 0.591 |  Val. Acc: 67.92%\n",
            "Epoch: 04 | Epoch Time: 0m 56s | Frozen? False\n",
            "\tTrain Loss: 0.506 | Train Acc: 76.12%\n",
            "\t Val. Loss: 0.435 |  Val. Acc: 81.54%\n",
            "Epoch: 05 | Epoch Time: 0m 56s | Frozen? False\n",
            "\tTrain Loss: 0.320 | Train Acc: 86.81%\n",
            "\t Val. Loss: 0.328 |  Val. Acc: 86.04%\n",
            "Epoch: 06 | Epoch Time: 0m 56s | Frozen? False\n",
            "\tTrain Loss: 0.224 | Train Acc: 91.55%\n",
            "\t Val. Loss: 0.302 |  Val. Acc: 87.81%\n",
            "Epoch: 07 | Epoch Time: 0m 56s | Frozen? False\n",
            "\tTrain Loss: 0.167 | Train Acc: 93.90%\n",
            "\t Val. Loss: 0.334 |  Val. Acc: 86.83%\n",
            "Epoch: 08 | Epoch Time: 0m 56s | Frozen? True\n",
            "\tTrain Loss: 0.125 | Train Acc: 95.50%\n",
            "\t Val. Loss: 0.444 |  Val. Acc: 84.50%\n",
            "Epoch: 09 | Epoch Time: 0m 55s | Frozen? True\n",
            "\tTrain Loss: 0.091 | Train Acc: 96.95%\n",
            "\t Val. Loss: 0.358 |  Val. Acc: 87.76%\n",
            "Epoch: 10 | Epoch Time: 0m 55s | Frozen? True\n",
            "\tTrain Loss: 0.103 | Train Acc: 96.48%\n",
            "\t Val. Loss: 0.458 |  Val. Acc: 86.24%\n",
            "Epoch: 11 | Epoch Time: 0m 56s | Frozen? True\n",
            "\tTrain Loss: 0.096 | Train Acc: 96.82%\n",
            "\t Val. Loss: 0.352 |  Val. Acc: 87.64%\n",
            "Epoch: 12 | Epoch Time: 0m 55s | Frozen? True\n",
            "\tTrain Loss: 0.082 | Train Acc: 97.29%\n",
            "\t Val. Loss: 0.378 |  Val. Acc: 88.13%\n",
            "Epoch: 13 | Epoch Time: 0m 55s | Frozen? True\n",
            "\tTrain Loss: 0.079 | Train Acc: 97.29%\n",
            "\t Val. Loss: 0.381 |  Val. Acc: 87.86%\n",
            "Epoch: 14 | Epoch Time: 0m 55s | Frozen? True\n",
            "\tTrain Loss: 0.073 | Train Acc: 97.57%\n",
            "\t Val. Loss: 0.404 |  Val. Acc: 88.11%\n",
            "Epoch: 15 | Epoch Time: 0m 55s | Frozen? True\n",
            "\tTrain Loss: 0.067 | Train Acc: 97.71%\n",
            "\t Val. Loss: 0.467 |  Val. Acc: 87.76%\n"
          ],
          "name": "stdout"
        }
      ]
    },
    {
      "cell_type": "code",
      "metadata": {
        "id": "pyoWk5oAeh7q",
        "colab": {
          "base_uri": "https://localhost:8080/"
        },
        "outputId": "6608ee16-53f1-47ac-c5d6-9989305369ed"
      },
      "source": [
        "model.load_state_dict(torch.load('tut2-model.pt'))\n",
        "\n",
        "test_loss, test_acc = evaluate(model, test_iterator, criterion)\n",
        "\n",
        "print(f'Test Loss: {test_loss:.3f} | Test Acc: {test_acc*100:.2f}%') \n",
        "\n",
        "# Test Loss: 0.387 | Test Acc: 84.44%\n",
        "# Test Loss: 0.331 | Test Acc: 86.65% - Here i have increased the dim size from 256 to 512\n",
        "# Test Loss: 0.347 | Test Acc: 85.51% -- Here I have changed the LR to reduce in every 3 epoch\n",
        "# Test Loss: 0.337 | Test Acc: 86.55% -- Here I have increased the batch size 64 to 128\n",
        "# Test Loss: 0.321 | Test Acc: 86.02%  -- Here I have self.fc2(self.dropout(self.fc1(hidden1)))\n",
        "# Test Loss: 0.337 | Test Acc: 85.87% -- Here I have increased gloved to 200d\n",
        "# Test Loss: 0.337 | Test Acc: 85.53% -- hidden = self.dropout(torch.cat((hidden[-1,:,:], hidden_final[-1,:,:]), dim = 1))\n",
        "# Test Loss: 0.341 | Test Acc: 85.91%  -- hidden = self.dropout(torch.cat((hidden1[-1,:,:], hidden_final[-1,:,:]), dim = 1))\n",
        "# Test Loss: 0.337 | Test Acc: 85.53%\n",
        "# Test Loss: 0.332 | Test Acc: 86.17%  -- Freeze and unfreeze\n",
        "# Test Loss: 0.332 | Test Acc: 85.82%  -- hidden = self.dropout(torch.cat((hidden1[-1,:,:], hidden_final[-1,:,:]), dim = 1)) , Unfreeze and Freeze"
      ],
      "execution_count": 28,
      "outputs": [
        {
          "output_type": "stream",
          "text": [
            "Test Loss: 0.332 | Test Acc: 85.82%\n"
          ],
          "name": "stdout"
        }
      ]
    },
    {
      "cell_type": "code",
      "metadata": {
        "id": "oJ71cK3X89YW"
      },
      "source": [
        "for i in range(len(train_data)):\n",
        "  vars(train_data.examples[i]).get('text').reverse()"
      ],
      "execution_count": 29,
      "outputs": []
    },
    {
      "cell_type": "code",
      "metadata": {
        "id": "747Uo8WP9E19"
      },
      "source": [
        "MAX_VOCAB_SIZE = 25_000\n",
        "\n",
        "TEXT.build_vocab(train_data, \n",
        "                 max_size = MAX_VOCAB_SIZE, \n",
        "                 vectors = \"glove.6B.100d\", \n",
        "                 unk_init = torch.Tensor.normal_)\n",
        "\n",
        "LABEL.build_vocab(train_data)\n"
      ],
      "execution_count": 30,
      "outputs": []
    },
    {
      "cell_type": "code",
      "metadata": {
        "id": "1xvXCdHE9PuH"
      },
      "source": [
        "# BATCH_SIZE = 32\n",
        "BATCH_SIZE = 64\n",
        "\n",
        "device = torch.device('cuda' if torch.cuda.is_available() else 'cpu')\n",
        "\n",
        "train_iterator, valid_iterator, test_iterator = data.BucketIterator.splits(\n",
        "    (train_data, valid_data, test_data), \n",
        "    batch_size = BATCH_SIZE,\n",
        "    sort_within_batch = True,\n",
        "    device = device)"
      ],
      "execution_count": 31,
      "outputs": []
    },
    {
      "cell_type": "code",
      "metadata": {
        "colab": {
          "base_uri": "https://localhost:8080/"
        },
        "id": "nPPSXIa89JD9",
        "outputId": "d3970cf0-8737-404b-b61a-a5e2743e7334"
      },
      "source": [
        "model.load_state_dict(torch.load('tut2-model.pt'))"
      ],
      "execution_count": 32,
      "outputs": [
        {
          "output_type": "execute_result",
          "data": {
            "text/plain": [
              "<All keys matched successfully>"
            ]
          },
          "metadata": {
            "tags": []
          },
          "execution_count": 32
        }
      ]
    },
    {
      "cell_type": "code",
      "metadata": {
        "colab": {
          "base_uri": "https://localhost:8080/"
        },
        "id": "-uaU9FhW40vo",
        "outputId": "3fb37a7f-813a-403c-c55a-b71f47864139"
      },
      "source": [
        "N_EPOCHS = 5\n",
        "# N_EPOCHS = 10\n",
        "FREEZE_FOR = 5\n",
        "\n",
        "best_valid_loss = float('inf')\n",
        "\n",
        "\n",
        "#freeze embeddings\n",
        "model.embedding.weight.requires_grad = unfrozen = True\n",
        "\n",
        "\n",
        "for epoch in range(N_EPOCHS):\n",
        "\n",
        "    start_time = time.time()\n",
        "    \n",
        "    train_loss, train_acc = train(model, train_iterator, optimizer, criterion)\n",
        "    valid_loss, valid_acc = evaluate(model, valid_iterator, criterion)\n",
        "    \n",
        "    end_time = time.time()\n",
        "\n",
        "    epoch_mins, epoch_secs = epoch_time(start_time, end_time)\n",
        "    \n",
        "    if valid_loss < best_valid_loss:\n",
        "        best_valid_loss = valid_loss\n",
        "        torch.save(model.state_dict(), 'tut2-model.pt')\n",
        "    \n",
        "    # scheduler.step(valid_loss) ## added for ReduceLROnPlateau\n",
        "    # scheduler.step()\n",
        "\n",
        "    if (epoch + 1) >= FREEZE_FOR:\n",
        "      #unfreeze embeddings\n",
        "      model.embedding.weight.requires_grad = unfrozen = True\n",
        "\n",
        "    # print(f'Epoch: {epoch+1:02} | Epoch Time: {epoch_mins}m {epoch_secs}s')\n",
        "    print(f'Epoch: {epoch+1:02} | Epoch Time: {epoch_mins}m {epoch_secs}s | Frozen? {not unfrozen}')\n",
        "    print(f'\\tTrain Loss: {train_loss:.3f} | Train Acc: {train_acc*100:.2f}%')\n",
        "    print(f'\\t Val. Loss: {valid_loss:.3f} |  Val. Acc: {valid_acc*100:.2f}%')"
      ],
      "execution_count": 33,
      "outputs": [
        {
          "output_type": "stream",
          "text": [
            "Epoch: 01 | Epoch Time: 0m 56s | Frozen? False\n",
            "\tTrain Loss: 0.204 | Train Acc: 92.47%\n",
            "\t Val. Loss: 0.316 |  Val. Acc: 88.21%\n",
            "Epoch: 02 | Epoch Time: 0m 56s | Frozen? False\n",
            "\tTrain Loss: 0.138 | Train Acc: 95.24%\n",
            "\t Val. Loss: 0.320 |  Val. Acc: 89.39%\n",
            "Epoch: 03 | Epoch Time: 0m 56s | Frozen? False\n",
            "\tTrain Loss: 0.092 | Train Acc: 97.09%\n",
            "\t Val. Loss: 0.323 |  Val. Acc: 89.03%\n",
            "Epoch: 04 | Epoch Time: 0m 56s | Frozen? False\n",
            "\tTrain Loss: 0.072 | Train Acc: 97.80%\n",
            "\t Val. Loss: 0.350 |  Val. Acc: 87.93%\n",
            "Epoch: 05 | Epoch Time: 0m 56s | Frozen? False\n",
            "\tTrain Loss: 0.055 | Train Acc: 98.44%\n",
            "\t Val. Loss: 0.379 |  Val. Acc: 89.15%\n"
          ],
          "name": "stdout"
        }
      ]
    },
    {
      "cell_type": "markdown",
      "metadata": {
        "id": "8KtsT44Eeh7q"
      },
      "source": [
        "# ...and get our new test accuracy! Test Acc: 86.58%"
      ]
    },
    {
      "cell_type": "code",
      "metadata": {
        "colab": {
          "base_uri": "https://localhost:8080/"
        },
        "id": "42XC8utL5Auu",
        "outputId": "0265f702-49d9-400c-ed07-ce45bb46e7cf"
      },
      "source": [
        "model.load_state_dict(torch.load('tut2-model.pt'))\n",
        "\n",
        "test_loss, test_acc = evaluate(model, test_iterator, criterion)\n",
        "\n",
        "print(f'Test Loss: {test_loss:.3f} | Test Acc: {test_acc*100:.2f}%') "
      ],
      "execution_count": 34,
      "outputs": [
        {
          "output_type": "stream",
          "text": [
            "Test Loss: 0.365 | Test Acc: 85.60%\n"
          ],
          "name": "stdout"
        }
      ]
    },
    {
      "cell_type": "markdown",
      "metadata": {
        "id": "JZoOxabZeh7s"
      },
      "source": [
        "## User Input\n",
        "\n",
        "We can now use our model to predict the sentiment of any sentence we give it. As it has been trained on movie reviews, the sentences provided should also be movie reviews.\n",
        "\n",
        "When using a model for inference it should always be in evaluation mode. If this tutorial is followed step-by-step then it should already be in evaluation mode (from doing `evaluate` on the test set), however we explicitly set it to avoid any risk.\n",
        "\n",
        "Our `predict_sentiment` function does a few things:\n",
        "- sets the model to evaluation mode\n",
        "- tokenizes the sentence, i.e. splits it from a raw string into a list of tokens\n",
        "- indexes the tokens by converting them into their integer representation from our vocabulary\n",
        "- gets the length of our sequence\n",
        "- converts the indexes, which are a Python list into a PyTorch tensor\n",
        "- add a batch dimension by `unsqueeze`ing \n",
        "- converts the length into a tensor\n",
        "- squashes the output prediction from a real number between 0 and 1 with the `sigmoid` function\n",
        "- converts the tensor holding a single value into an integer with the `item()` method\n",
        "\n",
        "We are expecting reviews with a negative sentiment to return a value close to 0 and positive reviews to return a value close to 1."
      ]
    },
    {
      "cell_type": "code",
      "metadata": {
        "id": "V0tK8BDeeh7s"
      },
      "source": [
        "import spacy\n",
        "nlp = spacy.load('en')\n",
        "\n",
        "def predict_sentiment(model, sentence):\n",
        "    model.eval()\n",
        "    tokenized = [tok.text for tok in nlp.tokenizer(sentence)]\n",
        "    indexed = [TEXT.vocab.stoi[t] for t in tokenized]\n",
        "    length = [len(indexed)]\n",
        "    tensor = torch.LongTensor(indexed).to(device)\n",
        "    tensor = tensor.unsqueeze(1)\n",
        "    length_tensor = torch.LongTensor(length)\n",
        "    prediction = torch.sigmoid(model(tensor, length_tensor))\n",
        "    return prediction.item()"
      ],
      "execution_count": 35,
      "outputs": []
    },
    {
      "cell_type": "markdown",
      "metadata": {
        "id": "JN6cbUVXeh7u"
      },
      "source": [
        "An example negative review..."
      ]
    },
    {
      "cell_type": "code",
      "metadata": {
        "colab": {
          "base_uri": "https://localhost:8080/"
        },
        "id": "KbvnJnvieh7u",
        "outputId": "42739691-9600-41d7-9a72-39a2803fbacc"
      },
      "source": [
        "predict_sentiment(model, \"This film is terrible\") ## 0.007817435078322887 , 0.3604690432548523\n"
      ],
      "execution_count": 36,
      "outputs": [
        {
          "output_type": "execute_result",
          "data": {
            "text/plain": [
              "0.3669956624507904"
            ]
          },
          "metadata": {
            "tags": []
          },
          "execution_count": 36
        }
      ]
    },
    {
      "cell_type": "markdown",
      "metadata": {
        "id": "4oCNhmXSeh7x"
      },
      "source": [
        "An example positive review..."
      ]
    },
    {
      "cell_type": "code",
      "metadata": {
        "id": "-UnRQMyYeh7x",
        "colab": {
          "base_uri": "https://localhost:8080/"
        },
        "outputId": "b30346c3-693e-4467-e951-976ad98d9bc0"
      },
      "source": [
        "predict_sentiment(model, \"This film is great\")  # 0.9828412532806396, 0.8111292719841003"
      ],
      "execution_count": 37,
      "outputs": [
        {
          "output_type": "execute_result",
          "data": {
            "text/plain": [
              "0.9859290719032288"
            ]
          },
          "metadata": {
            "tags": []
          },
          "execution_count": 37
        }
      ]
    },
    {
      "cell_type": "markdown",
      "metadata": {
        "id": "O5r9Ol6-eh71"
      },
      "source": [
        "## Next Steps\n",
        "\n",
        "We've now built a decent sentiment analysis model for movie reviews! In the next notebook we'll implement a model that gets comparable accuracy with far fewer parameters and trains much, much faster."
      ]
    }
  ]
}