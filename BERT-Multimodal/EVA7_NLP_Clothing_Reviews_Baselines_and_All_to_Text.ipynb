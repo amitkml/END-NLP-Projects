{
  "nbformat": 4,
  "nbformat_minor": 0,
  "metadata": {
    "colab": {
      "name": "EVA7_NLP_Clothing Reviews - Baselines and All-to-Text.ipynb",
      "provenance": [],
      "collapsed_sections": []
    },
    "kernelspec": {
      "name": "python3",
      "display_name": "Python 3"
    },
    "accelerator": "GPU",
    "widgets": {
      "application/vnd.jupyter.widget-state+json": {
        "5a2ca771fb704796931badc250a4710b": {
          "model_module": "@jupyter-widgets/controls",
          "model_name": "HBoxModel",
          "model_module_version": "1.5.0",
          "state": {
            "_view_name": "HBoxView",
            "_dom_classes": [],
            "_model_name": "HBoxModel",
            "_view_module": "@jupyter-widgets/controls",
            "_model_module_version": "1.5.0",
            "_view_count": null,
            "_view_module_version": "1.5.0",
            "box_style": "",
            "layout": "IPY_MODEL_df618c712e244395827b15606012166f",
            "_model_module": "@jupyter-widgets/controls",
            "children": [
              "IPY_MODEL_4ed4b857438c4c1a8aee41706bbd0e1c",
              "IPY_MODEL_efc77f65f1ec4551bf2c0d8c4d22f856"
            ]
          }
        },
        "df618c712e244395827b15606012166f": {
          "model_module": "@jupyter-widgets/base",
          "model_name": "LayoutModel",
          "model_module_version": "1.2.0",
          "state": {
            "_view_name": "LayoutView",
            "grid_template_rows": null,
            "right": null,
            "justify_content": null,
            "_view_module": "@jupyter-widgets/base",
            "overflow": null,
            "_model_module_version": "1.2.0",
            "_view_count": null,
            "flex_flow": null,
            "width": null,
            "min_width": null,
            "border": null,
            "align_items": null,
            "bottom": null,
            "_model_module": "@jupyter-widgets/base",
            "top": null,
            "grid_column": null,
            "overflow_y": null,
            "overflow_x": null,
            "grid_auto_flow": null,
            "grid_area": null,
            "grid_template_columns": null,
            "flex": null,
            "_model_name": "LayoutModel",
            "justify_items": null,
            "grid_row": null,
            "max_height": null,
            "align_content": null,
            "visibility": null,
            "align_self": null,
            "height": null,
            "min_height": null,
            "padding": null,
            "grid_auto_rows": null,
            "grid_gap": null,
            "max_width": null,
            "order": null,
            "_view_module_version": "1.2.0",
            "grid_template_areas": null,
            "object_position": null,
            "object_fit": null,
            "grid_auto_columns": null,
            "margin": null,
            "display": null,
            "left": null
          }
        },
        "4ed4b857438c4c1a8aee41706bbd0e1c": {
          "model_module": "@jupyter-widgets/controls",
          "model_name": "FloatProgressModel",
          "model_module_version": "1.5.0",
          "state": {
            "_view_name": "ProgressView",
            "style": "IPY_MODEL_204654825aa2475197970a2a2f53d743",
            "_dom_classes": [],
            "description": "Downloading: 100%",
            "_model_name": "FloatProgressModel",
            "bar_style": "success",
            "max": 231508,
            "_view_module": "@jupyter-widgets/controls",
            "_model_module_version": "1.5.0",
            "value": 231508,
            "_view_count": null,
            "_view_module_version": "1.5.0",
            "orientation": "horizontal",
            "min": 0,
            "description_tooltip": null,
            "_model_module": "@jupyter-widgets/controls",
            "layout": "IPY_MODEL_168c276a350748d1b265573e7b7a9a35"
          }
        },
        "efc77f65f1ec4551bf2c0d8c4d22f856": {
          "model_module": "@jupyter-widgets/controls",
          "model_name": "HTMLModel",
          "model_module_version": "1.5.0",
          "state": {
            "_view_name": "HTMLView",
            "style": "IPY_MODEL_cda92370c26d4ebd950ba3a02d3d27cd",
            "_dom_classes": [],
            "description": "",
            "_model_name": "HTMLModel",
            "placeholder": "​",
            "_view_module": "@jupyter-widgets/controls",
            "_model_module_version": "1.5.0",
            "value": " 232k/232k [00:01&lt;00:00, 127kB/s]",
            "_view_count": null,
            "_view_module_version": "1.5.0",
            "description_tooltip": null,
            "_model_module": "@jupyter-widgets/controls",
            "layout": "IPY_MODEL_09cf8b8fdee14578bf22cb3593e95f9d"
          }
        },
        "204654825aa2475197970a2a2f53d743": {
          "model_module": "@jupyter-widgets/controls",
          "model_name": "ProgressStyleModel",
          "model_module_version": "1.5.0",
          "state": {
            "_view_name": "StyleView",
            "_model_name": "ProgressStyleModel",
            "description_width": "initial",
            "_view_module": "@jupyter-widgets/base",
            "_model_module_version": "1.5.0",
            "_view_count": null,
            "_view_module_version": "1.2.0",
            "bar_color": null,
            "_model_module": "@jupyter-widgets/controls"
          }
        },
        "168c276a350748d1b265573e7b7a9a35": {
          "model_module": "@jupyter-widgets/base",
          "model_name": "LayoutModel",
          "model_module_version": "1.2.0",
          "state": {
            "_view_name": "LayoutView",
            "grid_template_rows": null,
            "right": null,
            "justify_content": null,
            "_view_module": "@jupyter-widgets/base",
            "overflow": null,
            "_model_module_version": "1.2.0",
            "_view_count": null,
            "flex_flow": null,
            "width": null,
            "min_width": null,
            "border": null,
            "align_items": null,
            "bottom": null,
            "_model_module": "@jupyter-widgets/base",
            "top": null,
            "grid_column": null,
            "overflow_y": null,
            "overflow_x": null,
            "grid_auto_flow": null,
            "grid_area": null,
            "grid_template_columns": null,
            "flex": null,
            "_model_name": "LayoutModel",
            "justify_items": null,
            "grid_row": null,
            "max_height": null,
            "align_content": null,
            "visibility": null,
            "align_self": null,
            "height": null,
            "min_height": null,
            "padding": null,
            "grid_auto_rows": null,
            "grid_gap": null,
            "max_width": null,
            "order": null,
            "_view_module_version": "1.2.0",
            "grid_template_areas": null,
            "object_position": null,
            "object_fit": null,
            "grid_auto_columns": null,
            "margin": null,
            "display": null,
            "left": null
          }
        },
        "cda92370c26d4ebd950ba3a02d3d27cd": {
          "model_module": "@jupyter-widgets/controls",
          "model_name": "DescriptionStyleModel",
          "model_module_version": "1.5.0",
          "state": {
            "_view_name": "StyleView",
            "_model_name": "DescriptionStyleModel",
            "description_width": "",
            "_view_module": "@jupyter-widgets/base",
            "_model_module_version": "1.5.0",
            "_view_count": null,
            "_view_module_version": "1.2.0",
            "_model_module": "@jupyter-widgets/controls"
          }
        },
        "09cf8b8fdee14578bf22cb3593e95f9d": {
          "model_module": "@jupyter-widgets/base",
          "model_name": "LayoutModel",
          "model_module_version": "1.2.0",
          "state": {
            "_view_name": "LayoutView",
            "grid_template_rows": null,
            "right": null,
            "justify_content": null,
            "_view_module": "@jupyter-widgets/base",
            "overflow": null,
            "_model_module_version": "1.2.0",
            "_view_count": null,
            "flex_flow": null,
            "width": null,
            "min_width": null,
            "border": null,
            "align_items": null,
            "bottom": null,
            "_model_module": "@jupyter-widgets/base",
            "top": null,
            "grid_column": null,
            "overflow_y": null,
            "overflow_x": null,
            "grid_auto_flow": null,
            "grid_area": null,
            "grid_template_columns": null,
            "flex": null,
            "_model_name": "LayoutModel",
            "justify_items": null,
            "grid_row": null,
            "max_height": null,
            "align_content": null,
            "visibility": null,
            "align_self": null,
            "height": null,
            "min_height": null,
            "padding": null,
            "grid_auto_rows": null,
            "grid_gap": null,
            "max_width": null,
            "order": null,
            "_view_module_version": "1.2.0",
            "grid_template_areas": null,
            "object_position": null,
            "object_fit": null,
            "grid_auto_columns": null,
            "margin": null,
            "display": null,
            "left": null
          }
        },
        "1476269b58db4d02a4ad4b102df71452": {
          "model_module": "@jupyter-widgets/controls",
          "model_name": "HBoxModel",
          "model_module_version": "1.5.0",
          "state": {
            "_view_name": "HBoxView",
            "_dom_classes": [],
            "_model_name": "HBoxModel",
            "_view_module": "@jupyter-widgets/controls",
            "_model_module_version": "1.5.0",
            "_view_count": null,
            "_view_module_version": "1.5.0",
            "box_style": "",
            "layout": "IPY_MODEL_5293024422ea4142b4ddb5e9ec3cda9e",
            "_model_module": "@jupyter-widgets/controls",
            "children": [
              "IPY_MODEL_55cf76835a224bf68093abfc965c6e31",
              "IPY_MODEL_78f866cdb077443589a07041e6ef056c"
            ]
          }
        },
        "5293024422ea4142b4ddb5e9ec3cda9e": {
          "model_module": "@jupyter-widgets/base",
          "model_name": "LayoutModel",
          "model_module_version": "1.2.0",
          "state": {
            "_view_name": "LayoutView",
            "grid_template_rows": null,
            "right": null,
            "justify_content": null,
            "_view_module": "@jupyter-widgets/base",
            "overflow": null,
            "_model_module_version": "1.2.0",
            "_view_count": null,
            "flex_flow": null,
            "width": null,
            "min_width": null,
            "border": null,
            "align_items": null,
            "bottom": null,
            "_model_module": "@jupyter-widgets/base",
            "top": null,
            "grid_column": null,
            "overflow_y": null,
            "overflow_x": null,
            "grid_auto_flow": null,
            "grid_area": null,
            "grid_template_columns": null,
            "flex": null,
            "_model_name": "LayoutModel",
            "justify_items": null,
            "grid_row": null,
            "max_height": null,
            "align_content": null,
            "visibility": null,
            "align_self": null,
            "height": null,
            "min_height": null,
            "padding": null,
            "grid_auto_rows": null,
            "grid_gap": null,
            "max_width": null,
            "order": null,
            "_view_module_version": "1.2.0",
            "grid_template_areas": null,
            "object_position": null,
            "object_fit": null,
            "grid_auto_columns": null,
            "margin": null,
            "display": null,
            "left": null
          }
        },
        "55cf76835a224bf68093abfc965c6e31": {
          "model_module": "@jupyter-widgets/controls",
          "model_name": "FloatProgressModel",
          "model_module_version": "1.5.0",
          "state": {
            "_view_name": "ProgressView",
            "style": "IPY_MODEL_3dd5b28334414950a5c3227b59eaea75",
            "_dom_classes": [],
            "description": "Downloading: 100%",
            "_model_name": "FloatProgressModel",
            "bar_style": "success",
            "max": 28,
            "_view_module": "@jupyter-widgets/controls",
            "_model_module_version": "1.5.0",
            "value": 28,
            "_view_count": null,
            "_view_module_version": "1.5.0",
            "orientation": "horizontal",
            "min": 0,
            "description_tooltip": null,
            "_model_module": "@jupyter-widgets/controls",
            "layout": "IPY_MODEL_021122626be74d9095e4eba6c8f4164c"
          }
        },
        "78f866cdb077443589a07041e6ef056c": {
          "model_module": "@jupyter-widgets/controls",
          "model_name": "HTMLModel",
          "model_module_version": "1.5.0",
          "state": {
            "_view_name": "HTMLView",
            "style": "IPY_MODEL_283d262434de482e90f81b4d4408deaa",
            "_dom_classes": [],
            "description": "",
            "_model_name": "HTMLModel",
            "placeholder": "​",
            "_view_module": "@jupyter-widgets/controls",
            "_model_module_version": "1.5.0",
            "value": " 28.0/28.0 [00:00&lt;00:00, 50.0B/s]",
            "_view_count": null,
            "_view_module_version": "1.5.0",
            "description_tooltip": null,
            "_model_module": "@jupyter-widgets/controls",
            "layout": "IPY_MODEL_e5b9956b9c18473a8a046d09e04605fb"
          }
        },
        "3dd5b28334414950a5c3227b59eaea75": {
          "model_module": "@jupyter-widgets/controls",
          "model_name": "ProgressStyleModel",
          "model_module_version": "1.5.0",
          "state": {
            "_view_name": "StyleView",
            "_model_name": "ProgressStyleModel",
            "description_width": "initial",
            "_view_module": "@jupyter-widgets/base",
            "_model_module_version": "1.5.0",
            "_view_count": null,
            "_view_module_version": "1.2.0",
            "bar_color": null,
            "_model_module": "@jupyter-widgets/controls"
          }
        },
        "021122626be74d9095e4eba6c8f4164c": {
          "model_module": "@jupyter-widgets/base",
          "model_name": "LayoutModel",
          "model_module_version": "1.2.0",
          "state": {
            "_view_name": "LayoutView",
            "grid_template_rows": null,
            "right": null,
            "justify_content": null,
            "_view_module": "@jupyter-widgets/base",
            "overflow": null,
            "_model_module_version": "1.2.0",
            "_view_count": null,
            "flex_flow": null,
            "width": null,
            "min_width": null,
            "border": null,
            "align_items": null,
            "bottom": null,
            "_model_module": "@jupyter-widgets/base",
            "top": null,
            "grid_column": null,
            "overflow_y": null,
            "overflow_x": null,
            "grid_auto_flow": null,
            "grid_area": null,
            "grid_template_columns": null,
            "flex": null,
            "_model_name": "LayoutModel",
            "justify_items": null,
            "grid_row": null,
            "max_height": null,
            "align_content": null,
            "visibility": null,
            "align_self": null,
            "height": null,
            "min_height": null,
            "padding": null,
            "grid_auto_rows": null,
            "grid_gap": null,
            "max_width": null,
            "order": null,
            "_view_module_version": "1.2.0",
            "grid_template_areas": null,
            "object_position": null,
            "object_fit": null,
            "grid_auto_columns": null,
            "margin": null,
            "display": null,
            "left": null
          }
        },
        "283d262434de482e90f81b4d4408deaa": {
          "model_module": "@jupyter-widgets/controls",
          "model_name": "DescriptionStyleModel",
          "model_module_version": "1.5.0",
          "state": {
            "_view_name": "StyleView",
            "_model_name": "DescriptionStyleModel",
            "description_width": "",
            "_view_module": "@jupyter-widgets/base",
            "_model_module_version": "1.5.0",
            "_view_count": null,
            "_view_module_version": "1.2.0",
            "_model_module": "@jupyter-widgets/controls"
          }
        },
        "e5b9956b9c18473a8a046d09e04605fb": {
          "model_module": "@jupyter-widgets/base",
          "model_name": "LayoutModel",
          "model_module_version": "1.2.0",
          "state": {
            "_view_name": "LayoutView",
            "grid_template_rows": null,
            "right": null,
            "justify_content": null,
            "_view_module": "@jupyter-widgets/base",
            "overflow": null,
            "_model_module_version": "1.2.0",
            "_view_count": null,
            "flex_flow": null,
            "width": null,
            "min_width": null,
            "border": null,
            "align_items": null,
            "bottom": null,
            "_model_module": "@jupyter-widgets/base",
            "top": null,
            "grid_column": null,
            "overflow_y": null,
            "overflow_x": null,
            "grid_auto_flow": null,
            "grid_area": null,
            "grid_template_columns": null,
            "flex": null,
            "_model_name": "LayoutModel",
            "justify_items": null,
            "grid_row": null,
            "max_height": null,
            "align_content": null,
            "visibility": null,
            "align_self": null,
            "height": null,
            "min_height": null,
            "padding": null,
            "grid_auto_rows": null,
            "grid_gap": null,
            "max_width": null,
            "order": null,
            "_view_module_version": "1.2.0",
            "grid_template_areas": null,
            "object_position": null,
            "object_fit": null,
            "grid_auto_columns": null,
            "margin": null,
            "display": null,
            "left": null
          }
        },
        "6c0660d2f7e14f169f5b293dd25bdb61": {
          "model_module": "@jupyter-widgets/controls",
          "model_name": "HBoxModel",
          "model_module_version": "1.5.0",
          "state": {
            "_view_name": "HBoxView",
            "_dom_classes": [],
            "_model_name": "HBoxModel",
            "_view_module": "@jupyter-widgets/controls",
            "_model_module_version": "1.5.0",
            "_view_count": null,
            "_view_module_version": "1.5.0",
            "box_style": "",
            "layout": "IPY_MODEL_02aeb5e9b17b4b60b1210cc26c46fbd9",
            "_model_module": "@jupyter-widgets/controls",
            "children": [
              "IPY_MODEL_e78c4ad52d65444c9e8bb95ef4dc045e",
              "IPY_MODEL_8f3f97f462604668a6efeb512b996510"
            ]
          }
        },
        "02aeb5e9b17b4b60b1210cc26c46fbd9": {
          "model_module": "@jupyter-widgets/base",
          "model_name": "LayoutModel",
          "model_module_version": "1.2.0",
          "state": {
            "_view_name": "LayoutView",
            "grid_template_rows": null,
            "right": null,
            "justify_content": null,
            "_view_module": "@jupyter-widgets/base",
            "overflow": null,
            "_model_module_version": "1.2.0",
            "_view_count": null,
            "flex_flow": null,
            "width": null,
            "min_width": null,
            "border": null,
            "align_items": null,
            "bottom": null,
            "_model_module": "@jupyter-widgets/base",
            "top": null,
            "grid_column": null,
            "overflow_y": null,
            "overflow_x": null,
            "grid_auto_flow": null,
            "grid_area": null,
            "grid_template_columns": null,
            "flex": null,
            "_model_name": "LayoutModel",
            "justify_items": null,
            "grid_row": null,
            "max_height": null,
            "align_content": null,
            "visibility": null,
            "align_self": null,
            "height": null,
            "min_height": null,
            "padding": null,
            "grid_auto_rows": null,
            "grid_gap": null,
            "max_width": null,
            "order": null,
            "_view_module_version": "1.2.0",
            "grid_template_areas": null,
            "object_position": null,
            "object_fit": null,
            "grid_auto_columns": null,
            "margin": null,
            "display": null,
            "left": null
          }
        },
        "e78c4ad52d65444c9e8bb95ef4dc045e": {
          "model_module": "@jupyter-widgets/controls",
          "model_name": "FloatProgressModel",
          "model_module_version": "1.5.0",
          "state": {
            "_view_name": "ProgressView",
            "style": "IPY_MODEL_5ef82444ee8145278e135cc6dbca17c5",
            "_dom_classes": [],
            "description": "Downloading: 100%",
            "_model_name": "FloatProgressModel",
            "bar_style": "success",
            "max": 466062,
            "_view_module": "@jupyter-widgets/controls",
            "_model_module_version": "1.5.0",
            "value": 466062,
            "_view_count": null,
            "_view_module_version": "1.5.0",
            "orientation": "horizontal",
            "min": 0,
            "description_tooltip": null,
            "_model_module": "@jupyter-widgets/controls",
            "layout": "IPY_MODEL_332a2a05064342b39735f96e25d14b2e"
          }
        },
        "8f3f97f462604668a6efeb512b996510": {
          "model_module": "@jupyter-widgets/controls",
          "model_name": "HTMLModel",
          "model_module_version": "1.5.0",
          "state": {
            "_view_name": "HTMLView",
            "style": "IPY_MODEL_96c9b7c395a64ce6b354db2416284851",
            "_dom_classes": [],
            "description": "",
            "_model_name": "HTMLModel",
            "placeholder": "​",
            "_view_module": "@jupyter-widgets/controls",
            "_model_module_version": "1.5.0",
            "value": " 466k/466k [00:00&lt;00:00, 2.78MB/s]",
            "_view_count": null,
            "_view_module_version": "1.5.0",
            "description_tooltip": null,
            "_model_module": "@jupyter-widgets/controls",
            "layout": "IPY_MODEL_e0e88078dd4f49a9921f77767ce5ae4d"
          }
        },
        "5ef82444ee8145278e135cc6dbca17c5": {
          "model_module": "@jupyter-widgets/controls",
          "model_name": "ProgressStyleModel",
          "model_module_version": "1.5.0",
          "state": {
            "_view_name": "StyleView",
            "_model_name": "ProgressStyleModel",
            "description_width": "initial",
            "_view_module": "@jupyter-widgets/base",
            "_model_module_version": "1.5.0",
            "_view_count": null,
            "_view_module_version": "1.2.0",
            "bar_color": null,
            "_model_module": "@jupyter-widgets/controls"
          }
        },
        "332a2a05064342b39735f96e25d14b2e": {
          "model_module": "@jupyter-widgets/base",
          "model_name": "LayoutModel",
          "model_module_version": "1.2.0",
          "state": {
            "_view_name": "LayoutView",
            "grid_template_rows": null,
            "right": null,
            "justify_content": null,
            "_view_module": "@jupyter-widgets/base",
            "overflow": null,
            "_model_module_version": "1.2.0",
            "_view_count": null,
            "flex_flow": null,
            "width": null,
            "min_width": null,
            "border": null,
            "align_items": null,
            "bottom": null,
            "_model_module": "@jupyter-widgets/base",
            "top": null,
            "grid_column": null,
            "overflow_y": null,
            "overflow_x": null,
            "grid_auto_flow": null,
            "grid_area": null,
            "grid_template_columns": null,
            "flex": null,
            "_model_name": "LayoutModel",
            "justify_items": null,
            "grid_row": null,
            "max_height": null,
            "align_content": null,
            "visibility": null,
            "align_self": null,
            "height": null,
            "min_height": null,
            "padding": null,
            "grid_auto_rows": null,
            "grid_gap": null,
            "max_width": null,
            "order": null,
            "_view_module_version": "1.2.0",
            "grid_template_areas": null,
            "object_position": null,
            "object_fit": null,
            "grid_auto_columns": null,
            "margin": null,
            "display": null,
            "left": null
          }
        },
        "96c9b7c395a64ce6b354db2416284851": {
          "model_module": "@jupyter-widgets/controls",
          "model_name": "DescriptionStyleModel",
          "model_module_version": "1.5.0",
          "state": {
            "_view_name": "StyleView",
            "_model_name": "DescriptionStyleModel",
            "description_width": "",
            "_view_module": "@jupyter-widgets/base",
            "_model_module_version": "1.5.0",
            "_view_count": null,
            "_view_module_version": "1.2.0",
            "_model_module": "@jupyter-widgets/controls"
          }
        },
        "e0e88078dd4f49a9921f77767ce5ae4d": {
          "model_module": "@jupyter-widgets/base",
          "model_name": "LayoutModel",
          "model_module_version": "1.2.0",
          "state": {
            "_view_name": "LayoutView",
            "grid_template_rows": null,
            "right": null,
            "justify_content": null,
            "_view_module": "@jupyter-widgets/base",
            "overflow": null,
            "_model_module_version": "1.2.0",
            "_view_count": null,
            "flex_flow": null,
            "width": null,
            "min_width": null,
            "border": null,
            "align_items": null,
            "bottom": null,
            "_model_module": "@jupyter-widgets/base",
            "top": null,
            "grid_column": null,
            "overflow_y": null,
            "overflow_x": null,
            "grid_auto_flow": null,
            "grid_area": null,
            "grid_template_columns": null,
            "flex": null,
            "_model_name": "LayoutModel",
            "justify_items": null,
            "grid_row": null,
            "max_height": null,
            "align_content": null,
            "visibility": null,
            "align_self": null,
            "height": null,
            "min_height": null,
            "padding": null,
            "grid_auto_rows": null,
            "grid_gap": null,
            "max_width": null,
            "order": null,
            "_view_module_version": "1.2.0",
            "grid_template_areas": null,
            "object_position": null,
            "object_fit": null,
            "grid_auto_columns": null,
            "margin": null,
            "display": null,
            "left": null
          }
        },
        "83b7b13e4933422cb7261d54fc419daf": {
          "model_module": "@jupyter-widgets/controls",
          "model_name": "HBoxModel",
          "model_module_version": "1.5.0",
          "state": {
            "_view_name": "HBoxView",
            "_dom_classes": [],
            "_model_name": "HBoxModel",
            "_view_module": "@jupyter-widgets/controls",
            "_model_module_version": "1.5.0",
            "_view_count": null,
            "_view_module_version": "1.5.0",
            "box_style": "",
            "layout": "IPY_MODEL_2c8c0207d3a4467881f35c2ac2cb16bc",
            "_model_module": "@jupyter-widgets/controls",
            "children": [
              "IPY_MODEL_7d1a94b77e8a4bf68363f44c9faa2734",
              "IPY_MODEL_f2c18e2fc9f24ac9b9424ddb104f7710"
            ]
          }
        },
        "2c8c0207d3a4467881f35c2ac2cb16bc": {
          "model_module": "@jupyter-widgets/base",
          "model_name": "LayoutModel",
          "model_module_version": "1.2.0",
          "state": {
            "_view_name": "LayoutView",
            "grid_template_rows": null,
            "right": null,
            "justify_content": null,
            "_view_module": "@jupyter-widgets/base",
            "overflow": null,
            "_model_module_version": "1.2.0",
            "_view_count": null,
            "flex_flow": null,
            "width": null,
            "min_width": null,
            "border": null,
            "align_items": null,
            "bottom": null,
            "_model_module": "@jupyter-widgets/base",
            "top": null,
            "grid_column": null,
            "overflow_y": null,
            "overflow_x": null,
            "grid_auto_flow": null,
            "grid_area": null,
            "grid_template_columns": null,
            "flex": null,
            "_model_name": "LayoutModel",
            "justify_items": null,
            "grid_row": null,
            "max_height": null,
            "align_content": null,
            "visibility": null,
            "align_self": null,
            "height": null,
            "min_height": null,
            "padding": null,
            "grid_auto_rows": null,
            "grid_gap": null,
            "max_width": null,
            "order": null,
            "_view_module_version": "1.2.0",
            "grid_template_areas": null,
            "object_position": null,
            "object_fit": null,
            "grid_auto_columns": null,
            "margin": null,
            "display": null,
            "left": null
          }
        },
        "7d1a94b77e8a4bf68363f44c9faa2734": {
          "model_module": "@jupyter-widgets/controls",
          "model_name": "FloatProgressModel",
          "model_module_version": "1.5.0",
          "state": {
            "_view_name": "ProgressView",
            "style": "IPY_MODEL_bbd8409399fb43f484170614ba085d0b",
            "_dom_classes": [],
            "description": "Downloading: 100%",
            "_model_name": "FloatProgressModel",
            "bar_style": "success",
            "max": 570,
            "_view_module": "@jupyter-widgets/controls",
            "_model_module_version": "1.5.0",
            "value": 570,
            "_view_count": null,
            "_view_module_version": "1.5.0",
            "orientation": "horizontal",
            "min": 0,
            "description_tooltip": null,
            "_model_module": "@jupyter-widgets/controls",
            "layout": "IPY_MODEL_d80e61b01aeb4f88bcd5c29e1964afa2"
          }
        },
        "f2c18e2fc9f24ac9b9424ddb104f7710": {
          "model_module": "@jupyter-widgets/controls",
          "model_name": "HTMLModel",
          "model_module_version": "1.5.0",
          "state": {
            "_view_name": "HTMLView",
            "style": "IPY_MODEL_ef56fb61185649f593076ad78e6c4e19",
            "_dom_classes": [],
            "description": "",
            "_model_name": "HTMLModel",
            "placeholder": "​",
            "_view_module": "@jupyter-widgets/controls",
            "_model_module_version": "1.5.0",
            "value": " 570/570 [00:09&lt;00:00, 59.8B/s]",
            "_view_count": null,
            "_view_module_version": "1.5.0",
            "description_tooltip": null,
            "_model_module": "@jupyter-widgets/controls",
            "layout": "IPY_MODEL_8f16b1362eca4f2e9afd9356acfdb269"
          }
        },
        "bbd8409399fb43f484170614ba085d0b": {
          "model_module": "@jupyter-widgets/controls",
          "model_name": "ProgressStyleModel",
          "model_module_version": "1.5.0",
          "state": {
            "_view_name": "StyleView",
            "_model_name": "ProgressStyleModel",
            "description_width": "initial",
            "_view_module": "@jupyter-widgets/base",
            "_model_module_version": "1.5.0",
            "_view_count": null,
            "_view_module_version": "1.2.0",
            "bar_color": null,
            "_model_module": "@jupyter-widgets/controls"
          }
        },
        "d80e61b01aeb4f88bcd5c29e1964afa2": {
          "model_module": "@jupyter-widgets/base",
          "model_name": "LayoutModel",
          "model_module_version": "1.2.0",
          "state": {
            "_view_name": "LayoutView",
            "grid_template_rows": null,
            "right": null,
            "justify_content": null,
            "_view_module": "@jupyter-widgets/base",
            "overflow": null,
            "_model_module_version": "1.2.0",
            "_view_count": null,
            "flex_flow": null,
            "width": null,
            "min_width": null,
            "border": null,
            "align_items": null,
            "bottom": null,
            "_model_module": "@jupyter-widgets/base",
            "top": null,
            "grid_column": null,
            "overflow_y": null,
            "overflow_x": null,
            "grid_auto_flow": null,
            "grid_area": null,
            "grid_template_columns": null,
            "flex": null,
            "_model_name": "LayoutModel",
            "justify_items": null,
            "grid_row": null,
            "max_height": null,
            "align_content": null,
            "visibility": null,
            "align_self": null,
            "height": null,
            "min_height": null,
            "padding": null,
            "grid_auto_rows": null,
            "grid_gap": null,
            "max_width": null,
            "order": null,
            "_view_module_version": "1.2.0",
            "grid_template_areas": null,
            "object_position": null,
            "object_fit": null,
            "grid_auto_columns": null,
            "margin": null,
            "display": null,
            "left": null
          }
        },
        "ef56fb61185649f593076ad78e6c4e19": {
          "model_module": "@jupyter-widgets/controls",
          "model_name": "DescriptionStyleModel",
          "model_module_version": "1.5.0",
          "state": {
            "_view_name": "StyleView",
            "_model_name": "DescriptionStyleModel",
            "description_width": "",
            "_view_module": "@jupyter-widgets/base",
            "_model_module_version": "1.5.0",
            "_view_count": null,
            "_view_module_version": "1.2.0",
            "_model_module": "@jupyter-widgets/controls"
          }
        },
        "8f16b1362eca4f2e9afd9356acfdb269": {
          "model_module": "@jupyter-widgets/base",
          "model_name": "LayoutModel",
          "model_module_version": "1.2.0",
          "state": {
            "_view_name": "LayoutView",
            "grid_template_rows": null,
            "right": null,
            "justify_content": null,
            "_view_module": "@jupyter-widgets/base",
            "overflow": null,
            "_model_module_version": "1.2.0",
            "_view_count": null,
            "flex_flow": null,
            "width": null,
            "min_width": null,
            "border": null,
            "align_items": null,
            "bottom": null,
            "_model_module": "@jupyter-widgets/base",
            "top": null,
            "grid_column": null,
            "overflow_y": null,
            "overflow_x": null,
            "grid_auto_flow": null,
            "grid_area": null,
            "grid_template_columns": null,
            "flex": null,
            "_model_name": "LayoutModel",
            "justify_items": null,
            "grid_row": null,
            "max_height": null,
            "align_content": null,
            "visibility": null,
            "align_self": null,
            "height": null,
            "min_height": null,
            "padding": null,
            "grid_auto_rows": null,
            "grid_gap": null,
            "max_width": null,
            "order": null,
            "_view_module_version": "1.2.0",
            "grid_template_areas": null,
            "object_position": null,
            "object_fit": null,
            "grid_auto_columns": null,
            "margin": null,
            "display": null,
            "left": null
          }
        },
        "aacd2993ba43439496e1fa8d7848b785": {
          "model_module": "@jupyter-widgets/controls",
          "model_name": "HBoxModel",
          "model_module_version": "1.5.0",
          "state": {
            "_view_name": "HBoxView",
            "_dom_classes": [],
            "_model_name": "HBoxModel",
            "_view_module": "@jupyter-widgets/controls",
            "_model_module_version": "1.5.0",
            "_view_count": null,
            "_view_module_version": "1.5.0",
            "box_style": "",
            "layout": "IPY_MODEL_ac5cfb5ded434b87b8c939568c60b480",
            "_model_module": "@jupyter-widgets/controls",
            "children": [
              "IPY_MODEL_31c9c14db0e342c1af016d1a5b8ed656",
              "IPY_MODEL_2c2e638927724b19b0da2119193fc3ff"
            ]
          }
        },
        "ac5cfb5ded434b87b8c939568c60b480": {
          "model_module": "@jupyter-widgets/base",
          "model_name": "LayoutModel",
          "model_module_version": "1.2.0",
          "state": {
            "_view_name": "LayoutView",
            "grid_template_rows": null,
            "right": null,
            "justify_content": null,
            "_view_module": "@jupyter-widgets/base",
            "overflow": null,
            "_model_module_version": "1.2.0",
            "_view_count": null,
            "flex_flow": null,
            "width": null,
            "min_width": null,
            "border": null,
            "align_items": null,
            "bottom": null,
            "_model_module": "@jupyter-widgets/base",
            "top": null,
            "grid_column": null,
            "overflow_y": null,
            "overflow_x": null,
            "grid_auto_flow": null,
            "grid_area": null,
            "grid_template_columns": null,
            "flex": null,
            "_model_name": "LayoutModel",
            "justify_items": null,
            "grid_row": null,
            "max_height": null,
            "align_content": null,
            "visibility": null,
            "align_self": null,
            "height": null,
            "min_height": null,
            "padding": null,
            "grid_auto_rows": null,
            "grid_gap": null,
            "max_width": null,
            "order": null,
            "_view_module_version": "1.2.0",
            "grid_template_areas": null,
            "object_position": null,
            "object_fit": null,
            "grid_auto_columns": null,
            "margin": null,
            "display": null,
            "left": null
          }
        },
        "31c9c14db0e342c1af016d1a5b8ed656": {
          "model_module": "@jupyter-widgets/controls",
          "model_name": "FloatProgressModel",
          "model_module_version": "1.5.0",
          "state": {
            "_view_name": "ProgressView",
            "style": "IPY_MODEL_660669d038114b4babb1b40e4987a127",
            "_dom_classes": [],
            "description": "Downloading: 100%",
            "_model_name": "FloatProgressModel",
            "bar_style": "success",
            "max": 440473133,
            "_view_module": "@jupyter-widgets/controls",
            "_model_module_version": "1.5.0",
            "value": 440473133,
            "_view_count": null,
            "_view_module_version": "1.5.0",
            "orientation": "horizontal",
            "min": 0,
            "description_tooltip": null,
            "_model_module": "@jupyter-widgets/controls",
            "layout": "IPY_MODEL_c8225a068137464e9b07eeb45ca383c4"
          }
        },
        "2c2e638927724b19b0da2119193fc3ff": {
          "model_module": "@jupyter-widgets/controls",
          "model_name": "HTMLModel",
          "model_module_version": "1.5.0",
          "state": {
            "_view_name": "HTMLView",
            "style": "IPY_MODEL_231703f6a0c447d8bc27bc5c5f84e1d2",
            "_dom_classes": [],
            "description": "",
            "_model_name": "HTMLModel",
            "placeholder": "​",
            "_view_module": "@jupyter-widgets/controls",
            "_model_module_version": "1.5.0",
            "value": " 440M/440M [00:09&lt;00:00, 48.9MB/s]",
            "_view_count": null,
            "_view_module_version": "1.5.0",
            "description_tooltip": null,
            "_model_module": "@jupyter-widgets/controls",
            "layout": "IPY_MODEL_a2f5d5ded6444e788d635aebd856796b"
          }
        },
        "660669d038114b4babb1b40e4987a127": {
          "model_module": "@jupyter-widgets/controls",
          "model_name": "ProgressStyleModel",
          "model_module_version": "1.5.0",
          "state": {
            "_view_name": "StyleView",
            "_model_name": "ProgressStyleModel",
            "description_width": "initial",
            "_view_module": "@jupyter-widgets/base",
            "_model_module_version": "1.5.0",
            "_view_count": null,
            "_view_module_version": "1.2.0",
            "bar_color": null,
            "_model_module": "@jupyter-widgets/controls"
          }
        },
        "c8225a068137464e9b07eeb45ca383c4": {
          "model_module": "@jupyter-widgets/base",
          "model_name": "LayoutModel",
          "model_module_version": "1.2.0",
          "state": {
            "_view_name": "LayoutView",
            "grid_template_rows": null,
            "right": null,
            "justify_content": null,
            "_view_module": "@jupyter-widgets/base",
            "overflow": null,
            "_model_module_version": "1.2.0",
            "_view_count": null,
            "flex_flow": null,
            "width": null,
            "min_width": null,
            "border": null,
            "align_items": null,
            "bottom": null,
            "_model_module": "@jupyter-widgets/base",
            "top": null,
            "grid_column": null,
            "overflow_y": null,
            "overflow_x": null,
            "grid_auto_flow": null,
            "grid_area": null,
            "grid_template_columns": null,
            "flex": null,
            "_model_name": "LayoutModel",
            "justify_items": null,
            "grid_row": null,
            "max_height": null,
            "align_content": null,
            "visibility": null,
            "align_self": null,
            "height": null,
            "min_height": null,
            "padding": null,
            "grid_auto_rows": null,
            "grid_gap": null,
            "max_width": null,
            "order": null,
            "_view_module_version": "1.2.0",
            "grid_template_areas": null,
            "object_position": null,
            "object_fit": null,
            "grid_auto_columns": null,
            "margin": null,
            "display": null,
            "left": null
          }
        },
        "231703f6a0c447d8bc27bc5c5f84e1d2": {
          "model_module": "@jupyter-widgets/controls",
          "model_name": "DescriptionStyleModel",
          "model_module_version": "1.5.0",
          "state": {
            "_view_name": "StyleView",
            "_model_name": "DescriptionStyleModel",
            "description_width": "",
            "_view_module": "@jupyter-widgets/base",
            "_model_module_version": "1.5.0",
            "_view_count": null,
            "_view_module_version": "1.2.0",
            "_model_module": "@jupyter-widgets/controls"
          }
        },
        "a2f5d5ded6444e788d635aebd856796b": {
          "model_module": "@jupyter-widgets/base",
          "model_name": "LayoutModel",
          "model_module_version": "1.2.0",
          "state": {
            "_view_name": "LayoutView",
            "grid_template_rows": null,
            "right": null,
            "justify_content": null,
            "_view_module": "@jupyter-widgets/base",
            "overflow": null,
            "_model_module_version": "1.2.0",
            "_view_count": null,
            "flex_flow": null,
            "width": null,
            "min_width": null,
            "border": null,
            "align_items": null,
            "bottom": null,
            "_model_module": "@jupyter-widgets/base",
            "top": null,
            "grid_column": null,
            "overflow_y": null,
            "overflow_x": null,
            "grid_auto_flow": null,
            "grid_area": null,
            "grid_template_columns": null,
            "flex": null,
            "_model_name": "LayoutModel",
            "justify_items": null,
            "grid_row": null,
            "max_height": null,
            "align_content": null,
            "visibility": null,
            "align_self": null,
            "height": null,
            "min_height": null,
            "padding": null,
            "grid_auto_rows": null,
            "grid_gap": null,
            "max_width": null,
            "order": null,
            "_view_module_version": "1.2.0",
            "grid_template_areas": null,
            "object_position": null,
            "object_fit": null,
            "grid_auto_columns": null,
            "margin": null,
            "display": null,
            "left": null
          }
        }
      }
    }
  },
  "cells": [
    {
      "cell_type": "markdown",
      "metadata": {
        "id": "EKOTlwcmxmej"
      },
      "source": [
        "# Combining Categorical Features with Text in BERT \n",
        "\n",
        "By Chris McCormick"
      ]
    },
    {
      "cell_type": "markdown",
      "metadata": {
        "id": "BJR6t_gCQe_x"
      },
      "source": [
        "In this tutorial we'll look at the topic of classifying text with BERT, but where we also have additional numerical or categorical features that we want to use to improve our predictions. \n",
        "\n",
        "To help motivate our discussion, we'll be working with a dataset of about 23k clothing reviews. For each review, we have the review text, but also additional information such as:\n",
        "\n",
        "* The age of the reviewer (numerical feature)\n",
        "* The number of upvotes on the review (numerical feature)\n",
        "* The department and category of the clothing item (categorical features)\n",
        "\n",
        "For each review, we also have a binary label, which is whether or not the reviewer ultimately recommends the item. This is what we are trying to predict. \n",
        "\n",
        "This dataset was scraped from an (un-specified) e-commerce website by Nick Brooks and made available on Kaggle [here](https://www.kaggle.com/nicapotato/womens-ecommerce-clothing-reviews). \n",
        "\n",
        "In Section 2 of this Notebook, I've implemented four different \"baseline\" strategies which score fairly well, but which don't incorporate all of the features together. \n",
        "\n",
        "Then, in Section 3, I've implemented a simple strategy to combine *everything* and feed it through BERT. Specifically, I make text out of the additional features, and prepend this text to the review. \n",
        "\n",
        "There is a GitHub project called the [Multimodal-Toolkit](https://github.com/georgian-io/Multimodal-Toolkit) which is how I learned about this clothing review dataset. The toolkit implements a number of more complicated techniques, but their benchmarks (as well as our results below) show that this simple features-to-text strategy works best for this dataset.\n",
        "\n",
        "In our weekly discussion group, I talked through this Notebook and we also met with Ken Gu, the author of the Multi-Modal Toolkit! You can watch the recording [here](https://youtu.be/XPt9pIpe1vo).\n"
      ]
    },
    {
      "cell_type": "markdown",
      "metadata": {
        "id": "jrC9__lXxTJz"
      },
      "source": [
        "# Contents"
      ]
    },
    {
      "cell_type": "markdown",
      "metadata": {
        "id": "p9MCBOq4xUpr"
      },
      "source": [
        "See \"Table of contents\" in the sidebar to the left."
      ]
    },
    {
      "cell_type": "markdown",
      "metadata": {
        "id": "guw6ZNtaswKc"
      },
      "source": [
        "# S1. Clothing Review Dataset\n"
      ]
    },
    {
      "cell_type": "markdown",
      "metadata": {
        "id": "4JrUHXms16cn"
      },
      "source": [
        "## 1.1. Download & Parse"
      ]
    },
    {
      "cell_type": "markdown",
      "metadata": {
        "id": "hjUqUXgpRstr"
      },
      "source": [
        "Retrieve the .csv file for the dataset."
      ]
    },
    {
      "cell_type": "code",
      "metadata": {
        "id": "c9NRhidQndBy",
        "colab": {
          "base_uri": "https://localhost:8080/"
        },
        "outputId": "5e4a208c-9ad1-4c3c-d98e-94bc0a8442d2"
      },
      "source": [
        "import gdown\n",
        "\n",
        "print('Downloading dataset...\\n')\n",
        "     \n",
        "# Download the file.\n",
        "gdown.download('https://drive.google.com/uc?id=1ZYdt0zN4LjWqP3cQDblNhXjeohcryY5H', \n",
        "                'Womens Clothing E-Commerce Reviews.csv', \n",
        "                quiet=False)\n",
        "    \n",
        "print('\\n\\nDONE.')"
      ],
      "execution_count": null,
      "outputs": [
        {
          "output_type": "stream",
          "text": [
            "Downloading dataset...\n",
            "\n"
          ],
          "name": "stdout"
        },
        {
          "output_type": "stream",
          "text": [
            "Downloading...\n",
            "From: https://drive.google.com/uc?id=1ZYdt0zN4LjWqP3cQDblNhXjeohcryY5H\n",
            "To: /content/Womens Clothing E-Commerce Reviews.csv\n",
            "8.48MB [00:00, 48.7MB/s]"
          ],
          "name": "stderr"
        },
        {
          "output_type": "stream",
          "text": [
            "\n",
            "\n",
            "DONE.\n"
          ],
          "name": "stdout"
        },
        {
          "output_type": "stream",
          "text": [
            "\n"
          ],
          "name": "stderr"
        }
      ]
    },
    {
      "cell_type": "markdown",
      "metadata": {
        "id": "3TDG-juDmkPL"
      },
      "source": [
        "Parse the dataset csv file into a pandas DataFrame."
      ]
    },
    {
      "cell_type": "code",
      "metadata": {
        "colab": {
          "base_uri": "https://localhost:8080/",
          "height": 203
        },
        "id": "Ql8mJlKAUWX5",
        "outputId": "b369af44-c916-4687-ac8b-6b3366bb1fb8"
      },
      "source": [
        "import pandas as pd\n",
        "\n",
        "data_df = pd.read_csv('Womens Clothing E-Commerce Reviews.csv', index_col=0)\n",
        "\n",
        "data_df.head()"
      ],
      "execution_count": null,
      "outputs": [
        {
          "output_type": "execute_result",
          "data": {
            "text/html": [
              "<div>\n",
              "<style scoped>\n",
              "    .dataframe tbody tr th:only-of-type {\n",
              "        vertical-align: middle;\n",
              "    }\n",
              "\n",
              "    .dataframe tbody tr th {\n",
              "        vertical-align: top;\n",
              "    }\n",
              "\n",
              "    .dataframe thead th {\n",
              "        text-align: right;\n",
              "    }\n",
              "</style>\n",
              "<table border=\"1\" class=\"dataframe\">\n",
              "  <thead>\n",
              "    <tr style=\"text-align: right;\">\n",
              "      <th></th>\n",
              "      <th>Clothing ID</th>\n",
              "      <th>Age</th>\n",
              "      <th>Title</th>\n",
              "      <th>Review Text</th>\n",
              "      <th>Rating</th>\n",
              "      <th>Recommended IND</th>\n",
              "      <th>Positive Feedback Count</th>\n",
              "      <th>Division Name</th>\n",
              "      <th>Department Name</th>\n",
              "      <th>Class Name</th>\n",
              "    </tr>\n",
              "  </thead>\n",
              "  <tbody>\n",
              "    <tr>\n",
              "      <th>0</th>\n",
              "      <td>767</td>\n",
              "      <td>33</td>\n",
              "      <td>NaN</td>\n",
              "      <td>Absolutely wonderful - silky and sexy and comf...</td>\n",
              "      <td>4</td>\n",
              "      <td>1</td>\n",
              "      <td>0</td>\n",
              "      <td>Initmates</td>\n",
              "      <td>Intimate</td>\n",
              "      <td>Intimates</td>\n",
              "    </tr>\n",
              "    <tr>\n",
              "      <th>1</th>\n",
              "      <td>1080</td>\n",
              "      <td>34</td>\n",
              "      <td>NaN</td>\n",
              "      <td>Love this dress!  it's sooo pretty.  i happene...</td>\n",
              "      <td>5</td>\n",
              "      <td>1</td>\n",
              "      <td>4</td>\n",
              "      <td>General</td>\n",
              "      <td>Dresses</td>\n",
              "      <td>Dresses</td>\n",
              "    </tr>\n",
              "    <tr>\n",
              "      <th>2</th>\n",
              "      <td>1077</td>\n",
              "      <td>60</td>\n",
              "      <td>Some major design flaws</td>\n",
              "      <td>I had such high hopes for this dress and reall...</td>\n",
              "      <td>3</td>\n",
              "      <td>0</td>\n",
              "      <td>0</td>\n",
              "      <td>General</td>\n",
              "      <td>Dresses</td>\n",
              "      <td>Dresses</td>\n",
              "    </tr>\n",
              "    <tr>\n",
              "      <th>3</th>\n",
              "      <td>1049</td>\n",
              "      <td>50</td>\n",
              "      <td>My favorite buy!</td>\n",
              "      <td>I love, love, love this jumpsuit. it's fun, fl...</td>\n",
              "      <td>5</td>\n",
              "      <td>1</td>\n",
              "      <td>0</td>\n",
              "      <td>General Petite</td>\n",
              "      <td>Bottoms</td>\n",
              "      <td>Pants</td>\n",
              "    </tr>\n",
              "    <tr>\n",
              "      <th>4</th>\n",
              "      <td>847</td>\n",
              "      <td>47</td>\n",
              "      <td>Flattering shirt</td>\n",
              "      <td>This shirt is very flattering to all due to th...</td>\n",
              "      <td>5</td>\n",
              "      <td>1</td>\n",
              "      <td>6</td>\n",
              "      <td>General</td>\n",
              "      <td>Tops</td>\n",
              "      <td>Blouses</td>\n",
              "    </tr>\n",
              "  </tbody>\n",
              "</table>\n",
              "</div>"
            ],
            "text/plain": [
              "   Clothing ID  Age  ... Department Name Class Name\n",
              "0          767   33  ...        Intimate  Intimates\n",
              "1         1080   34  ...         Dresses    Dresses\n",
              "2         1077   60  ...         Dresses    Dresses\n",
              "3         1049   50  ...         Bottoms      Pants\n",
              "4          847   47  ...            Tops    Blouses\n",
              "\n",
              "[5 rows x 10 columns]"
            ]
          },
          "metadata": {
            "tags": []
          },
          "execution_count": 2
        }
      ]
    },
    {
      "cell_type": "markdown",
      "metadata": {
        "id": "tUO5M8v_n86z"
      },
      "source": [
        "*Features*\n",
        "\n",
        "\"**Recommended IND**\" is the label we are trying to predict for this dataset. \"1\" means the reviewer recommended the product and \"0\" means they do not.\n",
        "\n",
        "The following are *categorical* features:\n",
        "\n",
        "* Division Name\n",
        "* Department Name\n",
        "* Class Name\n",
        "* Clothing ID\n",
        "\n",
        "And the following are *numerical* features:\n",
        "\n",
        "* Age\n",
        "* Rating\n",
        "* Positive Feedback Count\n"
      ]
    },
    {
      "cell_type": "markdown",
      "metadata": {
        "id": "MtaVTKYErVMC"
      },
      "source": [
        "\n",
        "*Feature Analysis*\n",
        "\n",
        "There is an excellent Notebook on Kaggle [here](https://www.kaggle.com/bhaveshkumar2806/complete-eda-and-visualization-of-text-data) which does some thorough analysis on each of the features in this dataset. \n",
        "\n",
        "Note that, in addition to the \"Recommended\" label, there is also a \"**Rating**\" column where the reviewer rates the product from 1 - 5. The analysis in the above Notebook shows that almost all items rated 3 - 5 are recommended, and almost all rated 1 - 2 are not recommended. We'll see in our second baseline classifier that you can get a very high accuracy with this feature alone. However, it *is* still possible to do better by incorporating the other features!\n",
        "\n"
      ]
    },
    {
      "cell_type": "markdown",
      "metadata": {
        "id": "I0NqoHqCigLL"
      },
      "source": [
        "## 1.2. Train-Validation-Test Split"
      ]
    },
    {
      "cell_type": "markdown",
      "metadata": {
        "id": "E8DujZL2kYPb"
      },
      "source": [
        "I want to use the same training, validation, and test splits for all of the approaches we try so that it's a fair comparison. \n",
        "\n",
        "However, different approaches are going to require different transformations on the data, and for simplicity I want to apply those transformations *before* splitting the dataset. \n",
        "\n",
        "To solve this, we're going to create lists of indeces for each of the three portions. That way, for a given classification approach, we can load the whole dataset, apply our transformations, and then split it according to these pre-determined indeces. \n"
      ]
    },
    {
      "cell_type": "code",
      "metadata": {
        "id": "vbBkXm5G9rZU",
        "colab": {
          "base_uri": "https://localhost:8080/"
        },
        "outputId": "0a90e998-3e3c-4b5d-a6f6-27a5eaf93ac9"
      },
      "source": [
        "import random\n",
        "import numpy as np\n",
        "\n",
        "# First, calculate the split sizes. 80% training, 10% validation, 10% test.\n",
        "train_size = int(0.8 * len(data_df))\n",
        "val_size = int(0.1 * len(data_df))\n",
        "test_size = len(data_df) - (train_size + val_size)\n",
        "\n",
        "# Sanity check the sizes.\n",
        "assert((train_size + val_size + test_size) == len(data_df))\n",
        "\n",
        "# Create a list of indeces for all of the samples in the dataset.\n",
        "indeces = np.arange(0, len(data_df))\n",
        "\n",
        "# Shuffle the indeces randomly.\n",
        "random.shuffle(indeces)\n",
        "\n",
        "# Get a list of indeces for each of the splits.\n",
        "train_idx = indeces[0:train_size]\n",
        "val_idx = indeces[train_size:(train_size + val_size)]\n",
        "test_idx = indeces[(train_size + val_size):]\n",
        "\n",
        "# Sanity check\n",
        "assert(len(train_idx) == train_size)\n",
        "assert(len(test_idx) == test_size)\n",
        "\n",
        "# With these lists, we can now select the corresponding dataframe rows using, \n",
        "# e.g., train_df = data_df.iloc[train_idx] \n",
        "\n",
        "print('  Training size: {:,}'.format(train_size))\n",
        "print('Validation size: {:,}'.format(val_size))\n",
        "print('      Test size: {:,}'.format(test_size))"
      ],
      "execution_count": null,
      "outputs": [
        {
          "output_type": "stream",
          "text": [
            "  Training size: 18,788\n",
            "Validation size: 2,348\n",
            "      Test size: 2,350\n"
          ],
          "name": "stdout"
        }
      ]
    },
    {
      "cell_type": "markdown",
      "metadata": {
        "id": "IUV4DfGt1V24"
      },
      "source": [
        "# S2. Baseline Strategies"
      ]
    },
    {
      "cell_type": "markdown",
      "metadata": {
        "id": "28EBwb4Vl9WS"
      },
      "source": [
        "The following are some alternative approaches to classifying this dataset, none of which uses all of the features together. I've included these baselines to ensure that our final BERT-based approach outperforms them!\n",
        "\n",
        "\n"
      ]
    },
    {
      "cell_type": "markdown",
      "metadata": {
        "id": "wqNk4KpQ52ex"
      },
      "source": [
        "## 2.1. Always Recommend"
      ]
    },
    {
      "cell_type": "markdown",
      "metadata": {
        "id": "lk5xsg-lmFlC"
      },
      "source": [
        "This dataset is heavily imbalanced, with something like 85% of the reviews recommending the product. If we just predict \"recommend\" for every test sample, how would we do? "
      ]
    },
    {
      "cell_type": "code",
      "metadata": {
        "colab": {
          "base_uri": "https://localhost:8080/"
        },
        "id": "iazbh1uW55L4",
        "outputId": "a0380bf5-4c22-4752-fb1d-2c66e29805c1"
      },
      "source": [
        "from sklearn.metrics import f1_score\n",
        "\n",
        "# Select the test set samples.\n",
        "test_df = data_df.iloc[test_idx]\n",
        "\n",
        "# Create a list of all 1s to use as our predictions.\n",
        "predictions = [1]*len(test_df)\n",
        "\n",
        "# Calculate the F1 score.\n",
        "f1 = f1_score(y_true=test_df[\"Recommended IND\"], y_pred=predictions)\n",
        "\n",
        "print('If we always recommend the product...')\n",
        "print('\\nF1: %.3f' % f1)"
      ],
      "execution_count": null,
      "outputs": [
        {
          "output_type": "stream",
          "text": [
            "If we always recommend the product...\n",
            "\n",
            "F1: 0.906\n"
          ],
          "name": "stdout"
        }
      ]
    },
    {
      "cell_type": "markdown",
      "metadata": {
        "id": "trYGkk9PsT7c"
      },
      "source": [
        "We'll keep a running table of our results:\n",
        "\n",
        "| Strategy                             | F1 Score |\n",
        "|--------------------------------------|----------|\n",
        "| Always predict “recommended”         | 0.906    |\n"
      ]
    },
    {
      "cell_type": "markdown",
      "metadata": {
        "id": "b1wakUuz1cIW"
      },
      "source": [
        "## 2.2. Threshold on Rating"
      ]
    },
    {
      "cell_type": "markdown",
      "metadata": {
        "id": "Ju7rIowBqGHk"
      },
      "source": [
        "\n",
        "As I mentioned earlier, the \"Rating\" is a very strong indicator of whether the reviewer recommended the product or not. The ideal threshold is a rating of 3."
      ]
    },
    {
      "cell_type": "code",
      "metadata": {
        "colab": {
          "base_uri": "https://localhost:8080/"
        },
        "id": "qET4_Wpc1etd",
        "outputId": "5d79641a-eeb9-47de-f497-bd92199b5ceb"
      },
      "source": [
        "from sklearn.metrics import f1_score\n",
        "\n",
        "# Predict whether it's recommended based on whether the rating was 3 or higher.\n",
        "predictions = test_df[\"Rating\"] >= 3\n",
        "\n",
        "# Calculate the F1 score.\n",
        "f1 = f1_score(y_true=test_df[\"Recommended IND\"], y_pred=predictions)\n",
        "\n",
        "print('Recommend if rating >= 3...')\n",
        "print('\\nF1: %.3f' % f1)"
      ],
      "execution_count": null,
      "outputs": [
        {
          "output_type": "stream",
          "text": [
            "Recommend if rating >= 3...\n",
            "\n",
            "F1: 0.953\n"
          ],
          "name": "stdout"
        }
      ]
    },
    {
      "cell_type": "markdown",
      "metadata": {
        "id": "WQLn8xfUqcVF"
      },
      "source": [
        "That's very high! We can still do better, though :)\n",
        "\n",
        "| Strategy                             | F1 Score |\n",
        "|--------------------------------------|----------|\n",
        "| Always predict “recommended”         | 0.906    |\n",
        "| Predict “recommended” if rating >= 3 | 0.953    |\n"
      ]
    },
    {
      "cell_type": "markdown",
      "metadata": {
        "id": "Kx-d_gmH5kNJ"
      },
      "source": [
        "## 2.3. XGBoost"
      ]
    },
    {
      "cell_type": "markdown",
      "metadata": {
        "id": "MEbLVN8-qhvD"
      },
      "source": [
        "When dealing with mixed data types like this, decision trees are the standard solution, with \"gradient boosted decision trees\" (XGBoost) being the most common model.\n",
        "\n",
        "In a decision tree, the classification decision is broken up into many smaller decisions (at each node of the tree). Each of these smaller decisions can operate on a different data type, enabling a mix of data types in the classifier. \n",
        "\n",
        "However, a decision tree can't take in raw text. So let's use a decision tree to do our predictions based only on the *non-text* features in this dataset."
      ]
    },
    {
      "cell_type": "markdown",
      "metadata": {
        "id": "bwZuyiFCsIOt"
      },
      "source": [
        "Install `xgboost`"
      ]
    },
    {
      "cell_type": "code",
      "metadata": {
        "colab": {
          "base_uri": "https://localhost:8080/"
        },
        "id": "ytmD-iF-6ohZ",
        "outputId": "a62cf927-2890-46bf-9ec7-fdb9845e6788"
      },
      "source": [
        "!pip install xgboost"
      ],
      "execution_count": null,
      "outputs": [
        {
          "output_type": "stream",
          "text": [
            "Requirement already satisfied: xgboost in /usr/local/lib/python3.7/dist-packages (0.90)\n",
            "Requirement already satisfied: numpy in /usr/local/lib/python3.7/dist-packages (from xgboost) (1.19.5)\n",
            "Requirement already satisfied: scipy in /usr/local/lib/python3.7/dist-packages (from xgboost) (1.4.1)\n"
          ],
          "name": "stdout"
        }
      ]
    },
    {
      "cell_type": "markdown",
      "metadata": {
        "id": "ifSuYftnCbbp"
      },
      "source": [
        "**Encode Categories**"
      ]
    },
    {
      "cell_type": "markdown",
      "metadata": {
        "id": "TuY9P9_K9ioY"
      },
      "source": [
        "We'll need to encode all of our categorical features by assigning an integer value to each possible category, and replacing the string versions with these integers. \n",
        "\n",
        "The below code / approach comes from this [article](https://pbpython.com/categorical-encoding.html)."
      ]
    },
    {
      "cell_type": "code",
      "metadata": {
        "colab": {
          "base_uri": "https://localhost:8080/",
          "height": 203
        },
        "id": "uC8N8-9V9wEn",
        "outputId": "67ce300a-5033-4811-ee05-49bff8b6d758"
      },
      "source": [
        "# First, change the type of the specified columns to \"category\". This will \n",
        "# assign a \"code\" to each unique category value.\n",
        "data_df[\"Clothing ID\"] = data_df[\"Clothing ID\"].astype('category')\n",
        "data_df[\"Division Name\"] = data_df[\"Division Name\"].astype('category')\n",
        "data_df[\"Department Name\"] = data_df[\"Department Name\"].astype('category')\n",
        "data_df[\"Class Name\"] = data_df[\"Class Name\"].astype('category')\n",
        "\n",
        "# Second, replace the strings with their code values.\n",
        "data_df[\"Clothing ID\"] = data_df[\"Clothing ID\"].cat.codes\n",
        "data_df[\"Division Name\"] = data_df[\"Division Name\"].cat.codes\n",
        "data_df[\"Department Name\"] = data_df[\"Department Name\"].cat.codes\n",
        "data_df[\"Class Name\"] = data_df[\"Class Name\"].cat.codes\n",
        "\n",
        "# Display the table--notice how the above columns are all integers now.\n",
        "data_df.head()"
      ],
      "execution_count": null,
      "outputs": [
        {
          "output_type": "execute_result",
          "data": {
            "text/html": [
              "<div>\n",
              "<style scoped>\n",
              "    .dataframe tbody tr th:only-of-type {\n",
              "        vertical-align: middle;\n",
              "    }\n",
              "\n",
              "    .dataframe tbody tr th {\n",
              "        vertical-align: top;\n",
              "    }\n",
              "\n",
              "    .dataframe thead th {\n",
              "        text-align: right;\n",
              "    }\n",
              "</style>\n",
              "<table border=\"1\" class=\"dataframe\">\n",
              "  <thead>\n",
              "    <tr style=\"text-align: right;\">\n",
              "      <th></th>\n",
              "      <th>Clothing ID</th>\n",
              "      <th>Age</th>\n",
              "      <th>Title</th>\n",
              "      <th>Review Text</th>\n",
              "      <th>Rating</th>\n",
              "      <th>Recommended IND</th>\n",
              "      <th>Positive Feedback Count</th>\n",
              "      <th>Division Name</th>\n",
              "      <th>Department Name</th>\n",
              "      <th>Class Name</th>\n",
              "    </tr>\n",
              "  </thead>\n",
              "  <tbody>\n",
              "    <tr>\n",
              "      <th>0</th>\n",
              "      <td>767</td>\n",
              "      <td>33</td>\n",
              "      <td>NaN</td>\n",
              "      <td>Absolutely wonderful - silky and sexy and comf...</td>\n",
              "      <td>4</td>\n",
              "      <td>1</td>\n",
              "      <td>0</td>\n",
              "      <td>2</td>\n",
              "      <td>2</td>\n",
              "      <td>5</td>\n",
              "    </tr>\n",
              "    <tr>\n",
              "      <th>1</th>\n",
              "      <td>1080</td>\n",
              "      <td>34</td>\n",
              "      <td>NaN</td>\n",
              "      <td>Love this dress!  it's sooo pretty.  i happene...</td>\n",
              "      <td>5</td>\n",
              "      <td>1</td>\n",
              "      <td>4</td>\n",
              "      <td>0</td>\n",
              "      <td>1</td>\n",
              "      <td>3</td>\n",
              "    </tr>\n",
              "    <tr>\n",
              "      <th>2</th>\n",
              "      <td>1077</td>\n",
              "      <td>60</td>\n",
              "      <td>Some major design flaws</td>\n",
              "      <td>I had such high hopes for this dress and reall...</td>\n",
              "      <td>3</td>\n",
              "      <td>0</td>\n",
              "      <td>0</td>\n",
              "      <td>0</td>\n",
              "      <td>1</td>\n",
              "      <td>3</td>\n",
              "    </tr>\n",
              "    <tr>\n",
              "      <th>3</th>\n",
              "      <td>1049</td>\n",
              "      <td>50</td>\n",
              "      <td>My favorite buy!</td>\n",
              "      <td>I love, love, love this jumpsuit. it's fun, fl...</td>\n",
              "      <td>5</td>\n",
              "      <td>1</td>\n",
              "      <td>0</td>\n",
              "      <td>1</td>\n",
              "      <td>0</td>\n",
              "      <td>13</td>\n",
              "    </tr>\n",
              "    <tr>\n",
              "      <th>4</th>\n",
              "      <td>847</td>\n",
              "      <td>47</td>\n",
              "      <td>Flattering shirt</td>\n",
              "      <td>This shirt is very flattering to all due to th...</td>\n",
              "      <td>5</td>\n",
              "      <td>1</td>\n",
              "      <td>6</td>\n",
              "      <td>0</td>\n",
              "      <td>4</td>\n",
              "      <td>0</td>\n",
              "    </tr>\n",
              "  </tbody>\n",
              "</table>\n",
              "</div>"
            ],
            "text/plain": [
              "   Clothing ID  Age  ... Department Name Class Name\n",
              "0          767   33  ...               2          5\n",
              "1         1080   34  ...               1          3\n",
              "2         1077   60  ...               1          3\n",
              "3         1049   50  ...               0         13\n",
              "4          847   47  ...               4          0\n",
              "\n",
              "[5 rows x 10 columns]"
            ]
          },
          "metadata": {
            "tags": []
          },
          "execution_count": 7
        }
      ]
    },
    {
      "cell_type": "markdown",
      "metadata": {
        "id": "FWXIv41DtqXJ"
      },
      "source": [
        "**Convert Numerical Features to Floats**"
      ]
    },
    {
      "cell_type": "markdown",
      "metadata": {
        "id": "b8lLmE7Cttez"
      },
      "source": [
        "To clarify to XGBoost which features are categorical vs. numerical, I'm casting all of the numerical features to floats.\n",
        "\n",
        "There may be another way to do this, but this appears to work fine."
      ]
    },
    {
      "cell_type": "code",
      "metadata": {
        "id": "LGmxjwR2JkJs",
        "colab": {
          "base_uri": "https://localhost:8080/",
          "height": 203
        },
        "outputId": "d38159aa-12b8-4210-b95a-94edbfc00077"
      },
      "source": [
        "# Cast the numerical features to floats.\n",
        "data_df[\"Age\"] = data_df[\"Age\"].astype('float')\n",
        "data_df[\"Rating\"] = data_df[\"Rating\"].astype('float')\n",
        "data_df[\"Positive Feedback Count\"] = data_df[\"Positive Feedback Count\"].astype('float')\n",
        "\n",
        "data_df.head()"
      ],
      "execution_count": null,
      "outputs": [
        {
          "output_type": "execute_result",
          "data": {
            "text/html": [
              "<div>\n",
              "<style scoped>\n",
              "    .dataframe tbody tr th:only-of-type {\n",
              "        vertical-align: middle;\n",
              "    }\n",
              "\n",
              "    .dataframe tbody tr th {\n",
              "        vertical-align: top;\n",
              "    }\n",
              "\n",
              "    .dataframe thead th {\n",
              "        text-align: right;\n",
              "    }\n",
              "</style>\n",
              "<table border=\"1\" class=\"dataframe\">\n",
              "  <thead>\n",
              "    <tr style=\"text-align: right;\">\n",
              "      <th></th>\n",
              "      <th>Clothing ID</th>\n",
              "      <th>Age</th>\n",
              "      <th>Title</th>\n",
              "      <th>Review Text</th>\n",
              "      <th>Rating</th>\n",
              "      <th>Recommended IND</th>\n",
              "      <th>Positive Feedback Count</th>\n",
              "      <th>Division Name</th>\n",
              "      <th>Department Name</th>\n",
              "      <th>Class Name</th>\n",
              "    </tr>\n",
              "  </thead>\n",
              "  <tbody>\n",
              "    <tr>\n",
              "      <th>0</th>\n",
              "      <td>767</td>\n",
              "      <td>33.0</td>\n",
              "      <td>NaN</td>\n",
              "      <td>Absolutely wonderful - silky and sexy and comf...</td>\n",
              "      <td>4.0</td>\n",
              "      <td>1</td>\n",
              "      <td>0.0</td>\n",
              "      <td>2</td>\n",
              "      <td>2</td>\n",
              "      <td>5</td>\n",
              "    </tr>\n",
              "    <tr>\n",
              "      <th>1</th>\n",
              "      <td>1080</td>\n",
              "      <td>34.0</td>\n",
              "      <td>NaN</td>\n",
              "      <td>Love this dress!  it's sooo pretty.  i happene...</td>\n",
              "      <td>5.0</td>\n",
              "      <td>1</td>\n",
              "      <td>4.0</td>\n",
              "      <td>0</td>\n",
              "      <td>1</td>\n",
              "      <td>3</td>\n",
              "    </tr>\n",
              "    <tr>\n",
              "      <th>2</th>\n",
              "      <td>1077</td>\n",
              "      <td>60.0</td>\n",
              "      <td>Some major design flaws</td>\n",
              "      <td>I had such high hopes for this dress and reall...</td>\n",
              "      <td>3.0</td>\n",
              "      <td>0</td>\n",
              "      <td>0.0</td>\n",
              "      <td>0</td>\n",
              "      <td>1</td>\n",
              "      <td>3</td>\n",
              "    </tr>\n",
              "    <tr>\n",
              "      <th>3</th>\n",
              "      <td>1049</td>\n",
              "      <td>50.0</td>\n",
              "      <td>My favorite buy!</td>\n",
              "      <td>I love, love, love this jumpsuit. it's fun, fl...</td>\n",
              "      <td>5.0</td>\n",
              "      <td>1</td>\n",
              "      <td>0.0</td>\n",
              "      <td>1</td>\n",
              "      <td>0</td>\n",
              "      <td>13</td>\n",
              "    </tr>\n",
              "    <tr>\n",
              "      <th>4</th>\n",
              "      <td>847</td>\n",
              "      <td>47.0</td>\n",
              "      <td>Flattering shirt</td>\n",
              "      <td>This shirt is very flattering to all due to th...</td>\n",
              "      <td>5.0</td>\n",
              "      <td>1</td>\n",
              "      <td>6.0</td>\n",
              "      <td>0</td>\n",
              "      <td>4</td>\n",
              "      <td>0</td>\n",
              "    </tr>\n",
              "  </tbody>\n",
              "</table>\n",
              "</div>"
            ],
            "text/plain": [
              "   Clothing ID   Age  ... Department Name Class Name\n",
              "0          767  33.0  ...               2          5\n",
              "1         1080  34.0  ...               1          3\n",
              "2         1077  60.0  ...               1          3\n",
              "3         1049  50.0  ...               0         13\n",
              "4          847  47.0  ...               4          0\n",
              "\n",
              "[5 rows x 10 columns]"
            ]
          },
          "metadata": {
            "tags": []
          },
          "execution_count": 8
        }
      ]
    },
    {
      "cell_type": "markdown",
      "metadata": {
        "id": "pzTvgTQS7F9B"
      },
      "source": [
        "**Prepare Splits**\n"
      ]
    },
    {
      "cell_type": "markdown",
      "metadata": {
        "id": "5-XdKydas93U"
      },
      "source": [
        "Now that the dataset is prepared, we'll break it into our training, validation, and test splits using the pre-computed indeces from earlier. (Note: the validation set is unused for XGBoost)."
      ]
    },
    {
      "cell_type": "code",
      "metadata": {
        "colab": {
          "base_uri": "https://localhost:8080/",
          "height": 203
        },
        "id": "5ghgLy7MumqF",
        "outputId": "10d16828-9779-4006-b686-dad9d80b3618"
      },
      "source": [
        "# Retrieve the labels for each of the splits.\n",
        "y_train = data_df[\"Recommended IND\"].iloc[train_idx]\n",
        "y_val = data_df[\"Recommended IND\"].iloc[val_idx]\n",
        "y_test = data_df[\"Recommended IND\"].iloc[test_idx]\n",
        "\n",
        "# Before selecting the inputs, remove text columns and the labels.\n",
        "data_df = data_df.drop(columns=[\"Title\", \"Review Text\", \"Recommended IND\"])\n",
        "\n",
        "# Select the inputs for the different splits.\n",
        "X_train = data_df.iloc[train_idx]\n",
        "X_val = data_df.iloc[val_idx]\n",
        "X_test = data_df.iloc[test_idx]\n",
        "\n",
        "X_train.head()"
      ],
      "execution_count": null,
      "outputs": [
        {
          "output_type": "execute_result",
          "data": {
            "text/html": [
              "<div>\n",
              "<style scoped>\n",
              "    .dataframe tbody tr th:only-of-type {\n",
              "        vertical-align: middle;\n",
              "    }\n",
              "\n",
              "    .dataframe tbody tr th {\n",
              "        vertical-align: top;\n",
              "    }\n",
              "\n",
              "    .dataframe thead th {\n",
              "        text-align: right;\n",
              "    }\n",
              "</style>\n",
              "<table border=\"1\" class=\"dataframe\">\n",
              "  <thead>\n",
              "    <tr style=\"text-align: right;\">\n",
              "      <th></th>\n",
              "      <th>Clothing ID</th>\n",
              "      <th>Age</th>\n",
              "      <th>Rating</th>\n",
              "      <th>Positive Feedback Count</th>\n",
              "      <th>Division Name</th>\n",
              "      <th>Department Name</th>\n",
              "      <th>Class Name</th>\n",
              "    </tr>\n",
              "  </thead>\n",
              "  <tbody>\n",
              "    <tr>\n",
              "      <th>14550</th>\n",
              "      <td>862</td>\n",
              "      <td>41.0</td>\n",
              "      <td>5.0</td>\n",
              "      <td>0.0</td>\n",
              "      <td>0</td>\n",
              "      <td>4</td>\n",
              "      <td>8</td>\n",
              "    </tr>\n",
              "    <tr>\n",
              "      <th>14421</th>\n",
              "      <td>1078</td>\n",
              "      <td>36.0</td>\n",
              "      <td>5.0</td>\n",
              "      <td>0.0</td>\n",
              "      <td>1</td>\n",
              "      <td>1</td>\n",
              "      <td>3</td>\n",
              "    </tr>\n",
              "    <tr>\n",
              "      <th>11316</th>\n",
              "      <td>873</td>\n",
              "      <td>38.0</td>\n",
              "      <td>5.0</td>\n",
              "      <td>0.0</td>\n",
              "      <td>0</td>\n",
              "      <td>4</td>\n",
              "      <td>8</td>\n",
              "    </tr>\n",
              "    <tr>\n",
              "      <th>19075</th>\n",
              "      <td>1086</td>\n",
              "      <td>38.0</td>\n",
              "      <td>4.0</td>\n",
              "      <td>1.0</td>\n",
              "      <td>0</td>\n",
              "      <td>1</td>\n",
              "      <td>3</td>\n",
              "    </tr>\n",
              "    <tr>\n",
              "      <th>1318</th>\n",
              "      <td>836</td>\n",
              "      <td>59.0</td>\n",
              "      <td>3.0</td>\n",
              "      <td>16.0</td>\n",
              "      <td>0</td>\n",
              "      <td>4</td>\n",
              "      <td>0</td>\n",
              "    </tr>\n",
              "  </tbody>\n",
              "</table>\n",
              "</div>"
            ],
            "text/plain": [
              "       Clothing ID   Age  Rating  ...  Division Name  Department Name  Class Name\n",
              "14550          862  41.0     5.0  ...              0                4           8\n",
              "14421         1078  36.0     5.0  ...              1                1           3\n",
              "11316          873  38.0     5.0  ...              0                4           8\n",
              "19075         1086  38.0     4.0  ...              0                1           3\n",
              "1318           836  59.0     3.0  ...              0                4           0\n",
              "\n",
              "[5 rows x 7 columns]"
            ]
          },
          "metadata": {
            "tags": []
          },
          "execution_count": 9
        }
      ]
    },
    {
      "cell_type": "markdown",
      "metadata": {
        "id": "_nV7xIgfFQn7"
      },
      "source": [
        "**Train & Test**\n"
      ]
    },
    {
      "cell_type": "markdown",
      "metadata": {
        "id": "-NZlb9D9vj9Q"
      },
      "source": [
        "\n",
        "I referenced [this article](https://machinelearningmastery.com/develop-first-xgboost-model-python-scikit-learn/) to get started with XGBoost. The xgboost library makes it pretty easy! \n"
      ]
    },
    {
      "cell_type": "code",
      "metadata": {
        "colab": {
          "base_uri": "https://localhost:8080/"
        },
        "id": "QrT4bkgg6qWx",
        "outputId": "c20bb68e-6994-40a5-be95-e80b65f45ef9"
      },
      "source": [
        "from xgboost import XGBClassifier\n",
        "\n",
        "# Create an instance of the classifier\n",
        "model = XGBClassifier()\n",
        "\n",
        "# Train it on the training set.\n",
        "model.fit(X_train, y_train)\n",
        "\n",
        "# Use the trained model to predict the labels for the test set.\n",
        "predictions = model.predict(X_test)\n",
        "\n",
        "# Calculate the F1 score.\n",
        "f1 = f1_score(y_true = y_test,\n",
        "              y_pred = predictions)\n",
        "\n",
        "print('Using XGBoost on non-text features...')\n",
        "print('\\nF1: %.3f' % f1)"
      ],
      "execution_count": null,
      "outputs": [
        {
          "output_type": "stream",
          "text": [
            "Using XGBoost on non-text features...\n",
            "\n",
            "F1: 0.965\n"
          ],
          "name": "stdout"
        }
      ]
    },
    {
      "cell_type": "markdown",
      "metadata": {
        "id": "H7SaGeyZE1U6"
      },
      "source": [
        "Nice! XGBoost was able to leverage the other features to outperform the simple threshold method.\n",
        "\n",
        "> Side note: Judging by the analysis in that other Notebook, you might be able to take this further by calculating some additional features from the text. For example, the number of words in the review text appears to correlate with the recommendation.\n",
        "\n",
        "| Strategy                             | F1 Score |\n",
        "|--------------------------------------|----------|\n",
        "| Always predict “recommended”         | 0.906    |\n",
        "| Predict “recommended” if rating >= 3 | 0.953    |\n",
        "| XGBoost                              | 0.965    |\n"
      ]
    },
    {
      "cell_type": "markdown",
      "metadata": {
        "id": "208glSGvtmz4"
      },
      "source": [
        "**Feature Importance**"
      ]
    },
    {
      "cell_type": "markdown",
      "metadata": {
        "id": "Jjmal_a4wmV1"
      },
      "source": [
        "There are some techniques for assessing how valuable XGBoost thinks each of these features is.\n",
        "\n",
        "Below is a built-in method for this."
      ]
    },
    {
      "cell_type": "code",
      "metadata": {
        "colab": {
          "base_uri": "https://localhost:8080/",
          "height": 295
        },
        "id": "9JV3YfJ3GQLD",
        "outputId": "49058f88-d8a8-41fa-b790-a00ca2078545"
      },
      "source": [
        "from xgboost import plot_importance\n",
        "from matplotlib import pyplot\n",
        "\n",
        "# plot feature importance\n",
        "plot_importance(model)\n",
        "\n",
        "pyplot.show()"
      ],
      "execution_count": null,
      "outputs": [
        {
          "output_type": "display_data",
          "data": {
            "image/png": "[encoded data removed]",
            "text/plain": [
              "<Figure size 432x288 with 1 Axes>"
            ]
          },
          "metadata": {
            "tags": [],
            "needs_background": "light"
          }
        }
      ]
    },
    {
      "cell_type": "markdown",
      "metadata": {
        "id": "D_rMU-XMxJoj"
      },
      "source": [
        "This shows \"Rating\" as the strongest feature, which aligns with our understanding. "
      ]
    },
    {
      "cell_type": "markdown",
      "metadata": {
        "id": "MrN0-mEdHXI0"
      },
      "source": [
        "This [article](https://towardsdatascience.com/be-careful-when-interpreting-your-features-importance-in-xgboost-6e16132588e7) recommends looking specifically at \"gain\" as the best measure of feature importance. \n"
      ]
    },
    {
      "cell_type": "code",
      "metadata": {
        "colab": {
          "base_uri": "https://localhost:8080/",
          "height": 396
        },
        "id": "-nDxH7sZGjmb",
        "outputId": "746ccf35-73c6-48ac-b6e2-4c38f43c42b7"
      },
      "source": [
        "feat_gains = model.get_booster().get_score(importance_type=\"gain\")\n",
        "\n",
        "pyplot.bar(feat_gains.keys(), feat_gains.values())\n",
        "pyplot.xticks(rotation = 90)"
      ],
      "execution_count": null,
      "outputs": [
        {
          "output_type": "execute_result",
          "data": {
            "text/plain": [
              "([0, 1, 2, 3, 4, 5, 6], <a list of 7 Text major ticklabel objects>)"
            ]
          },
          "metadata": {
            "tags": []
          },
          "execution_count": 12
        },
        {
          "output_type": "display_data",
          "data": {
            "image/png": "[encoded data removed]",
            "text/plain": [
              "<Figure size 432x288 with 1 Axes>"
            ]
          },
          "metadata": {
            "tags": [],
            "needs_background": "light"
          }
        }
      ]
    },
    {
      "cell_type": "markdown",
      "metadata": {
        "id": "AIfYy7cixd6c"
      },
      "source": [
        "This is a pretty different perspective! Again \"Rating\" is given a lot of weight, but this suggests that the other features aren't particularly useful. \n",
        "\n",
        "I'd have to dig more to try and understand the differences in these plots. Another approach to this analysis would be to simply drop individual features to see how much each one impacts the accuracy."
      ]
    },
    {
      "cell_type": "markdown",
      "metadata": {
        "id": "wsMNi7EoysB6"
      },
      "source": [
        "## 2.4. BERT on Review Text Only"
      ]
    },
    {
      "cell_type": "markdown",
      "metadata": {
        "id": "Z0QmFRZLywyb"
      },
      "source": [
        "For our final baseline, we can try applying BERT to just the review text, and ignoring all of the other features. \n",
        "\n",
        "To run this experiment, you can modify Section 3.1. to just use the review text. \n",
        "\n",
        "I ran this experiment and got an F1 score of `0.945`. That's a good score, but clearly we'd do better if we could incorporate the non-text features!\n",
        "\n",
        "| Strategy                             | F1 Score |\n",
        "|--------------------------------------|----------|\n",
        "| Always predict “recommended”         | 0.906    |\n",
        "| Predict “recommended” if rating >= 3 | 0.953    |\n",
        "| XGBoost                              | 0.965    |\n",
        "| BERT on review text                  | 0.945    |\n"
      ]
    },
    {
      "cell_type": "markdown",
      "metadata": {
        "id": "3XV5o0XY_4LL"
      },
      "source": [
        "# S3. BERT with All Features"
      ]
    },
    {
      "cell_type": "markdown",
      "metadata": {
        "id": "EQmjcPKwyftS"
      },
      "source": [
        "## 3.1. All Features to Text"
      ]
    },
    {
      "cell_type": "markdown",
      "metadata": {
        "id": "wAanHBNH6sQt"
      },
      "source": [
        "The simplest way to handle these non-text features is to convert them into text and concatenate them with the review text!\n",
        "\n",
        "I figured that BERT would make better use of these additional features given some additional context... For example, to handle the \"Age\" feature, instead of just prepending the number \"33\" on its own, I prepend the text \"I am 33 years old.\"\n",
        "\n",
        "> UPDATE: I learned from Ken that they simply added the features as strings separated by the “[SEP]” token (e.g., “Dresses [SEP] General [SEP] 34 [SEP] 5 …”) Ken’s approach achieved the same test set score in their experiments, and saves significantly on the sequence length!\n"
      ]
    },
    {
      "cell_type": "code",
      "metadata": {
        "id": "zLjJ2Fup6duN",
        "colab": {
          "base_uri": "https://localhost:8080/"
        },
        "outputId": "2d997d1b-30d5-4f02-9c59-0d03b968568c"
      },
      "source": [
        "# This will hold all of the dataset samples, as strings.\n",
        "sen_w_feats = []\n",
        "\n",
        "# The labels for the samples.\n",
        "labels = []\n",
        "\n",
        "# First, reload the dataset to undo the transformations we applied for XGBoost.\n",
        "data_df = pd.read_csv('Womens Clothing E-Commerce Reviews.csv', index_col=0)\n",
        "\n",
        "# Some of the reviews are missing either a \"Title\" or \"Review Text\", so we'll \n",
        "# replace the NaN values with empty string.\n",
        "data_df = data_df.fillna(\"\")\n",
        "\n",
        "\n",
        "print('Combining features into strings...')\n",
        "\n",
        "# For each of the samples...\n",
        "for index, row in data_df.iterrows():\n",
        "\n",
        "    # Piece it together...    \n",
        "    combined = \"\"\n",
        "    \n",
        "    #combined += \"The ID of this item is {:}, \".format(row[\"Clothing ID\"])\n",
        "    combined += \"This item comes from the {:} department and {:} division, \" \\\n",
        "                \"and is classified under {:}. \".format(row[\"Department Name\"], \n",
        "                                                       row[\"Division Name\"], \n",
        "                                                       row[\"Class Name\"])\n",
        "    \n",
        "    combined += \"I am {:} years old. \".format(row[\"Age\"])\n",
        "    \n",
        "    combined += \"I rate this item {:} out of 5 stars. \".format(row[\"Rating\"])\n",
        "    \n",
        "    # Not all samples have titles.\n",
        "    if not row[\"Title\"] == \"\":\n",
        "        combined += row[\"Title\"] + \". \"\n",
        "    \n",
        "    # Finally, append the review the text!\n",
        "    combined += row[\"Review Text\"]\n",
        "    \n",
        "    # Add the combined text to the list.\n",
        "    sen_w_feats.append(combined)\n",
        "\n",
        "    # Also record the sample's label.\n",
        "    labels.append(row[\"Recommended IND\"])\n",
        "\n",
        "print('  DONE.')\n",
        "\n",
        "print('Dataset contains {:,} samples.'.format(len(sen_w_feats)))"
      ],
      "execution_count": null,
      "outputs": [
        {
          "output_type": "stream",
          "text": [
            "Combining features into strings...\n",
            "  DONE.\n",
            "Dataset contains 23,486 samples.\n"
          ],
          "name": "stdout"
        }
      ]
    },
    {
      "cell_type": "markdown",
      "metadata": {
        "id": "-_5C0Rw-1tUl"
      },
      "source": [
        "Let's print one of the samples to see the result. The first three sentences are generated and insterted by me (in the code above), and the rest is from the original review."
      ]
    },
    {
      "cell_type": "code",
      "metadata": {
        "colab": {
          "base_uri": "https://localhost:8080/"
        },
        "id": "M-StersG0NH-",
        "outputId": "d2c304d0-1d9d-4feb-e143-993852a7d80d"
      },
      "source": [
        "import textwrap\n",
        "\n",
        "# Wrap text to 80 characters.\n",
        "wrapper = textwrap.TextWrapper(width=80) \n",
        "\n",
        "print(wrapper.fill(sen_w_feats[1]))"
      ],
      "execution_count": null,
      "outputs": [
        {
          "output_type": "stream",
          "text": [
            "This item comes from the Dresses department and General division, and is\n",
            "classified under Dresses. I am 34 years old. I rate this item 5 out of 5 stars.\n",
            "Love this dress!  it's sooo pretty.  i happened to find it in a store, and i'm\n",
            "glad i did bc i never would have ordered it online bc it's petite.  i bought a\n",
            "petite and am 5'8\".  i love the length on me- hits just a little below the knee.\n",
            "would definitely be a true midi on someone who is truly petite.\n"
          ],
          "name": "stdout"
        }
      ]
    },
    {
      "cell_type": "markdown",
      "metadata": {
        "id": "RX_ZDhicpHkV"
      },
      "source": [
        "## 3.2. GPU & Transformers Setup"
      ]
    },
    {
      "cell_type": "markdown",
      "metadata": {
        "id": "i40ME_S016vM"
      },
      "source": [
        "Complete a number of standard setup tasks for BERT."
      ]
    },
    {
      "cell_type": "markdown",
      "metadata": {
        "id": "cqG7FzRVFEIv"
      },
      "source": [
        "Tell PyTorch to use the GPU. "
      ]
    },
    {
      "cell_type": "code",
      "metadata": {
        "id": "oYsV4H8fCpZ-",
        "colab": {
          "base_uri": "https://localhost:8080/"
        },
        "outputId": "02bc328c-239b-4973-8ee0-865a8f4d668b"
      },
      "source": [
        "import torch\n",
        "\n",
        "# If there's a GPU available...\n",
        "if torch.cuda.is_available():    \n",
        "\n",
        "    # Tell PyTorch to use the GPU.    \n",
        "    device = torch.device(\"cuda\")\n",
        "\n",
        "    print('There are %d GPU(s) available.' % torch.cuda.device_count())\n",
        "\n",
        "    print('We will use the GPU:', torch.cuda.get_device_name(0))\n",
        "\n",
        "# If not...\n",
        "else:\n",
        "    print('No GPU available, using the CPU instead.')\n",
        "    device = torch.device(\"cpu\")"
      ],
      "execution_count": null,
      "outputs": [
        {
          "output_type": "stream",
          "text": [
            "There are 1 GPU(s) available.\n",
            "We will use the GPU: Tesla P100-PCIE-16GB\n"
          ],
          "name": "stdout"
        }
      ]
    },
    {
      "cell_type": "markdown",
      "metadata": {
        "id": "lvXjR6ft2N6c"
      },
      "source": [
        "Install huggingface transformers."
      ]
    },
    {
      "cell_type": "code",
      "metadata": {
        "id": "0NmMdkZO8R6q",
        "colab": {
          "base_uri": "https://localhost:8080/"
        },
        "outputId": "296e4f42-dafa-4096-e123-8b84df971157"
      },
      "source": [
        "!pip install transformers"
      ],
      "execution_count": null,
      "outputs": [
        {
          "output_type": "stream",
          "text": [
            "Collecting transformers\n",
            "\u001b[?25l  Downloading https://files.pythonhosted.org/packages/00/92/6153f4912b84ee1ab53ab45663d23e7cf3704161cb5ef18b0c07e207cef2/transformers-4.7.0-py3-none-any.whl (2.5MB)\n",
            "\r\u001b[K     |▏                               | 10kB 22.7MB/s eta 0:00:01\r\u001b[K     |▎                               | 20kB 17.9MB/s eta 0:00:01\r\u001b[K     |▍                               | 30kB 15.2MB/s eta 0:00:01\r\u001b[K     |▌                               | 40kB 14.1MB/s eta 0:00:01\r\u001b[K     |▋                               | 51kB 8.0MB/s eta 0:00:01\r\u001b[K     |▉                               | 61kB 7.7MB/s eta 0:00:01\r\u001b[K     |█                               | 71kB 8.6MB/s eta 0:00:01\r\u001b[K     |█                               | 81kB 9.1MB/s eta 0:00:01\r\u001b[K     |█▏                              | 92kB 9.4MB/s eta 0:00:01\r\u001b[K     |█▎                              | 102kB 7.8MB/s eta 0:00:01\r\u001b[K     |█▌                              | 112kB 7.8MB/s eta 0:00:01\r\u001b[K     |█▋                              | 122kB 7.8MB/s eta 0:00:01\r\u001b[K     |█▊                              | 133kB 7.8MB/s eta 0:00:01\r\u001b[K     |█▉                              | 143kB 7.8MB/s eta 0:00:01\r\u001b[K     |██                              | 153kB 7.8MB/s eta 0:00:01\r\u001b[K     |██▏                             | 163kB 7.8MB/s eta 0:00:01\r\u001b[K     |██▎                             | 174kB 7.8MB/s eta 0:00:01\r\u001b[K     |██▍                             | 184kB 7.8MB/s eta 0:00:01\r\u001b[K     |██▌                             | 194kB 7.8MB/s eta 0:00:01\r\u001b[K     |██▋                             | 204kB 7.8MB/s eta 0:00:01\r\u001b[K     |██▉                             | 215kB 7.8MB/s eta 0:00:01\r\u001b[K     |███                             | 225kB 7.8MB/s eta 0:00:01\r\u001b[K     |███                             | 235kB 7.8MB/s eta 0:00:01\r\u001b[K     |███▏                            | 245kB 7.8MB/s eta 0:00:01\r\u001b[K     |███▎                            | 256kB 7.8MB/s eta 0:00:01\r\u001b[K     |███▌                            | 266kB 7.8MB/s eta 0:00:01\r\u001b[K     |███▋                            | 276kB 7.8MB/s eta 0:00:01\r\u001b[K     |███▊                            | 286kB 7.8MB/s eta 0:00:01\r\u001b[K     |███▉                            | 296kB 7.8MB/s eta 0:00:01\r\u001b[K     |████                            | 307kB 7.8MB/s eta 0:00:01\r\u001b[K     |████                            | 317kB 7.8MB/s eta 0:00:01\r\u001b[K     |████▎                           | 327kB 7.8MB/s eta 0:00:01\r\u001b[K     |████▍                           | 337kB 7.8MB/s eta 0:00:01\r\u001b[K     |████▌                           | 348kB 7.8MB/s eta 0:00:01\r\u001b[K     |████▋                           | 358kB 7.8MB/s eta 0:00:01\r\u001b[K     |████▊                           | 368kB 7.8MB/s eta 0:00:01\r\u001b[K     |█████                           | 378kB 7.8MB/s eta 0:00:01\r\u001b[K     |█████                           | 389kB 7.8MB/s eta 0:00:01\r\u001b[K     |█████▏                          | 399kB 7.8MB/s eta 0:00:01\r\u001b[K     |█████▎                          | 409kB 7.8MB/s eta 0:00:01\r\u001b[K     |█████▍                          | 419kB 7.8MB/s eta 0:00:01\r\u001b[K     |█████▋                          | 430kB 7.8MB/s eta 0:00:01\r\u001b[K     |█████▊                          | 440kB 7.8MB/s eta 0:00:01\r\u001b[K     |█████▉                          | 450kB 7.8MB/s eta 0:00:01\r\u001b[K     |██████                          | 460kB 7.8MB/s eta 0:00:01\r\u001b[K     |██████                          | 471kB 7.8MB/s eta 0:00:01\r\u001b[K     |██████▎                         | 481kB 7.8MB/s eta 0:00:01\r\u001b[K     |██████▍                         | 491kB 7.8MB/s eta 0:00:01\r\u001b[K     |██████▌                         | 501kB 7.8MB/s eta 0:00:01\r\u001b[K     |██████▋                         | 512kB 7.8MB/s eta 0:00:01\r\u001b[K     |██████▊                         | 522kB 7.8MB/s eta 0:00:01\r\u001b[K     |███████                         | 532kB 7.8MB/s eta 0:00:01\r\u001b[K     |███████                         | 542kB 7.8MB/s eta 0:00:01\r\u001b[K     |███████▏                        | 552kB 7.8MB/s eta 0:00:01\r\u001b[K     |███████▎                        | 563kB 7.8MB/s eta 0:00:01\r\u001b[K     |███████▍                        | 573kB 7.8MB/s eta 0:00:01\r\u001b[K     |███████▌                        | 583kB 7.8MB/s eta 0:00:01\r\u001b[K     |███████▊                        | 593kB 7.8MB/s eta 0:00:01\r\u001b[K     |███████▉                        | 604kB 7.8MB/s eta 0:00:01\r\u001b[K     |████████                        | 614kB 7.8MB/s eta 0:00:01\r\u001b[K     |████████                        | 624kB 7.8MB/s eta 0:00:01\r\u001b[K     |████████▏                       | 634kB 7.8MB/s eta 0:00:01\r\u001b[K     |████████▍                       | 645kB 7.8MB/s eta 0:00:01\r\u001b[K     |████████▌                       | 655kB 7.8MB/s eta 0:00:01\r\u001b[K     |████████▋                       | 665kB 7.8MB/s eta 0:00:01\r\u001b[K     |████████▊                       | 675kB 7.8MB/s eta 0:00:01\r\u001b[K     |████████▉                       | 686kB 7.8MB/s eta 0:00:01\r\u001b[K     |█████████                       | 696kB 7.8MB/s eta 0:00:01\r\u001b[K     |█████████▏                      | 706kB 7.8MB/s eta 0:00:01\r\u001b[K     |█████████▎                      | 716kB 7.8MB/s eta 0:00:01\r\u001b[K     |█████████▍                      | 727kB 7.8MB/s eta 0:00:01\r\u001b[K     |█████████▌                      | 737kB 7.8MB/s eta 0:00:01\r\u001b[K     |█████████▊                      | 747kB 7.8MB/s eta 0:00:01\r\u001b[K     |█████████▉                      | 757kB 7.8MB/s eta 0:00:01\r\u001b[K     |██████████                      | 768kB 7.8MB/s eta 0:00:01\r\u001b[K     |██████████                      | 778kB 7.8MB/s eta 0:00:01\r\u001b[K     |██████████▏                     | 788kB 7.8MB/s eta 0:00:01\r\u001b[K     |██████████▍                     | 798kB 7.8MB/s eta 0:00:01\r\u001b[K     |██████████▌                     | 808kB 7.8MB/s eta 0:00:01\r\u001b[K     |██████████▋                     | 819kB 7.8MB/s eta 0:00:01\r\u001b[K     |██████████▊                     | 829kB 7.8MB/s eta 0:00:01\r\u001b[K     |██████████▉                     | 839kB 7.8MB/s eta 0:00:01\r\u001b[K     |███████████                     | 849kB 7.8MB/s eta 0:00:01\r\u001b[K     |███████████▏                    | 860kB 7.8MB/s eta 0:00:01\r\u001b[K     |███████████▎                    | 870kB 7.8MB/s eta 0:00:01\r\u001b[K     |███████████▍                    | 880kB 7.8MB/s eta 0:00:01\r\u001b[K     |███████████▌                    | 890kB 7.8MB/s eta 0:00:01\r\u001b[K     |███████████▋                    | 901kB 7.8MB/s eta 0:00:01\r\u001b[K     |███████████▉                    | 911kB 7.8MB/s eta 0:00:01\r\u001b[K     |████████████                    | 921kB 7.8MB/s eta 0:00:01\r\u001b[K     |████████████                    | 931kB 7.8MB/s eta 0:00:01\r\u001b[K     |████████████▏                   | 942kB 7.8MB/s eta 0:00:01\r\u001b[K     |████████████▎                   | 952kB 7.8MB/s eta 0:00:01\r\u001b[K     |████████████▌                   | 962kB 7.8MB/s eta 0:00:01\r\u001b[K     |████████████▋                   | 972kB 7.8MB/s eta 0:00:01\r\u001b[K     |████████████▊                   | 983kB 7.8MB/s eta 0:00:01\r\u001b[K     |████████████▉                   | 993kB 7.8MB/s eta 0:00:01\r\u001b[K     |█████████████                   | 1.0MB 7.8MB/s eta 0:00:01\r\u001b[K     |█████████████▏                  | 1.0MB 7.8MB/s eta 0:00:01\r\u001b[K     |█████████████▎                  | 1.0MB 7.8MB/s eta 0:00:01\r\u001b[K     |█████████████▍                  | 1.0MB 7.8MB/s eta 0:00:01\r\u001b[K     |█████████████▌                  | 1.0MB 7.8MB/s eta 0:00:01\r\u001b[K     |█████████████▋                  | 1.1MB 7.8MB/s eta 0:00:01\r\u001b[K     |█████████████▉                  | 1.1MB 7.8MB/s eta 0:00:01\r\u001b[K     |██████████████                  | 1.1MB 7.8MB/s eta 0:00:01\r\u001b[K     |██████████████                  | 1.1MB 7.8MB/s eta 0:00:01\r\u001b[K     |██████████████▏                 | 1.1MB 7.8MB/s eta 0:00:01\r\u001b[K     |██████████████▎                 | 1.1MB 7.8MB/s eta 0:00:01\r\u001b[K     |██████████████▍                 | 1.1MB 7.8MB/s eta 0:00:01\r\u001b[K     |██████████████▋                 | 1.1MB 7.8MB/s eta 0:00:01\r\u001b[K     |██████████████▊                 | 1.1MB 7.8MB/s eta 0:00:01\r\u001b[K     |██████████████▉                 | 1.1MB 7.8MB/s eta 0:00:01\r\u001b[K     |███████████████                 | 1.2MB 7.8MB/s eta 0:00:01\r\u001b[K     |███████████████                 | 1.2MB 7.8MB/s eta 0:00:01\r\u001b[K     |███████████████▎                | 1.2MB 7.8MB/s eta 0:00:01\r\u001b[K     |███████████████▍                | 1.2MB 7.8MB/s eta 0:00:01\r\u001b[K     |███████████████▌                | 1.2MB 7.8MB/s eta 0:00:01\r\u001b[K     |███████████████▋                | 1.2MB 7.8MB/s eta 0:00:01\r\u001b[K     |███████████████▊                | 1.2MB 7.8MB/s eta 0:00:01\r\u001b[K     |████████████████                | 1.2MB 7.8MB/s eta 0:00:01\r\u001b[K     |████████████████                | 1.2MB 7.8MB/s eta 0:00:01\r\u001b[K     |████████████████▏               | 1.2MB 7.8MB/s eta 0:00:01\r\u001b[K     |████████████████▎               | 1.3MB 7.8MB/s eta 0:00:01\r\u001b[K     |████████████████▍               | 1.3MB 7.8MB/s eta 0:00:01\r\u001b[K     |████████████████▋               | 1.3MB 7.8MB/s eta 0:00:01\r\u001b[K     |████████████████▊               | 1.3MB 7.8MB/s eta 0:00:01\r\u001b[K     |████████████████▉               | 1.3MB 7.8MB/s eta 0:00:01\r\u001b[K     |█████████████████               | 1.3MB 7.8MB/s eta 0:00:01\r\u001b[K     |█████████████████               | 1.3MB 7.8MB/s eta 0:00:01\r\u001b[K     |█████████████████▎              | 1.3MB 7.8MB/s eta 0:00:01\r\u001b[K     |█████████████████▍              | 1.3MB 7.8MB/s eta 0:00:01\r\u001b[K     |█████████████████▌              | 1.4MB 7.8MB/s eta 0:00:01\r\u001b[K     |█████████████████▋              | 1.4MB 7.8MB/s eta 0:00:01\r\u001b[K     |█████████████████▊              | 1.4MB 7.8MB/s eta 0:00:01\r\u001b[K     |█████████████████▉              | 1.4MB 7.8MB/s eta 0:00:01\r\u001b[K     |██████████████████              | 1.4MB 7.8MB/s eta 0:00:01\r\u001b[K     |██████████████████▏             | 1.4MB 7.8MB/s eta 0:00:01\r\u001b[K     |██████████████████▎             | 1.4MB 7.8MB/s eta 0:00:01\r\u001b[K     |██████████████████▍             | 1.4MB 7.8MB/s eta 0:00:01\r\u001b[K     |██████████████████▌             | 1.4MB 7.8MB/s eta 0:00:01\r\u001b[K     |██████████████████▊             | 1.4MB 7.8MB/s eta 0:00:01\r\u001b[K     |██████████████████▉             | 1.5MB 7.8MB/s eta 0:00:01\r\u001b[K     |███████████████████             | 1.5MB 7.8MB/s eta 0:00:01\r\u001b[K     |███████████████████             | 1.5MB 7.8MB/s eta 0:00:01\r\u001b[K     |███████████████████▏            | 1.5MB 7.8MB/s eta 0:00:01\r\u001b[K     |███████████████████▍            | 1.5MB 7.8MB/s eta 0:00:01\r\u001b[K     |███████████████████▌            | 1.5MB 7.8MB/s eta 0:00:01\r\u001b[K     |███████████████████▋            | 1.5MB 7.8MB/s eta 0:00:01\r\u001b[K     |███████████████████▊            | 1.5MB 7.8MB/s eta 0:00:01\r\u001b[K     |███████████████████▉            | 1.5MB 7.8MB/s eta 0:00:01\r\u001b[K     |████████████████████            | 1.5MB 7.8MB/s eta 0:00:01\r\u001b[K     |████████████████████▏           | 1.6MB 7.8MB/s eta 0:00:01\r\u001b[K     |████████████████████▎           | 1.6MB 7.8MB/s eta 0:00:01\r\u001b[K     |████████████████████▍           | 1.6MB 7.8MB/s eta 0:00:01\r\u001b[K     |████████████████████▌           | 1.6MB 7.8MB/s eta 0:00:01\r\u001b[K     |████████████████████▊           | 1.6MB 7.8MB/s eta 0:00:01\r\u001b[K     |████████████████████▉           | 1.6MB 7.8MB/s eta 0:00:01\r\u001b[K     |█████████████████████           | 1.6MB 7.8MB/s eta 0:00:01\r\u001b[K     |█████████████████████           | 1.6MB 7.8MB/s eta 0:00:01\r\u001b[K     |█████████████████████▏          | 1.6MB 7.8MB/s eta 0:00:01\r\u001b[K     |█████████████████████▎          | 1.6MB 7.8MB/s eta 0:00:01\r\u001b[K     |█████████████████████▌          | 1.7MB 7.8MB/s eta 0:00:01\r\u001b[K     |█████████████████████▋          | 1.7MB 7.8MB/s eta 0:00:01\r\u001b[K     |█████████████████████▊          | 1.7MB 7.8MB/s eta 0:00:01\r\u001b[K     |█████████████████████▉          | 1.7MB 7.8MB/s eta 0:00:01\r\u001b[K     |██████████████████████          | 1.7MB 7.8MB/s eta 0:00:01\r\u001b[K     |██████████████████████▏         | 1.7MB 7.8MB/s eta 0:00:01\r\u001b[K     |██████████████████████▎         | 1.7MB 7.8MB/s eta 0:00:01\r\u001b[K     |██████████████████████▍         | 1.7MB 7.8MB/s eta 0:00:01\r\u001b[K     |██████████████████████▌         | 1.7MB 7.8MB/s eta 0:00:01\r\u001b[K     |██████████████████████▋         | 1.8MB 7.8MB/s eta 0:00:01\r\u001b[K     |██████████████████████▉         | 1.8MB 7.8MB/s eta 0:00:01\r\u001b[K     |███████████████████████         | 1.8MB 7.8MB/s eta 0:00:01\r\u001b[K     |███████████████████████         | 1.8MB 7.8MB/s eta 0:00:01\r\u001b[K     |███████████████████████▏        | 1.8MB 7.8MB/s eta 0:00:01\r\u001b[K     |███████████████████████▎        | 1.8MB 7.8MB/s eta 0:00:01\r\u001b[K     |███████████████████████▌        | 1.8MB 7.8MB/s eta 0:00:01\r\u001b[K     |███████████████████████▋        | 1.8MB 7.8MB/s eta 0:00:01\r\u001b[K     |███████████████████████▊        | 1.8MB 7.8MB/s eta 0:00:01\r\u001b[K     |███████████████████████▉        | 1.8MB 7.8MB/s eta 0:00:01\r\u001b[K     |████████████████████████        | 1.9MB 7.8MB/s eta 0:00:01\r\u001b[K     |████████████████████████▏       | 1.9MB 7.8MB/s eta 0:00:01\r\u001b[K     |████████████████████████▎       | 1.9MB 7.8MB/s eta 0:00:01\r\u001b[K     |████████████████████████▍       | 1.9MB 7.8MB/s eta 0:00:01\r\u001b[K     |████████████████████████▌       | 1.9MB 7.8MB/s eta 0:00:01\r\u001b[K     |████████████████████████▋       | 1.9MB 7.8MB/s eta 0:00:01\r\u001b[K     |████████████████████████▊       | 1.9MB 7.8MB/s eta 0:00:01\r\u001b[K     |█████████████████████████       | 1.9MB 7.8MB/s eta 0:00:01\r\u001b[K     |█████████████████████████       | 1.9MB 7.8MB/s eta 0:00:01\r\u001b[K     |█████████████████████████▏      | 1.9MB 7.8MB/s eta 0:00:01\r\u001b[K     |█████████████████████████▎      | 2.0MB 7.8MB/s eta 0:00:01\r\u001b[K     |█████████████████████████▍      | 2.0MB 7.8MB/s eta 0:00:01\r\u001b[K     |█████████████████████████▋      | 2.0MB 7.8MB/s eta 0:00:01\r\u001b[K     |█████████████████████████▊      | 2.0MB 7.8MB/s eta 0:00:01\r\u001b[K     |█████████████████████████▉      | 2.0MB 7.8MB/s eta 0:00:01\r\u001b[K     |██████████████████████████      | 2.0MB 7.8MB/s eta 0:00:01\r\u001b[K     |██████████████████████████      | 2.0MB 7.8MB/s eta 0:00:01\r\u001b[K     |██████████████████████████▎     | 2.0MB 7.8MB/s eta 0:00:01\r\u001b[K     |██████████████████████████▍     | 2.0MB 7.8MB/s eta 0:00:01\r\u001b[K     |██████████████████████████▌     | 2.0MB 7.8MB/s eta 0:00:01\r\u001b[K     |██████████████████████████▋     | 2.1MB 7.8MB/s eta 0:00:01\r\u001b[K     |██████████████████████████▊     | 2.1MB 7.8MB/s eta 0:00:01\r\u001b[K     |███████████████████████████     | 2.1MB 7.8MB/s eta 0:00:01\r\u001b[K     |███████████████████████████     | 2.1MB 7.8MB/s eta 0:00:01\r\u001b[K     |███████████████████████████▏    | 2.1MB 7.8MB/s eta 0:00:01\r\u001b[K     |███████████████████████████▎    | 2.1MB 7.8MB/s eta 0:00:01\r\u001b[K     |███████████████████████████▍    | 2.1MB 7.8MB/s eta 0:00:01\r\u001b[K     |███████████████████████████▋    | 2.1MB 7.8MB/s eta 0:00:01\r\u001b[K     |███████████████████████████▊    | 2.1MB 7.8MB/s eta 0:00:01\r\u001b[K     |███████████████████████████▉    | 2.2MB 7.8MB/s eta 0:00:01\r\u001b[K     |████████████████████████████    | 2.2MB 7.8MB/s eta 0:00:01\r\u001b[K     |████████████████████████████    | 2.2MB 7.8MB/s eta 0:00:01\r\u001b[K     |████████████████████████████▏   | 2.2MB 7.8MB/s eta 0:00:01\r\u001b[K     |████████████████████████████▍   | 2.2MB 7.8MB/s eta 0:00:01\r\u001b[K     |████████████████████████████▌   | 2.2MB 7.8MB/s eta 0:00:01\r\u001b[K     |████████████████████████████▋   | 2.2MB 7.8MB/s eta 0:00:01\r\u001b[K     |████████████████████████████▊   | 2.2MB 7.8MB/s eta 0:00:01\r\u001b[K     |████████████████████████████▉   | 2.2MB 7.8MB/s eta 0:00:01\r\u001b[K     |█████████████████████████████   | 2.2MB 7.8MB/s eta 0:00:01\r\u001b[K     |█████████████████████████████▏  | 2.3MB 7.8MB/s eta 0:00:01\r\u001b[K     |█████████████████████████████▎  | 2.3MB 7.8MB/s eta 0:00:01\r\u001b[K     |█████████████████████████████▍  | 2.3MB 7.8MB/s eta 0:00:01\r\u001b[K     |█████████████████████████████▌  | 2.3MB 7.8MB/s eta 0:00:01\r\u001b[K     |█████████████████████████████▊  | 2.3MB 7.8MB/s eta 0:00:01\r\u001b[K     |█████████████████████████████▉  | 2.3MB 7.8MB/s eta 0:00:01\r\u001b[K     |██████████████████████████████  | 2.3MB 7.8MB/s eta 0:00:01\r\u001b[K     |██████████████████████████████  | 2.3MB 7.8MB/s eta 0:00:01\r\u001b[K     |██████████████████████████████▏ | 2.3MB 7.8MB/s eta 0:00:01\r\u001b[K     |██████████████████████████████▍ | 2.3MB 7.8MB/s eta 0:00:01\r\u001b[K     |██████████████████████████████▌ | 2.4MB 7.8MB/s eta 0:00:01\r\u001b[K     |██████████████████████████████▋ | 2.4MB 7.8MB/s eta 0:00:01\r\u001b[K     |██████████████████████████████▊ | 2.4MB 7.8MB/s eta 0:00:01\r\u001b[K     |██████████████████████████████▉ | 2.4MB 7.8MB/s eta 0:00:01\r\u001b[K     |███████████████████████████████ | 2.4MB 7.8MB/s eta 0:00:01\r\u001b[K     |███████████████████████████████▏| 2.4MB 7.8MB/s eta 0:00:01\r\u001b[K     |███████████████████████████████▎| 2.4MB 7.8MB/s eta 0:00:01\r\u001b[K     |███████████████████████████████▍| 2.4MB 7.8MB/s eta 0:00:01\r\u001b[K     |███████████████████████████████▌| 2.4MB 7.8MB/s eta 0:00:01\r\u001b[K     |███████████████████████████████▋| 2.4MB 7.8MB/s eta 0:00:01\r\u001b[K     |███████████████████████████████▉| 2.5MB 7.8MB/s eta 0:00:01\r\u001b[K     |████████████████████████████████| 2.5MB 7.8MB/s eta 0:00:01\r\u001b[K     |████████████████████████████████| 2.5MB 7.8MB/s \n",
            "\u001b[?25hRequirement already satisfied: pyyaml in /usr/local/lib/python3.7/dist-packages (from transformers) (3.13)\n",
            "Requirement already satisfied: tqdm>=4.27 in /usr/local/lib/python3.7/dist-packages (from transformers) (4.41.1)\n",
            "Requirement already satisfied: packaging in /usr/local/lib/python3.7/dist-packages (from transformers) (20.9)\n",
            "Collecting huggingface-hub==0.0.8\n",
            "  Downloading https://files.pythonhosted.org/packages/a1/88/7b1e45720ecf59c6c6737ff332f41c955963090a18e72acbcbeac6b25e86/huggingface_hub-0.0.8-py3-none-any.whl\n",
            "Requirement already satisfied: numpy>=1.17 in /usr/local/lib/python3.7/dist-packages (from transformers) (1.19.5)\n",
            "Requirement already satisfied: requests in /usr/local/lib/python3.7/dist-packages (from transformers) (2.23.0)\n",
            "Collecting sacremoses\n",
            "\u001b[?25l  Downloading https://files.pythonhosted.org/packages/75/ee/67241dc87f266093c533a2d4d3d69438e57d7a90abb216fa076e7d475d4a/sacremoses-0.0.45-py3-none-any.whl (895kB)\n",
            "\u001b[K     |████████████████████████████████| 901kB 44.1MB/s \n",
            "\u001b[?25hCollecting tokenizers<0.11,>=0.10.1\n",
            "\u001b[?25l  Downloading https://files.pythonhosted.org/packages/d4/e2/df3543e8ffdab68f5acc73f613de9c2b155ac47f162e725dcac87c521c11/tokenizers-0.10.3-cp37-cp37m-manylinux_2_5_x86_64.manylinux1_x86_64.manylinux_2_12_x86_64.manylinux2010_x86_64.whl (3.3MB)\n",
            "\u001b[K     |████████████████████████████████| 3.3MB 47.3MB/s \n",
            "\u001b[?25hRequirement already satisfied: importlib-metadata; python_version < \"3.8\" in /usr/local/lib/python3.7/dist-packages (from transformers) (4.5.0)\n",
            "Requirement already satisfied: filelock in /usr/local/lib/python3.7/dist-packages (from transformers) (3.0.12)\n",
            "Requirement already satisfied: regex!=2019.12.17 in /usr/local/lib/python3.7/dist-packages (from transformers) (2019.12.20)\n",
            "Requirement already satisfied: pyparsing>=2.0.2 in /usr/local/lib/python3.7/dist-packages (from packaging->transformers) (2.4.7)\n",
            "Requirement already satisfied: urllib3!=1.25.0,!=1.25.1,<1.26,>=1.21.1 in /usr/local/lib/python3.7/dist-packages (from requests->transformers) (1.24.3)\n",
            "Requirement already satisfied: chardet<4,>=3.0.2 in /usr/local/lib/python3.7/dist-packages (from requests->transformers) (3.0.4)\n",
            "Requirement already satisfied: idna<3,>=2.5 in /usr/local/lib/python3.7/dist-packages (from requests->transformers) (2.10)\n",
            "Requirement already satisfied: certifi>=2017.4.17 in /usr/local/lib/python3.7/dist-packages (from requests->transformers) (2021.5.30)\n",
            "Requirement already satisfied: six in /usr/local/lib/python3.7/dist-packages (from sacremoses->transformers) (1.15.0)\n",
            "Requirement already satisfied: joblib in /usr/local/lib/python3.7/dist-packages (from sacremoses->transformers) (1.0.1)\n",
            "Requirement already satisfied: click in /usr/local/lib/python3.7/dist-packages (from sacremoses->transformers) (7.1.2)\n",
            "Requirement already satisfied: typing-extensions>=3.6.4; python_version < \"3.8\" in /usr/local/lib/python3.7/dist-packages (from importlib-metadata; python_version < \"3.8\"->transformers) (3.7.4.3)\n",
            "Requirement already satisfied: zipp>=0.5 in /usr/local/lib/python3.7/dist-packages (from importlib-metadata; python_version < \"3.8\"->transformers) (3.4.1)\n",
            "Installing collected packages: huggingface-hub, sacremoses, tokenizers, transformers\n",
            "Successfully installed huggingface-hub-0.0.8 sacremoses-0.0.45 tokenizers-0.10.3 transformers-4.7.0\n"
          ],
          "name": "stdout"
        }
      ]
    },
    {
      "cell_type": "markdown",
      "metadata": {
        "id": "XBNf8drb2TRM"
      },
      "source": [
        "Load the tokenizer."
      ]
    },
    {
      "cell_type": "code",
      "metadata": {
        "id": "Z474sSC6oe7A",
        "colab": {
          "base_uri": "https://localhost:8080/",
          "height": 183,
          "referenced_widgets": [
            "5a2ca771fb704796931badc250a4710b",
            "df618c712e244395827b15606012166f",
            "4ed4b857438c4c1a8aee41706bbd0e1c",
            "efc77f65f1ec4551bf2c0d8c4d22f856",
            "204654825aa2475197970a2a2f53d743",
            "168c276a350748d1b265573e7b7a9a35",
            "cda92370c26d4ebd950ba3a02d3d27cd",
            "09cf8b8fdee14578bf22cb3593e95f9d",
            "1476269b58db4d02a4ad4b102df71452",
            "5293024422ea4142b4ddb5e9ec3cda9e",
            "55cf76835a224bf68093abfc965c6e31",
            "78f866cdb077443589a07041e6ef056c",
            "3dd5b28334414950a5c3227b59eaea75",
            "021122626be74d9095e4eba6c8f4164c",
            "283d262434de482e90f81b4d4408deaa",
            "e5b9956b9c18473a8a046d09e04605fb",
            "6c0660d2f7e14f169f5b293dd25bdb61",
            "02aeb5e9b17b4b60b1210cc26c46fbd9",
            "e78c4ad52d65444c9e8bb95ef4dc045e",
            "8f3f97f462604668a6efeb512b996510",
            "5ef82444ee8145278e135cc6dbca17c5",
            "332a2a05064342b39735f96e25d14b2e",
            "96c9b7c395a64ce6b354db2416284851",
            "e0e88078dd4f49a9921f77767ce5ae4d"
          ]
        },
        "outputId": "e29fc308-ce7d-48eb-81b7-11f4ad00dc7a"
      },
      "source": [
        "from transformers import BertTokenizer\n",
        "\n",
        "# Load the BERT tokenizer.\n",
        "print('Loading BERT tokenizer...')\n",
        "tokenizer = BertTokenizer.from_pretrained('bert-base-uncased', do_lower_case=True)"
      ],
      "execution_count": null,
      "outputs": [
        {
          "output_type": "stream",
          "text": [
            "Loading BERT tokenizer...\n"
          ],
          "name": "stdout"
        },
        {
          "output_type": "display_data",
          "data": {
            "application/vnd.jupyter.widget-view+json": {
              "model_id": "5a2ca771fb704796931badc250a4710b",
              "version_minor": 0,
              "version_major": 2
            },
            "text/plain": [
              "HBox(children=(FloatProgress(value=0.0, description='Downloading', max=231508.0, style=ProgressStyle(descripti…"
            ]
          },
          "metadata": {
            "tags": []
          }
        },
        {
          "output_type": "stream",
          "text": [
            "\n"
          ],
          "name": "stdout"
        },
        {
          "output_type": "display_data",
          "data": {
            "application/vnd.jupyter.widget-view+json": {
              "model_id": "1476269b58db4d02a4ad4b102df71452",
              "version_minor": 0,
              "version_major": 2
            },
            "text/plain": [
              "HBox(children=(FloatProgress(value=0.0, description='Downloading', max=28.0, style=ProgressStyle(description_w…"
            ]
          },
          "metadata": {
            "tags": []
          }
        },
        {
          "output_type": "stream",
          "text": [
            "\n"
          ],
          "name": "stdout"
        },
        {
          "output_type": "display_data",
          "data": {
            "application/vnd.jupyter.widget-view+json": {
              "model_id": "6c0660d2f7e14f169f5b293dd25bdb61",
              "version_minor": 0,
              "version_major": 2
            },
            "text/plain": [
              "HBox(children=(FloatProgress(value=0.0, description='Downloading', max=466062.0, style=ProgressStyle(descripti…"
            ]
          },
          "metadata": {
            "tags": []
          }
        },
        {
          "output_type": "stream",
          "text": [
            "\n"
          ],
          "name": "stdout"
        }
      ]
    },
    {
      "cell_type": "markdown",
      "metadata": {
        "id": "WArTeY212odt"
      },
      "source": [
        "Load the BERT Classification model."
      ]
    },
    {
      "cell_type": "code",
      "metadata": {
        "id": "gFsCTp_mporB",
        "colab": {
          "base_uri": "https://localhost:8080/",
          "height": 224,
          "referenced_widgets": [
            "83b7b13e4933422cb7261d54fc419daf",
            "2c8c0207d3a4467881f35c2ac2cb16bc",
            "7d1a94b77e8a4bf68363f44c9faa2734",
            "f2c18e2fc9f24ac9b9424ddb104f7710",
            "bbd8409399fb43f484170614ba085d0b",
            "d80e61b01aeb4f88bcd5c29e1964afa2",
            "ef56fb61185649f593076ad78e6c4e19",
            "8f16b1362eca4f2e9afd9356acfdb269",
            "aacd2993ba43439496e1fa8d7848b785",
            "ac5cfb5ded434b87b8c939568c60b480",
            "31c9c14db0e342c1af016d1a5b8ed656",
            "2c2e638927724b19b0da2119193fc3ff",
            "660669d038114b4babb1b40e4987a127",
            "c8225a068137464e9b07eeb45ca383c4",
            "231703f6a0c447d8bc27bc5c5f84e1d2",
            "a2f5d5ded6444e788d635aebd856796b"
          ]
        },
        "outputId": "c1395ef8-1874-4757-918f-3643f3c19b8d"
      },
      "source": [
        "from transformers import BertForSequenceClassification\n",
        "\n",
        "# Load BertForSequenceClassification, the pretrained BERT model with a single \n",
        "# linear classification layer on top. \n",
        "model = BertForSequenceClassification.from_pretrained(\n",
        "    \"bert-base-uncased\", # Use the 12-layer BERT model, with an uncased vocab.\n",
        "    num_labels = 2, # The number of output labels--2 for binary classification.\n",
        ")\n",
        "\n",
        "# Tell pytorch to run this model on the GPU.\n",
        "desc = model.cuda()"
      ],
      "execution_count": null,
      "outputs": [
        {
          "output_type": "display_data",
          "data": {
            "application/vnd.jupyter.widget-view+json": {
              "model_id": "83b7b13e4933422cb7261d54fc419daf",
              "version_minor": 0,
              "version_major": 2
            },
            "text/plain": [
              "HBox(children=(FloatProgress(value=0.0, description='Downloading', max=570.0, style=ProgressStyle(description_…"
            ]
          },
          "metadata": {
            "tags": []
          }
        },
        {
          "output_type": "stream",
          "text": [
            "\n"
          ],
          "name": "stdout"
        },
        {
          "output_type": "display_data",
          "data": {
            "application/vnd.jupyter.widget-view+json": {
              "model_id": "aacd2993ba43439496e1fa8d7848b785",
              "version_minor": 0,
              "version_major": 2
            },
            "text/plain": [
              "HBox(children=(FloatProgress(value=0.0, description='Downloading', max=440473133.0, style=ProgressStyle(descri…"
            ]
          },
          "metadata": {
            "tags": []
          }
        },
        {
          "output_type": "stream",
          "text": [
            "\n"
          ],
          "name": "stdout"
        },
        {
          "output_type": "stream",
          "text": [
            "Some weights of the model checkpoint at bert-base-uncased were not used when initializing BertForSequenceClassification: ['cls.seq_relationship.bias', 'cls.predictions.decoder.weight', 'cls.predictions.transform.LayerNorm.weight', 'cls.predictions.bias', 'cls.predictions.transform.dense.bias', 'cls.predictions.transform.LayerNorm.bias', 'cls.predictions.transform.dense.weight', 'cls.seq_relationship.weight']\n",
            "- This IS expected if you are initializing BertForSequenceClassification from the checkpoint of a model trained on another task or with another architecture (e.g. initializing a BertForSequenceClassification model from a BertForPreTraining model).\n",
            "- This IS NOT expected if you are initializing BertForSequenceClassification from the checkpoint of a model that you expect to be exactly identical (initializing a BertForSequenceClassification model from a BertForSequenceClassification model).\n",
            "Some weights of BertForSequenceClassification were not initialized from the model checkpoint at bert-base-uncased and are newly initialized: ['classifier.bias', 'classifier.weight']\n",
            "You should probably TRAIN this model on a down-stream task to be able to use it for predictions and inference.\n"
          ],
          "name": "stderr"
        }
      ]
    },
    {
      "cell_type": "markdown",
      "metadata": {
        "id": "g7IzbLxb4x9s"
      },
      "source": [
        "## 3.3. Training Parameters"
      ]
    },
    {
      "cell_type": "markdown",
      "metadata": {
        "id": "yaEW4t_Z4109"
      },
      "source": [
        "Let's define all of our key training parameters in one section.\n",
        "\n",
        "For the purposes of fine-tuning, the BERT authors recommend choosing from the following values (from Appendix A.3 of the [BERT paper](https://arxiv.org/pdf/1810.04805.pdf)):\n",
        "\n",
        ">- **Batch size:** 16, 32  \n",
        "- **Learning rate (Adam):** 5e-5, 3e-5, 2e-5  \n",
        "- **Number of epochs:** 2, 3, 4 \n"
      ]
    },
    {
      "cell_type": "code",
      "metadata": {
        "id": "g3DxsSO0474t"
      },
      "source": [
        "# Larger batch sizes tend to be better, and we can fit this in memory.\n",
        "batch_size = 32\n",
        "\n",
        "# I used a smaller learning rate to combat over-fitting that I was seeing in the\n",
        "# validation loss. I could probably try even smaller.\n",
        "learning_rate = 1e-5\n",
        "\n",
        "# Number of training epochs. \n",
        "epochs = 4"
      ],
      "execution_count": null,
      "outputs": []
    },
    {
      "cell_type": "markdown",
      "metadata": {
        "id": "m7rr8z8x3TiE"
      },
      "source": [
        "Another key parameter is our \"maximum sequence length\", which we will truncate or pad all of our samples to. Setting this to a higher value requires more memory and slows down training, so we want to see how short we can get away with.\n",
        "\n",
        "We'll run a pass over the dataset to find the longest sequence and use this to inform our choice. "
      ]
    },
    {
      "cell_type": "code",
      "metadata": {
        "id": "cKsH2sU0OCQA",
        "colab": {
          "base_uri": "https://localhost:8080/"
        },
        "outputId": "cd8daa78-eeb7-429f-fe9e-cfbfe61d0bac"
      },
      "source": [
        "max_len = 0\n",
        "\n",
        "# For every sentence...\n",
        "for sent in sen_w_feats:\n",
        "\n",
        "    # Tokenize the text and add `[CLS]` and `[SEP]` tokens.\n",
        "    input_ids = tokenizer.encode(sent, add_special_tokens=True)\n",
        "\n",
        "    # Update the maximum sentence length.\n",
        "    max_len = max(max_len, len(input_ids))\n",
        "\n",
        "print('Max sentence length: ', max_len)"
      ],
      "execution_count": null,
      "outputs": [
        {
          "output_type": "stream",
          "text": [
            "Max sentence length:  204\n"
          ],
          "name": "stdout"
        }
      ]
    },
    {
      "cell_type": "code",
      "metadata": {
        "id": "E6HYLBalwm69"
      },
      "source": [
        "# Let's use a maximum length of 200.\n",
        "max_len = 200"
      ],
      "execution_count": null,
      "outputs": []
    },
    {
      "cell_type": "markdown",
      "metadata": {
        "id": "l6w8elb-58GJ"
      },
      "source": [
        "## 3.3. Tokenize & Encode"
      ]
    },
    {
      "cell_type": "markdown",
      "metadata": {
        "id": "tIWAoWL2RK1p"
      },
      "source": [
        "Now we can do the real tokenization and encoding.\n"
      ]
    },
    {
      "cell_type": "code",
      "metadata": {
        "id": "2bBdb3pt8LuQ",
        "colab": {
          "base_uri": "https://localhost:8080/"
        },
        "outputId": "24429110-9e9b-491d-8e24-8aad1c5338e7"
      },
      "source": [
        "# Tokenize all of the sentences and map the tokens to thier word IDs.\n",
        "input_ids = []\n",
        "attention_masks = []\n",
        "\n",
        "print('Encoding all reviews in the dataset...')\n",
        "\n",
        "# For every sentence...\n",
        "for sent in sen_w_feats:\n",
        "    # `encode_plus` will:\n",
        "    #   (1) Tokenize the sentence.\n",
        "    #   (2) Prepend the `[CLS]` token to the start.\n",
        "    #   (3) Append the `[SEP]` token to the end.\n",
        "    #   (4) Map tokens to their IDs.\n",
        "    #   (5) Pad or truncate the sentence to `max_length`\n",
        "    #   (6) Create attention masks for [PAD] tokens.\n",
        "    encoded_dict = tokenizer.encode_plus(\n",
        "                        sent,                      # Sentence to encode.\n",
        "                        add_special_tokens = True, # Add '[CLS]' and '[SEP]'\n",
        "                        max_length = max_len,           # Pad & truncate all sentences.\n",
        "                        truncation = True,\n",
        "                        padding = 'max_length',\n",
        "                        return_attention_mask = True,   # Construct attn. masks.\n",
        "                        return_tensors = 'pt',     # Return pytorch tensors.\n",
        "                )\n",
        "    \n",
        "    # Add the encoded sentence to the list.    \n",
        "    input_ids.append(encoded_dict['input_ids'])\n",
        "    \n",
        "    # And its attention mask (simply differentiates padding from non-padding).\n",
        "    attention_masks.append(encoded_dict['attention_mask'])\n",
        "\n",
        "# Convert the lists into tensors.\n",
        "input_ids = torch.cat(input_ids, dim=0)\n",
        "attention_masks = torch.cat(attention_masks, dim=0)\n",
        "labels = torch.tensor(labels)\n",
        "\n",
        "print('DONE.')"
      ],
      "execution_count": null,
      "outputs": [
        {
          "output_type": "stream",
          "text": [
            "Encoding all reviews in the dataset...\n",
            "DONE.\n"
          ],
          "name": "stdout"
        }
      ]
    },
    {
      "cell_type": "markdown",
      "metadata": {
        "id": "GsLSwdUZABTR"
      },
      "source": [
        "Now that it's done, we can divide up the samples into the three splits."
      ]
    },
    {
      "cell_type": "code",
      "metadata": {
        "id": "IadUCLro_yA_"
      },
      "source": [
        "from torch.utils.data import TensorDataset\n",
        "\n",
        "# Split the samples, and create TensorDatasets for each split. \n",
        "train_dataset = TensorDataset(input_ids[train_idx], attention_masks[train_idx], labels[train_idx])\n",
        "val_dataset = TensorDataset(input_ids[val_idx], attention_masks[val_idx], labels[val_idx])\n",
        "test_dataset = TensorDataset(input_ids[test_idx], attention_masks[test_idx], labels[test_idx])"
      ],
      "execution_count": null,
      "outputs": []
    },
    {
      "cell_type": "markdown",
      "metadata": {
        "id": "RqfmWwUR_Sox"
      },
      "source": [
        "## 3.4. Training"
      ]
    },
    {
      "cell_type": "markdown",
      "metadata": {
        "id": "3xYQ3iLO08SX"
      },
      "source": [
        "Now that our input data is properly formatted, it's time to fine tune the BERT model. "
      ]
    },
    {
      "cell_type": "markdown",
      "metadata": {
        "id": "gGw8YCkGAoiF"
      },
      "source": [
        "### 3.4.1. Setup"
      ]
    },
    {
      "cell_type": "markdown",
      "metadata": {
        "id": "dD9i6Z2pG-sN"
      },
      "source": [
        "We'll also create an iterator for our dataset using the torch DataLoader class. The DataLoader is responsible for randomly selecting our training batches for us."
      ]
    },
    {
      "cell_type": "code",
      "metadata": {
        "id": "XGUqOCtgqGhP"
      },
      "source": [
        "from torch.utils.data import DataLoader, RandomSampler, SequentialSampler\n",
        "\n",
        "# Create the DataLoaders for our training and validation sets.\n",
        "# We'll take training samples in random order. \n",
        "train_dataloader = DataLoader(\n",
        "            train_dataset,  # The training samples.\n",
        "            sampler = RandomSampler(train_dataset), # Select batches randomly\n",
        "            batch_size = batch_size # Trains with this batch size.\n",
        "        )\n",
        "\n",
        "# For validation the order doesn't matter, so we'll just read them sequentially.\n",
        "validation_dataloader = DataLoader(\n",
        "            val_dataset, # The validation samples.\n",
        "            sampler = SequentialSampler(val_dataset), # Pull out batches sequentially.\n",
        "            batch_size = batch_size # Evaluate with this batch size.\n",
        "        )"
      ],
      "execution_count": null,
      "outputs": []
    },
    {
      "cell_type": "markdown",
      "metadata": {
        "id": "8o-VEBobKwHk"
      },
      "source": [
        "Next we need to create the optimizer, passing it the weights from our BERT model.\n",
        "\n",
        "The epsilon parameter `eps = 1e-8` is \"a very small number to prevent any division by zero in the implementation\" (from [here](https://machinelearningmastery.com/adam-optimization-algorithm-for-deep-learning/))."
      ]
    },
    {
      "cell_type": "code",
      "metadata": {
        "id": "GLs72DuMODJO"
      },
      "source": [
        "from transformers import AdamW\n",
        "\n",
        "# Note: AdamW is a class from the huggingface library (as opposed to pytorch) \n",
        "# I believe the 'W' stands for 'Weight Decay fix\"\n",
        "optimizer = AdamW(model.parameters(),\n",
        "                  lr = learning_rate, \n",
        "                  eps = 1e-8 \n",
        "                )\n"
      ],
      "execution_count": null,
      "outputs": []
    },
    {
      "cell_type": "markdown",
      "metadata": {
        "id": "3IzrjQWNxNH8"
      },
      "source": [
        "The learning rate scheduler will implement learning rate decay for us."
      ]
    },
    {
      "cell_type": "code",
      "metadata": {
        "id": "-p0upAhhRiIx"
      },
      "source": [
        "from transformers import get_linear_schedule_with_warmup\n",
        "\n",
        "# Total number of training steps is [number of batches] x [number of epochs]. \n",
        "# (Note that this is not the same as the number of training samples!)\n",
        "total_steps = len(train_dataloader) * epochs\n",
        "\n",
        "# Create the learning rate scheduler.\n",
        "scheduler = get_linear_schedule_with_warmup(optimizer, \n",
        "                                            num_warmup_steps = 0, # Default value in run_glue.py\n",
        "                                            num_training_steps = total_steps)"
      ],
      "execution_count": null,
      "outputs": []
    },
    {
      "cell_type": "markdown",
      "metadata": {
        "id": "pE5B99H5H2-W"
      },
      "source": [
        "Define a helper function for calculating simple accuracy."
      ]
    },
    {
      "cell_type": "code",
      "metadata": {
        "id": "9cQNvaZ9bnyy"
      },
      "source": [
        "import numpy as np\n",
        "\n",
        "# Function to calculate the accuracy of our predictions vs labels\n",
        "def flat_accuracy(preds, labels):\n",
        "    pred_flat = np.argmax(preds, axis=1).flatten()\n",
        "    labels_flat = labels.flatten()\n",
        "    return np.sum(pred_flat == labels_flat) / len(labels_flat)"
      ],
      "execution_count": null,
      "outputs": []
    },
    {
      "cell_type": "markdown",
      "metadata": {
        "id": "KNhRtWPXH9C3"
      },
      "source": [
        "Helper function for formatting elapsed times as `hh:mm:ss`\n"
      ]
    },
    {
      "cell_type": "code",
      "metadata": {
        "id": "gpt6tR83keZD"
      },
      "source": [
        "import time\n",
        "import datetime\n",
        "\n",
        "def format_time(elapsed):\n",
        "    '''\n",
        "    Takes a time in seconds and returns a string hh:mm:ss\n",
        "    '''\n",
        "    # Round to the nearest second.\n",
        "    elapsed_rounded = int(round((elapsed)))\n",
        "    \n",
        "    # Format as hh:mm:ss\n",
        "    return str(datetime.timedelta(seconds=elapsed_rounded))\n"
      ],
      "execution_count": null,
      "outputs": []
    },
    {
      "cell_type": "markdown",
      "metadata": {
        "id": "_Tywzf6EA2fX"
      },
      "source": [
        "### 3.4.2. Training Loop"
      ]
    },
    {
      "cell_type": "markdown",
      "metadata": {
        "id": "cfNIhN19te3N"
      },
      "source": [
        "We're ready to kick off the training!"
      ]
    },
    {
      "cell_type": "markdown",
      "metadata": {
        "id": "_QXZhFb4LnV5"
      },
      "source": [
        "Below is our training loop. There's a lot going on, but fundamentally for each pass in our loop we have a trianing phase and a validation phase. \n",
        "\n",
        "> *Thank you to [Stas Bekman](https://ca.linkedin.com/in/stasbekman) for contributing the insights and code for using validation loss to detect over-fitting!*\n",
        "\n",
        "**Training:**\n",
        "- Unpack our data inputs and labels\n",
        "- Load data onto the GPU for acceleration\n",
        "- Clear out the gradients calculated in the previous pass. \n",
        "    - In pytorch the gradients accumulate by default (useful for things like RNNs) unless you explicitly clear them out.\n",
        "- Forward pass (feed input data through the network)\n",
        "- Backward pass (backpropagation)\n",
        "- Tell the network to update parameters with optimizer.step()\n",
        "- Track variables for monitoring progress\n",
        "\n",
        "**Evalution:**\n",
        "- Unpack our data inputs and labels\n",
        "- Load data onto the GPU for acceleration\n",
        "- Forward pass (feed input data through the network)\n",
        "- Compute loss on our validation data and track variables for monitoring progress\n",
        "\n",
        "Pytorch hides all of the detailed calculations from us, but we've commented the code to point out which of the above steps are happening on each line. \n",
        "\n",
        "> *PyTorch also has some [beginner tutorials](https://pytorch.org/tutorials/beginner/blitz/cifar10_tutorial.html#sphx-glr-beginner-blitz-cifar10-tutorial-py) which you may also find helpful.*"
      ]
    },
    {
      "cell_type": "code",
      "metadata": {
        "id": "6J-FYdx6nFE_",
        "colab": {
          "base_uri": "https://localhost:8080/"
        },
        "outputId": "5bd5fe1c-0751-42c0-f40e-937c995314a1"
      },
      "source": [
        "import random\n",
        "import numpy as np\n",
        "\n",
        "# This training code is based on the `run_glue.py` script here:\n",
        "# https://github.com/huggingface/transformers/blob/5bfcd0485ece086ebcbed2d008813037968a9e58/examples/run_glue.py#L128\n",
        "\n",
        "# Set the seed value all over the place to make this reproducible.\n",
        "seed_val = 42\n",
        "\n",
        "random.seed(seed_val)\n",
        "np.random.seed(seed_val)\n",
        "torch.manual_seed(seed_val)\n",
        "torch.cuda.manual_seed_all(seed_val)\n",
        "\n",
        "# We'll store a number of quantities such as training and validation loss, \n",
        "# validation accuracy, and timings.\n",
        "training_stats = []\n",
        "\n",
        "# Measure the total training time for the whole run.\n",
        "total_t0 = time.time()\n",
        "\n",
        "# For each epoch...\n",
        "for epoch_i in range(0, epochs):\n",
        "    \n",
        "    # ========================================\n",
        "    #               Training\n",
        "    # ========================================\n",
        "    \n",
        "    # Perform one full pass over the training set.\n",
        "\n",
        "    print(\"\")\n",
        "    print('======== Epoch {:} / {:} ========'.format(epoch_i + 1, epochs))\n",
        "    print('Training...')\n",
        "\n",
        "    # Measure how long the training epoch takes.\n",
        "    t0 = time.time()\n",
        "\n",
        "    # Reset the total loss for this epoch.\n",
        "    total_train_loss = 0\n",
        "\n",
        "    # Put the model into training mode. Don't be mislead--the call to \n",
        "    # `train` just changes the *mode*, it doesn't *perform* the training.\n",
        "    # `dropout` and `batchnorm` layers behave differently during training\n",
        "    # vs. test (source: https://stackoverflow.com/questions/51433378/what-does-model-train-do-in-pytorch)\n",
        "    model.train()\n",
        "\n",
        "    # For each batch of training data...\n",
        "    for step, batch in enumerate(train_dataloader):\n",
        "\n",
        "        # Progress update every 40 batches.\n",
        "        if step % 40 == 0 and not step == 0:\n",
        "            # Calculate elapsed time in minutes.\n",
        "            elapsed = format_time(time.time() - t0)\n",
        "            \n",
        "            # Report progress.\n",
        "            print('  Batch {:>5,}  of  {:>5,}.    Elapsed: {:}.'.format(step, len(train_dataloader), elapsed))\n",
        "\n",
        "        # Unpack this training batch from our dataloader. \n",
        "        #\n",
        "        # As we unpack the batch, we'll also copy each tensor to the GPU using the \n",
        "        # `to` method.\n",
        "        #\n",
        "        # `batch` contains three pytorch tensors:\n",
        "        #   [0]: input ids \n",
        "        #   [1]: attention masks\n",
        "        #   [2]: labels \n",
        "        b_input_ids = batch[0].to(device)\n",
        "        b_input_mask = batch[1].to(device)\n",
        "        b_labels = batch[2].to(device)\n",
        "\n",
        "        # Always clear any previously calculated gradients before performing a\n",
        "        # backward pass. PyTorch doesn't do this automatically because \n",
        "        # accumulating the gradients is \"convenient while training RNNs\". \n",
        "        # (source: https://stackoverflow.com/questions/48001598/why-do-we-need-to-call-zero-grad-in-pytorch)\n",
        "        model.zero_grad()        \n",
        "\n",
        "        # Perform a forward pass (evaluate the model on this training batch).\n",
        "        # In PyTorch, calling `model` will in turn call the model's `forward` \n",
        "        # function and pass down the arguments. The `forward` function is \n",
        "        # documented here: \n",
        "        # https://huggingface.co/transformers/model_doc/bert.html#bertforsequenceclassification\n",
        "        # The results are returned in a results object, documented here:\n",
        "        # https://huggingface.co/transformers/main_classes/output.html#transformers.modeling_outputs.SequenceClassifierOutput\n",
        "        # Specifically, we'll get the loss (because we provided labels) and the\n",
        "        # \"logits\"--the model outputs prior to activation.\n",
        "        result = model(b_input_ids, \n",
        "                       token_type_ids=None, \n",
        "                       attention_mask=b_input_mask, \n",
        "                       labels=b_labels,\n",
        "                       return_dict=True)\n",
        "\n",
        "        loss = result.loss\n",
        "        logits = result.logits\n",
        "\n",
        "        # Accumulate the training loss over all of the batches so that we can\n",
        "        # calculate the average loss at the end. `loss` is a Tensor containing a\n",
        "        # single value; the `.item()` function just returns the Python value \n",
        "        # from the tensor.\n",
        "        total_train_loss += loss.item()\n",
        "\n",
        "        # Perform a backward pass to calculate the gradients.\n",
        "        loss.backward()\n",
        "\n",
        "        # Clip the norm of the gradients to 1.0.\n",
        "        # This is to help prevent the \"exploding gradients\" problem.\n",
        "        torch.nn.utils.clip_grad_norm_(model.parameters(), 1.0)\n",
        "\n",
        "        # Update parameters and take a step using the computed gradient.\n",
        "        # The optimizer dictates the \"update rule\"--how the parameters are\n",
        "        # modified based on their gradients, the learning rate, etc.\n",
        "        optimizer.step()\n",
        "\n",
        "        # Update the learning rate.\n",
        "        scheduler.step()\n",
        "\n",
        "    # Calculate the average loss over all of the batches.\n",
        "    avg_train_loss = total_train_loss / len(train_dataloader)            \n",
        "    \n",
        "    # Measure how long this epoch took.\n",
        "    training_time = format_time(time.time() - t0)\n",
        "\n",
        "    print(\"\")\n",
        "    print(\"  Average training loss: {0:.2f}\".format(avg_train_loss))\n",
        "    print(\"  Training epcoh took: {:}\".format(training_time))\n",
        "        \n",
        "    # ========================================\n",
        "    #               Validation\n",
        "    # ========================================\n",
        "    # After the completion of each training epoch, measure our performance on\n",
        "    # our validation set.\n",
        "\n",
        "    print(\"\")\n",
        "    print(\"Running Validation...\")\n",
        "\n",
        "    t0 = time.time()\n",
        "\n",
        "    # Put the model in evaluation mode--the dropout layers behave differently\n",
        "    # during evaluation.\n",
        "    model.eval()\n",
        "\n",
        "    # Tracking variables \n",
        "    total_eval_accuracy = 0\n",
        "    total_eval_loss = 0\n",
        "    nb_eval_steps = 0\n",
        "\n",
        "    # Evaluate data for one epoch\n",
        "    for batch in validation_dataloader:\n",
        "        \n",
        "        # Unpack this training batch from our dataloader. \n",
        "        #\n",
        "        # As we unpack the batch, we'll also copy each tensor to the GPU using \n",
        "        # the `to` method.\n",
        "        #\n",
        "        # `batch` contains three pytorch tensors:\n",
        "        #   [0]: input ids \n",
        "        #   [1]: attention masks\n",
        "        #   [2]: labels \n",
        "        b_input_ids = batch[0].to(device)\n",
        "        b_input_mask = batch[1].to(device)\n",
        "        b_labels = batch[2].to(device)\n",
        "        \n",
        "        # Tell pytorch not to bother with constructing the compute graph during\n",
        "        # the forward pass, since this is only needed for backprop (training).\n",
        "        with torch.no_grad():        \n",
        "\n",
        "            # Forward pass, calculate logit predictions.\n",
        "            # token_type_ids is the same as the \"segment ids\", which \n",
        "            # differentiates sentence 1 and 2 in 2-sentence tasks.\n",
        "            result = model(b_input_ids, \n",
        "                           token_type_ids=None, \n",
        "                           attention_mask=b_input_mask,\n",
        "                           labels=b_labels,\n",
        "                           return_dict=True)\n",
        "\n",
        "        # Get the loss and \"logits\" output by the model. The \"logits\" are the \n",
        "        # output values prior to applying an activation function like the \n",
        "        # softmax.\n",
        "        loss = result.loss\n",
        "        logits = result.logits\n",
        "            \n",
        "        # Accumulate the validation loss.\n",
        "        total_eval_loss += loss.item()\n",
        "\n",
        "        # Move logits and labels to CPU\n",
        "        logits = logits.detach().cpu().numpy()\n",
        "        label_ids = b_labels.to('cpu').numpy()\n",
        "\n",
        "        # Calculate the accuracy for this batch of test sentences, and\n",
        "        # accumulate it over all batches.\n",
        "        total_eval_accuracy += flat_accuracy(logits, label_ids)\n",
        "        \n",
        "\n",
        "    # Report the final accuracy for this validation run.\n",
        "    avg_val_accuracy = total_eval_accuracy / len(validation_dataloader)\n",
        "    print(\"  Accuracy: {0:.2f}\".format(avg_val_accuracy))\n",
        "\n",
        "    # Calculate the average loss over all of the batches.\n",
        "    avg_val_loss = total_eval_loss / len(validation_dataloader)\n",
        "    \n",
        "    # Measure how long the validation run took.\n",
        "    validation_time = format_time(time.time() - t0)\n",
        "    \n",
        "    print(\"  Validation Loss: {0:.2f}\".format(avg_val_loss))\n",
        "    print(\"  Validation took: {:}\".format(validation_time))\n",
        "\n",
        "    # Record all statistics from this epoch.\n",
        "    training_stats.append(\n",
        "        {\n",
        "            'epoch': epoch_i + 1,\n",
        "            'Training Loss': avg_train_loss,\n",
        "            'Valid. Loss': avg_val_loss,\n",
        "            'Valid. Accur.': avg_val_accuracy,\n",
        "            'Training Time': training_time,\n",
        "            'Validation Time': validation_time\n",
        "        }\n",
        "    )\n",
        "\n",
        "print(\"\")\n",
        "print(\"Training complete!\")\n",
        "\n",
        "print(\"Total training took {:} (h:mm:ss)\".format(format_time(time.time()-total_t0)))"
      ],
      "execution_count": null,
      "outputs": [
        {
          "output_type": "stream",
          "text": [
            "\n",
            "======== Epoch 1 / 4 ========\n",
            "Training...\n",
            "  Batch    40  of    588.    Elapsed: 0:00:24.\n",
            "  Batch    80  of    588.    Elapsed: 0:00:48.\n",
            "  Batch   120  of    588.    Elapsed: 0:01:12.\n",
            "  Batch   160  of    588.    Elapsed: 0:01:36.\n",
            "  Batch   200  of    588.    Elapsed: 0:02:00.\n",
            "  Batch   240  of    588.    Elapsed: 0:02:24.\n",
            "  Batch   280  of    588.    Elapsed: 0:02:48.\n",
            "  Batch   320  of    588.    Elapsed: 0:03:11.\n",
            "  Batch   360  of    588.    Elapsed: 0:03:35.\n",
            "  Batch   400  of    588.    Elapsed: 0:03:59.\n",
            "  Batch   440  of    588.    Elapsed: 0:04:23.\n",
            "  Batch   480  of    588.    Elapsed: 0:04:47.\n",
            "  Batch   520  of    588.    Elapsed: 0:05:11.\n",
            "  Batch   560  of    588.    Elapsed: 0:05:35.\n",
            "\n",
            "  Average training loss: 0.18\n",
            "  Training epcoh took: 0:05:51\n",
            "\n",
            "Running Validation...\n",
            "  Accuracy: 0.95\n",
            "  Validation Loss: 0.13\n",
            "  Validation took: 0:00:15\n",
            "\n",
            "======== Epoch 2 / 4 ========\n",
            "Training...\n",
            "  Batch    40  of    588.    Elapsed: 0:00:24.\n",
            "  Batch    80  of    588.    Elapsed: 0:00:48.\n",
            "  Batch   120  of    588.    Elapsed: 0:01:12.\n",
            "  Batch   160  of    588.    Elapsed: 0:01:36.\n",
            "  Batch   200  of    588.    Elapsed: 0:01:59.\n",
            "  Batch   240  of    588.    Elapsed: 0:02:23.\n",
            "  Batch   280  of    588.    Elapsed: 0:02:47.\n",
            "  Batch   320  of    588.    Elapsed: 0:03:11.\n",
            "  Batch   360  of    588.    Elapsed: 0:03:35.\n",
            "  Batch   400  of    588.    Elapsed: 0:03:59.\n",
            "  Batch   440  of    588.    Elapsed: 0:04:23.\n",
            "  Batch   480  of    588.    Elapsed: 0:04:47.\n",
            "  Batch   520  of    588.    Elapsed: 0:05:11.\n",
            "  Batch   560  of    588.    Elapsed: 0:05:35.\n",
            "\n",
            "  Average training loss: 0.11\n",
            "  Training epcoh took: 0:05:51\n",
            "\n",
            "Running Validation...\n",
            "  Accuracy: 0.95\n",
            "  Validation Loss: 0.13\n",
            "  Validation took: 0:00:14\n",
            "\n",
            "======== Epoch 3 / 4 ========\n",
            "Training...\n",
            "  Batch    40  of    588.    Elapsed: 0:00:24.\n",
            "  Batch    80  of    588.    Elapsed: 0:00:48.\n",
            "  Batch   120  of    588.    Elapsed: 0:01:12.\n",
            "  Batch   160  of    588.    Elapsed: 0:01:36.\n",
            "  Batch   200  of    588.    Elapsed: 0:01:59.\n",
            "  Batch   240  of    588.    Elapsed: 0:02:23.\n",
            "  Batch   280  of    588.    Elapsed: 0:02:47.\n",
            "  Batch   320  of    588.    Elapsed: 0:03:11.\n",
            "  Batch   360  of    588.    Elapsed: 0:03:35.\n",
            "  Batch   400  of    588.    Elapsed: 0:03:59.\n",
            "  Batch   440  of    588.    Elapsed: 0:04:23.\n",
            "  Batch   480  of    588.    Elapsed: 0:04:47.\n",
            "  Batch   520  of    588.    Elapsed: 0:05:10.\n",
            "  Batch   560  of    588.    Elapsed: 0:05:34.\n",
            "\n",
            "  Average training loss: 0.10\n",
            "  Training epcoh took: 0:05:51\n",
            "\n",
            "Running Validation...\n",
            "  Accuracy: 0.95\n",
            "  Validation Loss: 0.13\n",
            "  Validation took: 0:00:15\n",
            "\n",
            "======== Epoch 4 / 4 ========\n",
            "Training...\n",
            "  Batch    40  of    588.    Elapsed: 0:00:24.\n",
            "  Batch    80  of    588.    Elapsed: 0:00:48.\n",
            "  Batch   120  of    588.    Elapsed: 0:01:12.\n",
            "  Batch   160  of    588.    Elapsed: 0:01:35.\n",
            "  Batch   200  of    588.    Elapsed: 0:01:59.\n",
            "  Batch   240  of    588.    Elapsed: 0:02:23.\n",
            "  Batch   280  of    588.    Elapsed: 0:02:47.\n",
            "  Batch   320  of    588.    Elapsed: 0:03:11.\n",
            "  Batch   360  of    588.    Elapsed: 0:03:35.\n",
            "  Batch   400  of    588.    Elapsed: 0:03:59.\n",
            "  Batch   440  of    588.    Elapsed: 0:04:23.\n",
            "  Batch   480  of    588.    Elapsed: 0:04:46.\n",
            "  Batch   520  of    588.    Elapsed: 0:05:10.\n",
            "  Batch   560  of    588.    Elapsed: 0:05:34.\n",
            "\n",
            "  Average training loss: 0.08\n",
            "  Training epcoh took: 0:05:51\n",
            "\n",
            "Running Validation...\n",
            "  Accuracy: 0.95\n",
            "  Validation Loss: 0.15\n",
            "  Validation took: 0:00:15\n",
            "\n",
            "Training complete!\n",
            "Total training took 0:24:21 (h:mm:ss)\n"
          ],
          "name": "stdout"
        }
      ]
    },
    {
      "cell_type": "markdown",
      "metadata": {
        "id": "je7y6-105Vp8"
      },
      "source": [
        "### 3.4.3. Training Results"
      ]
    },
    {
      "cell_type": "markdown",
      "metadata": {
        "id": "VQTvJ1vRP7u4"
      },
      "source": [
        "Let's view the summary of the training process."
      ]
    },
    {
      "cell_type": "code",
      "metadata": {
        "id": "6O_NbXFGMukX",
        "colab": {
          "base_uri": "https://localhost:8080/",
          "height": 203
        },
        "outputId": "7fb92411-846d-4547-e8ae-648b18a1874f"
      },
      "source": [
        "import pandas as pd\n",
        "\n",
        "# Display floats with two decimal places.\n",
        "pd.set_option('precision', 2)\n",
        "\n",
        "# Create a DataFrame from our training statistics.\n",
        "df_stats = pd.DataFrame(data=training_stats)\n",
        "\n",
        "# Use the 'epoch' as the row index.\n",
        "df_stats = df_stats.set_index('epoch')\n",
        "\n",
        "# A hack to force the column headers to wrap (doesn't seem to work in Colab).\n",
        "#df = df.style.set_table_styles([dict(selector=\"th\",props=[('max-width', '70px')])])\n",
        "\n",
        "# Display the table.\n",
        "df_stats"
      ],
      "execution_count": null,
      "outputs": [
        {
          "output_type": "execute_result",
          "data": {
            "text/html": [
              "<div>\n",
              "<style scoped>\n",
              "    .dataframe tbody tr th:only-of-type {\n",
              "        vertical-align: middle;\n",
              "    }\n",
              "\n",
              "    .dataframe tbody tr th {\n",
              "        vertical-align: top;\n",
              "    }\n",
              "\n",
              "    .dataframe thead th {\n",
              "        text-align: right;\n",
              "    }\n",
              "</style>\n",
              "<table border=\"1\" class=\"dataframe\">\n",
              "  <thead>\n",
              "    <tr style=\"text-align: right;\">\n",
              "      <th></th>\n",
              "      <th>Training Loss</th>\n",
              "      <th>Valid. Loss</th>\n",
              "      <th>Valid. Accur.</th>\n",
              "      <th>Training Time</th>\n",
              "      <th>Validation Time</th>\n",
              "    </tr>\n",
              "    <tr>\n",
              "      <th>epoch</th>\n",
              "      <th></th>\n",
              "      <th></th>\n",
              "      <th></th>\n",
              "      <th></th>\n",
              "      <th></th>\n",
              "    </tr>\n",
              "  </thead>\n",
              "  <tbody>\n",
              "    <tr>\n",
              "      <th>1</th>\n",
              "      <td>0.18</td>\n",
              "      <td>0.13</td>\n",
              "      <td>0.95</td>\n",
              "      <td>0:05:51</td>\n",
              "      <td>0:00:15</td>\n",
              "    </tr>\n",
              "    <tr>\n",
              "      <th>2</th>\n",
              "      <td>0.11</td>\n",
              "      <td>0.13</td>\n",
              "      <td>0.95</td>\n",
              "      <td>0:05:51</td>\n",
              "      <td>0:00:14</td>\n",
              "    </tr>\n",
              "    <tr>\n",
              "      <th>3</th>\n",
              "      <td>0.10</td>\n",
              "      <td>0.13</td>\n",
              "      <td>0.95</td>\n",
              "      <td>0:05:51</td>\n",
              "      <td>0:00:15</td>\n",
              "    </tr>\n",
              "    <tr>\n",
              "      <th>4</th>\n",
              "      <td>0.08</td>\n",
              "      <td>0.15</td>\n",
              "      <td>0.95</td>\n",
              "      <td>0:05:51</td>\n",
              "      <td>0:00:15</td>\n",
              "    </tr>\n",
              "  </tbody>\n",
              "</table>\n",
              "</div>"
            ],
            "text/plain": [
              "       Training Loss  Valid. Loss  Valid. Accur. Training Time Validation Time\n",
              "epoch                                                                         \n",
              "1               0.18         0.13           0.95       0:05:51         0:00:15\n",
              "2               0.11         0.13           0.95       0:05:51         0:00:14\n",
              "3               0.10         0.13           0.95       0:05:51         0:00:15\n",
              "4               0.08         0.15           0.95       0:05:51         0:00:15"
            ]
          },
          "metadata": {
            "tags": []
          },
          "execution_count": 31
        }
      ]
    },
    {
      "cell_type": "markdown",
      "metadata": {
        "id": "ecYD-OyKx_gb"
      },
      "source": [
        "We can plot the training loss and validation loss to check for over-fitting."
      ]
    },
    {
      "cell_type": "code",
      "metadata": {
        "id": "68xreA9JAmG5",
        "colab": {
          "base_uri": "https://localhost:8080/",
          "height": 427
        },
        "outputId": "f90530f5-bd87-4465-d71a-61eea8f0d3fe"
      },
      "source": [
        "import matplotlib.pyplot as plt\n",
        "% matplotlib inline\n",
        "\n",
        "import seaborn as sns\n",
        "\n",
        "# Use plot styling from seaborn.\n",
        "sns.set(style='darkgrid')\n",
        "\n",
        "# Increase the plot size and font size.\n",
        "sns.set(font_scale=1.5)\n",
        "plt.rcParams[\"figure.figsize\"] = (12,6)\n",
        "\n",
        "# Plot the learning curve.\n",
        "plt.plot(df_stats['Training Loss'], 'b-o', label=\"Training\")\n",
        "plt.plot(df_stats['Valid. Loss'], 'g-o', label=\"Validation\")\n",
        "\n",
        "# Label the plot.\n",
        "plt.title(\"Training & Validation Loss\")\n",
        "plt.xlabel(\"Epoch\")\n",
        "plt.ylabel(\"Loss\")\n",
        "plt.legend()\n",
        "plt.xticks([1, 2, 3, 4])\n",
        "\n",
        "plt.show()"
      ],
      "execution_count": null,
      "outputs": [
        {
          "output_type": "display_data",
          "data": {
            "image/png": "[encoded data removed]",
            "text/plain": [
              "<Figure size 864x432 with 1 Axes>"
            ]
          },
          "metadata": {
            "tags": []
          }
        }
      ]
    },
    {
      "cell_type": "markdown",
      "metadata": {
        "id": "O_qAFu7EySK9"
      },
      "source": [
        "There does appear to be some over-fitting here. If you really wanted to go for the best accuracy, you could try saving a model checkpoint after each epoch, and see if the third checkpoint does better on the test set."
      ]
    },
    {
      "cell_type": "markdown",
      "metadata": {
        "id": "1-G03mmwH3aI"
      },
      "source": [
        "*Why Validation Loss, not Accuracy?*\n",
        "\n",
        "Validation loss is a more precise measure than validation accuracy, because with accuracy we don't care about the exact output value, but just which side of a threshold it falls on. \n",
        "\n",
        "If we are predicting the correct answer, but with less confidence, then validation loss will catch this, while accuracy will not."
      ]
    },
    {
      "cell_type": "markdown",
      "metadata": {
        "id": "Tg42jJqqM68F"
      },
      "source": [
        "## 3.5. Test\n"
      ]
    },
    {
      "cell_type": "markdown",
      "metadata": {
        "id": "rhR99IISNMg9"
      },
      "source": [
        "Now we're ready to score our trained model against the test set!\n",
        "\n",
        "The below cell will generate all of the predictions."
      ]
    },
    {
      "cell_type": "code",
      "metadata": {
        "id": "Hba10sXR7Xi6",
        "colab": {
          "base_uri": "https://localhost:8080/"
        },
        "outputId": "bbac8a45-3d39-4d90-e614-6147f1ea4ad5"
      },
      "source": [
        "# Create a DataLoader to batch our test samples for us. We'll use a sequential\n",
        "# sampler this time--don't need this to be random!\n",
        "prediction_sampler = SequentialSampler(test_dataset)\n",
        "prediction_dataloader = DataLoader(test_dataset, sampler=prediction_sampler, batch_size=batch_size)\n",
        "\n",
        "print('Predicting labels for {:,} test sentences...'.format(len(test_dataset)))\n",
        "\n",
        "# Put model in evaluation mode\n",
        "model.eval()\n",
        "\n",
        "# Tracking variables \n",
        "predictions , true_labels = [], []\n",
        "\n",
        "# Predict \n",
        "for batch in prediction_dataloader:\n",
        "  # Add batch to GPU\n",
        "  batch = tuple(t.to(device) for t in batch)\n",
        "  \n",
        "  # Unpack the inputs from our dataloader\n",
        "  b_input_ids, b_input_mask, b_labels = batch\n",
        "  \n",
        "  # Telling the model not to compute or store gradients, saving memory and \n",
        "  # speeding up prediction\n",
        "  with torch.no_grad():\n",
        "      # Forward pass, calculate logit predictions.\n",
        "      result = model(b_input_ids, \n",
        "                     token_type_ids=None, \n",
        "                     attention_mask=b_input_mask,\n",
        "                     return_dict=True)\n",
        "\n",
        "  logits = result.logits\n",
        "\n",
        "  # Move logits and labels to CPU\n",
        "  logits = logits.detach().cpu().numpy()\n",
        "  label_ids = b_labels.to('cpu').numpy()\n",
        "  \n",
        "  # Store predictions and true labels\n",
        "  predictions.append(logits)\n",
        "  true_labels.append(label_ids)\n",
        "\n",
        "print('    DONE.')"
      ],
      "execution_count": null,
      "outputs": [
        {
          "output_type": "stream",
          "text": [
            "Predicting labels for 2,350 test sentences...\n",
            "    DONE.\n"
          ],
          "name": "stdout"
        }
      ]
    },
    {
      "cell_type": "markdown",
      "metadata": {
        "id": "1YrjAPX2V-l4"
      },
      "source": [
        "Because the test samples were processed in batches, there's a little re-arranging required to get the results back down to a simple list.\n",
        "\n",
        "Also, the predictions are currently floating point values representing confidences, but we need to turn these into binary labels (0 or 1). "
      ]
    },
    {
      "cell_type": "code",
      "metadata": {
        "id": "_5373-b2zkNl"
      },
      "source": [
        "# Combine the results across all batches. \n",
        "flat_predictions = np.concatenate(predictions, axis=0)\n",
        "\n",
        "# For each sample, pick the label (0 or 1) with the higher score.\n",
        "flat_predictions = np.argmax(flat_predictions, axis=1).flatten()\n",
        "\n",
        "# Combine the correct labels for each batch into a single list.\n",
        "flat_true_labels = np.concatenate(true_labels, axis=0)"
      ],
      "execution_count": null,
      "outputs": []
    },
    {
      "cell_type": "markdown",
      "metadata": {
        "id": "MUlYFp7Zzp8D"
      },
      "source": [
        "Now we can score the results!"
      ]
    },
    {
      "cell_type": "code",
      "metadata": {
        "id": "oCYZa1lQ8Jn8",
        "colab": {
          "base_uri": "https://localhost:8080/"
        },
        "outputId": "b8c74945-b0bf-41a9-9921-50dae8936a5f"
      },
      "source": [
        "from sklearn.metrics import f1_score\n",
        "\n",
        "# Calculate the F1\n",
        "f1 = f1_score(flat_true_labels, flat_predictions)\n",
        "\n",
        "print('F1 Score: %.3f' % f1)"
      ],
      "execution_count": null,
      "outputs": [
        {
          "output_type": "stream",
          "text": [
            "F1 Score: 0.968\n"
          ],
          "name": "stdout"
        }
      ]
    },
    {
      "cell_type": "markdown",
      "metadata": {
        "id": "BfJbda1Mzu3y"
      },
      "source": [
        "Here are the final scores:\n",
        "\n",
        "| Strategy                             | F1 Score |\n",
        "|--------------------------------------|----------|\n",
        "| Always predict “recommended”         | 0.906    |\n",
        "| Predict “recommended” if rating >= 3 | 0.953    |\n",
        "| XGBoost                              | 0.965    |\n",
        "| BERT on review text                  | 0.945    |\n",
        "| BERT, all features to text           | 0.968    |\n",
        "\n",
        "We managed to outperform the other strategies! \n",
        "\n",
        "> UPDATE: One of our discussion group attendees, Jon, pointed out that (1) MCC is probably a better metric for this dataset due to the class imbalance, and (2) that it’s good practice to verify that our randomly selected test set has the same class balance as the training set (this probably happened naturally, though, given that the test set has ~2k samples)."
      ]
    },
    {
      "cell_type": "markdown",
      "metadata": {
        "id": "GfjYoa6WmkN6"
      },
      "source": [
        "# Conclusion"
      ]
    },
    {
      "cell_type": "markdown",
      "metadata": {
        "id": "xlQG7qgkmf4n"
      },
      "source": [
        "Simply converting the extra features to text seems to be a great solution for this dataset. I suspect that this is because the categorical features in this dataset can be easily converted into meaningful text that BERT can leverage. Even the rating, which is technically a numerical feature, is pretty understandable since there are only 5 possible values.\n",
        "\n",
        "The [Multimodal-Toolkit](https://github.com/georgian-io/Multimodal-Toolkit) also includes 2 other datasets where this approach (referred to as \"unimodal\" in their benchmark tables) does *not* get the highest score. You could imagine how, if there are continuous-valued (floating point) features in the dataset that are highly meaningful, it could be difficult for BERT to make sense of these as text. \n",
        "\n",
        "So, if you just have text and categorical features, you may not need to look any farther than the simple strategy implemented in this Notebook!"
      ]
    }
  ]
}