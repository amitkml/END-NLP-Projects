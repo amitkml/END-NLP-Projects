{
  "nbformat": 4,
  "nbformat_minor": 0,
  "metadata": {
    "colab": {
      "name": "END_NLP_Session_8_Assignment_PythonGeneration.ipynb",
      "provenance": [],
      "collapsed_sections": []
    },
    "kernelspec": {
      "name": "python3",
      "display_name": "Python 3"
    },
    "accelerator": "GPU"
  },
  "cells": [
    {
      "cell_type": "code",
      "metadata": {
        "colab": {
          "base_uri": "https://localhost:8080/"
        },
        "id": "2u_5F4EsvJYv",
        "outputId": "68e69655-fd05-4179-aa74-e98a4c86c211"
      },
      "source": [
        "# Given a list slice it into a 3 equal chunks and revert each list\r\n",
        "sampleList = [11, 45, 8, 23, 14, 12, 78, 45, 89]\r\n",
        "\r\n",
        "length = len(sampleList)\r\n",
        "chunkSize  = int(length/3)\r\n",
        "start = 0\r\n",
        "end = chunkSize\r\n",
        "for i in range(1, 4, 1):\r\n",
        "  indexes = slice(start, end, 1)\r\n",
        "  listChunk = sampleList[indexes]\r\n",
        "  mylist = [i for i in listChunk]\r\n",
        "  print(\"After reversing it \", mylist)\r\n",
        "  start = end\r\n",
        "  if(i != 2):\r\n",
        "    end +=chunkSize\r\n",
        "  else:\r\n",
        "    end += length - chunkSize"
      ],
      "execution_count": 1,
      "outputs": [
        {
          "output_type": "stream",
          "text": [
            "After reversing it  [11, 45, 8]\n",
            "After reversing it  [23, 14, 12]\n",
            "After reversing it  [78, 45, 89]\n"
          ],
          "name": "stdout"
        }
      ]
    },
    {
      "cell_type": "code",
      "metadata": {
        "colab": {
          "base_uri": "https://localhost:8080/"
        },
        "id": "9fWQvL4mvjMC",
        "outputId": "0f1f12a5-90f9-4c94-c02b-46403780e9aa"
      },
      "source": [
        "# write a program to calculate exponents of an input\r\n",
        "input = 9\r\n",
        "exponent = 2\r\n",
        "final = pow(input, exponent)\r\n",
        "print(f'Exponent Value is:{final}')"
      ],
      "execution_count": 2,
      "outputs": [
        {
          "output_type": "stream",
          "text": [
            "Exponent Value is:81\n"
          ],
          "name": "stdout"
        }
      ]
    },
    {
      "cell_type": "code",
      "metadata": {
        "colab": {
          "base_uri": "https://localhost:8080/"
        },
        "id": "2gaJwM2IvlMo",
        "outputId": "c39352ea-0d37-4975-deb0-9e13cf3b9c71"
      },
      "source": [
        "# write a program to multiply two Matrix \r\n",
        "# 3x3 matrix\r\n",
        "X = [[12,7,3],\r\n",
        "    [4 ,5,6],\r\n",
        "    [7 ,8,9]]\r\n",
        "# 3x4 matrix\r\n",
        "Y = [[5,8,1,2],\r\n",
        "    [6,7,3,0],\r\n",
        "    [4,5,9,1]]\r\n",
        "# result is 3x4\r\n",
        "result = [[0,0,0,0],\r\n",
        "         [0,0,0,0],\r\n",
        "         [0,0,0,0]]\r\n",
        "\r\n",
        "# iterate through rows of X\r\n",
        "for i in range(len(X)):\r\n",
        "   # iterate through columns of Y\r\n",
        "   for j in range(len(Y[0])):\r\n",
        "       # iterate through rows of Y\r\n",
        "       for k in range(len(Y)):\r\n",
        "           result[i][j] += X[i][k] * Y[k][j]\r\n",
        "print(f\"Final Result is{result}\")"
      ],
      "execution_count": 3,
      "outputs": [
        {
          "output_type": "stream",
          "text": [
            "Final Result is[[114, 160, 60, 27], [74, 97, 73, 14], [119, 157, 112, 23]]\n"
          ],
          "name": "stdout"
        }
      ]
    },
    {
      "cell_type": "code",
      "metadata": {
        "colab": {
          "base_uri": "https://localhost:8080/"
        },
        "id": "JCIobW3pvnFi",
        "outputId": "de82317a-4f32-4e78-df50-c6c7c08c804e"
      },
      "source": [
        "# write a program to find and print the remainder of two number\r\n",
        "\r\n",
        "num1 = 12\r\n",
        "num2 = 10\r\n",
        "\r\n",
        "ratio = num1 % num2\r\n",
        "print(f'remainder:{ratio}')"
      ],
      "execution_count": 4,
      "outputs": [
        {
          "output_type": "stream",
          "text": [
            "remainder:2\n"
          ],
          "name": "stdout"
        }
      ]
    },
    {
      "cell_type": "code",
      "metadata": {
        "colab": {
          "base_uri": "https://localhost:8080/"
        },
        "id": "02u7nlbqyOtD",
        "outputId": "7fa23d6f-39b8-4dd4-cb91-c3445005c3e2"
      },
      "source": [
        "# reverse a number in Python\r\n",
        "number = 1367891\r\n",
        "revs_number = 0  \r\n",
        "while (number > 0):\r\n",
        "  remainder = number % 10\r\n",
        "  revs_number = (revs_number * 10) + remainder\r\n",
        "  number = number // 10\r\n",
        "print(\"The reverse number is : {}\".format(revs_number)) "
      ],
      "execution_count": 5,
      "outputs": [
        {
          "output_type": "stream",
          "text": [
            "The reverse number is : 1987631\n"
          ],
          "name": "stdout"
        }
      ]
    },
    {
      "cell_type": "code",
      "metadata": {
        "colab": {
          "base_uri": "https://localhost:8080/"
        },
        "id": "blMhOuu2zETy",
        "outputId": "946227e8-bc41-4bda-d1cc-a2f252fa7b3a"
      },
      "source": [
        "# Python program to compute sum of digits in number\r\n",
        "def sumDigits(no):  \r\n",
        "    return 0 if no == 0 else int(no % 10) + sumDigits(int(no / 10))   \r\n",
        "n = 1234511\r\n",
        "print(sumDigits(n))"
      ],
      "execution_count": 6,
      "outputs": [
        {
          "output_type": "stream",
          "text": [
            "17\n"
          ],
          "name": "stdout"
        }
      ]
    },
    {
      "cell_type": "code",
      "metadata": {
        "colab": {
          "base_uri": "https://localhost:8080/"
        },
        "id": "o1QTe4Uo0MI3",
        "outputId": "e163e384-bde0-4e90-d6ac-1f76075e0a32"
      },
      "source": [
        "# Find the middle element of a random number list\r\n",
        "my_list = [4,3,2,9,10,44,1]\r\n",
        "print(\"mid value is \",my_list[int(len(my_list)/2)])"
      ],
      "execution_count": 7,
      "outputs": [
        {
          "output_type": "stream",
          "text": [
            "mid value is  9\n"
          ],
          "name": "stdout"
        }
      ]
    },
    {
      "cell_type": "code",
      "metadata": {
        "colab": {
          "base_uri": "https://localhost:8080/"
        },
        "id": "TFWKkKiE0tyH",
        "outputId": "7d994fe8-3359-4920-e9ef-fe6c17c47d81"
      },
      "source": [
        "# Sort the list in ascending order\r\n",
        "my_list = [4,3,2,9,10,44,1]\r\n",
        "my_list.sort()\r\n",
        "print(f\"Ascending Order list:,{my_list}\")"
      ],
      "execution_count": 8,
      "outputs": [
        {
          "output_type": "stream",
          "text": [
            "Ascending Order list:,[1, 2, 3, 4, 9, 10, 44]\n"
          ],
          "name": "stdout"
        }
      ]
    },
    {
      "cell_type": "code",
      "metadata": {
        "colab": {
          "base_uri": "https://localhost:8080/"
        },
        "id": "M0cQh1Cj1N_T",
        "outputId": "ce509006-254e-40ff-ce8c-b062a74a050e"
      },
      "source": [
        "# Sort the list in descending order\r\n",
        "my_list = [4,3,2,9,10,44,1]\r\n",
        "my_list.sort(reverse=True)\r\n",
        "print(f\"Descending Order list:,{my_list}\")"
      ],
      "execution_count": 9,
      "outputs": [
        {
          "output_type": "stream",
          "text": [
            "Descending Order list:,[44, 10, 9, 4, 3, 2, 1]\n"
          ],
          "name": "stdout"
        }
      ]
    },
    {
      "cell_type": "code",
      "metadata": {
        "colab": {
          "base_uri": "https://localhost:8080/"
        },
        "id": "H3Jv_ZMz1t3W",
        "outputId": "a7549a85-b2a9-4b98-e6e1-0d4090a8ed98"
      },
      "source": [
        "# Concatenation of two List\r\n",
        "my_list1 = [4,3,2,9,10,44,1]\r\n",
        "my_list2 = [5,6,2,8,15,14,12]\r\n",
        "print(f\"Sum of two list:,{my_list1+my_list2}\")"
      ],
      "execution_count": 10,
      "outputs": [
        {
          "output_type": "stream",
          "text": [
            "Sum of two list:,[4, 3, 2, 9, 10, 44, 1, 5, 6, 2, 8, 15, 14, 12]\n"
          ],
          "name": "stdout"
        }
      ]
    },
    {
      "cell_type": "code",
      "metadata": {
        "colab": {
          "base_uri": "https://localhost:8080/"
        },
        "id": "pZCnHvwD2UB6",
        "outputId": "86532d7f-9f5f-422b-d6b8-54faafb68a08"
      },
      "source": [
        "# Removes the item at the given index from the list and returns the removed item\r\n",
        "my_list1 = [4,3,2,9,10,44,1,9,12]\r\n",
        "index = 4\r\n",
        "print(f\"Sum of two list:,{my_list1.pop(index)}\")"
      ],
      "execution_count": 11,
      "outputs": [
        {
          "output_type": "stream",
          "text": [
            "Sum of two list:,10\n"
          ],
          "name": "stdout"
        }
      ]
    },
    {
      "cell_type": "code",
      "metadata": {
        "colab": {
          "base_uri": "https://localhost:8080/"
        },
        "id": "4ih_hhr45bcO",
        "outputId": "75632852-1c92-4599-bd95-bb883af17e93"
      },
      "source": [
        "# Adding Element to a List\r\n",
        "\r\n",
        "animals = ['cat', 'dog', 'rabbit']\r\n",
        "animals.append('guinea pig')\r\n",
        "print('Updated animals list: ', animals)"
      ],
      "execution_count": 12,
      "outputs": [
        {
          "output_type": "stream",
          "text": [
            "Updated animals list:  ['cat', 'dog', 'rabbit', 'guinea pig']\n"
          ],
          "name": "stdout"
        }
      ]
    },
    {
      "cell_type": "code",
      "metadata": {
        "colab": {
          "base_uri": "https://localhost:8080/"
        },
        "id": "ac7G132q6HWe",
        "outputId": "6e3fbf7f-aca9-4dbd-bdc5-ceb77b1b27ab"
      },
      "source": [
        "# Returns the number of times the specified element appears in the list\r\n",
        "\r\n",
        "vowels = ['a', 'e', 'i', 'o', 'i', 'u']\r\n",
        "count = vowels.count('i')\r\n",
        "print('The count of i is:', count)"
      ],
      "execution_count": 13,
      "outputs": [
        {
          "output_type": "stream",
          "text": [
            "The count of i is: 2\n"
          ],
          "name": "stdout"
        }
      ]
    },
    {
      "cell_type": "code",
      "metadata": {
        "colab": {
          "base_uri": "https://localhost:8080/"
        },
        "id": "7tuSTeN66c2e",
        "outputId": "b84f76f4-d53c-4196-fe50-438f13f01871"
      },
      "source": [
        "# Count Tuple Elements Inside List\r\n",
        "\r\n",
        "random = ['a', ('a', 'b'), ('a', 'b'), [3, 4]]\r\n",
        "count = random.count(('a', 'b'))\r\n",
        "print(\"The count of ('a', 'b') is:\", count)"
      ],
      "execution_count": 14,
      "outputs": [
        {
          "output_type": "stream",
          "text": [
            "The count of ('a', 'b') is: 2\n"
          ],
          "name": "stdout"
        }
      ]
    },
    {
      "cell_type": "code",
      "metadata": {
        "colab": {
          "base_uri": "https://localhost:8080/"
        },
        "id": "Hvr4jvfh6w2G",
        "outputId": "2e303eff-d1fc-4d55-bb7b-6f24b76f08a4"
      },
      "source": [
        "# Removes all items from the list\r\n",
        "\r\n",
        "list = [{1, 2}, ('a'), ['1.1', '2.2']]\r\n",
        "list.clear()\r\n",
        "print('List:', list)"
      ],
      "execution_count": 15,
      "outputs": [
        {
          "output_type": "stream",
          "text": [
            "List: []\n"
          ],
          "name": "stdout"
        }
      ]
    },
    {
      "cell_type": "code",
      "metadata": {
        "colab": {
          "base_uri": "https://localhost:8080/"
        },
        "id": "SDjQ3L5-7aw2",
        "outputId": "92216c9e-713f-496f-802e-839a9eec1ab8"
      },
      "source": [
        "# access first characters in a string\r\n",
        "\r\n",
        "word = \"Hello World\"\r\n",
        "letter=word[0]\r\n",
        "print(f\"First Charecter in String:{letter}\")"
      ],
      "execution_count": 16,
      "outputs": [
        {
          "output_type": "stream",
          "text": [
            "First Charecter in String:H\n"
          ],
          "name": "stdout"
        }
      ]
    },
    {
      "cell_type": "code",
      "metadata": {
        "colab": {
          "base_uri": "https://localhost:8080/"
        },
        "id": "S9lfOM4c7rsn",
        "outputId": "b971d8dd-da7e-42d9-84da-4fc0237c7b0d"
      },
      "source": [
        "# access Last characters in a string\r\n",
        "\r\n",
        "word = \"Hello World\"\r\n",
        "letter=word[-1]\r\n",
        "print(f\"First Charecter in String:{letter}\")"
      ],
      "execution_count": 17,
      "outputs": [
        {
          "output_type": "stream",
          "text": [
            "First Charecter in String:d\n"
          ],
          "name": "stdout"
        }
      ]
    },
    {
      "cell_type": "code",
      "metadata": {
        "colab": {
          "base_uri": "https://localhost:8080/"
        },
        "id": "OpFVLvY47w3t",
        "outputId": "488ab5c1-b54d-4fb8-efcb-77edde6dd766"
      },
      "source": [
        "# Generate a list by list comprehension\r\n",
        "\r\n",
        "list = [x for x in range(10)]\r\n",
        "print(f\"List Generated by list comprehension:{list}\")"
      ],
      "execution_count": 18,
      "outputs": [
        {
          "output_type": "stream",
          "text": [
            "List Generated by list comprehension:[0, 1, 2, 3, 4, 5, 6, 7, 8, 9]\n"
          ],
          "name": "stdout"
        }
      ]
    },
    {
      "cell_type": "code",
      "metadata": {
        "colab": {
          "base_uri": "https://localhost:8080/"
        },
        "id": "qX8ODtaK8swm",
        "outputId": "c0e390cf-3d7f-4488-a17e-5b8b87586ab1"
      },
      "source": [
        "# Set the values in the new list to upper case\r\n",
        "list = \"AMITKAYAL\"\r\n",
        "newlist = [x.upper() for x in list]\r\n",
        "print(f\"New list to upper case:{newlist}\")"
      ],
      "execution_count": 19,
      "outputs": [
        {
          "output_type": "stream",
          "text": [
            "New list to upper case:['A', 'M', 'I', 'T', 'K', 'A', 'Y', 'A', 'L']\n"
          ],
          "name": "stdout"
        }
      ]
    },
    {
      "cell_type": "code",
      "metadata": {
        "colab": {
          "base_uri": "https://localhost:8080/"
        },
        "id": "vg0YqZRs9Q85",
        "outputId": "59d71cdf-bab3-4438-ad74-6713e1a2d7fa"
      },
      "source": [
        "# Sort the string list alphabetically\r\n",
        "\r\n",
        "thislist = [\"orange\", \"mango\", \"kiwi\", \"pineapple\", \"banana\"]\r\n",
        "thislist.sort()\r\n",
        "print(f\"Sorted List:{thislist}\")"
      ],
      "execution_count": 20,
      "outputs": [
        {
          "output_type": "stream",
          "text": [
            "Sorted List:['banana', 'kiwi', 'mango', 'orange', 'pineapple']\n"
          ],
          "name": "stdout"
        }
      ]
    },
    {
      "cell_type": "code",
      "metadata": {
        "colab": {
          "base_uri": "https://localhost:8080/"
        },
        "id": "uCgWLR6F-QqO",
        "outputId": "bd488b33-870d-4bb7-b9f2-adbaadb6fe76"
      },
      "source": [
        "# Join Two Sets\r\n",
        "\r\n",
        "set1 = {\"a\", \"b\" , \"c\"}\r\n",
        "set2 = {1, 2, 3}\r\n",
        "set3 = set2.union(set1)\r\n",
        "print(f\"Joined Set:{set3}\")"
      ],
      "execution_count": 21,
      "outputs": [
        {
          "output_type": "stream",
          "text": [
            "Joined Set:{1, 2, 3, 'a', 'c', 'b'}\n"
          ],
          "name": "stdout"
        }
      ]
    },
    {
      "cell_type": "code",
      "metadata": {
        "colab": {
          "base_uri": "https://localhost:8080/"
        },
        "id": "ChzuZVLp-8af",
        "outputId": "964aeb28-c703-41d5-b139-c7659479b170"
      },
      "source": [
        "# keep only the items that are present in both sets\r\n",
        "\r\n",
        "x = {\"apple\", \"banana\", \"cherry\"}\r\n",
        "y = {\"google\", \"microsoft\", \"apple\"}\r\n",
        "\r\n",
        "x.intersection_update(y)\r\n",
        "print(f\"Duplicate Value in Two set:{x}\")"
      ],
      "execution_count": 22,
      "outputs": [
        {
          "output_type": "stream",
          "text": [
            "Duplicate Value in Two set:{'apple'}\n"
          ],
          "name": "stdout"
        }
      ]
    },
    {
      "cell_type": "code",
      "metadata": {
        "colab": {
          "base_uri": "https://localhost:8080/"
        },
        "id": "tkw8tDTB_slX",
        "outputId": "ab89d66b-85ec-427b-cb73-b2f0cde2de10"
      },
      "source": [
        "# Keep All items from List But NOT the Duplicates\r\n",
        "x = {\"apple\", \"banana\", \"cherry\"}\r\n",
        "y = {\"google\", \"microsoft\", \"apple\"}\r\n",
        "\r\n",
        "x.symmetric_difference_update(y)\r\n",
        "print(f\"Duplicate Value in Two set:{x}\")"
      ],
      "execution_count": 23,
      "outputs": [
        {
          "output_type": "stream",
          "text": [
            "Duplicate Value in Two set:{'banana', 'google', 'cherry', 'microsoft'}\n"
          ],
          "name": "stdout"
        }
      ]
    },
    {
      "cell_type": "code",
      "metadata": {
        "colab": {
          "base_uri": "https://localhost:8080/"
        },
        "id": "T6xkqBrsAMre",
        "outputId": "5afea0bd-2a0a-486f-f9d7-0ab1677661ea"
      },
      "source": [
        "# Create and print a dictionary\r\n",
        "\r\n",
        "thisdict = {\r\n",
        "  \"brand\": \"Ford\",\r\n",
        "  \"model\": \"Mustang\",\r\n",
        "  \"year\": 1964\r\n",
        "}\r\n",
        "print(f\"Sample Dictionary:{thisdict}\")"
      ],
      "execution_count": 24,
      "outputs": [
        {
          "output_type": "stream",
          "text": [
            "Sample Dictionary:{'brand': 'Ford', 'model': 'Mustang', 'year': 1964}\n"
          ],
          "name": "stdout"
        }
      ]
    },
    {
      "cell_type": "code",
      "metadata": {
        "colab": {
          "base_uri": "https://localhost:8080/"
        },
        "id": "WXyUdU2VAaSN",
        "outputId": "1eafa592-0bcf-47b7-b520-5da936739fb6"
      },
      "source": [
        "# Calculate the length of dictionary\r\n",
        "\r\n",
        "thisdict = {\r\n",
        "  \"brand\": \"Ford\",\r\n",
        "  \"model\": \"Mustang\",\r\n",
        "  \"year\": 1964\r\n",
        "}\r\n",
        "\r\n",
        "print(f\"Length of Dictionary:{len(thisdict)}\")"
      ],
      "execution_count": 25,
      "outputs": [
        {
          "output_type": "stream",
          "text": [
            "Length of Dictionary:3\n"
          ],
          "name": "stdout"
        }
      ]
    },
    {
      "cell_type": "code",
      "metadata": {
        "colab": {
          "base_uri": "https://localhost:8080/"
        },
        "id": "oS0mimKMBBBF",
        "outputId": "ebc459ac-f977-484f-c394-1cbe39b0d8c8"
      },
      "source": [
        "# Evaluate a string and a number\r\n",
        "\r\n",
        "print(bool(\"Hello\"))\r\n",
        "print(bool(15))"
      ],
      "execution_count": 26,
      "outputs": [
        {
          "output_type": "stream",
          "text": [
            "True\n",
            "True\n"
          ],
          "name": "stdout"
        }
      ]
    },
    {
      "cell_type": "code",
      "metadata": {
        "colab": {
          "base_uri": "https://localhost:8080/"
        },
        "id": "KhP7RlGqJLFR",
        "outputId": "dbe0a4b8-7ed0-4ee0-a743-e2f626e88e9a"
      },
      "source": [
        "# Calculate length of a string\r\n",
        "\r\n",
        "word = \"Hello World\"\r\n",
        "print(f\"Length of string: {len(word)}\")"
      ],
      "execution_count": 27,
      "outputs": [
        {
          "output_type": "stream",
          "text": [
            "Length of string: 11\n"
          ],
          "name": "stdout"
        }
      ]
    },
    {
      "cell_type": "code",
      "metadata": {
        "colab": {
          "base_uri": "https://localhost:8080/"
        },
        "id": "8je7D2NhJagl",
        "outputId": "bcac2f91-cd3d-4c3e-d32d-9674aad578b0"
      },
      "source": [
        "# Count the number of spaces in a sring\r\n",
        "\r\n",
        "s = \"Count, the number of spaces\"\r\n",
        "lenx = s.count(' ')\r\n",
        "print(f\"number of spaces in sring: {lenx}\")"
      ],
      "execution_count": 28,
      "outputs": [
        {
          "output_type": "stream",
          "text": [
            "number of spaces in sring: 4\n"
          ],
          "name": "stdout"
        }
      ]
    },
    {
      "cell_type": "code",
      "metadata": {
        "colab": {
          "base_uri": "https://localhost:8080/"
        },
        "id": "sM7EWGa1JtBp",
        "outputId": "4b215ad9-b5aa-44fc-9d78-99acd3b49fe8"
      },
      "source": [
        "# Split Strings\r\n",
        "word = \"Hello World\"\r\n",
        "ksplit = word.split(' ') \r\n",
        "print(f\"Splited Strings: {ksplit}\")"
      ],
      "execution_count": 29,
      "outputs": [
        {
          "output_type": "stream",
          "text": [
            "Splited Strings: ['Hello', 'World']\n"
          ],
          "name": "stdout"
        }
      ]
    },
    {
      "cell_type": "code",
      "metadata": {
        "colab": {
          "base_uri": "https://localhost:8080/"
        },
        "id": "OQRApMA1J55m",
        "outputId": "eb2f7deb-84c5-4fc6-9f14-1e28c03156dd"
      },
      "source": [
        "# Prints ten dots\r\n",
        "ten = \".\" * 10\r\n",
        "print(f\"Ten dots: {ten}\")"
      ],
      "execution_count": 30,
      "outputs": [
        {
          "output_type": "stream",
          "text": [
            "Ten dots: ..........\n"
          ],
          "name": "stdout"
        }
      ]
    },
    {
      "cell_type": "code",
      "metadata": {
        "colab": {
          "base_uri": "https://localhost:8080/"
        },
        "id": "Klo7ojItKFgD",
        "outputId": "fa276aac-cb7b-49ad-b5ff-94dcd70815a0"
      },
      "source": [
        "# Replacing a string with another string\r\n",
        "word = \"Hello World\"\r\n",
        "replace = \"Bye\"\r\n",
        "input = \"Hello\"\r\n",
        "after_replace = word.replace(input, replace)\r\n",
        "print(f\"String ater replacement: {after_replace}\")"
      ],
      "execution_count": 31,
      "outputs": [
        {
          "output_type": "stream",
          "text": [
            "String ater replacement: Bye World\n"
          ],
          "name": "stdout"
        }
      ]
    },
    {
      "cell_type": "code",
      "metadata": {
        "colab": {
          "base_uri": "https://localhost:8080/"
        },
        "id": "0A4AUprQKvb-",
        "outputId": "b335786b-a56f-4280-8718-db0c6c88100c"
      },
      "source": [
        "#removes leading characters\r\n",
        "word = \" xyz \"\r\n",
        "lstrip = word.lstrip()\r\n",
        "print(f\"String ater removal of leading characters:{lstrip}\")"
      ],
      "execution_count": 32,
      "outputs": [
        {
          "output_type": "stream",
          "text": [
            "String ater removal of leading characters:xyz \n"
          ],
          "name": "stdout"
        }
      ]
    },
    {
      "cell_type": "code",
      "metadata": {
        "colab": {
          "base_uri": "https://localhost:8080/"
        },
        "id": "fHUeiKVJK6Sj",
        "outputId": "1f37ef6c-5abd-4c36-e714-b695841ca1ea"
      },
      "source": [
        "#removes trailing characters\r\n",
        "word = \" xyz \"\r\n",
        "rstrip = word.rstrip()\r\n",
        "print(f\"String ater removal of trailing characters:{rstrip}\")"
      ],
      "execution_count": 33,
      "outputs": [
        {
          "output_type": "stream",
          "text": [
            "String ater removal of trailing characters: xyz\n"
          ],
          "name": "stdout"
        }
      ]
    },
    {
      "cell_type": "code",
      "metadata": {
        "colab": {
          "base_uri": "https://localhost:8080/"
        },
        "id": "zn5etCdiLVBo",
        "outputId": "842c0d8a-8ef9-461b-8ecf-133c08b564a9"
      },
      "source": [
        "# check if all char are alphanumeric\r\n",
        "word = \"Hello World\"\r\n",
        "check = word.isalnum()\r\n",
        "print(f\"All char are alphanumeric?:{check}\")"
      ],
      "execution_count": 34,
      "outputs": [
        {
          "output_type": "stream",
          "text": [
            "All char are alphanumeric?:False\n"
          ],
          "name": "stdout"
        }
      ]
    },
    {
      "cell_type": "code",
      "metadata": {
        "colab": {
          "base_uri": "https://localhost:8080/"
        },
        "id": "E1bIjoVLLjRv",
        "outputId": "33a85fc5-8e36-4d94-96f7-7ee8c4162c7a"
      },
      "source": [
        "# check if all char in the string are alphabetic\r\n",
        "word = \"Hello World\"\r\n",
        "check = word.isalpha()\r\n",
        "print(f\"All char are alphabetic?:{check}\")"
      ],
      "execution_count": 35,
      "outputs": [
        {
          "output_type": "stream",
          "text": [
            "All char are alphabetic?:False\n"
          ],
          "name": "stdout"
        }
      ]
    },
    {
      "cell_type": "code",
      "metadata": {
        "colab": {
          "base_uri": "https://localhost:8080/"
        },
        "id": "C0rmcrJALxAv",
        "outputId": "5a6b13ba-3b26-4895-ee6b-cfc8c458fe9c"
      },
      "source": [
        "# test if string contains digits\r\n",
        "word = \"Hello World\"\r\n",
        "check = word.isdigit()\r\n",
        "print(f\"String contains digits?:{check}\")"
      ],
      "execution_count": 36,
      "outputs": [
        {
          "output_type": "stream",
          "text": [
            "String contains digits?:False\n"
          ],
          "name": "stdout"
        }
      ]
    },
    {
      "cell_type": "code",
      "metadata": {
        "colab": {
          "base_uri": "https://localhost:8080/"
        },
        "id": "OlrWUF5bMANg",
        "outputId": "dc575968-2fa1-40f8-ad43-3bff25768e07"
      },
      "source": [
        "# Test if string contains upper case\r\n",
        "word = \"Hello World\"\r\n",
        "check = word.isupper()\r\n",
        "print(f\"String contains upper case?:{check}\")"
      ],
      "execution_count": 37,
      "outputs": [
        {
          "output_type": "stream",
          "text": [
            "String contains upper case?:False\n"
          ],
          "name": "stdout"
        }
      ]
    },
    {
      "cell_type": "code",
      "metadata": {
        "colab": {
          "base_uri": "https://localhost:8080/"
        },
        "id": "ST-NkE1hMPoS",
        "outputId": "52c4a0b5-2532-4042-ab9c-5b4005a1f9d5"
      },
      "source": [
        "# Test if string starts with H\r\n",
        "word = \"Hello World\"\r\n",
        "check = word.startswith('H')\r\n",
        "print(f\"String starts with H?:{check}\")"
      ],
      "execution_count": 38,
      "outputs": [
        {
          "output_type": "stream",
          "text": [
            "String starts with H?:True\n"
          ],
          "name": "stdout"
        }
      ]
    },
    {
      "cell_type": "code",
      "metadata": {
        "colab": {
          "base_uri": "https://localhost:8080/"
        },
        "id": "9pSfWoV4T50A",
        "outputId": "87b7ea08-f9d2-446d-85b1-f96696b46b90"
      },
      "source": [
        "# Returns an integer value for the given character\r\n",
        "str = \"A\"\r\n",
        "val = ord(str)\r\n",
        "print(f\"Integer value for the given character?:{val}\")"
      ],
      "execution_count": 39,
      "outputs": [
        {
          "output_type": "stream",
          "text": [
            "Integer value for the given character?:65\n"
          ],
          "name": "stdout"
        }
      ]
    },
    {
      "cell_type": "code",
      "metadata": {
        "colab": {
          "base_uri": "https://localhost:8080/"
        },
        "id": "0YZ0JETqXXVy",
        "outputId": "e9ddbc5a-b381-416b-dd7c-bb6bc2a2b8d3"
      },
      "source": [
        "#  Fibonacci series up to 100\r\n",
        "n = 100\r\n",
        "result = []\r\n",
        "a, b = 0 , 1\r\n",
        "while b < n:\r\n",
        "  result. append( b)\r\n",
        "  a, b = b, a + b\r\n",
        "final = result\r\n",
        "print(f\"Fibonacci series up to 100:{final}\")"
      ],
      "execution_count": 40,
      "outputs": [
        {
          "output_type": "stream",
          "text": [
            "Fibonacci series up to 100:[1, 1, 2, 3, 5, 8, 13, 21, 34, 55, 89]\n"
          ],
          "name": "stdout"
        }
      ]
    },
    {
      "cell_type": "code",
      "metadata": {
        "colab": {
          "base_uri": "https://localhost:8080/"
        },
        "id": "oSo4tEWVXsuC",
        "outputId": "fa48ae50-ff66-4395-ae7c-405f7cca1eb6"
      },
      "source": [
        "# Counting total Digits in a string\r\n",
        "str1 = \"abc4234AFde\"\r\n",
        "digitCount = 0\r\n",
        "for i in range(0,len(str1)):\r\n",
        "  char = str1[i]\r\n",
        "  if(char.isdigit()):\r\n",
        "    digitCount += 1\r\n",
        "print('Number of digits: ',digitCount)"
      ],
      "execution_count": 41,
      "outputs": [
        {
          "output_type": "stream",
          "text": [
            "Number of digits:  4\n"
          ],
          "name": "stdout"
        }
      ]
    },
    {
      "cell_type": "code",
      "metadata": {
        "colab": {
          "base_uri": "https://localhost:8080/"
        },
        "id": "ld8EUdoIb3-C",
        "outputId": "08d4c353-de1d-4f5e-d695-b506697c047e"
      },
      "source": [
        "# Counting total alphanumeric in a string\r\n",
        "str1 = \"abc4234AFde\"\r\n",
        "digitCount = 0\r\n",
        "for i in range(0,len(str1)):\r\n",
        "  char = str1[i]\r\n",
        "  if(char.isalpha()):\r\n",
        "    digitCount += 1\r\n",
        "print('Number of alphanumeric: ',digitCount)"
      ],
      "execution_count": 42,
      "outputs": [
        {
          "output_type": "stream",
          "text": [
            "Number of alphanumeric:  7\n"
          ],
          "name": "stdout"
        }
      ]
    },
    {
      "cell_type": "code",
      "metadata": {
        "colab": {
          "base_uri": "https://localhost:8080/"
        },
        "id": "dL4vwpfMcG0N",
        "outputId": "49933eb4-035e-46d3-b386-cc8fb1a59a30"
      },
      "source": [
        "# Counting total Upper Case in a string\r\n",
        "str1 = \"abc4234AFde\"\r\n",
        "digitCount = 0\r\n",
        "for i in range(0,len(str1)):\r\n",
        "  char = str1[i]\r\n",
        "  if(char.upper()):\r\n",
        "    digitCount += 1\r\n",
        "print('Number total Upper Case: ',digitCount)"
      ],
      "execution_count": 43,
      "outputs": [
        {
          "output_type": "stream",
          "text": [
            "Number total Upper Case:  11\n"
          ],
          "name": "stdout"
        }
      ]
    },
    {
      "cell_type": "code",
      "metadata": {
        "colab": {
          "base_uri": "https://localhost:8080/"
        },
        "id": "zPZPcW8GcRAx",
        "outputId": "ee64f757-525b-4f7e-f34e-0ccf76cbe181"
      },
      "source": [
        "# Counting total lower Case in a string\r\n",
        "str1 = \"abc4234AFdeaa\"\r\n",
        "digitCount = 0\r\n",
        "for i in range(0,len(str1)):\r\n",
        "  char = str1[i]\r\n",
        "  if(char.lower()):\r\n",
        "    digitCount += 1\r\n",
        "print('Number total lower Case: ',digitCount)"
      ],
      "execution_count": 44,
      "outputs": [
        {
          "output_type": "stream",
          "text": [
            "Number total lower Case:  13\n"
          ],
          "name": "stdout"
        }
      ]
    },
    {
      "cell_type": "code",
      "metadata": {
        "colab": {
          "base_uri": "https://localhost:8080/"
        },
        "id": "Jssit9ntZWhr",
        "outputId": "4131792d-9054-4344-e7ac-d93d6737a3c4"
      },
      "source": [
        "# Bubble sort in python\r\n",
        "\r\n",
        "list1 = [1, 5, 3, 4]\r\n",
        "\r\n",
        "for i in range(len(list1)-1):\r\n",
        "  for j in range(i+1,len(list1)):\r\n",
        "    if(list1[i] > list1[j]):\r\n",
        "      temp = list1[i]\r\n",
        "      list1[i] = list1[j]\r\n",
        "      list1[j] = temp\r\n",
        "print(\"Bubble Sorted list: \",list1)"
      ],
      "execution_count": 45,
      "outputs": [
        {
          "output_type": "stream",
          "text": [
            "Bubble Sorted list:  [1, 3, 4, 5]\n"
          ],
          "name": "stdout"
        }
      ]
    },
    {
      "cell_type": "code",
      "metadata": {
        "colab": {
          "base_uri": "https://localhost:8080/"
        },
        "id": "7ukjrt1sdG_5",
        "outputId": "1b24eb4e-35e4-455b-af39-18a730da8be5"
      },
      "source": [
        "# Compute the product of every pair of numbers from two lists\r\n",
        "list1 = [1, 2, 3]\r\n",
        "list2 = [5, 6, 7] \r\n",
        "final = [a*b for a in list1 for b in list2]\r\n",
        "print(f\"Product of every pair of numbers from two lists:{final}\")"
      ],
      "execution_count": 46,
      "outputs": [
        {
          "output_type": "stream",
          "text": [
            "Product of every pair of numbers from two lists:[5, 6, 7, 10, 12, 14, 15, 18, 21]\n"
          ],
          "name": "stdout"
        }
      ]
    },
    {
      "cell_type": "code",
      "metadata": {
        "colab": {
          "base_uri": "https://localhost:8080/"
        },
        "id": "f0OKt9uBddrL",
        "outputId": "8802d36a-dcec-4b4c-c706-6742edd4c4d6"
      },
      "source": [
        "# Calculate the sum of every pair of numbers from two lists\r\n",
        "list1 = [1, 2, 3]\r\n",
        "list2 = [5, 6, 7] \r\n",
        "final = [a+b for a in list1 for b in list2]\r\n",
        "print(f\"sum of every pair of numbers from two lists:{final}\")"
      ],
      "execution_count": 47,
      "outputs": [
        {
          "output_type": "stream",
          "text": [
            "sum of every pair of numbers from two lists:[6, 7, 8, 7, 8, 9, 8, 9, 10]\n"
          ],
          "name": "stdout"
        }
      ]
    },
    {
      "cell_type": "code",
      "metadata": {
        "colab": {
          "base_uri": "https://localhost:8080/"
        },
        "id": "EesriNnAd5Wh",
        "outputId": "5431b521-16f1-4747-d37b-8c95663f8cdb"
      },
      "source": [
        "# Calculate the pair-wise product of two lists\r\n",
        "\r\n",
        "list1 = [1, 2, 3]\r\n",
        "list2 = [5, 6, 7] \r\n",
        "final = [list1[i]*list2[i] for i in range(len(list1))]\r\n",
        "print(f\"pair-wise product of two lists:{final}\")"
      ],
      "execution_count": 48,
      "outputs": [
        {
          "output_type": "stream",
          "text": [
            "pair-wise product of two lists:[5, 12, 21]\n"
          ],
          "name": "stdout"
        }
      ]
    },
    {
      "cell_type": "code",
      "metadata": {
        "colab": {
          "base_uri": "https://localhost:8080/"
        },
        "id": "60mBYdrceI-R",
        "outputId": "b902a9e8-9c39-4c05-8b92-88a33a0d791b"
      },
      "source": [
        "# Remove the last element from the stack\r\n",
        "s = [1,2,3,4]\r\n",
        "print(f\"last element from the stack:{s.pop()}\")"
      ],
      "execution_count": 49,
      "outputs": [
        {
          "output_type": "stream",
          "text": [
            "last element from the stack:4\n"
          ],
          "name": "stdout"
        }
      ]
    },
    {
      "cell_type": "code",
      "metadata": {
        "colab": {
          "base_uri": "https://localhost:8080/"
        },
        "id": "TQvDjj97eVUM",
        "outputId": "1b3cdd8c-4b36-41e0-ca28-a03a5a81d299"
      },
      "source": [
        "# Insert a number at the beginning of the queue\r\n",
        "q = [1,2,3,4]\r\n",
        "q.insert(0,5)\r\n",
        "print(f\"Revised List:{q}\")"
      ],
      "execution_count": 50,
      "outputs": [
        {
          "output_type": "stream",
          "text": [
            "Revised List:[5, 1, 2, 3, 4]\n"
          ],
          "name": "stdout"
        }
      ]
    },
    {
      "cell_type": "code",
      "metadata": {
        "colab": {
          "base_uri": "https://localhost:8080/"
        },
        "id": "YWKwdnufeppZ",
        "outputId": "ef8dfb2d-298a-4742-b30e-f94ed9ee84d5"
      },
      "source": [
        "# Addition of two vector\r\n",
        "v1 = [1,2,3]\r\n",
        "v2 = [1,2,3]\r\n",
        "s1 = [0,0,0]\r\n",
        "\r\n",
        "for i in range(len(v1)):\r\n",
        "  s1[i] = v1[i] + v2[i]\r\n",
        "print(f\"New Vector:{s1}\")"
      ],
      "execution_count": 51,
      "outputs": [
        {
          "output_type": "stream",
          "text": [
            "New Vector:[2, 4, 6]\n"
          ],
          "name": "stdout"
        }
      ]
    },
    {
      "cell_type": "code",
      "metadata": {
        "id": "O7PNZoYFe-Vy"
      },
      "source": [
        "# # Merge of two dictionary\r\n",
        "# x = {\"key1\": \"value1 from x\", \"key2\": \"value2 from x\"}\r\n",
        "# y = {\"key2\": \"value2 from y\", \"key3\": \"value3 from y\"}\r\n",
        "# z = x | y\r\n",
        "# print(f\"Merged Dictionary:{z}\")"
      ],
      "execution_count": 52,
      "outputs": []
    },
    {
      "cell_type": "code",
      "metadata": {
        "id": "ZCdij3dijcnI",
        "colab": {
          "base_uri": "https://localhost:8080/"
        },
        "outputId": "ce61ad47-dfdb-479a-e39f-d0d20ce32824"
      },
      "source": [
        "# Replace negative prices with 0 and leave the positive values unchanged in a list\r\n",
        "\r\n",
        "original_prices = [1.25, -9.45, 10.22, 3.78, -5.92, 1.16]\r\n",
        "prices = [i if i > 0 else 0 for i in original_prices]\r\n",
        "print(f\"Final List:{prices}\")"
      ],
      "execution_count": 53,
      "outputs": [
        {
          "output_type": "stream",
          "text": [
            "Final List:[1.25, 0, 10.22, 3.78, 0, 1.16]\n"
          ],
          "name": "stdout"
        }
      ]
    },
    {
      "cell_type": "code",
      "metadata": {
        "colab": {
          "base_uri": "https://localhost:8080/"
        },
        "id": "E_OoSpw83U3S",
        "outputId": "9742afd3-1579-4a93-d285-ee162e602b9a"
      },
      "source": [
        "# Convert dictionary to JSON\r\n",
        "\r\n",
        "import json\r\n",
        "person_dict = {'name': 'Bob',\r\n",
        "'age': 12,\r\n",
        "'children': None\r\n",
        "}\r\n",
        "person_json = json.dumps(person_dict)\r\n",
        "print(person_json)"
      ],
      "execution_count": 54,
      "outputs": [
        {
          "output_type": "stream",
          "text": [
            "{\"name\": \"Bob\", \"age\": 12, \"children\": null}\n"
          ],
          "name": "stdout"
        }
      ]
    },
    {
      "cell_type": "code",
      "metadata": {
        "id": "fHv5WL2Kn4gx"
      },
      "source": [
        "# Writing JSON to a file\r\n",
        "\r\n",
        "import json\r\n",
        "person_dict = {\"name\": \"Bob\",\r\n",
        "\"languages\": [\"English\", \"Fench\"],\r\n",
        "\"married\": True,\r\n",
        "\"age\": 32\r\n",
        "}\r\n",
        "with open('person.txt', 'w') as json_file:\r\n",
        "  json.dump(person_dict, json_file)"
      ],
      "execution_count": 55,
      "outputs": []
    },
    {
      "cell_type": "code",
      "metadata": {
        "id": "0_VrDzR5n5f4",
        "colab": {
          "base_uri": "https://localhost:8080/"
        },
        "outputId": "d8664630-b219-4805-d190-f3692e329aaf"
      },
      "source": [
        "# Pretty print JSON\r\n",
        "\r\n",
        "import json\r\n",
        "person_string = '{\"name\": \"Bob\", \"languages\": \"English\", \"numbers\": [2, 1.6, null]}'\r\n",
        "person_dict = json.loads(person_string)\r\n",
        "print(json.dumps(person_dict, indent = 4, sort_keys=True))"
      ],
      "execution_count": 56,
      "outputs": [
        {
          "output_type": "stream",
          "text": [
            "{\n",
            "    \"languages\": \"English\",\n",
            "    \"name\": \"Bob\",\n",
            "    \"numbers\": [\n",
            "        2,\n",
            "        1.6,\n",
            "        null\n",
            "    ]\n",
            "}\n"
          ],
          "name": "stdout"
        }
      ]
    },
    {
      "cell_type": "code",
      "metadata": {
        "id": "K_XQQ0w94_xq"
      },
      "source": [
        "# Converting JSON to CSV \r\n",
        "import json\r\n",
        "import csv\r\n",
        "\r\n",
        "employee_data = '{\"employee_details\":[{\"employee_name\": \"James\", \"email\": \"james@gmail.com\", \"job_profile\": \"Sr. Developer\"},{\"employee_name\": \"Smith\", \"email\": \"Smith@gmail.com\", \"job_profile\": \"Project Lead\"}]}'\r\n",
        "\r\n",
        "employee_parsed = json.loads(employee_data)\r\n",
        "emp_data = employee_parsed['employee_details']\r\n",
        "employ_data = open('/tmp/EmployData.csv', 'w')\r\n",
        "csvwriter = csv.writer(employ_data)\r\n",
        "for emp in emp_data:\r\n",
        "  if count == 0:\r\n",
        "    header = emp.keys()\r\n",
        "    csvwriter.writerow(header)\r\n",
        "    count += 1\r\n",
        "    csvwriter.writerow(emp.values())\r\n",
        "employ_data.close()"
      ],
      "execution_count": 57,
      "outputs": []
    },
    {
      "cell_type": "code",
      "metadata": {
        "colab": {
          "base_uri": "https://localhost:8080/"
        },
        "id": "7Xf0dksi8SZx",
        "outputId": "21ee81a2-e62f-4cea-f313-1f51195952ea"
      },
      "source": [
        "# Check if the key exists or not in JSON\r\n",
        "\r\n",
        "import json\r\n",
        "\r\n",
        "studentJson =\"\"\"{\r\n",
        "   \"id\": 1,\r\n",
        "   \"name\": \"john wick\",\r\n",
        "   \"class\": 8,\r\n",
        "   \"percentage\": 75,\r\n",
        "   \"email\": \"jhon@pynative.com\"\r\n",
        "}\"\"\"\r\n",
        "\r\n",
        "print(\"Checking if percentage key exists in JSON\")\r\n",
        "student = json.loads(studentJson)\r\n",
        "if \"percentage\" in student:\r\n",
        "    print(\"Key exist in JSON data\")\r\n",
        "    print(student[\"name\"], \"marks is: \", student[\"percentage\"])\r\n",
        "else:\r\n",
        "    print(\"Key doesn't exist in JSON data\")"
      ],
      "execution_count": 58,
      "outputs": [
        {
          "output_type": "stream",
          "text": [
            "Checking if percentage key exists in JSON\n",
            "Key exist in JSON data\n",
            "john wick marks is:  75\n"
          ],
          "name": "stdout"
        }
      ]
    },
    {
      "cell_type": "code",
      "metadata": {
        "colab": {
          "base_uri": "https://localhost:8080/"
        },
        "id": "9s2go-2s8dXy",
        "outputId": "8061b3c4-5cdd-4b42-a405-86d9470de8ea"
      },
      "source": [
        "# Check if there is a value for a key in JSON\r\n",
        "import json\r\n",
        "\r\n",
        "studentJson =\"\"\"{\r\n",
        "   \"id\": 1,\r\n",
        "   \"name\": \"john wick\",\r\n",
        "   \"class\": null,\r\n",
        "   \"percentage\": 75,\r\n",
        "   \"email\": \"jhon@pynative.com\"\r\n",
        "}\"\"\"\r\n",
        "student = json.loads(studentJson)\r\n",
        "if not (student.get('email') is None):\r\n",
        "     print(\"value is present for given JSON key\")\r\n",
        "     print(student.get('email'))\r\n",
        "else:\r\n",
        "    print(\"value is not present for given JSON key\")"
      ],
      "execution_count": 59,
      "outputs": [
        {
          "output_type": "stream",
          "text": [
            "value is present for given JSON key\n",
            "jhon@pynative.com\n"
          ],
          "name": "stdout"
        }
      ]
    },
    {
      "cell_type": "code",
      "metadata": {
        "colab": {
          "base_uri": "https://localhost:8080/"
        },
        "id": "YAzlHYs58wTZ",
        "outputId": "9306c001-0a54-45b5-ee2e-1c04fd8fdaa6"
      },
      "source": [
        "# Sort JSON keys in Python and write it into a file\r\n",
        "import json\r\n",
        "sampleJson = {\"id\" : 1, \"name\" : \"value2\", \"age\" : 29}\r\n",
        "\r\n",
        "with open(\"sampleJson.json\", \"w\") as write_file:\r\n",
        "    json.dump(sampleJson, write_file, indent=4, sort_keys=True)\r\n",
        "print(\"Done writing JSON data into a file\")"
      ],
      "execution_count": 60,
      "outputs": [
        {
          "output_type": "stream",
          "text": [
            "Done writing JSON data into a file\n"
          ],
          "name": "stdout"
        }
      ]
    },
    {
      "cell_type": "code",
      "metadata": {
        "colab": {
          "base_uri": "https://localhost:8080/"
        },
        "id": "byDcvp2G894Z",
        "outputId": "621f8314-276c-4574-c566-d7f78126864b"
      },
      "source": [
        "#  Given a Python list. Turn every item of a list into its square\r\n",
        "aList = [1, 2, 3, 4, 5, 6, 7]\r\n",
        "aList =  [x * x for x in aList]\r\n",
        "print(aList)"
      ],
      "execution_count": 61,
      "outputs": [
        {
          "output_type": "stream",
          "text": [
            "[1, 4, 9, 16, 25, 36, 49]\n"
          ],
          "name": "stdout"
        }
      ]
    },
    {
      "cell_type": "code",
      "metadata": {
        "colab": {
          "base_uri": "https://localhost:8080/"
        },
        "id": "26EQZnN_9ICg",
        "outputId": "ec3e5493-3f9d-4736-9af9-9bdffd134ab1"
      },
      "source": [
        "# Remove empty strings from the list of strings\r\n",
        "\r\n",
        "list1 = [\"Mike\", \"\", \"Emma\", \"Kelly\", \"\", \"Brad\"]\r\n",
        "resList = [i for i in (filter(None, list1))]\r\n",
        "print(resList)"
      ],
      "execution_count": 62,
      "outputs": [
        {
          "output_type": "stream",
          "text": [
            "['Mike', 'Emma', 'Kelly', 'Brad']\n"
          ],
          "name": "stdout"
        }
      ]
    },
    {
      "cell_type": "code",
      "metadata": {
        "colab": {
          "base_uri": "https://localhost:8080/"
        },
        "id": "2rhx9-Fg-ClA",
        "outputId": "f158a392-f439-447e-ee92-6485823b4b1a"
      },
      "source": [
        "# Write a program which will achieve given a Python list, remove all occurrence of an input from the list\r\n",
        "\r\n",
        "list1 = [5, 20, 15, 20, 25, 50, 20]\r\n",
        "\r\n",
        "def removeValue(sampleList, val):\r\n",
        "   return [value for value in sampleList if value != val]\r\n",
        "   \r\n",
        "resList = removeValue(list1, 20)\r\n",
        "print(resList)"
      ],
      "execution_count": 63,
      "outputs": [
        {
          "output_type": "stream",
          "text": [
            "[5, 15, 25, 50]\n"
          ],
          "name": "stdout"
        }
      ]
    },
    {
      "cell_type": "code",
      "metadata": {
        "colab": {
          "base_uri": "https://localhost:8080/"
        },
        "id": "s2UWe94m-URa",
        "outputId": "81636adc-f86e-4cd8-d785-73ca181b09a3"
      },
      "source": [
        "#  Generate 3 random integers between 100 and 999 which is divisible by 5\r\n",
        "import random\r\n",
        "\r\n",
        "print(\"Generating 3 random integer number between 100 and 999 divisible by 5\")\r\n",
        "for num in range(3):\r\n",
        "    print(random.randrange(100, 999, 5), end=', ')"
      ],
      "execution_count": 64,
      "outputs": [
        {
          "output_type": "stream",
          "text": [
            "Generating 3 random integer number between 100 and 999 divisible by 5\n",
            "975, 745, 455, "
          ],
          "name": "stdout"
        }
      ]
    },
    {
      "cell_type": "code",
      "metadata": {
        "colab": {
          "base_uri": "https://localhost:8080/"
        },
        "id": "tvyNQgz4-bno",
        "outputId": "b7aaba0b-ad9b-47ab-d1f2-3c33ecbb7d54"
      },
      "source": [
        "# Pick a random character from a given String\r\n",
        "import random\r\n",
        "\r\n",
        "name = 'pynative'\r\n",
        "char = random.choice(name)\r\n",
        "print(\"random char is \", char)"
      ],
      "execution_count": 65,
      "outputs": [
        {
          "output_type": "stream",
          "text": [
            "random char is  y\n"
          ],
          "name": "stdout"
        }
      ]
    },
    {
      "cell_type": "code",
      "metadata": {
        "colab": {
          "base_uri": "https://localhost:8080/"
        },
        "id": "WAecM1HB-hN4",
        "outputId": "43eea083-42ba-417f-8352-8b822b23c554"
      },
      "source": [
        "# Generate  random String of length 5\r\n",
        "import random\r\n",
        "import string\r\n",
        "\r\n",
        "def randomString(stringLength):\r\n",
        "    \"\"\"Generate a random string of 5 charcters\"\"\"\r\n",
        "    letters = string.ascii_letters\r\n",
        "    return ''.join(random.choice(letters) for i in range(stringLength))\r\n",
        "\r\n",
        "print (\"Random String is \", randomString(5) )"
      ],
      "execution_count": 66,
      "outputs": [
        {
          "output_type": "stream",
          "text": [
            "Random String is  UZLXI\n"
          ],
          "name": "stdout"
        }
      ]
    },
    {
      "cell_type": "code",
      "metadata": {
        "colab": {
          "base_uri": "https://localhost:8080/"
        },
        "id": "2ibJq1fD-saP",
        "outputId": "89a5df1d-0e96-4a67-8fae-3b033beadb5f"
      },
      "source": [
        "# Generate a random date between given start and end dates\r\n",
        "import random\r\n",
        "import time\r\n",
        "\r\n",
        "def getRandomDate(startDate, endDate ):\r\n",
        "    print(\"Printing random date between\", startDate, \" and \", endDate)\r\n",
        "    randomGenerator = random.random()\r\n",
        "    dateFormat = '%m/%d/%Y'\r\n",
        "\r\n",
        "    startTime = time.mktime(time.strptime(startDate, dateFormat))\r\n",
        "    endTime = time.mktime(time.strptime(endDate, dateFormat))\r\n",
        "\r\n",
        "    randomTime = startTime + randomGenerator * (endTime - startTime)\r\n",
        "    randomDate = time.strftime(dateFormat, time.localtime(randomTime))\r\n",
        "    return randomDate\r\n",
        "\r\n",
        "print (\"Random Date = \", getRandomDate(\"1/1/2016\", \"12/12/2018\"))"
      ],
      "execution_count": 67,
      "outputs": [
        {
          "output_type": "stream",
          "text": [
            "Printing random date between 1/1/2016  and  12/12/2018\n",
            "Random Date =  08/05/2018\n"
          ],
          "name": "stdout"
        }
      ]
    },
    {
      "cell_type": "code",
      "metadata": {
        "colab": {
          "base_uri": "https://localhost:8080/"
        },
        "id": "_3DfaOER-2qj",
        "outputId": "e0f863ec-6c46-4d35-c35c-616dc1cf8f18"
      },
      "source": [
        "# Write a program which will create a new string by appending s2 in the middle of s1 given two strings, s1 and s2\r\n",
        "\r\n",
        "def appendMiddle(s1, s2):\r\n",
        "  middleIndex = int(len(s1) /2)\r\n",
        "  middleThree = s1[:middleIndex:]+ s2 +s1[middleIndex:]\r\n",
        "  print(\"After appending new string in middle\", middleThree)\r\n",
        "  \r\n",
        "appendMiddle(\"Ault\", \"Kelly\")"
      ],
      "execution_count": 68,
      "outputs": [
        {
          "output_type": "stream",
          "text": [
            "After appending new string in middle AuKellylt\n"
          ],
          "name": "stdout"
        }
      ]
    },
    {
      "cell_type": "code",
      "metadata": {
        "colab": {
          "base_uri": "https://localhost:8080/"
        },
        "id": "jnFcueJ7_Fhb",
        "outputId": "4658b43d-bc4e-4a23-a627-2ffa3423e9ef"
      },
      "source": [
        "# Arrange string characters such that lowercase letters should come first\r\n",
        "\r\n",
        "str1 = \"PyNaTive\"\r\n",
        "lower = []\r\n",
        "upper = []\r\n",
        "for char in str1:\r\n",
        "    if char.islower():\r\n",
        "        lower.append(char)\r\n",
        "    else:\r\n",
        "        upper.append(char)\r\n",
        "sorted_string = ''.join(lower + upper)\r\n",
        "print(sorted_string)"
      ],
      "execution_count": 69,
      "outputs": [
        {
          "output_type": "stream",
          "text": [
            "yaivePNT\n"
          ],
          "name": "stdout"
        }
      ]
    },
    {
      "cell_type": "code",
      "metadata": {
        "colab": {
          "base_uri": "https://localhost:8080/"
        },
        "id": "VpqiqHwS_d4P",
        "outputId": "6a2da225-a26d-41bc-f092-2e57a33f5e0a"
      },
      "source": [
        "# Given a string, return the sum and average of the digits that appear in the string, ignoring all other characters\r\n",
        "import re\r\n",
        "\r\n",
        "inputStr = \"English = 78 Science = 83 Math = 68 History = 65\"\r\n",
        "markList = [int(num) for num in re.findall(r'\\b\\d+\\b', inputStr)]\r\n",
        "totalMarks = 0\r\n",
        "for mark in markList:\r\n",
        "  totalMarks+=mark\r\n",
        "\r\n",
        "percentage = totalMarks/len(markList)  \r\n",
        "print(\"Total Marks is:\", totalMarks, \"Percentage is \", percentage)"
      ],
      "execution_count": 70,
      "outputs": [
        {
          "output_type": "stream",
          "text": [
            "Total Marks is: 294 Percentage is  73.5\n"
          ],
          "name": "stdout"
        }
      ]
    },
    {
      "cell_type": "code",
      "metadata": {
        "colab": {
          "base_uri": "https://localhost:8080/"
        },
        "id": "tkINVSrB_ktK",
        "outputId": "595aff11-2add-4959-b562-fd485f5c123b"
      },
      "source": [
        "# Given an input string, count occurrences of all characters within a string\r\n",
        "str1 = \"Apple\"\r\n",
        "countDict = dict()\r\n",
        "for char in str1:\r\n",
        "  count = str1.count(char)\r\n",
        "  countDict[char]=count\r\n",
        "print(countDict)"
      ],
      "execution_count": 71,
      "outputs": [
        {
          "output_type": "stream",
          "text": [
            "{'A': 1, 'p': 2, 'l': 1, 'e': 1}\n"
          ],
          "name": "stdout"
        }
      ]
    },
    {
      "cell_type": "code",
      "metadata": {
        "colab": {
          "base_uri": "https://localhost:8080/"
        },
        "id": "ZmtxGzMF_qXt",
        "outputId": "b8e1da15-9bc5-43bb-f64a-980c75c1a073"
      },
      "source": [
        "# Reverse a given string\r\n",
        "str1 = \"PYnative\"\r\n",
        "print(\"Original String is:\", str1)\r\n",
        "\r\n",
        "str1 = str1[::-1]\r\n",
        "print(\"Reversed String is:\", str1)"
      ],
      "execution_count": 72,
      "outputs": [
        {
          "output_type": "stream",
          "text": [
            "Original String is: PYnative\n",
            "Reversed String is: evitanYP\n"
          ],
          "name": "stdout"
        }
      ]
    },
    {
      "cell_type": "code",
      "metadata": {
        "colab": {
          "base_uri": "https://localhost:8080/"
        },
        "id": "nn055r2I_zBm",
        "outputId": "7ecfaa88-fd75-4262-b8fb-52a467ff8194"
      },
      "source": [
        "# Remove special symbols/Punctuation from a given string\r\n",
        "import string\r\n",
        "\r\n",
        "str1 = \"/*Jon is @developer & musician\"\r\n",
        "new_str = str1.translate(str.maketrans('', '', string.punctuation))\r\n",
        "print(\"New string is \", new_str)"
      ],
      "execution_count": 73,
      "outputs": [
        {
          "output_type": "stream",
          "text": [
            "New string is  Jon is developer  musician\n"
          ],
          "name": "stdout"
        }
      ]
    },
    {
      "cell_type": "code",
      "metadata": {
        "colab": {
          "base_uri": "https://localhost:8080/"
        },
        "id": "iTu0KvOm_-5z",
        "outputId": "50b15635-dfd2-4045-b95a-0f50265b1318"
      },
      "source": [
        "# Removal all the characters other than integers from string\r\n",
        "\r\n",
        "str1 = 'I am 25 years and 10 months old'\r\n",
        "res = \"\".join([item for item in str1 if item.isdigit()])\r\n",
        "print(res)"
      ],
      "execution_count": 74,
      "outputs": [
        {
          "output_type": "stream",
          "text": [
            "2510\n"
          ],
          "name": "stdout"
        }
      ]
    },
    {
      "cell_type": "code",
      "metadata": {
        "colab": {
          "base_uri": "https://localhost:8080/"
        },
        "id": "LQmf7VtBAI6k",
        "outputId": "1bccdd30-ad01-4e36-f01d-a5b3be0563b6"
      },
      "source": [
        "# From given string replace each punctuation with #\r\n",
        "from string import punctuation\r\n",
        "\r\n",
        "str1 = '/*Jon is @developer & musician!!'\r\n",
        "\r\n",
        "replace_char = '#'\r\n",
        "for char in punctuation:\r\n",
        "    str1 = str1.replace(char, replace_char)\r\n",
        "\r\n",
        "print(\"The strings after replacement : \", str1)\r\n"
      ],
      "execution_count": 75,
      "outputs": [
        {
          "output_type": "stream",
          "text": [
            "The strings after replacement :  ##Jon is #developer # musician##\n"
          ],
          "name": "stdout"
        }
      ]
    },
    {
      "cell_type": "code",
      "metadata": {
        "colab": {
          "base_uri": "https://localhost:8080/"
        },
        "id": "ExoonkswAni8",
        "outputId": "2e43f9ae-5e30-4946-9404-4cf6df3d5242"
      },
      "source": [
        "# Given a list iterate it and count the occurrence of each element and create a dictionary to show the count of each elemen\r\n",
        "\r\n",
        "sampleList = [11, 45, 8, 11, 23, 45, 23, 45, 89]\r\n",
        "\r\n",
        "countDict = dict()\r\n",
        "for item in sampleList:\r\n",
        "  if(item in countDict):\r\n",
        "    countDict[item] += 1\r\n",
        "  else:\r\n",
        "    countDict[item] = 1\r\n",
        "  \r\n",
        "print(\"Printing count of each item  \",countDict)"
      ],
      "execution_count": 76,
      "outputs": [
        {
          "output_type": "stream",
          "text": [
            "Printing count of each item   {11: 2, 45: 3, 8: 1, 23: 2, 89: 1}\n"
          ],
          "name": "stdout"
        }
      ]
    },
    {
      "cell_type": "code",
      "metadata": {
        "colab": {
          "base_uri": "https://localhost:8080/"
        },
        "id": "D-6xalkRBrmc",
        "outputId": "cb831e3a-ac95-48db-b27b-2e7c2aa69915"
      },
      "source": [
        "# Given a two list of equal size create a set such that it shows the element from both lists in the pair\r\n",
        "\r\n",
        "firstList = [2, 3, 4, 5, 6, 7, 8]\r\n",
        "secondList = [4, 9, 16, 25, 36, 49, 64]\r\n",
        "result = zip(firstList, secondList)\r\n",
        "resultSet = set(result)\r\n",
        "print(resultSet)"
      ],
      "execution_count": 77,
      "outputs": [
        {
          "output_type": "stream",
          "text": [
            "{(6, 36), (8, 64), (4, 16), (5, 25), (3, 9), (7, 49), (2, 4)}\n"
          ],
          "name": "stdout"
        }
      ]
    },
    {
      "cell_type": "code",
      "metadata": {
        "colab": {
          "base_uri": "https://localhost:8080/"
        },
        "id": "mpYxkTTPKeTC",
        "outputId": "d25583d9-1cf2-43a5-fe02-53a790a90d26"
      },
      "source": [
        "# Given a two sets find the intersection and remove those elements from the first set\r\n",
        "\r\n",
        "firstSet  = {23, 42, 65, 57, 78, 83, 29}\r\n",
        "secondSet = {57, 83, 29, 67, 73, 43, 48}\r\n",
        "\r\n",
        "intersection = firstSet.intersection(secondSet)\r\n",
        "for item in intersection:\r\n",
        "  firstSet.remove(item)\r\n",
        "print(\"First Set after removing common element \", firstSet)"
      ],
      "execution_count": 78,
      "outputs": [
        {
          "output_type": "stream",
          "text": [
            "First Set after removing common element  {65, 42, 78, 23}\n"
          ],
          "name": "stdout"
        }
      ]
    },
    {
      "cell_type": "code",
      "metadata": {
        "colab": {
          "base_uri": "https://localhost:8080/"
        },
        "id": "QWBAKvSGKrhM",
        "outputId": "c68a10d2-763f-4dc4-a40e-ddbfc872ffd2"
      },
      "source": [
        "# Given a dictionary get all values from the dictionary and add it in a list but don’t add duplicates\r\n",
        "speed  ={'jan':47, 'feb':52, 'march':47, 'April':44, 'May':52, 'June':53,\r\n",
        "          'july':54, 'Aug':44, 'Sept':54} \r\n",
        "\r\n",
        "speedList = []\r\n",
        "\r\n",
        "for item in speed.values():\r\n",
        "  if item not in speedList:\r\n",
        "    speedList.append(item)\r\n",
        "print(\"unique list\", speedList)"
      ],
      "execution_count": 79,
      "outputs": [
        {
          "output_type": "stream",
          "text": [
            "unique list [47, 52, 44, 53, 54]\n"
          ],
          "name": "stdout"
        }
      ]
    },
    {
      "cell_type": "code",
      "metadata": {
        "colab": {
          "base_uri": "https://localhost:8080/"
        },
        "id": "ornCCtbZLBP0",
        "outputId": "12ab1df3-83fb-4a37-d059-c2a0e612435a"
      },
      "source": [
        "# Convert decimal number to octal\r\n",
        "print('%o,' % (8))"
      ],
      "execution_count": 80,
      "outputs": [
        {
          "output_type": "stream",
          "text": [
            "10,\n"
          ],
          "name": "stdout"
        }
      ]
    },
    {
      "cell_type": "code",
      "metadata": {
        "colab": {
          "base_uri": "https://localhost:8080/"
        },
        "id": "qTg6M-y4LN4J",
        "outputId": "731beaff-8a72-4a7b-e31a-5281c699e4f3"
      },
      "source": [
        "# Convert string into a datetime object\r\n",
        "\r\n",
        "from datetime import datetime\r\n",
        "date_string = \"Feb 25 2020  4:20PM\"\r\n",
        "datetime_object = datetime.strptime(date_string, '%b %d %Y %I:%M%p')\r\n",
        "print(datetime_object)"
      ],
      "execution_count": 81,
      "outputs": [
        {
          "output_type": "stream",
          "text": [
            "2020-02-25 16:20:00\n"
          ],
          "name": "stdout"
        }
      ]
    },
    {
      "cell_type": "code",
      "metadata": {
        "colab": {
          "base_uri": "https://localhost:8080/"
        },
        "id": "lPM3hzdzLU0t",
        "outputId": "655222b3-8ae0-4ef5-a2ae-1dcbd0992db0"
      },
      "source": [
        "# Subtract a week from a given date\r\n",
        "\r\n",
        "from datetime import datetime, timedelta\r\n",
        "given_date = datetime(2020, 2, 25)\r\n",
        "days_to_subtract = 7\r\n",
        "res_date = given_date - timedelta(days=days_to_subtract)\r\n",
        "print(res_date)"
      ],
      "execution_count": 82,
      "outputs": [
        {
          "output_type": "stream",
          "text": [
            "2020-02-18 00:00:00\n"
          ],
          "name": "stdout"
        }
      ]
    },
    {
      "cell_type": "code",
      "metadata": {
        "colab": {
          "base_uri": "https://localhost:8080/"
        },
        "id": "J5QIXtXxLfKr",
        "outputId": "f3e7c639-7e06-49fe-d40f-3a8f82d9d0d3"
      },
      "source": [
        "# Find the day of week of a given date?\r\n",
        "from datetime import datetime\r\n",
        "given_date = datetime(2020, 7, 26)\r\n",
        "print(given_date.strftime('%A'))"
      ],
      "execution_count": 83,
      "outputs": [
        {
          "output_type": "stream",
          "text": [
            "Sunday\n"
          ],
          "name": "stdout"
        }
      ]
    },
    {
      "cell_type": "code",
      "metadata": {
        "colab": {
          "base_uri": "https://localhost:8080/"
        },
        "id": "1g_XYabuLt2B",
        "outputId": "ce6ac828-a68b-4c05-f74c-60cc5c8ea3f3"
      },
      "source": [
        "#  Add week (7 days) and 12 hours to a given date\r\n",
        "\r\n",
        "from datetime import datetime, timedelta\r\n",
        "given_date = datetime(2020, 3, 22, 10, 00, 00)\r\n",
        "days_to_add = 7\r\n",
        "res_date = given_date + timedelta(days=days_to_add, hours=12)\r\n",
        "print(res_date)"
      ],
      "execution_count": 84,
      "outputs": [
        {
          "output_type": "stream",
          "text": [
            "2020-03-29 22:00:00\n"
          ],
          "name": "stdout"
        }
      ]
    },
    {
      "cell_type": "code",
      "metadata": {
        "colab": {
          "base_uri": "https://localhost:8080/"
        },
        "id": "pxaqppksL381",
        "outputId": "b4a8ed64-0d90-4de7-e039-17e07e7a2587"
      },
      "source": [
        "# Calculate number of days between two given dates\r\n",
        "\r\n",
        "from datetime import datetime\r\n",
        "\r\n",
        "date_1 = datetime(2020, 2, 25).date()\r\n",
        "date_2 = datetime(2020, 9, 17).date()\r\n",
        "delta = None\r\n",
        "if date_1 > date_2:\r\n",
        "    delta = date_1 - date_2\r\n",
        "else:\r\n",
        "    delta = date_2 - date_1\r\n",
        "print(\"Difference is\", delta.days, \"days\")"
      ],
      "execution_count": 85,
      "outputs": [
        {
          "output_type": "stream",
          "text": [
            "Difference is 205 days\n"
          ],
          "name": "stdout"
        }
      ]
    },
    {
      "cell_type": "code",
      "metadata": {
        "colab": {
          "base_uri": "https://localhost:8080/"
        },
        "id": "YOvpIUtKMIuJ",
        "outputId": "f3454910-c3db-4264-efc9-33cd5f9533df"
      },
      "source": [
        "# Write a recursive function to calculate the sum of numbers from 0 to 10\r\n",
        "\r\n",
        "def calculateSum(num):\r\n",
        "    if num:\r\n",
        "        return num + calculateSum(num-1)\r\n",
        "    else:\r\n",
        "        return 0\r\n",
        "res = calculateSum(10)\r\n",
        "print(res)"
      ],
      "execution_count": 86,
      "outputs": [
        {
          "output_type": "stream",
          "text": [
            "55\n"
          ],
          "name": "stdout"
        }
      ]
    },
    {
      "cell_type": "code",
      "metadata": {
        "colab": {
          "base_uri": "https://localhost:8080/"
        },
        "id": "P0BA3kcvMVo3",
        "outputId": "4e5baf01-8eae-40d5-8bf0-41d585378cd0"
      },
      "source": [
        "#  Generate a Python list of all the even numbers between two given numbers\r\n",
        "num1 = 4\r\n",
        "num2 = 30\r\n",
        "myval = [i for i in range(num1, num2, 2)]\r\n",
        "print(myval)"
      ],
      "execution_count": 87,
      "outputs": [
        {
          "output_type": "stream",
          "text": [
            "[4, 6, 8, 10, 12, 14, 16, 18, 20, 22, 24, 26, 28]\n"
          ],
          "name": "stdout"
        }
      ]
    },
    {
      "cell_type": "code",
      "metadata": {
        "colab": {
          "base_uri": "https://localhost:8080/"
        },
        "id": "sc1Q89nzMixF",
        "outputId": "841ba0ef-651c-4d91-aa68-47e41b8f9cac"
      },
      "source": [
        "# Return the largest item from the given list\r\n",
        "aList = [4, 6, 8, 24, 12, 2]\r\n",
        "print(max(aList))"
      ],
      "execution_count": 88,
      "outputs": [
        {
          "output_type": "stream",
          "text": [
            "24\n"
          ],
          "name": "stdout"
        }
      ]
    },
    {
      "cell_type": "code",
      "metadata": {
        "colab": {
          "base_uri": "https://localhost:8080/"
        },
        "id": "nqIasXLRMq89",
        "outputId": "5d463e80-2457-43f3-8af7-8a9706d327d0"
      },
      "source": [
        "# Write a program to extract each digit from an integer, in the reverse order\r\n",
        "number = 7536\r\n",
        "while (number > 0):\r\n",
        "    digit = number % 10\r\n",
        "    number = number // 10\r\n",
        "    print(digit, end=\" \")"
      ],
      "execution_count": 89,
      "outputs": [
        {
          "output_type": "stream",
          "text": [
            "6 3 5 7 "
          ],
          "name": "stdout"
        }
      ]
    },
    {
      "cell_type": "code",
      "metadata": {
        "colab": {
          "base_uri": "https://localhost:8080/"
        },
        "id": "nlv9kMXbNA28",
        "outputId": "b5aa106d-d060-49fa-b1b5-53d00b4fc104"
      },
      "source": [
        "#  Given a Python list, remove all occurrence of a given number from the list\r\n",
        "num1 = 20\r\n",
        "list1 = [5, 20, 15, 20, 25, 50, 20]\r\n",
        "\r\n",
        "def removeValue(sampleList, val):\r\n",
        "   return [value for value in sampleList if value != val]\r\n",
        "resList = removeValue(list1, num1)\r\n",
        "print(resList)"
      ],
      "execution_count": 90,
      "outputs": [
        {
          "output_type": "stream",
          "text": [
            "[5, 15, 25, 50]\n"
          ],
          "name": "stdout"
        }
      ]
    },
    {
      "cell_type": "code",
      "metadata": {
        "colab": {
          "base_uri": "https://localhost:8080/"
        },
        "id": "KJ3kt7R9NxAb",
        "outputId": "88cb0509-4674-4209-cdc8-dbe8ef067919"
      },
      "source": [
        "# Shuffle a list randomly\r\n",
        "import random\r\n",
        "list = [2,5,8,9,12]\r\n",
        "random.shuffle(list)\r\n",
        "print (\"Printing shuffled list \", list)"
      ],
      "execution_count": 91,
      "outputs": [
        {
          "output_type": "stream",
          "text": [
            "Printing shuffled list  [8, 9, 5, 12, 2]\n"
          ],
          "name": "stdout"
        }
      ]
    },
    {
      "cell_type": "code",
      "metadata": {
        "colab": {
          "base_uri": "https://localhost:8080/"
        },
        "id": "tDvmqNpzR_nE",
        "outputId": "205705eb-d138-4003-bfdf-6c18def3bf4d"
      },
      "source": [
        "# Generate a random n-dimensional array of float numbers\r\n",
        "\r\n",
        "import numpy\r\n",
        "random_float_array = numpy.random.rand(2, 2)\r\n",
        "print(\"2 X 2 random float array in [0.0, 1.0] \\n\", random_float_array,\"\\n\")"
      ],
      "execution_count": 92,
      "outputs": [
        {
          "output_type": "stream",
          "text": [
            "2 X 2 random float array in [0.0, 1.0] \n",
            " [[0.20471042 0.38995623]\n",
            " [0.80304009 0.00440932]] \n",
            "\n"
          ],
          "name": "stdout"
        }
      ]
    },
    {
      "cell_type": "code",
      "metadata": {
        "colab": {
          "base_uri": "https://localhost:8080/"
        },
        "id": "VY-a_-kySJwm",
        "outputId": "c75d9b03-6bfa-4c12-bfe1-4eb042b64a0c"
      },
      "source": [
        "# Generate random Universally unique IDs\r\n",
        "import uuid\r\n",
        "safeId = uuid.uuid4()\r\n",
        "print(\"safe unique id is \", safeId)"
      ],
      "execution_count": 93,
      "outputs": [
        {
          "output_type": "stream",
          "text": [
            "safe unique id is  9e5b03f2-8ad1-4349-a063-8593ad1ce02f\n"
          ],
          "name": "stdout"
        }
      ]
    },
    {
      "cell_type": "code",
      "metadata": {
        "colab": {
          "base_uri": "https://localhost:8080/"
        },
        "id": "kIEl4NwfSada",
        "outputId": "85be82ab-5341-4406-a74f-48d1dfcc4f00"
      },
      "source": [
        "# Choose given number of elements from the list with different probability\r\n",
        "\r\n",
        "import random\r\n",
        "num1 =5\r\n",
        "numberList = [111, 222, 333, 444, 555]\r\n",
        "print(random.choices(numberList, weights=(10, 20, 30, 40, 50), k=num1))"
      ],
      "execution_count": 94,
      "outputs": [
        {
          "output_type": "stream",
          "text": [
            "[555, 111, 555, 444, 555]\n"
          ],
          "name": "stdout"
        }
      ]
    },
    {
      "cell_type": "code",
      "metadata": {
        "colab": {
          "base_uri": "https://localhost:8080/"
        },
        "id": "A6s7z4VsSoLl",
        "outputId": "d55b185c-14bb-46e4-d1fd-a87a6a7eb5d6"
      },
      "source": [
        "# Generate weighted random numbers\r\n",
        "\r\n",
        "import random\r\n",
        "randomList = random.choices(range(10, 40, 5), cum_weights=(5, 15, 10, 25, 40, 65), k=6)\r\n",
        "print(randomList)"
      ],
      "execution_count": 95,
      "outputs": [
        {
          "output_type": "stream",
          "text": [
            "[35, 30, 25, 35, 35, 30]\n"
          ],
          "name": "stdout"
        }
      ]
    },
    {
      "cell_type": "code",
      "metadata": {
        "colab": {
          "base_uri": "https://localhost:8080/"
        },
        "id": "eQ74NzcES2-X",
        "outputId": "53d7f128-962c-45e7-b725-48f6916f5da2"
      },
      "source": [
        "# generating a reliable secure random number\r\n",
        "\r\n",
        "import secrets\r\n",
        "print(\"Random integer number generated using secrets module is \")\r\n",
        "number = secrets.randbelow(30)\r\n",
        "print(number)"
      ],
      "execution_count": 96,
      "outputs": [
        {
          "output_type": "stream",
          "text": [
            "Random integer number generated using secrets module is \n",
            "8\n"
          ],
          "name": "stdout"
        }
      ]
    },
    {
      "cell_type": "code",
      "metadata": {
        "colab": {
          "base_uri": "https://localhost:8080/"
        },
        "id": "OY1SGjR-TI1V",
        "outputId": "c7640464-594d-4c17-f97d-10fe37aea035"
      },
      "source": [
        "# Calculate memory is being used by an list in Python\r\n",
        "import sys\r\n",
        "list1 = ['Scott', 'Eric', 'Kelly', 'Emma', 'Smith']\r\n",
        "print(\"size of list = \",sys.getsizeof(list1))"
      ],
      "execution_count": 97,
      "outputs": [
        {
          "output_type": "stream",
          "text": [
            "size of list =  104\n"
          ],
          "name": "stdout"
        }
      ]
    },
    {
      "cell_type": "code",
      "metadata": {
        "colab": {
          "base_uri": "https://localhost:8080/"
        },
        "id": "UmJhGrmlTYH9",
        "outputId": "bee45bfd-db32-4d01-dd31-c760dae5219c"
      },
      "source": [
        "# Find if all elements in a list are identical\r\n",
        "listOne = [20, 20, 20, 20]\r\n",
        "print(\"All element are duplicate in listOne:\", listOne.count(listOne[0]) == len(listOne))"
      ],
      "execution_count": 98,
      "outputs": [
        {
          "output_type": "stream",
          "text": [
            "All element are duplicate in listOne: True\n"
          ],
          "name": "stdout"
        }
      ]
    },
    {
      "cell_type": "code",
      "metadata": {
        "colab": {
          "base_uri": "https://localhost:8080/"
        },
        "id": "a_knszkUTlBP",
        "outputId": "056aaf39-70df-4500-9623-aa9aaf5d6c35"
      },
      "source": [
        "# Merge two dictionaries in a single expression\r\n",
        "currentEmployee = {1: 'Scott', 2: \"Eric\", 3:\"Kelly\"}\r\n",
        "formerEmployee  = {2: 'Eric', 4: \"Emma\"}\r\n",
        "allEmployee = {**currentEmployee, **formerEmployee}\r\n",
        "print(allEmployee)"
      ],
      "execution_count": 99,
      "outputs": [
        {
          "output_type": "stream",
          "text": [
            "{1: 'Scott', 2: 'Eric', 3: 'Kelly', 4: 'Emma'}\n"
          ],
          "name": "stdout"
        }
      ]
    },
    {
      "cell_type": "code",
      "metadata": {
        "colab": {
          "base_uri": "https://localhost:8080/"
        },
        "id": "bnHLDrNSTtqp",
        "outputId": "eb5dd426-80f5-4566-9395-1f7dccf93dd8"
      },
      "source": [
        "# Convert two lists into a dictionary\r\n",
        "ItemId = [54, 65, 76]\r\n",
        "names = [\"Hard Disk\", \"Laptop\", \"RAM\"]\r\n",
        "itemDictionary = dict(zip(ItemId, names))\r\n",
        "print(itemDictionary)"
      ],
      "execution_count": 100,
      "outputs": [
        {
          "output_type": "stream",
          "text": [
            "{54: 'Hard Disk', 65: 'Laptop', 76: 'RAM'}\n"
          ],
          "name": "stdout"
        }
      ]
    }
  ]
}